{
 "cells": [
  {
   "cell_type": "code",
   "execution_count": null,
   "id": "c5fe5a17-8d66-4d10-abc6-740ab46801a2",
   "metadata": {},
   "outputs": [],
   "source": [
    "def extract_and_process_detections(self, detections):         \n",
    "    \"\"\"         Extract and process tracks detected by YOLOWorld and validated by the YOLO model.         \n",
    "    Args:         detections (list): List of detected objects from YOLOWorld.         \n",
    "    \"\"\"         \n",
    "    # Extract bounding boxes, classes, and track IDs from YOLOWorld results         \n",
    "    boxes = detections[0].boxes.xyxy.cpu()        \n",
    "    clss = detections[0].boxes.cls.cpu().tolist()        \n",
    "\n",
    "    # Initialize annotators for YOLOWorld and validation model         \n",
    "    self.annotator = Annotator(self.im0, self.tf, self.names)         \n",
    "    self.val_annotator = Annotator(self.frame0, self.tf, self.val_names)         \n",
    "\n",
    "    # Iterate through each detected object         \n",
    "    for i, (box, cls) in enumerate(zip(boxes, clss), start=1):             \n",
    "        # Increment detection count             \n",
    "        self.detection_count += 1             \n",
    "\n",
    "        # Draw bounding box and label for each detected object             \n",
    "        self.annotator.box_label(box, label=f\"{int(cls)}:{self.names[cls]}\", color=(colors(int(cls), True)))             \n",
    "        class_name = self.names[cls]             \n",
    "        \n",
    "        if class_name == 'circular pool beside house in a yard':  \n",
    "            \n",
    "            # Replace 'pool' with the exact class name                 \n",
    "            self.pool_detections.append(self.image_id)             \n",
    "            \n",
    "            if not self.false_positive(cls, box):                 \n",
    "                \n",
    "                # Draw the confirmed bounding box on the validated image                 \n",
    "                self.val_annotator.box_label(box, label=f\"{int(cls)}:{self.names[cls]}\",                                              \n",
    "                                             color=(0, 255, 0))             \n",
    "            else:                 \n",
    "                # Save false positive image and label                 \n",
    "                self.save_false_positive(self.frame0, box, cls)         \n",
    "                self.save_images()         \n",
    "                \n",
    "                if self.view_img:             \n",
    "                    #cv2.imshow(\"Validation Results\", self.frame0)  # Display validated results             \n",
    "                    pass"
   ]
  },
  {
   "cell_type": "code",
   "execution_count": null,
   "id": "32efe00e-91bd-46ec-9341-61dd72e6f7a1",
   "metadata": {},
   "outputs": [],
   "source": []
  }
 ],
 "metadata": {
  "kernelspec": {
   "display_name": "Python 3 (ipykernel)",
   "language": "python",
   "name": "python3"
  },
  "language_info": {
   "codemirror_mode": {
    "name": "ipython",
    "version": 3
   },
   "file_extension": ".py",
   "mimetype": "text/x-python",
   "name": "python",
   "nbconvert_exporter": "python",
   "pygments_lexer": "ipython3",
   "version": "3.10.12"
  }
 },
 "nbformat": 4,
 "nbformat_minor": 5
}
