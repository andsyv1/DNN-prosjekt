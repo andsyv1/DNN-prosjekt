{
 "cells": [
  {
   "cell_type": "code",
   "execution_count": 2,
   "id": "471388a0-0ec7-42e2-9aa9-1e96f0c8f96e",
   "metadata": {},
   "outputs": [
    {
     "ename": "FileNotFoundError",
     "evalue": "[Errno 2] No such file or directory: './classification_data/train/images/fish_17/fish_000023950001_02301.png'",
     "output_type": "error",
     "traceback": [
      "\u001b[0;31m---------------------------------------------------------------------------\u001b[0m",
      "\u001b[0;31mFileNotFoundError\u001b[0m                         Traceback (most recent call last)",
      "Cell \u001b[0;32mIn[2], line 64\u001b[0m\n\u001b[1;32m     61\u001b[0m output_folder \u001b[38;5;241m=\u001b[39m \u001b[38;5;124m'\u001b[39m\u001b[38;5;124m./classification_data/\u001b[39m\u001b[38;5;124m'\u001b[39m   \u001b[38;5;66;03m# Path where you want the splits to be stored\u001b[39;00m\n\u001b[1;32m     63\u001b[0m \u001b[38;5;66;03m# Call the function with default split sizes (70% train, 15% val, 15% test)\u001b[39;00m\n\u001b[0;32m---> 64\u001b[0m \u001b[43msplit_data\u001b[49m\u001b[43m(\u001b[49m\u001b[43moriginal_folder\u001b[49m\u001b[43m,\u001b[49m\u001b[43m \u001b[49m\u001b[43moutput_folder\u001b[49m\u001b[43m)\u001b[49m\n",
      "Cell \u001b[0;32mIn[2], line 49\u001b[0m, in \u001b[0;36msplit_data\u001b[0;34m(original_folder, output_folder, train_size, val_size, test_size)\u001b[0m\n\u001b[1;32m     47\u001b[0m \u001b[38;5;28;01mfor\u001b[39;00m src \u001b[38;5;129;01min\u001b[39;00m train_files:\n\u001b[1;32m     48\u001b[0m     dst \u001b[38;5;241m=\u001b[39m os\u001b[38;5;241m.\u001b[39mpath\u001b[38;5;241m.\u001b[39mjoin(output_folder, \u001b[38;5;124m'\u001b[39m\u001b[38;5;124mtrain\u001b[39m\u001b[38;5;124m'\u001b[39m, \u001b[38;5;124m'\u001b[39m\u001b[38;5;124mimages\u001b[39m\u001b[38;5;124m'\u001b[39m, class_name, os\u001b[38;5;241m.\u001b[39mpath\u001b[38;5;241m.\u001b[39mbasename(src))\n\u001b[0;32m---> 49\u001b[0m     \u001b[43mshutil\u001b[49m\u001b[38;5;241;43m.\u001b[39;49m\u001b[43mcopyfile\u001b[49m\u001b[43m(\u001b[49m\u001b[43msrc\u001b[49m\u001b[43m,\u001b[49m\u001b[43m \u001b[49m\u001b[43mdst\u001b[49m\u001b[43m)\u001b[49m\n\u001b[1;32m     50\u001b[0m \u001b[38;5;28;01mfor\u001b[39;00m src \u001b[38;5;129;01min\u001b[39;00m val_files:\n\u001b[1;32m     51\u001b[0m     dst \u001b[38;5;241m=\u001b[39m os\u001b[38;5;241m.\u001b[39mpath\u001b[38;5;241m.\u001b[39mjoin(output_folder, \u001b[38;5;124m'\u001b[39m\u001b[38;5;124mval\u001b[39m\u001b[38;5;124m'\u001b[39m, \u001b[38;5;124m'\u001b[39m\u001b[38;5;124mimages\u001b[39m\u001b[38;5;124m'\u001b[39m, class_name, os\u001b[38;5;241m.\u001b[39mpath\u001b[38;5;241m.\u001b[39mbasename(src))\n",
      "File \u001b[0;32m/usr/lib/python3.10/shutil.py:256\u001b[0m, in \u001b[0;36mcopyfile\u001b[0;34m(src, dst, follow_symlinks)\u001b[0m\n\u001b[1;32m    254\u001b[0m \u001b[38;5;28;01mwith\u001b[39;00m \u001b[38;5;28mopen\u001b[39m(src, \u001b[38;5;124m'\u001b[39m\u001b[38;5;124mrb\u001b[39m\u001b[38;5;124m'\u001b[39m) \u001b[38;5;28;01mas\u001b[39;00m fsrc:\n\u001b[1;32m    255\u001b[0m     \u001b[38;5;28;01mtry\u001b[39;00m:\n\u001b[0;32m--> 256\u001b[0m         \u001b[38;5;28;01mwith\u001b[39;00m \u001b[38;5;28;43mopen\u001b[39;49m\u001b[43m(\u001b[49m\u001b[43mdst\u001b[49m\u001b[43m,\u001b[49m\u001b[43m \u001b[49m\u001b[38;5;124;43m'\u001b[39;49m\u001b[38;5;124;43mwb\u001b[39;49m\u001b[38;5;124;43m'\u001b[39;49m\u001b[43m)\u001b[49m \u001b[38;5;28;01mas\u001b[39;00m fdst:\n\u001b[1;32m    257\u001b[0m             \u001b[38;5;66;03m# macOS\u001b[39;00m\n\u001b[1;32m    258\u001b[0m             \u001b[38;5;28;01mif\u001b[39;00m _HAS_FCOPYFILE:\n\u001b[1;32m    259\u001b[0m                 \u001b[38;5;28;01mtry\u001b[39;00m:\n",
      "\u001b[0;31mFileNotFoundError\u001b[0m: [Errno 2] No such file or directory: './classification_data/train/images/fish_17/fish_000023950001_02301.png'"
     ]
    }
   ],
   "source": [
    "import os\n",
    "import shutil\n",
    "from sklearn.model_selection import train_test_split\n",
    "\n",
    "def split_data(original_folder, output_folder, train_size=0.7, val_size=0.15, test_size=0.15):\n",
    "    \"\"\"\n",
    "    Splits data into training, validation, and testing sets while preserving class subfolders.\n",
    "\n",
    "    Parameters:\n",
    "    - original_folder: Path to the original dataset folder.\n",
    "    - output_folder: Path to the output folder where the splits will be stored.\n",
    "    - train_size: Proportion of data to include in the training set.\n",
    "    - val_size: Proportion of data to include in the validation set.\n",
    "    - test_size: Proportion of data to include in the testing set.\n",
    "\n",
    "    The sum of train_size, val_size, and test_size must equal 1.0.\n",
    "    \"\"\"\n",
    "    # Ensure the split sizes sum to 1.0\n",
    "    assert abs(train_size + val_size + test_size - 1.0) < 1e-6, \"Split sizes must sum to 1.0\"\n",
    "\n",
    "    # Get class names from the subfolders in the original dataset\n",
    "    class_names = [d for d in os.listdir(original_folder) if os.path.isdir(os.path.join(original_folder, d))]\n",
    "\n",
    "    # Create directories for splits\n",
    "    for split in ['train', 'val', 'test']:\n",
    "        split_path = os.path.join(output_folder, split)\n",
    "        os.makedirs(split_path, exist_ok=True)\n",
    "        for class_name in class_names:\n",
    "            os.makedirs(os.path.join(split_path, class_name), exist_ok=True)\n",
    "\n",
    "    # Process each class separately\n",
    "    for class_name in class_names:\n",
    "        class_path = os.path.join(original_folder, class_name)\n",
    "        files = [f for f in os.listdir(class_path) if os.path.isfile(os.path.join(class_path, f))]\n",
    "        file_paths = [os.path.join(class_path, f) for f in files]\n",
    "\n",
    "        # Split files for test set\n",
    "        train_val_files, test_files = train_test_split(\n",
    "            file_paths, test_size=test_size, random_state=42\n",
    "        )\n",
    "        # Further split for validation set\n",
    "        train_files, val_files = train_test_split(\n",
    "            train_val_files, test_size=val_size / (train_size + val_size), random_state=42\n",
    "        )\n",
    "\n",
    "        # Copy files to respective folders\n",
    "        for src in train_files:\n",
    "            dst = os.path.join(output_folder, 'train', 'images', class_name, os.path.basename(src))\n",
    "            shutil.copyfile(src, dst)\n",
    "        for src in val_files:\n",
    "            dst = os.path.join(output_folder, 'val', 'images', class_name, os.path.basename(src))\n",
    "            shutil.copyfile(src, dst)\n",
    "        for src in test_files:\n",
    "            dst = os.path.join(output_folder, 'test', 'images', class_name, os.path.basename(src))\n",
    "            shutil.copyfile(src, dst)\n",
    "\n",
    "    print(\"Data successfully split into training, validation, and testing sets.\")\n",
    "\n",
    "# Replace these paths with your actual paths\n",
    "original_folder = './classification_data/images'      # Path to your original dataset folder\n",
    "output_folder = './classification_data/'   # Path where you want the splits to be stored\n",
    "\n",
    "# Call the function with default split sizes (70% train, 15% val, 15% test)\n",
    "split_data(original_folder, output_folder)\n"
   ]
  },
  {
   "cell_type": "code",
   "execution_count": null,
   "id": "c17d2bf4-a588-4182-8b27-915820a0bfce",
   "metadata": {},
   "outputs": [],
   "source": []
  }
 ],
 "metadata": {
  "kernelspec": {
   "display_name": "Python 3 (ipykernel)",
   "language": "python",
   "name": "python3"
  },
  "language_info": {
   "codemirror_mode": {
    "name": "ipython",
    "version": 3
   },
   "file_extension": ".py",
   "mimetype": "text/x-python",
   "name": "python",
   "nbconvert_exporter": "python",
   "pygments_lexer": "ipython3",
   "version": "3.10.12"
  }
 },
 "nbformat": 4,
 "nbformat_minor": 5
}
