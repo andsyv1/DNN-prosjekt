{
 "cells": [
  {
   "cell_type": "code",
   "execution_count": 1,
   "id": "1a5182ef-d7a8-4765-8172-b99d68a0a8f6",
   "metadata": {
    "scrolled": true
   },
   "outputs": [
    {
     "name": "stdout",
     "output_type": "stream",
     "text": [
      "Defaulting to user installation because normal site-packages is not writeable\n",
      "Looking in indexes: https://pypi.org/simple, https://pypi.ngc.nvidia.com\n",
      "Requirement already satisfied: ultralytics in /home/anderste/.local/lib/python3.10/site-packages (8.3.23)\n",
      "Requirement already satisfied: numpy>=1.23.0 in /usr/local/lib/python3.10/dist-packages (from ultralytics) (1.24.4)\n",
      "Requirement already satisfied: matplotlib>=3.3.0 in /home/anderste/.local/lib/python3.10/site-packages (from ultralytics) (3.8.2)\n",
      "Requirement already satisfied: opencv-python>=4.6.0 in /home/anderste/.local/lib/python3.10/site-packages (from ultralytics) (4.9.0.80)\n",
      "Requirement already satisfied: pillow>=7.1.2 in /usr/local/lib/python3.10/dist-packages (from ultralytics) (10.2.0)\n",
      "Requirement already satisfied: pyyaml>=5.3.1 in /usr/local/lib/python3.10/dist-packages (from ultralytics) (6.0.1)\n",
      "Requirement already satisfied: requests>=2.23.0 in /usr/local/lib/python3.10/dist-packages (from ultralytics) (2.31.0)\n",
      "Requirement already satisfied: scipy>=1.4.1 in /usr/local/lib/python3.10/dist-packages (from ultralytics) (1.12.0)\n",
      "Requirement already satisfied: torch>=1.8.0 in /home/anderste/.local/lib/python3.10/site-packages (from ultralytics) (2.2.0)\n",
      "Requirement already satisfied: torchvision>=0.9.0 in /home/anderste/.local/lib/python3.10/site-packages (from ultralytics) (0.17.0)\n",
      "Requirement already satisfied: tqdm>=4.64.0 in /home/anderste/.local/lib/python3.10/site-packages (from ultralytics) (4.66.1)\n",
      "Requirement already satisfied: psutil in /usr/local/lib/python3.10/dist-packages (from ultralytics) (5.9.4)\n",
      "Requirement already satisfied: py-cpuinfo in /home/anderste/.local/lib/python3.10/site-packages (from ultralytics) (9.0.0)\n",
      "Requirement already satisfied: pandas>=1.1.4 in /usr/local/lib/python3.10/dist-packages (from ultralytics) (1.5.3)\n",
      "Requirement already satisfied: seaborn>=0.11.0 in /home/anderste/.local/lib/python3.10/site-packages (from ultralytics) (0.13.2)\n",
      "Requirement already satisfied: ultralytics-thop>=2.0.0 in /home/anderste/.local/lib/python3.10/site-packages (from ultralytics) (2.0.9)\n",
      "Requirement already satisfied: contourpy>=1.0.1 in /home/anderste/.local/lib/python3.10/site-packages (from matplotlib>=3.3.0->ultralytics) (1.2.0)\n",
      "Requirement already satisfied: cycler>=0.10 in /home/anderste/.local/lib/python3.10/site-packages (from matplotlib>=3.3.0->ultralytics) (0.12.1)\n",
      "Requirement already satisfied: fonttools>=4.22.0 in /home/anderste/.local/lib/python3.10/site-packages (from matplotlib>=3.3.0->ultralytics) (4.48.1)\n",
      "Requirement already satisfied: kiwisolver>=1.3.1 in /home/anderste/.local/lib/python3.10/site-packages (from matplotlib>=3.3.0->ultralytics) (1.4.5)\n",
      "Requirement already satisfied: packaging>=20.0 in /usr/local/lib/python3.10/dist-packages (from matplotlib>=3.3.0->ultralytics) (23.2)\n",
      "Requirement already satisfied: pyparsing>=2.3.1 in /usr/local/lib/python3.10/dist-packages (from matplotlib>=3.3.0->ultralytics) (3.1.1)\n",
      "Requirement already satisfied: python-dateutil>=2.7 in /usr/local/lib/python3.10/dist-packages (from matplotlib>=3.3.0->ultralytics) (2.8.2)\n",
      "Requirement already satisfied: pytz>=2020.1 in /usr/local/lib/python3.10/dist-packages (from pandas>=1.1.4->ultralytics) (2023.3.post1)\n",
      "Requirement already satisfied: charset-normalizer<4,>=2 in /usr/local/lib/python3.10/dist-packages (from requests>=2.23.0->ultralytics) (3.3.2)\n",
      "Requirement already satisfied: idna<4,>=2.5 in /usr/local/lib/python3.10/dist-packages (from requests>=2.23.0->ultralytics) (3.6)\n",
      "Requirement already satisfied: urllib3<3,>=1.21.1 in /usr/local/lib/python3.10/dist-packages (from requests>=2.23.0->ultralytics) (1.26.18)\n",
      "Requirement already satisfied: certifi>=2017.4.17 in /usr/local/lib/python3.10/dist-packages (from requests>=2.23.0->ultralytics) (2023.11.17)\n",
      "Requirement already satisfied: filelock in /home/anderste/.local/lib/python3.10/site-packages (from torch>=1.8.0->ultralytics) (3.13.1)\n",
      "Requirement already satisfied: typing-extensions>=4.8.0 in /home/anderste/.local/lib/python3.10/site-packages (from torch>=1.8.0->ultralytics) (4.9.0)\n",
      "Requirement already satisfied: sympy in /home/anderste/.local/lib/python3.10/site-packages (from torch>=1.8.0->ultralytics) (1.12)\n",
      "Requirement already satisfied: networkx in /usr/local/lib/python3.10/dist-packages (from torch>=1.8.0->ultralytics) (2.6.3)\n",
      "Requirement already satisfied: jinja2 in /usr/local/lib/python3.10/dist-packages (from torch>=1.8.0->ultralytics) (3.1.3)\n",
      "Requirement already satisfied: fsspec in /usr/local/lib/python3.10/dist-packages (from torch>=1.8.0->ultralytics) (2023.12.2)\n",
      "Requirement already satisfied: nvidia-cuda-nvrtc-cu12==12.1.105 in /home/anderste/.local/lib/python3.10/site-packages (from torch>=1.8.0->ultralytics) (12.1.105)\n",
      "Requirement already satisfied: nvidia-cuda-runtime-cu12==12.1.105 in /home/anderste/.local/lib/python3.10/site-packages (from torch>=1.8.0->ultralytics) (12.1.105)\n",
      "Requirement already satisfied: nvidia-cuda-cupti-cu12==12.1.105 in /home/anderste/.local/lib/python3.10/site-packages (from torch>=1.8.0->ultralytics) (12.1.105)\n",
      "Requirement already satisfied: nvidia-cudnn-cu12==8.9.2.26 in /home/anderste/.local/lib/python3.10/site-packages (from torch>=1.8.0->ultralytics) (8.9.2.26)\n",
      "Requirement already satisfied: nvidia-cublas-cu12==12.1.3.1 in /home/anderste/.local/lib/python3.10/site-packages (from torch>=1.8.0->ultralytics) (12.1.3.1)\n",
      "Requirement already satisfied: nvidia-cufft-cu12==11.0.2.54 in /home/anderste/.local/lib/python3.10/site-packages (from torch>=1.8.0->ultralytics) (11.0.2.54)\n",
      "Requirement already satisfied: nvidia-curand-cu12==10.3.2.106 in /home/anderste/.local/lib/python3.10/site-packages (from torch>=1.8.0->ultralytics) (10.3.2.106)\n",
      "Requirement already satisfied: nvidia-cusolver-cu12==11.4.5.107 in /home/anderste/.local/lib/python3.10/site-packages (from torch>=1.8.0->ultralytics) (11.4.5.107)\n",
      "Requirement already satisfied: nvidia-cusparse-cu12==12.1.0.106 in /home/anderste/.local/lib/python3.10/site-packages (from torch>=1.8.0->ultralytics) (12.1.0.106)\n",
      "Requirement already satisfied: nvidia-nccl-cu12==2.19.3 in /home/anderste/.local/lib/python3.10/site-packages (from torch>=1.8.0->ultralytics) (2.19.3)\n",
      "Requirement already satisfied: nvidia-nvtx-cu12==12.1.105 in /home/anderste/.local/lib/python3.10/site-packages (from torch>=1.8.0->ultralytics) (12.1.105)\n",
      "Requirement already satisfied: triton==2.2.0 in /home/anderste/.local/lib/python3.10/site-packages (from torch>=1.8.0->ultralytics) (2.2.0)\n",
      "Requirement already satisfied: nvidia-nvjitlink-cu12 in /home/anderste/.local/lib/python3.10/site-packages (from nvidia-cusolver-cu12==11.4.5.107->torch>=1.8.0->ultralytics) (12.3.101)\n",
      "Requirement already satisfied: six>=1.5 in /usr/local/lib/python3.10/dist-packages (from python-dateutil>=2.7->matplotlib>=3.3.0->ultralytics) (1.16.0)\n",
      "Requirement already satisfied: MarkupSafe>=2.0 in /usr/local/lib/python3.10/dist-packages (from jinja2->torch>=1.8.0->ultralytics) (2.1.4)\n",
      "Requirement already satisfied: mpmath>=0.19 in /home/anderste/.local/lib/python3.10/site-packages (from sympy->torch>=1.8.0->ultralytics) (1.3.0)\n",
      "\n",
      "\u001b[1m[\u001b[0m\u001b[34;49mnotice\u001b[0m\u001b[1;39;49m]\u001b[0m\u001b[39;49m A new release of pip is available: \u001b[0m\u001b[31;49m23.3.2\u001b[0m\u001b[39;49m -> \u001b[0m\u001b[32;49m24.3.1\u001b[0m\n",
      "\u001b[1m[\u001b[0m\u001b[34;49mnotice\u001b[0m\u001b[1;39;49m]\u001b[0m\u001b[39;49m To update, run: \u001b[0m\u001b[32;49mpython -m pip install --upgrade pip\u001b[0m\n"
     ]
    }
   ],
   "source": [
    "!pip install ultralytics"
   ]
  },
  {
   "cell_type": "code",
   "execution_count": 2,
   "id": "a0a6f9b7-04d8-4805-bf3c-b0ce67023e2b",
   "metadata": {},
   "outputs": [
    {
     "name": "stdout",
     "output_type": "stream",
     "text": [
      "Starting training with YAML: ./segmentation.yaml\n",
      "New https://pypi.org/project/ultralytics/8.3.29 available 😃 Update with 'pip install -U ultralytics'\n",
      "Ultralytics 8.3.23 🚀 Python-3.10.12 torch-2.2.0+cu121 CUDA:0 (Tesla V100-SXM3-32GB, 32494MiB)\n",
      "\u001b[34m\u001b[1mengine/trainer: \u001b[0mtask=segment, mode=train, model=weights/yolov8n-seg.pt, data=./segmentation.yaml, epochs=100, time=None, patience=100, batch=120, imgsz=128, save=True, save_period=-1, cache=False, device=None, workers=8, project=None, name=train38, exist_ok=False, pretrained=True, optimizer=auto, verbose=True, seed=0, deterministic=True, single_cls=False, rect=False, cos_lr=False, close_mosaic=10, resume=False, amp=True, fraction=1.0, profile=False, freeze=None, multi_scale=False, overlap_mask=True, mask_ratio=4, dropout=0.0, val=True, split=val, save_json=False, save_hybrid=False, conf=None, iou=0.7, max_det=300, half=False, dnn=False, plots=True, source=None, vid_stride=1, stream_buffer=False, visualize=False, augment=False, agnostic_nms=False, classes=None, retina_masks=False, embed=None, show=False, save_frames=False, save_txt=False, save_conf=False, save_crop=False, show_labels=True, show_conf=True, show_boxes=True, line_width=None, format=torchscript, keras=False, optimize=False, int8=False, dynamic=False, simplify=True, opset=None, workspace=4, nms=False, lr0=0.0001, lrf=0.01, momentum=0.937, weight_decay=0.0005, warmup_epochs=3.0, warmup_momentum=0.8, warmup_bias_lr=0.1, box=7.5, cls=0.5, dfl=1.5, pose=12.0, kobj=1.0, label_smoothing=0.0, nbs=64, hsv_h=0.015, hsv_s=0.7, hsv_v=0.4, degrees=0.0, translate=0.1, scale=0.5, shear=0.0, perspective=0.0, flipud=0.0, fliplr=0.5, bgr=0.0, mosaic=1.0, mixup=0.0, copy_paste=0.0, copy_paste_mode=flip, auto_augment=randaugment, erasing=0.4, crop_fraction=1.0, cfg=None, tracker=botsort.yaml, save_dir=/home/anderste/ikt450-deep-neural-networks/DNN-prosjekt/dataset/runs/segment/train38\n",
      "Overriding model.yaml nc=80 with nc=23\n",
      "\n",
      "                   from  n    params  module                                       arguments                     \n",
      "  0                  -1  1       464  ultralytics.nn.modules.conv.Conv             [3, 16, 3, 2]                 \n",
      "  1                  -1  1      4672  ultralytics.nn.modules.conv.Conv             [16, 32, 3, 2]                \n",
      "  2                  -1  1      7360  ultralytics.nn.modules.block.C2f             [32, 32, 1, True]             \n",
      "  3                  -1  1     18560  ultralytics.nn.modules.conv.Conv             [32, 64, 3, 2]                \n",
      "  4                  -1  2     49664  ultralytics.nn.modules.block.C2f             [64, 64, 2, True]             \n",
      "  5                  -1  1     73984  ultralytics.nn.modules.conv.Conv             [64, 128, 3, 2]               \n",
      "  6                  -1  2    197632  ultralytics.nn.modules.block.C2f             [128, 128, 2, True]           \n",
      "  7                  -1  1    295424  ultralytics.nn.modules.conv.Conv             [128, 256, 3, 2]              \n",
      "  8                  -1  1    460288  ultralytics.nn.modules.block.C2f             [256, 256, 1, True]           \n",
      "  9                  -1  1    164608  ultralytics.nn.modules.block.SPPF            [256, 256, 5]                 \n",
      " 10                  -1  1         0  torch.nn.modules.upsampling.Upsample         [None, 2, 'nearest']          \n",
      " 11             [-1, 6]  1         0  ultralytics.nn.modules.conv.Concat           [1]                           \n",
      " 12                  -1  1    148224  ultralytics.nn.modules.block.C2f             [384, 128, 1]                 \n",
      " 13                  -1  1         0  torch.nn.modules.upsampling.Upsample         [None, 2, 'nearest']          \n",
      " 14             [-1, 4]  1         0  ultralytics.nn.modules.conv.Concat           [1]                           \n",
      " 15                  -1  1     37248  ultralytics.nn.modules.block.C2f             [192, 64, 1]                  \n",
      " 16                  -1  1     36992  ultralytics.nn.modules.conv.Conv             [64, 64, 3, 2]                \n",
      " 17            [-1, 12]  1         0  ultralytics.nn.modules.conv.Concat           [1]                           \n",
      " 18                  -1  1    123648  ultralytics.nn.modules.block.C2f             [192, 128, 1]                 \n",
      " 19                  -1  1    147712  ultralytics.nn.modules.conv.Conv             [128, 128, 3, 2]              \n",
      " 20             [-1, 9]  1         0  ultralytics.nn.modules.conv.Concat           [1]                           \n",
      " 21                  -1  1    493056  ultralytics.nn.modules.block.C2f             [384, 256, 1]                 \n",
      " 22        [15, 18, 21]  1   1008565  ultralytics.nn.modules.head.Segment          [23, 32, 64, [64, 128, 256]]  \n",
      "YOLOv8n-seg summary: 261 layers, 3,268,101 parameters, 3,268,085 gradients, 12.1 GFLOPs\n",
      "\n",
      "Transferred 381/417 items from pretrained weights\n",
      "\u001b[34m\u001b[1mTensorBoard: \u001b[0mStart with 'tensorboard --logdir /home/anderste/ikt450-deep-neural-networks/DNN-prosjekt/dataset/runs/segment/train38', view at http://localhost:6006/\n",
      "Freezing layer 'model.22.dfl.conv.weight'\n",
      "\u001b[34m\u001b[1mAMP: \u001b[0mrunning Automatic Mixed Precision (AMP) checks...\n",
      "\u001b[34m\u001b[1mAMP: \u001b[0mchecks passed ✅\n"
     ]
    },
    {
     "name": "stderr",
     "output_type": "stream",
     "text": [
      "\u001b[34m\u001b[1mtrain: \u001b[0mScanning /home/anderste/ikt450-deep-neural-networks/DNN-prosjekt/segmentation_data_new/train/labels.cache... 13410 images, 5730 backgrounds, 0 corrupt: 100%|██████████| 19140/19140 [00:00<?, ?it/s]\n",
      "\u001b[34m\u001b[1mval: \u001b[0mScanning /home/anderste/ikt450-deep-neural-networks/DNN-prosjekt/segmentation_data_new/val/labels.cache... 609 images, 3503 backgrounds, 0 corrupt: 100%|██████████| 4112/4112 [00:00<?, ?it/s]\n"
     ]
    },
    {
     "name": "stdout",
     "output_type": "stream",
     "text": [
      "Plotting labels to /home/anderste/ikt450-deep-neural-networks/DNN-prosjekt/dataset/runs/segment/train38/labels.jpg... \n",
      "\u001b[34m\u001b[1moptimizer:\u001b[0m 'optimizer=auto' found, ignoring 'lr0=0.0001' and 'momentum=0.937' and determining best 'optimizer', 'lr0' and 'momentum' automatically... \n",
      "\u001b[34m\u001b[1moptimizer:\u001b[0m SGD(lr=0.01, momentum=0.9) with parameter groups 66 weight(decay=0.0), 77 weight(decay=0.0009375), 76 bias(decay=0.0)\n",
      "\u001b[34m\u001b[1mTensorBoard: \u001b[0mmodel graph visualization added ✅\n",
      "Image sizes 128 train, 128 val\n",
      "Using 8 dataloader workers\n",
      "Logging results to \u001b[1m/home/anderste/ikt450-deep-neural-networks/DNN-prosjekt/dataset/runs/segment/train38\u001b[0m\n",
      "Starting training for 100 epochs...\n",
      "\n",
      "      Epoch    GPU_mem   box_loss   seg_loss   cls_loss   dfl_loss  Instances       Size\n"
     ]
    },
    {
     "name": "stderr",
     "output_type": "stream",
     "text": [
      "      1/100      1.44G       1.11      1.694      3.852      1.055         91        128: 100%|██████████| 160/160 [00:42<00:00,  3.72it/s]\n",
      "                 Class     Images  Instances      Box(P          R      mAP50  mAP50-95)     Mask(P          R      mAP50  mAP50-95): 100%|██████████| 18/18 [00:09<00:00,  1.83it/s]"
     ]
    },
    {
     "name": "stdout",
     "output_type": "stream",
     "text": [
      "                   all       4112        614      0.773      0.101     0.0241     0.0171      0.773      0.101     0.0241     0.0166\n"
     ]
    },
    {
     "name": "stderr",
     "output_type": "stream",
     "text": [
      "\n"
     ]
    },
    {
     "name": "stdout",
     "output_type": "stream",
     "text": [
      "\n",
      "      Epoch    GPU_mem   box_loss   seg_loss   cls_loss   dfl_loss  Instances       Size\n"
     ]
    },
    {
     "name": "stderr",
     "output_type": "stream",
     "text": [
      "      2/100      1.47G      1.012      1.402      1.904      1.019        107        128: 100%|██████████| 160/160 [00:42<00:00,  3.79it/s]\n",
      "                 Class     Images  Instances      Box(P          R      mAP50  mAP50-95)     Mask(P          R      mAP50  mAP50-95): 100%|██████████| 18/18 [00:09<00:00,  1.97it/s]\n"
     ]
    },
    {
     "name": "stdout",
     "output_type": "stream",
     "text": [
      "                   all       4112        614      0.699      0.197     0.0552     0.0387      0.699      0.197     0.0552     0.0375\n",
      "\n",
      "      Epoch    GPU_mem   box_loss   seg_loss   cls_loss   dfl_loss  Instances       Size\n"
     ]
    },
    {
     "name": "stderr",
     "output_type": "stream",
     "text": [
      "      3/100      1.35G      1.013      1.402      1.604      1.025        106        128: 100%|██████████| 160/160 [00:42<00:00,  3.75it/s]\n",
      "                 Class     Images  Instances      Box(P          R      mAP50  mAP50-95)     Mask(P          R      mAP50  mAP50-95): 100%|██████████| 18/18 [00:09<00:00,  1.95it/s]\n"
     ]
    },
    {
     "name": "stdout",
     "output_type": "stream",
     "text": [
      "                   all       4112        614      0.592      0.173     0.0598     0.0394      0.592      0.173     0.0598     0.0387\n",
      "\n",
      "      Epoch    GPU_mem   box_loss   seg_loss   cls_loss   dfl_loss  Instances       Size\n"
     ]
    },
    {
     "name": "stderr",
     "output_type": "stream",
     "text": [
      "      4/100      1.48G     0.9876      1.389      1.496      1.021        103        128: 100%|██████████| 160/160 [00:42<00:00,  3.73it/s]\n",
      "                 Class     Images  Instances      Box(P          R      mAP50  mAP50-95)     Mask(P          R      mAP50  mAP50-95): 100%|██████████| 18/18 [00:09<00:00,  1.98it/s]\n"
     ]
    },
    {
     "name": "stdout",
     "output_type": "stream",
     "text": [
      "                   all       4112        614      0.433      0.173     0.0467     0.0348      0.433      0.173     0.0467     0.0319\n",
      "\n",
      "      Epoch    GPU_mem   box_loss   seg_loss   cls_loss   dfl_loss  Instances       Size\n"
     ]
    },
    {
     "name": "stderr",
     "output_type": "stream",
     "text": [
      "      5/100      1.35G     0.9314      1.343      1.397      1.007        101        128: 100%|██████████| 160/160 [00:42<00:00,  3.76it/s]\n",
      "                 Class     Images  Instances      Box(P          R      mAP50  mAP50-95)     Mask(P          R      mAP50  mAP50-95): 100%|██████████| 18/18 [00:09<00:00,  1.96it/s]"
     ]
    },
    {
     "name": "stdout",
     "output_type": "stream",
     "text": [
      "                   all       4112        614       0.59       0.24     0.0625       0.05       0.59       0.24     0.0625     0.0464\n"
     ]
    },
    {
     "name": "stderr",
     "output_type": "stream",
     "text": [
      "\n"
     ]
    },
    {
     "name": "stdout",
     "output_type": "stream",
     "text": [
      "\n",
      "      Epoch    GPU_mem   box_loss   seg_loss   cls_loss   dfl_loss  Instances       Size\n"
     ]
    },
    {
     "name": "stderr",
     "output_type": "stream",
     "text": [
      "      6/100      1.47G     0.8903      1.314      1.328     0.9969        108        128: 100%|██████████| 160/160 [00:42<00:00,  3.75it/s]\n",
      "                 Class     Images  Instances      Box(P          R      mAP50  mAP50-95)     Mask(P          R      mAP50  mAP50-95): 100%|██████████| 18/18 [00:09<00:00,  1.99it/s]"
     ]
    },
    {
     "name": "stdout",
     "output_type": "stream",
     "text": [
      "                   all       4112        614      0.446      0.272     0.0605     0.0463      0.446      0.272     0.0605     0.0396\n"
     ]
    },
    {
     "name": "stderr",
     "output_type": "stream",
     "text": [
      "\n"
     ]
    },
    {
     "name": "stdout",
     "output_type": "stream",
     "text": [
      "\n",
      "      Epoch    GPU_mem   box_loss   seg_loss   cls_loss   dfl_loss  Instances       Size\n"
     ]
    },
    {
     "name": "stderr",
     "output_type": "stream",
     "text": [
      "      7/100      1.34G     0.8622      1.282      1.292     0.9898         71        128: 100%|██████████| 160/160 [00:42<00:00,  3.77it/s]\n",
      "                 Class     Images  Instances      Box(P          R      mAP50  mAP50-95)     Mask(P          R      mAP50  mAP50-95): 100%|██████████| 18/18 [00:09<00:00,  1.95it/s]"
     ]
    },
    {
     "name": "stdout",
     "output_type": "stream",
     "text": [
      "                   all       4112        614      0.446      0.222     0.0689     0.0512      0.446      0.222     0.0686     0.0432\n"
     ]
    },
    {
     "name": "stderr",
     "output_type": "stream",
     "text": [
      "\n"
     ]
    },
    {
     "name": "stdout",
     "output_type": "stream",
     "text": [
      "\n",
      "      Epoch    GPU_mem   box_loss   seg_loss   cls_loss   dfl_loss  Instances       Size\n"
     ]
    },
    {
     "name": "stderr",
     "output_type": "stream",
     "text": [
      "      8/100      1.47G     0.8475      1.279      1.249     0.9866         97        128: 100%|██████████| 160/160 [00:42<00:00,  3.75it/s]\n",
      "                 Class     Images  Instances      Box(P          R      mAP50  mAP50-95)     Mask(P          R      mAP50  mAP50-95): 100%|██████████| 18/18 [00:09<00:00,  1.97it/s]"
     ]
    },
    {
     "name": "stdout",
     "output_type": "stream",
     "text": [
      "                   all       4112        614      0.266      0.426     0.0982     0.0821      0.266      0.426     0.0982     0.0722\n"
     ]
    },
    {
     "name": "stderr",
     "output_type": "stream",
     "text": [
      "\n"
     ]
    },
    {
     "name": "stdout",
     "output_type": "stream",
     "text": [
      "\n",
      "      Epoch    GPU_mem   box_loss   seg_loss   cls_loss   dfl_loss  Instances       Size\n"
     ]
    },
    {
     "name": "stderr",
     "output_type": "stream",
     "text": [
      "      9/100      1.34G     0.8301      1.265       1.22     0.9831         89        128: 100%|██████████| 160/160 [00:42<00:00,  3.73it/s]\n",
      "                 Class     Images  Instances      Box(P          R      mAP50  mAP50-95)     Mask(P          R      mAP50  mAP50-95): 100%|██████████| 18/18 [00:08<00:00,  2.01it/s]"
     ]
    },
    {
     "name": "stdout",
     "output_type": "stream",
     "text": [
      "                   all       4112        614      0.504      0.307      0.081     0.0681      0.504      0.307      0.081     0.0628\n"
     ]
    },
    {
     "name": "stderr",
     "output_type": "stream",
     "text": [
      "\n"
     ]
    },
    {
     "name": "stdout",
     "output_type": "stream",
     "text": [
      "\n",
      "      Epoch    GPU_mem   box_loss   seg_loss   cls_loss   dfl_loss  Instances       Size\n"
     ]
    },
    {
     "name": "stderr",
     "output_type": "stream",
     "text": [
      "     10/100      1.47G     0.8098      1.239      1.192     0.9765        107        128: 100%|██████████| 160/160 [00:42<00:00,  3.73it/s]\n",
      "                 Class     Images  Instances      Box(P          R      mAP50  mAP50-95)     Mask(P          R      mAP50  mAP50-95): 100%|██████████| 18/18 [00:09<00:00,  1.97it/s]"
     ]
    },
    {
     "name": "stdout",
     "output_type": "stream",
     "text": [
      "                   all       4112        614      0.501      0.275       0.08     0.0673      0.501      0.275       0.08     0.0577\n"
     ]
    },
    {
     "name": "stderr",
     "output_type": "stream",
     "text": [
      "\n"
     ]
    },
    {
     "name": "stdout",
     "output_type": "stream",
     "text": [
      "\n",
      "      Epoch    GPU_mem   box_loss   seg_loss   cls_loss   dfl_loss  Instances       Size\n"
     ]
    },
    {
     "name": "stderr",
     "output_type": "stream",
     "text": [
      "     11/100      1.34G     0.8012       1.23      1.175     0.9719        103        128: 100%|██████████| 160/160 [00:42<00:00,  3.78it/s]\n",
      "                 Class     Images  Instances      Box(P          R      mAP50  mAP50-95)     Mask(P          R      mAP50  mAP50-95): 100%|██████████| 18/18 [00:08<00:00,  2.02it/s]"
     ]
    },
    {
     "name": "stdout",
     "output_type": "stream",
     "text": [
      "                   all       4112        614      0.254      0.365     0.0798     0.0641      0.254      0.365     0.0798     0.0577\n"
     ]
    },
    {
     "name": "stderr",
     "output_type": "stream",
     "text": [
      "\n"
     ]
    },
    {
     "name": "stdout",
     "output_type": "stream",
     "text": [
      "\n",
      "      Epoch    GPU_mem   box_loss   seg_loss   cls_loss   dfl_loss  Instances       Size\n"
     ]
    },
    {
     "name": "stderr",
     "output_type": "stream",
     "text": [
      "     12/100      1.47G     0.7812      1.214      1.141     0.9684         79        128: 100%|██████████| 160/160 [00:42<00:00,  3.74it/s]\n",
      "                 Class     Images  Instances      Box(P          R      mAP50  mAP50-95)     Mask(P          R      mAP50  mAP50-95): 100%|██████████| 18/18 [00:08<00:00,  2.02it/s]"
     ]
    },
    {
     "name": "stdout",
     "output_type": "stream",
     "text": [
      "                   all       4112        614      0.391      0.298     0.0648     0.0556      0.391      0.298     0.0648     0.0501\n"
     ]
    },
    {
     "name": "stderr",
     "output_type": "stream",
     "text": [
      "\n"
     ]
    },
    {
     "name": "stdout",
     "output_type": "stream",
     "text": [
      "\n",
      "      Epoch    GPU_mem   box_loss   seg_loss   cls_loss   dfl_loss  Instances       Size\n"
     ]
    },
    {
     "name": "stderr",
     "output_type": "stream",
     "text": [
      "     13/100      1.34G     0.7829      1.207      1.134     0.9704         98        128: 100%|██████████| 160/160 [00:42<00:00,  3.78it/s]\n",
      "                 Class     Images  Instances      Box(P          R      mAP50  mAP50-95)     Mask(P          R      mAP50  mAP50-95): 100%|██████████| 18/18 [00:08<00:00,  2.01it/s]"
     ]
    },
    {
     "name": "stdout",
     "output_type": "stream",
     "text": [
      "                   all       4112        614      0.311      0.382     0.0959     0.0768      0.311      0.382     0.0959     0.0718\n"
     ]
    },
    {
     "name": "stderr",
     "output_type": "stream",
     "text": [
      "\n"
     ]
    },
    {
     "name": "stdout",
     "output_type": "stream",
     "text": [
      "\n",
      "      Epoch    GPU_mem   box_loss   seg_loss   cls_loss   dfl_loss  Instances       Size\n"
     ]
    },
    {
     "name": "stderr",
     "output_type": "stream",
     "text": [
      "     14/100      1.47G     0.7628      1.191      1.114     0.9628         98        128: 100%|██████████| 160/160 [00:42<00:00,  3.78it/s]\n",
      "                 Class     Images  Instances      Box(P          R      mAP50  mAP50-95)     Mask(P          R      mAP50  mAP50-95): 100%|██████████| 18/18 [00:08<00:00,  2.02it/s]"
     ]
    },
    {
     "name": "stdout",
     "output_type": "stream",
     "text": [
      "                   all       4112        614      0.155      0.349      0.078     0.0653      0.155      0.349      0.078     0.0569\n"
     ]
    },
    {
     "name": "stderr",
     "output_type": "stream",
     "text": [
      "\n"
     ]
    },
    {
     "name": "stdout",
     "output_type": "stream",
     "text": [
      "\n",
      "      Epoch    GPU_mem   box_loss   seg_loss   cls_loss   dfl_loss  Instances       Size\n"
     ]
    },
    {
     "name": "stderr",
     "output_type": "stream",
     "text": [
      "     15/100      1.34G     0.7656      1.193       1.11     0.9661         95        128: 100%|██████████| 160/160 [00:42<00:00,  3.76it/s]\n",
      "                 Class     Images  Instances      Box(P          R      mAP50  mAP50-95)     Mask(P          R      mAP50  mAP50-95): 100%|██████████| 18/18 [00:08<00:00,  2.01it/s]"
     ]
    },
    {
     "name": "stdout",
     "output_type": "stream",
     "text": [
      "                   all       4112        614      0.171      0.448      0.123      0.109      0.171      0.448      0.123     0.0923\n"
     ]
    },
    {
     "name": "stderr",
     "output_type": "stream",
     "text": [
      "\n"
     ]
    },
    {
     "name": "stdout",
     "output_type": "stream",
     "text": [
      "\n",
      "      Epoch    GPU_mem   box_loss   seg_loss   cls_loss   dfl_loss  Instances       Size\n"
     ]
    },
    {
     "name": "stderr",
     "output_type": "stream",
     "text": [
      "     16/100      1.47G       0.75      1.177      1.087     0.9602        106        128: 100%|██████████| 160/160 [00:43<00:00,  3.69it/s]\n",
      "                 Class     Images  Instances      Box(P          R      mAP50  mAP50-95)     Mask(P          R      mAP50  mAP50-95): 100%|██████████| 18/18 [00:08<00:00,  2.02it/s]"
     ]
    },
    {
     "name": "stdout",
     "output_type": "stream",
     "text": [
      "                   all       4112        614      0.306       0.34     0.0951     0.0812      0.306       0.34     0.0951     0.0705\n"
     ]
    },
    {
     "name": "stderr",
     "output_type": "stream",
     "text": [
      "\n"
     ]
    },
    {
     "name": "stdout",
     "output_type": "stream",
     "text": [
      "\n",
      "      Epoch    GPU_mem   box_loss   seg_loss   cls_loss   dfl_loss  Instances       Size\n"
     ]
    },
    {
     "name": "stderr",
     "output_type": "stream",
     "text": [
      "     17/100      1.34G     0.7491      1.187      1.091     0.9613        105        128: 100%|██████████| 160/160 [00:42<00:00,  3.74it/s]\n",
      "                 Class     Images  Instances      Box(P          R      mAP50  mAP50-95)     Mask(P          R      mAP50  mAP50-95): 100%|██████████| 18/18 [00:09<00:00,  2.00it/s]"
     ]
    },
    {
     "name": "stdout",
     "output_type": "stream",
     "text": [
      "                   all       4112        614      0.159      0.433     0.0993     0.0875      0.159      0.433     0.0993     0.0772\n"
     ]
    },
    {
     "name": "stderr",
     "output_type": "stream",
     "text": [
      "\n"
     ]
    },
    {
     "name": "stdout",
     "output_type": "stream",
     "text": [
      "\n",
      "      Epoch    GPU_mem   box_loss   seg_loss   cls_loss   dfl_loss  Instances       Size\n"
     ]
    },
    {
     "name": "stderr",
     "output_type": "stream",
     "text": [
      "     18/100      1.47G     0.7298      1.159      1.075     0.9536         91        128: 100%|██████████| 160/160 [00:42<00:00,  3.78it/s]\n",
      "                 Class     Images  Instances      Box(P          R      mAP50  mAP50-95)     Mask(P          R      mAP50  mAP50-95): 100%|██████████| 18/18 [00:08<00:00,  2.01it/s]"
     ]
    },
    {
     "name": "stdout",
     "output_type": "stream",
     "text": [
      "                   all       4112        614      0.318      0.374       0.11     0.0943      0.318      0.374       0.11     0.0841\n"
     ]
    },
    {
     "name": "stderr",
     "output_type": "stream",
     "text": [
      "\n"
     ]
    },
    {
     "name": "stdout",
     "output_type": "stream",
     "text": [
      "\n",
      "      Epoch    GPU_mem   box_loss   seg_loss   cls_loss   dfl_loss  Instances       Size\n"
     ]
    },
    {
     "name": "stderr",
     "output_type": "stream",
     "text": [
      "     19/100      1.34G     0.7311      1.156      1.061      0.955         90        128: 100%|██████████| 160/160 [00:42<00:00,  3.76it/s]\n",
      "                 Class     Images  Instances      Box(P          R      mAP50  mAP50-95)     Mask(P          R      mAP50  mAP50-95): 100%|██████████| 18/18 [00:09<00:00,  1.99it/s]"
     ]
    },
    {
     "name": "stdout",
     "output_type": "stream",
     "text": [
      "                   all       4112        614      0.255      0.355     0.0804     0.0686      0.255      0.355     0.0804     0.0607\n"
     ]
    },
    {
     "name": "stderr",
     "output_type": "stream",
     "text": [
      "\n"
     ]
    },
    {
     "name": "stdout",
     "output_type": "stream",
     "text": [
      "\n",
      "      Epoch    GPU_mem   box_loss   seg_loss   cls_loss   dfl_loss  Instances       Size\n"
     ]
    },
    {
     "name": "stderr",
     "output_type": "stream",
     "text": [
      "     20/100      1.47G      0.725      1.151      1.056     0.9561        103        128: 100%|██████████| 160/160 [00:42<00:00,  3.77it/s]\n",
      "                 Class     Images  Instances      Box(P          R      mAP50  mAP50-95)     Mask(P          R      mAP50  mAP50-95): 100%|██████████| 18/18 [00:08<00:00,  2.01it/s]"
     ]
    },
    {
     "name": "stdout",
     "output_type": "stream",
     "text": [
      "                   all       4112        614      0.363      0.296     0.0889     0.0782      0.363      0.296     0.0889     0.0698\n"
     ]
    },
    {
     "name": "stderr",
     "output_type": "stream",
     "text": [
      "\n"
     ]
    },
    {
     "name": "stdout",
     "output_type": "stream",
     "text": [
      "\n",
      "      Epoch    GPU_mem   box_loss   seg_loss   cls_loss   dfl_loss  Instances       Size\n"
     ]
    },
    {
     "name": "stderr",
     "output_type": "stream",
     "text": [
      "     21/100      1.34G     0.7166      1.136      1.043     0.9522        102        128: 100%|██████████| 160/160 [00:48<00:00,  3.30it/s]\n",
      "                 Class     Images  Instances      Box(P          R      mAP50  mAP50-95)     Mask(P          R      mAP50  mAP50-95): 100%|██████████| 18/18 [00:09<00:00,  2.00it/s]"
     ]
    },
    {
     "name": "stdout",
     "output_type": "stream",
     "text": [
      "                   all       4112        614      0.128      0.535      0.148      0.135      0.128      0.535      0.148      0.116\n"
     ]
    },
    {
     "name": "stderr",
     "output_type": "stream",
     "text": [
      "\n"
     ]
    },
    {
     "name": "stdout",
     "output_type": "stream",
     "text": [
      "\n",
      "      Epoch    GPU_mem   box_loss   seg_loss   cls_loss   dfl_loss  Instances       Size\n"
     ]
    },
    {
     "name": "stderr",
     "output_type": "stream",
     "text": [
      "     22/100      1.47G     0.7107      1.146      1.037     0.9501         95        128: 100%|██████████| 160/160 [00:43<00:00,  3.71it/s]\n",
      "                 Class     Images  Instances      Box(P          R      mAP50  mAP50-95)     Mask(P          R      mAP50  mAP50-95): 100%|██████████| 18/18 [00:09<00:00,  2.00it/s]"
     ]
    },
    {
     "name": "stdout",
     "output_type": "stream",
     "text": [
      "                   all       4112        614      0.267      0.316        0.1     0.0886      0.267      0.316        0.1     0.0756\n"
     ]
    },
    {
     "name": "stderr",
     "output_type": "stream",
     "text": [
      "\n"
     ]
    },
    {
     "name": "stdout",
     "output_type": "stream",
     "text": [
      "\n",
      "      Epoch    GPU_mem   box_loss   seg_loss   cls_loss   dfl_loss  Instances       Size\n"
     ]
    },
    {
     "name": "stderr",
     "output_type": "stream",
     "text": [
      "     23/100      1.34G     0.7121      1.126      1.037     0.9496         87        128: 100%|██████████| 160/160 [00:42<00:00,  3.73it/s]\n",
      "                 Class     Images  Instances      Box(P          R      mAP50  mAP50-95)     Mask(P          R      mAP50  mAP50-95): 100%|██████████| 18/18 [00:08<00:00,  2.00it/s]"
     ]
    },
    {
     "name": "stdout",
     "output_type": "stream",
     "text": [
      "                   all       4112        614      0.269      0.282      0.121      0.107      0.269      0.282      0.121     0.0941\n"
     ]
    },
    {
     "name": "stderr",
     "output_type": "stream",
     "text": [
      "\n"
     ]
    },
    {
     "name": "stdout",
     "output_type": "stream",
     "text": [
      "\n",
      "      Epoch    GPU_mem   box_loss   seg_loss   cls_loss   dfl_loss  Instances       Size\n"
     ]
    },
    {
     "name": "stderr",
     "output_type": "stream",
     "text": [
      "     24/100      1.47G      0.705      1.128      1.025     0.9498        110        128: 100%|██████████| 160/160 [00:42<00:00,  3.75it/s]\n",
      "                 Class     Images  Instances      Box(P          R      mAP50  mAP50-95)     Mask(P          R      mAP50  mAP50-95): 100%|██████████| 18/18 [00:08<00:00,  2.01it/s]"
     ]
    },
    {
     "name": "stdout",
     "output_type": "stream",
     "text": [
      "                   all       4112        614      0.214      0.364     0.0956     0.0853      0.214      0.364     0.0956     0.0734\n"
     ]
    },
    {
     "name": "stderr",
     "output_type": "stream",
     "text": [
      "\n"
     ]
    },
    {
     "name": "stdout",
     "output_type": "stream",
     "text": [
      "\n",
      "      Epoch    GPU_mem   box_loss   seg_loss   cls_loss   dfl_loss  Instances       Size\n"
     ]
    },
    {
     "name": "stderr",
     "output_type": "stream",
     "text": [
      "     25/100      1.34G     0.6989      1.114       1.02     0.9498         93        128: 100%|██████████| 160/160 [00:42<00:00,  3.75it/s]\n",
      "                 Class     Images  Instances      Box(P          R      mAP50  mAP50-95)     Mask(P          R      mAP50  mAP50-95): 100%|██████████| 18/18 [00:08<00:00,  2.02it/s]"
     ]
    },
    {
     "name": "stdout",
     "output_type": "stream",
     "text": [
      "                   all       4112        614      0.241      0.431      0.122      0.112      0.241      0.431      0.122      0.101\n"
     ]
    },
    {
     "name": "stderr",
     "output_type": "stream",
     "text": [
      "\n"
     ]
    },
    {
     "name": "stdout",
     "output_type": "stream",
     "text": [
      "\n",
      "      Epoch    GPU_mem   box_loss   seg_loss   cls_loss   dfl_loss  Instances       Size\n"
     ]
    },
    {
     "name": "stderr",
     "output_type": "stream",
     "text": [
      "     26/100      1.47G     0.6926      1.121      1.009     0.9451        104        128: 100%|██████████| 160/160 [00:43<00:00,  3.71it/s]\n",
      "                 Class     Images  Instances      Box(P          R      mAP50  mAP50-95)     Mask(P          R      mAP50  mAP50-95): 100%|██████████| 18/18 [00:08<00:00,  2.02it/s]"
     ]
    },
    {
     "name": "stdout",
     "output_type": "stream",
     "text": [
      "                   all       4112        614      0.219      0.407      0.146      0.131      0.219      0.407      0.146      0.121\n"
     ]
    },
    {
     "name": "stderr",
     "output_type": "stream",
     "text": [
      "\n"
     ]
    },
    {
     "name": "stdout",
     "output_type": "stream",
     "text": [
      "\n",
      "      Epoch    GPU_mem   box_loss   seg_loss   cls_loss   dfl_loss  Instances       Size\n"
     ]
    },
    {
     "name": "stderr",
     "output_type": "stream",
     "text": [
      "     27/100      1.34G     0.6936      1.122      1.008      0.949        111        128: 100%|██████████| 160/160 [00:42<00:00,  3.73it/s]\n",
      "                 Class     Images  Instances      Box(P          R      mAP50  mAP50-95)     Mask(P          R      mAP50  mAP50-95): 100%|██████████| 18/18 [00:09<00:00,  1.99it/s]"
     ]
    },
    {
     "name": "stdout",
     "output_type": "stream",
     "text": [
      "                   all       4112        614      0.164      0.447      0.108     0.0954      0.164      0.447      0.108     0.0868\n"
     ]
    },
    {
     "name": "stderr",
     "output_type": "stream",
     "text": [
      "\n"
     ]
    },
    {
     "name": "stdout",
     "output_type": "stream",
     "text": [
      "\n",
      "      Epoch    GPU_mem   box_loss   seg_loss   cls_loss   dfl_loss  Instances       Size\n"
     ]
    },
    {
     "name": "stderr",
     "output_type": "stream",
     "text": [
      "     28/100      1.47G     0.6848      1.108     0.9896     0.9459        107        128: 100%|██████████| 160/160 [00:43<00:00,  3.72it/s]\n",
      "                 Class     Images  Instances      Box(P          R      mAP50  mAP50-95)     Mask(P          R      mAP50  mAP50-95): 100%|██████████| 18/18 [00:09<00:00,  1.99it/s]"
     ]
    },
    {
     "name": "stdout",
     "output_type": "stream",
     "text": [
      "                   all       4112        614      0.173       0.47        0.1     0.0895      0.173       0.47        0.1     0.0813\n"
     ]
    },
    {
     "name": "stderr",
     "output_type": "stream",
     "text": [
      "\n"
     ]
    },
    {
     "name": "stdout",
     "output_type": "stream",
     "text": [
      "\n",
      "      Epoch    GPU_mem   box_loss   seg_loss   cls_loss   dfl_loss  Instances       Size\n"
     ]
    },
    {
     "name": "stderr",
     "output_type": "stream",
     "text": [
      "     29/100      1.34G     0.6827      1.104      1.002     0.9433         96        128: 100%|██████████| 160/160 [00:43<00:00,  3.72it/s]\n",
      "                 Class     Images  Instances      Box(P          R      mAP50  mAP50-95)     Mask(P          R      mAP50  mAP50-95): 100%|██████████| 18/18 [00:08<00:00,  2.00it/s]"
     ]
    },
    {
     "name": "stdout",
     "output_type": "stream",
     "text": [
      "                   all       4112        614      0.266      0.358     0.0952     0.0858      0.266      0.358     0.0952     0.0749\n"
     ]
    },
    {
     "name": "stderr",
     "output_type": "stream",
     "text": [
      "\n"
     ]
    },
    {
     "name": "stdout",
     "output_type": "stream",
     "text": [
      "\n",
      "      Epoch    GPU_mem   box_loss   seg_loss   cls_loss   dfl_loss  Instances       Size\n"
     ]
    },
    {
     "name": "stderr",
     "output_type": "stream",
     "text": [
      "     30/100      1.47G     0.6784      1.105     0.9866      0.944         94        128: 100%|██████████| 160/160 [00:43<00:00,  3.66it/s]\n",
      "                 Class     Images  Instances      Box(P          R      mAP50  mAP50-95)     Mask(P          R      mAP50  mAP50-95): 100%|██████████| 18/18 [00:09<00:00,  1.98it/s]"
     ]
    },
    {
     "name": "stdout",
     "output_type": "stream",
     "text": [
      "                   all       4112        614      0.226      0.324     0.0964     0.0872      0.226      0.324     0.0964     0.0771\n"
     ]
    },
    {
     "name": "stderr",
     "output_type": "stream",
     "text": [
      "\n"
     ]
    },
    {
     "name": "stdout",
     "output_type": "stream",
     "text": [
      "\n",
      "      Epoch    GPU_mem   box_loss   seg_loss   cls_loss   dfl_loss  Instances       Size\n"
     ]
    },
    {
     "name": "stderr",
     "output_type": "stream",
     "text": [
      "     31/100      1.34G     0.6782      1.103     0.9862     0.9453         98        128: 100%|██████████| 160/160 [00:42<00:00,  3.74it/s]\n",
      "                 Class     Images  Instances      Box(P          R      mAP50  mAP50-95)     Mask(P          R      mAP50  mAP50-95): 100%|██████████| 18/18 [00:08<00:00,  2.01it/s]"
     ]
    },
    {
     "name": "stdout",
     "output_type": "stream",
     "text": [
      "                   all       4112        614      0.229      0.412      0.117      0.105      0.229      0.412      0.117     0.0941\n"
     ]
    },
    {
     "name": "stderr",
     "output_type": "stream",
     "text": [
      "\n"
     ]
    },
    {
     "name": "stdout",
     "output_type": "stream",
     "text": [
      "\n",
      "      Epoch    GPU_mem   box_loss   seg_loss   cls_loss   dfl_loss  Instances       Size\n"
     ]
    },
    {
     "name": "stderr",
     "output_type": "stream",
     "text": [
      "     32/100      1.47G     0.6759      1.097     0.9845      0.944         98        128: 100%|██████████| 160/160 [00:42<00:00,  3.74it/s]\n",
      "                 Class     Images  Instances      Box(P          R      mAP50  mAP50-95)     Mask(P          R      mAP50  mAP50-95): 100%|██████████| 18/18 [00:09<00:00,  1.99it/s]"
     ]
    },
    {
     "name": "stdout",
     "output_type": "stream",
     "text": [
      "                   all       4112        614       0.11      0.498      0.097     0.0868       0.11      0.498      0.097     0.0777\n"
     ]
    },
    {
     "name": "stderr",
     "output_type": "stream",
     "text": [
      "\n"
     ]
    },
    {
     "name": "stdout",
     "output_type": "stream",
     "text": [
      "\n",
      "      Epoch    GPU_mem   box_loss   seg_loss   cls_loss   dfl_loss  Instances       Size\n"
     ]
    },
    {
     "name": "stderr",
     "output_type": "stream",
     "text": [
      "     33/100      1.34G     0.6634      1.087     0.9719     0.9375         99        128: 100%|██████████| 160/160 [00:42<00:00,  3.76it/s]\n",
      "                 Class     Images  Instances      Box(P          R      mAP50  mAP50-95)     Mask(P          R      mAP50  mAP50-95): 100%|██████████| 18/18 [00:08<00:00,  2.01it/s]"
     ]
    },
    {
     "name": "stdout",
     "output_type": "stream",
     "text": [
      "                   all       4112        614      0.236      0.337      0.114      0.105      0.236      0.337      0.114     0.0948\n"
     ]
    },
    {
     "name": "stderr",
     "output_type": "stream",
     "text": [
      "\n"
     ]
    },
    {
     "name": "stdout",
     "output_type": "stream",
     "text": [
      "\n",
      "      Epoch    GPU_mem   box_loss   seg_loss   cls_loss   dfl_loss  Instances       Size\n"
     ]
    },
    {
     "name": "stderr",
     "output_type": "stream",
     "text": [
      "     34/100      1.47G     0.6645      1.093     0.9684      0.941         94        128: 100%|██████████| 160/160 [00:42<00:00,  3.74it/s]\n",
      "                 Class     Images  Instances      Box(P          R      mAP50  mAP50-95)     Mask(P          R      mAP50  mAP50-95): 100%|██████████| 18/18 [00:09<00:00,  2.00it/s]"
     ]
    },
    {
     "name": "stdout",
     "output_type": "stream",
     "text": [
      "                   all       4112        614      0.125      0.435      0.108     0.0947      0.125      0.435      0.108     0.0874\n"
     ]
    },
    {
     "name": "stderr",
     "output_type": "stream",
     "text": [
      "\n"
     ]
    },
    {
     "name": "stdout",
     "output_type": "stream",
     "text": [
      "\n",
      "      Epoch    GPU_mem   box_loss   seg_loss   cls_loss   dfl_loss  Instances       Size\n"
     ]
    },
    {
     "name": "stderr",
     "output_type": "stream",
     "text": [
      "     35/100      1.34G     0.6599      1.081     0.9663      0.937         96        128: 100%|██████████| 160/160 [00:42<00:00,  3.77it/s]\n",
      "                 Class     Images  Instances      Box(P          R      mAP50  mAP50-95)     Mask(P          R      mAP50  mAP50-95): 100%|██████████| 18/18 [00:09<00:00,  2.00it/s]"
     ]
    },
    {
     "name": "stdout",
     "output_type": "stream",
     "text": [
      "                   all       4112        614      0.263      0.397     0.0993     0.0908      0.263      0.397     0.0993     0.0817\n"
     ]
    },
    {
     "name": "stderr",
     "output_type": "stream",
     "text": [
      "\n"
     ]
    },
    {
     "name": "stdout",
     "output_type": "stream",
     "text": [
      "\n",
      "      Epoch    GPU_mem   box_loss   seg_loss   cls_loss   dfl_loss  Instances       Size\n"
     ]
    },
    {
     "name": "stderr",
     "output_type": "stream",
     "text": [
      "     36/100      1.47G     0.6592      1.078     0.9573     0.9385         94        128: 100%|██████████| 160/160 [00:42<00:00,  3.75it/s]\n",
      "                 Class     Images  Instances      Box(P          R      mAP50  mAP50-95)     Mask(P          R      mAP50  mAP50-95): 100%|██████████| 18/18 [00:08<00:00,  2.01it/s]"
     ]
    },
    {
     "name": "stdout",
     "output_type": "stream",
     "text": [
      "                   all       4112        614      0.216      0.419     0.0949     0.0857      0.216      0.419     0.0949     0.0766\n"
     ]
    },
    {
     "name": "stderr",
     "output_type": "stream",
     "text": [
      "\n"
     ]
    },
    {
     "name": "stdout",
     "output_type": "stream",
     "text": [
      "\n",
      "      Epoch    GPU_mem   box_loss   seg_loss   cls_loss   dfl_loss  Instances       Size\n"
     ]
    },
    {
     "name": "stderr",
     "output_type": "stream",
     "text": [
      "     37/100      1.34G     0.6508       1.07     0.9571     0.9347        102        128: 100%|██████████| 160/160 [00:42<00:00,  3.76it/s]\n",
      "                 Class     Images  Instances      Box(P          R      mAP50  mAP50-95)     Mask(P          R      mAP50  mAP50-95): 100%|██████████| 18/18 [00:08<00:00,  2.00it/s]"
     ]
    },
    {
     "name": "stdout",
     "output_type": "stream",
     "text": [
      "                   all       4112        614      0.119      0.416       0.11     0.0975      0.119      0.416       0.11     0.0899\n"
     ]
    },
    {
     "name": "stderr",
     "output_type": "stream",
     "text": [
      "\n"
     ]
    },
    {
     "name": "stdout",
     "output_type": "stream",
     "text": [
      "\n",
      "      Epoch    GPU_mem   box_loss   seg_loss   cls_loss   dfl_loss  Instances       Size\n"
     ]
    },
    {
     "name": "stderr",
     "output_type": "stream",
     "text": [
      "     38/100      1.47G     0.6494      1.067     0.9533     0.9364         98        128: 100%|██████████| 160/160 [00:42<00:00,  3.76it/s]\n",
      "                 Class     Images  Instances      Box(P          R      mAP50  mAP50-95)     Mask(P          R      mAP50  mAP50-95): 100%|██████████| 18/18 [00:08<00:00,  2.03it/s]"
     ]
    },
    {
     "name": "stdout",
     "output_type": "stream",
     "text": [
      "                   all       4112        614      0.117      0.349      0.107     0.0981      0.117      0.349      0.107      0.084\n"
     ]
    },
    {
     "name": "stderr",
     "output_type": "stream",
     "text": [
      "\n"
     ]
    },
    {
     "name": "stdout",
     "output_type": "stream",
     "text": [
      "\n",
      "      Epoch    GPU_mem   box_loss   seg_loss   cls_loss   dfl_loss  Instances       Size\n"
     ]
    },
    {
     "name": "stderr",
     "output_type": "stream",
     "text": [
      "     39/100      1.34G     0.6502      1.085     0.9505     0.9379         95        128: 100%|██████████| 160/160 [00:42<00:00,  3.79it/s]\n",
      "                 Class     Images  Instances      Box(P          R      mAP50  mAP50-95)     Mask(P          R      mAP50  mAP50-95): 100%|██████████| 18/18 [00:09<00:00,  1.90it/s]"
     ]
    },
    {
     "name": "stdout",
     "output_type": "stream",
     "text": [
      "                   all       4112        614      0.123      0.437        0.1       0.09      0.123      0.437        0.1     0.0799\n"
     ]
    },
    {
     "name": "stderr",
     "output_type": "stream",
     "text": [
      "\n"
     ]
    },
    {
     "name": "stdout",
     "output_type": "stream",
     "text": [
      "\n",
      "      Epoch    GPU_mem   box_loss   seg_loss   cls_loss   dfl_loss  Instances       Size\n"
     ]
    },
    {
     "name": "stderr",
     "output_type": "stream",
     "text": [
      "     40/100      1.47G     0.6419      1.074     0.9473     0.9368         95        128: 100%|██████████| 160/160 [00:42<00:00,  3.76it/s]\n",
      "                 Class     Images  Instances      Box(P          R      mAP50  mAP50-95)     Mask(P          R      mAP50  mAP50-95): 100%|██████████| 18/18 [00:08<00:00,  2.00it/s]"
     ]
    },
    {
     "name": "stdout",
     "output_type": "stream",
     "text": [
      "                   all       4112        614       0.17      0.385     0.0932     0.0831       0.17      0.385     0.0932     0.0746\n"
     ]
    },
    {
     "name": "stderr",
     "output_type": "stream",
     "text": [
      "\n"
     ]
    },
    {
     "name": "stdout",
     "output_type": "stream",
     "text": [
      "\n",
      "      Epoch    GPU_mem   box_loss   seg_loss   cls_loss   dfl_loss  Instances       Size\n"
     ]
    },
    {
     "name": "stderr",
     "output_type": "stream",
     "text": [
      "     41/100      1.34G     0.6472      1.078     0.9371     0.9361         95        128: 100%|██████████| 160/160 [00:42<00:00,  3.74it/s]\n",
      "                 Class     Images  Instances      Box(P          R      mAP50  mAP50-95)     Mask(P          R      mAP50  mAP50-95): 100%|██████████| 18/18 [00:08<00:00,  2.01it/s]"
     ]
    },
    {
     "name": "stdout",
     "output_type": "stream",
     "text": [
      "                   all       4112        614      0.224      0.397      0.101      0.093      0.224      0.397      0.101     0.0798\n"
     ]
    },
    {
     "name": "stderr",
     "output_type": "stream",
     "text": [
      "\n"
     ]
    },
    {
     "name": "stdout",
     "output_type": "stream",
     "text": [
      "\n",
      "      Epoch    GPU_mem   box_loss   seg_loss   cls_loss   dfl_loss  Instances       Size\n"
     ]
    },
    {
     "name": "stderr",
     "output_type": "stream",
     "text": [
      "     42/100      1.47G     0.6381       1.07     0.9378     0.9331        106        128: 100%|██████████| 160/160 [00:43<00:00,  3.72it/s]\n",
      "                 Class     Images  Instances      Box(P          R      mAP50  mAP50-95)     Mask(P          R      mAP50  mAP50-95): 100%|██████████| 18/18 [00:08<00:00,  2.01it/s]"
     ]
    },
    {
     "name": "stdout",
     "output_type": "stream",
     "text": [
      "                   all       4112        614      0.169      0.395      0.119       0.11      0.169      0.395      0.119     0.0954\n"
     ]
    },
    {
     "name": "stderr",
     "output_type": "stream",
     "text": [
      "\n"
     ]
    },
    {
     "name": "stdout",
     "output_type": "stream",
     "text": [
      "\n",
      "      Epoch    GPU_mem   box_loss   seg_loss   cls_loss   dfl_loss  Instances       Size\n"
     ]
    },
    {
     "name": "stderr",
     "output_type": "stream",
     "text": [
      "     43/100      1.34G     0.6367      1.064     0.9346     0.9334         82        128: 100%|██████████| 160/160 [00:43<00:00,  3.68it/s]\n",
      "                 Class     Images  Instances      Box(P          R      mAP50  mAP50-95)     Mask(P          R      mAP50  mAP50-95): 100%|██████████| 18/18 [00:09<00:00,  1.99it/s]"
     ]
    },
    {
     "name": "stdout",
     "output_type": "stream",
     "text": [
      "                   all       4112        614       0.12      0.423      0.101     0.0923       0.12      0.423      0.101     0.0815\n"
     ]
    },
    {
     "name": "stderr",
     "output_type": "stream",
     "text": [
      "\n"
     ]
    },
    {
     "name": "stdout",
     "output_type": "stream",
     "text": [
      "\n",
      "      Epoch    GPU_mem   box_loss   seg_loss   cls_loss   dfl_loss  Instances       Size\n"
     ]
    },
    {
     "name": "stderr",
     "output_type": "stream",
     "text": [
      "     44/100      1.47G     0.6318      1.059     0.9288     0.9321        103        128: 100%|██████████| 160/160 [00:42<00:00,  3.76it/s]\n",
      "                 Class     Images  Instances      Box(P          R      mAP50  mAP50-95)     Mask(P          R      mAP50  mAP50-95): 100%|██████████| 18/18 [00:08<00:00,  2.01it/s]"
     ]
    },
    {
     "name": "stdout",
     "output_type": "stream",
     "text": [
      "                   all       4112        614      0.113      0.429     0.0999     0.0884      0.113      0.429     0.0999     0.0794\n"
     ]
    },
    {
     "name": "stderr",
     "output_type": "stream",
     "text": [
      "\n"
     ]
    },
    {
     "name": "stdout",
     "output_type": "stream",
     "text": [
      "\n",
      "      Epoch    GPU_mem   box_loss   seg_loss   cls_loss   dfl_loss  Instances       Size\n"
     ]
    },
    {
     "name": "stderr",
     "output_type": "stream",
     "text": [
      "     45/100      1.34G     0.6315      1.062     0.9256     0.9315         95        128: 100%|██████████| 160/160 [00:42<00:00,  3.76it/s]\n",
      "                 Class     Images  Instances      Box(P          R      mAP50  mAP50-95)     Mask(P          R      mAP50  mAP50-95): 100%|██████████| 18/18 [00:09<00:00,  1.98it/s]"
     ]
    },
    {
     "name": "stdout",
     "output_type": "stream",
     "text": [
      "                   all       4112        614      0.118      0.374     0.0989     0.0916      0.118      0.374     0.0989      0.081\n"
     ]
    },
    {
     "name": "stderr",
     "output_type": "stream",
     "text": [
      "\n"
     ]
    },
    {
     "name": "stdout",
     "output_type": "stream",
     "text": [
      "\n",
      "      Epoch    GPU_mem   box_loss   seg_loss   cls_loss   dfl_loss  Instances       Size\n"
     ]
    },
    {
     "name": "stderr",
     "output_type": "stream",
     "text": [
      "     46/100      1.47G     0.6297      1.057     0.9245     0.9307         99        128: 100%|██████████| 160/160 [00:46<00:00,  3.45it/s]\n",
      "                 Class     Images  Instances      Box(P          R      mAP50  mAP50-95)     Mask(P          R      mAP50  mAP50-95): 100%|██████████| 18/18 [00:11<00:00,  1.56it/s]"
     ]
    },
    {
     "name": "stdout",
     "output_type": "stream",
     "text": [
      "                   all       4112        614      0.111      0.418      0.107     0.0955      0.111      0.418      0.107     0.0862\n"
     ]
    },
    {
     "name": "stderr",
     "output_type": "stream",
     "text": [
      "\n"
     ]
    },
    {
     "name": "stdout",
     "output_type": "stream",
     "text": [
      "\n",
      "      Epoch    GPU_mem   box_loss   seg_loss   cls_loss   dfl_loss  Instances       Size\n"
     ]
    },
    {
     "name": "stderr",
     "output_type": "stream",
     "text": [
      "     47/100      1.34G     0.6255      1.059     0.9227     0.9318         94        128: 100%|██████████| 160/160 [00:42<00:00,  3.78it/s]\n",
      "                 Class     Images  Instances      Box(P          R      mAP50  mAP50-95)     Mask(P          R      mAP50  mAP50-95): 100%|██████████| 18/18 [00:08<00:00,  2.01it/s]"
     ]
    },
    {
     "name": "stdout",
     "output_type": "stream",
     "text": [
      "                   all       4112        614      0.123      0.388      0.101      0.093      0.123      0.388      0.101      0.082\n"
     ]
    },
    {
     "name": "stderr",
     "output_type": "stream",
     "text": [
      "\n"
     ]
    },
    {
     "name": "stdout",
     "output_type": "stream",
     "text": [
      "\n",
      "      Epoch    GPU_mem   box_loss   seg_loss   cls_loss   dfl_loss  Instances       Size\n"
     ]
    },
    {
     "name": "stderr",
     "output_type": "stream",
     "text": [
      "     48/100      1.47G     0.6268      1.052     0.9184     0.9296        109        128: 100%|██████████| 160/160 [00:42<00:00,  3.73it/s]\n",
      "                 Class     Images  Instances      Box(P          R      mAP50  mAP50-95)     Mask(P          R      mAP50  mAP50-95): 100%|██████████| 18/18 [00:08<00:00,  2.01it/s]"
     ]
    },
    {
     "name": "stdout",
     "output_type": "stream",
     "text": [
      "                   all       4112        614       0.11      0.449      0.107     0.0998       0.11      0.449      0.107     0.0854\n"
     ]
    },
    {
     "name": "stderr",
     "output_type": "stream",
     "text": [
      "\n"
     ]
    },
    {
     "name": "stdout",
     "output_type": "stream",
     "text": [
      "\n",
      "      Epoch    GPU_mem   box_loss   seg_loss   cls_loss   dfl_loss  Instances       Size\n"
     ]
    },
    {
     "name": "stderr",
     "output_type": "stream",
     "text": [
      "     49/100      1.34G     0.6205      1.054     0.9075     0.9295        103        128: 100%|██████████| 160/160 [00:42<00:00,  3.73it/s]\n",
      "                 Class     Images  Instances      Box(P          R      mAP50  mAP50-95)     Mask(P          R      mAP50  mAP50-95): 100%|██████████| 18/18 [00:09<00:00,  1.83it/s]"
     ]
    },
    {
     "name": "stdout",
     "output_type": "stream",
     "text": [
      "                   all       4112        614       0.12      0.395      0.102     0.0955       0.12      0.395      0.102      0.084\n"
     ]
    },
    {
     "name": "stderr",
     "output_type": "stream",
     "text": [
      "\n"
     ]
    },
    {
     "name": "stdout",
     "output_type": "stream",
     "text": [
      "\n",
      "      Epoch    GPU_mem   box_loss   seg_loss   cls_loss   dfl_loss  Instances       Size\n"
     ]
    },
    {
     "name": "stderr",
     "output_type": "stream",
     "text": [
      "     50/100      1.47G     0.6197      1.049     0.9139     0.9288        112        128: 100%|██████████| 160/160 [00:42<00:00,  3.75it/s]\n",
      "                 Class     Images  Instances      Box(P          R      mAP50  mAP50-95)     Mask(P          R      mAP50  mAP50-95): 100%|██████████| 18/18 [00:09<00:00,  1.99it/s]"
     ]
    },
    {
     "name": "stdout",
     "output_type": "stream",
     "text": [
      "                   all       4112        614      0.124      0.357      0.111      0.103      0.124      0.357      0.111      0.092\n"
     ]
    },
    {
     "name": "stderr",
     "output_type": "stream",
     "text": [
      "\n"
     ]
    },
    {
     "name": "stdout",
     "output_type": "stream",
     "text": [
      "\n",
      "      Epoch    GPU_mem   box_loss   seg_loss   cls_loss   dfl_loss  Instances       Size\n"
     ]
    },
    {
     "name": "stderr",
     "output_type": "stream",
     "text": [
      "     51/100      1.34G     0.6212      1.051     0.9042     0.9295         99        128: 100%|██████████| 160/160 [00:43<00:00,  3.72it/s]\n",
      "                 Class     Images  Instances      Box(P          R      mAP50  mAP50-95)     Mask(P          R      mAP50  mAP50-95): 100%|██████████| 18/18 [00:09<00:00,  1.99it/s]"
     ]
    },
    {
     "name": "stdout",
     "output_type": "stream",
     "text": [
      "                   all       4112        614       0.12       0.37      0.114      0.105       0.12       0.37      0.114     0.0919\n"
     ]
    },
    {
     "name": "stderr",
     "output_type": "stream",
     "text": [
      "\n"
     ]
    },
    {
     "name": "stdout",
     "output_type": "stream",
     "text": [
      "\n",
      "      Epoch    GPU_mem   box_loss   seg_loss   cls_loss   dfl_loss  Instances       Size\n"
     ]
    },
    {
     "name": "stderr",
     "output_type": "stream",
     "text": [
      "     52/100      1.47G     0.6176      1.046     0.9028     0.9297        106        128: 100%|██████████| 160/160 [00:42<00:00,  3.74it/s]\n",
      "                 Class     Images  Instances      Box(P          R      mAP50  mAP50-95)     Mask(P          R      mAP50  mAP50-95): 100%|██████████| 18/18 [00:08<00:00,  2.01it/s]"
     ]
    },
    {
     "name": "stdout",
     "output_type": "stream",
     "text": [
      "                   all       4112        614      0.121      0.391      0.117      0.109      0.121      0.391      0.117     0.0942\n"
     ]
    },
    {
     "name": "stderr",
     "output_type": "stream",
     "text": [
      "\n"
     ]
    },
    {
     "name": "stdout",
     "output_type": "stream",
     "text": [
      "\n",
      "      Epoch    GPU_mem   box_loss   seg_loss   cls_loss   dfl_loss  Instances       Size\n"
     ]
    },
    {
     "name": "stderr",
     "output_type": "stream",
     "text": [
      "     53/100      1.34G     0.6166       1.04     0.8957     0.9304         95        128: 100%|██████████| 160/160 [00:42<00:00,  3.75it/s]\n",
      "                 Class     Images  Instances      Box(P          R      mAP50  mAP50-95)     Mask(P          R      mAP50  mAP50-95): 100%|██████████| 18/18 [00:09<00:00,  1.99it/s]"
     ]
    },
    {
     "name": "stdout",
     "output_type": "stream",
     "text": [
      "                   all       4112        614      0.122      0.381      0.124      0.118      0.122      0.381      0.124      0.103\n"
     ]
    },
    {
     "name": "stderr",
     "output_type": "stream",
     "text": [
      "\n"
     ]
    },
    {
     "name": "stdout",
     "output_type": "stream",
     "text": [
      "\n",
      "      Epoch    GPU_mem   box_loss   seg_loss   cls_loss   dfl_loss  Instances       Size\n"
     ]
    },
    {
     "name": "stderr",
     "output_type": "stream",
     "text": [
      "     54/100      1.47G     0.6131       1.04     0.9026     0.9277         91        128: 100%|██████████| 160/160 [00:42<00:00,  3.72it/s]\n",
      "                 Class     Images  Instances      Box(P          R      mAP50  mAP50-95)     Mask(P          R      mAP50  mAP50-95): 100%|██████████| 18/18 [00:09<00:00,  2.00it/s]"
     ]
    },
    {
     "name": "stdout",
     "output_type": "stream",
     "text": [
      "                   all       4112        614      0.119      0.348     0.0947     0.0879      0.119      0.348     0.0947     0.0785\n"
     ]
    },
    {
     "name": "stderr",
     "output_type": "stream",
     "text": [
      "\n"
     ]
    },
    {
     "name": "stdout",
     "output_type": "stream",
     "text": [
      "\n",
      "      Epoch    GPU_mem   box_loss   seg_loss   cls_loss   dfl_loss  Instances       Size\n"
     ]
    },
    {
     "name": "stderr",
     "output_type": "stream",
     "text": [
      "     55/100      1.34G     0.6078       1.04      0.888     0.9282         97        128: 100%|██████████| 160/160 [00:43<00:00,  3.69it/s]\n",
      "                 Class     Images  Instances      Box(P          R      mAP50  mAP50-95)     Mask(P          R      mAP50  mAP50-95): 100%|██████████| 18/18 [00:09<00:00,  1.99it/s]"
     ]
    },
    {
     "name": "stdout",
     "output_type": "stream",
     "text": [
      "                   all       4112        614      0.119      0.387      0.115      0.108      0.119      0.387      0.115     0.0955\n"
     ]
    },
    {
     "name": "stderr",
     "output_type": "stream",
     "text": [
      "\n"
     ]
    },
    {
     "name": "stdout",
     "output_type": "stream",
     "text": [
      "\n",
      "      Epoch    GPU_mem   box_loss   seg_loss   cls_loss   dfl_loss  Instances       Size\n"
     ]
    },
    {
     "name": "stderr",
     "output_type": "stream",
     "text": [
      "     56/100      1.47G     0.6079      1.038     0.8821     0.9284         87        128: 100%|██████████| 160/160 [00:43<00:00,  3.69it/s]\n",
      "                 Class     Images  Instances      Box(P          R      mAP50  mAP50-95)     Mask(P          R      mAP50  mAP50-95): 100%|██████████| 18/18 [00:08<00:00,  2.00it/s]"
     ]
    },
    {
     "name": "stdout",
     "output_type": "stream",
     "text": [
      "                   all       4112        614      0.176       0.31      0.114      0.107      0.176       0.31      0.114     0.0931\n"
     ]
    },
    {
     "name": "stderr",
     "output_type": "stream",
     "text": [
      "\n"
     ]
    },
    {
     "name": "stdout",
     "output_type": "stream",
     "text": [
      "\n",
      "      Epoch    GPU_mem   box_loss   seg_loss   cls_loss   dfl_loss  Instances       Size\n"
     ]
    },
    {
     "name": "stderr",
     "output_type": "stream",
     "text": [
      "     57/100      1.34G     0.6039      1.031     0.8834     0.9259        102        128: 100%|██████████| 160/160 [00:43<00:00,  3.65it/s]\n",
      "                 Class     Images  Instances      Box(P          R      mAP50  mAP50-95)     Mask(P          R      mAP50  mAP50-95): 100%|██████████| 18/18 [00:09<00:00,  1.97it/s]"
     ]
    },
    {
     "name": "stdout",
     "output_type": "stream",
     "text": [
      "                   all       4112        614      0.116      0.431      0.112      0.105      0.116      0.431      0.112     0.0924\n"
     ]
    },
    {
     "name": "stderr",
     "output_type": "stream",
     "text": [
      "\n"
     ]
    },
    {
     "name": "stdout",
     "output_type": "stream",
     "text": [
      "\n",
      "      Epoch    GPU_mem   box_loss   seg_loss   cls_loss   dfl_loss  Instances       Size\n"
     ]
    },
    {
     "name": "stderr",
     "output_type": "stream",
     "text": [
      "     58/100      1.47G     0.6007      1.031     0.8824     0.9243         91        128: 100%|██████████| 160/160 [00:43<00:00,  3.70it/s]\n",
      "                 Class     Images  Instances      Box(P          R      mAP50  mAP50-95)     Mask(P          R      mAP50  mAP50-95): 100%|██████████| 18/18 [00:09<00:00,  1.88it/s]"
     ]
    },
    {
     "name": "stdout",
     "output_type": "stream",
     "text": [
      "                   all       4112        614      0.121      0.354      0.114      0.107      0.121      0.354      0.114     0.0936\n"
     ]
    },
    {
     "name": "stderr",
     "output_type": "stream",
     "text": [
      "\n"
     ]
    },
    {
     "name": "stdout",
     "output_type": "stream",
     "text": [
      "\n",
      "      Epoch    GPU_mem   box_loss   seg_loss   cls_loss   dfl_loss  Instances       Size\n"
     ]
    },
    {
     "name": "stderr",
     "output_type": "stream",
     "text": [
      "     59/100      1.34G      0.601      1.031     0.8892     0.9248         88        128: 100%|██████████| 160/160 [00:43<00:00,  3.72it/s]\n",
      "                 Class     Images  Instances      Box(P          R      mAP50  mAP50-95)     Mask(P          R      mAP50  mAP50-95): 100%|██████████| 18/18 [00:09<00:00,  1.99it/s]"
     ]
    },
    {
     "name": "stdout",
     "output_type": "stream",
     "text": [
      "                   all       4112        614      0.116      0.397      0.102     0.0939      0.116      0.397      0.102     0.0849\n"
     ]
    },
    {
     "name": "stderr",
     "output_type": "stream",
     "text": [
      "\n"
     ]
    },
    {
     "name": "stdout",
     "output_type": "stream",
     "text": [
      "\n",
      "      Epoch    GPU_mem   box_loss   seg_loss   cls_loss   dfl_loss  Instances       Size\n"
     ]
    },
    {
     "name": "stderr",
     "output_type": "stream",
     "text": [
      "     60/100      1.47G      0.597      1.023     0.8726     0.9258         93        128: 100%|██████████| 160/160 [00:43<00:00,  3.71it/s]\n",
      "                 Class     Images  Instances      Box(P          R      mAP50  mAP50-95)     Mask(P          R      mAP50  mAP50-95): 100%|██████████| 18/18 [00:09<00:00,  1.98it/s]"
     ]
    },
    {
     "name": "stdout",
     "output_type": "stream",
     "text": [
      "                   all       4112        614      0.119       0.33      0.118      0.111      0.119       0.33      0.118     0.0976\n"
     ]
    },
    {
     "name": "stderr",
     "output_type": "stream",
     "text": [
      "\n"
     ]
    },
    {
     "name": "stdout",
     "output_type": "stream",
     "text": [
      "\n",
      "      Epoch    GPU_mem   box_loss   seg_loss   cls_loss   dfl_loss  Instances       Size\n"
     ]
    },
    {
     "name": "stderr",
     "output_type": "stream",
     "text": [
      "     61/100      1.34G     0.5962      1.021     0.8786     0.9241         68        128: 100%|██████████| 160/160 [00:42<00:00,  3.75it/s]\n",
      "                 Class     Images  Instances      Box(P          R      mAP50  mAP50-95)     Mask(P          R      mAP50  mAP50-95): 100%|██████████| 18/18 [00:09<00:00,  1.96it/s]"
     ]
    },
    {
     "name": "stdout",
     "output_type": "stream",
     "text": [
      "                   all       4112        614      0.117      0.392      0.105     0.0992      0.117      0.392      0.105     0.0866\n"
     ]
    },
    {
     "name": "stderr",
     "output_type": "stream",
     "text": [
      "\n"
     ]
    },
    {
     "name": "stdout",
     "output_type": "stream",
     "text": [
      "\n",
      "      Epoch    GPU_mem   box_loss   seg_loss   cls_loss   dfl_loss  Instances       Size\n"
     ]
    },
    {
     "name": "stderr",
     "output_type": "stream",
     "text": [
      "     62/100      1.47G     0.5955      1.025       0.87     0.9259         99        128: 100%|██████████| 160/160 [00:43<00:00,  3.71it/s]\n",
      "                 Class     Images  Instances      Box(P          R      mAP50  mAP50-95)     Mask(P          R      mAP50  mAP50-95): 100%|██████████| 18/18 [00:09<00:00,  1.96it/s]"
     ]
    },
    {
     "name": "stdout",
     "output_type": "stream",
     "text": [
      "                   all       4112        614      0.119      0.389      0.127       0.12      0.119      0.389      0.127      0.104\n"
     ]
    },
    {
     "name": "stderr",
     "output_type": "stream",
     "text": [
      "\n"
     ]
    },
    {
     "name": "stdout",
     "output_type": "stream",
     "text": [
      "\n",
      "      Epoch    GPU_mem   box_loss   seg_loss   cls_loss   dfl_loss  Instances       Size\n"
     ]
    },
    {
     "name": "stderr",
     "output_type": "stream",
     "text": [
      "     63/100      1.34G     0.5907      1.022     0.8631     0.9245         84        128: 100%|██████████| 160/160 [00:43<00:00,  3.70it/s]\n",
      "                 Class     Images  Instances      Box(P          R      mAP50  mAP50-95)     Mask(P          R      mAP50  mAP50-95): 100%|██████████| 18/18 [00:08<00:00,  2.01it/s]"
     ]
    },
    {
     "name": "stdout",
     "output_type": "stream",
     "text": [
      "                   all       4112        614      0.119      0.397      0.117       0.11      0.119      0.397      0.117     0.0967\n"
     ]
    },
    {
     "name": "stderr",
     "output_type": "stream",
     "text": [
      "\n"
     ]
    },
    {
     "name": "stdout",
     "output_type": "stream",
     "text": [
      "\n",
      "      Epoch    GPU_mem   box_loss   seg_loss   cls_loss   dfl_loss  Instances       Size\n"
     ]
    },
    {
     "name": "stderr",
     "output_type": "stream",
     "text": [
      "     64/100      1.47G     0.5882      1.015     0.8582     0.9226        100        128: 100%|██████████| 160/160 [00:43<00:00,  3.70it/s]\n",
      "                 Class     Images  Instances      Box(P          R      mAP50  mAP50-95)     Mask(P          R      mAP50  mAP50-95): 100%|██████████| 18/18 [00:09<00:00,  2.00it/s]"
     ]
    },
    {
     "name": "stdout",
     "output_type": "stream",
     "text": [
      "                   all       4112        614      0.118      0.324      0.112      0.107      0.118      0.324      0.112     0.0943\n"
     ]
    },
    {
     "name": "stderr",
     "output_type": "stream",
     "text": [
      "\n"
     ]
    },
    {
     "name": "stdout",
     "output_type": "stream",
     "text": [
      "\n",
      "      Epoch    GPU_mem   box_loss   seg_loss   cls_loss   dfl_loss  Instances       Size\n"
     ]
    },
    {
     "name": "stderr",
     "output_type": "stream",
     "text": [
      "     65/100      1.34G     0.5882      1.026     0.8673      0.922         95        128: 100%|██████████| 160/160 [00:43<00:00,  3.69it/s]\n",
      "                 Class     Images  Instances      Box(P          R      mAP50  mAP50-95)     Mask(P          R      mAP50  mAP50-95): 100%|██████████| 18/18 [00:09<00:00,  1.98it/s]"
     ]
    },
    {
     "name": "stdout",
     "output_type": "stream",
     "text": [
      "                   all       4112        614      0.117      0.417      0.116       0.11      0.117      0.417      0.116     0.0969\n"
     ]
    },
    {
     "name": "stderr",
     "output_type": "stream",
     "text": [
      "\n"
     ]
    },
    {
     "name": "stdout",
     "output_type": "stream",
     "text": [
      "\n",
      "      Epoch    GPU_mem   box_loss   seg_loss   cls_loss   dfl_loss  Instances       Size\n"
     ]
    },
    {
     "name": "stderr",
     "output_type": "stream",
     "text": [
      "     66/100      1.47G     0.5841      1.024       0.86     0.9207        103        128: 100%|██████████| 160/160 [00:43<00:00,  3.70it/s]\n",
      "                 Class     Images  Instances      Box(P          R      mAP50  mAP50-95)     Mask(P          R      mAP50  mAP50-95): 100%|██████████| 18/18 [00:09<00:00,  2.00it/s]"
     ]
    },
    {
     "name": "stdout",
     "output_type": "stream",
     "text": [
      "                   all       4112        614       0.12        0.4      0.117      0.111       0.12        0.4      0.117     0.0988\n"
     ]
    },
    {
     "name": "stderr",
     "output_type": "stream",
     "text": [
      "\n"
     ]
    },
    {
     "name": "stdout",
     "output_type": "stream",
     "text": [
      "\n",
      "      Epoch    GPU_mem   box_loss   seg_loss   cls_loss   dfl_loss  Instances       Size\n"
     ]
    },
    {
     "name": "stderr",
     "output_type": "stream",
     "text": [
      "     67/100      1.34G     0.5843      1.013     0.8537     0.9227        111        128: 100%|██████████| 160/160 [00:42<00:00,  3.75it/s]\n",
      "                 Class     Images  Instances      Box(P          R      mAP50  mAP50-95)     Mask(P          R      mAP50  mAP50-95): 100%|██████████| 18/18 [00:08<00:00,  2.01it/s]"
     ]
    },
    {
     "name": "stdout",
     "output_type": "stream",
     "text": [
      "                   all       4112        614      0.119      0.403      0.108      0.102      0.119      0.403      0.108     0.0897\n"
     ]
    },
    {
     "name": "stderr",
     "output_type": "stream",
     "text": [
      "\n"
     ]
    },
    {
     "name": "stdout",
     "output_type": "stream",
     "text": [
      "\n",
      "      Epoch    GPU_mem   box_loss   seg_loss   cls_loss   dfl_loss  Instances       Size\n"
     ]
    },
    {
     "name": "stderr",
     "output_type": "stream",
     "text": [
      "     68/100      1.47G     0.5802      1.016     0.8525     0.9207        105        128: 100%|██████████| 160/160 [00:42<00:00,  3.74it/s]\n",
      "                 Class     Images  Instances      Box(P          R      mAP50  mAP50-95)     Mask(P          R      mAP50  mAP50-95): 100%|██████████| 18/18 [00:09<00:00,  1.98it/s]"
     ]
    },
    {
     "name": "stdout",
     "output_type": "stream",
     "text": [
      "                   all       4112        614      0.121      0.378      0.107      0.102      0.121      0.378      0.107     0.0888\n"
     ]
    },
    {
     "name": "stderr",
     "output_type": "stream",
     "text": [
      "\n"
     ]
    },
    {
     "name": "stdout",
     "output_type": "stream",
     "text": [
      "\n",
      "      Epoch    GPU_mem   box_loss   seg_loss   cls_loss   dfl_loss  Instances       Size\n"
     ]
    },
    {
     "name": "stderr",
     "output_type": "stream",
     "text": [
      "     69/100      1.34G     0.5814      1.023     0.8552     0.9231         84        128: 100%|██████████| 160/160 [00:42<00:00,  3.74it/s]\n",
      "                 Class     Images  Instances      Box(P          R      mAP50  mAP50-95)     Mask(P          R      mAP50  mAP50-95): 100%|██████████| 18/18 [00:09<00:00,  1.99it/s]"
     ]
    },
    {
     "name": "stdout",
     "output_type": "stream",
     "text": [
      "                   all       4112        614      0.118      0.394      0.108      0.102      0.118      0.394      0.108     0.0878\n"
     ]
    },
    {
     "name": "stderr",
     "output_type": "stream",
     "text": [
      "\n"
     ]
    },
    {
     "name": "stdout",
     "output_type": "stream",
     "text": [
      "\n",
      "      Epoch    GPU_mem   box_loss   seg_loss   cls_loss   dfl_loss  Instances       Size\n"
     ]
    },
    {
     "name": "stderr",
     "output_type": "stream",
     "text": [
      "     70/100      1.47G     0.5765      1.009     0.8476     0.9194        102        128: 100%|██████████| 160/160 [00:42<00:00,  3.74it/s]\n",
      "                 Class     Images  Instances      Box(P          R      mAP50  mAP50-95)     Mask(P          R      mAP50  mAP50-95): 100%|██████████| 18/18 [00:08<00:00,  2.00it/s]"
     ]
    },
    {
     "name": "stdout",
     "output_type": "stream",
     "text": [
      "                   all       4112        614       0.12      0.393      0.111      0.104       0.12      0.393      0.111     0.0901\n"
     ]
    },
    {
     "name": "stderr",
     "output_type": "stream",
     "text": [
      "\n"
     ]
    },
    {
     "name": "stdout",
     "output_type": "stream",
     "text": [
      "\n",
      "      Epoch    GPU_mem   box_loss   seg_loss   cls_loss   dfl_loss  Instances       Size\n"
     ]
    },
    {
     "name": "stderr",
     "output_type": "stream",
     "text": [
      "     71/100      1.34G      0.573      1.009     0.8451     0.9166        110        128: 100%|██████████| 160/160 [00:42<00:00,  3.74it/s]\n",
      "                 Class     Images  Instances      Box(P          R      mAP50  mAP50-95)     Mask(P          R      mAP50  mAP50-95): 100%|██████████| 18/18 [00:09<00:00,  1.97it/s]"
     ]
    },
    {
     "name": "stdout",
     "output_type": "stream",
     "text": [
      "                   all       4112        614       0.12      0.396      0.113      0.105       0.12      0.396      0.113     0.0918\n"
     ]
    },
    {
     "name": "stderr",
     "output_type": "stream",
     "text": [
      "\n"
     ]
    },
    {
     "name": "stdout",
     "output_type": "stream",
     "text": [
      "\n",
      "      Epoch    GPU_mem   box_loss   seg_loss   cls_loss   dfl_loss  Instances       Size\n"
     ]
    },
    {
     "name": "stderr",
     "output_type": "stream",
     "text": [
      "     72/100      1.47G      0.575      1.009     0.8513      0.921         88        128: 100%|██████████| 160/160 [00:43<00:00,  3.72it/s]\n",
      "                 Class     Images  Instances      Box(P          R      mAP50  mAP50-95)     Mask(P          R      mAP50  mAP50-95): 100%|██████████| 18/18 [00:09<00:00,  1.98it/s]"
     ]
    },
    {
     "name": "stdout",
     "output_type": "stream",
     "text": [
      "                   all       4112        614       0.12      0.396      0.109      0.102       0.12      0.396      0.109     0.0888\n"
     ]
    },
    {
     "name": "stderr",
     "output_type": "stream",
     "text": [
      "\n"
     ]
    },
    {
     "name": "stdout",
     "output_type": "stream",
     "text": [
      "\n",
      "      Epoch    GPU_mem   box_loss   seg_loss   cls_loss   dfl_loss  Instances       Size\n"
     ]
    },
    {
     "name": "stderr",
     "output_type": "stream",
     "text": [
      "     73/100      1.34G     0.5684     0.9976     0.8362     0.9171         98        128: 100%|██████████| 160/160 [00:43<00:00,  3.71it/s]\n",
      "                 Class     Images  Instances      Box(P          R      mAP50  mAP50-95)     Mask(P          R      mAP50  mAP50-95): 100%|██████████| 18/18 [00:09<00:00,  1.98it/s]"
     ]
    },
    {
     "name": "stdout",
     "output_type": "stream",
     "text": [
      "                   all       4112        614       0.12      0.389      0.107      0.101       0.12      0.389      0.107     0.0877\n"
     ]
    },
    {
     "name": "stderr",
     "output_type": "stream",
     "text": [
      "\n"
     ]
    },
    {
     "name": "stdout",
     "output_type": "stream",
     "text": [
      "\n",
      "      Epoch    GPU_mem   box_loss   seg_loss   cls_loss   dfl_loss  Instances       Size\n"
     ]
    },
    {
     "name": "stderr",
     "output_type": "stream",
     "text": [
      "     74/100      1.47G     0.5674     0.9943     0.8343     0.9172         94        128: 100%|██████████| 160/160 [00:42<00:00,  3.76it/s]\n",
      "                 Class     Images  Instances      Box(P          R      mAP50  mAP50-95)     Mask(P          R      mAP50  mAP50-95): 100%|██████████| 18/18 [00:09<00:00,  1.99it/s]"
     ]
    },
    {
     "name": "stdout",
     "output_type": "stream",
     "text": [
      "                   all       4112        614      0.117      0.404      0.108      0.102      0.117      0.404      0.108     0.0876\n"
     ]
    },
    {
     "name": "stderr",
     "output_type": "stream",
     "text": [
      "\n"
     ]
    },
    {
     "name": "stdout",
     "output_type": "stream",
     "text": [
      "\n",
      "      Epoch    GPU_mem   box_loss   seg_loss   cls_loss   dfl_loss  Instances       Size\n"
     ]
    },
    {
     "name": "stderr",
     "output_type": "stream",
     "text": [
      "     75/100      1.34G     0.5663      1.005     0.8372      0.918         88        128: 100%|██████████| 160/160 [00:42<00:00,  3.76it/s]\n",
      "                 Class     Images  Instances      Box(P          R      mAP50  mAP50-95)     Mask(P          R      mAP50  mAP50-95): 100%|██████████| 18/18 [00:09<00:00,  1.99it/s]"
     ]
    },
    {
     "name": "stdout",
     "output_type": "stream",
     "text": [
      "                   all       4112        614      0.117       0.39      0.108      0.102      0.117       0.39      0.108     0.0875\n"
     ]
    },
    {
     "name": "stderr",
     "output_type": "stream",
     "text": [
      "\n"
     ]
    },
    {
     "name": "stdout",
     "output_type": "stream",
     "text": [
      "\n",
      "      Epoch    GPU_mem   box_loss   seg_loss   cls_loss   dfl_loss  Instances       Size\n"
     ]
    },
    {
     "name": "stderr",
     "output_type": "stream",
     "text": [
      "     76/100      1.47G     0.5612     0.9943     0.8235     0.9164         98        128: 100%|██████████| 160/160 [00:42<00:00,  3.76it/s]\n",
      "                 Class     Images  Instances      Box(P          R      mAP50  mAP50-95)     Mask(P          R      mAP50  mAP50-95): 100%|██████████| 18/18 [00:08<00:00,  2.01it/s]"
     ]
    },
    {
     "name": "stdout",
     "output_type": "stream",
     "text": [
      "                   all       4112        614      0.117      0.395      0.105     0.0997      0.117      0.395      0.105     0.0856\n"
     ]
    },
    {
     "name": "stderr",
     "output_type": "stream",
     "text": [
      "\n"
     ]
    },
    {
     "name": "stdout",
     "output_type": "stream",
     "text": [
      "\n",
      "      Epoch    GPU_mem   box_loss   seg_loss   cls_loss   dfl_loss  Instances       Size\n"
     ]
    },
    {
     "name": "stderr",
     "output_type": "stream",
     "text": [
      "     77/100      1.34G     0.5611     0.9955     0.8309     0.9172         86        128: 100%|██████████| 160/160 [00:42<00:00,  3.73it/s]\n",
      "                 Class     Images  Instances      Box(P          R      mAP50  mAP50-95)     Mask(P          R      mAP50  mAP50-95): 100%|██████████| 18/18 [00:08<00:00,  2.00it/s]"
     ]
    },
    {
     "name": "stdout",
     "output_type": "stream",
     "text": [
      "                   all       4112        614      0.116      0.402      0.116      0.111      0.116      0.402      0.116     0.0952\n"
     ]
    },
    {
     "name": "stderr",
     "output_type": "stream",
     "text": [
      "\n"
     ]
    },
    {
     "name": "stdout",
     "output_type": "stream",
     "text": [
      "\n",
      "      Epoch    GPU_mem   box_loss   seg_loss   cls_loss   dfl_loss  Instances       Size\n"
     ]
    },
    {
     "name": "stderr",
     "output_type": "stream",
     "text": [
      "     78/100      1.47G     0.5587     0.9937     0.8295     0.9145         87        128: 100%|██████████| 160/160 [00:43<00:00,  3.70it/s]\n",
      "                 Class     Images  Instances      Box(P          R      mAP50  mAP50-95)     Mask(P          R      mAP50  mAP50-95): 100%|██████████| 18/18 [00:09<00:00,  1.97it/s]"
     ]
    },
    {
     "name": "stdout",
     "output_type": "stream",
     "text": [
      "                   all       4112        614      0.115       0.41      0.116      0.111      0.115       0.41      0.116     0.0952\n"
     ]
    },
    {
     "name": "stderr",
     "output_type": "stream",
     "text": [
      "\n"
     ]
    },
    {
     "name": "stdout",
     "output_type": "stream",
     "text": [
      "\n",
      "      Epoch    GPU_mem   box_loss   seg_loss   cls_loss   dfl_loss  Instances       Size\n"
     ]
    },
    {
     "name": "stderr",
     "output_type": "stream",
     "text": [
      "     79/100      1.34G      0.558     0.9926     0.8171     0.9162         94        128: 100%|██████████| 160/160 [00:43<00:00,  3.69it/s]\n",
      "                 Class     Images  Instances      Box(P          R      mAP50  mAP50-95)     Mask(P          R      mAP50  mAP50-95): 100%|██████████| 18/18 [00:09<00:00,  1.98it/s]"
     ]
    },
    {
     "name": "stdout",
     "output_type": "stream",
     "text": [
      "                   all       4112        614      0.115      0.405      0.119      0.114      0.115      0.405      0.119     0.0978\n"
     ]
    },
    {
     "name": "stderr",
     "output_type": "stream",
     "text": [
      "\n"
     ]
    },
    {
     "name": "stdout",
     "output_type": "stream",
     "text": [
      "\n",
      "      Epoch    GPU_mem   box_loss   seg_loss   cls_loss   dfl_loss  Instances       Size\n"
     ]
    },
    {
     "name": "stderr",
     "output_type": "stream",
     "text": [
      "     80/100      1.47G     0.5511     0.9817     0.8143     0.9125         97        128: 100%|██████████| 160/160 [00:47<00:00,  3.38it/s]\n",
      "                 Class     Images  Instances      Box(P          R      mAP50  mAP50-95)     Mask(P          R      mAP50  mAP50-95): 100%|██████████| 18/18 [00:09<00:00,  1.97it/s]"
     ]
    },
    {
     "name": "stdout",
     "output_type": "stream",
     "text": [
      "                   all       4112        614      0.116      0.404      0.109      0.103      0.116      0.404      0.109     0.0878\n"
     ]
    },
    {
     "name": "stderr",
     "output_type": "stream",
     "text": [
      "\n"
     ]
    },
    {
     "name": "stdout",
     "output_type": "stream",
     "text": [
      "\n",
      "      Epoch    GPU_mem   box_loss   seg_loss   cls_loss   dfl_loss  Instances       Size\n"
     ]
    },
    {
     "name": "stderr",
     "output_type": "stream",
     "text": [
      "     81/100      1.34G     0.5528     0.9882     0.8176     0.9137         92        128: 100%|██████████| 160/160 [00:45<00:00,  3.53it/s]\n",
      "                 Class     Images  Instances      Box(P          R      mAP50  mAP50-95)     Mask(P          R      mAP50  mAP50-95): 100%|██████████| 18/18 [00:08<00:00,  2.01it/s]"
     ]
    },
    {
     "name": "stdout",
     "output_type": "stream",
     "text": [
      "                   all       4112        614      0.115      0.406       0.11      0.104      0.115      0.406       0.11     0.0887\n"
     ]
    },
    {
     "name": "stderr",
     "output_type": "stream",
     "text": [
      "\n"
     ]
    },
    {
     "name": "stdout",
     "output_type": "stream",
     "text": [
      "\n",
      "      Epoch    GPU_mem   box_loss   seg_loss   cls_loss   dfl_loss  Instances       Size\n"
     ]
    },
    {
     "name": "stderr",
     "output_type": "stream",
     "text": [
      "     82/100      1.47G     0.5512       0.99     0.8112     0.9162        101        128: 100%|██████████| 160/160 [00:42<00:00,  3.74it/s]\n",
      "                 Class     Images  Instances      Box(P          R      mAP50  mAP50-95)     Mask(P          R      mAP50  mAP50-95): 100%|██████████| 18/18 [00:09<00:00,  1.92it/s]"
     ]
    },
    {
     "name": "stdout",
     "output_type": "stream",
     "text": [
      "                   all       4112        614      0.115      0.407      0.108      0.103      0.115      0.407      0.108     0.0878\n"
     ]
    },
    {
     "name": "stderr",
     "output_type": "stream",
     "text": [
      "\n"
     ]
    },
    {
     "name": "stdout",
     "output_type": "stream",
     "text": [
      "\n",
      "      Epoch    GPU_mem   box_loss   seg_loss   cls_loss   dfl_loss  Instances       Size\n"
     ]
    },
    {
     "name": "stderr",
     "output_type": "stream",
     "text": [
      "     83/100      1.34G     0.5487     0.9877     0.8127     0.9138         89        128: 100%|██████████| 160/160 [00:42<00:00,  3.78it/s]\n",
      "                 Class     Images  Instances      Box(P          R      mAP50  mAP50-95)     Mask(P          R      mAP50  mAP50-95): 100%|██████████| 18/18 [00:09<00:00,  1.97it/s]"
     ]
    },
    {
     "name": "stdout",
     "output_type": "stream",
     "text": [
      "                   all       4112        614      0.115      0.407      0.111      0.106      0.115      0.407      0.111       0.09\n"
     ]
    },
    {
     "name": "stderr",
     "output_type": "stream",
     "text": [
      "\n"
     ]
    },
    {
     "name": "stdout",
     "output_type": "stream",
     "text": [
      "\n",
      "      Epoch    GPU_mem   box_loss   seg_loss   cls_loss   dfl_loss  Instances       Size\n"
     ]
    },
    {
     "name": "stderr",
     "output_type": "stream",
     "text": [
      "     84/100      1.47G     0.5491     0.9811     0.8072     0.9151        100        128: 100%|██████████| 160/160 [00:42<00:00,  3.76it/s]\n",
      "                 Class     Images  Instances      Box(P          R      mAP50  mAP50-95)     Mask(P          R      mAP50  mAP50-95): 100%|██████████| 18/18 [00:08<00:00,  2.04it/s]"
     ]
    },
    {
     "name": "stdout",
     "output_type": "stream",
     "text": [
      "                   all       4112        614      0.115      0.406      0.113      0.108      0.115      0.406      0.113     0.0916\n"
     ]
    },
    {
     "name": "stderr",
     "output_type": "stream",
     "text": [
      "\n"
     ]
    },
    {
     "name": "stdout",
     "output_type": "stream",
     "text": [
      "\n",
      "      Epoch    GPU_mem   box_loss   seg_loss   cls_loss   dfl_loss  Instances       Size\n"
     ]
    },
    {
     "name": "stderr",
     "output_type": "stream",
     "text": [
      "     85/100      1.34G     0.5449     0.9754     0.8073      0.914        109        128: 100%|██████████| 160/160 [00:42<00:00,  3.78it/s]\n",
      "                 Class     Images  Instances      Box(P          R      mAP50  mAP50-95)     Mask(P          R      mAP50  mAP50-95): 100%|██████████| 18/18 [00:08<00:00,  2.02it/s]"
     ]
    },
    {
     "name": "stdout",
     "output_type": "stream",
     "text": [
      "                   all       4112        614      0.116        0.4      0.124      0.119      0.116        0.4      0.124      0.102\n"
     ]
    },
    {
     "name": "stderr",
     "output_type": "stream",
     "text": [
      "\n"
     ]
    },
    {
     "name": "stdout",
     "output_type": "stream",
     "text": [
      "\n",
      "      Epoch    GPU_mem   box_loss   seg_loss   cls_loss   dfl_loss  Instances       Size\n"
     ]
    },
    {
     "name": "stderr",
     "output_type": "stream",
     "text": [
      "     86/100      1.47G      0.545     0.9757     0.8044     0.9141         95        128: 100%|██████████| 160/160 [00:42<00:00,  3.77it/s]\n",
      "                 Class     Images  Instances      Box(P          R      mAP50  mAP50-95)     Mask(P          R      mAP50  mAP50-95): 100%|██████████| 18/18 [00:09<00:00,  2.00it/s]"
     ]
    },
    {
     "name": "stdout",
     "output_type": "stream",
     "text": [
      "                   all       4112        614      0.115      0.394      0.119      0.114      0.115      0.394      0.119     0.0991\n"
     ]
    },
    {
     "name": "stderr",
     "output_type": "stream",
     "text": [
      "\n"
     ]
    },
    {
     "name": "stdout",
     "output_type": "stream",
     "text": [
      "\n",
      "      Epoch    GPU_mem   box_loss   seg_loss   cls_loss   dfl_loss  Instances       Size\n"
     ]
    },
    {
     "name": "stderr",
     "output_type": "stream",
     "text": [
      "     87/100      1.34G     0.5371     0.9683      0.796     0.9097         95        128: 100%|██████████| 160/160 [00:42<00:00,  3.78it/s]\n",
      "                 Class     Images  Instances      Box(P          R      mAP50  mAP50-95)     Mask(P          R      mAP50  mAP50-95): 100%|██████████| 18/18 [00:08<00:00,  2.01it/s]"
     ]
    },
    {
     "name": "stdout",
     "output_type": "stream",
     "text": [
      "                   all       4112        614      0.115      0.401       0.12      0.115      0.115      0.401       0.12     0.0996\n"
     ]
    },
    {
     "name": "stderr",
     "output_type": "stream",
     "text": [
      "\n"
     ]
    },
    {
     "name": "stdout",
     "output_type": "stream",
     "text": [
      "\n",
      "      Epoch    GPU_mem   box_loss   seg_loss   cls_loss   dfl_loss  Instances       Size\n"
     ]
    },
    {
     "name": "stderr",
     "output_type": "stream",
     "text": [
      "     88/100      1.47G     0.5403     0.9746      0.793     0.9118         97        128: 100%|██████████| 160/160 [00:42<00:00,  3.78it/s]\n",
      "                 Class     Images  Instances      Box(P          R      mAP50  mAP50-95)     Mask(P          R      mAP50  mAP50-95): 100%|██████████| 18/18 [00:08<00:00,  2.02it/s]"
     ]
    },
    {
     "name": "stdout",
     "output_type": "stream",
     "text": [
      "                   all       4112        614      0.115      0.406      0.121      0.116      0.115      0.406      0.121        0.1\n"
     ]
    },
    {
     "name": "stderr",
     "output_type": "stream",
     "text": [
      "\n"
     ]
    },
    {
     "name": "stdout",
     "output_type": "stream",
     "text": [
      "\n",
      "      Epoch    GPU_mem   box_loss   seg_loss   cls_loss   dfl_loss  Instances       Size\n"
     ]
    },
    {
     "name": "stderr",
     "output_type": "stream",
     "text": [
      "     89/100      1.34G     0.5368     0.9724     0.7901      0.913        103        128: 100%|██████████| 160/160 [00:42<00:00,  3.78it/s]\n",
      "                 Class     Images  Instances      Box(P          R      mAP50  mAP50-95)     Mask(P          R      mAP50  mAP50-95): 100%|██████████| 18/18 [00:08<00:00,  2.04it/s]"
     ]
    },
    {
     "name": "stdout",
     "output_type": "stream",
     "text": [
      "                   all       4112        614      0.115      0.405      0.121      0.116      0.115      0.405      0.121        0.1\n"
     ]
    },
    {
     "name": "stderr",
     "output_type": "stream",
     "text": [
      "\n"
     ]
    },
    {
     "name": "stdout",
     "output_type": "stream",
     "text": [
      "\n",
      "      Epoch    GPU_mem   box_loss   seg_loss   cls_loss   dfl_loss  Instances       Size\n"
     ]
    },
    {
     "name": "stderr",
     "output_type": "stream",
     "text": [
      "     90/100      1.47G     0.5305     0.9659      0.788     0.9089        103        128: 100%|██████████| 160/160 [00:41<00:00,  3.81it/s]\n",
      "                 Class     Images  Instances      Box(P          R      mAP50  mAP50-95)     Mask(P          R      mAP50  mAP50-95): 100%|██████████| 18/18 [00:08<00:00,  2.02it/s]"
     ]
    },
    {
     "name": "stdout",
     "output_type": "stream",
     "text": [
      "                   all       4112        614     0.0638      0.468      0.122      0.117     0.0638      0.468      0.122      0.101\n"
     ]
    },
    {
     "name": "stderr",
     "output_type": "stream",
     "text": [
      "\n"
     ]
    },
    {
     "name": "stdout",
     "output_type": "stream",
     "text": [
      "Closing dataloader mosaic\n",
      "\n",
      "      Epoch    GPU_mem   box_loss   seg_loss   cls_loss   dfl_loss  Instances       Size\n"
     ]
    },
    {
     "name": "stderr",
     "output_type": "stream",
     "text": [
      "     91/100      1.34G      0.494     0.9644     0.7284     0.9088         48        128: 100%|██████████| 160/160 [00:38<00:00,  4.16it/s]\n",
      "                 Class     Images  Instances      Box(P          R      mAP50  mAP50-95)     Mask(P          R      mAP50  mAP50-95): 100%|██████████| 18/18 [00:08<00:00,  2.01it/s]"
     ]
    },
    {
     "name": "stdout",
     "output_type": "stream",
     "text": [
      "                   all       4112        614     0.0691      0.466      0.126      0.121     0.0691      0.466      0.126      0.104\n"
     ]
    },
    {
     "name": "stderr",
     "output_type": "stream",
     "text": [
      "\n"
     ]
    },
    {
     "name": "stdout",
     "output_type": "stream",
     "text": [
      "\n",
      "      Epoch    GPU_mem   box_loss   seg_loss   cls_loss   dfl_loss  Instances       Size\n"
     ]
    },
    {
     "name": "stderr",
     "output_type": "stream",
     "text": [
      "     92/100      1.46G     0.4805     0.9539     0.7059      0.907         39        128: 100%|██████████| 160/160 [00:37<00:00,  4.24it/s]\n",
      "                 Class     Images  Instances      Box(P          R      mAP50  mAP50-95)     Mask(P          R      mAP50  mAP50-95): 100%|██████████| 18/18 [00:08<00:00,  2.01it/s]"
     ]
    },
    {
     "name": "stdout",
     "output_type": "stream",
     "text": [
      "                   all       4112        614     0.0681      0.466      0.126      0.121     0.0681      0.466      0.126      0.108\n"
     ]
    },
    {
     "name": "stderr",
     "output_type": "stream",
     "text": [
      "\n"
     ]
    },
    {
     "name": "stdout",
     "output_type": "stream",
     "text": [
      "\n",
      "      Epoch    GPU_mem   box_loss   seg_loss   cls_loss   dfl_loss  Instances       Size\n"
     ]
    },
    {
     "name": "stderr",
     "output_type": "stream",
     "text": [
      "     93/100      1.34G     0.4676     0.9473      0.697     0.8974         45        128: 100%|██████████| 160/160 [00:37<00:00,  4.25it/s]\n",
      "                 Class     Images  Instances      Box(P          R      mAP50  mAP50-95)     Mask(P          R      mAP50  mAP50-95): 100%|██████████| 18/18 [00:08<00:00,  2.01it/s]"
     ]
    },
    {
     "name": "stdout",
     "output_type": "stream",
     "text": [
      "                   all       4112        614     0.0672      0.466      0.125       0.12     0.0672      0.466      0.125      0.108\n"
     ]
    },
    {
     "name": "stderr",
     "output_type": "stream",
     "text": [
      "\n"
     ]
    },
    {
     "name": "stdout",
     "output_type": "stream",
     "text": [
      "\n",
      "      Epoch    GPU_mem   box_loss   seg_loss   cls_loss   dfl_loss  Instances       Size\n"
     ]
    },
    {
     "name": "stderr",
     "output_type": "stream",
     "text": [
      "     94/100      1.46G     0.4626     0.9412     0.6924     0.8981         47        128: 100%|██████████| 160/160 [00:37<00:00,  4.22it/s]\n",
      "                 Class     Images  Instances      Box(P          R      mAP50  mAP50-95)     Mask(P          R      mAP50  mAP50-95): 100%|██████████| 18/18 [00:09<00:00,  2.00it/s]"
     ]
    },
    {
     "name": "stdout",
     "output_type": "stream",
     "text": [
      "                   all       4112        614     0.0669      0.465      0.125       0.12     0.0669      0.465      0.125      0.106\n"
     ]
    },
    {
     "name": "stderr",
     "output_type": "stream",
     "text": [
      "\n"
     ]
    },
    {
     "name": "stdout",
     "output_type": "stream",
     "text": [
      "\n",
      "      Epoch    GPU_mem   box_loss   seg_loss   cls_loss   dfl_loss  Instances       Size\n"
     ]
    },
    {
     "name": "stderr",
     "output_type": "stream",
     "text": [
      "     95/100      1.34G     0.4586     0.9385     0.6809     0.8984         42        128: 100%|██████████| 160/160 [00:38<00:00,  4.10it/s]\n",
      "                 Class     Images  Instances      Box(P          R      mAP50  mAP50-95)     Mask(P          R      mAP50  mAP50-95): 100%|██████████| 18/18 [00:08<00:00,  2.00it/s]"
     ]
    },
    {
     "name": "stdout",
     "output_type": "stream",
     "text": [
      "                   all       4112        614     0.0672      0.465      0.123      0.118     0.0672      0.465      0.123      0.105\n"
     ]
    },
    {
     "name": "stderr",
     "output_type": "stream",
     "text": [
      "\n"
     ]
    },
    {
     "name": "stdout",
     "output_type": "stream",
     "text": [
      "\n",
      "      Epoch    GPU_mem   box_loss   seg_loss   cls_loss   dfl_loss  Instances       Size\n"
     ]
    },
    {
     "name": "stderr",
     "output_type": "stream",
     "text": [
      "     96/100      1.46G     0.4531     0.9381     0.6816     0.8928         42        128: 100%|██████████| 160/160 [00:38<00:00,  4.17it/s]\n",
      "                 Class     Images  Instances      Box(P          R      mAP50  mAP50-95)     Mask(P          R      mAP50  mAP50-95): 100%|██████████| 18/18 [00:08<00:00,  2.01it/s]"
     ]
    },
    {
     "name": "stdout",
     "output_type": "stream",
     "text": [
      "                   all       4112        614     0.0673      0.465      0.124      0.119     0.0673      0.465      0.124      0.106\n"
     ]
    },
    {
     "name": "stderr",
     "output_type": "stream",
     "text": [
      "\n"
     ]
    },
    {
     "name": "stdout",
     "output_type": "stream",
     "text": [
      "\n",
      "      Epoch    GPU_mem   box_loss   seg_loss   cls_loss   dfl_loss  Instances       Size\n"
     ]
    },
    {
     "name": "stderr",
     "output_type": "stream",
     "text": [
      "     97/100      1.34G      0.449     0.9334     0.6751     0.8928         41        128: 100%|██████████| 160/160 [00:37<00:00,  4.22it/s]\n",
      "                 Class     Images  Instances      Box(P          R      mAP50  mAP50-95)     Mask(P          R      mAP50  mAP50-95): 100%|██████████| 18/18 [00:09<00:00,  2.00it/s]"
     ]
    },
    {
     "name": "stdout",
     "output_type": "stream",
     "text": [
      "                   all       4112        614     0.0677      0.465      0.124      0.119     0.0677      0.465      0.124      0.106\n"
     ]
    },
    {
     "name": "stderr",
     "output_type": "stream",
     "text": [
      "\n"
     ]
    },
    {
     "name": "stdout",
     "output_type": "stream",
     "text": [
      "\n",
      "      Epoch    GPU_mem   box_loss   seg_loss   cls_loss   dfl_loss  Instances       Size\n"
     ]
    },
    {
     "name": "stderr",
     "output_type": "stream",
     "text": [
      "     98/100      1.46G     0.4489     0.9361     0.6661     0.8951         37        128: 100%|██████████| 160/160 [00:37<00:00,  4.25it/s]\n",
      "                 Class     Images  Instances      Box(P          R      mAP50  mAP50-95)     Mask(P          R      mAP50  mAP50-95): 100%|██████████| 18/18 [00:08<00:00,  2.00it/s]"
     ]
    },
    {
     "name": "stdout",
     "output_type": "stream",
     "text": [
      "                   all       4112        614     0.0678      0.464      0.113      0.109     0.0678      0.464      0.113     0.0944\n"
     ]
    },
    {
     "name": "stderr",
     "output_type": "stream",
     "text": [
      "\n"
     ]
    },
    {
     "name": "stdout",
     "output_type": "stream",
     "text": [
      "\n",
      "      Epoch    GPU_mem   box_loss   seg_loss   cls_loss   dfl_loss  Instances       Size\n"
     ]
    },
    {
     "name": "stderr",
     "output_type": "stream",
     "text": [
      "     99/100      1.34G     0.4428     0.9274     0.6617      0.888         43        128: 100%|██████████| 160/160 [00:37<00:00,  4.22it/s]\n",
      "                 Class     Images  Instances      Box(P          R      mAP50  mAP50-95)     Mask(P          R      mAP50  mAP50-95): 100%|██████████| 18/18 [00:09<00:00,  1.96it/s]"
     ]
    },
    {
     "name": "stdout",
     "output_type": "stream",
     "text": [
      "                   all       4112        614     0.0679      0.464      0.113      0.109     0.0679      0.464      0.113     0.0948\n"
     ]
    },
    {
     "name": "stderr",
     "output_type": "stream",
     "text": [
      "\n"
     ]
    },
    {
     "name": "stdout",
     "output_type": "stream",
     "text": [
      "\n",
      "      Epoch    GPU_mem   box_loss   seg_loss   cls_loss   dfl_loss  Instances       Size\n"
     ]
    },
    {
     "name": "stderr",
     "output_type": "stream",
     "text": [
      "    100/100      1.46G     0.4421     0.9275     0.6595     0.8922         43        128: 100%|██████████| 160/160 [00:37<00:00,  4.25it/s]\n",
      "                 Class     Images  Instances      Box(P          R      mAP50  mAP50-95)     Mask(P          R      mAP50  mAP50-95): 100%|██████████| 18/18 [00:08<00:00,  2.02it/s]"
     ]
    },
    {
     "name": "stdout",
     "output_type": "stream",
     "text": [
      "                   all       4112        614     0.0678      0.464      0.114       0.11     0.0678      0.464      0.114     0.0954\n"
     ]
    },
    {
     "name": "stderr",
     "output_type": "stream",
     "text": [
      "\n"
     ]
    },
    {
     "name": "stdout",
     "output_type": "stream",
     "text": [
      "\n",
      "100 epochs completed in 1.450 hours.\n",
      "Optimizer stripped from /home/anderste/ikt450-deep-neural-networks/DNN-prosjekt/dataset/runs/segment/train38/weights/last.pt, 6.7MB\n",
      "Optimizer stripped from /home/anderste/ikt450-deep-neural-networks/DNN-prosjekt/dataset/runs/segment/train38/weights/best.pt, 6.7MB\n",
      "\n",
      "Validating /home/anderste/ikt450-deep-neural-networks/DNN-prosjekt/dataset/runs/segment/train38/weights/best.pt...\n",
      "Ultralytics 8.3.23 🚀 Python-3.10.12 torch-2.2.0+cu121 CUDA:0 (Tesla V100-SXM3-32GB, 32494MiB)\n",
      "YOLOv8n-seg summary (fused): 195 layers, 3,262,549 parameters, 0 gradients, 12.0 GFLOPs\n"
     ]
    },
    {
     "name": "stderr",
     "output_type": "stream",
     "text": [
      "                 Class     Images  Instances      Box(P          R      mAP50  mAP50-95)     Mask(P          R      mAP50  mAP50-95): 100%|██████████| 18/18 [00:08<00:00,  2.20it/s]\n"
     ]
    },
    {
     "name": "stdout",
     "output_type": "stream",
     "text": [
      "                   all       4112        614      0.219      0.407      0.146      0.131      0.219      0.407      0.146       0.12\n",
      "                     1        265        270       0.14      0.638      0.134      0.123       0.14      0.638      0.134      0.112\n",
      "                     2         55         55     0.0826      0.818      0.156      0.142     0.0826      0.818      0.156      0.132\n",
      "                     3         89         89     0.0954      0.865      0.168      0.154     0.0954      0.865      0.168      0.144\n",
      "                     4         86         86       0.14      0.535      0.143      0.128       0.14      0.535      0.143      0.109\n",
      "                     5         56         56      0.139          1      0.162      0.145      0.139          1      0.162      0.124\n",
      "                     6          7          7     0.0304      0.286     0.0446     0.0378     0.0304      0.286     0.0446     0.0358\n",
      "                     7          7          7          0          0     0.0149      0.013          0          0     0.0149     0.0117\n",
      "                     8          7          7          0          0     0.0257     0.0247          0          0     0.0257     0.0204\n",
      "                     9          4          4      0.134          1      0.395      0.337      0.134          1      0.395      0.309\n",
      "                    10          8          8       0.14          1      0.171      0.145       0.14          1      0.171      0.125\n",
      "                    11          1          1          0          0     0.0302     0.0302          0          0     0.0302     0.0271\n",
      "                    12          7          7      0.163          1       0.38      0.304      0.163          1       0.38      0.275\n",
      "                    13          2          2          1          0      0.535      0.531          1          0      0.535      0.482\n",
      "                    14          2          2          1          0     0.0283     0.0269          1          0     0.0283     0.0248\n",
      "                    15          1          1          0          0          0          0          0          0          0          0\n",
      "                    16          5          5          0          0          0          0          0          0          0          0\n",
      "                    17          2          2          0          0          0          0          0          0          0          0\n",
      "                    19          1          1      0.317          1      0.497      0.448      0.317          1      0.497      0.448\n",
      "                    21          1          1          1          0     0.0262     0.0236          1          0     0.0262     0.0236\n",
      "                    22          3          3          0          0    0.00623    0.00623          0          0    0.00623    0.00498\n",
      "Speed: 0.0ms preprocess, 0.1ms inference, 0.0ms loss, 0.6ms postprocess per image\n",
      "Results saved to \u001b[1m/home/anderste/ikt450-deep-neural-networks/DNN-prosjekt/dataset/runs/segment/train38\u001b[0m\n",
      "\n",
      "\n",
      "WARNING ⚠️ inference results will accumulate in RAM unless `stream=True` is passed, causing potential out-of-memory\n",
      "errors for large sources or long-running streams and videos. See https://docs.ultralytics.com/modes/predict/ for help.\n",
      "\n",
      "Example:\n",
      "    results = model(source=..., stream=True)  # generator of Results objects\n",
      "    for r in results:\n",
      "        boxes = r.boxes  # Boxes object for bbox outputs\n",
      "        masks = r.masks  # Masks object for segment masks outputs\n",
      "        probs = r.probs  # Class probabilities for classification outputs\n",
      "\n",
      "image 1/4118 /home/anderste/ikt450-deep-neural-networks/DNN-prosjekt/segmentation_data_new/test/images/fish_000000009598_05288.png: 128x128 1 1, 7.5ms\n",
      "image 2/4118 /home/anderste/ikt450-deep-neural-networks/DNN-prosjekt/segmentation_data_new/test/images/fish_000000009598_05364.png: 128x128 1 0, 1 1, 7.4ms\n",
      "image 3/4118 /home/anderste/ikt450-deep-neural-networks/DNN-prosjekt/segmentation_data_new/test/images/fish_000000009598_05369.png: 128x128 1 0, 7.5ms\n",
      "image 4/4118 /home/anderste/ikt450-deep-neural-networks/DNN-prosjekt/segmentation_data_new/test/images/fish_000000009598_05386.png: 128x128 1 0, 7.3ms\n",
      "image 5/4118 /home/anderste/ikt450-deep-neural-networks/DNN-prosjekt/segmentation_data_new/test/images/fish_000000009598_05463.png: 128x128 1 0, 1 1, 7.5ms\n",
      "image 6/4118 /home/anderste/ikt450-deep-neural-networks/DNN-prosjekt/segmentation_data_new/test/images/fish_000000019599_07757.png: 128x128 1 3, 7.4ms\n",
      "image 7/4118 /home/anderste/ikt450-deep-neural-networks/DNN-prosjekt/segmentation_data_new/test/images/fish_000000019599_07779.png: 128x128 1 3, 7.4ms\n",
      "image 8/4118 /home/anderste/ikt450-deep-neural-networks/DNN-prosjekt/segmentation_data_new/test/images/fish_000000019599_07786.png: 96x128 1 3, 140.4ms\n",
      "image 9/4118 /home/anderste/ikt450-deep-neural-networks/DNN-prosjekt/segmentation_data_new/test/images/fish_000000029598_05347.png: 128x128 2 0s, 8.3ms\n",
      "image 10/4118 /home/anderste/ikt450-deep-neural-networks/DNN-prosjekt/segmentation_data_new/test/images/fish_000000029598_05350.png: 128x128 1 0, 7.5ms\n",
      "image 11/4118 /home/anderste/ikt450-deep-neural-networks/DNN-prosjekt/segmentation_data_new/test/images/fish_000000039598_05299.png: 128x128 1 0, 7.5ms\n",
      "image 12/4118 /home/anderste/ikt450-deep-neural-networks/DNN-prosjekt/segmentation_data_new/test/images/fish_000000039598_05324.png: 128x128 1 0, 7.4ms\n",
      "image 13/4118 /home/anderste/ikt450-deep-neural-networks/DNN-prosjekt/segmentation_data_new/test/images/fish_000000039598_05344.png: 128x128 1 0, 7.5ms\n",
      "image 14/4118 /home/anderste/ikt450-deep-neural-networks/DNN-prosjekt/segmentation_data_new/test/images/fish_000000109596_03654.png: 128x128 1 6, 7.6ms\n",
      "image 15/4118 /home/anderste/ikt450-deep-neural-networks/DNN-prosjekt/segmentation_data_new/test/images/fish_000000249596_03658.png: 128x128 1 1, 1 2, 7.5ms\n",
      "image 16/4118 /home/anderste/ikt450-deep-neural-networks/DNN-prosjekt/segmentation_data_new/test/images/fish_000000249596_03660.png: 128x128 1 1, 7.5ms\n",
      "image 17/4118 /home/anderste/ikt450-deep-neural-networks/DNN-prosjekt/segmentation_data_new/test/images/fish_000000589598_05305.png: 128x128 1 0, 7.5ms\n",
      "image 18/4118 /home/anderste/ikt450-deep-neural-networks/DNN-prosjekt/segmentation_data_new/test/images/fish_000000589598_05349.png: 128x128 1 0, 7.6ms\n",
      "image 19/4118 /home/anderste/ikt450-deep-neural-networks/DNN-prosjekt/segmentation_data_new/test/images/fish_000000589598_05371.png: 128x128 1 0, 7.3ms\n",
      "image 20/4118 /home/anderste/ikt450-deep-neural-networks/DNN-prosjekt/segmentation_data_new/test/images/fish_000000679596_03664.png: 128x128 1 2, 7.5ms\n",
      "image 21/4118 /home/anderste/ikt450-deep-neural-networks/DNN-prosjekt/segmentation_data_new/test/images/fish_000000679596_03666.png: 128x128 1 2, 7.5ms\n",
      "image 22/4118 /home/anderste/ikt450-deep-neural-networks/DNN-prosjekt/segmentation_data_new/test/images/fish_000000679596_03668.png: 128x128 1 2, 7.5ms\n",
      "image 23/4118 /home/anderste/ikt450-deep-neural-networks/DNN-prosjekt/segmentation_data_new/test/images/fish_000000819594_03410.png: 128x128 1 15, 7.5ms\n",
      "image 24/4118 /home/anderste/ikt450-deep-neural-networks/DNN-prosjekt/segmentation_data_new/test/images/fish_000000819594_03412.png: 128x128 1 15, 7.6ms\n",
      "image 25/4118 /home/anderste/ikt450-deep-neural-networks/DNN-prosjekt/segmentation_data_new/test/images/fish_000000819594_03428.png: 128x128 1 15, 7.5ms\n",
      "image 26/4118 /home/anderste/ikt450-deep-neural-networks/DNN-prosjekt/segmentation_data_new/test/images/fish_000000819599_07800.png: 128x128 1 3, 7.2ms\n",
      "image 27/4118 /home/anderste/ikt450-deep-neural-networks/DNN-prosjekt/segmentation_data_new/test/images/fish_000001009599_07801.png: 128x128 1 3, 7.6ms\n",
      "image 28/4118 /home/anderste/ikt450-deep-neural-networks/DNN-prosjekt/segmentation_data_new/test/images/fish_000001009599_07802.png: 128x128 1 3, 7.4ms\n",
      "image 29/4118 /home/anderste/ikt450-deep-neural-networks/DNN-prosjekt/segmentation_data_new/test/images/fish_000001099599_07812.png: 128x128 1 4, 7.5ms\n",
      "image 30/4118 /home/anderste/ikt450-deep-neural-networks/DNN-prosjekt/segmentation_data_new/test/images/fish_000001099599_07826.png: 128x128 1 3, 7.6ms\n",
      "image 31/4118 /home/anderste/ikt450-deep-neural-networks/DNN-prosjekt/segmentation_data_new/test/images/fish_000001099599_07831.png: 128x128 1 3, 7.6ms\n",
      "image 32/4118 /home/anderste/ikt450-deep-neural-networks/DNN-prosjekt/segmentation_data_new/test/images/fish_000001229596_03683.png: 128x128 1 6, 7.7ms\n",
      "image 33/4118 /home/anderste/ikt450-deep-neural-networks/DNN-prosjekt/segmentation_data_new/test/images/fish_000001229596_03687.png: 128x128 1 6, 7.5ms\n",
      "image 34/4118 /home/anderste/ikt450-deep-neural-networks/DNN-prosjekt/segmentation_data_new/test/images/fish_000001399597_05011.png: 128x128 1 12, 7.5ms\n",
      "image 35/4118 /home/anderste/ikt450-deep-neural-networks/DNN-prosjekt/segmentation_data_new/test/images/fish_000001399597_05013.png: 128x128 1 12, 7.6ms\n",
      "image 36/4118 /home/anderste/ikt450-deep-neural-networks/DNN-prosjekt/segmentation_data_new/test/images/fish_000001399597_05018.png: 128x128 1 12, 7.5ms\n",
      "image 37/4118 /home/anderste/ikt450-deep-neural-networks/DNN-prosjekt/segmentation_data_new/test/images/fish_000001399597_05021.png: 128x128 1 12, 7.6ms\n",
      "image 38/4118 /home/anderste/ikt450-deep-neural-networks/DNN-prosjekt/segmentation_data_new/test/images/fish_000001399597_05022.png: 128x128 1 12, 7.5ms\n",
      "image 39/4118 /home/anderste/ikt450-deep-neural-networks/DNN-prosjekt/segmentation_data_new/test/images/fish_000001399597_05030.png: 128x128 1 12, 7.6ms\n",
      "image 40/4118 /home/anderste/ikt450-deep-neural-networks/DNN-prosjekt/segmentation_data_new/test/images/fish_000001399597_05050.png: 128x128 1 12, 7.6ms\n",
      "image 41/4118 /home/anderste/ikt450-deep-neural-networks/DNN-prosjekt/segmentation_data_new/test/images/fish_000001399597_05054.png: 128x128 1 12, 7.6ms\n",
      "image 42/4118 /home/anderste/ikt450-deep-neural-networks/DNN-prosjekt/segmentation_data_new/test/images/fish_000001969599_07867.png: 128x128 1 3, 7.6ms\n",
      "image 43/4118 /home/anderste/ikt450-deep-neural-networks/DNN-prosjekt/segmentation_data_new/test/images/fish_000001969599_07872.png: 128x128 1 3, 7.5ms\n",
      "image 44/4118 /home/anderste/ikt450-deep-neural-networks/DNN-prosjekt/segmentation_data_new/test/images/fish_000001969599_07873.png: 128x128 1 3, 7.5ms\n",
      "image 45/4118 /home/anderste/ikt450-deep-neural-networks/DNN-prosjekt/segmentation_data_new/test/images/fish_000001969599_07874.png: 128x128 1 3, 7.7ms\n",
      "image 46/4118 /home/anderste/ikt450-deep-neural-networks/DNN-prosjekt/segmentation_data_new/test/images/fish_000001969599_07879.png: 128x128 1 3, 8.1ms\n",
      "image 47/4118 /home/anderste/ikt450-deep-neural-networks/DNN-prosjekt/segmentation_data_new/test/images/fish_000001969599_07880.png: 128x128 1 3, 7.3ms\n",
      "image 48/4118 /home/anderste/ikt450-deep-neural-networks/DNN-prosjekt/segmentation_data_new/test/images/fish_000001969599_07896.png: 128x128 1 3, 7.6ms\n",
      "image 49/4118 /home/anderste/ikt450-deep-neural-networks/DNN-prosjekt/segmentation_data_new/test/images/fish_000001969599_07897.png: 128x128 1 3, 7.6ms\n",
      "image 50/4118 /home/anderste/ikt450-deep-neural-networks/DNN-prosjekt/segmentation_data_new/test/images/fish_000001969599_07899.png: 128x128 1 3, 7.7ms\n",
      "image 51/4118 /home/anderste/ikt450-deep-neural-networks/DNN-prosjekt/segmentation_data_new/test/images/fish_000001979596_03688.png: 128x128 1 6, 7.4ms\n",
      "image 52/4118 /home/anderste/ikt450-deep-neural-networks/DNN-prosjekt/segmentation_data_new/test/images/fish_000001979596_03692.png: 128x128 1 1, 1 6, 7.6ms\n",
      "image 53/4118 /home/anderste/ikt450-deep-neural-networks/DNN-prosjekt/segmentation_data_new/test/images/fish_000002439596_03698.png: 128x128 1 6, 7.5ms\n",
      "image 54/4118 /home/anderste/ikt450-deep-neural-networks/DNN-prosjekt/segmentation_data_new/test/images/fish_000002489596_03703.png: 128x128 1 6, 7.6ms\n",
      "image 55/4118 /home/anderste/ikt450-deep-neural-networks/DNN-prosjekt/segmentation_data_new/test/images/fish_000002609598_05365.png: 128x128 1 0, 7.3ms\n",
      "image 56/4118 /home/anderste/ikt450-deep-neural-networks/DNN-prosjekt/segmentation_data_new/test/images/fish_000002609598_05372.png: 128x128 1 0, 7.5ms\n",
      "image 57/4118 /home/anderste/ikt450-deep-neural-networks/DNN-prosjekt/segmentation_data_new/test/images/fish_000002609598_05395.png: 128x128 1 0, 7.6ms\n",
      "image 58/4118 /home/anderste/ikt450-deep-neural-networks/DNN-prosjekt/segmentation_data_new/test/images/fish_000002609598_05396.png: 128x128 1 0, 7.5ms\n",
      "image 59/4118 /home/anderste/ikt450-deep-neural-networks/DNN-prosjekt/segmentation_data_new/test/images/fish_000002609598_05403.png: 128x128 1 0, 7.5ms\n",
      "image 60/4118 /home/anderste/ikt450-deep-neural-networks/DNN-prosjekt/segmentation_data_new/test/images/fish_000002609598_05404.png: 128x128 1 0, 7.4ms\n",
      "image 61/4118 /home/anderste/ikt450-deep-neural-networks/DNN-prosjekt/segmentation_data_new/test/images/fish_000002609598_05409.png: 128x128 1 0, 7.4ms\n",
      "image 62/4118 /home/anderste/ikt450-deep-neural-networks/DNN-prosjekt/segmentation_data_new/test/images/fish_000002819598_05337.png: 128x128 1 0, 7.5ms\n",
      "image 63/4118 /home/anderste/ikt450-deep-neural-networks/DNN-prosjekt/segmentation_data_new/test/images/fish_000002919597_05056.png: 128x128 1 12, 7.5ms\n",
      "image 64/4118 /home/anderste/ikt450-deep-neural-networks/DNN-prosjekt/segmentation_data_new/test/images/fish_000002919597_05062.png: 128x128 1 12, 7.2ms\n",
      "image 65/4118 /home/anderste/ikt450-deep-neural-networks/DNN-prosjekt/segmentation_data_new/test/images/fish_000003089596_03735.png: 128x128 1 2, 7.5ms\n",
      "image 66/4118 /home/anderste/ikt450-deep-neural-networks/DNN-prosjekt/segmentation_data_new/test/images/fish_000003089596_03752.png: 128x128 1 2, 7.4ms\n",
      "image 67/4118 /home/anderste/ikt450-deep-neural-networks/DNN-prosjekt/segmentation_data_new/test/images/fish_000003089596_03767.png: 128x128 1 2, 1 3, 7.5ms\n",
      "image 68/4118 /home/anderste/ikt450-deep-neural-networks/DNN-prosjekt/segmentation_data_new/test/images/fish_000003249596_03750.png: 128x128 1 6, 7.5ms\n",
      "image 69/4118 /home/anderste/ikt450-deep-neural-networks/DNN-prosjekt/segmentation_data_new/test/images/fish_000003279599_07908.png: 128x128 1 3, 7.5ms\n",
      "image 70/4118 /home/anderste/ikt450-deep-neural-networks/DNN-prosjekt/segmentation_data_new/test/images/fish_000003279599_07911.png: 128x128 1 3, 7.4ms\n",
      "image 71/4118 /home/anderste/ikt450-deep-neural-networks/DNN-prosjekt/segmentation_data_new/test/images/fish_000003279599_07925.png: 128x128 1 3, 7.6ms\n",
      "image 72/4118 /home/anderste/ikt450-deep-neural-networks/DNN-prosjekt/segmentation_data_new/test/images/fish_000003279599_07933.png: 128x128 1 3, 7.5ms\n",
      "image 73/4118 /home/anderste/ikt450-deep-neural-networks/DNN-prosjekt/segmentation_data_new/test/images/fish_000003589596_03764.png: 128x128 1 1, 1 13, 7.4ms\n",
      "image 74/4118 /home/anderste/ikt450-deep-neural-networks/DNN-prosjekt/segmentation_data_new/test/images/fish_000003629599_07937.png: 128x128 1 3, 7.5ms\n",
      "image 75/4118 /home/anderste/ikt450-deep-neural-networks/DNN-prosjekt/segmentation_data_new/test/images/fish_000003709594_03460.png: 128x128 1 10, 7.5ms\n",
      "image 76/4118 /home/anderste/ikt450-deep-neural-networks/DNN-prosjekt/segmentation_data_new/test/images/fish_000003939597_05071.png: 128x128 1 12, 7.5ms\n",
      "image 77/4118 /home/anderste/ikt450-deep-neural-networks/DNN-prosjekt/segmentation_data_new/test/images/fish_000003979599_07944.png: 128x128 1 3, 7.5ms\n",
      "image 78/4118 /home/anderste/ikt450-deep-neural-networks/DNN-prosjekt/segmentation_data_new/test/images/fish_000003979599_07950.png: 128x128 1 3, 7.5ms\n",
      "image 79/4118 /home/anderste/ikt450-deep-neural-networks/DNN-prosjekt/segmentation_data_new/test/images/fish_000003979599_07951.png: 128x128 1 3, 7.6ms\n",
      "image 80/4118 /home/anderste/ikt450-deep-neural-networks/DNN-prosjekt/segmentation_data_new/test/images/fish_000004210001_00019.png: 128x128 1 5, 7.7ms\n",
      "image 81/4118 /home/anderste/ikt450-deep-neural-networks/DNN-prosjekt/segmentation_data_new/test/images/fish_000004249599_07954.png: 128x128 1 3, 7.5ms\n",
      "image 82/4118 /home/anderste/ikt450-deep-neural-networks/DNN-prosjekt/segmentation_data_new/test/images/fish_000004249599_07959.png: 128x128 1 3, 7.4ms\n",
      "image 83/4118 /home/anderste/ikt450-deep-neural-networks/DNN-prosjekt/segmentation_data_new/test/images/fish_000004249599_07970.png: 128x128 1 3, 7.5ms\n",
      "image 84/4118 /home/anderste/ikt450-deep-neural-networks/DNN-prosjekt/segmentation_data_new/test/images/fish_000004249599_07971.png: 128x128 1 3, 7.5ms\n",
      "image 85/4118 /home/anderste/ikt450-deep-neural-networks/DNN-prosjekt/segmentation_data_new/test/images/fish_000004249599_07979.png: 128x128 1 3, 7.5ms\n",
      "image 86/4118 /home/anderste/ikt450-deep-neural-networks/DNN-prosjekt/segmentation_data_new/test/images/fish_000004250001_00052.png: 128x128 1 0, 1 1, 7.5ms\n",
      "image 87/4118 /home/anderste/ikt450-deep-neural-networks/DNN-prosjekt/segmentation_data_new/test/images/fish_000004270001_00053.png: 128x128 1 0, 7.5ms\n",
      "image 88/4118 /home/anderste/ikt450-deep-neural-networks/DNN-prosjekt/segmentation_data_new/test/images/fish_000004280001_00060.png: 128x128 1 0, 7.5ms\n",
      "image 89/4118 /home/anderste/ikt450-deep-neural-networks/DNN-prosjekt/segmentation_data_new/test/images/fish_000004280001_00062.png: 128x128 1 0, 7.5ms\n",
      "image 90/4118 /home/anderste/ikt450-deep-neural-networks/DNN-prosjekt/segmentation_data_new/test/images/fish_000004290001_00067.png: 128x128 1 0, 7.4ms\n",
      "image 91/4118 /home/anderste/ikt450-deep-neural-networks/DNN-prosjekt/segmentation_data_new/test/images/fish_000004290001_00071.png: 128x128 1 0, 7.4ms\n",
      "image 92/4118 /home/anderste/ikt450-deep-neural-networks/DNN-prosjekt/segmentation_data_new/test/images/fish_000004290001_00072.png: 128x128 1 0, 7.4ms\n",
      "image 93/4118 /home/anderste/ikt450-deep-neural-networks/DNN-prosjekt/segmentation_data_new/test/images/fish_000004300001_00077.png: 128x128 1 0, 7.4ms\n",
      "image 94/4118 /home/anderste/ikt450-deep-neural-networks/DNN-prosjekt/segmentation_data_new/test/images/fish_000004310001_00086.png: 128x128 1 0, 7.7ms\n",
      "image 95/4118 /home/anderste/ikt450-deep-neural-networks/DNN-prosjekt/segmentation_data_new/test/images/fish_000004310001_00087.png: 128x128 1 0, 7.5ms\n",
      "image 96/4118 /home/anderste/ikt450-deep-neural-networks/DNN-prosjekt/segmentation_data_new/test/images/fish_000004310001_00088.png: 128x128 1 0, 7.5ms\n",
      "image 97/4118 /home/anderste/ikt450-deep-neural-networks/DNN-prosjekt/segmentation_data_new/test/images/fish_000004330001_00099.png: 128x128 1 0, 7.3ms\n",
      "image 98/4118 /home/anderste/ikt450-deep-neural-networks/DNN-prosjekt/segmentation_data_new/test/images/fish_000004330001_00102.png: 128x128 1 0, 7.6ms\n",
      "image 99/4118 /home/anderste/ikt450-deep-neural-networks/DNN-prosjekt/segmentation_data_new/test/images/fish_000004340001_00106.png: 128x128 1 0, 7.5ms\n",
      "image 100/4118 /home/anderste/ikt450-deep-neural-networks/DNN-prosjekt/segmentation_data_new/test/images/fish_000004349596_03770.png: 128x128 1 6, 7.5ms\n",
      "image 101/4118 /home/anderste/ikt450-deep-neural-networks/DNN-prosjekt/segmentation_data_new/test/images/fish_000004350001_00127.png: 128x128 1 0, 7.5ms\n",
      "image 102/4118 /home/anderste/ikt450-deep-neural-networks/DNN-prosjekt/segmentation_data_new/test/images/fish_000004350001_00130.png: 128x128 1 0, 7.5ms\n",
      "image 103/4118 /home/anderste/ikt450-deep-neural-networks/DNN-prosjekt/segmentation_data_new/test/images/fish_000004360001_00132.png: 128x128 1 0, 7.5ms\n",
      "image 104/4118 /home/anderste/ikt450-deep-neural-networks/DNN-prosjekt/segmentation_data_new/test/images/fish_000004360001_00139.png: 128x128 1 0, 8.0ms\n",
      "image 105/4118 /home/anderste/ikt450-deep-neural-networks/DNN-prosjekt/segmentation_data_new/test/images/fish_000004360001_00142.png: 128x128 1 0, 7.6ms\n",
      "image 106/4118 /home/anderste/ikt450-deep-neural-networks/DNN-prosjekt/segmentation_data_new/test/images/fish_000004380001_00147.png: 128x128 1 0, 7.5ms\n",
      "image 107/4118 /home/anderste/ikt450-deep-neural-networks/DNN-prosjekt/segmentation_data_new/test/images/fish_000004380001_00163.png: 128x128 1 0, 7.5ms\n",
      "image 108/4118 /home/anderste/ikt450-deep-neural-networks/DNN-prosjekt/segmentation_data_new/test/images/fish_000004380001_00164.png: 128x96 1 0, 133.5ms\n",
      "image 109/4118 /home/anderste/ikt450-deep-neural-networks/DNN-prosjekt/segmentation_data_new/test/images/fish_000004380001_00174.png: 128x128 1 0, 8.3ms\n",
      "image 110/4118 /home/anderste/ikt450-deep-neural-networks/DNN-prosjekt/segmentation_data_new/test/images/fish_000004410001_00189.png: 128x128 1 0, 7.7ms\n",
      "image 111/4118 /home/anderste/ikt450-deep-neural-networks/DNN-prosjekt/segmentation_data_new/test/images/fish_000004420001_00193.png: 128x128 1 0, 7.6ms\n",
      "image 112/4118 /home/anderste/ikt450-deep-neural-networks/DNN-prosjekt/segmentation_data_new/test/images/fish_000004420001_00194.png: 128x128 1 0, 7.6ms\n",
      "image 113/4118 /home/anderste/ikt450-deep-neural-networks/DNN-prosjekt/segmentation_data_new/test/images/fish_000004440001_00219.png: 128x128 1 0, 7.7ms\n",
      "image 114/4118 /home/anderste/ikt450-deep-neural-networks/DNN-prosjekt/segmentation_data_new/test/images/fish_000004460001_00198.png: 128x128 1 0, 7.7ms\n",
      "image 115/4118 /home/anderste/ikt450-deep-neural-networks/DNN-prosjekt/segmentation_data_new/test/images/fish_000004460001_00200.png: 128x128 1 0, 7.6ms\n",
      "image 116/4118 /home/anderste/ikt450-deep-neural-networks/DNN-prosjekt/segmentation_data_new/test/images/fish_000004460001_00202.png: 128x128 1 0, 7.4ms\n",
      "image 117/4118 /home/anderste/ikt450-deep-neural-networks/DNN-prosjekt/segmentation_data_new/test/images/fish_000004460001_00209.png: 128x128 1 0, 7.6ms\n",
      "image 118/4118 /home/anderste/ikt450-deep-neural-networks/DNN-prosjekt/segmentation_data_new/test/images/fish_000004460001_00246.png: 128x128 1 0, 7.5ms\n",
      "image 119/4118 /home/anderste/ikt450-deep-neural-networks/DNN-prosjekt/segmentation_data_new/test/images/fish_000004460001_00260.png: 128x128 1 0, 7.6ms\n",
      "image 120/4118 /home/anderste/ikt450-deep-neural-networks/DNN-prosjekt/segmentation_data_new/test/images/fish_000004460001_00262.png: 128x128 1 0, 7.4ms\n",
      "image 121/4118 /home/anderste/ikt450-deep-neural-networks/DNN-prosjekt/segmentation_data_new/test/images/fish_000004460001_00271.png: 128x96 1 0, 8.2ms\n",
      "image 122/4118 /home/anderste/ikt450-deep-neural-networks/DNN-prosjekt/segmentation_data_new/test/images/fish_000004460001_00278.png: 128x128 1 0, 8.2ms\n",
      "image 123/4118 /home/anderste/ikt450-deep-neural-networks/DNN-prosjekt/segmentation_data_new/test/images/fish_000004479597_05077.png: 128x128 1 12, 7.5ms\n",
      "image 124/4118 /home/anderste/ikt450-deep-neural-networks/DNN-prosjekt/segmentation_data_new/test/images/fish_000004479597_05082.png: 128x128 1 12, 7.9ms\n",
      "image 125/4118 /home/anderste/ikt450-deep-neural-networks/DNN-prosjekt/segmentation_data_new/test/images/fish_000004479597_05084.png: 128x128 1 12, 7.7ms\n",
      "image 126/4118 /home/anderste/ikt450-deep-neural-networks/DNN-prosjekt/segmentation_data_new/test/images/fish_000004480001_00281.png: 128x128 1 0, 7.6ms\n",
      "image 127/4118 /home/anderste/ikt450-deep-neural-networks/DNN-prosjekt/segmentation_data_new/test/images/fish_000004490001_00287.png: 128x128 1 0, 7.6ms\n",
      "image 128/4118 /home/anderste/ikt450-deep-neural-networks/DNN-prosjekt/segmentation_data_new/test/images/fish_000004510001_00304.png: 128x128 1 0, 7.6ms\n",
      "image 129/4118 /home/anderste/ikt450-deep-neural-networks/DNN-prosjekt/segmentation_data_new/test/images/fish_000004510001_00312.png: 128x128 1 0, 7.4ms\n",
      "image 130/4118 /home/anderste/ikt450-deep-neural-networks/DNN-prosjekt/segmentation_data_new/test/images/fish_000004550001_00326.png: 128x128 1 0, 7.6ms\n",
      "image 131/4118 /home/anderste/ikt450-deep-neural-networks/DNN-prosjekt/segmentation_data_new/test/images/fish_000004560001_00331.png: 128x128 1 0, 7.7ms\n",
      "image 132/4118 /home/anderste/ikt450-deep-neural-networks/DNN-prosjekt/segmentation_data_new/test/images/fish_000004560001_00340.png: 128x128 1 0, 7.3ms\n",
      "image 133/4118 /home/anderste/ikt450-deep-neural-networks/DNN-prosjekt/segmentation_data_new/test/images/fish_000004580001_00366.png: 128x128 1 0, 1 1, 7.6ms\n",
      "image 134/4118 /home/anderste/ikt450-deep-neural-networks/DNN-prosjekt/segmentation_data_new/test/images/fish_000004590001_00377.png: 128x128 1 5, 7.7ms\n",
      "image 135/4118 /home/anderste/ikt450-deep-neural-networks/DNN-prosjekt/segmentation_data_new/test/images/fish_000004590001_00379.png: 128x128 1 5, 8.0ms\n",
      "image 136/4118 /home/anderste/ikt450-deep-neural-networks/DNN-prosjekt/segmentation_data_new/test/images/fish_000004590001_00389.png: 128x128 1 5, 7.7ms\n",
      "image 137/4118 /home/anderste/ikt450-deep-neural-networks/DNN-prosjekt/segmentation_data_new/test/images/fish_000004590001_00391.png: 128x128 1 5, 7.9ms\n",
      "image 138/4118 /home/anderste/ikt450-deep-neural-networks/DNN-prosjekt/segmentation_data_new/test/images/fish_000004599596_03774.png: 128x128 1 2, 7.5ms\n",
      "image 139/4118 /home/anderste/ikt450-deep-neural-networks/DNN-prosjekt/segmentation_data_new/test/images/fish_000004600001_00372.png: 128x128 1 0, 7.6ms\n",
      "image 140/4118 /home/anderste/ikt450-deep-neural-networks/DNN-prosjekt/segmentation_data_new/test/images/fish_000004600001_00412.png: 128x128 1 0, 7.6ms\n",
      "image 141/4118 /home/anderste/ikt450-deep-neural-networks/DNN-prosjekt/segmentation_data_new/test/images/fish_000004600001_00415.png: 128x128 1 0, 7.6ms\n",
      "image 142/4118 /home/anderste/ikt450-deep-neural-networks/DNN-prosjekt/segmentation_data_new/test/images/fish_000004620001_00421.png: 128x128 1 0, 7.7ms\n",
      "image 143/4118 /home/anderste/ikt450-deep-neural-networks/DNN-prosjekt/segmentation_data_new/test/images/fish_000004630001_00426.png: 128x128 1 0, 7.7ms\n",
      "image 144/4118 /home/anderste/ikt450-deep-neural-networks/DNN-prosjekt/segmentation_data_new/test/images/fish_000004680001_00446.png: 128x128 1 0, 7.7ms\n",
      "image 145/4118 /home/anderste/ikt450-deep-neural-networks/DNN-prosjekt/segmentation_data_new/test/images/fish_000004690001_00439.png: 128x128 1 0, 7.8ms\n",
      "image 146/4118 /home/anderste/ikt450-deep-neural-networks/DNN-prosjekt/segmentation_data_new/test/images/fish_000004700001_00451.png: 128x128 1 0, 9.2ms\n",
      "image 147/4118 /home/anderste/ikt450-deep-neural-networks/DNN-prosjekt/segmentation_data_new/test/images/fish_000004700001_00453.png: 128x128 1 0, 7.6ms\n",
      "image 148/4118 /home/anderste/ikt450-deep-neural-networks/DNN-prosjekt/segmentation_data_new/test/images/fish_000004700001_00457.png: 128x128 1 0, 7.7ms\n",
      "image 149/4118 /home/anderste/ikt450-deep-neural-networks/DNN-prosjekt/segmentation_data_new/test/images/fish_000004700001_00465.png: 128x128 1 0, 7.6ms\n",
      "image 150/4118 /home/anderste/ikt450-deep-neural-networks/DNN-prosjekt/segmentation_data_new/test/images/fish_000004700001_00469.png: 128x128 1 0, 7.6ms\n",
      "image 151/4118 /home/anderste/ikt450-deep-neural-networks/DNN-prosjekt/segmentation_data_new/test/images/fish_000004700001_00471.png: 128x128 1 0, 7.9ms\n",
      "image 152/4118 /home/anderste/ikt450-deep-neural-networks/DNN-prosjekt/segmentation_data_new/test/images/fish_000004700001_00475.png: 128x128 1 0, 8.7ms\n",
      "image 153/4118 /home/anderste/ikt450-deep-neural-networks/DNN-prosjekt/segmentation_data_new/test/images/fish_000004710001_00476.png: 128x128 1 0, 1 5, 7.7ms\n",
      "image 154/4118 /home/anderste/ikt450-deep-neural-networks/DNN-prosjekt/segmentation_data_new/test/images/fish_000004740001_00491.png: 128x128 1 5, 7.7ms\n",
      "image 155/4118 /home/anderste/ikt450-deep-neural-networks/DNN-prosjekt/segmentation_data_new/test/images/fish_000004750001_00513.png: 128x128 1 0, 7.6ms\n",
      "image 156/4118 /home/anderste/ikt450-deep-neural-networks/DNN-prosjekt/segmentation_data_new/test/images/fish_000004750001_00519.png: 128x128 1 0, 7.5ms\n",
      "image 157/4118 /home/anderste/ikt450-deep-neural-networks/DNN-prosjekt/segmentation_data_new/test/images/fish_000004759596_03776.png: 128x128 1 6, 7.6ms\n",
      "image 158/4118 /home/anderste/ikt450-deep-neural-networks/DNN-prosjekt/segmentation_data_new/test/images/fish_000004760001_00514.png: 128x128 1 0, 7.6ms\n",
      "image 159/4118 /home/anderste/ikt450-deep-neural-networks/DNN-prosjekt/segmentation_data_new/test/images/fish_000004760001_00523.png: 128x128 1 0, 7.6ms\n",
      "image 160/4118 /home/anderste/ikt450-deep-neural-networks/DNN-prosjekt/segmentation_data_new/test/images/fish_000004770001_00532.png: 128x128 1 0, 7.8ms\n",
      "image 161/4118 /home/anderste/ikt450-deep-neural-networks/DNN-prosjekt/segmentation_data_new/test/images/fish_000004780001_00541.png: 128x128 1 0, 7.5ms\n",
      "image 162/4118 /home/anderste/ikt450-deep-neural-networks/DNN-prosjekt/segmentation_data_new/test/images/fish_000004790001_00560.png: 128x128 1 0, 7.6ms\n",
      "image 163/4118 /home/anderste/ikt450-deep-neural-networks/DNN-prosjekt/segmentation_data_new/test/images/fish_000004800001_00570.png: 128x128 1 0, 7.7ms\n",
      "image 164/4118 /home/anderste/ikt450-deep-neural-networks/DNN-prosjekt/segmentation_data_new/test/images/fish_000004810001_00554.png: 128x128 1 0, 7.9ms\n",
      "image 165/4118 /home/anderste/ikt450-deep-neural-networks/DNN-prosjekt/segmentation_data_new/test/images/fish_000004810001_00557.png: 128x128 1 0, 7.4ms\n",
      "image 166/4118 /home/anderste/ikt450-deep-neural-networks/DNN-prosjekt/segmentation_data_new/test/images/fish_000004810001_00561.png: 128x128 1 0, 7.7ms\n",
      "image 167/4118 /home/anderste/ikt450-deep-neural-networks/DNN-prosjekt/segmentation_data_new/test/images/fish_000004810001_00564.png: 128x128 1 0, 7.7ms\n",
      "image 168/4118 /home/anderste/ikt450-deep-neural-networks/DNN-prosjekt/segmentation_data_new/test/images/fish_000004810001_00566.png: 128x128 1 0, 7.6ms\n",
      "image 169/4118 /home/anderste/ikt450-deep-neural-networks/DNN-prosjekt/segmentation_data_new/test/images/fish_000004840001_00596.png: 128x128 1 0, 8.1ms\n",
      "image 170/4118 /home/anderste/ikt450-deep-neural-networks/DNN-prosjekt/segmentation_data_new/test/images/fish_000004859599_07998.png: 128x128 1 3, 7.6ms\n",
      "image 171/4118 /home/anderste/ikt450-deep-neural-networks/DNN-prosjekt/segmentation_data_new/test/images/fish_000004859599_08002.png: 128x128 1 3, 7.6ms\n",
      "image 172/4118 /home/anderste/ikt450-deep-neural-networks/DNN-prosjekt/segmentation_data_new/test/images/fish_000004859599_08023.png: 128x128 1 3, 7.7ms\n",
      "image 173/4118 /home/anderste/ikt450-deep-neural-networks/DNN-prosjekt/segmentation_data_new/test/images/fish_000004860001_00613.png: 128x128 1 0, 7.6ms\n",
      "image 174/4118 /home/anderste/ikt450-deep-neural-networks/DNN-prosjekt/segmentation_data_new/test/images/fish_000004880001_00619.png: 128x128 1 0, 7.6ms\n",
      "image 175/4118 /home/anderste/ikt450-deep-neural-networks/DNN-prosjekt/segmentation_data_new/test/images/fish_000004880001_00623.png: 128x128 1 0, 7.6ms\n",
      "image 176/4118 /home/anderste/ikt450-deep-neural-networks/DNN-prosjekt/segmentation_data_new/test/images/fish_000004890001_00632.png: 128x128 1 0, 7.6ms\n",
      "image 177/4118 /home/anderste/ikt450-deep-neural-networks/DNN-prosjekt/segmentation_data_new/test/images/fish_000004910001_00641.png: 128x128 1 0, 7.8ms\n",
      "image 178/4118 /home/anderste/ikt450-deep-neural-networks/DNN-prosjekt/segmentation_data_new/test/images/fish_000004910001_00644.png: 128x128 1 0, 7.7ms\n",
      "image 179/4118 /home/anderste/ikt450-deep-neural-networks/DNN-prosjekt/segmentation_data_new/test/images/fish_000004960001_00660.png: 128x128 1 5, 7.6ms\n",
      "image 180/4118 /home/anderste/ikt450-deep-neural-networks/DNN-prosjekt/segmentation_data_new/test/images/fish_000004970001_00664.png: 128x128 1 0, 7.6ms\n",
      "image 181/4118 /home/anderste/ikt450-deep-neural-networks/DNN-prosjekt/segmentation_data_new/test/images/fish_000004979596_03783.png: 128x128 1 6, 7.7ms\n",
      "image 182/4118 /home/anderste/ikt450-deep-neural-networks/DNN-prosjekt/segmentation_data_new/test/images/fish_000005089596_03788.png: 128x128 1 1, 7.6ms\n",
      "image 183/4118 /home/anderste/ikt450-deep-neural-networks/DNN-prosjekt/segmentation_data_new/test/images/fish_000005099596_03785.png: 128x128 1 6, 7.7ms\n",
      "image 184/4118 /home/anderste/ikt450-deep-neural-networks/DNN-prosjekt/segmentation_data_new/test/images/fish_000005299598_05382.png: 128x128 1 0, 7.6ms\n",
      "image 185/4118 /home/anderste/ikt450-deep-neural-networks/DNN-prosjekt/segmentation_data_new/test/images/fish_000005299598_05384.png: 128x128 1 0, 7.7ms\n",
      "image 186/4118 /home/anderste/ikt450-deep-neural-networks/DNN-prosjekt/segmentation_data_new/test/images/fish_000005299598_05418.png: 128x128 1 0, 7.6ms\n",
      "image 187/4118 /home/anderste/ikt450-deep-neural-networks/DNN-prosjekt/segmentation_data_new/test/images/fish_000005299598_05420.png: 128x128 1 0, 7.6ms\n",
      "image 188/4118 /home/anderste/ikt450-deep-neural-networks/DNN-prosjekt/segmentation_data_new/test/images/fish_000005299598_05422.png: 128x128 1 0, 7.7ms\n",
      "image 189/4118 /home/anderste/ikt450-deep-neural-networks/DNN-prosjekt/segmentation_data_new/test/images/fish_000005299598_05423.png: 128x128 1 0, 7.6ms\n",
      "image 190/4118 /home/anderste/ikt450-deep-neural-networks/DNN-prosjekt/segmentation_data_new/test/images/fish_000005299598_05426.png: 128x128 1 0, 7.6ms\n",
      "image 191/4118 /home/anderste/ikt450-deep-neural-networks/DNN-prosjekt/segmentation_data_new/test/images/fish_000005349596_03789.png: 128x128 1 1, 1 2, 7.6ms\n",
      "image 192/4118 /home/anderste/ikt450-deep-neural-networks/DNN-prosjekt/segmentation_data_new/test/images/fish_000005439598_05439.png: 128x128 1 0, 7.6ms\n",
      "image 193/4118 /home/anderste/ikt450-deep-neural-networks/DNN-prosjekt/segmentation_data_new/test/images/fish_000005439598_05443.png: 128x128 1 0, 7.7ms\n",
      "image 194/4118 /home/anderste/ikt450-deep-neural-networks/DNN-prosjekt/segmentation_data_new/test/images/fish_000005439598_05446.png: 128x128 1 0, 7.6ms\n",
      "image 195/4118 /home/anderste/ikt450-deep-neural-networks/DNN-prosjekt/segmentation_data_new/test/images/fish_000005479596_03818.png: 128x128 1 1, 1 2, 7.7ms\n",
      "image 196/4118 /home/anderste/ikt450-deep-neural-networks/DNN-prosjekt/segmentation_data_new/test/images/fish_000005489596_03797.png: 128x128 1 6, 7.7ms\n",
      "image 197/4118 /home/anderste/ikt450-deep-neural-networks/DNN-prosjekt/segmentation_data_new/test/images/fish_000005509599_08029.png: 128x128 1 3, 7.8ms\n",
      "image 198/4118 /home/anderste/ikt450-deep-neural-networks/DNN-prosjekt/segmentation_data_new/test/images/fish_000005509599_08035.png: 128x128 1 3, 7.8ms\n",
      "image 199/4118 /home/anderste/ikt450-deep-neural-networks/DNN-prosjekt/segmentation_data_new/test/images/fish_000005509599_08038.png: 128x128 1 3, 7.8ms\n",
      "image 200/4118 /home/anderste/ikt450-deep-neural-networks/DNN-prosjekt/segmentation_data_new/test/images/fish_000005509599_08041.png: 128x128 1 3, 7.6ms\n",
      "image 201/4118 /home/anderste/ikt450-deep-neural-networks/DNN-prosjekt/segmentation_data_new/test/images/fish_000005569596_03804.png: 128x128 1 1, 1 2, 7.6ms\n",
      "image 202/4118 /home/anderste/ikt450-deep-neural-networks/DNN-prosjekt/segmentation_data_new/test/images/fish_000005849599_08049.png: 128x128 1 3, 7.7ms\n",
      "image 203/4118 /home/anderste/ikt450-deep-neural-networks/DNN-prosjekt/segmentation_data_new/test/images/fish_000005849599_08050.png: 128x128 1 3, 7.6ms\n",
      "image 204/4118 /home/anderste/ikt450-deep-neural-networks/DNN-prosjekt/segmentation_data_new/test/images/fish_000005849599_08059.png: 128x128 1 3, 7.5ms\n",
      "image 205/4118 /home/anderste/ikt450-deep-neural-networks/DNN-prosjekt/segmentation_data_new/test/images/fish_000005849599_08064.png: 128x128 1 3, 7.6ms\n",
      "image 206/4118 /home/anderste/ikt450-deep-neural-networks/DNN-prosjekt/segmentation_data_new/test/images/fish_000005849599_08068.png: 128x128 1 3, 7.7ms\n",
      "image 207/4118 /home/anderste/ikt450-deep-neural-networks/DNN-prosjekt/segmentation_data_new/test/images/fish_000005849599_08075.png: 128x128 1 3, 7.5ms\n",
      "image 208/4118 /home/anderste/ikt450-deep-neural-networks/DNN-prosjekt/segmentation_data_new/test/images/fish_000005849599_08076.png: 128x128 1 3, 1 4, 7.8ms\n",
      "image 209/4118 /home/anderste/ikt450-deep-neural-networks/DNN-prosjekt/segmentation_data_new/test/images/fish_000005849599_08081.png: 128x128 1 3, 7.4ms\n",
      "image 210/4118 /home/anderste/ikt450-deep-neural-networks/DNN-prosjekt/segmentation_data_new/test/images/fish_000005849599_08086.png: 128x128 1 3, 1 4, 7.5ms\n",
      "image 211/4118 /home/anderste/ikt450-deep-neural-networks/DNN-prosjekt/segmentation_data_new/test/images/fish_000005909598_05414.png: 128x128 1 0, 7.6ms\n",
      "image 212/4118 /home/anderste/ikt450-deep-neural-networks/DNN-prosjekt/segmentation_data_new/test/images/fish_000005919596_03822.png: 128x128 1 1, 7.6ms\n",
      "image 213/4118 /home/anderste/ikt450-deep-neural-networks/DNN-prosjekt/segmentation_data_new/test/images/fish_000006019596_03826.png: 128x128 (no detections), 7.9ms\n",
      "image 214/4118 /home/anderste/ikt450-deep-neural-networks/DNN-prosjekt/segmentation_data_new/test/images/fish_000006019596_03832.png: 128x128 1 7, 7.7ms\n",
      "image 215/4118 /home/anderste/ikt450-deep-neural-networks/DNN-prosjekt/segmentation_data_new/test/images/fish_000006389597_05095.png: 128x128 1 1, 7.6ms\n",
      "image 216/4118 /home/anderste/ikt450-deep-neural-networks/DNN-prosjekt/segmentation_data_new/test/images/fish_000006389597_05103.png: 128x128 (no detections), 7.5ms\n",
      "image 217/4118 /home/anderste/ikt450-deep-neural-networks/DNN-prosjekt/segmentation_data_new/test/images/fish_000006519596_03836.png: 128x128 1 6, 7.6ms\n",
      "image 218/4118 /home/anderste/ikt450-deep-neural-networks/DNN-prosjekt/segmentation_data_new/test/images/fish_000006900001_00686.png: 128x128 1 0, 7.5ms\n",
      "image 219/4118 /home/anderste/ikt450-deep-neural-networks/DNN-prosjekt/segmentation_data_new/test/images/fish_000006910001_00680.png: 128x128 1 0, 7.5ms\n",
      "image 220/4118 /home/anderste/ikt450-deep-neural-networks/DNN-prosjekt/segmentation_data_new/test/images/fish_000006910001_00681.png: 128x128 1 0, 7.4ms\n",
      "image 221/4118 /home/anderste/ikt450-deep-neural-networks/DNN-prosjekt/segmentation_data_new/test/images/fish_000006960001_00715.png: 128x128 1 0, 7.6ms\n",
      "image 222/4118 /home/anderste/ikt450-deep-neural-networks/DNN-prosjekt/segmentation_data_new/test/images/fish_000006960001_00716.png: 128x128 1 0, 7.6ms\n",
      "image 223/4118 /home/anderste/ikt450-deep-neural-networks/DNN-prosjekt/segmentation_data_new/test/images/fish_000006990001_00731.png: 128x128 1 0, 1 1, 7.6ms\n",
      "image 224/4118 /home/anderste/ikt450-deep-neural-networks/DNN-prosjekt/segmentation_data_new/test/images/fish_000007000001_00752.png: 128x128 2 0s, 7.9ms\n",
      "image 225/4118 /home/anderste/ikt450-deep-neural-networks/DNN-prosjekt/segmentation_data_new/test/images/fish_000007010001_00738.png: 128x128 1 0, 7.7ms\n",
      "image 226/4118 /home/anderste/ikt450-deep-neural-networks/DNN-prosjekt/segmentation_data_new/test/images/fish_000007020001_00756.png: 128x128 1 0, 7.7ms\n",
      "image 227/4118 /home/anderste/ikt450-deep-neural-networks/DNN-prosjekt/segmentation_data_new/test/images/fish_000007020001_00759.png: 128x128 1 0, 7.4ms\n",
      "image 228/4118 /home/anderste/ikt450-deep-neural-networks/DNN-prosjekt/segmentation_data_new/test/images/fish_000007030001_00773.png: 128x128 1 0, 7.5ms\n",
      "image 229/4118 /home/anderste/ikt450-deep-neural-networks/DNN-prosjekt/segmentation_data_new/test/images/fish_000007060001_00794.png: 96x128 (no detections), 8.2ms\n",
      "image 230/4118 /home/anderste/ikt450-deep-neural-networks/DNN-prosjekt/segmentation_data_new/test/images/fish_000007070001_00796.png: 128x128 1 0, 8.1ms\n",
      "image 231/4118 /home/anderste/ikt450-deep-neural-networks/DNN-prosjekt/segmentation_data_new/test/images/fish_000007080001_00799.png: 128x128 1 0, 7.8ms\n",
      "image 232/4118 /home/anderste/ikt450-deep-neural-networks/DNN-prosjekt/segmentation_data_new/test/images/fish_000007100001_00829.png: 128x128 1 0, 7.6ms\n",
      "image 233/4118 /home/anderste/ikt450-deep-neural-networks/DNN-prosjekt/segmentation_data_new/test/images/fish_000007110001_00819.png: 128x128 1 0, 7.6ms\n",
      "image 234/4118 /home/anderste/ikt450-deep-neural-networks/DNN-prosjekt/segmentation_data_new/test/images/fish_000007110001_00821.png: 128x128 1 0, 7.6ms\n",
      "image 235/4118 /home/anderste/ikt450-deep-neural-networks/DNN-prosjekt/segmentation_data_new/test/images/fish_000007110001_00822.png: 128x128 1 0, 7.6ms\n",
      "image 236/4118 /home/anderste/ikt450-deep-neural-networks/DNN-prosjekt/segmentation_data_new/test/images/fish_000007120001_00838.png: 128x128 1 0, 7.6ms\n",
      "image 237/4118 /home/anderste/ikt450-deep-neural-networks/DNN-prosjekt/segmentation_data_new/test/images/fish_000007120001_00841.png: 128x128 1 0, 7.6ms\n",
      "image 238/4118 /home/anderste/ikt450-deep-neural-networks/DNN-prosjekt/segmentation_data_new/test/images/fish_000007120001_00845.png: 128x128 1 0, 7.6ms\n",
      "image 239/4118 /home/anderste/ikt450-deep-neural-networks/DNN-prosjekt/segmentation_data_new/test/images/fish_000007140001_00846.png: 128x128 1 0, 7.6ms\n",
      "image 240/4118 /home/anderste/ikt450-deep-neural-networks/DNN-prosjekt/segmentation_data_new/test/images/fish_000007150001_00858.png: 128x128 1 0, 7.7ms\n",
      "image 241/4118 /home/anderste/ikt450-deep-neural-networks/DNN-prosjekt/segmentation_data_new/test/images/fish_000007160001_00869.png: 96x128 1 22, 8.3ms\n",
      "image 242/4118 /home/anderste/ikt450-deep-neural-networks/DNN-prosjekt/segmentation_data_new/test/images/fish_000007190001_00890.png: 128x128 1 0, 8.1ms\n",
      "image 243/4118 /home/anderste/ikt450-deep-neural-networks/DNN-prosjekt/segmentation_data_new/test/images/fish_000007200001_00912.png: 128x128 1 0, 7.7ms\n",
      "image 244/4118 /home/anderste/ikt450-deep-neural-networks/DNN-prosjekt/segmentation_data_new/test/images/fish_000007209599_08109.png: 128x128 1 3, 8.1ms\n",
      "image 245/4118 /home/anderste/ikt450-deep-neural-networks/DNN-prosjekt/segmentation_data_new/test/images/fish_000007209599_08116.png: 128x128 1 3, 7.4ms\n",
      "image 246/4118 /home/anderste/ikt450-deep-neural-networks/DNN-prosjekt/segmentation_data_new/test/images/fish_000007209599_08118.png: 128x128 1 3, 7.6ms\n",
      "image 247/4118 /home/anderste/ikt450-deep-neural-networks/DNN-prosjekt/segmentation_data_new/test/images/fish_000007210001_00896.png: 128x128 1 0, 7.7ms\n",
      "image 248/4118 /home/anderste/ikt450-deep-neural-networks/DNN-prosjekt/segmentation_data_new/test/images/fish_000007210001_00898.png: 128x128 1 0, 7.6ms\n",
      "image 249/4118 /home/anderste/ikt450-deep-neural-networks/DNN-prosjekt/segmentation_data_new/test/images/fish_000007210001_00913.png: 128x128 1 0, 7.5ms\n",
      "image 250/4118 /home/anderste/ikt450-deep-neural-networks/DNN-prosjekt/segmentation_data_new/test/images/fish_000007220001_00921.png: 128x128 1 0, 7.5ms\n",
      "image 251/4118 /home/anderste/ikt450-deep-neural-networks/DNN-prosjekt/segmentation_data_new/test/images/fish_000007220001_00930.png: 128x128 1 0, 7.4ms\n",
      "image 252/4118 /home/anderste/ikt450-deep-neural-networks/DNN-prosjekt/segmentation_data_new/test/images/fish_000007230001_00938.png: 128x128 1 0, 1 1, 7.6ms\n",
      "image 253/4118 /home/anderste/ikt450-deep-neural-networks/DNN-prosjekt/segmentation_data_new/test/images/fish_000007240001_00932.png: 128x128 1 0, 7.6ms\n",
      "image 254/4118 /home/anderste/ikt450-deep-neural-networks/DNN-prosjekt/segmentation_data_new/test/images/fish_000007240001_00933.png: 128x128 1 0, 7.4ms\n",
      "image 255/4118 /home/anderste/ikt450-deep-neural-networks/DNN-prosjekt/segmentation_data_new/test/images/fish_000007240001_00946.png: 128x128 1 0, 7.5ms\n",
      "image 256/4118 /home/anderste/ikt450-deep-neural-networks/DNN-prosjekt/segmentation_data_new/test/images/fish_000007260001_00957.png: 128x128 1 0, 7.6ms\n",
      "image 257/4118 /home/anderste/ikt450-deep-neural-networks/DNN-prosjekt/segmentation_data_new/test/images/fish_000007260001_00958.png: 128x128 1 0, 7.5ms\n",
      "image 258/4118 /home/anderste/ikt450-deep-neural-networks/DNN-prosjekt/segmentation_data_new/test/images/fish_000007260001_00961.png: 128x128 1 0, 7.6ms\n",
      "image 259/4118 /home/anderste/ikt450-deep-neural-networks/DNN-prosjekt/segmentation_data_new/test/images/fish_000007289598_05419.png: 128x128 1 0, 7.5ms\n",
      "image 260/4118 /home/anderste/ikt450-deep-neural-networks/DNN-prosjekt/segmentation_data_new/test/images/fish_000007289598_05421.png: 128x128 1 0, 8.1ms\n",
      "image 261/4118 /home/anderste/ikt450-deep-neural-networks/DNN-prosjekt/segmentation_data_new/test/images/fish_000007289598_05440.png: 128x128 1 0, 7.6ms\n",
      "image 262/4118 /home/anderste/ikt450-deep-neural-networks/DNN-prosjekt/segmentation_data_new/test/images/fish_000007289598_05441.png: 128x128 1 0, 7.6ms\n",
      "image 263/4118 /home/anderste/ikt450-deep-neural-networks/DNN-prosjekt/segmentation_data_new/test/images/fish_000007330001_00976.png: 128x128 1 0, 7.6ms\n",
      "image 264/4118 /home/anderste/ikt450-deep-neural-networks/DNN-prosjekt/segmentation_data_new/test/images/fish_000007330001_00978.png: 128x128 1 0, 7.6ms\n",
      "image 265/4118 /home/anderste/ikt450-deep-neural-networks/DNN-prosjekt/segmentation_data_new/test/images/fish_000007340001_00985.png: 128x128 1 0, 7.7ms\n",
      "image 266/4118 /home/anderste/ikt450-deep-neural-networks/DNN-prosjekt/segmentation_data_new/test/images/fish_000007350001_00988.png: 128x128 1 0, 7.6ms\n",
      "image 267/4118 /home/anderste/ikt450-deep-neural-networks/DNN-prosjekt/segmentation_data_new/test/images/fish_000007350001_00989.png: 128x128 1 0, 7.7ms\n",
      "image 268/4118 /home/anderste/ikt450-deep-neural-networks/DNN-prosjekt/segmentation_data_new/test/images/fish_000007360001_00993.png: 128x128 1 0, 7.6ms\n",
      "image 269/4118 /home/anderste/ikt450-deep-neural-networks/DNN-prosjekt/segmentation_data_new/test/images/fish_000007360001_00997.png: 128x128 1 0, 7.6ms\n",
      "image 270/4118 /home/anderste/ikt450-deep-neural-networks/DNN-prosjekt/segmentation_data_new/test/images/fish_000007380001_01012.png: 128x128 1 0, 8.1ms\n",
      "image 271/4118 /home/anderste/ikt450-deep-neural-networks/DNN-prosjekt/segmentation_data_new/test/images/fish_000007380001_01017.png: 128x128 1 0, 7.5ms\n",
      "image 272/4118 /home/anderste/ikt450-deep-neural-networks/DNN-prosjekt/segmentation_data_new/test/images/fish_000007390001_01020.png: 96x128 1 22, 8.3ms\n",
      "image 273/4118 /home/anderste/ikt450-deep-neural-networks/DNN-prosjekt/segmentation_data_new/test/images/fish_000007440001_01031.png: 128x128 1 0, 8.0ms\n",
      "image 274/4118 /home/anderste/ikt450-deep-neural-networks/DNN-prosjekt/segmentation_data_new/test/images/fish_000007450001_01032.png: 128x128 1 0, 7.6ms\n",
      "image 275/4118 /home/anderste/ikt450-deep-neural-networks/DNN-prosjekt/segmentation_data_new/test/images/fish_000007480001_01052.png: 128x128 1 2, 7.7ms\n",
      "image 276/4118 /home/anderste/ikt450-deep-neural-networks/DNN-prosjekt/segmentation_data_new/test/images/fish_000007490001_01056.png: 128x128 1 0, 7.6ms\n",
      "image 277/4118 /home/anderste/ikt450-deep-neural-networks/DNN-prosjekt/segmentation_data_new/test/images/fish_000007490001_01058.png: 128x128 1 0, 7.6ms\n",
      "image 278/4118 /home/anderste/ikt450-deep-neural-networks/DNN-prosjekt/segmentation_data_new/test/images/fish_000007519592_03448.png: 128x128 1 1, 7.6ms\n",
      "image 279/4118 /home/anderste/ikt450-deep-neural-networks/DNN-prosjekt/segmentation_data_new/test/images/fish_000007609596_03844.png: 128x128 1 1, 7.6ms\n",
      "image 280/4118 /home/anderste/ikt450-deep-neural-networks/DNN-prosjekt/segmentation_data_new/test/images/fish_000007609596_03847.png: 128x128 1 1, 7.4ms\n",
      "image 281/4118 /home/anderste/ikt450-deep-neural-networks/DNN-prosjekt/segmentation_data_new/test/images/fish_000007729597_05108.png: 128x128 1 12, 7.7ms\n",
      "image 282/4118 /home/anderste/ikt450-deep-neural-networks/DNN-prosjekt/segmentation_data_new/test/images/fish_000007729597_05117.png: 128x128 1 12, 7.7ms\n",
      "image 283/4118 /home/anderste/ikt450-deep-neural-networks/DNN-prosjekt/segmentation_data_new/test/images/fish_000007759596_03849.png: 128x128 1 6, 7.7ms\n",
      "image 284/4118 /home/anderste/ikt450-deep-neural-networks/DNN-prosjekt/segmentation_data_new/test/images/fish_000007929599_08141.png: 128x128 1 3, 1 4, 7.8ms\n",
      "image 285/4118 /home/anderste/ikt450-deep-neural-networks/DNN-prosjekt/segmentation_data_new/test/images/fish_000008059596_03864.png: 128x128 1 6, 7.6ms\n",
      "image 286/4118 /home/anderste/ikt450-deep-neural-networks/DNN-prosjekt/segmentation_data_new/test/images/fish_000008059596_03870.png: 128x128 1 6, 7.6ms\n",
      "image 287/4118 /home/anderste/ikt450-deep-neural-networks/DNN-prosjekt/segmentation_data_new/test/images/fish_000008059596_03898.png: 128x128 1 6, 7.5ms\n",
      "image 288/4118 /home/anderste/ikt450-deep-neural-networks/DNN-prosjekt/segmentation_data_new/test/images/fish_000008059596_03916.png: 128x128 1 6, 7.5ms\n",
      "image 289/4118 /home/anderste/ikt450-deep-neural-networks/DNN-prosjekt/segmentation_data_new/test/images/fish_000008059596_03917.png: 128x128 1 6, 7.5ms\n",
      "image 290/4118 /home/anderste/ikt450-deep-neural-networks/DNN-prosjekt/segmentation_data_new/test/images/fish_000008059596_03936.png: 128x128 1 6, 7.6ms\n",
      "image 291/4118 /home/anderste/ikt450-deep-neural-networks/DNN-prosjekt/segmentation_data_new/test/images/fish_000008059596_03973.png: 128x128 1 6, 7.5ms\n",
      "image 292/4118 /home/anderste/ikt450-deep-neural-networks/DNN-prosjekt/segmentation_data_new/test/images/fish_000008919597_05122.png: 128x128 1 0, 7.6ms\n",
      "image 293/4118 /home/anderste/ikt450-deep-neural-networks/DNN-prosjekt/segmentation_data_new/test/images/fish_000008919597_05123.png: 96x128 (no detections), 8.2ms\n",
      "image 294/4118 /home/anderste/ikt450-deep-neural-networks/DNN-prosjekt/segmentation_data_new/test/images/fish_000008919599_08171.png: 128x128 1 3, 8.1ms\n",
      "image 295/4118 /home/anderste/ikt450-deep-neural-networks/DNN-prosjekt/segmentation_data_new/test/images/fish_000008919599_08173.png: 128x128 1 3, 7.4ms\n",
      "image 296/4118 /home/anderste/ikt450-deep-neural-networks/DNN-prosjekt/segmentation_data_new/test/images/fish_000008919599_08186.png: 128x128 1 3, 7.5ms\n",
      "image 297/4118 /home/anderste/ikt450-deep-neural-networks/DNN-prosjekt/segmentation_data_new/test/images/fish_000008919599_08194.png: 128x128 1 3, 7.5ms\n",
      "image 298/4118 /home/anderste/ikt450-deep-neural-networks/DNN-prosjekt/segmentation_data_new/test/images/fish_000008919599_08208.png: 128x128 1 3, 9.6ms\n",
      "image 299/4118 /home/anderste/ikt450-deep-neural-networks/DNN-prosjekt/segmentation_data_new/test/images/fish_000009449596_03882.png: 128x128 1 2, 7.5ms\n",
      "image 300/4118 /home/anderste/ikt450-deep-neural-networks/DNN-prosjekt/segmentation_data_new/test/images/fish_000009549596_03887.png: 128x128 1 2, 7.6ms\n",
      "image 301/4118 /home/anderste/ikt450-deep-neural-networks/DNN-prosjekt/segmentation_data_new/test/images/fish_000009569599_08214.png: 128x128 1 3, 7.7ms\n",
      "image 302/4118 /home/anderste/ikt450-deep-neural-networks/DNN-prosjekt/segmentation_data_new/test/images/fish_000009569599_08220.png: 128x128 1 3, 7.6ms\n",
      "image 303/4118 /home/anderste/ikt450-deep-neural-networks/DNN-prosjekt/segmentation_data_new/test/images/fish_000009569599_08222.png: 128x128 1 3, 7.7ms\n",
      "image 304/4118 /home/anderste/ikt450-deep-neural-networks/DNN-prosjekt/segmentation_data_new/test/images/fish_000009569599_08225.png: 128x96 1 3, 8.4ms\n",
      "image 305/4118 /home/anderste/ikt450-deep-neural-networks/DNN-prosjekt/segmentation_data_new/test/images/fish_000009569599_08227.png: 128x128 1 3, 8.1ms\n",
      "image 306/4118 /home/anderste/ikt450-deep-neural-networks/DNN-prosjekt/segmentation_data_new/test/images/fish_000009569599_08232.png: 128x128 1 3, 7.5ms\n",
      "image 307/4118 /home/anderste/ikt450-deep-neural-networks/DNN-prosjekt/segmentation_data_new/test/images/fish_000009569599_08237.png: 128x128 1 3, 7.4ms\n",
      "image 308/4118 /home/anderste/ikt450-deep-neural-networks/DNN-prosjekt/segmentation_data_new/test/images/fish_000009569599_08243.png: 128x128 1 3, 7.5ms\n",
      "image 309/4118 /home/anderste/ikt450-deep-neural-networks/DNN-prosjekt/segmentation_data_new/test/images/fish_000009989597_05133.png: 128x128 1 0, 7.6ms\n",
      "image 310/4118 /home/anderste/ikt450-deep-neural-networks/DNN-prosjekt/segmentation_data_new/test/images/fish_000009989597_05143.png: 128x128 1 1, 7.7ms\n",
      "image 311/4118 /home/anderste/ikt450-deep-neural-networks/DNN-prosjekt/segmentation_data_new/test/images/fish_000010129599_08252.png: 128x128 1 3, 7.6ms\n",
      "image 312/4118 /home/anderste/ikt450-deep-neural-networks/DNN-prosjekt/segmentation_data_new/test/images/fish_000010129599_08258.png: 128x128 1 3, 7.4ms\n",
      "image 313/4118 /home/anderste/ikt450-deep-neural-networks/DNN-prosjekt/segmentation_data_new/test/images/fish_000010129599_08262.png: 128x128 1 3, 7.4ms\n",
      "image 314/4118 /home/anderste/ikt450-deep-neural-networks/DNN-prosjekt/segmentation_data_new/test/images/fish_000010169594_03492.png: 128x128 1 15, 7.7ms\n",
      "image 315/4118 /home/anderste/ikt450-deep-neural-networks/DNN-prosjekt/segmentation_data_new/test/images/fish_000010169594_03498.png: 128x128 (no detections), 7.6ms\n",
      "image 316/4118 /home/anderste/ikt450-deep-neural-networks/DNN-prosjekt/segmentation_data_new/test/images/fish_000010229598_05474.png: 128x128 1 0, 7.4ms\n",
      "image 317/4118 /home/anderste/ikt450-deep-neural-networks/DNN-prosjekt/segmentation_data_new/test/images/fish_000010309598_05470.png: 128x128 2 0s, 7.4ms\n",
      "image 318/4118 /home/anderste/ikt450-deep-neural-networks/DNN-prosjekt/segmentation_data_new/test/images/fish_000010309598_05493.png: 128x128 1 0, 7.5ms\n",
      "image 319/4118 /home/anderste/ikt450-deep-neural-networks/DNN-prosjekt/segmentation_data_new/test/images/fish_000010309598_05510.png: 128x128 1 0, 7.6ms\n",
      "image 320/4118 /home/anderste/ikt450-deep-neural-networks/DNN-prosjekt/segmentation_data_new/test/images/fish_000010309598_05531.png: 128x128 1 0, 7.7ms\n",
      "image 321/4118 /home/anderste/ikt450-deep-neural-networks/DNN-prosjekt/segmentation_data_new/test/images/fish_000010309598_05636.png: 128x128 1 0, 7.5ms\n",
      "image 322/4118 /home/anderste/ikt450-deep-neural-networks/DNN-prosjekt/segmentation_data_new/test/images/fish_000010309598_05677.png: 128x128 1 0, 7.5ms\n",
      "image 323/4118 /home/anderste/ikt450-deep-neural-networks/DNN-prosjekt/segmentation_data_new/test/images/fish_000010309598_05682.png: 128x128 1 0, 7.6ms\n",
      "image 324/4118 /home/anderste/ikt450-deep-neural-networks/DNN-prosjekt/segmentation_data_new/test/images/fish_000010309598_05694.png: 128x128 1 0, 7.8ms\n",
      "image 325/4118 /home/anderste/ikt450-deep-neural-networks/DNN-prosjekt/segmentation_data_new/test/images/fish_000010309598_05697.png: 128x128 1 0, 7.5ms\n",
      "image 326/4118 /home/anderste/ikt450-deep-neural-networks/DNN-prosjekt/segmentation_data_new/test/images/fish_000010309598_05715.png: 128x128 1 0, 7.6ms\n",
      "image 327/4118 /home/anderste/ikt450-deep-neural-networks/DNN-prosjekt/segmentation_data_new/test/images/fish_000010309598_05717.png: 128x128 1 0, 1 1, 7.4ms\n",
      "image 328/4118 /home/anderste/ikt450-deep-neural-networks/DNN-prosjekt/segmentation_data_new/test/images/fish_000010429596_03902.png: 128x128 1 1, 7.6ms\n",
      "image 329/4118 /home/anderste/ikt450-deep-neural-networks/DNN-prosjekt/segmentation_data_new/test/images/fish_000010429596_03908.png: 128x128 1 1, 7.6ms\n",
      "image 330/4118 /home/anderste/ikt450-deep-neural-networks/DNN-prosjekt/segmentation_data_new/test/images/fish_000010519594_03473.png: 96x128 1 15, 8.1ms\n",
      "image 331/4118 /home/anderste/ikt450-deep-neural-networks/DNN-prosjekt/segmentation_data_new/test/images/fish_000010519594_03476.png: 96x128 1 15, 7.5ms\n",
      "image 332/4118 /home/anderste/ikt450-deep-neural-networks/DNN-prosjekt/segmentation_data_new/test/images/fish_000010519594_03487.png: 128x128 1 15, 8.4ms\n",
      "image 333/4118 /home/anderste/ikt450-deep-neural-networks/DNN-prosjekt/segmentation_data_new/test/images/fish_000010519594_03493.png: 128x128 1 15, 7.7ms\n",
      "image 334/4118 /home/anderste/ikt450-deep-neural-networks/DNN-prosjekt/segmentation_data_new/test/images/fish_000010519594_03505.png: 128x128 1 15, 7.6ms\n",
      "image 335/4118 /home/anderste/ikt450-deep-neural-networks/DNN-prosjekt/segmentation_data_new/test/images/fish_000010519594_03506.png: 128x128 1 15, 7.6ms\n",
      "image 336/4118 /home/anderste/ikt450-deep-neural-networks/DNN-prosjekt/segmentation_data_new/test/images/fish_000010519594_03507.png: 128x128 1 15, 7.7ms\n",
      "image 337/4118 /home/anderste/ikt450-deep-neural-networks/DNN-prosjekt/segmentation_data_new/test/images/fish_000010519594_03509.png: 128x128 1 15, 7.6ms\n",
      "image 338/4118 /home/anderste/ikt450-deep-neural-networks/DNN-prosjekt/segmentation_data_new/test/images/fish_000010519594_03517.png: 128x128 1 15, 7.6ms\n",
      "image 339/4118 /home/anderste/ikt450-deep-neural-networks/DNN-prosjekt/segmentation_data_new/test/images/fish_000010679599_08263.png: 128x128 1 3, 7.5ms\n",
      "image 340/4118 /home/anderste/ikt450-deep-neural-networks/DNN-prosjekt/segmentation_data_new/test/images/fish_000010679599_08278.png: 128x128 1 3, 7.6ms\n",
      "image 341/4118 /home/anderste/ikt450-deep-neural-networks/DNN-prosjekt/segmentation_data_new/test/images/fish_000010699598_05583.png: 128x128 1 0, 7.5ms\n",
      "image 342/4118 /home/anderste/ikt450-deep-neural-networks/DNN-prosjekt/segmentation_data_new/test/images/fish_000010919599_08282.png: 128x128 1 3, 7.6ms\n",
      "image 343/4118 /home/anderste/ikt450-deep-neural-networks/DNN-prosjekt/segmentation_data_new/test/images/fish_000011189598_05511.png: 128x128 1 0, 7.7ms\n",
      "image 344/4118 /home/anderste/ikt450-deep-neural-networks/DNN-prosjekt/segmentation_data_new/test/images/fish_000011279598_05547.png: 128x128 1 1, 7.7ms\n",
      "image 345/4118 /home/anderste/ikt450-deep-neural-networks/DNN-prosjekt/segmentation_data_new/test/images/fish_000011279598_05559.png: 128x128 1 1, 7.6ms\n",
      "image 346/4118 /home/anderste/ikt450-deep-neural-networks/DNN-prosjekt/segmentation_data_new/test/images/fish_000011310001_01074.png: 128x128 1 0, 1 1, 7.6ms\n",
      "image 347/4118 /home/anderste/ikt450-deep-neural-networks/DNN-prosjekt/segmentation_data_new/test/images/fish_000011329599_08295.png: 128x128 1 3, 7.5ms\n",
      "image 348/4118 /home/anderste/ikt450-deep-neural-networks/DNN-prosjekt/segmentation_data_new/test/images/fish_000011340001_01079.png: 128x128 1 1, 7.7ms\n",
      "image 349/4118 /home/anderste/ikt450-deep-neural-networks/DNN-prosjekt/segmentation_data_new/test/images/fish_000011349596_03922.png: 128x128 1 2, 7.6ms\n",
      "image 350/4118 /home/anderste/ikt450-deep-neural-networks/DNN-prosjekt/segmentation_data_new/test/images/fish_000011349596_03938.png: 128x128 1 2, 7.4ms\n",
      "image 351/4118 /home/anderste/ikt450-deep-neural-networks/DNN-prosjekt/segmentation_data_new/test/images/fish_000011390001_01085.png: 128x128 1 3, 7.6ms\n",
      "image 352/4118 /home/anderste/ikt450-deep-neural-networks/DNN-prosjekt/segmentation_data_new/test/images/fish_000011390001_01086.png: 128x128 1 3, 7.6ms\n",
      "image 353/4118 /home/anderste/ikt450-deep-neural-networks/DNN-prosjekt/segmentation_data_new/test/images/fish_000011390001_01087.png: 128x128 1 0, 7.6ms\n",
      "image 354/4118 /home/anderste/ikt450-deep-neural-networks/DNN-prosjekt/segmentation_data_new/test/images/fish_000011519592_03436.png: 128x128 1 10, 7.6ms\n",
      "image 355/4118 /home/anderste/ikt450-deep-neural-networks/DNN-prosjekt/segmentation_data_new/test/images/fish_000011519592_03442.png: 128x128 (no detections), 7.6ms\n",
      "image 356/4118 /home/anderste/ikt450-deep-neural-networks/DNN-prosjekt/segmentation_data_new/test/images/fish_000011519592_03447.png: 128x128 (no detections), 7.6ms\n",
      "image 357/4118 /home/anderste/ikt450-deep-neural-networks/DNN-prosjekt/segmentation_data_new/test/images/fish_000011529599_08303.png: 128x128 1 3, 7.6ms\n",
      "image 358/4118 /home/anderste/ikt450-deep-neural-networks/DNN-prosjekt/segmentation_data_new/test/images/fish_000011529599_08308.png: 128x96 1 3, 8.2ms\n",
      "image 359/4118 /home/anderste/ikt450-deep-neural-networks/DNN-prosjekt/segmentation_data_new/test/images/fish_000011529599_08309.png: 128x96 1 3, 7.6ms\n",
      "image 360/4118 /home/anderste/ikt450-deep-neural-networks/DNN-prosjekt/segmentation_data_new/test/images/fish_000011529599_08311.png: 128x128 1 3, 8.1ms\n",
      "image 361/4118 /home/anderste/ikt450-deep-neural-networks/DNN-prosjekt/segmentation_data_new/test/images/fish_000011529599_08313.png: 128x128 1 3, 7.4ms\n",
      "image 362/4118 /home/anderste/ikt450-deep-neural-networks/DNN-prosjekt/segmentation_data_new/test/images/fish_000011659597_05150.png: 128x128 1 0, 7.5ms\n",
      "image 363/4118 /home/anderste/ikt450-deep-neural-networks/DNN-prosjekt/segmentation_data_new/test/images/fish_000011679594_03510.png: 128x128 1 10, 1 15, 10.0ms\n",
      "image 364/4118 /home/anderste/ikt450-deep-neural-networks/DNN-prosjekt/segmentation_data_new/test/images/fish_000011679594_03512.png: 128x128 1 10, 1 15, 7.6ms\n",
      "image 365/4118 /home/anderste/ikt450-deep-neural-networks/DNN-prosjekt/segmentation_data_new/test/images/fish_000011679594_03523.png: 128x128 1 15, 7.5ms\n",
      "image 366/4118 /home/anderste/ikt450-deep-neural-networks/DNN-prosjekt/segmentation_data_new/test/images/fish_000011679594_03524.png: 128x128 1 15, 7.6ms\n",
      "image 367/4118 /home/anderste/ikt450-deep-neural-networks/DNN-prosjekt/segmentation_data_new/test/images/fish_000011679594_03525.png: 128x128 1 15, 7.6ms\n",
      "image 368/4118 /home/anderste/ikt450-deep-neural-networks/DNN-prosjekt/segmentation_data_new/test/images/fish_000011679594_03527.png: 128x128 1 15, 7.5ms\n",
      "image 369/4118 /home/anderste/ikt450-deep-neural-networks/DNN-prosjekt/segmentation_data_new/test/images/fish_000011679594_03528.png: 128x128 1 15, 7.6ms\n",
      "image 370/4118 /home/anderste/ikt450-deep-neural-networks/DNN-prosjekt/segmentation_data_new/test/images/fish_000011679594_03533.png: 96x128 1 15, 8.3ms\n",
      "image 371/4118 /home/anderste/ikt450-deep-neural-networks/DNN-prosjekt/segmentation_data_new/test/images/fish_000011769599_08328.png: 128x128 1 3, 8.1ms\n",
      "image 372/4118 /home/anderste/ikt450-deep-neural-networks/DNN-prosjekt/segmentation_data_new/test/images/fish_000011769599_08333.png: 128x128 1 3, 7.5ms\n",
      "image 373/4118 /home/anderste/ikt450-deep-neural-networks/DNN-prosjekt/segmentation_data_new/test/images/fish_000011769599_08345.png: 128x128 1 3, 7.6ms\n",
      "image 374/4118 /home/anderste/ikt450-deep-neural-networks/DNN-prosjekt/segmentation_data_new/test/images/fish_000011769599_08346.png: 128x128 1 3, 7.7ms\n",
      "image 375/4118 /home/anderste/ikt450-deep-neural-networks/DNN-prosjekt/segmentation_data_new/test/images/fish_000011769599_08352.png: 128x128 1 3, 7.7ms\n",
      "image 376/4118 /home/anderste/ikt450-deep-neural-networks/DNN-prosjekt/segmentation_data_new/test/images/fish_000011769599_08356.png: 128x128 1 3, 7.6ms\n",
      "image 377/4118 /home/anderste/ikt450-deep-neural-networks/DNN-prosjekt/segmentation_data_new/test/images/fish_000012709596_03953.png: 128x128 1 1, 7.6ms\n",
      "image 378/4118 /home/anderste/ikt450-deep-neural-networks/DNN-prosjekt/segmentation_data_new/test/images/fish_000012719599_08395.png: 128x128 1 3, 7.6ms\n",
      "image 379/4118 /home/anderste/ikt450-deep-neural-networks/DNN-prosjekt/segmentation_data_new/test/images/fish_000012719599_08399.png: 128x128 1 3, 7.5ms\n",
      "image 380/4118 /home/anderste/ikt450-deep-neural-networks/DNN-prosjekt/segmentation_data_new/test/images/fish_000012739597_05156.png: 128x128 1 0, 7.6ms\n",
      "image 381/4118 /home/anderste/ikt450-deep-neural-networks/DNN-prosjekt/segmentation_data_new/test/images/fish_000012739597_05162.png: 128x128 1 0, 7.6ms\n",
      "image 382/4118 /home/anderste/ikt450-deep-neural-networks/DNN-prosjekt/segmentation_data_new/test/images/fish_000012739597_05167.png: 128x128 1 0, 8.0ms\n",
      "image 383/4118 /home/anderste/ikt450-deep-neural-networks/DNN-prosjekt/segmentation_data_new/test/images/fish_000012909596_03956.png: 128x128 1 2, 7.6ms\n",
      "image 384/4118 /home/anderste/ikt450-deep-neural-networks/DNN-prosjekt/segmentation_data_new/test/images/fish_000013090001_01089.png: 128x128 1 3, 7.4ms\n",
      "image 385/4118 /home/anderste/ikt450-deep-neural-networks/DNN-prosjekt/segmentation_data_new/test/images/fish_000013110001_01097.png: 128x128 1 3, 7.7ms\n",
      "image 386/4118 /home/anderste/ikt450-deep-neural-networks/DNN-prosjekt/segmentation_data_new/test/images/fish_000013120001_01103.png: 128x128 1 2, 7.5ms\n",
      "image 387/4118 /home/anderste/ikt450-deep-neural-networks/DNN-prosjekt/segmentation_data_new/test/images/fish_000013120001_01104.png: 128x128 1 2, 7.6ms\n",
      "image 388/4118 /home/anderste/ikt450-deep-neural-networks/DNN-prosjekt/segmentation_data_new/test/images/fish_000013120001_01109.png: 128x128 1 2, 8.0ms\n",
      "image 389/4118 /home/anderste/ikt450-deep-neural-networks/DNN-prosjekt/segmentation_data_new/test/images/fish_000013120001_01111.png: 128x128 1 2, 8.5ms\n",
      "image 390/4118 /home/anderste/ikt450-deep-neural-networks/DNN-prosjekt/segmentation_data_new/test/images/fish_000013130001_01117.png: 128x128 1 2, 7.7ms\n",
      "image 391/4118 /home/anderste/ikt450-deep-neural-networks/DNN-prosjekt/segmentation_data_new/test/images/fish_000013150001_01133.png: 128x128 1 2, 1 3, 7.6ms\n",
      "image 392/4118 /home/anderste/ikt450-deep-neural-networks/DNN-prosjekt/segmentation_data_new/test/images/fish_000013160001_01136.png: 128x128 1 3, 7.6ms\n",
      "image 393/4118 /home/anderste/ikt450-deep-neural-networks/DNN-prosjekt/segmentation_data_new/test/images/fish_000013160001_01138.png: 128x128 1 2, 1 3, 7.6ms\n",
      "image 394/4118 /home/anderste/ikt450-deep-neural-networks/DNN-prosjekt/segmentation_data_new/test/images/fish_000013160001_01147.png: 128x128 1 2, 1 3, 7.8ms\n",
      "image 395/4118 /home/anderste/ikt450-deep-neural-networks/DNN-prosjekt/segmentation_data_new/test/images/fish_000013160001_01148.png: 128x128 1 2, 1 3, 7.6ms\n",
      "image 396/4118 /home/anderste/ikt450-deep-neural-networks/DNN-prosjekt/segmentation_data_new/test/images/fish_000013180001_01177.png: 128x128 1 3, 7.6ms\n",
      "image 397/4118 /home/anderste/ikt450-deep-neural-networks/DNN-prosjekt/segmentation_data_new/test/images/fish_000013180001_01179.png: 128x128 1 2, 1 3, 7.6ms\n",
      "image 398/4118 /home/anderste/ikt450-deep-neural-networks/DNN-prosjekt/segmentation_data_new/test/images/fish_000013180001_01183.png: 128x128 1 3, 7.7ms\n",
      "image 399/4118 /home/anderste/ikt450-deep-neural-networks/DNN-prosjekt/segmentation_data_new/test/images/fish_000013269599_08408.png: 128x128 1 3, 7.6ms\n",
      "image 400/4118 /home/anderste/ikt450-deep-neural-networks/DNN-prosjekt/segmentation_data_new/test/images/fish_000013269599_08423.png: 128x128 1 3, 7.6ms\n",
      "image 401/4118 /home/anderste/ikt450-deep-neural-networks/DNN-prosjekt/segmentation_data_new/test/images/fish_000013269599_08424.png: 128x128 1 3, 7.3ms\n",
      "image 402/4118 /home/anderste/ikt450-deep-neural-networks/DNN-prosjekt/segmentation_data_new/test/images/fish_000013269599_08427.png: 128x128 1 3, 7.4ms\n",
      "image 403/4118 /home/anderste/ikt450-deep-neural-networks/DNN-prosjekt/segmentation_data_new/test/images/fish_000013310001_01205.png: 128x128 1 6, 7.6ms\n",
      "image 404/4118 /home/anderste/ikt450-deep-neural-networks/DNN-prosjekt/segmentation_data_new/test/images/fish_000013310001_01206.png: 128x128 1 6, 7.7ms\n",
      "image 405/4118 /home/anderste/ikt450-deep-neural-networks/DNN-prosjekt/segmentation_data_new/test/images/fish_000013310001_01215.png: 128x128 1 6, 7.4ms\n",
      "image 406/4118 /home/anderste/ikt450-deep-neural-networks/DNN-prosjekt/segmentation_data_new/test/images/fish_000013310001_01216.png: 128x128 1 6, 7.7ms\n",
      "image 407/4118 /home/anderste/ikt450-deep-neural-networks/DNN-prosjekt/segmentation_data_new/test/images/fish_000013310001_01225.png: 128x128 1 6, 7.6ms\n",
      "image 408/4118 /home/anderste/ikt450-deep-neural-networks/DNN-prosjekt/segmentation_data_new/test/images/fish_000013320001_01229.png: 128x128 1 3, 7.6ms\n",
      "image 409/4118 /home/anderste/ikt450-deep-neural-networks/DNN-prosjekt/segmentation_data_new/test/images/fish_000013320001_01230.png: 128x128 1 3, 7.9ms\n",
      "image 410/4118 /home/anderste/ikt450-deep-neural-networks/DNN-prosjekt/segmentation_data_new/test/images/fish_000013350001_01240.png: 128x128 1 6, 7.7ms\n",
      "image 411/4118 /home/anderste/ikt450-deep-neural-networks/DNN-prosjekt/segmentation_data_new/test/images/fish_000013350001_01248.png: 128x128 1 6, 7.4ms\n",
      "image 412/4118 /home/anderste/ikt450-deep-neural-networks/DNN-prosjekt/segmentation_data_new/test/images/fish_000013350001_01249.png: 128x128 1 6, 7.3ms\n",
      "image 413/4118 /home/anderste/ikt450-deep-neural-networks/DNN-prosjekt/segmentation_data_new/test/images/fish_000013350001_01252.png: 128x128 1 6, 7.5ms\n",
      "image 414/4118 /home/anderste/ikt450-deep-neural-networks/DNN-prosjekt/segmentation_data_new/test/images/fish_000013410001_01276.png: 128x128 1 2, 1 6, 7.5ms\n",
      "image 415/4118 /home/anderste/ikt450-deep-neural-networks/DNN-prosjekt/segmentation_data_new/test/images/fish_000013440001_01292.png: 128x128 1 2, 1 3, 8.2ms\n",
      "image 416/4118 /home/anderste/ikt450-deep-neural-networks/DNN-prosjekt/segmentation_data_new/test/images/fish_000013440001_01299.png: 128x128 1 3, 7.6ms\n",
      "image 417/4118 /home/anderste/ikt450-deep-neural-networks/DNN-prosjekt/segmentation_data_new/test/images/fish_000013460001_01309.png: 128x128 1 6, 7.4ms\n",
      "image 418/4118 /home/anderste/ikt450-deep-neural-networks/DNN-prosjekt/segmentation_data_new/test/images/fish_000013460001_01312.png: 128x128 1 6, 7.6ms\n",
      "image 419/4118 /home/anderste/ikt450-deep-neural-networks/DNN-prosjekt/segmentation_data_new/test/images/fish_000013460001_01314.png: 128x128 1 6, 7.7ms\n",
      "image 420/4118 /home/anderste/ikt450-deep-neural-networks/DNN-prosjekt/segmentation_data_new/test/images/fish_000013500001_01324.png: 128x128 1 1, 7.6ms\n",
      "image 421/4118 /home/anderste/ikt450-deep-neural-networks/DNN-prosjekt/segmentation_data_new/test/images/fish_000013510001_01329.png: 128x128 1 1, 7.6ms\n",
      "image 422/4118 /home/anderste/ikt450-deep-neural-networks/DNN-prosjekt/segmentation_data_new/test/images/fish_000013540001_01341.png: 128x128 1 1, 7.6ms\n",
      "image 423/4118 /home/anderste/ikt450-deep-neural-networks/DNN-prosjekt/segmentation_data_new/test/images/fish_000013560001_01345.png: 128x128 1 2, 7.6ms\n",
      "image 424/4118 /home/anderste/ikt450-deep-neural-networks/DNN-prosjekt/segmentation_data_new/test/images/fish_000013590001_01473.png: 128x128 (no detections), 7.7ms\n",
      "image 425/4118 /home/anderste/ikt450-deep-neural-networks/DNN-prosjekt/segmentation_data_new/test/images/fish_000013620001_01477.png: 128x128 1 1, 7.6ms\n",
      "image 426/4118 /home/anderste/ikt450-deep-neural-networks/DNN-prosjekt/segmentation_data_new/test/images/fish_000013640001_01357.png: 128x128 1 6, 7.6ms\n",
      "image 427/4118 /home/anderste/ikt450-deep-neural-networks/DNN-prosjekt/segmentation_data_new/test/images/fish_000013640001_01359.png: 128x128 1 6, 7.6ms\n",
      "image 428/4118 /home/anderste/ikt450-deep-neural-networks/DNN-prosjekt/segmentation_data_new/test/images/fish_000013650001_01480.png: 128x128 1 1, 7.5ms\n",
      "image 429/4118 /home/anderste/ikt450-deep-neural-networks/DNN-prosjekt/segmentation_data_new/test/images/fish_000013660001_01482.png: 128x128 1 1, 7.7ms\n",
      "image 430/4118 /home/anderste/ikt450-deep-neural-networks/DNN-prosjekt/segmentation_data_new/test/images/fish_000013700001_01492.png: 128x128 1 1, 7.4ms\n",
      "image 431/4118 /home/anderste/ikt450-deep-neural-networks/DNN-prosjekt/segmentation_data_new/test/images/fish_000013700001_01496.png: 128x128 1 0, 7.5ms\n",
      "image 432/4118 /home/anderste/ikt450-deep-neural-networks/DNN-prosjekt/segmentation_data_new/test/images/fish_000013740001_01378.png: 128x128 1 2, 8.0ms\n",
      "image 433/4118 /home/anderste/ikt450-deep-neural-networks/DNN-prosjekt/segmentation_data_new/test/images/fish_000013740001_01379.png: 128x128 1 2, 7.6ms\n",
      "image 434/4118 /home/anderste/ikt450-deep-neural-networks/DNN-prosjekt/segmentation_data_new/test/images/fish_000013740001_01380.png: 128x128 1 2, 7.6ms\n",
      "image 435/4118 /home/anderste/ikt450-deep-neural-networks/DNN-prosjekt/segmentation_data_new/test/images/fish_000013740001_01381.png: 128x128 1 2, 7.6ms\n",
      "image 436/4118 /home/anderste/ikt450-deep-neural-networks/DNN-prosjekt/segmentation_data_new/test/images/fish_000013809599_08433.png: 128x128 1 3, 7.6ms\n",
      "image 437/4118 /home/anderste/ikt450-deep-neural-networks/DNN-prosjekt/segmentation_data_new/test/images/fish_000013920001_01444.png: 128x128 1 2, 7.6ms\n",
      "image 438/4118 /home/anderste/ikt450-deep-neural-networks/DNN-prosjekt/segmentation_data_new/test/images/fish_000013920001_01446.png: 128x128 1 2, 7.6ms\n",
      "image 439/4118 /home/anderste/ikt450-deep-neural-networks/DNN-prosjekt/segmentation_data_new/test/images/fish_000014129594_03559.png: 96x128 1 15, 8.3ms\n",
      "image 440/4118 /home/anderste/ikt450-deep-neural-networks/DNN-prosjekt/segmentation_data_new/test/images/fish_000014129594_03571.png: 128x128 1 15, 8.0ms\n",
      "image 441/4118 /home/anderste/ikt450-deep-neural-networks/DNN-prosjekt/segmentation_data_new/test/images/fish_000014499598_05552.png: 128x128 1 0, 7.6ms\n",
      "image 442/4118 /home/anderste/ikt450-deep-neural-networks/DNN-prosjekt/segmentation_data_new/test/images/fish_000014499598_05567.png: 128x128 1 0, 7.6ms\n",
      "image 443/4118 /home/anderste/ikt450-deep-neural-networks/DNN-prosjekt/segmentation_data_new/test/images/fish_000014499598_05577.png: 128x128 1 0, 7.6ms\n",
      "image 444/4118 /home/anderste/ikt450-deep-neural-networks/DNN-prosjekt/segmentation_data_new/test/images/fish_000014549599_08454.png: 128x128 1 3, 8.4ms\n",
      "image 445/4118 /home/anderste/ikt450-deep-neural-networks/DNN-prosjekt/segmentation_data_new/test/images/fish_000014549599_08460.png: 128x128 1 3, 7.7ms\n",
      "image 446/4118 /home/anderste/ikt450-deep-neural-networks/DNN-prosjekt/segmentation_data_new/test/images/fish_000014759599_08475.png: 128x128 1 3, 7.6ms\n",
      "image 447/4118 /home/anderste/ikt450-deep-neural-networks/DNN-prosjekt/segmentation_data_new/test/images/fish_000014979594_03586.png: 128x128 1 15, 7.4ms\n",
      "image 448/4118 /home/anderste/ikt450-deep-neural-networks/DNN-prosjekt/segmentation_data_new/test/images/fish_000014979594_03589.png: 128x128 1 15, 7.4ms\n",
      "image 449/4118 /home/anderste/ikt450-deep-neural-networks/DNN-prosjekt/segmentation_data_new/test/images/fish_000014979594_03593.png: 96x128 1 15, 8.2ms\n",
      "image 450/4118 /home/anderste/ikt450-deep-neural-networks/DNN-prosjekt/segmentation_data_new/test/images/fish_000014989599_08482.png: 128x128 1 3, 7.8ms\n",
      "image 451/4118 /home/anderste/ikt450-deep-neural-networks/DNN-prosjekt/segmentation_data_new/test/images/fish_000014989599_08486.png: 128x128 1 3, 7.6ms\n",
      "image 452/4118 /home/anderste/ikt450-deep-neural-networks/DNN-prosjekt/segmentation_data_new/test/images/fish_000014989599_08488.png: 128x128 1 3, 7.7ms\n",
      "image 453/4118 /home/anderste/ikt450-deep-neural-networks/DNN-prosjekt/segmentation_data_new/test/images/fish_000015009597_05172.png: 128x128 (no detections), 7.6ms\n",
      "image 454/4118 /home/anderste/ikt450-deep-neural-networks/DNN-prosjekt/segmentation_data_new/test/images/fish_000015059596_03979.png: 128x128 1 6, 7.6ms\n",
      "image 455/4118 /home/anderste/ikt450-deep-neural-networks/DNN-prosjekt/segmentation_data_new/test/images/fish_000015059596_03980.png: 128x128 1 6, 7.8ms\n",
      "image 456/4118 /home/anderste/ikt450-deep-neural-networks/DNN-prosjekt/segmentation_data_new/test/images/fish_000015070001_01509.png: 128x128 1 1, 7.7ms\n",
      "image 457/4118 /home/anderste/ikt450-deep-neural-networks/DNN-prosjekt/segmentation_data_new/test/images/fish_000015090001_01515.png: 128x128 1 0, 7.7ms\n",
      "image 458/4118 /home/anderste/ikt450-deep-neural-networks/DNN-prosjekt/segmentation_data_new/test/images/fish_000015280001_01519.png: 128x128 1 1, 7.6ms\n",
      "image 459/4118 /home/anderste/ikt450-deep-neural-networks/DNN-prosjekt/segmentation_data_new/test/images/fish_000015280001_01522.png: 128x128 1 0, 1 1, 7.4ms\n",
      "image 460/4118 /home/anderste/ikt450-deep-neural-networks/DNN-prosjekt/segmentation_data_new/test/images/fish_000015359599_08503.png: 128x128 1 3, 7.7ms\n",
      "image 461/4118 /home/anderste/ikt450-deep-neural-networks/DNN-prosjekt/segmentation_data_new/test/images/fish_000015359599_08505.png: 128x128 1 3, 7.6ms\n",
      "image 462/4118 /home/anderste/ikt450-deep-neural-networks/DNN-prosjekt/segmentation_data_new/test/images/fish_000015359599_08515.png: 128x128 1 3, 7.5ms\n",
      "image 463/4118 /home/anderste/ikt450-deep-neural-networks/DNN-prosjekt/segmentation_data_new/test/images/fish_000015529594_03606.png: 128x128 1 15, 7.7ms\n",
      "image 464/4118 /home/anderste/ikt450-deep-neural-networks/DNN-prosjekt/segmentation_data_new/test/images/fish_000015860001_01524.png: 128x128 1 1, 7.7ms\n",
      "image 465/4118 /home/anderste/ikt450-deep-neural-networks/DNN-prosjekt/segmentation_data_new/test/images/fish_000015860001_01531.png: 128x128 1 0, 1 1, 7.7ms\n",
      "image 466/4118 /home/anderste/ikt450-deep-neural-networks/DNN-prosjekt/segmentation_data_new/test/images/fish_000015909594_03612.png: 128x128 1 15, 8.2ms\n",
      "image 467/4118 /home/anderste/ikt450-deep-neural-networks/DNN-prosjekt/segmentation_data_new/test/images/fish_000015999599_08533.png: 128x128 1 3, 7.7ms\n",
      "image 468/4118 /home/anderste/ikt450-deep-neural-networks/DNN-prosjekt/segmentation_data_new/test/images/fish_000015999599_08534.png: 128x128 1 3, 7.8ms\n",
      "image 469/4118 /home/anderste/ikt450-deep-neural-networks/DNN-prosjekt/segmentation_data_new/test/images/fish_000015999599_08539.png: 128x128 1 3, 7.6ms\n",
      "image 470/4118 /home/anderste/ikt450-deep-neural-networks/DNN-prosjekt/segmentation_data_new/test/images/fish_000016179599_08543.png: 128x128 1 3, 7.3ms\n",
      "image 471/4118 /home/anderste/ikt450-deep-neural-networks/DNN-prosjekt/segmentation_data_new/test/images/fish_000016179599_08545.png: 128x128 1 3, 7.7ms\n",
      "image 472/4118 /home/anderste/ikt450-deep-neural-networks/DNN-prosjekt/segmentation_data_new/test/images/fish_000016179599_08547.png: 128x128 1 3, 7.5ms\n",
      "image 473/4118 /home/anderste/ikt450-deep-neural-networks/DNN-prosjekt/segmentation_data_new/test/images/fish_000016179599_08550.png: 128x128 1 3, 7.5ms\n",
      "image 474/4118 /home/anderste/ikt450-deep-neural-networks/DNN-prosjekt/segmentation_data_new/test/images/fish_000016179599_08558.png: 128x128 1 3, 7.3ms\n",
      "image 475/4118 /home/anderste/ikt450-deep-neural-networks/DNN-prosjekt/segmentation_data_new/test/images/fish_000016299594_03616.png: 128x128 1 15, 7.5ms\n",
      "image 476/4118 /home/anderste/ikt450-deep-neural-networks/DNN-prosjekt/segmentation_data_new/test/images/fish_000016429599_08564.png: 128x128 1 3, 7.9ms\n",
      "image 477/4118 /home/anderste/ikt450-deep-neural-networks/DNN-prosjekt/segmentation_data_new/test/images/fish_000016429599_08566.png: 128x128 1 3, 7.6ms\n",
      "image 478/4118 /home/anderste/ikt450-deep-neural-networks/DNN-prosjekt/segmentation_data_new/test/images/fish_000016429599_08571.png: 128x128 1 3, 7.6ms\n",
      "image 479/4118 /home/anderste/ikt450-deep-neural-networks/DNN-prosjekt/segmentation_data_new/test/images/fish_000016619599_08579.png: 128x128 1 3, 7.5ms\n",
      "image 480/4118 /home/anderste/ikt450-deep-neural-networks/DNN-prosjekt/segmentation_data_new/test/images/fish_000016659594_03626.png: 128x128 1 15, 7.6ms\n",
      "image 481/4118 /home/anderste/ikt450-deep-neural-networks/DNN-prosjekt/segmentation_data_new/test/images/fish_000016839596_03983.png: 128x128 1 1, 7.6ms\n",
      "image 482/4118 /home/anderste/ikt450-deep-neural-networks/DNN-prosjekt/segmentation_data_new/test/images/fish_000016909599_08584.png: 128x128 1 3, 7.8ms\n",
      "image 483/4118 /home/anderste/ikt450-deep-neural-networks/DNN-prosjekt/segmentation_data_new/test/images/fish_000017069599_08593.png: 128x128 1 3, 7.6ms\n",
      "image 484/4118 /home/anderste/ikt450-deep-neural-networks/DNN-prosjekt/segmentation_data_new/test/images/fish_000017139599_08595.png: 128x128 1 3, 7.9ms\n",
      "image 485/4118 /home/anderste/ikt450-deep-neural-networks/DNN-prosjekt/segmentation_data_new/test/images/fish_000017139599_08596.png: 128x128 1 3, 7.8ms\n",
      "image 486/4118 /home/anderste/ikt450-deep-neural-networks/DNN-prosjekt/segmentation_data_new/test/images/fish_000017139599_08604.png: 128x128 1 3, 7.8ms\n",
      "image 487/4118 /home/anderste/ikt450-deep-neural-networks/DNN-prosjekt/segmentation_data_new/test/images/fish_000017139599_08609.png: 128x128 1 3, 7.6ms\n",
      "image 488/4118 /home/anderste/ikt450-deep-neural-networks/DNN-prosjekt/segmentation_data_new/test/images/fish_000017139599_08612.png: 128x128 1 3, 7.5ms\n",
      "image 489/4118 /home/anderste/ikt450-deep-neural-networks/DNN-prosjekt/segmentation_data_new/test/images/fish_000017140001_01539.png: 128x128 1 0, 7.5ms\n",
      "image 490/4118 /home/anderste/ikt450-deep-neural-networks/DNN-prosjekt/segmentation_data_new/test/images/fish_000017140001_01540.png: 128x128 1 0, 7.5ms\n",
      "image 491/4118 /home/anderste/ikt450-deep-neural-networks/DNN-prosjekt/segmentation_data_new/test/images/fish_000017250001_01645.png: 128x128 1 0, 7.7ms\n",
      "image 492/4118 /home/anderste/ikt450-deep-neural-networks/DNN-prosjekt/segmentation_data_new/test/images/fish_000017280001_01646.png: 128x128 1 0, 7.4ms\n",
      "image 493/4118 /home/anderste/ikt450-deep-neural-networks/DNN-prosjekt/segmentation_data_new/test/images/fish_000017329596_03990.png: 128x128 1 2, 7.6ms\n",
      "image 494/4118 /home/anderste/ikt450-deep-neural-networks/DNN-prosjekt/segmentation_data_new/test/images/fish_000017379599_08616.png: 128x128 1 3, 7.6ms\n",
      "image 495/4118 /home/anderste/ikt450-deep-neural-networks/DNN-prosjekt/segmentation_data_new/test/images/fish_000017379599_08621.png: 128x128 1 3, 7.7ms\n",
      "image 496/4118 /home/anderste/ikt450-deep-neural-networks/DNN-prosjekt/segmentation_data_new/test/images/fish_000017480001_01653.png: 128x128 1 0, 7.7ms\n",
      "image 497/4118 /home/anderste/ikt450-deep-neural-networks/DNN-prosjekt/segmentation_data_new/test/images/fish_000017480001_01657.png: 128x128 1 0, 7.7ms\n",
      "image 498/4118 /home/anderste/ikt450-deep-neural-networks/DNN-prosjekt/segmentation_data_new/test/images/fish_000017499598_05606.png: 128x128 1 0, 7.6ms\n",
      "image 499/4118 /home/anderste/ikt450-deep-neural-networks/DNN-prosjekt/segmentation_data_new/test/images/fish_000017499598_05607.png: 128x128 1 0, 7.5ms\n",
      "image 500/4118 /home/anderste/ikt450-deep-neural-networks/DNN-prosjekt/segmentation_data_new/test/images/fish_000017499598_05631.png: 128x128 1 0, 8.1ms\n",
      "image 501/4118 /home/anderste/ikt450-deep-neural-networks/DNN-prosjekt/segmentation_data_new/test/images/fish_000017499598_05635.png: 128x128 1 0, 7.6ms\n",
      "image 502/4118 /home/anderste/ikt450-deep-neural-networks/DNN-prosjekt/segmentation_data_new/test/images/fish_000017499598_05640.png: 128x128 1 0, 7.7ms\n",
      "image 503/4118 /home/anderste/ikt450-deep-neural-networks/DNN-prosjekt/segmentation_data_new/test/images/fish_000017499598_05644.png: 128x128 1 0, 7.6ms\n",
      "image 504/4118 /home/anderste/ikt450-deep-neural-networks/DNN-prosjekt/segmentation_data_new/test/images/fish_000017499598_05647.png: 128x128 1 0, 7.4ms\n",
      "image 505/4118 /home/anderste/ikt450-deep-neural-networks/DNN-prosjekt/segmentation_data_new/test/images/fish_000017499598_05651.png: 128x128 1 0, 7.7ms\n",
      "image 506/4118 /home/anderste/ikt450-deep-neural-networks/DNN-prosjekt/segmentation_data_new/test/images/fish_000017499598_05688.png: 128x128 1 0, 7.6ms\n",
      "image 507/4118 /home/anderste/ikt450-deep-neural-networks/DNN-prosjekt/segmentation_data_new/test/images/fish_000017510001_01554.png: 128x128 1 1, 7.6ms\n",
      "image 508/4118 /home/anderste/ikt450-deep-neural-networks/DNN-prosjekt/segmentation_data_new/test/images/fish_000017520001_01564.png: 128x128 1 0, 1 1, 7.6ms\n",
      "image 509/4118 /home/anderste/ikt450-deep-neural-networks/DNN-prosjekt/segmentation_data_new/test/images/fish_000017520001_01570.png: 128x128 1 0, 1 1, 7.5ms\n",
      "image 510/4118 /home/anderste/ikt450-deep-neural-networks/DNN-prosjekt/segmentation_data_new/test/images/fish_000017569594_03635.png: 128x128 2 10s, 7.9ms\n",
      "image 511/4118 /home/anderste/ikt450-deep-neural-networks/DNN-prosjekt/segmentation_data_new/test/images/fish_000017630001_01665.png: 128x128 1 0, 7.7ms\n",
      "image 512/4118 /home/anderste/ikt450-deep-neural-networks/DNN-prosjekt/segmentation_data_new/test/images/fish_000017690001_01584.png: 128x128 1 0, 1 1, 7.6ms\n",
      "image 513/4118 /home/anderste/ikt450-deep-neural-networks/DNN-prosjekt/segmentation_data_new/test/images/fish_000017699596_03994.png: 128x128 1 0, 7.7ms\n",
      "image 514/4118 /home/anderste/ikt450-deep-neural-networks/DNN-prosjekt/segmentation_data_new/test/images/fish_000017700001_01585.png: 128x128 1 1, 7.5ms\n",
      "image 515/4118 /home/anderste/ikt450-deep-neural-networks/DNN-prosjekt/segmentation_data_new/test/images/fish_000017750001_01677.png: 128x128 1 0, 7.5ms\n",
      "image 516/4118 /home/anderste/ikt450-deep-neural-networks/DNN-prosjekt/segmentation_data_new/test/images/fish_000017750001_01680.png: 128x128 1 0, 7.6ms\n",
      "image 517/4118 /home/anderste/ikt450-deep-neural-networks/DNN-prosjekt/segmentation_data_new/test/images/fish_000017750001_01682.png: 128x128 1 0, 7.7ms\n",
      "image 518/4118 /home/anderste/ikt450-deep-neural-networks/DNN-prosjekt/segmentation_data_new/test/images/fish_000017760001_01686.png: 128x128 1 0, 7.4ms\n",
      "image 519/4118 /home/anderste/ikt450-deep-neural-networks/DNN-prosjekt/segmentation_data_new/test/images/fish_000017760001_01687.png: 128x128 1 0, 7.4ms\n",
      "image 520/4118 /home/anderste/ikt450-deep-neural-networks/DNN-prosjekt/segmentation_data_new/test/images/fish_000017790001_01594.png: 128x128 1 0, 1 1, 7.5ms\n",
      "image 521/4118 /home/anderste/ikt450-deep-neural-networks/DNN-prosjekt/segmentation_data_new/test/images/fish_000017790001_01596.png: 128x128 1 0, 1 1, 8.2ms\n",
      "image 522/4118 /home/anderste/ikt450-deep-neural-networks/DNN-prosjekt/segmentation_data_new/test/images/fish_000017799599_08648.png: 128x128 1 3, 7.6ms\n",
      "image 523/4118 /home/anderste/ikt450-deep-neural-networks/DNN-prosjekt/segmentation_data_new/test/images/fish_000017799599_08650.png: 128x128 1 3, 7.4ms\n",
      "image 524/4118 /home/anderste/ikt450-deep-neural-networks/DNN-prosjekt/segmentation_data_new/test/images/fish_000017799599_08651.png: 128x128 1 3, 8.0ms\n",
      "image 525/4118 /home/anderste/ikt450-deep-neural-networks/DNN-prosjekt/segmentation_data_new/test/images/fish_000017799599_08660.png: 128x128 1 3, 7.6ms\n",
      "image 526/4118 /home/anderste/ikt450-deep-neural-networks/DNN-prosjekt/segmentation_data_new/test/images/fish_000017810001_01604.png: 128x128 1 1, 7.6ms\n",
      "image 527/4118 /home/anderste/ikt450-deep-neural-networks/DNN-prosjekt/segmentation_data_new/test/images/fish_000017840001_01613.png: 128x128 1 0, 7.6ms\n",
      "image 528/4118 /home/anderste/ikt450-deep-neural-networks/DNN-prosjekt/segmentation_data_new/test/images/fish_000017850001_01621.png: 128x128 1 1, 7.8ms\n",
      "image 529/4118 /home/anderste/ikt450-deep-neural-networks/DNN-prosjekt/segmentation_data_new/test/images/fish_000017880001_01695.png: 128x128 1 0, 7.7ms\n",
      "image 530/4118 /home/anderste/ikt450-deep-neural-networks/DNN-prosjekt/segmentation_data_new/test/images/fish_000017910001_01698.png: 128x128 1 0, 7.6ms\n",
      "image 531/4118 /home/anderste/ikt450-deep-neural-networks/DNN-prosjekt/segmentation_data_new/test/images/fish_000017910001_01699.png: 128x128 1 0, 7.7ms\n",
      "image 532/4118 /home/anderste/ikt450-deep-neural-networks/DNN-prosjekt/segmentation_data_new/test/images/fish_000017930001_01710.png: 128x128 1 0, 7.4ms\n",
      "image 533/4118 /home/anderste/ikt450-deep-neural-networks/DNN-prosjekt/segmentation_data_new/test/images/fish_000017970001_01638.png: 128x128 1 0, 1 1, 7.7ms\n",
      "image 534/4118 /home/anderste/ikt450-deep-neural-networks/DNN-prosjekt/segmentation_data_new/test/images/fish_000018000001_01730.png: 128x128 1 0, 7.7ms\n",
      "image 535/4118 /home/anderste/ikt450-deep-neural-networks/DNN-prosjekt/segmentation_data_new/test/images/fish_000018000001_01734.png: 128x128 1 0, 7.6ms\n",
      "image 536/4118 /home/anderste/ikt450-deep-neural-networks/DNN-prosjekt/segmentation_data_new/test/images/fish_000018030001_01752.png: 128x128 1 0, 7.8ms\n",
      "image 537/4118 /home/anderste/ikt450-deep-neural-networks/DNN-prosjekt/segmentation_data_new/test/images/fish_000018060001_01762.png: 128x128 1 0, 7.7ms\n",
      "image 538/4118 /home/anderste/ikt450-deep-neural-networks/DNN-prosjekt/segmentation_data_new/test/images/fish_000018169599_08671.png: 128x128 1 3, 7.7ms\n",
      "image 539/4118 /home/anderste/ikt450-deep-neural-networks/DNN-prosjekt/segmentation_data_new/test/images/fish_000018169599_08678.png: 128x128 1 3, 7.8ms\n",
      "image 540/4118 /home/anderste/ikt450-deep-neural-networks/DNN-prosjekt/segmentation_data_new/test/images/fish_000018169599_08679.png: 128x128 1 3, 7.9ms\n",
      "image 541/4118 /home/anderste/ikt450-deep-neural-networks/DNN-prosjekt/segmentation_data_new/test/images/fish_000018519599_08687.png: 128x128 1 3, 7.7ms\n",
      "image 542/4118 /home/anderste/ikt450-deep-neural-networks/DNN-prosjekt/segmentation_data_new/test/images/fish_000018519599_08693.png: 128x128 1 3, 7.6ms\n",
      "image 543/4118 /home/anderste/ikt450-deep-neural-networks/DNN-prosjekt/segmentation_data_new/test/images/fish_000018519599_08707.png: 128x128 1 3, 7.7ms\n",
      "image 544/4118 /home/anderste/ikt450-deep-neural-networks/DNN-prosjekt/segmentation_data_new/test/images/fish_000018519599_08714.png: 128x128 1 3, 7.7ms\n",
      "image 545/4118 /home/anderste/ikt450-deep-neural-networks/DNN-prosjekt/segmentation_data_new/test/images/fish_000018519599_08715.png: 128x128 1 3, 7.7ms\n",
      "image 546/4118 /home/anderste/ikt450-deep-neural-networks/DNN-prosjekt/segmentation_data_new/test/images/fish_000018519599_08716.png: 128x128 1 3, 7.7ms\n",
      "image 547/4118 /home/anderste/ikt450-deep-neural-networks/DNN-prosjekt/segmentation_data_new/test/images/fish_000018939599_08727.png: 128x128 1 3, 7.6ms\n",
      "image 548/4118 /home/anderste/ikt450-deep-neural-networks/DNN-prosjekt/segmentation_data_new/test/images/fish_000018939599_08734.png: 128x128 1 3, 7.7ms\n",
      "image 549/4118 /home/anderste/ikt450-deep-neural-networks/DNN-prosjekt/segmentation_data_new/test/images/fish_000019199598_05617.png: 128x128 1 3, 7.7ms\n",
      "image 550/4118 /home/anderste/ikt450-deep-neural-networks/DNN-prosjekt/segmentation_data_new/test/images/fish_000019259599_08748.png: 128x128 1 3, 7.7ms\n",
      "image 551/4118 /home/anderste/ikt450-deep-neural-networks/DNN-prosjekt/segmentation_data_new/test/images/fish_000019259599_08753.png: 128x128 1 3, 7.5ms\n",
      "image 552/4118 /home/anderste/ikt450-deep-neural-networks/DNN-prosjekt/segmentation_data_new/test/images/fish_000019259599_08756.png: 128x128 1 3, 7.6ms\n",
      "image 553/4118 /home/anderste/ikt450-deep-neural-networks/DNN-prosjekt/segmentation_data_new/test/images/fish_000019259599_08766.png: 128x128 1 3, 7.5ms\n",
      "image 554/4118 /home/anderste/ikt450-deep-neural-networks/DNN-prosjekt/segmentation_data_new/test/images/fish_000019399597_05182.png: 128x128 2 0s, 7.3ms\n",
      "image 555/4118 /home/anderste/ikt450-deep-neural-networks/DNN-prosjekt/segmentation_data_new/test/images/fish_000019459596_04007.png: 128x128 1 2, 8.2ms\n",
      "image 556/4118 /home/anderste/ikt450-deep-neural-networks/DNN-prosjekt/segmentation_data_new/test/images/fish_000019459596_04015.png: 128x128 1 2, 7.7ms\n",
      "image 557/4118 /home/anderste/ikt450-deep-neural-networks/DNN-prosjekt/segmentation_data_new/test/images/fish_000019459597_05184.png: 128x128 1 12, 7.7ms\n",
      "image 558/4118 /home/anderste/ikt450-deep-neural-networks/DNN-prosjekt/segmentation_data_new/test/images/fish_000019749599_08770.png: 128x128 1 3, 7.5ms\n",
      "image 559/4118 /home/anderste/ikt450-deep-neural-networks/DNN-prosjekt/segmentation_data_new/test/images/fish_000019749599_08774.png: 128x128 1 3, 7.7ms\n",
      "image 560/4118 /home/anderste/ikt450-deep-neural-networks/DNN-prosjekt/segmentation_data_new/test/images/fish_000019749599_08789.png: 128x128 1 3, 7.6ms\n",
      "image 561/4118 /home/anderste/ikt450-deep-neural-networks/DNN-prosjekt/segmentation_data_new/test/images/fish_000019749599_08809.png: 128x128 1 3, 7.6ms\n",
      "image 562/4118 /home/anderste/ikt450-deep-neural-networks/DNN-prosjekt/segmentation_data_new/test/images/fish_000019749599_08817.png: 128x128 1 3, 7.3ms\n",
      "image 563/4118 /home/anderste/ikt450-deep-neural-networks/DNN-prosjekt/segmentation_data_new/test/images/fish_000019749599_08822.png: 128x128 1 3, 7.9ms\n",
      "image 564/4118 /home/anderste/ikt450-deep-neural-networks/DNN-prosjekt/segmentation_data_new/test/images/fish_000019870001_01772.png: 128x128 1 2, 7.5ms\n",
      "image 565/4118 /home/anderste/ikt450-deep-neural-networks/DNN-prosjekt/segmentation_data_new/test/images/fish_000019870001_01774.png: 128x128 1 2, 7.7ms\n",
      "image 566/4118 /home/anderste/ikt450-deep-neural-networks/DNN-prosjekt/segmentation_data_new/test/images/fish_000019870001_01776.png: 128x128 1 2, 7.7ms\n",
      "image 567/4118 /home/anderste/ikt450-deep-neural-networks/DNN-prosjekt/segmentation_data_new/test/images/fish_000019920001_01778.png: 128x128 (no detections), 7.8ms\n",
      "image 568/4118 /home/anderste/ikt450-deep-neural-networks/DNN-prosjekt/segmentation_data_new/test/images/fish_000020330001_01781.png: 128x128 (no detections), 7.7ms\n",
      "image 569/4118 /home/anderste/ikt450-deep-neural-networks/DNN-prosjekt/segmentation_data_new/test/images/fish_000020330001_01783.png: 128x128 (no detections), 7.6ms\n",
      "image 570/4118 /home/anderste/ikt450-deep-neural-networks/DNN-prosjekt/segmentation_data_new/test/images/fish_000020639599_08824.png: 128x96 1 3, 8.1ms\n",
      "image 571/4118 /home/anderste/ikt450-deep-neural-networks/DNN-prosjekt/segmentation_data_new/test/images/fish_000020639599_08826.png: 128x128 1 3, 8.1ms\n",
      "image 572/4118 /home/anderste/ikt450-deep-neural-networks/DNN-prosjekt/segmentation_data_new/test/images/fish_000020639599_08836.png: 128x128 1 3, 7.6ms\n",
      "image 573/4118 /home/anderste/ikt450-deep-neural-networks/DNN-prosjekt/segmentation_data_new/test/images/fish_000020639599_08838.png: 128x128 1 3, 7.8ms\n",
      "image 574/4118 /home/anderste/ikt450-deep-neural-networks/DNN-prosjekt/segmentation_data_new/test/images/fish_000020639599_08843.png: 128x128 1 3, 7.6ms\n",
      "image 575/4118 /home/anderste/ikt450-deep-neural-networks/DNN-prosjekt/segmentation_data_new/test/images/fish_000020830001_01788.png: 128x128 (no detections), 7.7ms\n",
      "image 576/4118 /home/anderste/ikt450-deep-neural-networks/DNN-prosjekt/segmentation_data_new/test/images/fish_000020830001_01791.png: 128x128 (no detections), 7.7ms\n",
      "image 577/4118 /home/anderste/ikt450-deep-neural-networks/DNN-prosjekt/segmentation_data_new/test/images/fish_000020999597_05188.png: 128x128 1 12, 7.5ms\n",
      "image 578/4118 /home/anderste/ikt450-deep-neural-networks/DNN-prosjekt/segmentation_data_new/test/images/fish_000021009599_08856.png: 128x128 1 3, 7.3ms\n",
      "image 579/4118 /home/anderste/ikt450-deep-neural-networks/DNN-prosjekt/segmentation_data_new/test/images/fish_000021189599_08869.png: 128x128 1 3, 7.7ms\n",
      "image 580/4118 /home/anderste/ikt450-deep-neural-networks/DNN-prosjekt/segmentation_data_new/test/images/fish_000021379597_05191.png: 128x128 1 0, 7.7ms\n",
      "image 581/4118 /home/anderste/ikt450-deep-neural-networks/DNN-prosjekt/segmentation_data_new/test/images/fish_000021419599_08873.png: 128x128 1 3, 7.4ms\n",
      "image 582/4118 /home/anderste/ikt450-deep-neural-networks/DNN-prosjekt/segmentation_data_new/test/images/fish_000021419599_08877.png: 128x128 1 3, 7.7ms\n",
      "image 583/4118 /home/anderste/ikt450-deep-neural-networks/DNN-prosjekt/segmentation_data_new/test/images/fish_000021539599_08887.png: 128x128 1 3, 7.8ms\n",
      "image 584/4118 /home/anderste/ikt450-deep-neural-networks/DNN-prosjekt/segmentation_data_new/test/images/fish_000021539599_08890.png: 128x128 1 3, 7.6ms\n",
      "image 585/4118 /home/anderste/ikt450-deep-neural-networks/DNN-prosjekt/segmentation_data_new/test/images/fish_000021539599_08894.png: 128x128 1 3, 9.0ms\n",
      "image 586/4118 /home/anderste/ikt450-deep-neural-networks/DNN-prosjekt/segmentation_data_new/test/images/fish_000021719596_04024.png: 128x128 1 1, 7.5ms\n",
      "image 587/4118 /home/anderste/ikt450-deep-neural-networks/DNN-prosjekt/segmentation_data_new/test/images/fish_000021719596_04026.png: 128x128 1 1, 7.5ms\n",
      "image 588/4118 /home/anderste/ikt450-deep-neural-networks/DNN-prosjekt/segmentation_data_new/test/images/fish_000021719596_04028.png: 128x128 1 1, 7.4ms\n",
      "image 589/4118 /home/anderste/ikt450-deep-neural-networks/DNN-prosjekt/segmentation_data_new/test/images/fish_000021750001_01808.png: 128x128 1 0, 8.4ms\n",
      "image 590/4118 /home/anderste/ikt450-deep-neural-networks/DNN-prosjekt/segmentation_data_new/test/images/fish_000021820001_01834.png: 96x128 1 7, 9.1ms\n",
      "image 591/4118 /home/anderste/ikt450-deep-neural-networks/DNN-prosjekt/segmentation_data_new/test/images/fish_000021830001_01848.png: 128x128 (no detections), 8.1ms\n",
      "image 592/4118 /home/anderste/ikt450-deep-neural-networks/DNN-prosjekt/segmentation_data_new/test/images/fish_000021850001_01850.png: 128x128 1 1, 7.6ms\n",
      "image 593/4118 /home/anderste/ikt450-deep-neural-networks/DNN-prosjekt/segmentation_data_new/test/images/fish_000021850001_01851.png: 128x128 1 1, 7.6ms\n",
      "image 594/4118 /home/anderste/ikt450-deep-neural-networks/DNN-prosjekt/segmentation_data_new/test/images/fish_000021850001_01858.png: 128x128 1 1, 7.6ms\n",
      "image 595/4118 /home/anderste/ikt450-deep-neural-networks/DNN-prosjekt/segmentation_data_new/test/images/fish_000021940001_01888.png: 128x128 1 0, 7.6ms\n",
      "image 596/4118 /home/anderste/ikt450-deep-neural-networks/DNN-prosjekt/segmentation_data_new/test/images/fish_000021950001_01868.png: 128x128 1 0, 1 1, 7.6ms\n",
      "image 597/4118 /home/anderste/ikt450-deep-neural-networks/DNN-prosjekt/segmentation_data_new/test/images/fish_000021950001_01886.png: 128x96 1 1, 8.2ms\n",
      "image 598/4118 /home/anderste/ikt450-deep-neural-networks/DNN-prosjekt/segmentation_data_new/test/images/fish_000021950001_01896.png: 128x128 1 0, 1 2, 8.1ms\n",
      "image 599/4118 /home/anderste/ikt450-deep-neural-networks/DNN-prosjekt/segmentation_data_new/test/images/fish_000021950001_01900.png: 128x128 1 0, 1 1, 7.5ms\n",
      "image 600/4118 /home/anderste/ikt450-deep-neural-networks/DNN-prosjekt/segmentation_data_new/test/images/fish_000021950001_01902.png: 128x128 1 0, 7.6ms\n",
      "image 601/4118 /home/anderste/ikt450-deep-neural-networks/DNN-prosjekt/segmentation_data_new/test/images/fish_000021960001_01910.png: 128x128 1 0, 7.6ms\n",
      "image 602/4118 /home/anderste/ikt450-deep-neural-networks/DNN-prosjekt/segmentation_data_new/test/images/fish_000021960001_01911.png: 128x128 1 0, 7.7ms\n",
      "image 603/4118 /home/anderste/ikt450-deep-neural-networks/DNN-prosjekt/segmentation_data_new/test/images/fish_000022000001_01934.png: 128x128 1 0, 1 1, 7.6ms\n",
      "image 604/4118 /home/anderste/ikt450-deep-neural-networks/DNN-prosjekt/segmentation_data_new/test/images/fish_000022000001_01937.png: 128x128 1 0, 1 1, 7.6ms\n",
      "image 605/4118 /home/anderste/ikt450-deep-neural-networks/DNN-prosjekt/segmentation_data_new/test/images/fish_000022010001_01944.png: 128x128 1 1, 7.8ms\n",
      "image 606/4118 /home/anderste/ikt450-deep-neural-networks/DNN-prosjekt/segmentation_data_new/test/images/fish_000022070001_01969.png: 128x128 1 0, 1 1, 7.3ms\n",
      "image 607/4118 /home/anderste/ikt450-deep-neural-networks/DNN-prosjekt/segmentation_data_new/test/images/fish_000022070001_01971.png: 128x128 1 0, 1 1, 7.5ms\n",
      "image 608/4118 /home/anderste/ikt450-deep-neural-networks/DNN-prosjekt/segmentation_data_new/test/images/fish_000022080001_01977.png: 128x128 1 0, 8.0ms\n",
      "image 609/4118 /home/anderste/ikt450-deep-neural-networks/DNN-prosjekt/segmentation_data_new/test/images/fish_000022080001_01978.png: 128x128 1 0, 7.6ms\n",
      "image 610/4118 /home/anderste/ikt450-deep-neural-networks/DNN-prosjekt/segmentation_data_new/test/images/fish_000022080001_01982.png: 128x128 1 0, 1 1, 7.6ms\n",
      "image 611/4118 /home/anderste/ikt450-deep-neural-networks/DNN-prosjekt/segmentation_data_new/test/images/fish_000022080001_01983.png: 128x128 1 0, 1 1, 7.6ms\n",
      "image 612/4118 /home/anderste/ikt450-deep-neural-networks/DNN-prosjekt/segmentation_data_new/test/images/fish_000022080001_01984.png: 128x128 1 0, 1 1, 7.6ms\n",
      "image 613/4118 /home/anderste/ikt450-deep-neural-networks/DNN-prosjekt/segmentation_data_new/test/images/fish_000022080001_01990.png: 128x128 1 0, 1 1, 7.8ms\n",
      "image 614/4118 /home/anderste/ikt450-deep-neural-networks/DNN-prosjekt/segmentation_data_new/test/images/fish_000022080001_01992.png: 128x128 1 0, 1 1, 7.4ms\n",
      "image 615/4118 /home/anderste/ikt450-deep-neural-networks/DNN-prosjekt/segmentation_data_new/test/images/fish_000022110001_01993.png: 128x128 1 0, 7.4ms\n",
      "image 616/4118 /home/anderste/ikt450-deep-neural-networks/DNN-prosjekt/segmentation_data_new/test/images/fish_000022110001_01999.png: 128x128 1 1, 8.3ms\n",
      "image 617/4118 /home/anderste/ikt450-deep-neural-networks/DNN-prosjekt/segmentation_data_new/test/images/fish_000022110001_02000.png: 128x128 1 1, 7.6ms\n",
      "image 618/4118 /home/anderste/ikt450-deep-neural-networks/DNN-prosjekt/segmentation_data_new/test/images/fish_000022110001_02004.png: 128x128 1 0, 7.7ms\n",
      "image 619/4118 /home/anderste/ikt450-deep-neural-networks/DNN-prosjekt/segmentation_data_new/test/images/fish_000022110001_02007.png: 128x128 1 0, 1 1, 7.7ms\n",
      "image 620/4118 /home/anderste/ikt450-deep-neural-networks/DNN-prosjekt/segmentation_data_new/test/images/fish_000022110001_02011.png: 128x128 1 0, 7.7ms\n",
      "image 621/4118 /home/anderste/ikt450-deep-neural-networks/DNN-prosjekt/segmentation_data_new/test/images/fish_000022110001_02012.png: 128x128 1 0, 1 1, 7.7ms\n",
      "image 622/4118 /home/anderste/ikt450-deep-neural-networks/DNN-prosjekt/segmentation_data_new/test/images/fish_000022110001_02013.png: 128x128 1 0, 1 1, 7.7ms\n",
      "image 623/4118 /home/anderste/ikt450-deep-neural-networks/DNN-prosjekt/segmentation_data_new/test/images/fish_000022110001_02017.png: 128x128 1 0, 7.7ms\n",
      "image 624/4118 /home/anderste/ikt450-deep-neural-networks/DNN-prosjekt/segmentation_data_new/test/images/fish_000022110001_02021.png: 128x128 1 0, 1 1, 7.6ms\n",
      "image 625/4118 /home/anderste/ikt450-deep-neural-networks/DNN-prosjekt/segmentation_data_new/test/images/fish_000022110001_02022.png: 128x128 1 0, 8.3ms\n",
      "image 626/4118 /home/anderste/ikt450-deep-neural-networks/DNN-prosjekt/segmentation_data_new/test/images/fish_000022119599_08895.png: 128x128 1 3, 7.7ms\n",
      "image 627/4118 /home/anderste/ikt450-deep-neural-networks/DNN-prosjekt/segmentation_data_new/test/images/fish_000022130001_02052.png: 128x128 1 1, 7.6ms\n",
      "image 628/4118 /home/anderste/ikt450-deep-neural-networks/DNN-prosjekt/segmentation_data_new/test/images/fish_000022140001_02056.png: 128x128 1 0, 7.7ms\n",
      "image 629/4118 /home/anderste/ikt450-deep-neural-networks/DNN-prosjekt/segmentation_data_new/test/images/fish_000022150001_02061.png: 128x128 1 1, 7.6ms\n",
      "image 630/4118 /home/anderste/ikt450-deep-neural-networks/DNN-prosjekt/segmentation_data_new/test/images/fish_000022150001_02062.png: 128x128 1 1, 7.7ms\n",
      "image 631/4118 /home/anderste/ikt450-deep-neural-networks/DNN-prosjekt/segmentation_data_new/test/images/fish_000022150001_02063.png: 128x128 1 1, 7.7ms\n",
      "image 632/4118 /home/anderste/ikt450-deep-neural-networks/DNN-prosjekt/segmentation_data_new/test/images/fish_000022150001_02065.png: 128x128 1 0, 1 1, 7.6ms\n",
      "image 633/4118 /home/anderste/ikt450-deep-neural-networks/DNN-prosjekt/segmentation_data_new/test/images/fish_000022170001_02083.png: 128x128 1 0, 7.5ms\n",
      "image 634/4118 /home/anderste/ikt450-deep-neural-networks/DNN-prosjekt/segmentation_data_new/test/images/fish_000022190001_02088.png: 128x128 1 1, 7.7ms\n",
      "image 635/4118 /home/anderste/ikt450-deep-neural-networks/DNN-prosjekt/segmentation_data_new/test/images/fish_000022190001_02089.png: 128x128 1 0, 1 1, 7.7ms\n",
      "image 636/4118 /home/anderste/ikt450-deep-neural-networks/DNN-prosjekt/segmentation_data_new/test/images/fish_000022200001_02097.png: 128x128 1 0, 1 1, 7.7ms\n",
      "image 637/4118 /home/anderste/ikt450-deep-neural-networks/DNN-prosjekt/segmentation_data_new/test/images/fish_000022210001_02117.png: 128x128 1 1, 7.8ms\n",
      "image 638/4118 /home/anderste/ikt450-deep-neural-networks/DNN-prosjekt/segmentation_data_new/test/images/fish_000022220001_02102.png: 128x128 1 0, 1 1, 7.6ms\n",
      "image 639/4118 /home/anderste/ikt450-deep-neural-networks/DNN-prosjekt/segmentation_data_new/test/images/fish_000022220001_02111.png: 128x128 1 0, 1 1, 7.7ms\n",
      "image 640/4118 /home/anderste/ikt450-deep-neural-networks/DNN-prosjekt/segmentation_data_new/test/images/fish_000022220001_02132.png: 128x128 1 0, 7.6ms\n",
      "image 641/4118 /home/anderste/ikt450-deep-neural-networks/DNN-prosjekt/segmentation_data_new/test/images/fish_000022220001_02134.png: 128x128 1 0, 1 1, 7.7ms\n",
      "image 642/4118 /home/anderste/ikt450-deep-neural-networks/DNN-prosjekt/segmentation_data_new/test/images/fish_000022289599_08903.png: 128x128 1 3, 7.6ms\n",
      "image 643/4118 /home/anderste/ikt450-deep-neural-networks/DNN-prosjekt/segmentation_data_new/test/images/fish_000022289599_08905.png: 128x128 1 3, 7.9ms\n",
      "image 644/4118 /home/anderste/ikt450-deep-neural-networks/DNN-prosjekt/segmentation_data_new/test/images/fish_000022429597_05192.png: 96x128 (no detections), 8.8ms\n",
      "image 645/4118 /home/anderste/ikt450-deep-neural-networks/DNN-prosjekt/segmentation_data_new/test/images/fish_000022699598_05687.png: 128x128 1 0, 8.1ms\n",
      "image 646/4118 /home/anderste/ikt450-deep-neural-networks/DNN-prosjekt/segmentation_data_new/test/images/fish_000022729599_08911.png: 128x128 1 3, 7.8ms\n",
      "image 647/4118 /home/anderste/ikt450-deep-neural-networks/DNN-prosjekt/segmentation_data_new/test/images/fish_000022849596_04034.png: 128x128 1 1, 1 2, 7.6ms\n",
      "image 648/4118 /home/anderste/ikt450-deep-neural-networks/DNN-prosjekt/segmentation_data_new/test/images/fish_000022849596_04038.png: 128x128 1 1, 7.6ms\n",
      "image 649/4118 /home/anderste/ikt450-deep-neural-networks/DNN-prosjekt/segmentation_data_new/test/images/fish_000022850001_02143.png: 128x128 1 0, 7.7ms\n",
      "image 650/4118 /home/anderste/ikt450-deep-neural-networks/DNN-prosjekt/segmentation_data_new/test/images/fish_000022850001_02144.png: 128x128 1 0, 7.6ms\n",
      "image 651/4118 /home/anderste/ikt450-deep-neural-networks/DNN-prosjekt/segmentation_data_new/test/images/fish_000022850001_02159.png: 128x128 1 1, 7.7ms\n",
      "image 652/4118 /home/anderste/ikt450-deep-neural-networks/DNN-prosjekt/segmentation_data_new/test/images/fish_000023150001_02185.png: 96x128 1 16, 8.3ms\n",
      "image 653/4118 /home/anderste/ikt450-deep-neural-networks/DNN-prosjekt/segmentation_data_new/test/images/fish_000023190001_02207.png: 128x128 (no detections), 8.1ms\n",
      "image 654/4118 /home/anderste/ikt450-deep-neural-networks/DNN-prosjekt/segmentation_data_new/test/images/fish_000023250001_02220.png: 128x96 (no detections), 8.2ms\n",
      "image 655/4118 /home/anderste/ikt450-deep-neural-networks/DNN-prosjekt/segmentation_data_new/test/images/fish_000023250001_02222.png: 128x128 1 12, 8.4ms\n",
      "image 656/4118 /home/anderste/ikt450-deep-neural-networks/DNN-prosjekt/segmentation_data_new/test/images/fish_000023460001_02238.png: 128x128 1 0, 1 1, 7.7ms\n",
      "image 657/4118 /home/anderste/ikt450-deep-neural-networks/DNN-prosjekt/segmentation_data_new/test/images/fish_000023460001_02242.png: 128x128 1 0, 8.2ms\n",
      "image 658/4118 /home/anderste/ikt450-deep-neural-networks/DNN-prosjekt/segmentation_data_new/test/images/fish_000023710001_02319.png: 128x128 1 1, 7.7ms\n",
      "image 659/4118 /home/anderste/ikt450-deep-neural-networks/DNN-prosjekt/segmentation_data_new/test/images/fish_000023710001_02320.png: 128x128 1 1, 7.4ms\n",
      "image 660/4118 /home/anderste/ikt450-deep-neural-networks/DNN-prosjekt/segmentation_data_new/test/images/fish_000023740001_02272.png: 128x128 1 1, 7.7ms\n",
      "image 661/4118 /home/anderste/ikt450-deep-neural-networks/DNN-prosjekt/segmentation_data_new/test/images/fish_000023749598_05718.png: 128x128 1 0, 10.2ms\n",
      "image 662/4118 /home/anderste/ikt450-deep-neural-networks/DNN-prosjekt/segmentation_data_new/test/images/fish_000023770001_02275.png: 128x128 1 1, 7.9ms\n",
      "image 663/4118 /home/anderste/ikt450-deep-neural-networks/DNN-prosjekt/segmentation_data_new/test/images/fish_000023860001_02336.png: 128x128 (no detections), 7.7ms\n",
      "image 664/4118 /home/anderste/ikt450-deep-neural-networks/DNN-prosjekt/segmentation_data_new/test/images/fish_000023860001_02343.png: 96x128 1 1, 8.3ms\n",
      "image 665/4118 /home/anderste/ikt450-deep-neural-networks/DNN-prosjekt/segmentation_data_new/test/images/fish_000023870001_02285.png: 96x128 1 16, 7.6ms\n",
      "image 666/4118 /home/anderste/ikt450-deep-neural-networks/DNN-prosjekt/segmentation_data_new/test/images/fish_000023900001_02296.png: 128x128 1 16, 8.1ms\n",
      "image 667/4118 /home/anderste/ikt450-deep-neural-networks/DNN-prosjekt/segmentation_data_new/test/images/fish_000023950001_02298.png: 128x128 (no detections), 7.6ms\n",
      "image 668/4118 /home/anderste/ikt450-deep-neural-networks/DNN-prosjekt/segmentation_data_new/test/images/fish_000023950001_02302.png: 128x128 1 16, 7.7ms\n",
      "image 669/4118 /home/anderste/ikt450-deep-neural-networks/DNN-prosjekt/segmentation_data_new/test/images/fish_000023950001_02303.png: 128x128 1 16, 1 22, 7.6ms\n",
      "image 670/4118 /home/anderste/ikt450-deep-neural-networks/DNN-prosjekt/segmentation_data_new/test/images/fish_000023950001_02304.png: 128x128 1 16, 7.6ms\n",
      "image 671/4118 /home/anderste/ikt450-deep-neural-networks/DNN-prosjekt/segmentation_data_new/test/images/fish_000023950001_02310.png: 128x128 1 16, 7.7ms\n",
      "image 672/4118 /home/anderste/ikt450-deep-neural-networks/DNN-prosjekt/segmentation_data_new/test/images/fish_000024219597_05217.png: 128x128 (no detections), 7.7ms\n",
      "image 673/4118 /home/anderste/ikt450-deep-neural-networks/DNN-prosjekt/segmentation_data_new/test/images/fish_000024219597_05218.png: 128x128 (no detections), 7.6ms\n",
      "image 674/4118 /home/anderste/ikt450-deep-neural-networks/DNN-prosjekt/segmentation_data_new/test/images/fish_000024739596_04054.png: 128x128 1 2, 7.6ms\n",
      "image 675/4118 /home/anderste/ikt450-deep-neural-networks/DNN-prosjekt/segmentation_data_new/test/images/fish_000024769597_05232.png: 128x128 1 0, 7.6ms\n",
      "image 676/4118 /home/anderste/ikt450-deep-neural-networks/DNN-prosjekt/segmentation_data_new/test/images/fish_000024769597_05235.png: 128x128 1 1, 7.6ms\n",
      "image 677/4118 /home/anderste/ikt450-deep-neural-networks/DNN-prosjekt/segmentation_data_new/test/images/fish_000024769597_05244.png: 128x128 1 1, 7.6ms\n",
      "image 678/4118 /home/anderste/ikt450-deep-neural-networks/DNN-prosjekt/segmentation_data_new/test/images/fish_000024769597_05255.png: 128x128 1 1, 7.6ms\n",
      "image 679/4118 /home/anderste/ikt450-deep-neural-networks/DNN-prosjekt/segmentation_data_new/test/images/fish_000024769597_05261.png: 128x128 1 1, 7.6ms\n",
      "image 680/4118 /home/anderste/ikt450-deep-neural-networks/DNN-prosjekt/segmentation_data_new/test/images/fish_000025279598_05724.png: 128x128 1 3, 7.6ms\n",
      "image 681/4118 /home/anderste/ikt450-deep-neural-networks/DNN-prosjekt/segmentation_data_new/test/images/fish_000025279598_05726.png: 128x128 1 3, 7.7ms\n",
      "image 682/4118 /home/anderste/ikt450-deep-neural-networks/DNN-prosjekt/segmentation_data_new/test/images/fish_000025279598_05728.png: 128x128 1 3, 1 4, 7.7ms\n",
      "image 683/4118 /home/anderste/ikt450-deep-neural-networks/DNN-prosjekt/segmentation_data_new/test/images/fish_000025279598_05729.png: 128x128 1 3, 8.3ms\n",
      "image 684/4118 /home/anderste/ikt450-deep-neural-networks/DNN-prosjekt/segmentation_data_new/test/images/fish_000025279598_05738.png: 128x128 1 3, 7.7ms\n",
      "image 685/4118 /home/anderste/ikt450-deep-neural-networks/DNN-prosjekt/segmentation_data_new/test/images/fish_000025279598_05748.png: 128x128 1 3, 7.6ms\n",
      "image 686/4118 /home/anderste/ikt450-deep-neural-networks/DNN-prosjekt/segmentation_data_new/test/images/fish_000025549596_04056.png: 128x128 1 1, 8.1ms\n",
      "image 687/4118 /home/anderste/ikt450-deep-neural-networks/DNN-prosjekt/segmentation_data_new/test/images/fish_000025779596_04068.png: 128x128 1 1, 7.7ms\n",
      "image 688/4118 /home/anderste/ikt450-deep-neural-networks/DNN-prosjekt/segmentation_data_new/test/images/fish_000025779596_04070.png: 128x128 1 1, 7.6ms\n",
      "image 689/4118 /home/anderste/ikt450-deep-neural-networks/DNN-prosjekt/segmentation_data_new/test/images/fish_000025940001_02357.png: 128x128 1 3, 7.7ms\n",
      "image 690/4118 /home/anderste/ikt450-deep-neural-networks/DNN-prosjekt/segmentation_data_new/test/images/fish_000025940001_02358.png: 128x128 1 3, 7.7ms\n",
      "image 691/4118 /home/anderste/ikt450-deep-neural-networks/DNN-prosjekt/segmentation_data_new/test/images/fish_000025950001_02363.png: 128x128 1 3, 7.6ms\n",
      "image 692/4118 /home/anderste/ikt450-deep-neural-networks/DNN-prosjekt/segmentation_data_new/test/images/fish_000025950001_02366.png: 128x128 1 3, 7.6ms\n",
      "image 693/4118 /home/anderste/ikt450-deep-neural-networks/DNN-prosjekt/segmentation_data_new/test/images/fish_000025960001_02367.png: 128x128 2 3s, 7.7ms\n",
      "image 694/4118 /home/anderste/ikt450-deep-neural-networks/DNN-prosjekt/segmentation_data_new/test/images/fish_000025960001_02369.png: 128x128 1 3, 7.6ms\n",
      "image 695/4118 /home/anderste/ikt450-deep-neural-networks/DNN-prosjekt/segmentation_data_new/test/images/fish_000026079598_05736.png: 128x128 1 0, 7.6ms\n",
      "image 696/4118 /home/anderste/ikt450-deep-neural-networks/DNN-prosjekt/segmentation_data_new/test/images/fish_000026079598_05737.png: 128x128 1 0, 7.7ms\n",
      "image 697/4118 /home/anderste/ikt450-deep-neural-networks/DNN-prosjekt/segmentation_data_new/test/images/fish_000026079598_05746.png: 128x128 1 0, 7.9ms\n",
      "image 698/4118 /home/anderste/ikt450-deep-neural-networks/DNN-prosjekt/segmentation_data_new/test/images/fish_000026130001_02542.png: 128x128 1 1, 7.7ms\n",
      "image 699/4118 /home/anderste/ikt450-deep-neural-networks/DNN-prosjekt/segmentation_data_new/test/images/fish_000026190001_02554.png: 128x128 1 7, 7.6ms\n",
      "image 700/4118 /home/anderste/ikt450-deep-neural-networks/DNN-prosjekt/segmentation_data_new/test/images/fish_000026200001_02555.png: 128x128 1 2, 7.7ms\n",
      "image 701/4118 /home/anderste/ikt450-deep-neural-networks/DNN-prosjekt/segmentation_data_new/test/images/fish_000026210001_02441.png: 128x128 1 3, 7.6ms\n",
      "image 702/4118 /home/anderste/ikt450-deep-neural-networks/DNN-prosjekt/segmentation_data_new/test/images/fish_000026220001_02450.png: 128x128 1 1, 7.5ms\n",
      "image 703/4118 /home/anderste/ikt450-deep-neural-networks/DNN-prosjekt/segmentation_data_new/test/images/fish_000026310001_02568.png: 128x128 (no detections), 7.6ms\n",
      "image 704/4118 /home/anderste/ikt450-deep-neural-networks/DNN-prosjekt/segmentation_data_new/test/images/fish_000026370001_02462.png: 128x128 1 0, 1 1, 7.5ms\n",
      "image 705/4118 /home/anderste/ikt450-deep-neural-networks/DNN-prosjekt/segmentation_data_new/test/images/fish_000026380001_02572.png: 128x128 1 7, 7.6ms\n",
      "image 706/4118 /home/anderste/ikt450-deep-neural-networks/DNN-prosjekt/segmentation_data_new/test/images/fish_000026380001_02573.png: 128x128 1 7, 7.6ms\n",
      "image 707/4118 /home/anderste/ikt450-deep-neural-networks/DNN-prosjekt/segmentation_data_new/test/images/fish_000026380001_02577.png: 128x128 1 7, 7.6ms\n",
      "image 708/4118 /home/anderste/ikt450-deep-neural-networks/DNN-prosjekt/segmentation_data_new/test/images/fish_000026380001_02582.png: 128x128 1 7, 7.7ms\n",
      "image 709/4118 /home/anderste/ikt450-deep-neural-networks/DNN-prosjekt/segmentation_data_new/test/images/fish_000026420001_02467.png: 128x128 1 1, 7.6ms\n",
      "image 710/4118 /home/anderste/ikt450-deep-neural-networks/DNN-prosjekt/segmentation_data_new/test/images/fish_000026430001_02599.png: 128x128 1 1, 7.6ms\n",
      "image 711/4118 /home/anderste/ikt450-deep-neural-networks/DNN-prosjekt/segmentation_data_new/test/images/fish_000026439597_05229.png: 128x128 1 0, 7.5ms\n",
      "image 712/4118 /home/anderste/ikt450-deep-neural-networks/DNN-prosjekt/segmentation_data_new/test/images/fish_000026440001_02605.png: 128x128 1 0, 1 1, 7.6ms\n",
      "image 713/4118 /home/anderste/ikt450-deep-neural-networks/DNN-prosjekt/segmentation_data_new/test/images/fish_000026440001_02606.png: 128x128 1 0, 1 1, 8.2ms\n",
      "image 714/4118 /home/anderste/ikt450-deep-neural-networks/DNN-prosjekt/segmentation_data_new/test/images/fish_000026450001_02608.png: 128x128 1 0, 1 1, 7.6ms\n",
      "image 715/4118 /home/anderste/ikt450-deep-neural-networks/DNN-prosjekt/segmentation_data_new/test/images/fish_000026460001_02610.png: 128x128 1 0, 7.7ms\n",
      "image 716/4118 /home/anderste/ikt450-deep-neural-networks/DNN-prosjekt/segmentation_data_new/test/images/fish_000026500001_02472.png: 128x128 1 1, 7.6ms\n",
      "image 717/4118 /home/anderste/ikt450-deep-neural-networks/DNN-prosjekt/segmentation_data_new/test/images/fish_000026510001_02634.png: 128x128 1 0, 1 1, 7.6ms\n",
      "image 718/4118 /home/anderste/ikt450-deep-neural-networks/DNN-prosjekt/segmentation_data_new/test/images/fish_000026510001_02636.png: 128x128 1 1, 7.6ms\n",
      "image 719/4118 /home/anderste/ikt450-deep-neural-networks/DNN-prosjekt/segmentation_data_new/test/images/fish_000026510001_02638.png: 128x128 1 0, 1 1, 7.6ms\n",
      "image 720/4118 /home/anderste/ikt450-deep-neural-networks/DNN-prosjekt/segmentation_data_new/test/images/fish_000026550001_02644.png: 128x128 1 0, 1 1, 7.6ms\n",
      "image 721/4118 /home/anderste/ikt450-deep-neural-networks/DNN-prosjekt/segmentation_data_new/test/images/fish_000026550001_02650.png: 128x128 1 1, 7.7ms\n",
      "image 722/4118 /home/anderste/ikt450-deep-neural-networks/DNN-prosjekt/segmentation_data_new/test/images/fish_000026550001_02653.png: 128x128 1 1, 7.8ms\n",
      "image 723/4118 /home/anderste/ikt450-deep-neural-networks/DNN-prosjekt/segmentation_data_new/test/images/fish_000026550001_02655.png: 128x128 1 13, 7.6ms\n",
      "image 724/4118 /home/anderste/ikt450-deep-neural-networks/DNN-prosjekt/segmentation_data_new/test/images/fish_000026610001_02662.png: 128x128 1 7, 7.6ms\n",
      "image 725/4118 /home/anderste/ikt450-deep-neural-networks/DNN-prosjekt/segmentation_data_new/test/images/fish_000026620001_02951.png: 128x128 1 0, 1 1, 7.6ms\n",
      "image 726/4118 /home/anderste/ikt450-deep-neural-networks/DNN-prosjekt/segmentation_data_new/test/images/fish_000026620001_02954.png: 128x128 1 1, 7.6ms\n",
      "image 727/4118 /home/anderste/ikt450-deep-neural-networks/DNN-prosjekt/segmentation_data_new/test/images/fish_000026620001_02955.png: 128x128 1 0, 1 1, 7.7ms\n",
      "image 728/4118 /home/anderste/ikt450-deep-neural-networks/DNN-prosjekt/segmentation_data_new/test/images/fish_000026630001_02671.png: 128x128 1 2, 7.5ms\n",
      "image 729/4118 /home/anderste/ikt450-deep-neural-networks/DNN-prosjekt/segmentation_data_new/test/images/fish_000026690001_02687.png: 128x128 1 1, 7.6ms\n",
      "image 730/4118 /home/anderste/ikt450-deep-neural-networks/DNN-prosjekt/segmentation_data_new/test/images/fish_000026690001_02689.png: 128x128 (no detections), 7.6ms\n",
      "image 731/4118 /home/anderste/ikt450-deep-neural-networks/DNN-prosjekt/segmentation_data_new/test/images/fish_000026690001_02691.png: 128x128 (no detections), 7.9ms\n",
      "image 732/4118 /home/anderste/ikt450-deep-neural-networks/DNN-prosjekt/segmentation_data_new/test/images/fish_000026710001_02694.png: 128x128 1 1, 7.6ms\n",
      "image 733/4118 /home/anderste/ikt450-deep-neural-networks/DNN-prosjekt/segmentation_data_new/test/images/fish_000026710001_02698.png: 128x128 1 1, 7.7ms\n",
      "image 734/4118 /home/anderste/ikt450-deep-neural-networks/DNN-prosjekt/segmentation_data_new/test/images/fish_000026750001_02720.png: 128x128 1 7, 1 13, 7.6ms\n",
      "image 735/4118 /home/anderste/ikt450-deep-neural-networks/DNN-prosjekt/segmentation_data_new/test/images/fish_000026760001_02735.png: 128x128 1 2, 7.6ms\n",
      "image 736/4118 /home/anderste/ikt450-deep-neural-networks/DNN-prosjekt/segmentation_data_new/test/images/fish_000026760001_02737.png: 128x128 1 2, 7.4ms\n",
      "image 737/4118 /home/anderste/ikt450-deep-neural-networks/DNN-prosjekt/segmentation_data_new/test/images/fish_000026760001_02743.png: 128x128 1 1, 1 2, 7.6ms\n",
      "image 738/4118 /home/anderste/ikt450-deep-neural-networks/DNN-prosjekt/segmentation_data_new/test/images/fish_000026770001_02494.png: 128x128 1 1, 8.2ms\n",
      "image 739/4118 /home/anderste/ikt450-deep-neural-networks/DNN-prosjekt/segmentation_data_new/test/images/fish_000026780001_02493.png: 128x128 1 1, 7.6ms\n",
      "image 740/4118 /home/anderste/ikt450-deep-neural-networks/DNN-prosjekt/segmentation_data_new/test/images/fish_000026780001_02499.png: 128x128 1 1, 7.7ms\n",
      "image 741/4118 /home/anderste/ikt450-deep-neural-networks/DNN-prosjekt/segmentation_data_new/test/images/fish_000026830001_02754.png: 128x128 (no detections), 7.6ms\n",
      "image 742/4118 /home/anderste/ikt450-deep-neural-networks/DNN-prosjekt/segmentation_data_new/test/images/fish_000026870001_02500.png: 128x128 1 1, 7.6ms\n",
      "image 743/4118 /home/anderste/ikt450-deep-neural-networks/DNN-prosjekt/segmentation_data_new/test/images/fish_000026880001_02759.png: 128x128 1 1, 7.6ms\n",
      "image 744/4118 /home/anderste/ikt450-deep-neural-networks/DNN-prosjekt/segmentation_data_new/test/images/fish_000026880001_02761.png: 128x128 1 1, 7.9ms\n",
      "image 745/4118 /home/anderste/ikt450-deep-neural-networks/DNN-prosjekt/segmentation_data_new/test/images/fish_000026900001_02766.png: 128x128 1 2, 7.6ms\n",
      "image 746/4118 /home/anderste/ikt450-deep-neural-networks/DNN-prosjekt/segmentation_data_new/test/images/fish_000026940001_02787.png: 96x128 1 7, 8.3ms\n",
      "image 747/4118 /home/anderste/ikt450-deep-neural-networks/DNN-prosjekt/segmentation_data_new/test/images/fish_000026949596_04075.png: 128x128 1 2, 8.2ms\n",
      "image 748/4118 /home/anderste/ikt450-deep-neural-networks/DNN-prosjekt/segmentation_data_new/test/images/fish_000026980001_02983.png: 128x128 1 0, 1 1, 7.6ms\n",
      "image 749/4118 /home/anderste/ikt450-deep-neural-networks/DNN-prosjekt/segmentation_data_new/test/images/fish_000027020001_02804.png: 128x128 1 0, 1 1, 7.7ms\n",
      "image 750/4118 /home/anderste/ikt450-deep-neural-networks/DNN-prosjekt/segmentation_data_new/test/images/fish_000027070001_02996.png: 128x128 1 0, 7.6ms\n",
      "image 751/4118 /home/anderste/ikt450-deep-neural-networks/DNN-prosjekt/segmentation_data_new/test/images/fish_000027070001_03000.png: 128x128 1 0, 7.6ms\n",
      "image 752/4118 /home/anderste/ikt450-deep-neural-networks/DNN-prosjekt/segmentation_data_new/test/images/fish_000027080001_02816.png: 128x128 1 7, 7.7ms\n",
      "image 753/4118 /home/anderste/ikt450-deep-neural-networks/DNN-prosjekt/segmentation_data_new/test/images/fish_000027210001_02823.png: 128x128 1 0, 1 1, 7.7ms\n",
      "image 754/4118 /home/anderste/ikt450-deep-neural-networks/DNN-prosjekt/segmentation_data_new/test/images/fish_000027210001_02833.png: 128x128 1 1, 7.6ms\n",
      "image 755/4118 /home/anderste/ikt450-deep-neural-networks/DNN-prosjekt/segmentation_data_new/test/images/fish_000027220001_02514.png: 128x128 1 7, 7.7ms\n",
      "image 756/4118 /home/anderste/ikt450-deep-neural-networks/DNN-prosjekt/segmentation_data_new/test/images/fish_000027230001_02849.png: 128x128 1 7, 7.6ms\n",
      "image 757/4118 /home/anderste/ikt450-deep-neural-networks/DNN-prosjekt/segmentation_data_new/test/images/fish_000027230001_02852.png: 128x128 1 7, 7.3ms\n",
      "image 758/4118 /home/anderste/ikt450-deep-neural-networks/DNN-prosjekt/segmentation_data_new/test/images/fish_000027230001_02854.png: 128x128 1 7, 7.7ms\n",
      "image 759/4118 /home/anderste/ikt450-deep-neural-networks/DNN-prosjekt/segmentation_data_new/test/images/fish_000027240001_02520.png: 128x128 1 3, 7.7ms\n",
      "image 760/4118 /home/anderste/ikt450-deep-neural-networks/DNN-prosjekt/segmentation_data_new/test/images/fish_000027319596_04078.png: 128x128 1 2, 7.7ms\n",
      "image 761/4118 /home/anderste/ikt450-deep-neural-networks/DNN-prosjekt/segmentation_data_new/test/images/fish_000027320001_02893.png: 96x128 1 7, 8.1ms\n",
      "image 762/4118 /home/anderste/ikt450-deep-neural-networks/DNN-prosjekt/segmentation_data_new/test/images/fish_000027320001_02899.png: 128x128 1 7, 8.2ms\n",
      "image 763/4118 /home/anderste/ikt450-deep-neural-networks/DNN-prosjekt/segmentation_data_new/test/images/fish_000027320001_02904.png: 128x128 1 7, 7.6ms\n",
      "image 764/4118 /home/anderste/ikt450-deep-neural-networks/DNN-prosjekt/segmentation_data_new/test/images/fish_000027320001_02905.png: 128x128 (no detections), 7.7ms\n",
      "image 765/4118 /home/anderste/ikt450-deep-neural-networks/DNN-prosjekt/segmentation_data_new/test/images/fish_000027329596_04081.png: 128x128 1 2, 7.6ms\n",
      "image 766/4118 /home/anderste/ikt450-deep-neural-networks/DNN-prosjekt/segmentation_data_new/test/images/fish_000027329596_04086.png: 128x128 1 2, 7.8ms\n",
      "image 767/4118 /home/anderste/ikt450-deep-neural-networks/DNN-prosjekt/segmentation_data_new/test/images/fish_000027420001_02916.png: 128x128 1 9, 7.6ms\n",
      "image 768/4118 /home/anderste/ikt450-deep-neural-networks/DNN-prosjekt/segmentation_data_new/test/images/fish_000027459596_04091.png: 128x128 1 2, 7.6ms\n",
      "image 769/4118 /home/anderste/ikt450-deep-neural-networks/DNN-prosjekt/segmentation_data_new/test/images/fish_000027480001_02917.png: 128x128 (no detections), 7.6ms\n",
      "image 770/4118 /home/anderste/ikt450-deep-neural-networks/DNN-prosjekt/segmentation_data_new/test/images/fish_000027480001_02918.png: 128x128 (no detections), 7.6ms\n",
      "image 771/4118 /home/anderste/ikt450-deep-neural-networks/DNN-prosjekt/segmentation_data_new/test/images/fish_000027490001_02920.png: 128x128 1 9, 7.6ms\n",
      "image 772/4118 /home/anderste/ikt450-deep-neural-networks/DNN-prosjekt/segmentation_data_new/test/images/fish_000027510001_02930.png: 128x128 1 2, 1 3, 7.7ms\n",
      "image 773/4118 /home/anderste/ikt450-deep-neural-networks/DNN-prosjekt/segmentation_data_new/test/images/fish_000027510001_02933.png: 128x128 1 2, 1 3, 7.6ms\n",
      "image 774/4118 /home/anderste/ikt450-deep-neural-networks/DNN-prosjekt/segmentation_data_new/test/images/fish_000027520001_02943.png: 128x128 1 3, 8.2ms\n",
      "image 775/4118 /home/anderste/ikt450-deep-neural-networks/DNN-prosjekt/segmentation_data_new/test/images/fish_000027530001_03030.png: 128x128 (no detections), 8.0ms\n",
      "image 776/4118 /home/anderste/ikt450-deep-neural-networks/DNN-prosjekt/segmentation_data_new/test/images/fish_000027799596_04096.png: 128x128 1 2, 7.6ms\n",
      "image 777/4118 /home/anderste/ikt450-deep-neural-networks/DNN-prosjekt/segmentation_data_new/test/images/fish_000030359596_04109.png: 128x128 1 1, 7.7ms\n",
      "image 778/4118 /home/anderste/ikt450-deep-neural-networks/DNN-prosjekt/segmentation_data_new/test/images/fish_000030359596_04110.png: 128x128 1 1, 7.7ms\n",
      "image 779/4118 /home/anderste/ikt450-deep-neural-networks/DNN-prosjekt/segmentation_data_new/test/images/fish_000030589596_04124.png: 128x128 1 1, 7.8ms\n",
      "image 780/4118 /home/anderste/ikt450-deep-neural-networks/DNN-prosjekt/segmentation_data_new/test/images/fish_000030819596_04141.png: 128x128 1 2, 7.6ms\n",
      "image 781/4118 /home/anderste/ikt450-deep-neural-networks/DNN-prosjekt/segmentation_data_new/test/images/fish_000030959597_05270.png: 128x128 1 0, 7.7ms\n",
      "image 782/4118 /home/anderste/ikt450-deep-neural-networks/DNN-prosjekt/segmentation_data_new/test/images/fish_000030959597_05276.png: 128x128 1 1, 7.6ms\n",
      "image 783/4118 /home/anderste/ikt450-deep-neural-networks/DNN-prosjekt/segmentation_data_new/test/images/fish_000031270001_03051.png: 128x128 1 3, 7.7ms\n",
      "image 784/4118 /home/anderste/ikt450-deep-neural-networks/DNN-prosjekt/segmentation_data_new/test/images/fish_000032559596_04155.png: 128x128 1 2, 7.6ms\n",
      "image 785/4118 /home/anderste/ikt450-deep-neural-networks/DNN-prosjekt/segmentation_data_new/test/images/fish_000032559596_04156.png: 128x128 1 2, 7.7ms\n",
      "image 786/4118 /home/anderste/ikt450-deep-neural-networks/DNN-prosjekt/segmentation_data_new/test/images/fish_000032559596_04157.png: 128x128 1 2, 7.7ms\n",
      "image 787/4118 /home/anderste/ikt450-deep-neural-networks/DNN-prosjekt/segmentation_data_new/test/images/fish_000032559596_04159.png: 128x128 1 2, 7.6ms\n",
      "image 788/4118 /home/anderste/ikt450-deep-neural-networks/DNN-prosjekt/segmentation_data_new/test/images/fish_000032559596_04171.png: 128x128 1 2, 7.7ms\n",
      "image 789/4118 /home/anderste/ikt450-deep-neural-networks/DNN-prosjekt/segmentation_data_new/test/images/fish_000033289596_04174.png: 128x128 1 2, 7.6ms\n",
      "image 790/4118 /home/anderste/ikt450-deep-neural-networks/DNN-prosjekt/segmentation_data_new/test/images/fish_000033289596_04179.png: 128x128 1 2, 9.0ms\n",
      "image 791/4118 /home/anderste/ikt450-deep-neural-networks/DNN-prosjekt/segmentation_data_new/test/images/fish_000033520001_03064.png: 128x128 1 3, 7.7ms\n",
      "image 792/4118 /home/anderste/ikt450-deep-neural-networks/DNN-prosjekt/segmentation_data_new/test/images/fish_000033570001_03071.png: 128x128 1 2, 7.7ms\n",
      "image 793/4118 /home/anderste/ikt450-deep-neural-networks/DNN-prosjekt/segmentation_data_new/test/images/fish_000033570001_03072.png: 128x128 2 2s, 7.5ms\n",
      "image 794/4118 /home/anderste/ikt450-deep-neural-networks/DNN-prosjekt/segmentation_data_new/test/images/fish_000033610001_03095.png: 128x128 1 1, 7.6ms\n",
      "image 795/4118 /home/anderste/ikt450-deep-neural-networks/DNN-prosjekt/segmentation_data_new/test/images/fish_000033610001_03096.png: 128x128 1 0, 1 1, 7.6ms\n",
      "image 796/4118 /home/anderste/ikt450-deep-neural-networks/DNN-prosjekt/segmentation_data_new/test/images/fish_000033649598_05767.png: 128x128 1 0, 8.3ms\n",
      "image 797/4118 /home/anderste/ikt450-deep-neural-networks/DNN-prosjekt/segmentation_data_new/test/images/fish_000033680001_03122.png: 128x128 1 2, 7.7ms\n",
      "image 798/4118 /home/anderste/ikt450-deep-neural-networks/DNN-prosjekt/segmentation_data_new/test/images/fish_000033680001_03128.png: 128x128 1 3, 7.8ms\n",
      "image 799/4118 /home/anderste/ikt450-deep-neural-networks/DNN-prosjekt/segmentation_data_new/test/images/fish_000033680001_03131.png: 128x128 1 3, 7.6ms\n",
      "image 800/4118 /home/anderste/ikt450-deep-neural-networks/DNN-prosjekt/segmentation_data_new/test/images/fish_000033680001_03132.png: 128x128 1 3, 7.7ms\n",
      "image 801/4118 /home/anderste/ikt450-deep-neural-networks/DNN-prosjekt/segmentation_data_new/test/images/fish_000033700001_03136.png: 128x128 1 3, 7.7ms\n",
      "image 802/4118 /home/anderste/ikt450-deep-neural-networks/DNN-prosjekt/segmentation_data_new/test/images/fish_000033820001_03140.png: 128x128 1 3, 7.7ms\n",
      "image 803/4118 /home/anderste/ikt450-deep-neural-networks/DNN-prosjekt/segmentation_data_new/test/images/fish_000033820001_03144.png: 128x128 1 3, 7.6ms\n",
      "image 804/4118 /home/anderste/ikt450-deep-neural-networks/DNN-prosjekt/segmentation_data_new/test/images/fish_000033820001_03146.png: 128x128 1 2, 1 3, 7.7ms\n",
      "image 805/4118 /home/anderste/ikt450-deep-neural-networks/DNN-prosjekt/segmentation_data_new/test/images/fish_000033820001_03162.png: 128x128 1 3, 7.8ms\n",
      "image 806/4118 /home/anderste/ikt450-deep-neural-networks/DNN-prosjekt/segmentation_data_new/test/images/fish_000033820001_03165.png: 128x128 1 3, 7.8ms\n",
      "image 807/4118 /home/anderste/ikt450-deep-neural-networks/DNN-prosjekt/segmentation_data_new/test/images/fish_000033910001_03171.png: 128x128 1 3, 7.8ms\n",
      "image 808/4118 /home/anderste/ikt450-deep-neural-networks/DNN-prosjekt/segmentation_data_new/test/images/fish_000033950001_03185.png: 128x128 1 2, 1 3, 7.9ms\n",
      "image 809/4118 /home/anderste/ikt450-deep-neural-networks/DNN-prosjekt/segmentation_data_new/test/images/fish_000033960001_03192.png: 128x128 1 2, 7.9ms\n",
      "image 810/4118 /home/anderste/ikt450-deep-neural-networks/DNN-prosjekt/segmentation_data_new/test/images/fish_000034029596_04184.png: 128x128 1 1, 7.8ms\n",
      "image 811/4118 /home/anderste/ikt450-deep-neural-networks/DNN-prosjekt/segmentation_data_new/test/images/fish_000034050001_03206.png: 128x128 1 2, 1 3, 7.7ms\n",
      "image 812/4118 /home/anderste/ikt450-deep-neural-networks/DNN-prosjekt/segmentation_data_new/test/images/fish_000034050001_03212.png: 128x128 1 3, 7.8ms\n",
      "image 813/4118 /home/anderste/ikt450-deep-neural-networks/DNN-prosjekt/segmentation_data_new/test/images/fish_000034050001_03213.png: 128x128 1 3, 7.6ms\n",
      "image 814/4118 /home/anderste/ikt450-deep-neural-networks/DNN-prosjekt/segmentation_data_new/test/images/fish_000034050001_03214.png: 128x128 1 3, 7.7ms\n",
      "image 815/4118 /home/anderste/ikt450-deep-neural-networks/DNN-prosjekt/segmentation_data_new/test/images/fish_000034150001_03216.png: 128x128 1 2, 7.7ms\n",
      "image 816/4118 /home/anderste/ikt450-deep-neural-networks/DNN-prosjekt/segmentation_data_new/test/images/fish_000034150001_03217.png: 128x128 1 2, 7.6ms\n",
      "image 817/4118 /home/anderste/ikt450-deep-neural-networks/DNN-prosjekt/segmentation_data_new/test/images/fish_000034189596_04191.png: 128x128 1 2, 7.6ms\n",
      "image 818/4118 /home/anderste/ikt450-deep-neural-networks/DNN-prosjekt/segmentation_data_new/test/images/fish_000034189596_04194.png: 128x128 1 2, 7.6ms\n",
      "image 819/4118 /home/anderste/ikt450-deep-neural-networks/DNN-prosjekt/segmentation_data_new/test/images/fish_000034189596_04196.png: 128x128 1 2, 8.1ms\n",
      "image 820/4118 /home/anderste/ikt450-deep-neural-networks/DNN-prosjekt/segmentation_data_new/test/images/fish_000034220001_03221.png: 128x128 1 0, 1 1, 7.7ms\n",
      "image 821/4118 /home/anderste/ikt450-deep-neural-networks/DNN-prosjekt/segmentation_data_new/test/images/fish_000034240001_03231.png: 128x128 1 7, 10.4ms\n",
      "image 822/4118 /home/anderste/ikt450-deep-neural-networks/DNN-prosjekt/segmentation_data_new/test/images/fish_000034240001_03232.png: 128x128 1 7, 7.6ms\n",
      "image 823/4118 /home/anderste/ikt450-deep-neural-networks/DNN-prosjekt/segmentation_data_new/test/images/fish_000034250001_03222.png: 128x128 1 1, 7.6ms\n",
      "image 824/4118 /home/anderste/ikt450-deep-neural-networks/DNN-prosjekt/segmentation_data_new/test/images/fish_000034250001_03234.png: 128x128 1 1, 7.6ms\n",
      "image 825/4118 /home/anderste/ikt450-deep-neural-networks/DNN-prosjekt/segmentation_data_new/test/images/fish_000034280001_03240.png: 128x128 1 3, 7.6ms\n",
      "image 826/4118 /home/anderste/ikt450-deep-neural-networks/DNN-prosjekt/segmentation_data_new/test/images/fish_000034289596_04193.png: 96x128 1 1, 8.8ms\n",
      "image 827/4118 /home/anderste/ikt450-deep-neural-networks/DNN-prosjekt/segmentation_data_new/test/images/fish_000034370001_03245.png: 128x128 1 3, 8.1ms\n",
      "image 828/4118 /home/anderste/ikt450-deep-neural-networks/DNN-prosjekt/segmentation_data_new/test/images/fish_000034639598_05759.png: 128x128 1 0, 7.7ms\n",
      "image 829/4118 /home/anderste/ikt450-deep-neural-networks/DNN-prosjekt/segmentation_data_new/test/images/fish_000034639598_05761.png: 128x128 1 0, 7.6ms\n",
      "image 830/4118 /home/anderste/ikt450-deep-neural-networks/DNN-prosjekt/segmentation_data_new/test/images/fish_000034690001_03286.png: 128x128 1 2, 1 3, 7.8ms\n",
      "image 831/4118 /home/anderste/ikt450-deep-neural-networks/DNN-prosjekt/segmentation_data_new/test/images/fish_000034690001_03292.png: 128x128 1 3, 7.6ms\n",
      "image 832/4118 /home/anderste/ikt450-deep-neural-networks/DNN-prosjekt/segmentation_data_new/test/images/fish_000034699596_04208.png: 128x128 1 2, 7.9ms\n",
      "image 833/4118 /home/anderste/ikt450-deep-neural-networks/DNN-prosjekt/segmentation_data_new/test/images/fish_000034699596_04223.png: 128x128 1 2, 7.4ms\n",
      "image 834/4118 /home/anderste/ikt450-deep-neural-networks/DNN-prosjekt/segmentation_data_new/test/images/fish_000034699596_04227.png: 128x128 1 2, 7.4ms\n",
      "image 835/4118 /home/anderste/ikt450-deep-neural-networks/DNN-prosjekt/segmentation_data_new/test/images/fish_000034699596_04230.png: 128x128 1 2, 7.6ms\n",
      "image 836/4118 /home/anderste/ikt450-deep-neural-networks/DNN-prosjekt/segmentation_data_new/test/images/fish_000034699596_04231.png: 128x128 1 2, 7.6ms\n",
      "image 837/4118 /home/anderste/ikt450-deep-neural-networks/DNN-prosjekt/segmentation_data_new/test/images/fish_000034719596_04212.png: 128x128 1 2, 8.1ms\n",
      "image 838/4118 /home/anderste/ikt450-deep-neural-networks/DNN-prosjekt/segmentation_data_new/test/images/fish_000034760001_03302.png: 128x128 1 3, 7.9ms\n",
      "image 839/4118 /home/anderste/ikt450-deep-neural-networks/DNN-prosjekt/segmentation_data_new/test/images/fish_000034930001_03342.png: 128x128 1 3, 7.6ms\n",
      "image 840/4118 /home/anderste/ikt450-deep-neural-networks/DNN-prosjekt/segmentation_data_new/test/images/fish_000034950001_03353.png: 128x128 1 1, 7.6ms\n",
      "image 841/4118 /home/anderste/ikt450-deep-neural-networks/DNN-prosjekt/segmentation_data_new/test/images/fish_000034950001_03356.png: 128x128 1 1, 7.6ms\n",
      "image 842/4118 /home/anderste/ikt450-deep-neural-networks/DNN-prosjekt/segmentation_data_new/test/images/fish_000035090001_03392.png: 128x128 1 1, 7.6ms\n",
      "image 843/4118 /home/anderste/ikt450-deep-neural-networks/DNN-prosjekt/segmentation_data_new/test/images/fish_000035090001_03394.png: 128x128 1 1, 7.9ms\n",
      "image 844/4118 /home/anderste/ikt450-deep-neural-networks/DNN-prosjekt/segmentation_data_new/test/images/fish_000035090001_03396.png: 128x128 1 1, 7.7ms\n",
      "image 845/4118 /home/anderste/ikt450-deep-neural-networks/DNN-prosjekt/segmentation_data_new/test/images/fish_000035359598_05782.png: 128x128 1 0, 7.6ms\n",
      "image 846/4118 /home/anderste/ikt450-deep-neural-networks/DNN-prosjekt/segmentation_data_new/test/images/fish_000035359598_05795.png: 128x128 1 0, 7.6ms\n",
      "image 847/4118 /home/anderste/ikt450-deep-neural-networks/DNN-prosjekt/segmentation_data_new/test/images/fish_000035769598_05800.png: 128x128 1 0, 7.6ms\n",
      "image 848/4118 /home/anderste/ikt450-deep-neural-networks/DNN-prosjekt/segmentation_data_new/test/images/fish_000035969596_04240.png: 128x128 1 2, 7.4ms\n",
      "image 849/4118 /home/anderste/ikt450-deep-neural-networks/DNN-prosjekt/segmentation_data_new/test/images/fish_000035969596_04242.png: 128x128 1 2, 7.6ms\n",
      "image 850/4118 /home/anderste/ikt450-deep-neural-networks/DNN-prosjekt/segmentation_data_new/test/images/fish_000035969596_04264.png: 128x128 1 2, 7.2ms\n",
      "image 851/4118 /home/anderste/ikt450-deep-neural-networks/DNN-prosjekt/segmentation_data_new/test/images/fish_000036049596_04241.png: 128x128 1 2, 7.4ms\n",
      "image 852/4118 /home/anderste/ikt450-deep-neural-networks/DNN-prosjekt/segmentation_data_new/test/images/fish_000036049596_04249.png: 128x128 1 2, 7.6ms\n",
      "image 853/4118 /home/anderste/ikt450-deep-neural-networks/DNN-prosjekt/segmentation_data_new/test/images/fish_000036049596_04256.png: 128x128 1 2, 1 3, 7.5ms\n",
      "image 854/4118 /home/anderste/ikt450-deep-neural-networks/DNN-prosjekt/segmentation_data_new/test/images/fish_000036049596_04259.png: 128x128 1 2, 8.2ms\n",
      "image 855/4118 /home/anderste/ikt450-deep-neural-networks/DNN-prosjekt/segmentation_data_new/test/images/fish_000036659598_05786.png: 128x128 1 0, 7.7ms\n",
      "image 856/4118 /home/anderste/ikt450-deep-neural-networks/DNN-prosjekt/segmentation_data_new/test/images/fish_000036659598_05803.png: 128x128 1 0, 7.6ms\n",
      "image 857/4118 /home/anderste/ikt450-deep-neural-networks/DNN-prosjekt/segmentation_data_new/test/images/fish_000036659598_05812.png: 128x128 1 0, 7.7ms\n",
      "image 858/4118 /home/anderste/ikt450-deep-neural-networks/DNN-prosjekt/segmentation_data_new/test/images/fish_000036659598_05821.png: 128x128 1 0, 7.3ms\n",
      "image 859/4118 /home/anderste/ikt450-deep-neural-networks/DNN-prosjekt/segmentation_data_new/test/images/fish_000036659598_05836.png: 128x128 1 0, 7.6ms\n",
      "image 860/4118 /home/anderste/ikt450-deep-neural-networks/DNN-prosjekt/segmentation_data_new/test/images/fish_000036969596_04269.png: 128x128 1 2, 7.5ms\n",
      "image 861/4118 /home/anderste/ikt450-deep-neural-networks/DNN-prosjekt/segmentation_data_new/test/images/fish_000036969596_04279.png: 128x128 1 2, 7.8ms\n",
      "image 862/4118 /home/anderste/ikt450-deep-neural-networks/DNN-prosjekt/segmentation_data_new/test/images/fish_000037299596_04274.png: 128x128 1 1, 7.6ms\n",
      "image 863/4118 /home/anderste/ikt450-deep-neural-networks/DNN-prosjekt/segmentation_data_new/test/images/fish_000037299596_04276.png: 128x128 1 1, 7.8ms\n",
      "image 864/4118 /home/anderste/ikt450-deep-neural-networks/DNN-prosjekt/segmentation_data_new/test/images/fish_000037299596_04280.png: 128x128 1 1, 7.6ms\n",
      "image 865/4118 /home/anderste/ikt450-deep-neural-networks/DNN-prosjekt/segmentation_data_new/test/images/fish_000037299596_04283.png: 128x128 1 1, 7.6ms\n",
      "image 866/4118 /home/anderste/ikt450-deep-neural-networks/DNN-prosjekt/segmentation_data_new/test/images/fish_000037299596_04286.png: 128x128 1 1, 7.8ms\n",
      "image 867/4118 /home/anderste/ikt450-deep-neural-networks/DNN-prosjekt/segmentation_data_new/test/images/fish_000037509596_04290.png: 128x128 1 2, 9.3ms\n",
      "image 868/4118 /home/anderste/ikt450-deep-neural-networks/DNN-prosjekt/segmentation_data_new/test/images/fish_000037509596_04293.png: 128x128 1 2, 8.3ms\n",
      "image 869/4118 /home/anderste/ikt450-deep-neural-networks/DNN-prosjekt/segmentation_data_new/test/images/fish_000037509596_04296.png: 128x128 1 2, 7.6ms\n",
      "image 870/4118 /home/anderste/ikt450-deep-neural-networks/DNN-prosjekt/segmentation_data_new/test/images/fish_000038229598_05853.png: 128x128 1 3, 7.6ms\n",
      "image 871/4118 /home/anderste/ikt450-deep-neural-networks/DNN-prosjekt/segmentation_data_new/test/images/fish_000038749596_04319.png: 128x128 1 2, 8.9ms\n",
      "image 872/4118 /home/anderste/ikt450-deep-neural-networks/DNN-prosjekt/segmentation_data_new/test/images/fish_000038749596_04324.png: 128x128 1 2, 8.4ms\n",
      "image 873/4118 /home/anderste/ikt450-deep-neural-networks/DNN-prosjekt/segmentation_data_new/test/images/fish_000038749596_04345.png: 128x128 1 2, 7.7ms\n",
      "image 874/4118 /home/anderste/ikt450-deep-neural-networks/DNN-prosjekt/segmentation_data_new/test/images/fish_000039059598_05861.png: 128x128 1 0, 7.7ms\n",
      "image 875/4118 /home/anderste/ikt450-deep-neural-networks/DNN-prosjekt/segmentation_data_new/test/images/fish_000039059598_05876.png: 128x128 1 0, 7.7ms\n",
      "image 876/4118 /home/anderste/ikt450-deep-neural-networks/DNN-prosjekt/segmentation_data_new/test/images/fish_000039059598_05879.png: 128x128 1 0, 7.8ms\n",
      "image 877/4118 /home/anderste/ikt450-deep-neural-networks/DNN-prosjekt/segmentation_data_new/test/images/fish_000039059598_05881.png: 128x128 1 0, 8.3ms\n",
      "image 878/4118 /home/anderste/ikt450-deep-neural-networks/DNN-prosjekt/segmentation_data_new/test/images/fish_000039109596_04344.png: 128x128 1 2, 7.4ms\n",
      "image 879/4118 /home/anderste/ikt450-deep-neural-networks/DNN-prosjekt/segmentation_data_new/test/images/fish_000039109596_04357.png: 128x128 1 2, 7.7ms\n",
      "image 880/4118 /home/anderste/ikt450-deep-neural-networks/DNN-prosjekt/segmentation_data_new/test/images/fish_000039109596_04358.png: 128x128 1 2, 7.6ms\n",
      "image 881/4118 /home/anderste/ikt450-deep-neural-networks/DNN-prosjekt/segmentation_data_new/test/images/fish_000039109596_04360.png: 128x128 1 2, 7.7ms\n",
      "image 882/4118 /home/anderste/ikt450-deep-neural-networks/DNN-prosjekt/segmentation_data_new/test/images/fish_000039109596_04361.png: 128x128 1 2, 7.5ms\n",
      "image 883/4118 /home/anderste/ikt450-deep-neural-networks/DNN-prosjekt/segmentation_data_new/test/images/fish_000040059596_04365.png: 96x128 1 7, 8.4ms\n",
      "image 884/4118 /home/anderste/ikt450-deep-neural-networks/DNN-prosjekt/segmentation_data_new/test/images/fish_000040729596_04368.png: 128x128 1 2, 8.2ms\n",
      "image 885/4118 /home/anderste/ikt450-deep-neural-networks/DNN-prosjekt/segmentation_data_new/test/images/fish_000040729596_04394.png: 128x128 1 2, 7.6ms\n",
      "image 886/4118 /home/anderste/ikt450-deep-neural-networks/DNN-prosjekt/segmentation_data_new/test/images/fish_000040729596_04400.png: 128x128 1 2, 7.6ms\n",
      "image 887/4118 /home/anderste/ikt450-deep-neural-networks/DNN-prosjekt/segmentation_data_new/test/images/fish_000040729596_04404.png: 128x128 1 2, 7.6ms\n",
      "image 888/4118 /home/anderste/ikt450-deep-neural-networks/DNN-prosjekt/segmentation_data_new/test/images/fish_000040729596_04409.png: 128x128 1 2, 7.6ms\n",
      "image 889/4118 /home/anderste/ikt450-deep-neural-networks/DNN-prosjekt/segmentation_data_new/test/images/fish_000040729596_04413.png: 128x128 1 2, 7.8ms\n",
      "image 890/4118 /home/anderste/ikt450-deep-neural-networks/DNN-prosjekt/segmentation_data_new/test/images/fish_000040729596_04423.png: 128x128 1 2, 8.5ms\n",
      "image 891/4118 /home/anderste/ikt450-deep-neural-networks/DNN-prosjekt/segmentation_data_new/test/images/fish_000040729596_04430.png: 128x128 1 2, 7.8ms\n",
      "image 892/4118 /home/anderste/ikt450-deep-neural-networks/DNN-prosjekt/segmentation_data_new/test/images/fish_000040729596_04457.png: 128x128 1 2, 7.7ms\n",
      "image 893/4118 /home/anderste/ikt450-deep-neural-networks/DNN-prosjekt/segmentation_data_new/test/images/fish_000040729596_04461.png: 128x128 1 2, 7.6ms\n",
      "image 894/4118 /home/anderste/ikt450-deep-neural-networks/DNN-prosjekt/segmentation_data_new/test/images/fish_000042209596_04424.png: 128x128 1 0, 7.7ms\n",
      "image 895/4118 /home/anderste/ikt450-deep-neural-networks/DNN-prosjekt/segmentation_data_new/test/images/fish_000043299596_04458.png: 128x128 1 1, 7.9ms\n",
      "image 896/4118 /home/anderste/ikt450-deep-neural-networks/DNN-prosjekt/segmentation_data_new/test/images/fish_000043959598_05888.png: 128x128 1 0, 7.7ms\n",
      "image 897/4118 /home/anderste/ikt450-deep-neural-networks/DNN-prosjekt/segmentation_data_new/test/images/fish_000043959598_05908.png: 128x128 1 0, 7.6ms\n",
      "image 898/4118 /home/anderste/ikt450-deep-neural-networks/DNN-prosjekt/segmentation_data_new/test/images/fish_000043959598_05910.png: 128x128 1 0, 7.5ms\n",
      "image 899/4118 /home/anderste/ikt450-deep-neural-networks/DNN-prosjekt/segmentation_data_new/test/images/fish_000043959598_05912.png: 128x128 1 0, 7.6ms\n",
      "image 900/4118 /home/anderste/ikt450-deep-neural-networks/DNN-prosjekt/segmentation_data_new/test/images/fish_000043959598_05913.png: 128x128 1 0, 7.7ms\n",
      "image 901/4118 /home/anderste/ikt450-deep-neural-networks/DNN-prosjekt/segmentation_data_new/test/images/fish_000043959598_05922.png: 128x128 1 0, 7.5ms\n",
      "image 902/4118 /home/anderste/ikt450-deep-neural-networks/DNN-prosjekt/segmentation_data_new/test/images/fish_000043959598_05942.png: 128x128 1 0, 7.6ms\n",
      "image 903/4118 /home/anderste/ikt450-deep-neural-networks/DNN-prosjekt/segmentation_data_new/test/images/fish_000043959598_05950.png: 128x128 1 0, 7.6ms\n",
      "image 904/4118 /home/anderste/ikt450-deep-neural-networks/DNN-prosjekt/segmentation_data_new/test/images/fish_000043999596_04465.png: 128x128 1 2, 7.6ms\n",
      "image 905/4118 /home/anderste/ikt450-deep-neural-networks/DNN-prosjekt/segmentation_data_new/test/images/fish_000043999596_04466.png: 128x128 1 2, 7.6ms\n",
      "image 906/4118 /home/anderste/ikt450-deep-neural-networks/DNN-prosjekt/segmentation_data_new/test/images/fish_000043999596_04481.png: 128x128 1 2, 7.6ms\n",
      "image 907/4118 /home/anderste/ikt450-deep-neural-networks/DNN-prosjekt/segmentation_data_new/test/images/fish_000043999596_04486.png: 128x128 1 2, 7.7ms\n",
      "image 908/4118 /home/anderste/ikt450-deep-neural-networks/DNN-prosjekt/segmentation_data_new/test/images/fish_000044239598_05906.png: 128x128 1 3, 7.6ms\n",
      "image 909/4118 /home/anderste/ikt450-deep-neural-networks/DNN-prosjekt/segmentation_data_new/test/images/fish_000044239598_05919.png: 128x128 1 3, 7.7ms\n",
      "image 910/4118 /home/anderste/ikt450-deep-neural-networks/DNN-prosjekt/segmentation_data_new/test/images/fish_000044239598_05920.png: 128x128 1 3, 7.4ms\n",
      "image 911/4118 /home/anderste/ikt450-deep-neural-networks/DNN-prosjekt/segmentation_data_new/test/images/fish_000044239598_05951.png: 128x128 1 3, 7.6ms\n",
      "image 912/4118 /home/anderste/ikt450-deep-neural-networks/DNN-prosjekt/segmentation_data_new/test/images/fish_000044239598_05958.png: 128x128 1 3, 7.6ms\n",
      "image 913/4118 /home/anderste/ikt450-deep-neural-networks/DNN-prosjekt/segmentation_data_new/test/images/fish_000044239598_05965.png: 128x128 1 3, 8.0ms\n",
      "image 914/4118 /home/anderste/ikt450-deep-neural-networks/DNN-prosjekt/segmentation_data_new/test/images/fish_000044239598_05967.png: 128x128 1 3, 7.6ms\n",
      "image 915/4118 /home/anderste/ikt450-deep-neural-networks/DNN-prosjekt/segmentation_data_new/test/images/fish_000044239598_05969.png: 128x128 1 3, 7.8ms\n",
      "image 916/4118 /home/anderste/ikt450-deep-neural-networks/DNN-prosjekt/segmentation_data_new/test/images/fish_000044239598_05973.png: 128x128 1 3, 8.3ms\n",
      "image 917/4118 /home/anderste/ikt450-deep-neural-networks/DNN-prosjekt/segmentation_data_new/test/images/fish_000044319596_04478.png: 128x128 1 1, 7.6ms\n",
      "image 918/4118 /home/anderste/ikt450-deep-neural-networks/DNN-prosjekt/segmentation_data_new/test/images/fish_000044319596_04496.png: 128x128 1 1, 7.6ms\n",
      "image 919/4118 /home/anderste/ikt450-deep-neural-networks/DNN-prosjekt/segmentation_data_new/test/images/fish_000044599596_04485.png: 128x128 1 0, 7.6ms\n",
      "image 920/4118 /home/anderste/ikt450-deep-neural-networks/DNN-prosjekt/segmentation_data_new/test/images/fish_000044599596_04488.png: 128x128 1 0, 8.4ms\n",
      "image 921/4118 /home/anderste/ikt450-deep-neural-networks/DNN-prosjekt/segmentation_data_new/test/images/fish_000045569596_04529.png: 128x128 1 7, 7.6ms\n",
      "image 922/4118 /home/anderste/ikt450-deep-neural-networks/DNN-prosjekt/segmentation_data_new/test/images/fish_000045949596_04508.png: 128x128 1 2, 7.5ms\n",
      "image 923/4118 /home/anderste/ikt450-deep-neural-networks/DNN-prosjekt/segmentation_data_new/test/images/fish_000045949596_04520.png: 128x128 1 2, 7.5ms\n",
      "image 924/4118 /home/anderste/ikt450-deep-neural-networks/DNN-prosjekt/segmentation_data_new/test/images/fish_000046909596_04524.png: 128x128 1 1, 7.6ms\n",
      "image 925/4118 /home/anderste/ikt450-deep-neural-networks/DNN-prosjekt/segmentation_data_new/test/images/fish_000048769596_04538.png: 128x128 1 2, 7.7ms\n",
      "image 926/4118 /home/anderste/ikt450-deep-neural-networks/DNN-prosjekt/segmentation_data_new/test/images/fish_000049479596_04541.png: 128x128 1 1, 1 2, 7.7ms\n",
      "image 927/4118 /home/anderste/ikt450-deep-neural-networks/DNN-prosjekt/segmentation_data_new/test/images/fish_000049479598_05984.png: 128x128 1 0, 7.7ms\n",
      "image 928/4118 /home/anderste/ikt450-deep-neural-networks/DNN-prosjekt/segmentation_data_new/test/images/fish_000049479598_05996.png: 128x128 1 0, 8.0ms\n",
      "image 929/4118 /home/anderste/ikt450-deep-neural-networks/DNN-prosjekt/segmentation_data_new/test/images/fish_000049479598_05998.png: 128x128 1 0, 7.6ms\n",
      "image 930/4118 /home/anderste/ikt450-deep-neural-networks/DNN-prosjekt/segmentation_data_new/test/images/fish_000051109596_04571.png: 128x128 1 2, 7.6ms\n",
      "image 931/4118 /home/anderste/ikt450-deep-neural-networks/DNN-prosjekt/segmentation_data_new/test/images/fish_000051109596_04574.png: 128x128 1 2, 7.4ms\n",
      "image 932/4118 /home/anderste/ikt450-deep-neural-networks/DNN-prosjekt/segmentation_data_new/test/images/fish_000051109596_04577.png: 128x128 1 2, 7.7ms\n",
      "image 933/4118 /home/anderste/ikt450-deep-neural-networks/DNN-prosjekt/segmentation_data_new/test/images/fish_000051759596_04584.png: 128x128 1 1, 7.5ms\n",
      "image 934/4118 /home/anderste/ikt450-deep-neural-networks/DNN-prosjekt/segmentation_data_new/test/images/fish_000052439598_06036.png: 128x128 1 3, 7.7ms\n",
      "image 935/4118 /home/anderste/ikt450-deep-neural-networks/DNN-prosjekt/segmentation_data_new/test/images/fish_000052439598_06053.png: 128x128 1 3, 7.6ms\n",
      "image 936/4118 /home/anderste/ikt450-deep-neural-networks/DNN-prosjekt/segmentation_data_new/test/images/fish_000052439598_06075.png: 128x128 1 3, 7.7ms\n",
      "image 937/4118 /home/anderste/ikt450-deep-neural-networks/DNN-prosjekt/segmentation_data_new/test/images/fish_000052479598_06008.png: 128x128 1 15, 7.6ms\n",
      "image 938/4118 /home/anderste/ikt450-deep-neural-networks/DNN-prosjekt/segmentation_data_new/test/images/fish_000052649598_06017.png: 128x128 1 0, 7.6ms\n",
      "image 939/4118 /home/anderste/ikt450-deep-neural-networks/DNN-prosjekt/segmentation_data_new/test/images/fish_000052649598_06018.png: 128x128 1 0, 7.6ms\n",
      "image 940/4118 /home/anderste/ikt450-deep-neural-networks/DNN-prosjekt/segmentation_data_new/test/images/fish_000052649598_06026.png: 128x128 1 0, 7.6ms\n",
      "image 941/4118 /home/anderste/ikt450-deep-neural-networks/DNN-prosjekt/segmentation_data_new/test/images/fish_000052649598_06033.png: 128x128 1 0, 7.6ms\n",
      "image 942/4118 /home/anderste/ikt450-deep-neural-networks/DNN-prosjekt/segmentation_data_new/test/images/fish_000053709596_04592.png: 128x128 1 2, 7.6ms\n",
      "image 943/4118 /home/anderste/ikt450-deep-neural-networks/DNN-prosjekt/segmentation_data_new/test/images/fish_000053709596_04593.png: 128x128 1 2, 7.7ms\n",
      "image 944/4118 /home/anderste/ikt450-deep-neural-networks/DNN-prosjekt/segmentation_data_new/test/images/fish_000054849596_04595.png: 128x128 1 2, 7.7ms\n",
      "image 945/4118 /home/anderste/ikt450-deep-neural-networks/DNN-prosjekt/segmentation_data_new/test/images/fish_000055239596_04600.png: 128x128 1 1, 8.3ms\n",
      "image 946/4118 /home/anderste/ikt450-deep-neural-networks/DNN-prosjekt/segmentation_data_new/test/images/fish_000055349596_04607.png: 128x128 1 2, 7.6ms\n",
      "image 947/4118 /home/anderste/ikt450-deep-neural-networks/DNN-prosjekt/segmentation_data_new/test/images/fish_000055349596_04608.png: 128x128 1 2, 7.7ms\n",
      "image 948/4118 /home/anderste/ikt450-deep-neural-networks/DNN-prosjekt/segmentation_data_new/test/images/fish_000055399598_06058.png: 128x128 (no detections), 7.6ms\n",
      "image 949/4118 /home/anderste/ikt450-deep-neural-networks/DNN-prosjekt/segmentation_data_new/test/images/fish_000057229596_04612.png: 128x128 1 1, 7.4ms\n",
      "image 950/4118 /home/anderste/ikt450-deep-neural-networks/DNN-prosjekt/segmentation_data_new/test/images/fish_000057749596_04647.png: 128x128 1 6, 7.8ms\n",
      "image 951/4118 /home/anderste/ikt450-deep-neural-networks/DNN-prosjekt/segmentation_data_new/test/images/fish_000057849596_04620.png: 128x128 1 0, 7.6ms\n",
      "image 952/4118 /home/anderste/ikt450-deep-neural-networks/DNN-prosjekt/segmentation_data_new/test/images/fish_000058729596_04635.png: 128x128 1 2, 7.6ms\n",
      "image 953/4118 /home/anderste/ikt450-deep-neural-networks/DNN-prosjekt/segmentation_data_new/test/images/fish_000058729596_04636.png: 128x128 1 2, 7.7ms\n",
      "image 954/4118 /home/anderste/ikt450-deep-neural-networks/DNN-prosjekt/segmentation_data_new/test/images/fish_000058729596_04638.png: 128x128 1 2, 7.9ms\n",
      "image 955/4118 /home/anderste/ikt450-deep-neural-networks/DNN-prosjekt/segmentation_data_new/test/images/fish_000058729596_04641.png: 128x128 1 2, 7.6ms\n",
      "image 956/4118 /home/anderste/ikt450-deep-neural-networks/DNN-prosjekt/segmentation_data_new/test/images/fish_000058729596_04646.png: 128x128 1 2, 7.6ms\n",
      "image 957/4118 /home/anderste/ikt450-deep-neural-networks/DNN-prosjekt/segmentation_data_new/test/images/fish_000058729596_04657.png: 128x128 1 2, 7.8ms\n",
      "image 958/4118 /home/anderste/ikt450-deep-neural-networks/DNN-prosjekt/segmentation_data_new/test/images/fish_000058729596_04666.png: 128x128 1 2, 7.6ms\n",
      "image 959/4118 /home/anderste/ikt450-deep-neural-networks/DNN-prosjekt/segmentation_data_new/test/images/fish_000058729596_04669.png: 128x128 1 2, 7.6ms\n",
      "image 960/4118 /home/anderste/ikt450-deep-neural-networks/DNN-prosjekt/segmentation_data_new/test/images/fish_000059159598_06090.png: 128x128 1 3, 7.6ms\n",
      "image 961/4118 /home/anderste/ikt450-deep-neural-networks/DNN-prosjekt/segmentation_data_new/test/images/fish_000059159598_06102.png: 128x128 1 3, 7.7ms\n",
      "image 962/4118 /home/anderste/ikt450-deep-neural-networks/DNN-prosjekt/segmentation_data_new/test/images/fish_000059159598_06105.png: 128x128 1 3, 7.7ms\n",
      "image 963/4118 /home/anderste/ikt450-deep-neural-networks/DNN-prosjekt/segmentation_data_new/test/images/fish_000059159598_06106.png: 128x128 1 3, 7.9ms\n",
      "image 964/4118 /home/anderste/ikt450-deep-neural-networks/DNN-prosjekt/segmentation_data_new/test/images/fish_000059259596_04626.png: 128x128 1 1, 9.4ms\n",
      "image 965/4118 /home/anderste/ikt450-deep-neural-networks/DNN-prosjekt/segmentation_data_new/test/images/fish_000059489596_04629.png: 128x128 1 1, 8.0ms\n",
      "image 966/4118 /home/anderste/ikt450-deep-neural-networks/DNN-prosjekt/segmentation_data_new/test/images/fish_000060489598_06115.png: 128x128 1 3, 7.9ms\n",
      "image 967/4118 /home/anderste/ikt450-deep-neural-networks/DNN-prosjekt/segmentation_data_new/test/images/fish_000060489598_06117.png: 128x128 1 3, 7.9ms\n",
      "image 968/4118 /home/anderste/ikt450-deep-neural-networks/DNN-prosjekt/segmentation_data_new/test/images/fish_000060489598_06118.png: 128x128 1 3, 8.1ms\n",
      "image 969/4118 /home/anderste/ikt450-deep-neural-networks/DNN-prosjekt/segmentation_data_new/test/images/fish_000060489598_06124.png: 128x128 1 3, 9.1ms\n",
      "image 970/4118 /home/anderste/ikt450-deep-neural-networks/DNN-prosjekt/segmentation_data_new/test/images/fish_000060489598_06139.png: 128x128 1 3, 9.2ms\n",
      "image 971/4118 /home/anderste/ikt450-deep-neural-networks/DNN-prosjekt/segmentation_data_new/test/images/fish_000060489598_06148.png: 128x128 1 3, 8.0ms\n",
      "image 972/4118 /home/anderste/ikt450-deep-neural-networks/DNN-prosjekt/segmentation_data_new/test/images/fish_000060649598_06125.png: 128x128 1 0, 8.1ms\n",
      "image 973/4118 /home/anderste/ikt450-deep-neural-networks/DNN-prosjekt/segmentation_data_new/test/images/fish_000060649598_06130.png: 128x128 1 0, 8.3ms\n",
      "image 974/4118 /home/anderste/ikt450-deep-neural-networks/DNN-prosjekt/segmentation_data_new/test/images/fish_000060649598_06134.png: 128x128 1 0, 9.2ms\n",
      "image 975/4118 /home/anderste/ikt450-deep-neural-networks/DNN-prosjekt/segmentation_data_new/test/images/fish_000060649598_06146.png: 128x128 1 0, 1 1, 7.6ms\n",
      "image 976/4118 /home/anderste/ikt450-deep-neural-networks/DNN-prosjekt/segmentation_data_new/test/images/fish_000060649598_06154.png: 128x128 1 0, 7.6ms\n",
      "image 977/4118 /home/anderste/ikt450-deep-neural-networks/DNN-prosjekt/segmentation_data_new/test/images/fish_000061619596_04671.png: 128x128 1 1, 7.6ms\n",
      "image 978/4118 /home/anderste/ikt450-deep-neural-networks/DNN-prosjekt/segmentation_data_new/test/images/fish_000061829596_04676.png: 128x128 1 1, 7.7ms\n",
      "image 979/4118 /home/anderste/ikt450-deep-neural-networks/DNN-prosjekt/segmentation_data_new/test/images/fish_000061829596_04684.png: 128x128 2 1s, 7.6ms\n",
      "image 980/4118 /home/anderste/ikt450-deep-neural-networks/DNN-prosjekt/segmentation_data_new/test/images/fish_000062189596_04688.png: 128x128 1 1, 7.6ms\n",
      "image 981/4118 /home/anderste/ikt450-deep-neural-networks/DNN-prosjekt/segmentation_data_new/test/images/fish_000062609596_04704.png: 128x128 1 1, 7.7ms\n",
      "image 982/4118 /home/anderste/ikt450-deep-neural-networks/DNN-prosjekt/segmentation_data_new/test/images/fish_000062829596_04707.png: 128x128 1 1, 7.7ms\n",
      "image 983/4118 /home/anderste/ikt450-deep-neural-networks/DNN-prosjekt/segmentation_data_new/test/images/fish_000063299598_06193.png: 128x128 1 3, 1 4, 7.7ms\n",
      "image 984/4118 /home/anderste/ikt450-deep-neural-networks/DNN-prosjekt/segmentation_data_new/test/images/fish_000063299598_06195.png: 128x128 1 3, 7.7ms\n",
      "image 985/4118 /home/anderste/ikt450-deep-neural-networks/DNN-prosjekt/segmentation_data_new/test/images/fish_000063989596_04720.png: 128x128 1 2, 7.6ms\n",
      "image 986/4118 /home/anderste/ikt450-deep-neural-networks/DNN-prosjekt/segmentation_data_new/test/images/fish_000063989596_04730.png: 128x128 1 2, 7.6ms\n",
      "image 987/4118 /home/anderste/ikt450-deep-neural-networks/DNN-prosjekt/segmentation_data_new/test/images/fish_000064219598_06198.png: 128x128 1 3, 8.2ms\n",
      "image 988/4118 /home/anderste/ikt450-deep-neural-networks/DNN-prosjekt/segmentation_data_new/test/images/fish_000065009596_04733.png: 128x128 1 2, 7.6ms\n",
      "image 989/4118 /home/anderste/ikt450-deep-neural-networks/DNN-prosjekt/segmentation_data_new/test/images/fish_000065009596_04737.png: 128x128 1 2, 8.2ms\n",
      "image 990/4118 /home/anderste/ikt450-deep-neural-networks/DNN-prosjekt/segmentation_data_new/test/images/fish_000065009596_04739.png: 128x128 1 2, 7.7ms\n",
      "image 991/4118 /home/anderste/ikt450-deep-neural-networks/DNN-prosjekt/segmentation_data_new/test/images/fish_000065789596_04747.png: 128x128 1 6, 7.7ms\n",
      "image 992/4118 /home/anderste/ikt450-deep-neural-networks/DNN-prosjekt/segmentation_data_new/test/images/fish_000065789596_04769.png: 128x128 1 6, 7.6ms\n",
      "image 993/4118 /home/anderste/ikt450-deep-neural-networks/DNN-prosjekt/segmentation_data_new/test/images/fish_000065789596_04798.png: 128x128 1 6, 7.6ms\n",
      "image 994/4118 /home/anderste/ikt450-deep-neural-networks/DNN-prosjekt/segmentation_data_new/test/images/fish_000065789596_04801.png: 128x128 1 6, 7.6ms\n",
      "image 995/4118 /home/anderste/ikt450-deep-neural-networks/DNN-prosjekt/segmentation_data_new/test/images/fish_000065789596_04815.png: 128x128 1 6, 7.7ms\n",
      "image 996/4118 /home/anderste/ikt450-deep-neural-networks/DNN-prosjekt/segmentation_data_new/test/images/fish_000065789596_04817.png: 128x128 1 6, 7.7ms\n",
      "image 997/4118 /home/anderste/ikt450-deep-neural-networks/DNN-prosjekt/segmentation_data_new/test/images/fish_000065789596_04821.png: 128x128 1 6, 7.6ms\n",
      "image 998/4118 /home/anderste/ikt450-deep-neural-networks/DNN-prosjekt/segmentation_data_new/test/images/fish_000065789596_04822.png: 128x128 1 6, 7.3ms\n",
      "image 999/4118 /home/anderste/ikt450-deep-neural-networks/DNN-prosjekt/segmentation_data_new/test/images/fish_000065789596_04839.png: 128x128 1 6, 7.7ms\n",
      "image 1000/4118 /home/anderste/ikt450-deep-neural-networks/DNN-prosjekt/segmentation_data_new/test/images/fish_000065789596_04864.png: 128x128 1 6, 7.5ms\n",
      "image 1001/4118 /home/anderste/ikt450-deep-neural-networks/DNN-prosjekt/segmentation_data_new/test/images/fish_000066209596_04754.png: 128x128 1 1, 8.2ms\n",
      "image 1002/4118 /home/anderste/ikt450-deep-neural-networks/DNN-prosjekt/segmentation_data_new/test/images/fish_000066209596_04755.png: 128x128 1 1, 7.6ms\n",
      "image 1003/4118 /home/anderste/ikt450-deep-neural-networks/DNN-prosjekt/segmentation_data_new/test/images/fish_000066469598_06229.png: 128x128 1 0, 8.8ms\n",
      "image 1004/4118 /home/anderste/ikt450-deep-neural-networks/DNN-prosjekt/segmentation_data_new/test/images/fish_000066819596_04779.png: 128x128 1 1, 1 2, 7.7ms\n",
      "image 1005/4118 /home/anderste/ikt450-deep-neural-networks/DNN-prosjekt/segmentation_data_new/test/images/fish_000066819596_04791.png: 128x128 1 1, 7.7ms\n",
      "image 1006/4118 /home/anderste/ikt450-deep-neural-networks/DNN-prosjekt/segmentation_data_new/test/images/fish_000066819596_04805.png: 128x128 1 1, 7.6ms\n",
      "image 1007/4118 /home/anderste/ikt450-deep-neural-networks/DNN-prosjekt/segmentation_data_new/test/images/fish_000067809598_06364.png: 128x128 1 0, 7.6ms\n",
      "image 1008/4118 /home/anderste/ikt450-deep-neural-networks/DNN-prosjekt/segmentation_data_new/test/images/fish_000067919596_04810.png: 128x128 1 2, 7.5ms\n",
      "image 1009/4118 /home/anderste/ikt450-deep-neural-networks/DNN-prosjekt/segmentation_data_new/test/images/fish_000067959598_06245.png: 128x128 1 0, 7.6ms\n",
      "image 1010/4118 /home/anderste/ikt450-deep-neural-networks/DNN-prosjekt/segmentation_data_new/test/images/fish_000068119596_04828.png: 128x128 1 2, 7.9ms\n",
      "image 1011/4118 /home/anderste/ikt450-deep-neural-networks/DNN-prosjekt/segmentation_data_new/test/images/fish_000068229598_06282.png: 128x128 2 0s, 8.0ms\n",
      "image 1012/4118 /home/anderste/ikt450-deep-neural-networks/DNN-prosjekt/segmentation_data_new/test/images/fish_000068229598_06312.png: 128x128 1 0, 7.6ms\n",
      "image 1013/4118 /home/anderste/ikt450-deep-neural-networks/DNN-prosjekt/segmentation_data_new/test/images/fish_000068429596_04843.png: 128x128 1 1, 1 2, 7.7ms\n",
      "image 1014/4118 /home/anderste/ikt450-deep-neural-networks/DNN-prosjekt/segmentation_data_new/test/images/fish_000068669596_04850.png: 128x128 1 2, 7.5ms\n",
      "image 1015/4118 /home/anderste/ikt450-deep-neural-networks/DNN-prosjekt/segmentation_data_new/test/images/fish_000068669596_04860.png: 128x128 1 2, 7.6ms\n",
      "image 1016/4118 /home/anderste/ikt450-deep-neural-networks/DNN-prosjekt/segmentation_data_new/test/images/fish_000068759598_06273.png: 128x128 1 3, 7.7ms\n",
      "image 1017/4118 /home/anderste/ikt450-deep-neural-networks/DNN-prosjekt/segmentation_data_new/test/images/fish_000068759598_06283.png: 128x128 1 3, 7.6ms\n",
      "image 1018/4118 /home/anderste/ikt450-deep-neural-networks/DNN-prosjekt/segmentation_data_new/test/images/fish_000068759598_06284.png: 128x128 1 3, 7.6ms\n",
      "image 1019/4118 /home/anderste/ikt450-deep-neural-networks/DNN-prosjekt/segmentation_data_new/test/images/fish_000068759598_06330.png: 128x128 1 3, 7.5ms\n",
      "image 1020/4118 /home/anderste/ikt450-deep-neural-networks/DNN-prosjekt/segmentation_data_new/test/images/fish_000068759598_06332.png: 128x128 1 3, 8.5ms\n",
      "image 1021/4118 /home/anderste/ikt450-deep-neural-networks/DNN-prosjekt/segmentation_data_new/test/images/fish_000068759598_06334.png: 128x128 1 3, 7.6ms\n",
      "image 1022/4118 /home/anderste/ikt450-deep-neural-networks/DNN-prosjekt/segmentation_data_new/test/images/fish_000068759598_06378.png: 128x128 1 3, 7.7ms\n",
      "image 1023/4118 /home/anderste/ikt450-deep-neural-networks/DNN-prosjekt/segmentation_data_new/test/images/fish_000068759598_06401.png: 128x128 1 3, 7.5ms\n",
      "image 1024/4118 /home/anderste/ikt450-deep-neural-networks/DNN-prosjekt/segmentation_data_new/test/images/fish_000069119596_04894.png: 128x128 1 1, 7.6ms\n",
      "image 1025/4118 /home/anderste/ikt450-deep-neural-networks/DNN-prosjekt/segmentation_data_new/test/images/fish_000069119596_04902.png: 128x128 1 1, 7.9ms\n",
      "image 1026/4118 /home/anderste/ikt450-deep-neural-networks/DNN-prosjekt/segmentation_data_new/test/images/fish_000069119596_04906.png: 128x128 1 1, 7.8ms\n",
      "image 1027/4118 /home/anderste/ikt450-deep-neural-networks/DNN-prosjekt/segmentation_data_new/test/images/fish_000069119596_04917.png: 128x128 1 1, 8.3ms\n",
      "image 1028/4118 /home/anderste/ikt450-deep-neural-networks/DNN-prosjekt/segmentation_data_new/test/images/fish_000069119596_04926.png: 128x128 1 1, 7.7ms\n",
      "image 1029/4118 /home/anderste/ikt450-deep-neural-networks/DNN-prosjekt/segmentation_data_new/test/images/fish_000069349598_06316.png: 128x128 1 0, 7.6ms\n",
      "image 1030/4118 /home/anderste/ikt450-deep-neural-networks/DNN-prosjekt/segmentation_data_new/test/images/fish_000069349598_06327.png: 128x128 1 0, 7.7ms\n",
      "image 1031/4118 /home/anderste/ikt450-deep-neural-networks/DNN-prosjekt/segmentation_data_new/test/images/fish_000069349598_06333.png: 128x128 1 0, 7.8ms\n",
      "image 1032/4118 /home/anderste/ikt450-deep-neural-networks/DNN-prosjekt/segmentation_data_new/test/images/fish_000069349598_06362.png: 128x128 1 0, 7.6ms\n",
      "image 1033/4118 /home/anderste/ikt450-deep-neural-networks/DNN-prosjekt/segmentation_data_new/test/images/fish_000069349598_06365.png: 128x128 1 0, 7.6ms\n",
      "image 1034/4118 /home/anderste/ikt450-deep-neural-networks/DNN-prosjekt/segmentation_data_new/test/images/fish_000069349598_06370.png: 128x128 1 0, 1 1, 7.6ms\n",
      "image 1035/4118 /home/anderste/ikt450-deep-neural-networks/DNN-prosjekt/segmentation_data_new/test/images/fish_000069549598_06348.png: 128x128 1 0, 7.7ms\n",
      "image 1036/4118 /home/anderste/ikt450-deep-neural-networks/DNN-prosjekt/segmentation_data_new/test/images/fish_000069549598_06349.png: 128x128 1 0, 7.7ms\n",
      "image 1037/4118 /home/anderste/ikt450-deep-neural-networks/DNN-prosjekt/segmentation_data_new/test/images/fish_000069549598_06371.png: 128x128 1 0, 7.6ms\n",
      "image 1038/4118 /home/anderste/ikt450-deep-neural-networks/DNN-prosjekt/segmentation_data_new/test/images/fish_000069549598_06388.png: 128x128 1 0, 7.6ms\n",
      "image 1039/4118 /home/anderste/ikt450-deep-neural-networks/DNN-prosjekt/segmentation_data_new/test/images/fish_000069549598_06392.png: 128x128 1 0, 7.7ms\n",
      "image 1040/4118 /home/anderste/ikt450-deep-neural-networks/DNN-prosjekt/segmentation_data_new/test/images/fish_000069549598_06402.png: 128x128 1 0, 7.6ms\n",
      "image 1041/4118 /home/anderste/ikt450-deep-neural-networks/DNN-prosjekt/segmentation_data_new/test/images/fish_000069549598_06413.png: 128x128 1 0, 7.6ms\n",
      "image 1042/4118 /home/anderste/ikt450-deep-neural-networks/DNN-prosjekt/segmentation_data_new/test/images/fish_000069549598_06443.png: 128x128 1 0, 7.7ms\n",
      "image 1043/4118 /home/anderste/ikt450-deep-neural-networks/DNN-prosjekt/segmentation_data_new/test/images/fish_000069549598_06446.png: 128x128 1 0, 7.7ms\n",
      "image 1044/4118 /home/anderste/ikt450-deep-neural-networks/DNN-prosjekt/segmentation_data_new/test/images/fish_000069549598_06457.png: 128x128 1 0, 7.6ms\n",
      "image 1045/4118 /home/anderste/ikt450-deep-neural-networks/DNN-prosjekt/segmentation_data_new/test/images/fish_000069549598_06462.png: 128x128 1 0, 7.5ms\n",
      "image 1046/4118 /home/anderste/ikt450-deep-neural-networks/DNN-prosjekt/segmentation_data_new/test/images/fish_000069709596_04884.png: 128x128 1 1, 7.7ms\n",
      "image 1047/4118 /home/anderste/ikt450-deep-neural-networks/DNN-prosjekt/segmentation_data_new/test/images/fish_000069709596_04888.png: 128x128 1 1, 7.6ms\n",
      "image 1048/4118 /home/anderste/ikt450-deep-neural-networks/DNN-prosjekt/segmentation_data_new/test/images/fish_000070549596_04909.png: 128x128 1 1, 7.5ms\n",
      "image 1049/4118 /home/anderste/ikt450-deep-neural-networks/DNN-prosjekt/segmentation_data_new/test/images/fish_000070549596_04914.png: 128x128 1 1, 7.6ms\n",
      "image 1050/4118 /home/anderste/ikt450-deep-neural-networks/DNN-prosjekt/segmentation_data_new/test/images/fish_000071289596_04954.png: 128x128 1 6, 7.6ms\n",
      "image 1051/4118 /home/anderste/ikt450-deep-neural-networks/DNN-prosjekt/segmentation_data_new/test/images/fish_000071319596_04933.png: 128x128 1 1, 8.0ms\n",
      "image 1052/4118 /home/anderste/ikt450-deep-neural-networks/DNN-prosjekt/segmentation_data_new/test/images/fish_000071759596_04978.png: 128x128 1 2, 7.6ms\n",
      "image 1053/4118 /home/anderste/ikt450-deep-neural-networks/DNN-prosjekt/segmentation_data_new/test/images/fish_000072589596_04985.png: 128x128 1 1, 7.6ms\n",
      "image 1054/4118 /home/anderste/ikt450-deep-neural-networks/DNN-prosjekt/segmentation_data_new/test/images/fish_000076569598_06439.png: 128x128 1 0, 7.6ms\n",
      "image 1055/4118 /home/anderste/ikt450-deep-neural-networks/DNN-prosjekt/segmentation_data_new/test/images/fish_000076569598_06445.png: 128x128 1 0, 7.7ms\n",
      "image 1056/4118 /home/anderste/ikt450-deep-neural-networks/DNN-prosjekt/segmentation_data_new/test/images/fish_000076569598_06448.png: 128x128 1 0, 7.6ms\n",
      "image 1057/4118 /home/anderste/ikt450-deep-neural-networks/DNN-prosjekt/segmentation_data_new/test/images/fish_000078249598_06475.png: 128x128 1 0, 7.7ms\n",
      "image 1058/4118 /home/anderste/ikt450-deep-neural-networks/DNN-prosjekt/segmentation_data_new/test/images/fish_000079399598_06483.png: 128x128 1 0, 7.6ms\n",
      "image 1059/4118 /home/anderste/ikt450-deep-neural-networks/DNN-prosjekt/segmentation_data_new/test/images/fish_000079579598_06484.png: 128x128 1 0, 7.6ms\n",
      "image 1060/4118 /home/anderste/ikt450-deep-neural-networks/DNN-prosjekt/segmentation_data_new/test/images/fish_000079579598_06485.png: 128x128 1 0, 8.6ms\n",
      "image 1061/4118 /home/anderste/ikt450-deep-neural-networks/DNN-prosjekt/segmentation_data_new/test/images/fish_000079579598_06492.png: 128x128 1 0, 7.6ms\n",
      "image 1062/4118 /home/anderste/ikt450-deep-neural-networks/DNN-prosjekt/segmentation_data_new/test/images/fish_000079579598_06523.png: 128x128 1 0, 7.7ms\n",
      "image 1063/4118 /home/anderste/ikt450-deep-neural-networks/DNN-prosjekt/segmentation_data_new/test/images/fish_000079579598_06524.png: 128x128 1 0, 7.7ms\n",
      "image 1064/4118 /home/anderste/ikt450-deep-neural-networks/DNN-prosjekt/segmentation_data_new/test/images/fish_000079579598_06534.png: 128x96 (no detections), 8.8ms\n",
      "image 1065/4118 /home/anderste/ikt450-deep-neural-networks/DNN-prosjekt/segmentation_data_new/test/images/fish_000079579598_06547.png: 128x128 1 0, 8.1ms\n",
      "image 1066/4118 /home/anderste/ikt450-deep-neural-networks/DNN-prosjekt/segmentation_data_new/test/images/fish_000079579598_06550.png: 128x128 1 0, 7.6ms\n",
      "image 1067/4118 /home/anderste/ikt450-deep-neural-networks/DNN-prosjekt/segmentation_data_new/test/images/fish_000080349598_06513.png: 128x128 1 0, 1 1, 7.6ms\n",
      "image 1068/4118 /home/anderste/ikt450-deep-neural-networks/DNN-prosjekt/segmentation_data_new/test/images/fish_000080409598_06502.png: 128x128 1 0, 7.6ms\n",
      "image 1069/4118 /home/anderste/ikt450-deep-neural-networks/DNN-prosjekt/segmentation_data_new/test/images/fish_000081289598_06522.png: 128x128 1 0, 7.6ms\n",
      "image 1070/4118 /home/anderste/ikt450-deep-neural-networks/DNN-prosjekt/segmentation_data_new/test/images/fish_000081909598_06546.png: 128x128 1 0, 7.9ms\n",
      "image 1071/4118 /home/anderste/ikt450-deep-neural-networks/DNN-prosjekt/segmentation_data_new/test/images/fish_000082529598_06544.png: 128x128 1 0, 1 3, 7.5ms\n",
      "image 1072/4118 /home/anderste/ikt450-deep-neural-networks/DNN-prosjekt/segmentation_data_new/test/images/fish_000082529598_06568.png: 128x128 1 3, 7.6ms\n",
      "image 1073/4118 /home/anderste/ikt450-deep-neural-networks/DNN-prosjekt/segmentation_data_new/test/images/fish_000083139598_06559.png: 128x128 1 0, 7.5ms\n",
      "image 1074/4118 /home/anderste/ikt450-deep-neural-networks/DNN-prosjekt/segmentation_data_new/test/images/fish_000085369598_06611.png: 128x128 1 0, 7.6ms\n",
      "image 1075/4118 /home/anderste/ikt450-deep-neural-networks/DNN-prosjekt/segmentation_data_new/test/images/fish_000086459598_06619.png: 128x128 1 0, 7.5ms\n",
      "image 1076/4118 /home/anderste/ikt450-deep-neural-networks/DNN-prosjekt/segmentation_data_new/test/images/fish_000086459598_06626.png: 128x128 1 0, 7.6ms\n",
      "image 1077/4118 /home/anderste/ikt450-deep-neural-networks/DNN-prosjekt/segmentation_data_new/test/images/fish_000086459598_06635.png: 128x128 1 0, 7.6ms\n",
      "image 1078/4118 /home/anderste/ikt450-deep-neural-networks/DNN-prosjekt/segmentation_data_new/test/images/fish_000086459598_06638.png: 128x128 1 0, 7.7ms\n",
      "image 1079/4118 /home/anderste/ikt450-deep-neural-networks/DNN-prosjekt/segmentation_data_new/test/images/fish_000086459598_06646.png: 128x128 1 0, 7.5ms\n",
      "image 1080/4118 /home/anderste/ikt450-deep-neural-networks/DNN-prosjekt/segmentation_data_new/test/images/fish_000086459598_06647.png: 128x128 1 0, 7.5ms\n",
      "image 1081/4118 /home/anderste/ikt450-deep-neural-networks/DNN-prosjekt/segmentation_data_new/test/images/fish_000086459598_06648.png: 128x128 1 0, 8.2ms\n",
      "image 1082/4118 /home/anderste/ikt450-deep-neural-networks/DNN-prosjekt/segmentation_data_new/test/images/fish_000087869598_06629.png: 128x128 1 0, 7.6ms\n",
      "image 1083/4118 /home/anderste/ikt450-deep-neural-networks/DNN-prosjekt/segmentation_data_new/test/images/fish_000093829598_06673.png: 128x128 1 0, 7.6ms\n",
      "image 1084/4118 /home/anderste/ikt450-deep-neural-networks/DNN-prosjekt/segmentation_data_new/test/images/fish_000093829598_06676.png: 128x128 1 0, 7.5ms\n",
      "image 1085/4118 /home/anderste/ikt450-deep-neural-networks/DNN-prosjekt/segmentation_data_new/test/images/fish_000093829598_06699.png: 128x128 1 0, 7.6ms\n",
      "image 1086/4118 /home/anderste/ikt450-deep-neural-networks/DNN-prosjekt/segmentation_data_new/test/images/fish_000093829598_06702.png: 128x128 1 0, 7.6ms\n",
      "image 1087/4118 /home/anderste/ikt450-deep-neural-networks/DNN-prosjekt/segmentation_data_new/test/images/fish_000093829598_06709.png: 128x128 1 0, 7.6ms\n",
      "image 1088/4118 /home/anderste/ikt450-deep-neural-networks/DNN-prosjekt/segmentation_data_new/test/images/fish_000093829598_06710.png: 128x128 1 0, 7.6ms\n",
      "image 1089/4118 /home/anderste/ikt450-deep-neural-networks/DNN-prosjekt/segmentation_data_new/test/images/fish_000093829598_06725.png: 128x128 1 0, 7.6ms\n",
      "image 1090/4118 /home/anderste/ikt450-deep-neural-networks/DNN-prosjekt/segmentation_data_new/test/images/fish_000093829598_06727.png: 128x128 1 0, 7.6ms\n",
      "image 1091/4118 /home/anderste/ikt450-deep-neural-networks/DNN-prosjekt/segmentation_data_new/test/images/fish_000093829598_06746.png: 128x128 1 0, 7.6ms\n",
      "image 1092/4118 /home/anderste/ikt450-deep-neural-networks/DNN-prosjekt/segmentation_data_new/test/images/fish_000093829598_06784.png: 128x128 1 0, 7.5ms\n",
      "image 1093/4118 /home/anderste/ikt450-deep-neural-networks/DNN-prosjekt/segmentation_data_new/test/images/fish_000093829598_06793.png: 128x128 1 0, 7.6ms\n",
      "image 1094/4118 /home/anderste/ikt450-deep-neural-networks/DNN-prosjekt/segmentation_data_new/test/images/fish_000093829598_06802.png: 128x128 1 0, 7.9ms\n",
      "image 1095/4118 /home/anderste/ikt450-deep-neural-networks/DNN-prosjekt/segmentation_data_new/test/images/fish_000093829598_06811.png: 128x128 1 0, 7.6ms\n",
      "image 1096/4118 /home/anderste/ikt450-deep-neural-networks/DNN-prosjekt/segmentation_data_new/test/images/fish_000093829598_06823.png: 128x128 1 0, 7.5ms\n",
      "image 1097/4118 /home/anderste/ikt450-deep-neural-networks/DNN-prosjekt/segmentation_data_new/test/images/fish_000093829598_06824.png: 128x128 1 0, 7.4ms\n",
      "image 1098/4118 /home/anderste/ikt450-deep-neural-networks/DNN-prosjekt/segmentation_data_new/test/images/fish_000094389598_06690.png: 128x128 1 0, 7.6ms\n",
      "image 1099/4118 /home/anderste/ikt450-deep-neural-networks/DNN-prosjekt/segmentation_data_new/test/images/fish_000094389598_06691.png: 128x128 1 0, 7.6ms\n",
      "image 1100/4118 /home/anderste/ikt450-deep-neural-networks/DNN-prosjekt/segmentation_data_new/test/images/fish_000094579598_06682.png: 128x128 2 0s, 7.4ms\n",
      "image 1101/4118 /home/anderste/ikt450-deep-neural-networks/DNN-prosjekt/segmentation_data_new/test/images/fish_000096339598_06705.png: 128x128 1 3, 7.6ms\n",
      "image 1102/4118 /home/anderste/ikt450-deep-neural-networks/DNN-prosjekt/segmentation_data_new/test/images/fish_000096659598_06696.png: 128x128 1 0, 7.6ms\n",
      "image 1103/4118 /home/anderste/ikt450-deep-neural-networks/DNN-prosjekt/segmentation_data_new/test/images/fish_000099129598_06731.png: 128x128 1 0, 8.9ms\n",
      "image 1104/4118 /home/anderste/ikt450-deep-neural-networks/DNN-prosjekt/segmentation_data_new/test/images/fish_000099129598_06751.png: 128x128 1 0, 7.6ms\n",
      "image 1105/4118 /home/anderste/ikt450-deep-neural-networks/DNN-prosjekt/segmentation_data_new/test/images/fish_000099129598_06782.png: 128x128 1 0, 7.6ms\n",
      "image 1106/4118 /home/anderste/ikt450-deep-neural-networks/DNN-prosjekt/segmentation_data_new/test/images/fish_000099129598_06785.png: 128x128 1 0, 7.6ms\n",
      "image 1107/4118 /home/anderste/ikt450-deep-neural-networks/DNN-prosjekt/segmentation_data_new/test/images/fish_000099129598_06787.png: 128x128 1 0, 7.5ms\n",
      "image 1108/4118 /home/anderste/ikt450-deep-neural-networks/DNN-prosjekt/segmentation_data_new/test/images/fish_000099129598_06790.png: 128x128 1 0, 7.5ms\n",
      "image 1109/4118 /home/anderste/ikt450-deep-neural-networks/DNN-prosjekt/segmentation_data_new/test/images/fish_000099129598_06821.png: 128x128 1 0, 1 1, 7.5ms\n",
      "image 1110/4118 /home/anderste/ikt450-deep-neural-networks/DNN-prosjekt/segmentation_data_new/test/images/fish_000099219598_06718.png: 128x128 1 0, 8.3ms\n",
      "image 1111/4118 /home/anderste/ikt450-deep-neural-networks/DNN-prosjekt/segmentation_data_new/test/images/fish_000099219598_06729.png: 128x128 1 0, 7.3ms\n",
      "image 1112/4118 /home/anderste/ikt450-deep-neural-networks/DNN-prosjekt/segmentation_data_new/test/images/fish_000099219598_06734.png: 128x128 1 0, 7.5ms\n",
      "image 1113/4118 /home/anderste/ikt450-deep-neural-networks/DNN-prosjekt/segmentation_data_new/test/images/fish_000099219598_06741.png: 128x128 1 0, 7.5ms\n",
      "image 1114/4118 /home/anderste/ikt450-deep-neural-networks/DNN-prosjekt/segmentation_data_new/test/images/fish_000100429598_06764.png: 128x128 1 0, 7.5ms\n",
      "image 1115/4118 /home/anderste/ikt450-deep-neural-networks/DNN-prosjekt/segmentation_data_new/test/images/fish_000101739598_06822.png: 128x128 1 0, 7.7ms\n",
      "image 1116/4118 /home/anderste/ikt450-deep-neural-networks/DNN-prosjekt/segmentation_data_new/test/images/fish_000102369598_06827.png: 128x128 1 0, 7.6ms\n",
      "image 1117/4118 /home/anderste/ikt450-deep-neural-networks/DNN-prosjekt/segmentation_data_new/test/images/fish_000102369598_06834.png: 128x128 1 0, 7.4ms\n",
      "image 1118/4118 /home/anderste/ikt450-deep-neural-networks/DNN-prosjekt/segmentation_data_new/test/images/fish_000102369598_06864.png: 128x128 1 0, 7.4ms\n",
      "image 1119/4118 /home/anderste/ikt450-deep-neural-networks/DNN-prosjekt/segmentation_data_new/test/images/fish_000102369598_06866.png: 128x128 1 0, 7.6ms\n",
      "image 1120/4118 /home/anderste/ikt450-deep-neural-networks/DNN-prosjekt/segmentation_data_new/test/images/fish_000102369598_06877.png: 128x128 1 0, 7.6ms\n",
      "image 1121/4118 /home/anderste/ikt450-deep-neural-networks/DNN-prosjekt/segmentation_data_new/test/images/fish_000102369598_06884.png: 128x128 1 0, 7.7ms\n",
      "image 1122/4118 /home/anderste/ikt450-deep-neural-networks/DNN-prosjekt/segmentation_data_new/test/images/fish_000102369598_06888.png: 128x128 1 0, 7.7ms\n",
      "image 1123/4118 /home/anderste/ikt450-deep-neural-networks/DNN-prosjekt/segmentation_data_new/test/images/fish_000102369598_06891.png: 128x128 1 0, 7.8ms\n",
      "image 1124/4118 /home/anderste/ikt450-deep-neural-networks/DNN-prosjekt/segmentation_data_new/test/images/fish_000102369598_06900.png: 128x128 1 0, 7.6ms\n",
      "image 1125/4118 /home/anderste/ikt450-deep-neural-networks/DNN-prosjekt/segmentation_data_new/test/images/fish_000102369598_06903.png: 128x128 1 0, 7.6ms\n",
      "image 1126/4118 /home/anderste/ikt450-deep-neural-networks/DNN-prosjekt/segmentation_data_new/test/images/fish_000102369598_06908.png: 128x128 1 0, 7.7ms\n",
      "image 1127/4118 /home/anderste/ikt450-deep-neural-networks/DNN-prosjekt/segmentation_data_new/test/images/fish_000102369598_06936.png: 128x128 1 0, 7.5ms\n",
      "image 1128/4118 /home/anderste/ikt450-deep-neural-networks/DNN-prosjekt/segmentation_data_new/test/images/fish_000102369598_06941.png: 128x128 1 0, 7.6ms\n",
      "image 1129/4118 /home/anderste/ikt450-deep-neural-networks/DNN-prosjekt/segmentation_data_new/test/images/fish_000103059598_06837.png: 128x128 1 0, 7.7ms\n",
      "image 1130/4118 /home/anderste/ikt450-deep-neural-networks/DNN-prosjekt/segmentation_data_new/test/images/fish_000103059598_06840.png: 128x128 1 0, 7.8ms\n",
      "image 1131/4118 /home/anderste/ikt450-deep-neural-networks/DNN-prosjekt/segmentation_data_new/test/images/fish_000104729598_06863.png: 128x128 1 0, 7.7ms\n",
      "image 1132/4118 /home/anderste/ikt450-deep-neural-networks/DNN-prosjekt/segmentation_data_new/test/images/fish_000104989598_06865.png: 128x128 1 0, 7.5ms\n",
      "image 1133/4118 /home/anderste/ikt450-deep-neural-networks/DNN-prosjekt/segmentation_data_new/test/images/fish_000104989598_06874.png: 128x128 1 0, 7.7ms\n",
      "image 1134/4118 /home/anderste/ikt450-deep-neural-networks/DNN-prosjekt/segmentation_data_new/test/images/fish_000104989598_06882.png: 128x128 1 0, 7.6ms\n",
      "image 1135/4118 /home/anderste/ikt450-deep-neural-networks/DNN-prosjekt/segmentation_data_new/test/images/fish_000107669598_06905.png: 128x128 1 0, 7.6ms\n",
      "image 1136/4118 /home/anderste/ikt450-deep-neural-networks/DNN-prosjekt/segmentation_data_new/test/images/fish_000109159598_06947.png: 128x128 1 0, 7.5ms\n",
      "image 1137/4118 /home/anderste/ikt450-deep-neural-networks/DNN-prosjekt/segmentation_data_new/test/images/fish_000109159598_06966.png: 128x128 1 0, 7.5ms\n",
      "image 1138/4118 /home/anderste/ikt450-deep-neural-networks/DNN-prosjekt/segmentation_data_new/test/images/fish_000109159598_06978.png: 128x128 1 0, 7.6ms\n",
      "image 1139/4118 /home/anderste/ikt450-deep-neural-networks/DNN-prosjekt/segmentation_data_new/test/images/fish_000109159598_07008.png: 128x128 1 0, 7.6ms\n",
      "image 1140/4118 /home/anderste/ikt450-deep-neural-networks/DNN-prosjekt/segmentation_data_new/test/images/fish_000109539598_06921.png: 128x128 1 0, 7.6ms\n",
      "image 1141/4118 /home/anderste/ikt450-deep-neural-networks/DNN-prosjekt/segmentation_data_new/test/images/fish_000109539598_06928.png: 128x128 1 0, 7.6ms\n",
      "image 1142/4118 /home/anderste/ikt450-deep-neural-networks/DNN-prosjekt/segmentation_data_new/test/images/fish_000110989598_06963.png: 128x128 1 0, 8.1ms\n",
      "image 1143/4118 /home/anderste/ikt450-deep-neural-networks/DNN-prosjekt/segmentation_data_new/test/images/fish_000112029598_06982.png: 128x128 1 0, 7.4ms\n",
      "image 1144/4118 /home/anderste/ikt450-deep-neural-networks/DNN-prosjekt/segmentation_data_new/test/images/fish_000113559598_07018.png: 128x128 1 0, 7.5ms\n",
      "image 1145/4118 /home/anderste/ikt450-deep-neural-networks/DNN-prosjekt/segmentation_data_new/test/images/fish_000113559598_07029.png: 128x128 1 0, 7.6ms\n",
      "image 1146/4118 /home/anderste/ikt450-deep-neural-networks/DNN-prosjekt/segmentation_data_new/test/images/fish_000113559598_07035.png: 128x128 1 0, 7.6ms\n",
      "image 1147/4118 /home/anderste/ikt450-deep-neural-networks/DNN-prosjekt/segmentation_data_new/test/images/fish_000113559598_07049.png: 128x128 1 0, 7.5ms\n",
      "image 1148/4118 /home/anderste/ikt450-deep-neural-networks/DNN-prosjekt/segmentation_data_new/test/images/fish_000116089598_07028.png: 128x128 1 0, 7.6ms\n",
      "image 1149/4118 /home/anderste/ikt450-deep-neural-networks/DNN-prosjekt/segmentation_data_new/test/images/fish_000116089598_07060.png: 128x128 1 0, 7.6ms\n",
      "image 1150/4118 /home/anderste/ikt450-deep-neural-networks/DNN-prosjekt/segmentation_data_new/test/images/fish_000116089598_07064.png: 128x128 1 0, 7.6ms\n",
      "image 1151/4118 /home/anderste/ikt450-deep-neural-networks/DNN-prosjekt/segmentation_data_new/test/images/fish_000116089598_07071.png: 128x128 1 0, 7.6ms\n",
      "image 1152/4118 /home/anderste/ikt450-deep-neural-networks/DNN-prosjekt/segmentation_data_new/test/images/fish_000116089598_07073.png: 128x128 1 0, 7.6ms\n",
      "image 1153/4118 /home/anderste/ikt450-deep-neural-networks/DNN-prosjekt/segmentation_data_new/test/images/fish_000119689598_07059.png: 128x128 1 0, 7.7ms\n",
      "image 1154/4118 /home/anderste/ikt450-deep-neural-networks/DNN-prosjekt/segmentation_data_new/test/images/fish_000119689598_07065.png: 128x128 1 0, 7.7ms\n",
      "image 1155/4118 /home/anderste/ikt450-deep-neural-networks/DNN-prosjekt/segmentation_data_new/test/images/fish_000121259598_07080.png: 128x128 1 0, 7.6ms\n",
      "image 1156/4118 /home/anderste/ikt450-deep-neural-networks/DNN-prosjekt/segmentation_data_new/test/images/fish_000121259598_07086.png: 128x128 1 0, 7.6ms\n",
      "image 1157/4118 /home/anderste/ikt450-deep-neural-networks/DNN-prosjekt/segmentation_data_new/test/images/fish_000121259598_07098.png: 128x128 1 0, 7.7ms\n",
      "image 1158/4118 /home/anderste/ikt450-deep-neural-networks/DNN-prosjekt/segmentation_data_new/test/images/fish_000121259598_07099.png: 128x128 1 0, 7.7ms\n",
      "image 1159/4118 /home/anderste/ikt450-deep-neural-networks/DNN-prosjekt/segmentation_data_new/test/images/fish_000121259598_07113.png: 128x128 1 0, 7.7ms\n",
      "image 1160/4118 /home/anderste/ikt450-deep-neural-networks/DNN-prosjekt/segmentation_data_new/test/images/fish_000121259598_07122.png: 128x128 2 0s, 7.5ms\n",
      "image 1161/4118 /home/anderste/ikt450-deep-neural-networks/DNN-prosjekt/segmentation_data_new/test/images/fish_000124679598_07109.png: 128x128 1 3, 7.6ms\n",
      "image 1162/4118 /home/anderste/ikt450-deep-neural-networks/DNN-prosjekt/segmentation_data_new/test/images/fish_000125419598_07115.png: 128x128 1 0, 7.5ms\n",
      "image 1163/4118 /home/anderste/ikt450-deep-neural-networks/DNN-prosjekt/segmentation_data_new/test/images/fish_000125419598_07138.png: 128x128 1 0, 7.6ms\n",
      "image 1164/4118 /home/anderste/ikt450-deep-neural-networks/DNN-prosjekt/segmentation_data_new/test/images/fish_000125419598_07207.png: 128x128 1 0, 7.6ms\n",
      "image 1165/4118 /home/anderste/ikt450-deep-neural-networks/DNN-prosjekt/segmentation_data_new/test/images/fish_000126969598_07157.png: 128x128 1 3, 7.6ms\n",
      "image 1166/4118 /home/anderste/ikt450-deep-neural-networks/DNN-prosjekt/segmentation_data_new/test/images/fish_000126969598_07158.png: 128x128 1 3, 7.6ms\n",
      "image 1167/4118 /home/anderste/ikt450-deep-neural-networks/DNN-prosjekt/segmentation_data_new/test/images/fish_000127079598_07132.png: 128x128 1 0, 7.6ms\n",
      "image 1168/4118 /home/anderste/ikt450-deep-neural-networks/DNN-prosjekt/segmentation_data_new/test/images/fish_000127079598_07152.png: 128x128 1 0, 7.6ms\n",
      "image 1169/4118 /home/anderste/ikt450-deep-neural-networks/DNN-prosjekt/segmentation_data_new/test/images/fish_000127079598_07177.png: 128x128 1 0, 7.6ms\n",
      "image 1170/4118 /home/anderste/ikt450-deep-neural-networks/DNN-prosjekt/segmentation_data_new/test/images/fish_000127079598_07193.png: 128x128 1 0, 7.6ms\n",
      "image 1171/4118 /home/anderste/ikt450-deep-neural-networks/DNN-prosjekt/segmentation_data_new/test/images/fish_000127079598_07229.png: 128x128 1 0, 8.2ms\n",
      "image 1172/4118 /home/anderste/ikt450-deep-neural-networks/DNN-prosjekt/segmentation_data_new/test/images/fish_000127079598_07254.png: 128x128 1 0, 7.7ms\n",
      "image 1173/4118 /home/anderste/ikt450-deep-neural-networks/DNN-prosjekt/segmentation_data_new/test/images/fish_000127079598_07263.png: 128x128 1 0, 7.5ms\n",
      "image 1174/4118 /home/anderste/ikt450-deep-neural-networks/DNN-prosjekt/segmentation_data_new/test/images/fish_000127079598_07273.png: 128x128 1 0, 7.6ms\n",
      "image 1175/4118 /home/anderste/ikt450-deep-neural-networks/DNN-prosjekt/segmentation_data_new/test/images/fish_000128789598_07192.png: 128x128 1 0, 7.6ms\n",
      "image 1176/4118 /home/anderste/ikt450-deep-neural-networks/DNN-prosjekt/segmentation_data_new/test/images/fish_000128789598_07213.png: 128x128 1 0, 7.4ms\n",
      "image 1177/4118 /home/anderste/ikt450-deep-neural-networks/DNN-prosjekt/segmentation_data_new/test/images/fish_000128789598_07218.png: 128x128 1 0, 7.7ms\n",
      "image 1178/4118 /home/anderste/ikt450-deep-neural-networks/DNN-prosjekt/segmentation_data_new/test/images/fish_000128789598_07237.png: 128x128 1 0, 7.6ms\n",
      "image 1179/4118 /home/anderste/ikt450-deep-neural-networks/DNN-prosjekt/segmentation_data_new/test/images/fish_000128789598_07269.png: 128x128 1 0, 7.6ms\n",
      "image 1180/4118 /home/anderste/ikt450-deep-neural-networks/DNN-prosjekt/segmentation_data_new/test/images/fish_000128789598_07281.png: 128x128 1 0, 7.4ms\n",
      "image 1181/4118 /home/anderste/ikt450-deep-neural-networks/DNN-prosjekt/segmentation_data_new/test/images/fish_000128789598_07292.png: 128x128 1 0, 7.5ms\n",
      "image 1182/4118 /home/anderste/ikt450-deep-neural-networks/DNN-prosjekt/segmentation_data_new/test/images/fish_000128789598_07300.png: 128x128 1 0, 7.3ms\n",
      "image 1183/4118 /home/anderste/ikt450-deep-neural-networks/DNN-prosjekt/segmentation_data_new/test/images/fish_000128789598_07311.png: 128x128 1 0, 7.6ms\n",
      "image 1184/4118 /home/anderste/ikt450-deep-neural-networks/DNN-prosjekt/segmentation_data_new/test/images/fish_000130639598_07210.png: 128x128 1 1, 7.6ms\n",
      "image 1185/4118 /home/anderste/ikt450-deep-neural-networks/DNN-prosjekt/segmentation_data_new/test/images/fish_000130639598_07215.png: 128x128 1 0, 1 1, 7.6ms\n",
      "image 1186/4118 /home/anderste/ikt450-deep-neural-networks/DNN-prosjekt/segmentation_data_new/test/images/fish_000130639598_07246.png: 128x128 1 1, 7.5ms\n",
      "image 1187/4118 /home/anderste/ikt450-deep-neural-networks/DNN-prosjekt/segmentation_data_new/test/images/fish_000130639598_07276.png: 128x128 1 1, 7.6ms\n",
      "image 1188/4118 /home/anderste/ikt450-deep-neural-networks/DNN-prosjekt/segmentation_data_new/test/images/fish_000130639598_07320.png: 128x128 1 0, 7.7ms\n",
      "image 1189/4118 /home/anderste/ikt450-deep-neural-networks/DNN-prosjekt/segmentation_data_new/test/images/fish_000135469598_07257.png: 128x128 1 0, 7.5ms\n",
      "image 1190/4118 /home/anderste/ikt450-deep-neural-networks/DNN-prosjekt/segmentation_data_new/test/images/fish_000138389598_07307.png: 128x128 1 3, 7.8ms\n",
      "image 1191/4118 /home/anderste/ikt450-deep-neural-networks/DNN-prosjekt/segmentation_data_new/test/images/fish_000138389598_07309.png: 128x128 1 3, 7.6ms\n",
      "image 1192/4118 /home/anderste/ikt450-deep-neural-networks/DNN-prosjekt/segmentation_data_new/test/images/fish_000140849598_07327.png: 128x128 1 0, 7.7ms\n",
      "image 1193/4118 /home/anderste/ikt450-deep-neural-networks/DNN-prosjekt/segmentation_data_new/test/images/fish_000140849598_07330.png: 128x128 1 0, 7.5ms\n",
      "image 1194/4118 /home/anderste/ikt450-deep-neural-networks/DNN-prosjekt/segmentation_data_new/test/images/fish_000140849598_07382.png: 128x128 1 0, 7.8ms\n",
      "image 1195/4118 /home/anderste/ikt450-deep-neural-networks/DNN-prosjekt/segmentation_data_new/test/images/fish_000140849598_07386.png: 128x128 1 0, 7.7ms\n",
      "image 1196/4118 /home/anderste/ikt450-deep-neural-networks/DNN-prosjekt/segmentation_data_new/test/images/fish_000140849598_07418.png: 128x128 1 0, 7.6ms\n",
      "image 1197/4118 /home/anderste/ikt450-deep-neural-networks/DNN-prosjekt/segmentation_data_new/test/images/fish_000140859598_07334.png: 128x128 1 0, 7.5ms\n",
      "image 1198/4118 /home/anderste/ikt450-deep-neural-networks/DNN-prosjekt/segmentation_data_new/test/images/fish_000140859598_07337.png: 128x128 1 0, 7.6ms\n",
      "image 1199/4118 /home/anderste/ikt450-deep-neural-networks/DNN-prosjekt/segmentation_data_new/test/images/fish_000140859598_07338.png: 128x128 1 0, 7.7ms\n",
      "image 1200/4118 /home/anderste/ikt450-deep-neural-networks/DNN-prosjekt/segmentation_data_new/test/images/fish_000140859598_07355.png: 128x128 1 0, 9.8ms\n",
      "image 1201/4118 /home/anderste/ikt450-deep-neural-networks/DNN-prosjekt/segmentation_data_new/test/images/fish_000140859598_07357.png: 128x128 1 0, 7.6ms\n",
      "image 1202/4118 /home/anderste/ikt450-deep-neural-networks/DNN-prosjekt/segmentation_data_new/test/images/fish_000140859598_07359.png: 128x128 1 0, 7.6ms\n",
      "image 1203/4118 /home/anderste/ikt450-deep-neural-networks/DNN-prosjekt/segmentation_data_new/test/images/fish_000140859598_07380.png: 128x128 1 0, 7.9ms\n",
      "image 1204/4118 /home/anderste/ikt450-deep-neural-networks/DNN-prosjekt/segmentation_data_new/test/images/fish_000144179598_07392.png: 128x128 1 0, 7.7ms\n",
      "image 1205/4118 /home/anderste/ikt450-deep-neural-networks/DNN-prosjekt/segmentation_data_new/test/images/fish_000144179598_07395.png: 128x128 1 0, 7.5ms\n",
      "image 1206/4118 /home/anderste/ikt450-deep-neural-networks/DNN-prosjekt/segmentation_data_new/test/images/fish_000144179598_07416.png: 128x128 1 0, 7.4ms\n",
      "image 1207/4118 /home/anderste/ikt450-deep-neural-networks/DNN-prosjekt/segmentation_data_new/test/images/fish_000144179598_07424.png: 128x128 1 0, 7.6ms\n",
      "image 1208/4118 /home/anderste/ikt450-deep-neural-networks/DNN-prosjekt/segmentation_data_new/test/images/fish_000144179598_07438.png: 128x128 1 1, 7.6ms\n",
      "image 1209/4118 /home/anderste/ikt450-deep-neural-networks/DNN-prosjekt/segmentation_data_new/test/images/fish_000144589598_07417.png: 128x128 1 3, 7.1ms\n",
      "image 1210/4118 /home/anderste/ikt450-deep-neural-networks/DNN-prosjekt/segmentation_data_new/test/images/fish_000146769598_07467.png: 128x128 1 1, 7.4ms\n",
      "image 1211/4118 /home/anderste/ikt450-deep-neural-networks/DNN-prosjekt/segmentation_data_new/test/images/fish_000146769598_07474.png: 128x128 1 0, 1 1, 7.6ms\n",
      "image 1212/4118 /home/anderste/ikt450-deep-neural-networks/DNN-prosjekt/segmentation_data_new/test/images/fish_000147069598_07446.png: 128x128 1 3, 7.6ms\n",
      "image 1213/4118 /home/anderste/ikt450-deep-neural-networks/DNN-prosjekt/segmentation_data_new/test/images/fish_000148389598_07450.png: 128x128 1 0, 7.6ms\n",
      "image 1214/4118 /home/anderste/ikt450-deep-neural-networks/DNN-prosjekt/segmentation_data_new/test/images/fish_000151499598_07482.png: 128x128 1 0, 1 1, 7.6ms\n",
      "image 1215/4118 /home/anderste/ikt450-deep-neural-networks/DNN-prosjekt/segmentation_data_new/test/images/fish_000152499598_07480.png: 128x128 1 0, 7.6ms\n",
      "image 1216/4118 /home/anderste/ikt450-deep-neural-networks/DNN-prosjekt/segmentation_data_new/test/images/fish_000152499598_07486.png: 128x128 1 0, 7.4ms\n",
      "image 1217/4118 /home/anderste/ikt450-deep-neural-networks/DNN-prosjekt/segmentation_data_new/test/images/fish_000152499598_07494.png: 128x128 1 0, 8.1ms\n",
      "image 1218/4118 /home/anderste/ikt450-deep-neural-networks/DNN-prosjekt/segmentation_data_new/test/images/fish_000152499598_07503.png: 128x128 1 0, 7.6ms\n",
      "image 1219/4118 /home/anderste/ikt450-deep-neural-networks/DNN-prosjekt/segmentation_data_new/test/images/fish_000155219598_07507.png: 128x128 1 3, 7.6ms\n",
      "image 1220/4118 /home/anderste/ikt450-deep-neural-networks/DNN-prosjekt/segmentation_data_new/test/images/fish_000155219598_07511.png: 128x128 1 3, 7.5ms\n",
      "image 1221/4118 /home/anderste/ikt450-deep-neural-networks/DNN-prosjekt/segmentation_data_new/test/images/fish_000155219598_07531.png: 128x128 1 3, 7.6ms\n",
      "image 1222/4118 /home/anderste/ikt450-deep-neural-networks/DNN-prosjekt/segmentation_data_new/test/images/fish_000155219598_07535.png: 128x128 1 3, 7.6ms\n",
      "image 1223/4118 /home/anderste/ikt450-deep-neural-networks/DNN-prosjekt/segmentation_data_new/test/images/fish_000155679598_07520.png: 128x128 1 0, 7.6ms\n",
      "image 1224/4118 /home/anderste/ikt450-deep-neural-networks/DNN-prosjekt/segmentation_data_new/test/images/fish_000155699598_07510.png: 128x128 1 0, 7.6ms\n",
      "image 1225/4118 /home/anderste/ikt450-deep-neural-networks/DNN-prosjekt/segmentation_data_new/test/images/fish_000157259598_07540.png: 128x128 1 0, 7.7ms\n",
      "image 1226/4118 /home/anderste/ikt450-deep-neural-networks/DNN-prosjekt/segmentation_data_new/test/images/fish_000157259598_07549.png: 128x128 1 0, 8.2ms\n",
      "image 1227/4118 /home/anderste/ikt450-deep-neural-networks/DNN-prosjekt/segmentation_data_new/test/images/fish_000157259598_07556.png: 128x128 1 0, 7.4ms\n",
      "image 1228/4118 /home/anderste/ikt450-deep-neural-networks/DNN-prosjekt/segmentation_data_new/test/images/fish_000157259598_07557.png: 128x128 1 0, 7.6ms\n",
      "image 1229/4118 /home/anderste/ikt450-deep-neural-networks/DNN-prosjekt/segmentation_data_new/test/images/fish_000157259598_07562.png: 128x128 1 0, 7.5ms\n",
      "image 1230/4118 /home/anderste/ikt450-deep-neural-networks/DNN-prosjekt/segmentation_data_new/test/images/fish_000157259598_07585.png: 128x128 1 0, 7.6ms\n",
      "image 1231/4118 /home/anderste/ikt450-deep-neural-networks/DNN-prosjekt/segmentation_data_new/test/images/fish_000159109598_07568.png: 128x128 1 0, 8.0ms\n",
      "image 1232/4118 /home/anderste/ikt450-deep-neural-networks/DNN-prosjekt/segmentation_data_new/test/images/fish_000159199598_07555.png: 128x128 1 0, 7.6ms\n",
      "image 1233/4118 /home/anderste/ikt450-deep-neural-networks/DNN-prosjekt/segmentation_data_new/test/images/fish_000159199598_07565.png: 128x128 1 0, 7.6ms\n",
      "image 1234/4118 /home/anderste/ikt450-deep-neural-networks/DNN-prosjekt/segmentation_data_new/test/images/fish_000160939598_07590.png: 128x128 1 0, 7.5ms\n",
      "image 1235/4118 /home/anderste/ikt450-deep-neural-networks/DNN-prosjekt/segmentation_data_new/test/images/fish_000161919598_07594.png: 128x128 1 0, 7.6ms\n",
      "image 1236/4118 /home/anderste/ikt450-deep-neural-networks/DNN-prosjekt/segmentation_data_new/test/images/fish_000162519598_07602.png: 128x128 1 0, 7.6ms\n",
      "image 1237/4118 /home/anderste/ikt450-deep-neural-networks/DNN-prosjekt/segmentation_data_new/test/images/fish_000162519598_07604.png: 128x128 1 0, 7.6ms\n",
      "image 1238/4118 /home/anderste/ikt450-deep-neural-networks/DNN-prosjekt/segmentation_data_new/test/images/fish_000163309598_07599.png: 128x128 1 0, 7.6ms\n",
      "image 1239/4118 /home/anderste/ikt450-deep-neural-networks/DNN-prosjekt/segmentation_data_new/test/images/fish_000164899598_07613.png: 128x128 1 0, 7.6ms\n",
      "image 1240/4118 /home/anderste/ikt450-deep-neural-networks/DNN-prosjekt/segmentation_data_new/test/images/fish_000164899598_07616.png: 128x128 1 0, 7.6ms\n",
      "image 1241/4118 /home/anderste/ikt450-deep-neural-networks/DNN-prosjekt/segmentation_data_new/test/images/fish_000164899598_07621.png: 128x128 1 0, 7.6ms\n",
      "image 1242/4118 /home/anderste/ikt450-deep-neural-networks/DNN-prosjekt/segmentation_data_new/test/images/fish_000166779598_07624.png: 128x128 1 0, 7.6ms\n",
      "image 1243/4118 /home/anderste/ikt450-deep-neural-networks/DNN-prosjekt/segmentation_data_new/test/images/fish_000166779598_07630.png: 128x128 1 0, 7.6ms\n",
      "image 1244/4118 /home/anderste/ikt450-deep-neural-networks/DNN-prosjekt/segmentation_data_new/test/images/fish_000168089598_07637.png: 128x128 1 0, 7.6ms\n",
      "image 1245/4118 /home/anderste/ikt450-deep-neural-networks/DNN-prosjekt/segmentation_data_new/test/images/fish_000168089598_07647.png: 128x128 1 0, 7.6ms\n",
      "image 1246/4118 /home/anderste/ikt450-deep-neural-networks/DNN-prosjekt/segmentation_data_new/test/images/fish_000168089598_07658.png: 128x128 1 0, 7.6ms\n",
      "image 1247/4118 /home/anderste/ikt450-deep-neural-networks/DNN-prosjekt/segmentation_data_new/test/images/fish_000168089598_07660.png: 128x128 1 0, 7.6ms\n",
      "image 1248/4118 /home/anderste/ikt450-deep-neural-networks/DNN-prosjekt/segmentation_data_new/test/images/fish_000168089598_07665.png: 128x128 1 0, 7.7ms\n",
      "image 1249/4118 /home/anderste/ikt450-deep-neural-networks/DNN-prosjekt/segmentation_data_new/test/images/fish_000168219598_07632.png: 128x128 1 0, 7.5ms\n",
      "image 1250/4118 /home/anderste/ikt450-deep-neural-networks/DNN-prosjekt/segmentation_data_new/test/images/fish_000168219598_07644.png: 128x128 1 0, 7.6ms\n",
      "image 1251/4118 /home/anderste/ikt450-deep-neural-networks/DNN-prosjekt/segmentation_data_new/test/images/fish_000168219598_07650.png: 128x128 1 0, 7.6ms\n",
      "image 1252/4118 /home/anderste/ikt450-deep-neural-networks/DNN-prosjekt/segmentation_data_new/test/images/fish_000168219598_07653.png: 128x128 1 0, 7.6ms\n",
      "image 1253/4118 /home/anderste/ikt450-deep-neural-networks/DNN-prosjekt/segmentation_data_new/test/images/fish_000168219598_07687.png: 128x128 1 0, 7.6ms\n",
      "image 1254/4118 /home/anderste/ikt450-deep-neural-networks/DNN-prosjekt/segmentation_data_new/test/images/fish_000172339598_07681.png: 128x128 1 3, 7.7ms\n",
      "image 1255/4118 /home/anderste/ikt450-deep-neural-networks/DNN-prosjekt/segmentation_data_new/test/images/fish_000172339598_07683.png: 128x128 1 3, 7.6ms\n",
      "image 1256/4118 /home/anderste/ikt450-deep-neural-networks/DNN-prosjekt/segmentation_data_new/test/images/fish_000172749598_07694.png: 128x128 1 0, 7.6ms\n",
      "image 1257/4118 /home/anderste/ikt450-deep-neural-networks/DNN-prosjekt/segmentation_data_new/test/images/fish_000172749598_07695.png: 128x128 1 0, 7.6ms\n",
      "image 1258/4118 /home/anderste/ikt450-deep-neural-networks/DNN-prosjekt/segmentation_data_new/test/images/fish_000174389598_07709.png: 128x128 1 3, 8.2ms\n",
      "image 1259/4118 /home/anderste/ikt450-deep-neural-networks/DNN-prosjekt/segmentation_data_new/test/images/fish_000175059598_07732.png: 128x128 1 0, 7.7ms\n",
      "image 1260/4118 /home/anderste/ikt450-deep-neural-networks/DNN-prosjekt/segmentation_data_new/test/images/fish_000175059598_07734.png: 128x128 1 0, 7.6ms\n",
      "image 1261/4118 /home/anderste/ikt450-deep-neural-networks/DNN-prosjekt/segmentation_data_new/test/images/fish_000175059598_07735.png: 128x128 1 0, 7.7ms\n",
      "image 1262/4118 /home/anderste/ikt450-deep-neural-networks/DNN-prosjekt/segmentation_data_new/test/images/fish_000176579598_07736.png: 128x128 1 0, 7.5ms\n",
      "image 1263/4118 /home/anderste/ikt450-deep-neural-networks/DNN-prosjekt/segmentation_data_new/test/images/fish_000176699598_07744.png: 128x128 1 0, 7.6ms\n",
      "image 1264/4118 /home/anderste/ikt450-deep-neural-networks/DNN-prosjekt/segmentation_data_new/test/images/fish_000176699598_07749.png: 128x128 1 0, 7.8ms\n",
      "image 1265/4118 /home/anderste/ikt450-deep-neural-networks/DNN-prosjekt/segmentation_data_new/test/images/fish_000420000101_00001.png: 128x128 1 0, 7.6ms\n",
      "image 1266/4118 /home/anderste/ikt450-deep-neural-networks/DNN-prosjekt/segmentation_data_new/test/images/fish_000420000101_00002.png: 128x128 1 0, 7.6ms\n",
      "image 1267/4118 /home/anderste/ikt450-deep-neural-networks/DNN-prosjekt/segmentation_data_new/test/images/fish_000420000101_00010.png: 128x128 1 0, 7.7ms\n",
      "image 1268/4118 /home/anderste/ikt450-deep-neural-networks/DNN-prosjekt/segmentation_data_new/test/images/fish_000420000101_00012.png: 128x128 1 0, 7.6ms\n",
      "image 1269/4118 /home/anderste/ikt450-deep-neural-networks/DNN-prosjekt/segmentation_data_new/test/images/fish_000420000106_00028.png: 128x128 1 5, 7.6ms\n",
      "image 1270/4118 /home/anderste/ikt450-deep-neural-networks/DNN-prosjekt/segmentation_data_new/test/images/fish_000472000101_00481.png: 128x128 1 0, 7.6ms\n",
      "image 1271/4118 /home/anderste/ikt450-deep-neural-networks/DNN-prosjekt/segmentation_data_new/test/images/fish_000472000101_00483.png: 128x128 1 0, 7.7ms\n",
      "image 1272/4118 /home/anderste/ikt450-deep-neural-networks/DNN-prosjekt/segmentation_data_new/test/images/fish_000472000101_00487.png: 128x128 1 0, 7.6ms\n",
      "image 1273/4118 /home/anderste/ikt450-deep-neural-networks/DNN-prosjekt/segmentation_data_new/test/images/fish_000704000123_00785.png: 96x128 (no detections), 8.3ms\n",
      "image 1274/4118 /home/anderste/ikt450-deep-neural-networks/DNN-prosjekt/segmentation_data_new/test/images/fish_000717000101_00876.png: 128x128 1 0, 8.3ms\n",
      "image 1275/4118 /home/anderste/ikt450-deep-neural-networks/DNN-prosjekt/segmentation_data_new/test/images/fish_000717000101_00878.png: 128x128 1 0, 7.6ms\n",
      "image 1276/4118 /home/anderste/ikt450-deep-neural-networks/DNN-prosjekt/segmentation_data_new/test/images/fish_001343000103_01286.png: 128x128 1 2, 7.8ms\n",
      "image 1277/4118 /home/anderste/ikt450-deep-neural-networks/DNN-prosjekt/segmentation_data_new/test/images/fish_001343000103_01287.png: 128x128 1 2, 1 3, 8.0ms\n",
      "image 1278/4118 /home/anderste/ikt450-deep-neural-networks/DNN-prosjekt/segmentation_data_new/test/images/fish_001343000107_01261.png: 128x128 1 6, 8.8ms\n",
      "image 1279/4118 /home/anderste/ikt450-deep-neural-networks/DNN-prosjekt/segmentation_data_new/test/images/fish_001343000107_01262.png: 128x128 1 6, 8.3ms\n",
      "image 1280/4118 /home/anderste/ikt450-deep-neural-networks/DNN-prosjekt/segmentation_data_new/test/images/fish_001343000107_01265.png: 128x128 1 6, 7.8ms\n",
      "image 1281/4118 /home/anderste/ikt450-deep-neural-networks/DNN-prosjekt/segmentation_data_new/test/images/fish_001343000107_01268.png: 128x128 1 6, 7.7ms\n",
      "image 1282/4118 /home/anderste/ikt450-deep-neural-networks/DNN-prosjekt/segmentation_data_new/test/images/fish_001343000107_01269.png: 128x128 1 6, 7.7ms\n",
      "image 1283/4118 /home/anderste/ikt450-deep-neural-networks/DNN-prosjekt/segmentation_data_new/test/images/fish_001343000107_01274.png: 128x128 1 2, 7.6ms\n",
      "image 1284/4118 /home/anderste/ikt450-deep-neural-networks/DNN-prosjekt/segmentation_data_new/test/images/fish_001371000118_01369.png: 128x128 1 17, 7.8ms\n",
      "image 1285/4118 /home/anderste/ikt450-deep-neural-networks/DNN-prosjekt/segmentation_data_new/test/images/fish_001379000103_01409.png: 128x128 1 2, 1 3, 7.7ms\n",
      "image 1286/4118 /home/anderste/ikt450-deep-neural-networks/DNN-prosjekt/segmentation_data_new/test/images/fish_001379000103_01410.png: 128x128 1 2, 34.4ms\n",
      "image 1287/4118 /home/anderste/ikt450-deep-neural-networks/DNN-prosjekt/segmentation_data_new/test/images/fish_001379000103_01425.png: 128x128 1 2, 1 3, 7.7ms\n",
      "image 1288/4118 /home/anderste/ikt450-deep-neural-networks/DNN-prosjekt/segmentation_data_new/test/images/fish_001379000103_01430.png: 128x128 1 3, 7.7ms\n",
      "image 1289/4118 /home/anderste/ikt450-deep-neural-networks/DNN-prosjekt/segmentation_data_new/test/images/fish_001379000103_01431.png: 128x128 1 2, 7.6ms\n",
      "image 1290/4118 /home/anderste/ikt450-deep-neural-networks/DNN-prosjekt/segmentation_data_new/test/images/fish_001394000101_01450.png: 128x128 1 0, 1 1, 7.9ms\n",
      "image 1291/4118 /home/anderste/ikt450-deep-neural-networks/DNN-prosjekt/segmentation_data_new/test/images/fish_001394000101_01452.png: 128x128 1 1, 7.7ms\n",
      "image 1292/4118 /home/anderste/ikt450-deep-neural-networks/DNN-prosjekt/segmentation_data_new/test/images/fish_002600000103_02387.png: 128x128 1 2, 7.5ms\n",
      "image 1293/4118 /home/anderste/ikt450-deep-neural-networks/DNN-prosjekt/segmentation_data_new/test/images/fish_002600000103_02392.png: 128x128 1 2, 1 3, 7.5ms\n",
      "image 1294/4118 /home/anderste/ikt450-deep-neural-networks/DNN-prosjekt/segmentation_data_new/test/images/fish_002600000103_02394.png: 128x128 1 3, 8.8ms\n",
      "image 1295/4118 /home/anderste/ikt450-deep-neural-networks/DNN-prosjekt/segmentation_data_new/test/images/fish_002603000101_02398.png: 128x128 1 1, 7.5ms\n",
      "image 1296/4118 /home/anderste/ikt450-deep-neural-networks/DNN-prosjekt/segmentation_data_new/test/images/fish_002605000101_02404.png: 128x128 1 1, 7.9ms\n",
      "image 1297/4118 /home/anderste/ikt450-deep-neural-networks/DNN-prosjekt/segmentation_data_new/test/images/fish_002605000103_02397.png: 128x128 1 3, 7.7ms\n",
      "image 1298/4118 /home/anderste/ikt450-deep-neural-networks/DNN-prosjekt/segmentation_data_new/test/images/fish_002605000103_02400.png: 128x128 1 3, 7.9ms\n",
      "image 1299/4118 /home/anderste/ikt450-deep-neural-networks/DNN-prosjekt/segmentation_data_new/test/images/fish_002664000101_02666.png: 128x128 1 1, 7.5ms\n",
      "image 1300/4118 /home/anderste/ikt450-deep-neural-networks/DNN-prosjekt/segmentation_data_new/test/images/fish_002667000108_02688.png: 128x128 1 2, 7.6ms\n",
      "image 1301/4118 /home/anderste/ikt450-deep-neural-networks/DNN-prosjekt/segmentation_data_new/test/images/fish_002730000118_02869.png: 96x128 1 17, 8.4ms\n",
      "image 1302/4118 /home/anderste/ikt450-deep-neural-networks/DNN-prosjekt/segmentation_data_new/test/images/fish_002730000118_02882.png: 128x128 1 7, 8.1ms\n",
      "image 1303/4118 /home/anderste/ikt450-deep-neural-networks/DNN-prosjekt/segmentation_data_new/test/images/fish_002730000118_02885.png: 128x128 1 17, 8.0ms\n",
      "image 1304/4118 /home/anderste/ikt450-deep-neural-networks/DNN-prosjekt/segmentation_data_new/test/images/fish_003379375208_27260.png: 128x128 1 1, 7.8ms\n",
      "image 1305/4118 /home/anderste/ikt450-deep-neural-networks/DNN-prosjekt/segmentation_data_new/test/images/fish_003379515208_20631.png: 128x128 1 1, 7.9ms\n",
      "image 1306/4118 /home/anderste/ikt450-deep-neural-networks/DNN-prosjekt/segmentation_data_new/test/images/fish_003379515208_22516.png: 128x128 1 0, 7.6ms\n",
      "image 1307/4118 /home/anderste/ikt450-deep-neural-networks/DNN-prosjekt/segmentation_data_new/test/images/fish_003379515208_27233.png: 128x128 1 1, 7.8ms\n",
      "image 1308/4118 /home/anderste/ikt450-deep-neural-networks/DNN-prosjekt/segmentation_data_new/test/images/fish_003379535208_13934.png: 128x128 1 1, 7.7ms\n",
      "image 1309/4118 /home/anderste/ikt450-deep-neural-networks/DNN-prosjekt/segmentation_data_new/test/images/fish_003379535208_13935.png: 128x128 1 1, 8.4ms\n",
      "image 1310/4118 /home/anderste/ikt450-deep-neural-networks/DNN-prosjekt/segmentation_data_new/test/images/fish_003379535208_26082.png: 128x128 1 1, 7.7ms\n",
      "image 1311/4118 /home/anderste/ikt450-deep-neural-networks/DNN-prosjekt/segmentation_data_new/test/images/fish_003379615208_27077.png: 128x128 1 1, 8.5ms\n",
      "image 1312/4118 /home/anderste/ikt450-deep-neural-networks/DNN-prosjekt/segmentation_data_new/test/images/fish_003379715208_27034.png: 128x128 1 3, 1 4, 7.7ms\n",
      "image 1313/4118 /home/anderste/ikt450-deep-neural-networks/DNN-prosjekt/segmentation_data_new/test/images/fish_003379765208_20785.png: 128x128 1 1, 7.8ms\n",
      "image 1314/4118 /home/anderste/ikt450-deep-neural-networks/DNN-prosjekt/segmentation_data_new/test/images/fish_003379875208_22099.png: 128x128 1 1, 7.7ms\n",
      "image 1315/4118 /home/anderste/ikt450-deep-neural-networks/DNN-prosjekt/segmentation_data_new/test/images/fish_003380915211_26961.png: 128x128 1 2, 7.9ms\n",
      "image 1316/4118 /home/anderste/ikt450-deep-neural-networks/DNN-prosjekt/segmentation_data_new/test/images/fish_003380915211_26964.png: 128x128 1 2, 7.8ms\n",
      "image 1317/4118 /home/anderste/ikt450-deep-neural-networks/DNN-prosjekt/segmentation_data_new/test/images/fish_003381075211_26792.png: 128x128 1 2, 9.0ms\n",
      "image 1318/4118 /home/anderste/ikt450-deep-neural-networks/DNN-prosjekt/segmentation_data_new/test/images/fish_003381265211_26616.png: 128x128 (no detections), 7.7ms\n",
      "image 1319/4118 /home/anderste/ikt450-deep-neural-networks/DNN-prosjekt/segmentation_data_new/test/images/fish_003381315211_26611.png: 128x128 1 8, 7.7ms\n",
      "image 1320/4118 /home/anderste/ikt450-deep-neural-networks/DNN-prosjekt/segmentation_data_new/test/images/fish_003381365211_26633.png: 128x128 1 2, 7.8ms\n",
      "image 1321/4118 /home/anderste/ikt450-deep-neural-networks/DNN-prosjekt/segmentation_data_new/test/images/fish_003381365211_26783.png: 128x128 1 2, 7.9ms\n",
      "image 1322/4118 /home/anderste/ikt450-deep-neural-networks/DNN-prosjekt/segmentation_data_new/test/images/fish_003381605211_26479.png: 128x128 1 2, 7.7ms\n",
      "image 1323/4118 /home/anderste/ikt450-deep-neural-networks/DNN-prosjekt/segmentation_data_new/test/images/fish_003381645211_26942.png: 128x128 1 2, 7.7ms\n",
      "image 1324/4118 /home/anderste/ikt450-deep-neural-networks/DNN-prosjekt/segmentation_data_new/test/images/fish_003384225218_26320.png: 128x128 1 2, 7.7ms\n",
      "image 1325/4118 /home/anderste/ikt450-deep-neural-networks/DNN-prosjekt/segmentation_data_new/test/images/fish_003384485218_26754.png: 128x128 1 1, 7.9ms\n",
      "image 1326/4118 /home/anderste/ikt450-deep-neural-networks/DNN-prosjekt/segmentation_data_new/test/images/fish_003385105218_26653.png: 128x128 (no detections), 7.7ms\n",
      "image 1327/4118 /home/anderste/ikt450-deep-neural-networks/DNN-prosjekt/segmentation_data_new/test/images/fish_003387585222_25346.png: 128x128 1 0, 1 1, 7.8ms\n",
      "image 1328/4118 /home/anderste/ikt450-deep-neural-networks/DNN-prosjekt/segmentation_data_new/test/images/fish_003387595222_25329.png: 128x128 1 0, 1 1, 8.0ms\n",
      "image 1329/4118 /home/anderste/ikt450-deep-neural-networks/DNN-prosjekt/segmentation_data_new/test/images/fish_003387725222_24807.png: 128x128 1 0, 7.8ms\n",
      "image 1330/4118 /home/anderste/ikt450-deep-neural-networks/DNN-prosjekt/segmentation_data_new/test/images/fish_003387745222_26085.png: 128x128 1 0, 1 1, 8.0ms\n",
      "image 1331/4118 /home/anderste/ikt450-deep-neural-networks/DNN-prosjekt/segmentation_data_new/test/images/fish_003387775222_25337.png: 128x128 1 0, 1 1, 8.4ms\n",
      "image 1332/4118 /home/anderste/ikt450-deep-neural-networks/DNN-prosjekt/segmentation_data_new/test/images/fish_003388315223_26053.png: 128x128 1 3, 7.8ms\n",
      "image 1333/4118 /home/anderste/ikt450-deep-neural-networks/DNN-prosjekt/segmentation_data_new/test/images/fish_003388955223_14367.png: 128x128 1 2, 7.8ms\n",
      "image 1334/4118 /home/anderste/ikt450-deep-neural-networks/DNN-prosjekt/segmentation_data_new/test/images/fish_003388975223_26003.png: 128x128 1 2, 7.9ms\n",
      "image 1335/4118 /home/anderste/ikt450-deep-neural-networks/DNN-prosjekt/segmentation_data_new/test/images/fish_003389205223_25940.png: 128x128 1 10, 7.7ms\n",
      "image 1336/4118 /home/anderste/ikt450-deep-neural-networks/DNN-prosjekt/segmentation_data_new/test/images/fish_003389205223_25941.png: 128x128 1 10, 7.9ms\n",
      "image 1337/4118 /home/anderste/ikt450-deep-neural-networks/DNN-prosjekt/segmentation_data_new/test/images/fish_003389985224_25847.png: 128x128 1 5, 7.8ms\n",
      "image 1338/4118 /home/anderste/ikt450-deep-neural-networks/DNN-prosjekt/segmentation_data_new/test/images/fish_003391335225_26097.png: 128x128 1 1, 7.8ms\n",
      "image 1339/4118 /home/anderste/ikt450-deep-neural-networks/DNN-prosjekt/segmentation_data_new/test/images/fish_003391655225_25321.png: 128x128 1 0, 7.8ms\n",
      "image 1340/4118 /home/anderste/ikt450-deep-neural-networks/DNN-prosjekt/segmentation_data_new/test/images/fish_003391985225_26277.png: 128x128 1 0, 1 1, 7.8ms\n",
      "image 1341/4118 /home/anderste/ikt450-deep-neural-networks/DNN-prosjekt/segmentation_data_new/test/images/fish_003394885228_26222.png: 128x128 1 0, 1 1, 7.8ms\n",
      "image 1342/4118 /home/anderste/ikt450-deep-neural-networks/DNN-prosjekt/segmentation_data_new/test/images/fish_003397145231_13737.png: 128x128 1 0, 1 1, 7.9ms\n",
      "image 1343/4118 /home/anderste/ikt450-deep-neural-networks/DNN-prosjekt/segmentation_data_new/test/images/fish_003397305231_22959.png: 128x128 1 1, 7.8ms\n",
      "image 1344/4118 /home/anderste/ikt450-deep-neural-networks/DNN-prosjekt/segmentation_data_new/test/images/fish_003397305231_25045.png: 128x128 1 0, 7.4ms\n",
      "image 1345/4118 /home/anderste/ikt450-deep-neural-networks/DNN-prosjekt/segmentation_data_new/test/images/fish_003397305231_25047.png: 128x128 1 0, 1 1, 7.6ms\n",
      "image 1346/4118 /home/anderste/ikt450-deep-neural-networks/DNN-prosjekt/segmentation_data_new/test/images/fish_003397375231_24442.png: 128x128 1 0, 7.5ms\n",
      "image 1347/4118 /home/anderste/ikt450-deep-neural-networks/DNN-prosjekt/segmentation_data_new/test/images/fish_003397465231_26235.png: 128x128 1 1, 7.6ms\n",
      "image 1348/4118 /home/anderste/ikt450-deep-neural-networks/DNN-prosjekt/segmentation_data_new/test/images/fish_003397475231_26234.png: 128x128 1 0, 1 1, 7.7ms\n",
      "image 1349/4118 /home/anderste/ikt450-deep-neural-networks/DNN-prosjekt/segmentation_data_new/test/images/fish_003397605231_20412.png: 128x128 1 1, 7.7ms\n",
      "image 1350/4118 /home/anderste/ikt450-deep-neural-networks/DNN-prosjekt/segmentation_data_new/test/images/fish_003397605231_24467.png: 128x128 1 0, 1 1, 7.9ms\n",
      "image 1351/4118 /home/anderste/ikt450-deep-neural-networks/DNN-prosjekt/segmentation_data_new/test/images/fish_003397925232_24178.png: 128x128 1 2, 7.6ms\n",
      "image 1352/4118 /home/anderste/ikt450-deep-neural-networks/DNN-prosjekt/segmentation_data_new/test/images/fish_003398325233_24058.png: 128x128 1 1, 7.7ms\n",
      "image 1353/4118 /home/anderste/ikt450-deep-neural-networks/DNN-prosjekt/segmentation_data_new/test/images/fish_003398385232_24183.png: 128x128 1 2, 7.6ms\n",
      "image 1354/4118 /home/anderste/ikt450-deep-neural-networks/DNN-prosjekt/segmentation_data_new/test/images/fish_003398615233_24055.png: 128x128 1 3, 1 4, 7.5ms\n",
      "image 1355/4118 /home/anderste/ikt450-deep-neural-networks/DNN-prosjekt/segmentation_data_new/test/images/fish_003398865232_24153.png: 128x128 1 2, 8.1ms\n",
      "image 1356/4118 /home/anderste/ikt450-deep-neural-networks/DNN-prosjekt/segmentation_data_new/test/images/fish_003398895232_09199.png: 128x128 1 1, 7.6ms\n",
      "image 1357/4118 /home/anderste/ikt450-deep-neural-networks/DNN-prosjekt/segmentation_data_new/test/images/fish_003398995232_12626.png: 128x128 1 1, 1 2, 7.5ms\n",
      "image 1358/4118 /home/anderste/ikt450-deep-neural-networks/DNN-prosjekt/segmentation_data_new/test/images/fish_003399105232_23649.png: 128x128 1 1, 1 2, 7.8ms\n",
      "image 1359/4118 /home/anderste/ikt450-deep-neural-networks/DNN-prosjekt/segmentation_data_new/test/images/fish_003399155232_24380.png: 128x128 1 2, 7.9ms\n",
      "image 1360/4118 /home/anderste/ikt450-deep-neural-networks/DNN-prosjekt/segmentation_data_new/test/images/fish_003399255233_23958.png: 128x128 1 3, 1 4, 7.6ms\n",
      "image 1361/4118 /home/anderste/ikt450-deep-neural-networks/DNN-prosjekt/segmentation_data_new/test/images/fish_003399575233_24556.png: 128x128 1 3, 7.6ms\n",
      "image 1362/4118 /home/anderste/ikt450-deep-neural-networks/DNN-prosjekt/segmentation_data_new/test/images/fish_003399615233_23969.png: 128x128 1 4, 7.6ms\n",
      "image 1363/4118 /home/anderste/ikt450-deep-neural-networks/DNN-prosjekt/segmentation_data_new/test/images/fish_003399615233_24010.png: 128x128 1 3, 1 4, 7.4ms\n",
      "image 1364/4118 /home/anderste/ikt450-deep-neural-networks/DNN-prosjekt/segmentation_data_new/test/images/fish_003399855232_23633.png: 128x128 1 2, 7.4ms\n",
      "image 1365/4118 /home/anderste/ikt450-deep-neural-networks/DNN-prosjekt/segmentation_data_new/test/images/fish_003399865232_23503.png: 128x128 1 2, 7.5ms\n",
      "image 1366/4118 /home/anderste/ikt450-deep-neural-networks/DNN-prosjekt/segmentation_data_new/test/images/fish_003399865232_23504.png: 128x128 1 2, 7.6ms\n",
      "image 1367/4118 /home/anderste/ikt450-deep-neural-networks/DNN-prosjekt/segmentation_data_new/test/images/fish_003399865232_23508.png: 96x128 1 2, 8.1ms\n",
      "image 1368/4118 /home/anderste/ikt450-deep-neural-networks/DNN-prosjekt/segmentation_data_new/test/images/fish_003399965232_23416.png: 128x128 1 2, 8.1ms\n",
      "image 1369/4118 /home/anderste/ikt450-deep-neural-networks/DNN-prosjekt/segmentation_data_new/test/images/fish_003401835234_24758.png: 128x128 1 1, 7.6ms\n",
      "image 1370/4118 /home/anderste/ikt450-deep-neural-networks/DNN-prosjekt/segmentation_data_new/test/images/fish_003401975234_23343.png: 128x128 1 1, 7.6ms\n",
      "image 1371/4118 /home/anderste/ikt450-deep-neural-networks/DNN-prosjekt/segmentation_data_new/test/images/fish_003402085234_25480.png: 128x128 1 1, 7.5ms\n",
      "image 1372/4118 /home/anderste/ikt450-deep-neural-networks/DNN-prosjekt/segmentation_data_new/test/images/fish_003402515234_25549.png: 128x128 1 1, 7.5ms\n",
      "image 1373/4118 /home/anderste/ikt450-deep-neural-networks/DNN-prosjekt/segmentation_data_new/test/images/fish_003405405240_22951.png: 128x128 1 3, 7.4ms\n",
      "image 1374/4118 /home/anderste/ikt450-deep-neural-networks/DNN-prosjekt/segmentation_data_new/test/images/fish_003405535240_23145.png: 128x128 1 1, 7.4ms\n",
      "image 1375/4118 /home/anderste/ikt450-deep-neural-networks/DNN-prosjekt/segmentation_data_new/test/images/fish_003406265240_22644.png: 128x128 1 1, 7.5ms\n",
      "image 1376/4118 /home/anderste/ikt450-deep-neural-networks/DNN-prosjekt/segmentation_data_new/test/images/fish_003406265240_22668.png: 128x128 1 1, 7.3ms\n",
      "image 1377/4118 /home/anderste/ikt450-deep-neural-networks/DNN-prosjekt/segmentation_data_new/test/images/fish_003411775250_21546.png: 128x128 1 3, 7.5ms\n",
      "image 1378/4118 /home/anderste/ikt450-deep-neural-networks/DNN-prosjekt/segmentation_data_new/test/images/fish_003412465253_21579.png: 128x128 1 1, 7.5ms\n",
      "image 1379/4118 /home/anderste/ikt450-deep-neural-networks/DNN-prosjekt/segmentation_data_new/test/images/fish_003414655267_21259.png: 128x128 1 3, 7.5ms\n",
      "image 1380/4118 /home/anderste/ikt450-deep-neural-networks/DNN-prosjekt/segmentation_data_new/test/images/fish_003414655267_21267.png: 128x128 1 3, 7.6ms\n",
      "image 1381/4118 /home/anderste/ikt450-deep-neural-networks/DNN-prosjekt/segmentation_data_new/test/images/fish_003414655267_21268.png: 128x128 1 3, 7.6ms\n",
      "image 1382/4118 /home/anderste/ikt450-deep-neural-networks/DNN-prosjekt/segmentation_data_new/test/images/fish_003414655267_21270.png: 128x128 1 3, 7.6ms\n",
      "image 1383/4118 /home/anderste/ikt450-deep-neural-networks/DNN-prosjekt/segmentation_data_new/test/images/fish_003414655267_21272.png: 128x128 1 3, 7.8ms\n",
      "image 1384/4118 /home/anderste/ikt450-deep-neural-networks/DNN-prosjekt/segmentation_data_new/test/images/fish_003416915270_24053.png: 128x128 1 3, 1 4, 7.3ms\n",
      "image 1385/4118 /home/anderste/ikt450-deep-neural-networks/DNN-prosjekt/segmentation_data_new/test/images/fish_003416985270_13804.png: 128x128 1 1, 7.6ms\n",
      "image 1386/4118 /home/anderste/ikt450-deep-neural-networks/DNN-prosjekt/segmentation_data_new/test/images/fish_003417035270_23720.png: 128x128 1 3, 1 4, 7.6ms\n",
      "image 1387/4118 /home/anderste/ikt450-deep-neural-networks/DNN-prosjekt/segmentation_data_new/test/images/fish_003417255270_24780.png: 128x128 1 0, 7.6ms\n",
      "image 1388/4118 /home/anderste/ikt450-deep-neural-networks/DNN-prosjekt/segmentation_data_new/test/images/fish_003418295273_20556.png: 128x128 1 7, 8.3ms\n",
      "image 1389/4118 /home/anderste/ikt450-deep-neural-networks/DNN-prosjekt/segmentation_data_new/test/images/fish_003418295273_24792.png: 128x128 (no detections), 7.5ms\n",
      "image 1390/4118 /home/anderste/ikt450-deep-neural-networks/DNN-prosjekt/segmentation_data_new/test/images/fish_003419215275_23419.png: 128x128 1 0, 7.9ms\n",
      "image 1391/4118 /home/anderste/ikt450-deep-neural-networks/DNN-prosjekt/segmentation_data_new/test/images/fish_003419225275_11753.png: 128x128 1 0, 1 1, 7.6ms\n",
      "image 1392/4118 /home/anderste/ikt450-deep-neural-networks/DNN-prosjekt/segmentation_data_new/test/images/fish_003419255275_11694.png: 128x128 1 0, 7.6ms\n",
      "image 1393/4118 /home/anderste/ikt450-deep-neural-networks/DNN-prosjekt/segmentation_data_new/test/images/fish_003419405275_25160.png: 128x128 1 1, 8.1ms\n",
      "image 1394/4118 /home/anderste/ikt450-deep-neural-networks/DNN-prosjekt/segmentation_data_new/test/images/fish_003419455275_23685.png: 128x128 1 0, 1 1, 8.2ms\n",
      "image 1395/4118 /home/anderste/ikt450-deep-neural-networks/DNN-prosjekt/segmentation_data_new/test/images/fish_003419615275_25252.png: 128x128 1 1, 7.8ms\n",
      "image 1396/4118 /home/anderste/ikt450-deep-neural-networks/DNN-prosjekt/segmentation_data_new/test/images/fish_003419825275_23980.png: 128x128 1 3, 7.6ms\n",
      "image 1397/4118 /home/anderste/ikt450-deep-neural-networks/DNN-prosjekt/segmentation_data_new/test/images/fish_003421145277_19945.png: 128x128 1 0, 1 1, 7.6ms\n",
      "image 1398/4118 /home/anderste/ikt450-deep-neural-networks/DNN-prosjekt/segmentation_data_new/test/images/fish_003421215277_20251.png: 128x128 1 0, 7.5ms\n",
      "image 1399/4118 /home/anderste/ikt450-deep-neural-networks/DNN-prosjekt/segmentation_data_new/test/images/fish_003421215277_25315.png: 128x128 1 0, 7.6ms\n",
      "image 1400/4118 /home/anderste/ikt450-deep-neural-networks/DNN-prosjekt/segmentation_data_new/test/images/fish_003421395277_20144.png: 128x128 1 0, 1 1, 7.5ms\n",
      "image 1401/4118 /home/anderste/ikt450-deep-neural-networks/DNN-prosjekt/segmentation_data_new/test/images/fish_003421475277_20039.png: 128x128 1 3, 7.5ms\n",
      "image 1402/4118 /home/anderste/ikt450-deep-neural-networks/DNN-prosjekt/segmentation_data_new/test/images/fish_003421475277_20040.png: 128x128 1 3, 7.6ms\n",
      "image 1403/4118 /home/anderste/ikt450-deep-neural-networks/DNN-prosjekt/segmentation_data_new/test/images/fish_003421475277_20232.png: 128x128 1 3, 8.2ms\n",
      "image 1404/4118 /home/anderste/ikt450-deep-neural-networks/DNN-prosjekt/segmentation_data_new/test/images/fish_003421525277_20007.png: 128x128 1 3, 7.6ms\n",
      "image 1405/4118 /home/anderste/ikt450-deep-neural-networks/DNN-prosjekt/segmentation_data_new/test/images/fish_003421525277_20027.png: 128x128 1 3, 7.5ms\n",
      "image 1406/4118 /home/anderste/ikt450-deep-neural-networks/DNN-prosjekt/segmentation_data_new/test/images/fish_003421525277_20244.png: 128x128 1 3, 7.4ms\n",
      "image 1407/4118 /home/anderste/ikt450-deep-neural-networks/DNN-prosjekt/segmentation_data_new/test/images/fish_003421525277_20257.png: 128x128 1 3, 7.5ms\n",
      "image 1408/4118 /home/anderste/ikt450-deep-neural-networks/DNN-prosjekt/segmentation_data_new/test/images/fish_003421555277_24258.png: 128x128 1 3, 7.6ms\n",
      "image 1409/4118 /home/anderste/ikt450-deep-neural-networks/DNN-prosjekt/segmentation_data_new/test/images/fish_003421575277_20006.png: 128x128 1 3, 7.6ms\n",
      "image 1410/4118 /home/anderste/ikt450-deep-neural-networks/DNN-prosjekt/segmentation_data_new/test/images/fish_003421685277_20275.png: 128x128 1 3, 11.7ms\n",
      "image 1411/4118 /home/anderste/ikt450-deep-neural-networks/DNN-prosjekt/segmentation_data_new/test/images/fish_003421705277_24023.png: 128x128 1 3, 7.8ms\n",
      "image 1412/4118 /home/anderste/ikt450-deep-neural-networks/DNN-prosjekt/segmentation_data_new/test/images/fish_003421745277_27139.png: 128x128 1 3, 8.1ms\n",
      "image 1413/4118 /home/anderste/ikt450-deep-neural-networks/DNN-prosjekt/segmentation_data_new/test/images/fish_003421755277_17315.png: 128x128 1 3, 7.6ms\n",
      "image 1414/4118 /home/anderste/ikt450-deep-neural-networks/DNN-prosjekt/segmentation_data_new/test/images/fish_003421755277_27038.png: 128x128 1 3, 1 4, 8.2ms\n",
      "image 1415/4118 /home/anderste/ikt450-deep-neural-networks/DNN-prosjekt/segmentation_data_new/test/images/fish_003421805277_19899.png: 128x128 1 3, 7.8ms\n",
      "image 1416/4118 /home/anderste/ikt450-deep-neural-networks/DNN-prosjekt/segmentation_data_new/test/images/fish_003421845277_19820.png: 128x128 1 3, 8.2ms\n",
      "image 1417/4118 /home/anderste/ikt450-deep-neural-networks/DNN-prosjekt/segmentation_data_new/test/images/fish_003421845277_20258.png: 128x128 1 3, 7.6ms\n",
      "image 1418/4118 /home/anderste/ikt450-deep-neural-networks/DNN-prosjekt/segmentation_data_new/test/images/fish_003421845277_21980.png: 128x128 1 3, 7.6ms\n",
      "image 1419/4118 /home/anderste/ikt450-deep-neural-networks/DNN-prosjekt/segmentation_data_new/test/images/fish_003421915277_11714.png: 128x128 1 0, 1 1, 7.7ms\n",
      "image 1420/4118 /home/anderste/ikt450-deep-neural-networks/DNN-prosjekt/segmentation_data_new/test/images/fish_003421915277_20684.png: 128x128 1 0, 7.5ms\n",
      "image 1421/4118 /home/anderste/ikt450-deep-neural-networks/DNN-prosjekt/segmentation_data_new/test/images/fish_003421915277_25253.png: 128x128 1 1, 7.6ms\n",
      "image 1422/4118 /home/anderste/ikt450-deep-neural-networks/DNN-prosjekt/segmentation_data_new/test/images/fish_003422015277_20030.png: 128x128 1 3, 7.6ms\n",
      "image 1423/4118 /home/anderste/ikt450-deep-neural-networks/DNN-prosjekt/segmentation_data_new/test/images/fish_003422015277_20849.png: 128x128 1 3, 7.5ms\n",
      "image 1424/4118 /home/anderste/ikt450-deep-neural-networks/DNN-prosjekt/segmentation_data_new/test/images/fish_003422045277_20242.png: 128x128 1 3, 7.6ms\n",
      "image 1425/4118 /home/anderste/ikt450-deep-neural-networks/DNN-prosjekt/segmentation_data_new/test/images/fish_003422075277_14325.png: 128x128 1 0, 7.5ms\n",
      "image 1426/4118 /home/anderste/ikt450-deep-neural-networks/DNN-prosjekt/segmentation_data_new/test/images/fish_003422195277_20890.png: 128x128 1 0, 1 1, 7.7ms\n",
      "image 1427/4118 /home/anderste/ikt450-deep-neural-networks/DNN-prosjekt/segmentation_data_new/test/images/fish_003424605280_21990.png: 128x128 1 5, 7.6ms\n",
      "image 1428/4118 /home/anderste/ikt450-deep-neural-networks/DNN-prosjekt/segmentation_data_new/test/images/fish_003424615280_21448.png: 128x128 1 5, 7.8ms\n",
      "image 1429/4118 /home/anderste/ikt450-deep-neural-networks/DNN-prosjekt/segmentation_data_new/test/images/fish_003424655280_19476.png: 128x128 1 5, 7.6ms\n",
      "image 1430/4118 /home/anderste/ikt450-deep-neural-networks/DNN-prosjekt/segmentation_data_new/test/images/fish_003424705280_19415.png: 128x128 1 5, 7.6ms\n",
      "image 1431/4118 /home/anderste/ikt450-deep-neural-networks/DNN-prosjekt/segmentation_data_new/test/images/fish_003424705280_19417.png: 128x128 1 5, 7.8ms\n",
      "image 1432/4118 /home/anderste/ikt450-deep-neural-networks/DNN-prosjekt/segmentation_data_new/test/images/fish_003424725280_19463.png: 128x128 1 5, 7.6ms\n",
      "image 1433/4118 /home/anderste/ikt450-deep-neural-networks/DNN-prosjekt/segmentation_data_new/test/images/fish_003424725280_19905.png: 128x128 1 5, 7.6ms\n",
      "image 1434/4118 /home/anderste/ikt450-deep-neural-networks/DNN-prosjekt/segmentation_data_new/test/images/fish_003424815280_19260.png: 128x128 1 5, 7.6ms\n",
      "image 1435/4118 /home/anderste/ikt450-deep-neural-networks/DNN-prosjekt/segmentation_data_new/test/images/fish_003425445286_19132.png: 128x128 1 1, 7.6ms\n",
      "image 1436/4118 /home/anderste/ikt450-deep-neural-networks/DNN-prosjekt/segmentation_data_new/test/images/fish_003425465286_24518.png: 128x128 1 0, 7.6ms\n",
      "image 1437/4118 /home/anderste/ikt450-deep-neural-networks/DNN-prosjekt/segmentation_data_new/test/images/fish_003425475286_20290.png: 128x128 1 0, 7.6ms\n",
      "image 1438/4118 /home/anderste/ikt450-deep-neural-networks/DNN-prosjekt/segmentation_data_new/test/images/fish_003425525286_18953.png: 128x128 1 0, 7.6ms\n",
      "image 1439/4118 /home/anderste/ikt450-deep-neural-networks/DNN-prosjekt/segmentation_data_new/test/images/fish_003425525286_19074.png: 128x128 1 0, 7.6ms\n",
      "image 1440/4118 /home/anderste/ikt450-deep-neural-networks/DNN-prosjekt/segmentation_data_new/test/images/fish_003425525286_20462.png: 128x128 1 1, 7.6ms\n",
      "image 1441/4118 /home/anderste/ikt450-deep-neural-networks/DNN-prosjekt/segmentation_data_new/test/images/fish_003425525286_23333.png: 128x128 1 0, 13.1ms\n",
      "image 1442/4118 /home/anderste/ikt450-deep-neural-networks/DNN-prosjekt/segmentation_data_new/test/images/fish_003425525286_24795.png: 128x128 1 0, 8.3ms\n",
      "image 1443/4118 /home/anderste/ikt450-deep-neural-networks/DNN-prosjekt/segmentation_data_new/test/images/fish_003425525286_24808.png: 128x128 1 0, 8.5ms\n",
      "image 1444/4118 /home/anderste/ikt450-deep-neural-networks/DNN-prosjekt/segmentation_data_new/test/images/fish_003425585286_24481.png: 128x128 1 0, 7.3ms\n",
      "image 1445/4118 /home/anderste/ikt450-deep-neural-networks/DNN-prosjekt/segmentation_data_new/test/images/fish_003425585286_27015.png: 128x128 1 0, 8.5ms\n",
      "image 1446/4118 /home/anderste/ikt450-deep-neural-networks/DNN-prosjekt/segmentation_data_new/test/images/fish_003425595286_19115.png: 128x128 1 1, 7.7ms\n",
      "image 1447/4118 /home/anderste/ikt450-deep-neural-networks/DNN-prosjekt/segmentation_data_new/test/images/fish_003425645286_19129.png: 128x128 1 1, 7.5ms\n",
      "image 1448/4118 /home/anderste/ikt450-deep-neural-networks/DNN-prosjekt/segmentation_data_new/test/images/fish_003425655286_18940.png: 128x128 1 1, 7.6ms\n",
      "image 1449/4118 /home/anderste/ikt450-deep-neural-networks/DNN-prosjekt/segmentation_data_new/test/images/fish_003425675286_21845.png: 128x128 1 0, 7.8ms\n",
      "image 1450/4118 /home/anderste/ikt450-deep-neural-networks/DNN-prosjekt/segmentation_data_new/test/images/fish_003425725286_18582.png: 128x128 1 0, 7.5ms\n",
      "image 1451/4118 /home/anderste/ikt450-deep-neural-networks/DNN-prosjekt/segmentation_data_new/test/images/fish_003425975286_18475.png: 128x128 1 1, 7.6ms\n",
      "image 1452/4118 /home/anderste/ikt450-deep-neural-networks/DNN-prosjekt/segmentation_data_new/test/images/fish_003426005286_24811.png: 128x128 1 0, 7.5ms\n",
      "image 1453/4118 /home/anderste/ikt450-deep-neural-networks/DNN-prosjekt/segmentation_data_new/test/images/fish_003426045286_18404.png: 128x128 1 1, 7.7ms\n",
      "image 1454/4118 /home/anderste/ikt450-deep-neural-networks/DNN-prosjekt/segmentation_data_new/test/images/fish_003426055286_18528.png: 128x128 1 0, 7.6ms\n",
      "image 1455/4118 /home/anderste/ikt450-deep-neural-networks/DNN-prosjekt/segmentation_data_new/test/images/fish_003426055286_18826.png: 128x128 1 0, 7.6ms\n",
      "image 1456/4118 /home/anderste/ikt450-deep-neural-networks/DNN-prosjekt/segmentation_data_new/test/images/fish_003426055286_18924.png: 128x128 1 0, 7.6ms\n",
      "image 1457/4118 /home/anderste/ikt450-deep-neural-networks/DNN-prosjekt/segmentation_data_new/test/images/fish_003426055286_21029.png: 128x128 1 0, 7.7ms\n",
      "image 1458/4118 /home/anderste/ikt450-deep-neural-networks/DNN-prosjekt/segmentation_data_new/test/images/fish_003426055286_21726.png: 128x128 1 0, 7.7ms\n",
      "image 1459/4118 /home/anderste/ikt450-deep-neural-networks/DNN-prosjekt/segmentation_data_new/test/images/fish_003426055286_23159.png: 128x128 1 0, 7.6ms\n",
      "image 1460/4118 /home/anderste/ikt450-deep-neural-networks/DNN-prosjekt/segmentation_data_new/test/images/fish_003426055286_27059.png: 128x128 1 0, 7.6ms\n",
      "image 1461/4118 /home/anderste/ikt450-deep-neural-networks/DNN-prosjekt/segmentation_data_new/test/images/fish_003426075286_18359.png: 128x128 1 1, 7.5ms\n",
      "image 1462/4118 /home/anderste/ikt450-deep-neural-networks/DNN-prosjekt/segmentation_data_new/test/images/fish_003426075286_18362.png: 128x128 1 1, 7.6ms\n",
      "image 1463/4118 /home/anderste/ikt450-deep-neural-networks/DNN-prosjekt/segmentation_data_new/test/images/fish_003426075286_18363.png: 128x128 1 1, 7.6ms\n",
      "image 1464/4118 /home/anderste/ikt450-deep-neural-networks/DNN-prosjekt/segmentation_data_new/test/images/fish_003426075286_18365.png: 128x128 1 1, 7.8ms\n",
      "image 1465/4118 /home/anderste/ikt450-deep-neural-networks/DNN-prosjekt/segmentation_data_new/test/images/fish_003426105286_18090.png: 128x128 1 0, 7.7ms\n",
      "image 1466/4118 /home/anderste/ikt450-deep-neural-networks/DNN-prosjekt/segmentation_data_new/test/images/fish_003426105286_18439.png: 128x128 1 0, 7.5ms\n",
      "image 1467/4118 /home/anderste/ikt450-deep-neural-networks/DNN-prosjekt/segmentation_data_new/test/images/fish_003426155286_25268.png: 128x128 1 0, 7.7ms\n",
      "image 1468/4118 /home/anderste/ikt450-deep-neural-networks/DNN-prosjekt/segmentation_data_new/test/images/fish_003426175286_18276.png: 128x128 1 0, 7.6ms\n",
      "image 1469/4118 /home/anderste/ikt450-deep-neural-networks/DNN-prosjekt/segmentation_data_new/test/images/fish_003426175286_18440.png: 128x128 1 0, 7.5ms\n",
      "image 1470/4118 /home/anderste/ikt450-deep-neural-networks/DNN-prosjekt/segmentation_data_new/test/images/fish_003426275286_18938.png: 128x128 1 0, 7.6ms\n",
      "image 1471/4118 /home/anderste/ikt450-deep-neural-networks/DNN-prosjekt/segmentation_data_new/test/images/fish_003426275286_22359.png: 128x128 1 0, 7.6ms\n",
      "image 1472/4118 /home/anderste/ikt450-deep-neural-networks/DNN-prosjekt/segmentation_data_new/test/images/fish_003426275286_23349.png: 128x128 1 0, 7.5ms\n",
      "image 1473/4118 /home/anderste/ikt450-deep-neural-networks/DNN-prosjekt/segmentation_data_new/test/images/fish_003426295286_21805.png: 128x128 1 0, 1 1, 7.6ms\n",
      "image 1474/4118 /home/anderste/ikt450-deep-neural-networks/DNN-prosjekt/segmentation_data_new/test/images/fish_003426335286_18220.png: 128x128 1 0, 1 1, 7.8ms\n",
      "image 1475/4118 /home/anderste/ikt450-deep-neural-networks/DNN-prosjekt/segmentation_data_new/test/images/fish_003426365286_19491.png: 128x128 1 0, 7.6ms\n",
      "image 1476/4118 /home/anderste/ikt450-deep-neural-networks/DNN-prosjekt/segmentation_data_new/test/images/fish_003426365286_24810.png: 128x128 1 0, 7.7ms\n",
      "image 1477/4118 /home/anderste/ikt450-deep-neural-networks/DNN-prosjekt/segmentation_data_new/test/images/fish_003426385286_18171.png: 128x128 1 0, 7.6ms\n",
      "image 1478/4118 /home/anderste/ikt450-deep-neural-networks/DNN-prosjekt/segmentation_data_new/test/images/fish_003426535286_18491.png: 128x128 1 0, 7.6ms\n",
      "image 1479/4118 /home/anderste/ikt450-deep-neural-networks/DNN-prosjekt/segmentation_data_new/test/images/fish_003426565286_25434.png: 128x128 1 0, 7.6ms\n",
      "image 1480/4118 /home/anderste/ikt450-deep-neural-networks/DNN-prosjekt/segmentation_data_new/test/images/fish_003427305288_22328.png: 128x128 1 2, 7.6ms\n",
      "image 1481/4118 /home/anderste/ikt450-deep-neural-networks/DNN-prosjekt/segmentation_data_new/test/images/fish_003427385288_23617.png: 128x128 1 3, 7.9ms\n",
      "image 1482/4118 /home/anderste/ikt450-deep-neural-networks/DNN-prosjekt/segmentation_data_new/test/images/fish_003427435288_17944.png: 128x128 1 3, 8.1ms\n",
      "image 1483/4118 /home/anderste/ikt450-deep-neural-networks/DNN-prosjekt/segmentation_data_new/test/images/fish_003427435288_22543.png: 128x128 1 3, 7.7ms\n",
      "image 1484/4118 /home/anderste/ikt450-deep-neural-networks/DNN-prosjekt/segmentation_data_new/test/images/fish_003427485288_23119.png: 128x128 1 3, 7.6ms\n",
      "image 1485/4118 /home/anderste/ikt450-deep-neural-networks/DNN-prosjekt/segmentation_data_new/test/images/fish_003427575288_22181.png: 128x128 1 3, 7.6ms\n",
      "image 1486/4118 /home/anderste/ikt450-deep-neural-networks/DNN-prosjekt/segmentation_data_new/test/images/fish_003427675288_25932.png: 128x128 (no detections), 7.7ms\n",
      "image 1487/4118 /home/anderste/ikt450-deep-neural-networks/DNN-prosjekt/segmentation_data_new/test/images/fish_003427715288_17815.png: 128x128 1 10, 7.6ms\n",
      "image 1488/4118 /home/anderste/ikt450-deep-neural-networks/DNN-prosjekt/segmentation_data_new/test/images/fish_003427915288_17855.png: 128x128 1 3, 7.6ms\n",
      "image 1489/4118 /home/anderste/ikt450-deep-neural-networks/DNN-prosjekt/segmentation_data_new/test/images/fish_003427965288_17826.png: 128x128 1 10, 9.7ms\n",
      "image 1490/4118 /home/anderste/ikt450-deep-neural-networks/DNN-prosjekt/segmentation_data_new/test/images/fish_003428075288_17744.png: 128x128 1 2, 7.7ms\n",
      "image 1491/4118 /home/anderste/ikt450-deep-neural-networks/DNN-prosjekt/segmentation_data_new/test/images/fish_003428105288_17824.png: 128x128 1 10, 7.5ms\n",
      "image 1492/4118 /home/anderste/ikt450-deep-neural-networks/DNN-prosjekt/segmentation_data_new/test/images/fish_003429965290_21833.png: 128x128 1 1, 7.5ms\n",
      "image 1493/4118 /home/anderste/ikt450-deep-neural-networks/DNN-prosjekt/segmentation_data_new/test/images/fish_003430115290_17615.png: 128x128 1 0, 7.6ms\n",
      "image 1494/4118 /home/anderste/ikt450-deep-neural-networks/DNN-prosjekt/segmentation_data_new/test/images/fish_003430205290_27002.png: 128x128 1 0, 7.5ms\n",
      "image 1495/4118 /home/anderste/ikt450-deep-neural-networks/DNN-prosjekt/segmentation_data_new/test/images/fish_003430225290_18183.png: 128x128 1 0, 7.5ms\n",
      "image 1496/4118 /home/anderste/ikt450-deep-neural-networks/DNN-prosjekt/segmentation_data_new/test/images/fish_003430295290_17479.png: 128x128 1 0, 7.8ms\n",
      "image 1497/4118 /home/anderste/ikt450-deep-neural-networks/DNN-prosjekt/segmentation_data_new/test/images/fish_003430295290_20555.png: 128x128 1 0, 8.5ms\n",
      "image 1498/4118 /home/anderste/ikt450-deep-neural-networks/DNN-prosjekt/segmentation_data_new/test/images/fish_003430295290_27028.png: 128x128 1 0, 7.7ms\n",
      "image 1499/4118 /home/anderste/ikt450-deep-neural-networks/DNN-prosjekt/segmentation_data_new/test/images/fish_003430375290_17513.png: 128x128 1 1, 7.9ms\n",
      "image 1500/4118 /home/anderste/ikt450-deep-neural-networks/DNN-prosjekt/segmentation_data_new/test/images/fish_003430515290_24698.png: 128x128 1 0, 1 1, 7.8ms\n",
      "image 1501/4118 /home/anderste/ikt450-deep-neural-networks/DNN-prosjekt/segmentation_data_new/test/images/fish_003431075291_17205.png: 128x128 1 2, 8.4ms\n",
      "image 1502/4118 /home/anderste/ikt450-deep-neural-networks/DNN-prosjekt/segmentation_data_new/test/images/fish_003431105291_17182.png: 128x128 1 2, 8.0ms\n",
      "image 1503/4118 /home/anderste/ikt450-deep-neural-networks/DNN-prosjekt/segmentation_data_new/test/images/fish_003431165291_17025.png: 128x128 1 3, 7.6ms\n",
      "image 1504/4118 /home/anderste/ikt450-deep-neural-networks/DNN-prosjekt/segmentation_data_new/test/images/fish_003431165291_21500.png: 128x128 1 3, 7.6ms\n",
      "image 1505/4118 /home/anderste/ikt450-deep-neural-networks/DNN-prosjekt/segmentation_data_new/test/images/fish_003431345291_16835.png: 128x128 1 2, 7.6ms\n",
      "image 1506/4118 /home/anderste/ikt450-deep-neural-networks/DNN-prosjekt/segmentation_data_new/test/images/fish_003432105292_10038.png: 128x128 1 2, 7.8ms\n",
      "image 1507/4118 /home/anderste/ikt450-deep-neural-networks/DNN-prosjekt/segmentation_data_new/test/images/fish_003432455292_16784.png: 128x128 1 2, 1 3, 7.7ms\n",
      "image 1508/4118 /home/anderste/ikt450-deep-neural-networks/DNN-prosjekt/segmentation_data_new/test/images/fish_003432455292_16785.png: 128x128 1 2, 1 3, 7.7ms\n",
      "image 1509/4118 /home/anderste/ikt450-deep-neural-networks/DNN-prosjekt/segmentation_data_new/test/images/fish_003432455292_16789.png: 128x128 1 2, 1 3, 7.6ms\n",
      "image 1510/4118 /home/anderste/ikt450-deep-neural-networks/DNN-prosjekt/segmentation_data_new/test/images/fish_003433055293_16687.png: 128x128 1 0, 7.5ms\n",
      "image 1511/4118 /home/anderste/ikt450-deep-neural-networks/DNN-prosjekt/segmentation_data_new/test/images/fish_003433065293_16720.png: 128x128 1 0, 1 1, 7.6ms\n",
      "image 1512/4118 /home/anderste/ikt450-deep-neural-networks/DNN-prosjekt/segmentation_data_new/test/images/fish_003433065293_16751.png: 128x128 1 0, 7.6ms\n",
      "image 1513/4118 /home/anderste/ikt450-deep-neural-networks/DNN-prosjekt/segmentation_data_new/test/images/fish_003433175293_23292.png: 128x128 1 0, 1 1, 7.5ms\n",
      "image 1514/4118 /home/anderste/ikt450-deep-neural-networks/DNN-prosjekt/segmentation_data_new/test/images/fish_003433375293_24074.png: 128x128 1 1, 8.2ms\n",
      "image 1515/4118 /home/anderste/ikt450-deep-neural-networks/DNN-prosjekt/segmentation_data_new/test/images/fish_003433545293_17570.png: 128x128 1 0, 1 1, 7.8ms\n",
      "image 1516/4118 /home/anderste/ikt450-deep-neural-networks/DNN-prosjekt/segmentation_data_new/test/images/fish_003433565293_18505.png: 128x128 1 1, 7.7ms\n",
      "image 1517/4118 /home/anderste/ikt450-deep-neural-networks/DNN-prosjekt/segmentation_data_new/test/images/fish_003433655293_16565.png: 128x128 1 1, 7.4ms\n",
      "image 1518/4118 /home/anderste/ikt450-deep-neural-networks/DNN-prosjekt/segmentation_data_new/test/images/fish_003433655293_23193.png: 128x128 1 1, 7.5ms\n",
      "image 1519/4118 /home/anderste/ikt450-deep-neural-networks/DNN-prosjekt/segmentation_data_new/test/images/fish_003433675293_16508.png: 128x128 1 1, 7.6ms\n",
      "image 1520/4118 /home/anderste/ikt450-deep-neural-networks/DNN-prosjekt/segmentation_data_new/test/images/fish_003433675293_16509.png: 128x128 1 1, 7.7ms\n",
      "image 1521/4118 /home/anderste/ikt450-deep-neural-networks/DNN-prosjekt/segmentation_data_new/test/images/fish_003433735293_18391.png: 128x128 1 0, 7.6ms\n",
      "image 1522/4118 /home/anderste/ikt450-deep-neural-networks/DNN-prosjekt/segmentation_data_new/test/images/fish_003433795293_20479.png: 128x128 1 0, 1 1, 7.7ms\n",
      "image 1523/4118 /home/anderste/ikt450-deep-neural-networks/DNN-prosjekt/segmentation_data_new/test/images/fish_003433935293_16440.png: 128x128 1 1, 7.6ms\n",
      "image 1524/4118 /home/anderste/ikt450-deep-neural-networks/DNN-prosjekt/segmentation_data_new/test/images/fish_003434275293_18187.png: 128x128 1 0, 1 1, 7.7ms\n",
      "image 1525/4118 /home/anderste/ikt450-deep-neural-networks/DNN-prosjekt/segmentation_data_new/test/images/fish_003434305293_15899.png: 128x128 1 1, 7.7ms\n",
      "image 1526/4118 /home/anderste/ikt450-deep-neural-networks/DNN-prosjekt/segmentation_data_new/test/images/fish_003434415293_16346.png: 128x128 1 0, 7.6ms\n",
      "image 1527/4118 /home/anderste/ikt450-deep-neural-networks/DNN-prosjekt/segmentation_data_new/test/images/fish_003434545293_18532.png: 128x128 1 0, 1 1, 8.0ms\n",
      "image 1528/4118 /home/anderste/ikt450-deep-neural-networks/DNN-prosjekt/segmentation_data_new/test/images/fish_003434545293_25541.png: 128x128 1 0, 1 1, 7.5ms\n",
      "image 1529/4118 /home/anderste/ikt450-deep-neural-networks/DNN-prosjekt/segmentation_data_new/test/images/fish_003434615293_18660.png: 128x128 1 1, 8.1ms\n",
      "image 1530/4118 /home/anderste/ikt450-deep-neural-networks/DNN-prosjekt/segmentation_data_new/test/images/fish_003434645293_16292.png: 128x128 1 1, 7.6ms\n",
      "image 1531/4118 /home/anderste/ikt450-deep-neural-networks/DNN-prosjekt/segmentation_data_new/test/images/fish_003435075294_16265.png: 128x128 1 5, 7.5ms\n",
      "image 1532/4118 /home/anderste/ikt450-deep-neural-networks/DNN-prosjekt/segmentation_data_new/test/images/fish_003435115294_16256.png: 128x128 1 5, 7.5ms\n",
      "image 1533/4118 /home/anderste/ikt450-deep-neural-networks/DNN-prosjekt/segmentation_data_new/test/images/fish_003435275294_16238.png: 128x128 1 5, 7.7ms\n",
      "image 1534/4118 /home/anderste/ikt450-deep-neural-networks/DNN-prosjekt/segmentation_data_new/test/images/fish_003435335294_18125.png: 128x128 1 5, 7.7ms\n",
      "image 1535/4118 /home/anderste/ikt450-deep-neural-networks/DNN-prosjekt/segmentation_data_new/test/images/fish_003435375294_16209.png: 128x128 1 5, 7.6ms\n",
      "image 1536/4118 /home/anderste/ikt450-deep-neural-networks/DNN-prosjekt/segmentation_data_new/test/images/fish_003435395294_16061.png: 128x128 1 5, 8.0ms\n",
      "image 1537/4118 /home/anderste/ikt450-deep-neural-networks/DNN-prosjekt/segmentation_data_new/test/images/fish_003435585294_16065.png: 128x128 1 5, 7.6ms\n",
      "image 1538/4118 /home/anderste/ikt450-deep-neural-networks/DNN-prosjekt/segmentation_data_new/test/images/fish_003435845294_20728.png: 128x128 1 5, 7.6ms\n",
      "image 1539/4118 /home/anderste/ikt450-deep-neural-networks/DNN-prosjekt/segmentation_data_new/test/images/fish_003436795295_24743.png: 128x128 1 0, 1 1, 7.6ms\n",
      "image 1540/4118 /home/anderste/ikt450-deep-neural-networks/DNN-prosjekt/segmentation_data_new/test/images/fish_003440935299_15626.png: 128x128 1 4, 8.1ms\n",
      "image 1541/4118 /home/anderste/ikt450-deep-neural-networks/DNN-prosjekt/segmentation_data_new/test/images/fish_003442255300_26286.png: 128x128 1 0, 1 1, 7.9ms\n",
      "image 1542/4118 /home/anderste/ikt450-deep-neural-networks/DNN-prosjekt/segmentation_data_new/test/images/fish_003442555300_18433.png: 128x128 1 0, 1 1, 7.6ms\n",
      "image 1543/4118 /home/anderste/ikt450-deep-neural-networks/DNN-prosjekt/segmentation_data_new/test/images/fish_003444705304_15383.png: 128x128 1 3, 7.6ms\n",
      "image 1544/4118 /home/anderste/ikt450-deep-neural-networks/DNN-prosjekt/segmentation_data_new/test/images/fish_003444885304_21032.png: 128x128 1 3, 8.0ms\n",
      "image 1545/4118 /home/anderste/ikt450-deep-neural-networks/DNN-prosjekt/segmentation_data_new/test/images/fish_003445515304_17818.png: 96x128 (no detections), 8.2ms\n",
      "image 1546/4118 /home/anderste/ikt450-deep-neural-networks/DNN-prosjekt/segmentation_data_new/test/images/fish_003445535304_15230.png: 96x128 2 3s, 7.6ms\n",
      "image 1547/4118 /home/anderste/ikt450-deep-neural-networks/DNN-prosjekt/segmentation_data_new/test/images/fish_003445635304_15984.png: 128x128 1 3, 8.0ms\n",
      "image 1548/4118 /home/anderste/ikt450-deep-neural-networks/DNN-prosjekt/segmentation_data_new/test/images/fish_003446215305_22126.png: 128x128 1 1, 7.7ms\n",
      "image 1549/4118 /home/anderste/ikt450-deep-neural-networks/DNN-prosjekt/segmentation_data_new/test/images/fish_003446365306_25577.png: 128x128 1 0, 1 1, 7.6ms\n",
      "image 1550/4118 /home/anderste/ikt450-deep-neural-networks/DNN-prosjekt/segmentation_data_new/test/images/fish_003446565306_26506.png: 128x128 1 1, 7.6ms\n",
      "image 1551/4118 /home/anderste/ikt450-deep-neural-networks/DNN-prosjekt/segmentation_data_new/test/images/fish_003446585305_15492.png: 128x128 1 1, 7.6ms\n",
      "image 1552/4118 /home/anderste/ikt450-deep-neural-networks/DNN-prosjekt/segmentation_data_new/test/images/fish_003446625305_22547.png: 128x128 1 3, 7.5ms\n",
      "image 1553/4118 /home/anderste/ikt450-deep-neural-networks/DNN-prosjekt/segmentation_data_new/test/images/fish_003446885306_24762.png: 128x128 1 0, 1 1, 7.6ms\n",
      "image 1554/4118 /home/anderste/ikt450-deep-neural-networks/DNN-prosjekt/segmentation_data_new/test/images/fish_003446905305_15136.png: 128x128 1 2, 7.7ms\n",
      "image 1555/4118 /home/anderste/ikt450-deep-neural-networks/DNN-prosjekt/segmentation_data_new/test/images/fish_003446985306_25538.png: 128x128 1 1, 7.6ms\n",
      "image 1556/4118 /home/anderste/ikt450-deep-neural-networks/DNN-prosjekt/segmentation_data_new/test/images/fish_003446995305_14616.png: 128x128 1 2, 7.6ms\n",
      "image 1557/4118 /home/anderste/ikt450-deep-neural-networks/DNN-prosjekt/segmentation_data_new/test/images/fish_003446995305_14617.png: 128x128 1 2, 7.6ms\n",
      "image 1558/4118 /home/anderste/ikt450-deep-neural-networks/DNN-prosjekt/segmentation_data_new/test/images/fish_003447135305_14939.png: 128x128 1 3, 10.1ms\n",
      "image 1559/4118 /home/anderste/ikt450-deep-neural-networks/DNN-prosjekt/segmentation_data_new/test/images/fish_003447135305_26310.png: 128x128 1 3, 10.5ms\n",
      "image 1560/4118 /home/anderste/ikt450-deep-neural-networks/DNN-prosjekt/segmentation_data_new/test/images/fish_003447185305_14872.png: 128x128 1 3, 7.6ms\n",
      "image 1561/4118 /home/anderste/ikt450-deep-neural-networks/DNN-prosjekt/segmentation_data_new/test/images/fish_003447235306_15081.png: 128x128 1 0, 1 1, 7.7ms\n",
      "image 1562/4118 /home/anderste/ikt450-deep-neural-networks/DNN-prosjekt/segmentation_data_new/test/images/fish_003447495306_25317.png: 128x128 1 1, 7.5ms\n",
      "image 1563/4118 /home/anderste/ikt450-deep-neural-networks/DNN-prosjekt/segmentation_data_new/test/images/fish_003447505305_14956.png: 128x128 1 2, 7.5ms\n",
      "image 1564/4118 /home/anderste/ikt450-deep-neural-networks/DNN-prosjekt/segmentation_data_new/test/images/fish_003447605305_14354.png: 128x128 1 1, 7.5ms\n",
      "image 1565/4118 /home/anderste/ikt450-deep-neural-networks/DNN-prosjekt/segmentation_data_new/test/images/fish_003447715306_26071.png: 128x128 1 1, 7.5ms\n",
      "image 1566/4118 /home/anderste/ikt450-deep-neural-networks/DNN-prosjekt/segmentation_data_new/test/images/fish_003447735305_14328.png: 128x128 1 3, 7.6ms\n",
      "image 1567/4118 /home/anderste/ikt450-deep-neural-networks/DNN-prosjekt/segmentation_data_new/test/images/fish_003447735305_15699.png: 128x128 1 3, 7.6ms\n",
      "image 1568/4118 /home/anderste/ikt450-deep-neural-networks/DNN-prosjekt/segmentation_data_new/test/images/fish_003447735305_15701.png: 128x128 1 3, 7.5ms\n",
      "image 1569/4118 /home/anderste/ikt450-deep-neural-networks/DNN-prosjekt/segmentation_data_new/test/images/fish_003447735305_17936.png: 128x128 1 3, 7.4ms\n",
      "image 1570/4118 /home/anderste/ikt450-deep-neural-networks/DNN-prosjekt/segmentation_data_new/test/images/fish_003447735305_18003.png: 128x128 1 3, 7.7ms\n",
      "image 1571/4118 /home/anderste/ikt450-deep-neural-networks/DNN-prosjekt/segmentation_data_new/test/images/fish_003447845306_16373.png: 128x128 1 1, 7.6ms\n",
      "image 1572/4118 /home/anderste/ikt450-deep-neural-networks/DNN-prosjekt/segmentation_data_new/test/images/fish_003447965305_23550.png: 128x128 1 1, 7.4ms\n",
      "image 1573/4118 /home/anderste/ikt450-deep-neural-networks/DNN-prosjekt/segmentation_data_new/test/images/fish_003448045305_12455.png: 128x128 1 1, 13.2ms\n",
      "image 1574/4118 /home/anderste/ikt450-deep-neural-networks/DNN-prosjekt/segmentation_data_new/test/images/fish_003448045305_22991.png: 128x128 1 1, 7.5ms\n",
      "image 1575/4118 /home/anderste/ikt450-deep-neural-networks/DNN-prosjekt/segmentation_data_new/test/images/fish_003448325305_14206.png: 128x128 1 3, 7.5ms\n",
      "image 1576/4118 /home/anderste/ikt450-deep-neural-networks/DNN-prosjekt/segmentation_data_new/test/images/fish_003448325305_14523.png: 128x128 1 3, 7.6ms\n",
      "image 1577/4118 /home/anderste/ikt450-deep-neural-networks/DNN-prosjekt/segmentation_data_new/test/images/fish_003448325305_15041.png: 128x128 1 3, 7.7ms\n",
      "image 1578/4118 /home/anderste/ikt450-deep-neural-networks/DNN-prosjekt/segmentation_data_new/test/images/fish_003448325305_15743.png: 128x128 1 3, 7.5ms\n",
      "image 1579/4118 /home/anderste/ikt450-deep-neural-networks/DNN-prosjekt/segmentation_data_new/test/images/fish_003448365305_14165.png: 128x128 1 3, 7.6ms\n",
      "image 1580/4118 /home/anderste/ikt450-deep-neural-networks/DNN-prosjekt/segmentation_data_new/test/images/fish_003453125308_25593.png: 128x128 1 1, 7.6ms\n",
      "image 1581/4118 /home/anderste/ikt450-deep-neural-networks/DNN-prosjekt/segmentation_data_new/test/images/fish_003453175308_25567.png: 128x128 1 1, 7.8ms\n",
      "image 1582/4118 /home/anderste/ikt450-deep-neural-networks/DNN-prosjekt/segmentation_data_new/test/images/fish_003453695309_18694.png: 128x128 1 1, 7.5ms\n",
      "image 1583/4118 /home/anderste/ikt450-deep-neural-networks/DNN-prosjekt/segmentation_data_new/test/images/fish_003453775309_18197.png: 128x128 1 1, 7.6ms\n",
      "image 1584/4118 /home/anderste/ikt450-deep-neural-networks/DNN-prosjekt/segmentation_data_new/test/images/fish_003453895309_14022.png: 128x128 1 1, 7.5ms\n",
      "image 1585/4118 /home/anderste/ikt450-deep-neural-networks/DNN-prosjekt/segmentation_data_new/test/images/fish_003455855311_13891.png: 128x128 1 1, 7.6ms\n",
      "image 1586/4118 /home/anderste/ikt450-deep-neural-networks/DNN-prosjekt/segmentation_data_new/test/images/fish_003456205311_16499.png: 128x128 1 1, 7.7ms\n",
      "image 1587/4118 /home/anderste/ikt450-deep-neural-networks/DNN-prosjekt/segmentation_data_new/test/images/fish_003456205311_18142.png: 128x128 1 1, 7.5ms\n",
      "image 1588/4118 /home/anderste/ikt450-deep-neural-networks/DNN-prosjekt/segmentation_data_new/test/images/fish_003456265312_13821.png: 128x128 1 11, 1 12, 7.7ms\n",
      "image 1589/4118 /home/anderste/ikt450-deep-neural-networks/DNN-prosjekt/segmentation_data_new/test/images/fish_003458685315_13763.png: 128x128 1 1, 7.6ms\n",
      "image 1590/4118 /home/anderste/ikt450-deep-neural-networks/DNN-prosjekt/segmentation_data_new/test/images/fish_003458685315_26567.png: 128x128 1 1, 7.7ms\n",
      "image 1591/4118 /home/anderste/ikt450-deep-neural-networks/DNN-prosjekt/segmentation_data_new/test/images/fish_003459535316_13699.png: 128x128 1 2, 7.6ms\n",
      "image 1592/4118 /home/anderste/ikt450-deep-neural-networks/DNN-prosjekt/segmentation_data_new/test/images/fish_003460000101_03274.png: 128x128 1 1, 7.6ms\n",
      "image 1593/4118 /home/anderste/ikt450-deep-neural-networks/DNN-prosjekt/segmentation_data_new/test/images/fish_003461225323_13633.png: 128x128 1 5, 7.8ms\n",
      "image 1594/4118 /home/anderste/ikt450-deep-neural-networks/DNN-prosjekt/segmentation_data_new/test/images/fish_003461225323_13637.png: 128x128 1 5, 7.8ms\n",
      "image 1595/4118 /home/anderste/ikt450-deep-neural-networks/DNN-prosjekt/segmentation_data_new/test/images/fish_003461225323_19715.png: 128x128 1 5, 7.8ms\n",
      "image 1596/4118 /home/anderste/ikt450-deep-neural-networks/DNN-prosjekt/segmentation_data_new/test/images/fish_003461225323_24003.png: 128x128 1 5, 7.6ms\n",
      "image 1597/4118 /home/anderste/ikt450-deep-neural-networks/DNN-prosjekt/segmentation_data_new/test/images/fish_003461225323_25619.png: 128x128 1 5, 7.5ms\n",
      "image 1598/4118 /home/anderste/ikt450-deep-neural-networks/DNN-prosjekt/segmentation_data_new/test/images/fish_003461425323_13544.png: 128x128 1 5, 7.6ms\n",
      "image 1599/4118 /home/anderste/ikt450-deep-neural-networks/DNN-prosjekt/segmentation_data_new/test/images/fish_003461425323_16380.png: 128x128 1 5, 7.6ms\n",
      "image 1600/4118 /home/anderste/ikt450-deep-neural-networks/DNN-prosjekt/segmentation_data_new/test/images/fish_003461495323_13396.png: 128x128 1 5, 7.5ms\n",
      "image 1601/4118 /home/anderste/ikt450-deep-neural-networks/DNN-prosjekt/segmentation_data_new/test/images/fish_003461545323_13346.png: 128x128 1 5, 7.8ms\n",
      "image 1602/4118 /home/anderste/ikt450-deep-neural-networks/DNN-prosjekt/segmentation_data_new/test/images/fish_003461545323_13348.png: 128x128 1 5, 7.6ms\n",
      "image 1603/4118 /home/anderste/ikt450-deep-neural-networks/DNN-prosjekt/segmentation_data_new/test/images/fish_003461545323_13358.png: 128x128 1 5, 8.2ms\n",
      "image 1604/4118 /home/anderste/ikt450-deep-neural-networks/DNN-prosjekt/segmentation_data_new/test/images/fish_003461565323_19454.png: 128x128 1 5, 7.7ms\n",
      "image 1605/4118 /home/anderste/ikt450-deep-neural-networks/DNN-prosjekt/segmentation_data_new/test/images/fish_003461935325_13254.png: 128x128 1 2, 7.6ms\n",
      "image 1606/4118 /home/anderste/ikt450-deep-neural-networks/DNN-prosjekt/segmentation_data_new/test/images/fish_003461945325_11497.png: 128x128 1 2, 7.5ms\n",
      "image 1607/4118 /home/anderste/ikt450-deep-neural-networks/DNN-prosjekt/segmentation_data_new/test/images/fish_003462265325_13207.png: 128x128 1 2, 7.6ms\n",
      "image 1608/4118 /home/anderste/ikt450-deep-neural-networks/DNN-prosjekt/segmentation_data_new/test/images/fish_003462355325_17067.png: 128x128 1 2, 7.6ms\n",
      "image 1609/4118 /home/anderste/ikt450-deep-neural-networks/DNN-prosjekt/segmentation_data_new/test/images/fish_003467595330_21804.png: 128x128 1 1, 7.2ms\n",
      "image 1610/4118 /home/anderste/ikt450-deep-neural-networks/DNN-prosjekt/segmentation_data_new/test/images/fish_003470135337_22584.png: 128x128 1 1, 7.6ms\n",
      "image 1611/4118 /home/anderste/ikt450-deep-neural-networks/DNN-prosjekt/segmentation_data_new/test/images/fish_003470375337_23760.png: 128x128 1 2, 7.6ms\n",
      "image 1612/4118 /home/anderste/ikt450-deep-neural-networks/DNN-prosjekt/segmentation_data_new/test/images/fish_003470495337_15489.png: 128x128 1 3, 7.6ms\n",
      "image 1613/4118 /home/anderste/ikt450-deep-neural-networks/DNN-prosjekt/segmentation_data_new/test/images/fish_003470675337_25920.png: 128x128 1 2, 7.6ms\n",
      "image 1614/4118 /home/anderste/ikt450-deep-neural-networks/DNN-prosjekt/segmentation_data_new/test/images/fish_003470715337_12744.png: 128x128 1 1, 7.6ms\n",
      "image 1615/4118 /home/anderste/ikt450-deep-neural-networks/DNN-prosjekt/segmentation_data_new/test/images/fish_003470715337_12903.png: 128x128 (no detections), 7.6ms\n",
      "image 1616/4118 /home/anderste/ikt450-deep-neural-networks/DNN-prosjekt/segmentation_data_new/test/images/fish_003470715337_17681.png: 128x128 (no detections), 7.5ms\n",
      "image 1617/4118 /home/anderste/ikt450-deep-neural-networks/DNN-prosjekt/segmentation_data_new/test/images/fish_003470725337_12918.png: 128x128 1 7, 1 19, 7.6ms\n",
      "image 1618/4118 /home/anderste/ikt450-deep-neural-networks/DNN-prosjekt/segmentation_data_new/test/images/fish_003470725337_13985.png: 128x128 1 19, 7.6ms\n",
      "image 1619/4118 /home/anderste/ikt450-deep-neural-networks/DNN-prosjekt/segmentation_data_new/test/images/fish_003470805337_12701.png: 128x128 1 2, 7.5ms\n",
      "image 1620/4118 /home/anderste/ikt450-deep-neural-networks/DNN-prosjekt/segmentation_data_new/test/images/fish_003470805337_26202.png: 128x128 1 2, 7.6ms\n",
      "image 1621/4118 /home/anderste/ikt450-deep-neural-networks/DNN-prosjekt/segmentation_data_new/test/images/fish_003470905337_22825.png: 128x128 1 3, 7.8ms\n",
      "image 1622/4118 /home/anderste/ikt450-deep-neural-networks/DNN-prosjekt/segmentation_data_new/test/images/fish_003470965337_23126.png: 128x128 1 3, 7.6ms\n",
      "image 1623/4118 /home/anderste/ikt450-deep-neural-networks/DNN-prosjekt/segmentation_data_new/test/images/fish_003473265341_12600.png: 128x128 1 5, 7.5ms\n",
      "image 1624/4118 /home/anderste/ikt450-deep-neural-networks/DNN-prosjekt/segmentation_data_new/test/images/fish_003473295341_19397.png: 128x128 1 5, 7.5ms\n",
      "image 1625/4118 /home/anderste/ikt450-deep-neural-networks/DNN-prosjekt/segmentation_data_new/test/images/fish_003473325341_19675.png: 128x128 1 5, 7.6ms\n",
      "image 1626/4118 /home/anderste/ikt450-deep-neural-networks/DNN-prosjekt/segmentation_data_new/test/images/fish_003473565342_12458.png: 128x128 (no detections), 7.5ms\n",
      "image 1627/4118 /home/anderste/ikt450-deep-neural-networks/DNN-prosjekt/segmentation_data_new/test/images/fish_003473595342_13060.png: 128x128 1 1, 7.6ms\n",
      "image 1628/4118 /home/anderste/ikt450-deep-neural-networks/DNN-prosjekt/segmentation_data_new/test/images/fish_003473595342_14632.png: 128x128 1 1, 7.7ms\n",
      "image 1629/4118 /home/anderste/ikt450-deep-neural-networks/DNN-prosjekt/segmentation_data_new/test/images/fish_003473595342_14886.png: 128x128 1 1, 7.5ms\n",
      "image 1630/4118 /home/anderste/ikt450-deep-neural-networks/DNN-prosjekt/segmentation_data_new/test/images/fish_003473595342_15395.png: 128x128 1 1, 7.4ms\n",
      "image 1631/4118 /home/anderste/ikt450-deep-neural-networks/DNN-prosjekt/segmentation_data_new/test/images/fish_003473595342_22111.png: 128x128 1 1, 7.9ms\n",
      "image 1632/4118 /home/anderste/ikt450-deep-neural-networks/DNN-prosjekt/segmentation_data_new/test/images/fish_003473685342_15004.png: 128x128 1 3, 7.5ms\n",
      "image 1633/4118 /home/anderste/ikt450-deep-neural-networks/DNN-prosjekt/segmentation_data_new/test/images/fish_003473765342_26396.png: 128x128 1 1, 7.6ms\n",
      "image 1634/4118 /home/anderste/ikt450-deep-neural-networks/DNN-prosjekt/segmentation_data_new/test/images/fish_003473775342_17720.png: 128x128 1 1, 7.4ms\n",
      "image 1635/4118 /home/anderste/ikt450-deep-neural-networks/DNN-prosjekt/segmentation_data_new/test/images/fish_003473815342_12505.png: 96x128 (no detections), 8.8ms\n",
      "image 1636/4118 /home/anderste/ikt450-deep-neural-networks/DNN-prosjekt/segmentation_data_new/test/images/fish_003473835342_13964.png: 128x128 1 0, 1 1, 8.0ms\n",
      "image 1637/4118 /home/anderste/ikt450-deep-neural-networks/DNN-prosjekt/segmentation_data_new/test/images/fish_003473875342_14724.png: 128x128 1 3, 7.6ms\n",
      "image 1638/4118 /home/anderste/ikt450-deep-neural-networks/DNN-prosjekt/segmentation_data_new/test/images/fish_003473915342_12267.png: 128x128 1 1, 7.6ms\n",
      "image 1639/4118 /home/anderste/ikt450-deep-neural-networks/DNN-prosjekt/segmentation_data_new/test/images/fish_003473915342_14344.png: 128x128 1 1, 7.7ms\n",
      "image 1640/4118 /home/anderste/ikt450-deep-neural-networks/DNN-prosjekt/segmentation_data_new/test/images/fish_003473935342_15437.png: 128x128 1 3, 7.4ms\n",
      "image 1641/4118 /home/anderste/ikt450-deep-neural-networks/DNN-prosjekt/segmentation_data_new/test/images/fish_003474065342_12212.png: 128x128 1 2, 7.5ms\n",
      "image 1642/4118 /home/anderste/ikt450-deep-neural-networks/DNN-prosjekt/segmentation_data_new/test/images/fish_003474115342_26755.png: 128x128 1 1, 7.5ms\n",
      "image 1643/4118 /home/anderste/ikt450-deep-neural-networks/DNN-prosjekt/segmentation_data_new/test/images/fish_003474195342_12161.png: 128x128 1 2, 7.6ms\n",
      "image 1644/4118 /home/anderste/ikt450-deep-neural-networks/DNN-prosjekt/segmentation_data_new/test/images/fish_003474285342_12351.png: 128x128 1 0, 1 1, 7.6ms\n",
      "image 1645/4118 /home/anderste/ikt450-deep-neural-networks/DNN-prosjekt/segmentation_data_new/test/images/fish_003474285342_23268.png: 128x128 1 1, 7.5ms\n",
      "image 1646/4118 /home/anderste/ikt450-deep-neural-networks/DNN-prosjekt/segmentation_data_new/test/images/fish_003474375342_12130.png: 128x128 1 2, 1 3, 7.6ms\n",
      "image 1647/4118 /home/anderste/ikt450-deep-neural-networks/DNN-prosjekt/segmentation_data_new/test/images/fish_003474445342_23431.png: 128x128 1 1, 7.8ms\n",
      "image 1648/4118 /home/anderste/ikt450-deep-neural-networks/DNN-prosjekt/segmentation_data_new/test/images/fish_003474445342_26066.png: 128x128 1 1, 8.1ms\n",
      "image 1649/4118 /home/anderste/ikt450-deep-neural-networks/DNN-prosjekt/segmentation_data_new/test/images/fish_003474535342_12091.png: 128x128 1 1, 7.5ms\n",
      "image 1650/4118 /home/anderste/ikt450-deep-neural-networks/DNN-prosjekt/segmentation_data_new/test/images/fish_003474535342_12092.png: 128x128 1 1, 7.5ms\n",
      "image 1651/4118 /home/anderste/ikt450-deep-neural-networks/DNN-prosjekt/segmentation_data_new/test/images/fish_003474535342_15385.png: 128x128 1 1, 7.6ms\n",
      "image 1652/4118 /home/anderste/ikt450-deep-neural-networks/DNN-prosjekt/segmentation_data_new/test/images/fish_003474555342_15485.png: 128x128 1 1, 7.6ms\n",
      "image 1653/4118 /home/anderste/ikt450-deep-neural-networks/DNN-prosjekt/segmentation_data_new/test/images/fish_003474605342_12050.png: 128x128 1 1, 7.6ms\n",
      "image 1654/4118 /home/anderste/ikt450-deep-neural-networks/DNN-prosjekt/segmentation_data_new/test/images/fish_003474625342_22771.png: 128x128 1 1, 7.6ms\n",
      "image 1655/4118 /home/anderste/ikt450-deep-neural-networks/DNN-prosjekt/segmentation_data_new/test/images/fish_003477485348_09856.png: 128x128 1 1, 7.5ms\n",
      "image 1656/4118 /home/anderste/ikt450-deep-neural-networks/DNN-prosjekt/segmentation_data_new/test/images/fish_003478685350_11936.png: 128x128 1 10, 7.3ms\n",
      "image 1657/4118 /home/anderste/ikt450-deep-neural-networks/DNN-prosjekt/segmentation_data_new/test/images/fish_003478695350_11961.png: 128x128 1 10, 7.6ms\n",
      "image 1658/4118 /home/anderste/ikt450-deep-neural-networks/DNN-prosjekt/segmentation_data_new/test/images/fish_003478695350_11981.png: 128x128 1 10, 7.5ms\n",
      "image 1659/4118 /home/anderste/ikt450-deep-neural-networks/DNN-prosjekt/segmentation_data_new/test/images/fish_003478705350_11927.png: 128x128 1 10, 7.5ms\n",
      "image 1660/4118 /home/anderste/ikt450-deep-neural-networks/DNN-prosjekt/segmentation_data_new/test/images/fish_003478705350_11993.png: 128x128 1 10, 7.6ms\n",
      "image 1661/4118 /home/anderste/ikt450-deep-neural-networks/DNN-prosjekt/segmentation_data_new/test/images/fish_003478845350_11833.png: 96x128 1 10, 8.2ms\n",
      "image 1662/4118 /home/anderste/ikt450-deep-neural-networks/DNN-prosjekt/segmentation_data_new/test/images/fish_003478845350_11985.png: 96x128 1 10, 7.7ms\n",
      "image 1663/4118 /home/anderste/ikt450-deep-neural-networks/DNN-prosjekt/segmentation_data_new/test/images/fish_003478885350_11903.png: 128x128 1 10, 8.1ms\n",
      "image 1664/4118 /home/anderste/ikt450-deep-neural-networks/DNN-prosjekt/segmentation_data_new/test/images/fish_003478885350_11907.png: 96x128 1 10, 8.2ms\n",
      "image 1665/4118 /home/anderste/ikt450-deep-neural-networks/DNN-prosjekt/segmentation_data_new/test/images/fish_003478885350_12013.png: 96x128 1 10, 7.6ms\n",
      "image 1666/4118 /home/anderste/ikt450-deep-neural-networks/DNN-prosjekt/segmentation_data_new/test/images/fish_003478895350_11928.png: 128x128 1 10, 8.2ms\n",
      "image 1667/4118 /home/anderste/ikt450-deep-neural-networks/DNN-prosjekt/segmentation_data_new/test/images/fish_003478915350_11929.png: 128x128 1 10, 8.2ms\n",
      "image 1668/4118 /home/anderste/ikt450-deep-neural-networks/DNN-prosjekt/segmentation_data_new/test/images/fish_003478935350_14448.png: 128x128 1 10, 7.5ms\n",
      "image 1669/4118 /home/anderste/ikt450-deep-neural-networks/DNN-prosjekt/segmentation_data_new/test/images/fish_003478955350_11800.png: 128x128 1 10, 7.5ms\n",
      "image 1670/4118 /home/anderste/ikt450-deep-neural-networks/DNN-prosjekt/segmentation_data_new/test/images/fish_003478955350_11802.png: 128x128 1 10, 7.6ms\n",
      "image 1671/4118 /home/anderste/ikt450-deep-neural-networks/DNN-prosjekt/segmentation_data_new/test/images/fish_003478955350_11824.png: 128x128 1 10, 7.4ms\n",
      "image 1672/4118 /home/anderste/ikt450-deep-neural-networks/DNN-prosjekt/segmentation_data_new/test/images/fish_003480325354_17429.png: 128x128 1 1, 7.5ms\n",
      "image 1673/4118 /home/anderste/ikt450-deep-neural-networks/DNN-prosjekt/segmentation_data_new/test/images/fish_003480415354_23680.png: 128x128 1 1, 7.6ms\n",
      "image 1674/4118 /home/anderste/ikt450-deep-neural-networks/DNN-prosjekt/segmentation_data_new/test/images/fish_003480435354_14131.png: 128x128 1 0, 1 1, 7.5ms\n",
      "image 1675/4118 /home/anderste/ikt450-deep-neural-networks/DNN-prosjekt/segmentation_data_new/test/images/fish_003480435354_27189.png: 128x128 1 1, 7.6ms\n",
      "image 1676/4118 /home/anderste/ikt450-deep-neural-networks/DNN-prosjekt/segmentation_data_new/test/images/fish_003480455354_20174.png: 128x128 1 1, 7.6ms\n",
      "image 1677/4118 /home/anderste/ikt450-deep-neural-networks/DNN-prosjekt/segmentation_data_new/test/images/fish_003480615354_18045.png: 128x128 1 1, 7.5ms\n",
      "image 1678/4118 /home/anderste/ikt450-deep-neural-networks/DNN-prosjekt/segmentation_data_new/test/images/fish_003481615355_16117.png: 128x128 1 5, 7.6ms\n",
      "image 1679/4118 /home/anderste/ikt450-deep-neural-networks/DNN-prosjekt/segmentation_data_new/test/images/fish_003481615355_19562.png: 128x128 1 5, 7.6ms\n",
      "image 1680/4118 /home/anderste/ikt450-deep-neural-networks/DNN-prosjekt/segmentation_data_new/test/images/fish_003481615355_23200.png: 128x128 1 5, 7.6ms\n",
      "image 1681/4118 /home/anderste/ikt450-deep-neural-networks/DNN-prosjekt/segmentation_data_new/test/images/fish_003481635355_11631.png: 128x128 1 5, 7.5ms\n",
      "image 1682/4118 /home/anderste/ikt450-deep-neural-networks/DNN-prosjekt/segmentation_data_new/test/images/fish_003481665355_24364.png: 128x128 1 5, 7.5ms\n",
      "image 1683/4118 /home/anderste/ikt450-deep-neural-networks/DNN-prosjekt/segmentation_data_new/test/images/fish_003481755355_19172.png: 128x128 1 5, 7.6ms\n",
      "image 1684/4118 /home/anderste/ikt450-deep-neural-networks/DNN-prosjekt/segmentation_data_new/test/images/fish_003481835355_11567.png: 128x128 1 5, 7.5ms\n",
      "image 1685/4118 /home/anderste/ikt450-deep-neural-networks/DNN-prosjekt/segmentation_data_new/test/images/fish_003481835355_13530.png: 128x128 1 5, 7.5ms\n",
      "image 1686/4118 /home/anderste/ikt450-deep-neural-networks/DNN-prosjekt/segmentation_data_new/test/images/fish_003481835355_19404.png: 128x128 1 5, 7.5ms\n",
      "image 1687/4118 /home/anderste/ikt450-deep-neural-networks/DNN-prosjekt/segmentation_data_new/test/images/fish_003481835355_19760.png: 128x128 1 5, 7.5ms\n",
      "image 1688/4118 /home/anderste/ikt450-deep-neural-networks/DNN-prosjekt/segmentation_data_new/test/images/fish_003481835355_23772.png: 128x128 1 5, 7.5ms\n",
      "image 1689/4118 /home/anderste/ikt450-deep-neural-networks/DNN-prosjekt/segmentation_data_new/test/images/fish_003481855355_11566.png: 128x128 1 5, 7.5ms\n",
      "image 1690/4118 /home/anderste/ikt450-deep-neural-networks/DNN-prosjekt/segmentation_data_new/test/images/fish_003481885355_21355.png: 128x128 1 5, 7.5ms\n",
      "image 1691/4118 /home/anderste/ikt450-deep-neural-networks/DNN-prosjekt/segmentation_data_new/test/images/fish_003481955355_11515.png: 128x128 1 5, 7.5ms\n",
      "image 1692/4118 /home/anderste/ikt450-deep-neural-networks/DNN-prosjekt/segmentation_data_new/test/images/fish_003483455358_13850.png: 128x128 1 1, 7.6ms\n",
      "image 1693/4118 /home/anderste/ikt450-deep-neural-networks/DNN-prosjekt/segmentation_data_new/test/images/fish_003483545358_11495.png: 128x128 1 1, 7.5ms\n",
      "image 1694/4118 /home/anderste/ikt450-deep-neural-networks/DNN-prosjekt/segmentation_data_new/test/images/fish_003483725358_13706.png: 128x128 1 1, 8.2ms\n",
      "image 1695/4118 /home/anderste/ikt450-deep-neural-networks/DNN-prosjekt/segmentation_data_new/test/images/fish_003483755358_17044.png: 128x128 1 2, 7.6ms\n",
      "image 1696/4118 /home/anderste/ikt450-deep-neural-networks/DNN-prosjekt/segmentation_data_new/test/images/fish_003483755358_26348.png: 128x128 1 2, 7.3ms\n",
      "image 1697/4118 /home/anderste/ikt450-deep-neural-networks/DNN-prosjekt/segmentation_data_new/test/images/fish_003483785358_17054.png: 128x128 1 2, 7.9ms\n",
      "image 1698/4118 /home/anderste/ikt450-deep-neural-networks/DNN-prosjekt/segmentation_data_new/test/images/fish_003484105359_15952.png: 128x128 1 5, 7.6ms\n",
      "image 1699/4118 /home/anderste/ikt450-deep-neural-networks/DNN-prosjekt/segmentation_data_new/test/images/fish_003484105359_16277.png: 128x128 1 5, 7.6ms\n",
      "image 1700/4118 /home/anderste/ikt450-deep-neural-networks/DNN-prosjekt/segmentation_data_new/test/images/fish_003484275359_23192.png: 128x128 1 5, 7.5ms\n",
      "image 1701/4118 /home/anderste/ikt450-deep-neural-networks/DNN-prosjekt/segmentation_data_new/test/images/fish_003484315359_25871.png: 128x128 1 5, 7.4ms\n",
      "image 1702/4118 /home/anderste/ikt450-deep-neural-networks/DNN-prosjekt/segmentation_data_new/test/images/fish_003484425359_11432.png: 128x128 1 5, 7.3ms\n",
      "image 1703/4118 /home/anderste/ikt450-deep-neural-networks/DNN-prosjekt/segmentation_data_new/test/images/fish_003484425359_16036.png: 128x128 1 5, 7.6ms\n",
      "image 1704/4118 /home/anderste/ikt450-deep-neural-networks/DNN-prosjekt/segmentation_data_new/test/images/fish_003484425359_16274.png: 128x128 1 5, 7.5ms\n",
      "image 1705/4118 /home/anderste/ikt450-deep-neural-networks/DNN-prosjekt/segmentation_data_new/test/images/fish_003486035363_11518.png: 96x128 1 3, 8.3ms\n",
      "image 1706/4118 /home/anderste/ikt450-deep-neural-networks/DNN-prosjekt/segmentation_data_new/test/images/fish_003486045363_11365.png: 128x128 1 9, 8.0ms\n",
      "image 1707/4118 /home/anderste/ikt450-deep-neural-networks/DNN-prosjekt/segmentation_data_new/test/images/fish_003486045363_17772.png: 128x128 1 9, 7.5ms\n",
      "image 1708/4118 /home/anderste/ikt450-deep-neural-networks/DNN-prosjekt/segmentation_data_new/test/images/fish_003486145363_11340.png: 128x128 1 12, 7.5ms\n",
      "image 1709/4118 /home/anderste/ikt450-deep-neural-networks/DNN-prosjekt/segmentation_data_new/test/images/fish_003486145363_12314.png: 128x128 1 12, 7.6ms\n",
      "image 1710/4118 /home/anderste/ikt450-deep-neural-networks/DNN-prosjekt/segmentation_data_new/test/images/fish_003486145363_20928.png: 128x128 (no detections), 7.6ms\n",
      "image 1711/4118 /home/anderste/ikt450-deep-neural-networks/DNN-prosjekt/segmentation_data_new/test/images/fish_003486175364_27207.png: 128x128 1 2, 7.4ms\n",
      "image 1712/4118 /home/anderste/ikt450-deep-neural-networks/DNN-prosjekt/segmentation_data_new/test/images/fish_003486395364_22993.png: 128x128 1 1, 7.5ms\n",
      "image 1713/4118 /home/anderste/ikt450-deep-neural-networks/DNN-prosjekt/segmentation_data_new/test/images/fish_003486405363_11328.png: 128x128 1 12, 1 13, 7.8ms\n",
      "image 1714/4118 /home/anderste/ikt450-deep-neural-networks/DNN-prosjekt/segmentation_data_new/test/images/fish_003486405363_11331.png: 128x128 (no detections), 8.1ms\n",
      "image 1715/4118 /home/anderste/ikt450-deep-neural-networks/DNN-prosjekt/segmentation_data_new/test/images/fish_003486445364_15370.png: 128x128 1 1, 7.5ms\n",
      "image 1716/4118 /home/anderste/ikt450-deep-neural-networks/DNN-prosjekt/segmentation_data_new/test/images/fish_003486615363_11259.png: 128x128 1 12, 7.5ms\n",
      "image 1717/4118 /home/anderste/ikt450-deep-neural-networks/DNN-prosjekt/segmentation_data_new/test/images/fish_003486615363_11260.png: 128x128 1 12, 7.5ms\n",
      "image 1718/4118 /home/anderste/ikt450-deep-neural-networks/DNN-prosjekt/segmentation_data_new/test/images/fish_003486655364_22212.png: 128x128 1 3, 7.5ms\n",
      "image 1719/4118 /home/anderste/ikt450-deep-neural-networks/DNN-prosjekt/segmentation_data_new/test/images/fish_003487235364_14324.png: 128x128 1 1, 7.6ms\n",
      "image 1720/4118 /home/anderste/ikt450-deep-neural-networks/DNN-prosjekt/segmentation_data_new/test/images/fish_003487235364_14913.png: 128x128 1 1, 8.4ms\n",
      "image 1721/4118 /home/anderste/ikt450-deep-neural-networks/DNN-prosjekt/segmentation_data_new/test/images/fish_003487265364_17775.png: 128x128 1 2, 7.6ms\n",
      "image 1722/4118 /home/anderste/ikt450-deep-neural-networks/DNN-prosjekt/segmentation_data_new/test/images/fish_003489625366_14093.png: 128x128 1 1, 7.5ms\n",
      "image 1723/4118 /home/anderste/ikt450-deep-neural-networks/DNN-prosjekt/segmentation_data_new/test/images/fish_003489695366_23432.png: 128x128 1 1, 7.4ms\n",
      "image 1724/4118 /home/anderste/ikt450-deep-neural-networks/DNN-prosjekt/segmentation_data_new/test/images/fish_003489825366_11086.png: 128x128 1 1, 7.5ms\n",
      "image 1725/4118 /home/anderste/ikt450-deep-neural-networks/DNN-prosjekt/segmentation_data_new/test/images/fish_003489825366_11087.png: 128x128 1 1, 7.5ms\n",
      "image 1726/4118 /home/anderste/ikt450-deep-neural-networks/DNN-prosjekt/segmentation_data_new/test/images/fish_003489825366_18271.png: 128x128 1 1, 8.0ms\n",
      "image 1727/4118 /home/anderste/ikt450-deep-neural-networks/DNN-prosjekt/segmentation_data_new/test/images/fish_003489855366_12037.png: 128x128 1 1, 7.7ms\n",
      "image 1728/4118 /home/anderste/ikt450-deep-neural-networks/DNN-prosjekt/segmentation_data_new/test/images/fish_003489875366_11117.png: 128x128 1 1, 7.6ms\n",
      "image 1729/4118 /home/anderste/ikt450-deep-neural-networks/DNN-prosjekt/segmentation_data_new/test/images/fish_003490025366_14707.png: 128x128 1 1, 7.5ms\n",
      "image 1730/4118 /home/anderste/ikt450-deep-neural-networks/DNN-prosjekt/segmentation_data_new/test/images/fish_003490025366_18764.png: 128x128 1 1, 7.6ms\n",
      "image 1731/4118 /home/anderste/ikt450-deep-neural-networks/DNN-prosjekt/segmentation_data_new/test/images/fish_003490025366_18783.png: 128x128 1 1, 7.6ms\n",
      "image 1732/4118 /home/anderste/ikt450-deep-neural-networks/DNN-prosjekt/segmentation_data_new/test/images/fish_003490025366_21850.png: 128x128 1 1, 7.6ms\n",
      "image 1733/4118 /home/anderste/ikt450-deep-neural-networks/DNN-prosjekt/segmentation_data_new/test/images/fish_003490035366_11049.png: 128x128 1 1, 7.5ms\n",
      "image 1734/4118 /home/anderste/ikt450-deep-neural-networks/DNN-prosjekt/segmentation_data_new/test/images/fish_003490065366_18757.png: 128x128 1 1, 7.5ms\n",
      "image 1735/4118 /home/anderste/ikt450-deep-neural-networks/DNN-prosjekt/segmentation_data_new/test/images/fish_003490065366_24570.png: 128x128 1 1, 7.6ms\n",
      "image 1736/4118 /home/anderste/ikt450-deep-neural-networks/DNN-prosjekt/segmentation_data_new/test/images/fish_003490075366_18751.png: 128x128 1 1, 7.6ms\n",
      "image 1737/4118 /home/anderste/ikt450-deep-neural-networks/DNN-prosjekt/segmentation_data_new/test/images/fish_003490105366_21717.png: 128x128 1 1, 7.5ms\n",
      "image 1738/4118 /home/anderste/ikt450-deep-neural-networks/DNN-prosjekt/segmentation_data_new/test/images/fish_003490115366_11107.png: 128x128 1 1, 7.5ms\n",
      "image 1739/4118 /home/anderste/ikt450-deep-neural-networks/DNN-prosjekt/segmentation_data_new/test/images/fish_003490145366_11138.png: 128x128 1 1, 8.0ms\n",
      "image 1740/4118 /home/anderste/ikt450-deep-neural-networks/DNN-prosjekt/segmentation_data_new/test/images/fish_003490145366_11197.png: 128x128 1 1, 7.6ms\n",
      "image 1741/4118 /home/anderste/ikt450-deep-neural-networks/DNN-prosjekt/segmentation_data_new/test/images/fish_003490285366_18105.png: 128x128 1 1, 7.6ms\n",
      "image 1742/4118 /home/anderste/ikt450-deep-neural-networks/DNN-prosjekt/segmentation_data_new/test/images/fish_003490415366_11066.png: 128x128 1 1, 7.7ms\n",
      "image 1743/4118 /home/anderste/ikt450-deep-neural-networks/DNN-prosjekt/segmentation_data_new/test/images/fish_003490545366_18845.png: 128x128 1 1, 7.6ms\n",
      "image 1744/4118 /home/anderste/ikt450-deep-neural-networks/DNN-prosjekt/segmentation_data_new/test/images/fish_003490665366_10992.png: 128x128 1 1, 7.6ms\n",
      "image 1745/4118 /home/anderste/ikt450-deep-neural-networks/DNN-prosjekt/segmentation_data_new/test/images/fish_003490665366_16614.png: 128x128 1 1, 7.6ms\n",
      "image 1746/4118 /home/anderste/ikt450-deep-neural-networks/DNN-prosjekt/segmentation_data_new/test/images/fish_003490715366_18656.png: 128x128 1 1, 8.8ms\n",
      "image 1747/4118 /home/anderste/ikt450-deep-neural-networks/DNN-prosjekt/segmentation_data_new/test/images/fish_003490745366_10967.png: 128x128 1 1, 7.6ms\n",
      "image 1748/4118 /home/anderste/ikt450-deep-neural-networks/DNN-prosjekt/segmentation_data_new/test/images/fish_003490745366_18063.png: 128x128 1 1, 7.5ms\n",
      "image 1749/4118 /home/anderste/ikt450-deep-neural-networks/DNN-prosjekt/segmentation_data_new/test/images/fish_003490795366_18646.png: 128x128 1 0, 7.5ms\n",
      "image 1750/4118 /home/anderste/ikt450-deep-neural-networks/DNN-prosjekt/segmentation_data_new/test/images/fish_003490805366_18799.png: 128x128 1 1, 7.7ms\n",
      "image 1751/4118 /home/anderste/ikt450-deep-neural-networks/DNN-prosjekt/segmentation_data_new/test/images/fish_003490885366_11093.png: 128x128 1 1, 7.7ms\n",
      "image 1752/4118 /home/anderste/ikt450-deep-neural-networks/DNN-prosjekt/segmentation_data_new/test/images/fish_003493535369_18066.png: 128x128 1 1, 7.5ms\n",
      "image 1753/4118 /home/anderste/ikt450-deep-neural-networks/DNN-prosjekt/segmentation_data_new/test/images/fish_003493555369_18675.png: 128x128 1 1, 7.6ms\n",
      "image 1754/4118 /home/anderste/ikt450-deep-neural-networks/DNN-prosjekt/segmentation_data_new/test/images/fish_003493665369_20150.png: 128x128 1 1, 7.9ms\n",
      "image 1755/4118 /home/anderste/ikt450-deep-neural-networks/DNN-prosjekt/segmentation_data_new/test/images/fish_003493675369_19150.png: 128x128 1 1, 8.6ms\n",
      "image 1756/4118 /home/anderste/ikt450-deep-neural-networks/DNN-prosjekt/segmentation_data_new/test/images/fish_003493675369_24574.png: 128x128 1 1, 7.6ms\n",
      "image 1757/4118 /home/anderste/ikt450-deep-neural-networks/DNN-prosjekt/segmentation_data_new/test/images/fish_003493685369_11878.png: 128x128 1 1, 7.6ms\n",
      "image 1758/4118 /home/anderste/ikt450-deep-neural-networks/DNN-prosjekt/segmentation_data_new/test/images/fish_003493735369_18251.png: 128x128 1 1, 7.6ms\n",
      "image 1759/4118 /home/anderste/ikt450-deep-neural-networks/DNN-prosjekt/segmentation_data_new/test/images/fish_003493865369_11423.png: 128x128 1 1, 7.6ms\n",
      "image 1760/4118 /home/anderste/ikt450-deep-neural-networks/DNN-prosjekt/segmentation_data_new/test/images/fish_003493985369_18648.png: 128x128 1 1, 7.7ms\n",
      "image 1761/4118 /home/anderste/ikt450-deep-neural-networks/DNN-prosjekt/segmentation_data_new/test/images/fish_003494085369_10920.png: 128x128 1 1, 7.5ms\n",
      "image 1762/4118 /home/anderste/ikt450-deep-neural-networks/DNN-prosjekt/segmentation_data_new/test/images/fish_003494095369_10896.png: 128x128 1 1, 8.1ms\n",
      "image 1763/4118 /home/anderste/ikt450-deep-neural-networks/DNN-prosjekt/segmentation_data_new/test/images/fish_003494155369_10943.png: 128x128 1 1, 7.4ms\n",
      "image 1764/4118 /home/anderste/ikt450-deep-neural-networks/DNN-prosjekt/segmentation_data_new/test/images/fish_003494775372_26813.png: 128x128 1 2, 7.7ms\n",
      "image 1765/4118 /home/anderste/ikt450-deep-neural-networks/DNN-prosjekt/segmentation_data_new/test/images/fish_003494805372_13112.png: 128x128 1 2, 7.6ms\n",
      "image 1766/4118 /home/anderste/ikt450-deep-neural-networks/DNN-prosjekt/segmentation_data_new/test/images/fish_003495095372_13200.png: 128x128 1 0, 1 1, 7.6ms\n",
      "image 1767/4118 /home/anderste/ikt450-deep-neural-networks/DNN-prosjekt/segmentation_data_new/test/images/fish_003495095372_26404.png: 128x128 1 0, 1 1, 7.7ms\n",
      "image 1768/4118 /home/anderste/ikt450-deep-neural-networks/DNN-prosjekt/segmentation_data_new/test/images/fish_003495295372_10775.png: 128x128 1 0, 1 1, 7.6ms\n",
      "image 1769/4118 /home/anderste/ikt450-deep-neural-networks/DNN-prosjekt/segmentation_data_new/test/images/fish_003495325372_26565.png: 128x128 1 0, 7.6ms\n",
      "image 1770/4118 /home/anderste/ikt450-deep-neural-networks/DNN-prosjekt/segmentation_data_new/test/images/fish_003496825374_10708.png: 128x128 1 1, 7.7ms\n",
      "image 1771/4118 /home/anderste/ikt450-deep-neural-networks/DNN-prosjekt/segmentation_data_new/test/images/fish_003497065374_18661.png: 128x128 1 1, 7.6ms\n",
      "image 1772/4118 /home/anderste/ikt450-deep-neural-networks/DNN-prosjekt/segmentation_data_new/test/images/fish_003497185374_24223.png: 128x128 1 1, 7.5ms\n",
      "image 1773/4118 /home/anderste/ikt450-deep-neural-networks/DNN-prosjekt/segmentation_data_new/test/images/fish_003497365374_21785.png: 128x128 1 1, 7.7ms\n",
      "image 1774/4118 /home/anderste/ikt450-deep-neural-networks/DNN-prosjekt/segmentation_data_new/test/images/fish_003497385374_18707.png: 128x128 1 0, 1 1, 7.6ms\n",
      "image 1775/4118 /home/anderste/ikt450-deep-neural-networks/DNN-prosjekt/segmentation_data_new/test/images/fish_003497435374_18104.png: 128x128 1 1, 8.1ms\n",
      "image 1776/4118 /home/anderste/ikt450-deep-neural-networks/DNN-prosjekt/segmentation_data_new/test/images/fish_003497435374_18226.png: 128x128 1 1, 7.6ms\n",
      "image 1777/4118 /home/anderste/ikt450-deep-neural-networks/DNN-prosjekt/segmentation_data_new/test/images/fish_003497435374_20616.png: 128x128 1 1, 7.6ms\n",
      "image 1778/4118 /home/anderste/ikt450-deep-neural-networks/DNN-prosjekt/segmentation_data_new/test/images/fish_003497455374_17458.png: 128x128 1 1, 7.7ms\n",
      "image 1779/4118 /home/anderste/ikt450-deep-neural-networks/DNN-prosjekt/segmentation_data_new/test/images/fish_003497455374_24973.png: 128x128 1 1, 7.8ms\n",
      "image 1780/4118 /home/anderste/ikt450-deep-neural-networks/DNN-prosjekt/segmentation_data_new/test/images/fish_003497485374_16293.png: 128x128 1 1, 7.7ms\n",
      "image 1781/4118 /home/anderste/ikt450-deep-neural-networks/DNN-prosjekt/segmentation_data_new/test/images/fish_003497505374_10697.png: 128x128 1 1, 7.6ms\n",
      "image 1782/4118 /home/anderste/ikt450-deep-neural-networks/DNN-prosjekt/segmentation_data_new/test/images/fish_003497595374_16501.png: 128x128 1 1, 7.8ms\n",
      "image 1783/4118 /home/anderste/ikt450-deep-neural-networks/DNN-prosjekt/segmentation_data_new/test/images/fish_003497595374_23084.png: 128x128 1 1, 7.5ms\n",
      "image 1784/4118 /home/anderste/ikt450-deep-neural-networks/DNN-prosjekt/segmentation_data_new/test/images/fish_003497685374_11100.png: 128x128 1 1, 7.5ms\n",
      "image 1785/4118 /home/anderste/ikt450-deep-neural-networks/DNN-prosjekt/segmentation_data_new/test/images/fish_003497725374_10748.png: 128x128 1 1, 7.5ms\n",
      "image 1786/4118 /home/anderste/ikt450-deep-neural-networks/DNN-prosjekt/segmentation_data_new/test/images/fish_003497725374_11067.png: 128x128 1 1, 7.6ms\n",
      "image 1787/4118 /home/anderste/ikt450-deep-neural-networks/DNN-prosjekt/segmentation_data_new/test/images/fish_003497775374_19275.png: 128x128 1 1, 7.6ms\n",
      "image 1788/4118 /home/anderste/ikt450-deep-neural-networks/DNN-prosjekt/segmentation_data_new/test/images/fish_003497775374_19280.png: 128x128 1 1, 7.6ms\n",
      "image 1789/4118 /home/anderste/ikt450-deep-neural-networks/DNN-prosjekt/segmentation_data_new/test/images/fish_003497805374_17509.png: 128x128 1 1, 7.6ms\n",
      "image 1790/4118 /home/anderste/ikt450-deep-neural-networks/DNN-prosjekt/segmentation_data_new/test/images/fish_003497845374_20438.png: 128x128 1 1, 7.6ms\n",
      "image 1791/4118 /home/anderste/ikt450-deep-neural-networks/DNN-prosjekt/segmentation_data_new/test/images/fish_003497975374_25154.png: 128x128 1 1, 7.6ms\n",
      "image 1792/4118 /home/anderste/ikt450-deep-neural-networks/DNN-prosjekt/segmentation_data_new/test/images/fish_003500755378_24843.png: 128x128 1 1, 7.6ms\n",
      "image 1793/4118 /home/anderste/ikt450-deep-neural-networks/DNN-prosjekt/segmentation_data_new/test/images/fish_003500755378_24858.png: 128x128 1 1, 7.4ms\n",
      "image 1794/4118 /home/anderste/ikt450-deep-neural-networks/DNN-prosjekt/segmentation_data_new/test/images/fish_003500865378_10608.png: 128x128 1 1, 7.5ms\n",
      "image 1795/4118 /home/anderste/ikt450-deep-neural-networks/DNN-prosjekt/segmentation_data_new/test/images/fish_003500915378_14557.png: 128x128 1 1, 7.8ms\n",
      "image 1796/4118 /home/anderste/ikt450-deep-neural-networks/DNN-prosjekt/segmentation_data_new/test/images/fish_003500925378_10580.png: 128x128 1 1, 7.5ms\n",
      "image 1797/4118 /home/anderste/ikt450-deep-neural-networks/DNN-prosjekt/segmentation_data_new/test/images/fish_003500965378_17632.png: 128x128 1 1, 7.5ms\n",
      "image 1798/4118 /home/anderste/ikt450-deep-neural-networks/DNN-prosjekt/segmentation_data_new/test/images/fish_003501185378_10577.png: 128x128 1 1, 7.7ms\n",
      "image 1799/4118 /home/anderste/ikt450-deep-neural-networks/DNN-prosjekt/segmentation_data_new/test/images/fish_003501255378_15872.png: 128x128 1 1, 7.5ms\n",
      "image 1800/4118 /home/anderste/ikt450-deep-neural-networks/DNN-prosjekt/segmentation_data_new/test/images/fish_003501285378_10546.png: 128x128 1 1, 7.7ms\n",
      "image 1801/4118 /home/anderste/ikt450-deep-neural-networks/DNN-prosjekt/segmentation_data_new/test/images/fish_003501385378_23161.png: 128x128 1 1, 7.5ms\n",
      "image 1802/4118 /home/anderste/ikt450-deep-neural-networks/DNN-prosjekt/segmentation_data_new/test/images/fish_003501405378_10893.png: 128x128 1 1, 7.5ms\n",
      "image 1803/4118 /home/anderste/ikt450-deep-neural-networks/DNN-prosjekt/segmentation_data_new/test/images/fish_003501445378_17591.png: 128x128 1 1, 7.6ms\n",
      "image 1804/4118 /home/anderste/ikt450-deep-neural-networks/DNN-prosjekt/segmentation_data_new/test/images/fish_003501455378_20907.png: 128x128 1 1, 7.5ms\n",
      "image 1805/4118 /home/anderste/ikt450-deep-neural-networks/DNN-prosjekt/segmentation_data_new/test/images/fish_003501505378_10928.png: 128x128 1 1, 7.7ms\n",
      "image 1806/4118 /home/anderste/ikt450-deep-neural-networks/DNN-prosjekt/segmentation_data_new/test/images/fish_003501505378_18768.png: 128x128 1 1, 7.6ms\n",
      "image 1807/4118 /home/anderste/ikt450-deep-neural-networks/DNN-prosjekt/segmentation_data_new/test/images/fish_003501515379_18742.png: 128x128 1 0, 1 1, 7.6ms\n",
      "image 1808/4118 /home/anderste/ikt450-deep-neural-networks/DNN-prosjekt/segmentation_data_new/test/images/fish_003501535378_13989.png: 128x128 1 1, 10.4ms\n",
      "image 1809/4118 /home/anderste/ikt450-deep-neural-networks/DNN-prosjekt/segmentation_data_new/test/images/fish_003501655379_10521.png: 128x128 1 0, 1 1, 7.5ms\n",
      "image 1810/4118 /home/anderste/ikt450-deep-neural-networks/DNN-prosjekt/segmentation_data_new/test/images/fish_003501735379_10496.png: 128x128 1 1, 7.6ms\n",
      "image 1811/4118 /home/anderste/ikt450-deep-neural-networks/DNN-prosjekt/segmentation_data_new/test/images/fish_003501745379_24520.png: 128x128 1 0, 7.4ms\n",
      "image 1812/4118 /home/anderste/ikt450-deep-neural-networks/DNN-prosjekt/segmentation_data_new/test/images/fish_003501785378_10481.png: 128x128 1 0, 1 1, 7.7ms\n",
      "image 1813/4118 /home/anderste/ikt450-deep-neural-networks/DNN-prosjekt/segmentation_data_new/test/images/fish_003501785378_10482.png: 128x128 1 0, 1 1, 7.6ms\n",
      "image 1814/4118 /home/anderste/ikt450-deep-neural-networks/DNN-prosjekt/segmentation_data_new/test/images/fish_003501785378_17229.png: 128x128 1 1, 7.6ms\n",
      "image 1815/4118 /home/anderste/ikt450-deep-neural-networks/DNN-prosjekt/segmentation_data_new/test/images/fish_003501915378_18048.png: 128x128 1 1, 7.7ms\n",
      "image 1816/4118 /home/anderste/ikt450-deep-neural-networks/DNN-prosjekt/segmentation_data_new/test/images/fish_003501985378_18688.png: 128x128 1 1, 7.6ms\n",
      "image 1817/4118 /home/anderste/ikt450-deep-neural-networks/DNN-prosjekt/segmentation_data_new/test/images/fish_003502965380_10441.png: 128x128 1 5, 7.6ms\n",
      "image 1818/4118 /home/anderste/ikt450-deep-neural-networks/DNN-prosjekt/segmentation_data_new/test/images/fish_003502965380_18629.png: 128x128 1 5, 7.6ms\n",
      "image 1819/4118 /home/anderste/ikt450-deep-neural-networks/DNN-prosjekt/segmentation_data_new/test/images/fish_003503055380_10434.png: 128x128 1 5, 7.6ms\n",
      "image 1820/4118 /home/anderste/ikt450-deep-neural-networks/DNN-prosjekt/segmentation_data_new/test/images/fish_003503055380_18564.png: 128x128 1 5, 7.5ms\n",
      "image 1821/4118 /home/anderste/ikt450-deep-neural-networks/DNN-prosjekt/segmentation_data_new/test/images/fish_003503405380_11439.png: 128x128 1 5, 7.6ms\n",
      "image 1822/4118 /home/anderste/ikt450-deep-neural-networks/DNN-prosjekt/segmentation_data_new/test/images/fish_003503405380_25760.png: 128x128 1 5, 7.6ms\n",
      "image 1823/4118 /home/anderste/ikt450-deep-neural-networks/DNN-prosjekt/segmentation_data_new/test/images/fish_003505375383_10376.png: 128x128 1 1, 7.6ms\n",
      "image 1824/4118 /home/anderste/ikt450-deep-neural-networks/DNN-prosjekt/segmentation_data_new/test/images/fish_003505555383_16026.png: 128x128 1 1, 1 2, 7.6ms\n",
      "image 1825/4118 /home/anderste/ikt450-deep-neural-networks/DNN-prosjekt/segmentation_data_new/test/images/fish_003506000101_03383.png: 128x128 1 1, 8.3ms\n",
      "image 1826/4118 /home/anderste/ikt450-deep-neural-networks/DNN-prosjekt/segmentation_data_new/test/images/fish_003506000103_03364.png: 128x128 1 3, 7.7ms\n",
      "image 1827/4118 /home/anderste/ikt450-deep-neural-networks/DNN-prosjekt/segmentation_data_new/test/images/fish_003506000103_03366.png: 128x128 1 3, 7.5ms\n",
      "image 1828/4118 /home/anderste/ikt450-deep-neural-networks/DNN-prosjekt/segmentation_data_new/test/images/fish_003506000103_03369.png: 128x128 1 3, 7.5ms\n",
      "image 1829/4118 /home/anderste/ikt450-deep-neural-networks/DNN-prosjekt/segmentation_data_new/test/images/fish_003506445386_15568.png: 128x128 1 1, 8.0ms\n",
      "image 1830/4118 /home/anderste/ikt450-deep-neural-networks/DNN-prosjekt/segmentation_data_new/test/images/fish_003506505386_26227.png: 128x128 1 0, 1 1, 7.5ms\n",
      "image 1831/4118 /home/anderste/ikt450-deep-neural-networks/DNN-prosjekt/segmentation_data_new/test/images/fish_003506675386_10321.png: 128x128 1 0, 7.6ms\n",
      "image 1832/4118 /home/anderste/ikt450-deep-neural-networks/DNN-prosjekt/segmentation_data_new/test/images/fish_003506675386_13735.png: 128x128 1 1, 7.6ms\n",
      "image 1833/4118 /home/anderste/ikt450-deep-neural-networks/DNN-prosjekt/segmentation_data_new/test/images/fish_003508705390_13907.png: 128x128 1 2, 7.5ms\n",
      "image 1834/4118 /home/anderste/ikt450-deep-neural-networks/DNN-prosjekt/segmentation_data_new/test/images/fish_003508765390_10325.png: 128x128 1 1, 7.5ms\n",
      "image 1835/4118 /home/anderste/ikt450-deep-neural-networks/DNN-prosjekt/segmentation_data_new/test/images/fish_003508785390_17141.png: 128x128 1 2, 7.5ms\n",
      "image 1836/4118 /home/anderste/ikt450-deep-neural-networks/DNN-prosjekt/segmentation_data_new/test/images/fish_003509765395_09243.png: 128x128 1 1, 7.6ms\n",
      "image 1837/4118 /home/anderste/ikt450-deep-neural-networks/DNN-prosjekt/segmentation_data_new/test/images/fish_003511385406_19735.png: 128x128 1 5, 7.3ms\n",
      "image 1838/4118 /home/anderste/ikt450-deep-neural-networks/DNN-prosjekt/segmentation_data_new/test/images/fish_003511395406_11590.png: 128x128 1 5, 7.6ms\n",
      "image 1839/4118 /home/anderste/ikt450-deep-neural-networks/DNN-prosjekt/segmentation_data_new/test/images/fish_003511445406_19749.png: 128x128 1 5, 8.2ms\n",
      "image 1840/4118 /home/anderste/ikt450-deep-neural-networks/DNN-prosjekt/segmentation_data_new/test/images/fish_003512205409_11788.png: 128x128 1 0, 1 1, 7.7ms\n",
      "image 1841/4118 /home/anderste/ikt450-deep-neural-networks/DNN-prosjekt/segmentation_data_new/test/images/fish_003513575411_10200.png: 128x128 1 1, 7.6ms\n",
      "image 1842/4118 /home/anderste/ikt450-deep-neural-networks/DNN-prosjekt/segmentation_data_new/test/images/fish_003513575411_10202.png: 128x128 1 1, 7.8ms\n",
      "image 1843/4118 /home/anderste/ikt450-deep-neural-networks/DNN-prosjekt/segmentation_data_new/test/images/fish_003513835411_26675.png: 128x128 1 1, 7.6ms\n",
      "image 1844/4118 /home/anderste/ikt450-deep-neural-networks/DNN-prosjekt/segmentation_data_new/test/images/fish_003513835411_26701.png: 128x128 1 1, 7.9ms\n",
      "image 1845/4118 /home/anderste/ikt450-deep-neural-networks/DNN-prosjekt/segmentation_data_new/test/images/fish_003513845411_13135.png: 128x128 1 2, 7.5ms\n",
      "image 1846/4118 /home/anderste/ikt450-deep-neural-networks/DNN-prosjekt/segmentation_data_new/test/images/fish_003515305414_10179.png: 128x128 1 3, 7.6ms\n",
      "image 1847/4118 /home/anderste/ikt450-deep-neural-networks/DNN-prosjekt/segmentation_data_new/test/images/fish_003515305414_10221.png: 128x128 1 3, 7.6ms\n",
      "image 1848/4118 /home/anderste/ikt450-deep-neural-networks/DNN-prosjekt/segmentation_data_new/test/images/fish_003515305414_24959.png: 128x128 1 3, 7.6ms\n",
      "image 1849/4118 /home/anderste/ikt450-deep-neural-networks/DNN-prosjekt/segmentation_data_new/test/images/fish_003515315414_11114.png: 128x128 1 1, 7.6ms\n",
      "image 1850/4118 /home/anderste/ikt450-deep-neural-networks/DNN-prosjekt/segmentation_data_new/test/images/fish_003515465414_15234.png: 128x128 1 3, 7.7ms\n",
      "image 1851/4118 /home/anderste/ikt450-deep-neural-networks/DNN-prosjekt/segmentation_data_new/test/images/fish_003515525414_18263.png: 128x128 1 1, 7.7ms\n",
      "image 1852/4118 /home/anderste/ikt450-deep-neural-networks/DNN-prosjekt/segmentation_data_new/test/images/fish_003515705414_21870.png: 128x128 1 3, 7.7ms\n",
      "image 1853/4118 /home/anderste/ikt450-deep-neural-networks/DNN-prosjekt/segmentation_data_new/test/images/fish_003515755415_23552.png: 128x128 1 3, 8.6ms\n",
      "image 1854/4118 /home/anderste/ikt450-deep-neural-networks/DNN-prosjekt/segmentation_data_new/test/images/fish_003515895415_14158.png: 128x128 1 3, 7.6ms\n",
      "image 1855/4118 /home/anderste/ikt450-deep-neural-networks/DNN-prosjekt/segmentation_data_new/test/images/fish_003515905415_22862.png: 128x128 1 1, 7.7ms\n",
      "image 1856/4118 /home/anderste/ikt450-deep-neural-networks/DNN-prosjekt/segmentation_data_new/test/images/fish_003515925415_22168.png: 128x128 1 1, 9.1ms\n",
      "image 1857/4118 /home/anderste/ikt450-deep-neural-networks/DNN-prosjekt/segmentation_data_new/test/images/fish_003515975415_15465.png: 128x128 1 3, 7.7ms\n",
      "image 1858/4118 /home/anderste/ikt450-deep-neural-networks/DNN-prosjekt/segmentation_data_new/test/images/fish_003515975415_22939.png: 128x128 1 3, 7.6ms\n",
      "image 1859/4118 /home/anderste/ikt450-deep-neural-networks/DNN-prosjekt/segmentation_data_new/test/images/fish_003516075415_10072.png: 128x128 1 2, 7.5ms\n",
      "image 1860/4118 /home/anderste/ikt450-deep-neural-networks/DNN-prosjekt/segmentation_data_new/test/images/fish_003516075415_10073.png: 128x128 1 2, 7.5ms\n",
      "image 1861/4118 /home/anderste/ikt450-deep-neural-networks/DNN-prosjekt/segmentation_data_new/test/images/fish_003516075415_24151.png: 128x128 1 2, 7.5ms\n",
      "image 1862/4118 /home/anderste/ikt450-deep-neural-networks/DNN-prosjekt/segmentation_data_new/test/images/fish_003516085414_10095.png: 128x128 1 3, 8.3ms\n",
      "image 1863/4118 /home/anderste/ikt450-deep-neural-networks/DNN-prosjekt/segmentation_data_new/test/images/fish_003516175415_14152.png: 128x128 1 3, 7.6ms\n",
      "image 1864/4118 /home/anderste/ikt450-deep-neural-networks/DNN-prosjekt/segmentation_data_new/test/images/fish_003516245415_14556.png: 128x128 1 1, 7.6ms\n",
      "image 1865/4118 /home/anderste/ikt450-deep-neural-networks/DNN-prosjekt/segmentation_data_new/test/images/fish_003516435414_10120.png: 128x128 1 3, 7.7ms\n",
      "image 1866/4118 /home/anderste/ikt450-deep-neural-networks/DNN-prosjekt/segmentation_data_new/test/images/fish_003516455415_27047.png: 128x128 1 1, 7.7ms\n",
      "image 1867/4118 /home/anderste/ikt450-deep-neural-networks/DNN-prosjekt/segmentation_data_new/test/images/fish_003516535414_10386.png: 128x128 1 3, 7.5ms\n",
      "image 1868/4118 /home/anderste/ikt450-deep-neural-networks/DNN-prosjekt/segmentation_data_new/test/images/fish_003516895416_09928.png: 128x128 1 6, 7.8ms\n",
      "image 1869/4118 /home/anderste/ikt450-deep-neural-networks/DNN-prosjekt/segmentation_data_new/test/images/fish_003516895416_09933.png: 128x128 1 6, 7.7ms\n",
      "image 1870/4118 /home/anderste/ikt450-deep-neural-networks/DNN-prosjekt/segmentation_data_new/test/images/fish_003516895416_21860.png: 128x128 1 6, 7.6ms\n",
      "image 1871/4118 /home/anderste/ikt450-deep-neural-networks/DNN-prosjekt/segmentation_data_new/test/images/fish_003516895416_21861.png: 128x128 1 6, 7.4ms\n",
      "image 1872/4118 /home/anderste/ikt450-deep-neural-networks/DNN-prosjekt/segmentation_data_new/test/images/fish_003516895416_23216.png: 128x128 1 6, 7.6ms\n",
      "image 1873/4118 /home/anderste/ikt450-deep-neural-networks/DNN-prosjekt/segmentation_data_new/test/images/fish_003517235415_22844.png: 128x128 1 1, 7.8ms\n",
      "image 1874/4118 /home/anderste/ikt450-deep-neural-networks/DNN-prosjekt/segmentation_data_new/test/images/fish_003517295415_22616.png: 128x128 1 1, 7.6ms\n",
      "image 1875/4118 /home/anderste/ikt450-deep-neural-networks/DNN-prosjekt/segmentation_data_new/test/images/fish_003517405415_11173.png: 128x128 1 1, 7.5ms\n",
      "image 1876/4118 /home/anderste/ikt450-deep-neural-networks/DNN-prosjekt/segmentation_data_new/test/images/fish_003517405415_13052.png: 128x128 1 1, 7.6ms\n",
      "image 1877/4118 /home/anderste/ikt450-deep-neural-networks/DNN-prosjekt/segmentation_data_new/test/images/fish_003517545415_09898.png: 128x128 1 2, 7.6ms\n",
      "image 1878/4118 /home/anderste/ikt450-deep-neural-networks/DNN-prosjekt/segmentation_data_new/test/images/fish_003517575415_09890.png: 128x128 1 3, 7.7ms\n",
      "image 1879/4118 /home/anderste/ikt450-deep-neural-networks/DNN-prosjekt/segmentation_data_new/test/images/fish_003517975416_25348.png: 128x128 1 0, 1 1, 7.6ms\n",
      "image 1880/4118 /home/anderste/ikt450-deep-neural-networks/DNN-prosjekt/segmentation_data_new/test/images/fish_003523205417_12076.png: 128x128 1 1, 7.5ms\n",
      "image 1881/4118 /home/anderste/ikt450-deep-neural-networks/DNN-prosjekt/segmentation_data_new/test/images/fish_003524005417_18322.png: 128x128 1 1, 7.7ms\n",
      "image 1882/4118 /home/anderste/ikt450-deep-neural-networks/DNN-prosjekt/segmentation_data_new/test/images/fish_003524475417_09845.png: 128x128 1 2, 7.6ms\n",
      "image 1883/4118 /home/anderste/ikt450-deep-neural-networks/DNN-prosjekt/segmentation_data_new/test/images/fish_003524695417_09874.png: 128x128 1 1, 8.2ms\n",
      "image 1884/4118 /home/anderste/ikt450-deep-neural-networks/DNN-prosjekt/segmentation_data_new/test/images/fish_003524695417_21786.png: 128x128 1 1, 7.5ms\n",
      "image 1885/4118 /home/anderste/ikt450-deep-neural-networks/DNN-prosjekt/segmentation_data_new/test/images/fish_003524695417_22529.png: 128x128 1 1, 8.2ms\n",
      "image 1886/4118 /home/anderste/ikt450-deep-neural-networks/DNN-prosjekt/segmentation_data_new/test/images/fish_003524695417_22615.png: 128x128 1 1, 7.6ms\n",
      "image 1887/4118 /home/anderste/ikt450-deep-neural-networks/DNN-prosjekt/segmentation_data_new/test/images/fish_003525065417_09818.png: 128x128 1 1, 7.6ms\n",
      "image 1888/4118 /home/anderste/ikt450-deep-neural-networks/DNN-prosjekt/segmentation_data_new/test/images/fish_003525555417_16516.png: 128x128 1 1, 7.6ms\n",
      "image 1889/4118 /home/anderste/ikt450-deep-neural-networks/DNN-prosjekt/segmentation_data_new/test/images/fish_003525795417_13812.png: 128x128 1 1, 7.6ms\n",
      "image 1890/4118 /home/anderste/ikt450-deep-neural-networks/DNN-prosjekt/segmentation_data_new/test/images/fish_003525825417_21788.png: 128x128 1 1, 7.6ms\n",
      "image 1891/4118 /home/anderste/ikt450-deep-neural-networks/DNN-prosjekt/segmentation_data_new/test/images/fish_003525875417_09757.png: 128x128 1 2, 7.6ms\n",
      "image 1892/4118 /home/anderste/ikt450-deep-neural-networks/DNN-prosjekt/segmentation_data_new/test/images/fish_003525895417_10446.png: 128x128 1 1, 8.3ms\n",
      "image 1893/4118 /home/anderste/ikt450-deep-neural-networks/DNN-prosjekt/segmentation_data_new/test/images/fish_003525895417_15754.png: 128x128 1 1, 7.5ms\n",
      "image 1894/4118 /home/anderste/ikt450-deep-neural-networks/DNN-prosjekt/segmentation_data_new/test/images/fish_003526225419_12482.png: 128x128 1 2, 7.7ms\n",
      "image 1895/4118 /home/anderste/ikt450-deep-neural-networks/DNN-prosjekt/segmentation_data_new/test/images/fish_003526625419_09873.png: 128x128 1 2, 1 3, 7.7ms\n",
      "image 1896/4118 /home/anderste/ikt450-deep-neural-networks/DNN-prosjekt/segmentation_data_new/test/images/fish_003526625419_23443.png: 128x128 1 2, 7.6ms\n",
      "image 1897/4118 /home/anderste/ikt450-deep-neural-networks/DNN-prosjekt/segmentation_data_new/test/images/fish_003526665419_09723.png: 128x128 1 2, 7.7ms\n",
      "image 1898/4118 /home/anderste/ikt450-deep-neural-networks/DNN-prosjekt/segmentation_data_new/test/images/fish_003527045419_09701.png: 96x128 1 9, 8.3ms\n",
      "image 1899/4118 /home/anderste/ikt450-deep-neural-networks/DNN-prosjekt/segmentation_data_new/test/images/fish_003527045419_09702.png: 128x128 1 9, 8.1ms\n",
      "image 1900/4118 /home/anderste/ikt450-deep-neural-networks/DNN-prosjekt/segmentation_data_new/test/images/fish_003527175419_12749.png: 128x128 1 1, 7.7ms\n",
      "image 1901/4118 /home/anderste/ikt450-deep-neural-networks/DNN-prosjekt/segmentation_data_new/test/images/fish_003527285419_09684.png: 128x128 1 9, 8.4ms\n",
      "image 1902/4118 /home/anderste/ikt450-deep-neural-networks/DNN-prosjekt/segmentation_data_new/test/images/fish_003527285419_11374.png: 128x128 1 9, 7.8ms\n",
      "image 1903/4118 /home/anderste/ikt450-deep-neural-networks/DNN-prosjekt/segmentation_data_new/test/images/fish_003527625419_23812.png: 128x128 1 2, 8.9ms\n",
      "image 1904/4118 /home/anderste/ikt450-deep-neural-networks/DNN-prosjekt/segmentation_data_new/test/images/fish_003527835419_23813.png: 128x128 1 2, 8.3ms\n",
      "image 1905/4118 /home/anderste/ikt450-deep-neural-networks/DNN-prosjekt/segmentation_data_new/test/images/fish_003532995422_22045.png: 128x128 1 1, 8.1ms\n",
      "image 1906/4118 /home/anderste/ikt450-deep-neural-networks/DNN-prosjekt/segmentation_data_new/test/images/fish_003533675426_17875.png: 128x128 1 5, 8.1ms\n",
      "image 1907/4118 /home/anderste/ikt450-deep-neural-networks/DNN-prosjekt/segmentation_data_new/test/images/fish_003533865426_20979.png: 128x128 1 12, 7.9ms\n",
      "image 1908/4118 /home/anderste/ikt450-deep-neural-networks/DNN-prosjekt/segmentation_data_new/test/images/fish_003533955426_10910.png: 128x128 1 5, 7.5ms\n",
      "image 1909/4118 /home/anderste/ikt450-deep-neural-networks/DNN-prosjekt/segmentation_data_new/test/images/fish_003535035429_17610.png: 128x128 1 0, 7.7ms\n",
      "image 1910/4118 /home/anderste/ikt450-deep-neural-networks/DNN-prosjekt/segmentation_data_new/test/images/fish_003535045429_16531.png: 128x128 1 1, 7.9ms\n",
      "image 1911/4118 /home/anderste/ikt450-deep-neural-networks/DNN-prosjekt/segmentation_data_new/test/images/fish_003535085429_24429.png: 128x128 1 1, 7.9ms\n",
      "image 1912/4118 /home/anderste/ikt450-deep-neural-networks/DNN-prosjekt/segmentation_data_new/test/images/fish_003535205429_17402.png: 128x128 1 1, 7.6ms\n",
      "image 1913/4118 /home/anderste/ikt450-deep-neural-networks/DNN-prosjekt/segmentation_data_new/test/images/fish_003535205429_17405.png: 128x128 1 1, 7.6ms\n",
      "image 1914/4118 /home/anderste/ikt450-deep-neural-networks/DNN-prosjekt/segmentation_data_new/test/images/fish_003535265429_18292.png: 128x128 1 1, 7.8ms\n",
      "image 1915/4118 /home/anderste/ikt450-deep-neural-networks/DNN-prosjekt/segmentation_data_new/test/images/fish_003535285429_09540.png: 128x128 1 0, 1 1, 7.5ms\n",
      "image 1916/4118 /home/anderste/ikt450-deep-neural-networks/DNN-prosjekt/segmentation_data_new/test/images/fish_003535335429_18762.png: 128x128 1 1, 8.2ms\n",
      "image 1917/4118 /home/anderste/ikt450-deep-neural-networks/DNN-prosjekt/segmentation_data_new/test/images/fish_003535355429_26520.png: 128x128 1 1, 7.7ms\n",
      "image 1918/4118 /home/anderste/ikt450-deep-neural-networks/DNN-prosjekt/segmentation_data_new/test/images/fish_003535575429_21704.png: 128x128 1 1, 7.5ms\n",
      "image 1919/4118 /home/anderste/ikt450-deep-neural-networks/DNN-prosjekt/segmentation_data_new/test/images/fish_003535695429_09624.png: 128x128 1 1, 7.6ms\n",
      "image 1920/4118 /home/anderste/ikt450-deep-neural-networks/DNN-prosjekt/segmentation_data_new/test/images/fish_003535715429_09618.png: 128x128 1 1, 7.6ms\n",
      "image 1921/4118 /home/anderste/ikt450-deep-neural-networks/DNN-prosjekt/segmentation_data_new/test/images/fish_003535725429_16836.png: 128x128 1 1, 7.6ms\n",
      "image 1922/4118 /home/anderste/ikt450-deep-neural-networks/DNN-prosjekt/segmentation_data_new/test/images/fish_003535725429_21518.png: 128x128 1 1, 7.6ms\n",
      "image 1923/4118 /home/anderste/ikt450-deep-neural-networks/DNN-prosjekt/segmentation_data_new/test/images/fish_003535745429_09600.png: 128x128 1 1, 7.6ms\n",
      "image 1924/4118 /home/anderste/ikt450-deep-neural-networks/DNN-prosjekt/segmentation_data_new/test/images/fish_003537345434_11160.png: 128x128 1 0, 1 1, 7.9ms\n",
      "image 1925/4118 /home/anderste/ikt450-deep-neural-networks/DNN-prosjekt/segmentation_data_new/test/images/fish_003537485434_09754.png: 128x128 1 1, 1 2, 7.7ms\n",
      "image 1926/4118 /home/anderste/ikt450-deep-neural-networks/DNN-prosjekt/segmentation_data_new/test/images/fish_003537495434_12725.png: 128x128 1 2, 7.8ms\n",
      "image 1927/4118 /home/anderste/ikt450-deep-neural-networks/DNN-prosjekt/segmentation_data_new/test/images/fish_003537495434_25979.png: 128x128 1 2, 7.7ms\n",
      "image 1928/4118 /home/anderste/ikt450-deep-neural-networks/DNN-prosjekt/segmentation_data_new/test/images/fish_003539655441_21851.png: 128x128 1 4, 7.6ms\n",
      "image 1929/4118 /home/anderste/ikt450-deep-neural-networks/DNN-prosjekt/segmentation_data_new/test/images/fish_003539685441_22245.png: 128x128 1 4, 7.6ms\n",
      "image 1930/4118 /home/anderste/ikt450-deep-neural-networks/DNN-prosjekt/segmentation_data_new/test/images/fish_003539685441_22266.png: 128x128 1 4, 8.0ms\n",
      "image 1931/4118 /home/anderste/ikt450-deep-neural-networks/DNN-prosjekt/segmentation_data_new/test/images/fish_003539685441_24615.png: 128x128 1 4, 7.6ms\n",
      "image 1932/4118 /home/anderste/ikt450-deep-neural-networks/DNN-prosjekt/segmentation_data_new/test/images/fish_003539745441_15847.png: 128x128 1 4, 7.8ms\n",
      "image 1933/4118 /home/anderste/ikt450-deep-neural-networks/DNN-prosjekt/segmentation_data_new/test/images/fish_003539755441_15137.png: 128x128 1 3, 7.6ms\n",
      "image 1934/4118 /home/anderste/ikt450-deep-neural-networks/DNN-prosjekt/segmentation_data_new/test/images/fish_003539755441_27018.png: 128x128 1 4, 7.6ms\n",
      "image 1935/4118 /home/anderste/ikt450-deep-neural-networks/DNN-prosjekt/segmentation_data_new/test/images/fish_003539755441_27159.png: 128x128 1 3, 7.6ms\n",
      "image 1936/4118 /home/anderste/ikt450-deep-neural-networks/DNN-prosjekt/segmentation_data_new/test/images/fish_003539805441_10938.png: 128x128 1 4, 7.6ms\n",
      "image 1937/4118 /home/anderste/ikt450-deep-neural-networks/DNN-prosjekt/segmentation_data_new/test/images/fish_003539905441_22250.png: 128x128 1 4, 7.7ms\n",
      "image 1938/4118 /home/anderste/ikt450-deep-neural-networks/DNN-prosjekt/segmentation_data_new/test/images/fish_003540005441_09383.png: 128x128 1 3, 1 4, 7.6ms\n",
      "image 1939/4118 /home/anderste/ikt450-deep-neural-networks/DNN-prosjekt/segmentation_data_new/test/images/fish_003540515442_26214.png: 128x128 1 1, 7.7ms\n",
      "image 1940/4118 /home/anderste/ikt450-deep-neural-networks/DNN-prosjekt/segmentation_data_new/test/images/fish_003540545442_10627.png: 128x128 1 1, 7.6ms\n",
      "image 1941/4118 /home/anderste/ikt450-deep-neural-networks/DNN-prosjekt/segmentation_data_new/test/images/fish_003541445448_22573.png: 128x128 1 9, 7.9ms\n",
      "image 1942/4118 /home/anderste/ikt450-deep-neural-networks/DNN-prosjekt/segmentation_data_new/test/images/fish_003541715448_09225.png: 96x128 1 9, 8.4ms\n",
      "image 1943/4118 /home/anderste/ikt450-deep-neural-networks/DNN-prosjekt/segmentation_data_new/test/images/fish_003541715448_17811.png: 128x128 1 9, 8.0ms\n",
      "image 1944/4118 /home/anderste/ikt450-deep-neural-networks/DNN-prosjekt/segmentation_data_new/test/images/fish_003541765448_09675.png: 128x128 1 9, 7.9ms\n",
      "image 1945/4118 /home/anderste/ikt450-deep-neural-networks/DNN-prosjekt/segmentation_data_new/test/images/fish_003541765448_09703.png: 128x128 1 9, 7.6ms\n",
      "image 1946/4118 /home/anderste/ikt450-deep-neural-networks/DNN-prosjekt/segmentation_data_new/test/images/fish_003541815448_11205.png: 128x128 1 2, 7.6ms\n",
      "image 1947/4118 /home/anderste/ikt450-deep-neural-networks/DNN-prosjekt/segmentation_data_new/test/images/fish_003541895448_09164.png: 128x128 1 2, 7.7ms\n",
      "image 1948/4118 /home/anderste/ikt450-deep-neural-networks/DNN-prosjekt/segmentation_data_new/test/images/fish_003541895448_09169.png: 128x128 1 2, 1 3, 8.2ms\n",
      "image 1949/4118 /home/anderste/ikt450-deep-neural-networks/DNN-prosjekt/segmentation_data_new/test/images/fish_003542125448_09738.png: 128x128 1 2, 7.5ms\n",
      "image 1950/4118 /home/anderste/ikt450-deep-neural-networks/DNN-prosjekt/segmentation_data_new/test/images/fish_003542235448_09150.png: 128x128 1 2, 7.5ms\n",
      "image 1951/4118 /home/anderste/ikt450-deep-neural-networks/DNN-prosjekt/segmentation_data_new/test/images/fish_003542245448_16767.png: 128x128 1 2, 7.6ms\n",
      "image 1952/4118 /home/anderste/ikt450-deep-neural-networks/DNN-prosjekt/segmentation_data_new/test/images/fish_003542245448_17841.png: 128x128 1 2, 7.9ms\n",
      "image 1953/4118 /home/anderste/ikt450-deep-neural-networks/DNN-prosjekt/segmentation_data_new/test/images/fish_003542245448_23389.png: 128x128 1 2, 7.5ms\n",
      "image 1954/4118 /home/anderste/ikt450-deep-neural-networks/DNN-prosjekt/segmentation_data_new/test/images/fish_003542245448_23492.png: 128x128 1 2, 7.6ms\n",
      "image 1955/4118 /home/anderste/ikt450-deep-neural-networks/DNN-prosjekt/segmentation_data_new/test/images/fish_003542245448_23622.png: 128x128 1 2, 7.6ms\n",
      "image 1956/4118 /home/anderste/ikt450-deep-neural-networks/DNN-prosjekt/segmentation_data_new/test/images/fish_003542245448_23806.png: 128x128 1 2, 7.7ms\n",
      "image 1957/4118 /home/anderste/ikt450-deep-neural-networks/DNN-prosjekt/segmentation_data_new/test/images/fish_003542265448_23988.png: 128x128 1 2, 7.6ms\n",
      "image 1958/4118 /home/anderste/ikt450-deep-neural-networks/DNN-prosjekt/segmentation_data_new/test/images/fish_003542265448_23993.png: 128x128 1 1, 1 2, 7.6ms\n",
      "image 1959/4118 /home/anderste/ikt450-deep-neural-networks/DNN-prosjekt/segmentation_data_new/test/images/fish_003542295448_10437.png: 128x128 1 1, 1 2, 7.7ms\n",
      "image 1960/4118 /home/anderste/ikt450-deep-neural-networks/DNN-prosjekt/segmentation_data_new/test/images/fish_003542365448_23461.png: 128x128 1 2, 1 3, 7.6ms\n",
      "image 1961/4118 /home/anderste/ikt450-deep-neural-networks/DNN-prosjekt/segmentation_data_new/test/images/fish_003542565448_09822.png: 128x128 1 2, 1 3, 7.6ms\n",
      "image 1962/4118 /home/anderste/ikt450-deep-neural-networks/DNN-prosjekt/segmentation_data_new/test/images/fish_003542565448_10106.png: 128x128 1 2, 1 3, 8.3ms\n",
      "image 1963/4118 /home/anderste/ikt450-deep-neural-networks/DNN-prosjekt/segmentation_data_new/test/images/fish_003542785448_17933.png: 128x128 1 2, 1 3, 7.6ms\n",
      "image 1964/4118 /home/anderste/ikt450-deep-neural-networks/DNN-prosjekt/segmentation_data_new/test/images/fish_003542835448_09148.png: 128x128 1 2, 1 3, 7.6ms\n",
      "image 1965/4118 /home/anderste/ikt450-deep-neural-networks/DNN-prosjekt/segmentation_data_new/test/images/fish_003542995448_14352.png: 128x128 1 1, 7.7ms\n",
      "image 1966/4118 /home/anderste/ikt450-deep-neural-networks/DNN-prosjekt/segmentation_data_new/test/images/fish_003548875463_09123.png: 128x128 1 3, 7.6ms\n",
      "image 1967/4118 /home/anderste/ikt450-deep-neural-networks/DNN-prosjekt/segmentation_data_new/test/images/fish_003548875463_09127.png: 128x128 1 3, 7.6ms\n",
      "image 1968/4118 /home/anderste/ikt450-deep-neural-networks/DNN-prosjekt/segmentation_data_new/test/images/fish_003548875463_15864.png: 128x128 1 3, 7.6ms\n",
      "image 1969/4118 /home/anderste/ikt450-deep-neural-networks/DNN-prosjekt/segmentation_data_new/test/images/fish_003549005463_22356.png: 128x128 1 1, 7.7ms\n",
      "image 1970/4118 /home/anderste/ikt450-deep-neural-networks/DNN-prosjekt/segmentation_data_new/test/images/fish_003549545469_09105.png: 128x128 1 6, 7.6ms\n",
      "image 1971/4118 /home/anderste/ikt450-deep-neural-networks/DNN-prosjekt/segmentation_data_new/test/images/fish_003549545469_13482.png: 128x128 1 6, 7.6ms\n",
      "image 1972/4118 /home/anderste/ikt450-deep-neural-networks/DNN-prosjekt/segmentation_data_new/test/images/fish_003549575469_09086.png: 128x128 1 6, 7.6ms\n",
      "image 1973/4118 /home/anderste/ikt450-deep-neural-networks/DNN-prosjekt/segmentation_data_new/test/images/fish_003549645469_13531.png: 128x128 1 6, 7.8ms\n",
      "image 1974/4118 /home/anderste/ikt450-deep-neural-networks/DNN-prosjekt/segmentation_data_new/test/images/fish_003549945470_24401.png: 128x128 1 0, 1 1, 8.2ms\n",
      "image 1975/4118 /home/anderste/ikt450-deep-neural-networks/DNN-prosjekt/segmentation_data_new/test/images/fish_003549965470_25335.png: 128x128 1 1, 8.9ms\n",
      "image 1976/4118 /home/anderste/ikt450-deep-neural-networks/DNN-prosjekt/segmentation_data_new/test/images/fish_003549975470_14625.png: 128x128 1 1, 7.8ms\n",
      "image 1977/4118 /home/anderste/ikt450-deep-neural-networks/DNN-prosjekt/segmentation_data_new/test/images/fish_003549985470_18086.png: 128x128 1 0, 1 1, 7.8ms\n",
      "image 1978/4118 /home/anderste/ikt450-deep-neural-networks/DNN-prosjekt/segmentation_data_new/test/images/fish_003550005470_16606.png: 128x128 1 1, 8.5ms\n",
      "image 1979/4118 /home/anderste/ikt450-deep-neural-networks/DNN-prosjekt/segmentation_data_new/test/images/fish_003550035470_25590.png: 128x128 1 1, 7.8ms\n",
      "image 1980/4118 /home/anderste/ikt450-deep-neural-networks/DNN-prosjekt/segmentation_data_new/test/images/fish_003550085470_23174.png: 128x128 1 1, 8.7ms\n",
      "image 1981/4118 /home/anderste/ikt450-deep-neural-networks/DNN-prosjekt/segmentation_data_new/test/images/fish_003550095470_25573.png: 128x128 1 1, 8.5ms\n",
      "image 1982/4118 /home/anderste/ikt450-deep-neural-networks/DNN-prosjekt/segmentation_data_new/test/images/fish_003550125470_25396.png: 128x128 1 1, 8.1ms\n",
      "image 1983/4118 /home/anderste/ikt450-deep-neural-networks/DNN-prosjekt/segmentation_data_new/test/images/fish_003550125470_25589.png: 128x128 1 1, 7.6ms\n",
      "image 1984/4118 /home/anderste/ikt450-deep-neural-networks/DNN-prosjekt/segmentation_data_new/test/images/fish_003550165470_25555.png: 128x128 1 1, 7.6ms\n",
      "image 1985/4118 /home/anderste/ikt450-deep-neural-networks/DNN-prosjekt/segmentation_data_new/test/images/fish_003550195470_24664.png: 128x128 1 1, 7.6ms\n",
      "image 1986/4118 /home/anderste/ikt450-deep-neural-networks/DNN-prosjekt/segmentation_data_new/test/images/fish_003550265470_26554.png: 128x128 1 0, 7.7ms\n",
      "image 1987/4118 /home/anderste/ikt450-deep-neural-networks/DNN-prosjekt/segmentation_data_new/test/images/fish_003550305470_26156.png: 128x128 1 1, 7.6ms\n",
      "image 1988/4118 /home/anderste/ikt450-deep-neural-networks/DNN-prosjekt/segmentation_data_new/test/images/fish_003550315470_10726.png: 128x128 1 1, 7.7ms\n",
      "image 1989/4118 /home/anderste/ikt450-deep-neural-networks/DNN-prosjekt/segmentation_data_new/test/images/fish_003550315470_14140.png: 128x128 1 1, 7.5ms\n",
      "image 1990/4118 /home/anderste/ikt450-deep-neural-networks/DNN-prosjekt/segmentation_data_new/test/images/fish_003550315470_14580.png: 128x128 1 1, 7.5ms\n",
      "image 1991/4118 /home/anderste/ikt450-deep-neural-networks/DNN-prosjekt/segmentation_data_new/test/images/fish_003550315470_14693.png: 128x128 1 1, 7.6ms\n",
      "image 1992/4118 /home/anderste/ikt450-deep-neural-networks/DNN-prosjekt/segmentation_data_new/test/images/fish_003550315470_22591.png: 128x128 1 1, 7.5ms\n",
      "image 1993/4118 /home/anderste/ikt450-deep-neural-networks/DNN-prosjekt/segmentation_data_new/test/images/fish_003550395470_15558.png: 128x128 1 1, 9.1ms\n",
      "image 1994/4118 /home/anderste/ikt450-deep-neural-networks/DNN-prosjekt/segmentation_data_new/test/images/fish_003550455470_14624.png: 128x128 1 1, 7.5ms\n",
      "image 1995/4118 /home/anderste/ikt450-deep-neural-networks/DNN-prosjekt/segmentation_data_new/test/images/fish_003552605472_09526.png: 128x128 1 1, 7.6ms\n",
      "image 1996/4118 /home/anderste/ikt450-deep-neural-networks/DNN-prosjekt/segmentation_data_new/test/images/fish_003553545474_09050.png: 128x128 (no detections), 13.8ms\n",
      "image 1997/4118 /home/anderste/ikt450-deep-neural-networks/DNN-prosjekt/segmentation_data_new/test/images/fish_003553545474_09535.png: 128x128 (no detections), 7.7ms\n",
      "image 1998/4118 /home/anderste/ikt450-deep-neural-networks/DNN-prosjekt/segmentation_data_new/test/images/fish_003553545474_15881.png: 128x128 1 5, 7.6ms\n",
      "image 1999/4118 /home/anderste/ikt450-deep-neural-networks/DNN-prosjekt/segmentation_data_new/test/images/fish_003553545474_16375.png: 128x128 (no detections), 7.6ms\n",
      "image 2000/4118 /home/anderste/ikt450-deep-neural-networks/DNN-prosjekt/segmentation_data_new/test/images/fish_003554145478_18537.png: 128x128 1 0, 1 1, 7.6ms\n",
      "image 2001/4118 /home/anderste/ikt450-deep-neural-networks/DNN-prosjekt/segmentation_data_new/test/images/fish_003554485480_11005.png: 128x128 1 4, 7.6ms\n",
      "image 2002/4118 /home/anderste/ikt450-deep-neural-networks/DNN-prosjekt/segmentation_data_new/test/images/fish_003554595480_11875.png: 128x128 1 4, 7.6ms\n",
      "image 2003/4118 /home/anderste/ikt450-deep-neural-networks/DNN-prosjekt/segmentation_data_new/test/images/fish_003554595480_15421.png: 128x128 1 4, 8.1ms\n",
      "image 2004/4118 /home/anderste/ikt450-deep-neural-networks/DNN-prosjekt/segmentation_data_new/test/images/fish_003554615480_09003.png: 128x128 1 4, 7.6ms\n",
      "image 2005/4118 /home/anderste/ikt450-deep-neural-networks/DNN-prosjekt/segmentation_data_new/test/images/fish_003554635480_09370.png: 128x128 1 4, 7.5ms\n",
      "image 2006/4118 /home/anderste/ikt450-deep-neural-networks/DNN-prosjekt/segmentation_data_new/test/images/fish_003554635480_19136.png: 128x128 1 3, 7.8ms\n",
      "image 2007/4118 /home/anderste/ikt450-deep-neural-networks/DNN-prosjekt/segmentation_data_new/test/images/fish_003554715480_18639.png: 128x128 1 4, 7.6ms\n",
      "image 2008/4118 /home/anderste/ikt450-deep-neural-networks/DNN-prosjekt/segmentation_data_new/test/images/fish_003554745480_09348.png: 128x128 1 4, 7.6ms\n",
      "image 2009/4118 /home/anderste/ikt450-deep-neural-networks/DNN-prosjekt/segmentation_data_new/test/images/fish_003554805480_11352.png: 128x128 1 4, 7.5ms\n",
      "image 2010/4118 /home/anderste/ikt450-deep-neural-networks/DNN-prosjekt/segmentation_data_new/test/images/fish_003554875481_25483.png: 128x128 1 1, 7.8ms\n",
      "image 2011/4118 /home/anderste/ikt450-deep-neural-networks/DNN-prosjekt/segmentation_data_new/test/images/fish_003554955480_21229.png: 128x128 1 4, 7.6ms\n",
      "image 2012/4118 /home/anderste/ikt450-deep-neural-networks/DNN-prosjekt/segmentation_data_new/test/images/fish_003555085480_21217.png: 128x128 1 4, 7.5ms\n",
      "image 2013/4118 /home/anderste/ikt450-deep-neural-networks/DNN-prosjekt/segmentation_data_new/test/images/fish_003555185480_15423.png: 128x128 1 4, 7.4ms\n",
      "image 2014/4118 /home/anderste/ikt450-deep-neural-networks/DNN-prosjekt/segmentation_data_new/test/images/fish_003555245480_10932.png: 128x128 1 4, 7.5ms\n",
      "image 2015/4118 /home/anderste/ikt450-deep-neural-networks/DNN-prosjekt/segmentation_data_new/test/images/fish_003555245480_23706.png: 128x128 1 4, 7.6ms\n",
      "image 2016/4118 /home/anderste/ikt450-deep-neural-networks/DNN-prosjekt/segmentation_data_new/test/images/fish_003555355480_21085.png: 128x128 1 4, 7.6ms\n",
      "image 2017/4118 /home/anderste/ikt450-deep-neural-networks/DNN-prosjekt/segmentation_data_new/test/images/fish_003555405480_13387.png: 128x128 1 3, 1 4, 7.6ms\n",
      "image 2018/4118 /home/anderste/ikt450-deep-neural-networks/DNN-prosjekt/segmentation_data_new/test/images/fish_003555445481_25304.png: 128x128 1 0, 1 1, 10.9ms\n",
      "image 2019/4118 /home/anderste/ikt450-deep-neural-networks/DNN-prosjekt/segmentation_data_new/test/images/fish_003555565481_23241.png: 128x128 1 0, 8.4ms\n",
      "image 2020/4118 /home/anderste/ikt450-deep-neural-networks/DNN-prosjekt/segmentation_data_new/test/images/fish_003555565481_24684.png: 128x128 1 0, 7.6ms\n",
      "image 2021/4118 /home/anderste/ikt450-deep-neural-networks/DNN-prosjekt/segmentation_data_new/test/images/fish_003555565481_25521.png: 128x128 1 0, 7.7ms\n",
      "image 2022/4118 /home/anderste/ikt450-deep-neural-networks/DNN-prosjekt/segmentation_data_new/test/images/fish_003556575482_17421.png: 128x128 1 1, 7.7ms\n",
      "image 2023/4118 /home/anderste/ikt450-deep-neural-networks/DNN-prosjekt/segmentation_data_new/test/images/fish_003556585482_08952.png: 128x128 1 1, 7.6ms\n",
      "image 2024/4118 /home/anderste/ikt450-deep-neural-networks/DNN-prosjekt/segmentation_data_new/test/images/fish_003556585482_13932.png: 128x128 1 1, 7.6ms\n",
      "image 2025/4118 /home/anderste/ikt450-deep-neural-networks/DNN-prosjekt/segmentation_data_new/test/images/fish_003556585482_16297.png: 128x128 1 1, 8.1ms\n",
      "image 2026/4118 /home/anderste/ikt450-deep-neural-networks/DNN-prosjekt/segmentation_data_new/test/images/fish_003556605482_08942.png: 128x128 1 1, 7.7ms\n",
      "image 2027/4118 /home/anderste/ikt450-deep-neural-networks/DNN-prosjekt/segmentation_data_new/test/images/fish_003556605482_13928.png: 128x128 1 1, 7.6ms\n",
      "image 2028/4118 /home/anderste/ikt450-deep-neural-networks/DNN-prosjekt/segmentation_data_new/test/images/fish_003556735482_17540.png: 128x128 1 1, 7.6ms\n",
      "image 2029/4118 /home/anderste/ikt450-deep-neural-networks/DNN-prosjekt/segmentation_data_new/test/images/fish_003557285482_08929.png: 128x128 1 1, 7.6ms\n",
      "image 2030/4118 /home/anderste/ikt450-deep-neural-networks/DNN-prosjekt/segmentation_data_new/test/images/fish_003558755487_24515.png: 128x128 1 1, 7.7ms\n",
      "image 2031/4118 /home/anderste/ikt450-deep-neural-networks/DNN-prosjekt/segmentation_data_new/test/images/fish_003558825487_17419.png: 128x128 1 1, 7.6ms\n",
      "image 2032/4118 /home/anderste/ikt450-deep-neural-networks/DNN-prosjekt/segmentation_data_new/test/images/fish_003559005487_12999.png: 128x128 1 0, 1 1, 8.0ms\n",
      "image 2033/4118 /home/anderste/ikt450-deep-neural-networks/DNN-prosjekt/segmentation_data_new/test/images/fish_003560435495_10465.png: 128x128 1 0, 7.6ms\n",
      "image 2034/4118 /home/anderste/ikt450-deep-neural-networks/DNN-prosjekt/segmentation_data_new/test/images/fish_003561125496_08919.png: 128x128 1 2, 7.6ms\n",
      "image 2035/4118 /home/anderste/ikt450-deep-neural-networks/DNN-prosjekt/segmentation_data_new/test/images/fish_003561125496_09355.png: 128x128 1 2, 7.6ms\n",
      "image 2036/4118 /home/anderste/ikt450-deep-neural-networks/DNN-prosjekt/segmentation_data_new/test/images/fish_003562905500_23142.png: 128x128 1 1, 7.7ms\n",
      "image 2037/4118 /home/anderste/ikt450-deep-neural-networks/DNN-prosjekt/segmentation_data_new/test/images/fish_003563115500_20755.png: 128x128 1 3, 7.6ms\n",
      "image 2038/4118 /home/anderste/ikt450-deep-neural-networks/DNN-prosjekt/segmentation_data_new/test/images/fish_003563135500_14294.png: 128x128 1 3, 7.7ms\n",
      "image 2039/4118 /home/anderste/ikt450-deep-neural-networks/DNN-prosjekt/segmentation_data_new/test/images/fish_003563455500_10444.png: 128x128 1 3, 7.6ms\n",
      "image 2040/4118 /home/anderste/ikt450-deep-neural-networks/DNN-prosjekt/segmentation_data_new/test/images/fish_003568095517_27295.png: 128x128 1 2, 7.5ms\n",
      "image 2041/4118 /home/anderste/ikt450-deep-neural-networks/DNN-prosjekt/segmentation_data_new/test/images/fish_003568205517_26111.png: 128x128 (no detections), 7.8ms\n",
      "image 2042/4118 /home/anderste/ikt450-deep-neural-networks/DNN-prosjekt/segmentation_data_new/test/images/fish_003568265517_26312.png: 128x128 1 2, 7.7ms\n",
      "image 2043/4118 /home/anderste/ikt450-deep-neural-networks/DNN-prosjekt/segmentation_data_new/test/images/fish_003571385521_15803.png: 128x128 1 5, 7.6ms\n",
      "image 2044/4118 /home/anderste/ikt450-deep-neural-networks/DNN-prosjekt/segmentation_data_new/test/images/fish_003571415521_19306.png: 128x128 1 5, 7.6ms\n",
      "image 2045/4118 /home/anderste/ikt450-deep-neural-networks/DNN-prosjekt/segmentation_data_new/test/images/fish_003571415521_19469.png: 128x128 1 5, 7.6ms\n",
      "image 2046/4118 /home/anderste/ikt450-deep-neural-networks/DNN-prosjekt/segmentation_data_new/test/images/fish_003571415521_23724.png: 128x128 1 5, 7.6ms\n",
      "image 2047/4118 /home/anderste/ikt450-deep-neural-networks/DNN-prosjekt/segmentation_data_new/test/images/fish_003571465521_19298.png: 128x128 2 5s, 8.3ms\n",
      "image 2048/4118 /home/anderste/ikt450-deep-neural-networks/DNN-prosjekt/segmentation_data_new/test/images/fish_003571475521_19407.png: 128x128 1 5, 8.3ms\n",
      "image 2049/4118 /home/anderste/ikt450-deep-neural-networks/DNN-prosjekt/segmentation_data_new/test/images/fish_003571475521_22211.png: 128x128 1 5, 7.6ms\n",
      "image 2050/4118 /home/anderste/ikt450-deep-neural-networks/DNN-prosjekt/segmentation_data_new/test/images/fish_003571485521_19287.png: 128x128 1 5, 7.7ms\n",
      "image 2051/4118 /home/anderste/ikt450-deep-neural-networks/DNN-prosjekt/segmentation_data_new/test/images/fish_003571635521_13313.png: 128x128 1 5, 7.6ms\n",
      "image 2052/4118 /home/anderste/ikt450-deep-neural-networks/DNN-prosjekt/segmentation_data_new/test/images/fish_003571675521_13016.png: 128x128 1 1, 7.5ms\n",
      "image 2053/4118 /home/anderste/ikt450-deep-neural-networks/DNN-prosjekt/segmentation_data_new/test/images/fish_003571805521_11360.png: 96x128 1 12, 8.3ms\n",
      "image 2054/4118 /home/anderste/ikt450-deep-neural-networks/DNN-prosjekt/segmentation_data_new/test/images/fish_003571805521_27318.png: 128x128 1 12, 8.2ms\n",
      "image 2055/4118 /home/anderste/ikt450-deep-neural-networks/DNN-prosjekt/segmentation_data_new/test/images/fish_003571905521_18131.png: 128x128 1 5, 7.7ms\n",
      "image 2056/4118 /home/anderste/ikt450-deep-neural-networks/DNN-prosjekt/segmentation_data_new/test/images/fish_003571905521_19504.png: 128x128 1 5, 7.7ms\n",
      "image 2057/4118 /home/anderste/ikt450-deep-neural-networks/DNN-prosjekt/segmentation_data_new/test/images/fish_003571955521_10241.png: 128x128 1 5, 7.4ms\n",
      "image 2058/4118 /home/anderste/ikt450-deep-neural-networks/DNN-prosjekt/segmentation_data_new/test/images/fish_003572035521_25861.png: 128x128 1 5, 7.5ms\n",
      "image 2059/4118 /home/anderste/ikt450-deep-neural-networks/DNN-prosjekt/segmentation_data_new/test/images/fish_003572055521_19156.png: 128x128 1 5, 7.6ms\n",
      "image 2060/4118 /home/anderste/ikt450-deep-neural-networks/DNN-prosjekt/segmentation_data_new/test/images/fish_003572085521_13424.png: 128x128 1 5, 7.6ms\n",
      "image 2061/4118 /home/anderste/ikt450-deep-neural-networks/DNN-prosjekt/segmentation_data_new/test/images/fish_003572185521_15837.png: 128x128 1 5, 7.7ms\n",
      "image 2062/4118 /home/anderste/ikt450-deep-neural-networks/DNN-prosjekt/segmentation_data_new/test/images/fish_003572185521_19343.png: 128x128 1 5, 7.5ms\n",
      "image 2063/4118 /home/anderste/ikt450-deep-neural-networks/DNN-prosjekt/segmentation_data_new/test/images/fish_003572205521_25650.png: 128x128 1 5, 7.6ms\n",
      "image 2064/4118 /home/anderste/ikt450-deep-neural-networks/DNN-prosjekt/segmentation_data_new/test/images/fish_003572225521_21301.png: 128x128 1 5, 7.7ms\n",
      "image 2065/4118 /home/anderste/ikt450-deep-neural-networks/DNN-prosjekt/segmentation_data_new/test/images/fish_003572225521_25055.png: 128x128 1 5, 7.7ms\n",
      "image 2066/4118 /home/anderste/ikt450-deep-neural-networks/DNN-prosjekt/segmentation_data_new/test/images/fish_003572225521_25826.png: 128x128 1 5, 7.7ms\n",
      "image 2067/4118 /home/anderste/ikt450-deep-neural-networks/DNN-prosjekt/segmentation_data_new/test/images/fish_003574945530_27239.png: 128x128 1 4, 7.6ms\n",
      "image 2068/4118 /home/anderste/ikt450-deep-neural-networks/DNN-prosjekt/segmentation_data_new/test/images/fish_003575045530_09421.png: 128x128 1 4, 7.5ms\n",
      "image 2069/4118 /home/anderste/ikt450-deep-neural-networks/DNN-prosjekt/segmentation_data_new/test/images/fish_003576865534_27349.png: 128x128 1 2, 7.5ms\n",
      "image 2070/4118 /home/anderste/ikt450-deep-neural-networks/DNN-prosjekt/segmentation_data_new/test/images/fish_003576905534_15021.png: 128x128 1 2, 7.7ms\n",
      "image 2071/4118 /home/anderste/ikt450-deep-neural-networks/DNN-prosjekt/segmentation_data_new/test/images/fish_003577025534_12457.png: 128x128 1 1, 7.5ms\n",
      "image 2072/4118 /home/anderste/ikt450-deep-neural-networks/DNN-prosjekt/segmentation_data_new/test/images/fish_003577355534_26383.png: 128x128 1 2, 7.5ms\n",
      "image 2073/4118 /home/anderste/ikt450-deep-neural-networks/DNN-prosjekt/segmentation_data_new/test/images/fish_003581675544_26258.png: 128x128 1 2, 7.5ms\n",
      "image 2074/4118 /home/anderste/ikt450-deep-neural-networks/DNN-prosjekt/segmentation_data_new/test/images/fish_003582835545_09917.png: 128x128 1 6, 7.4ms\n",
      "image 2075/4118 /home/anderste/ikt450-deep-neural-networks/DNN-prosjekt/segmentation_data_new/test/images/fish_003585175556_25670.png: 128x128 1 4, 7.6ms\n",
      "image 2076/4118 /home/anderste/ikt450-deep-neural-networks/DNN-prosjekt/segmentation_data_new/test/images/fish_003585215556_18223.png: 128x128 1 4, 7.6ms\n",
      "image 2077/4118 /home/anderste/ikt450-deep-neural-networks/DNN-prosjekt/segmentation_data_new/test/images/fish_003585295556_21334.png: 128x128 1 4, 7.6ms\n",
      "image 2078/4118 /home/anderste/ikt450-deep-neural-networks/DNN-prosjekt/segmentation_data_new/test/images/fish_003586365569_22027.png: 128x128 1 1, 7.4ms\n",
      "image 2079/4118 /home/anderste/ikt450-deep-neural-networks/DNN-prosjekt/segmentation_data_new/test/images/fish_003586435569_23693.png: 128x128 1 1, 1 2, 7.6ms\n",
      "image 2080/4118 /home/anderste/ikt450-deep-neural-networks/DNN-prosjekt/segmentation_data_new/test/images/fish_003586445569_24267.png: 128x128 1 3, 7.6ms\n",
      "image 2081/4118 /home/anderste/ikt450-deep-neural-networks/DNN-prosjekt/segmentation_data_new/test/images/fish_003586525569_15453.png: 128x128 1 1, 7.8ms\n",
      "image 2082/4118 /home/anderste/ikt450-deep-neural-networks/DNN-prosjekt/segmentation_data_new/test/images/fish_003586605569_23425.png: 128x128 1 2, 7.8ms\n",
      "image 2083/4118 /home/anderste/ikt450-deep-neural-networks/DNN-prosjekt/segmentation_data_new/test/images/fish_003586625569_12869.png: 128x128 1 1, 7.8ms\n",
      "image 2084/4118 /home/anderste/ikt450-deep-neural-networks/DNN-prosjekt/segmentation_data_new/test/images/fish_003586655569_12809.png: 128x128 1 2, 8.1ms\n",
      "image 2085/4118 /home/anderste/ikt450-deep-neural-networks/DNN-prosjekt/segmentation_data_new/test/images/fish_003586685569_23151.png: 128x128 1 1, 7.6ms\n",
      "image 2086/4118 /home/anderste/ikt450-deep-neural-networks/DNN-prosjekt/segmentation_data_new/test/images/fish_003586725569_12853.png: 128x128 1 1, 7.6ms\n",
      "image 2087/4118 /home/anderste/ikt450-deep-neural-networks/DNN-prosjekt/segmentation_data_new/test/images/fish_003586985569_12388.png: 128x128 1 1, 7.5ms\n",
      "image 2088/4118 /home/anderste/ikt450-deep-neural-networks/DNN-prosjekt/segmentation_data_new/test/images/fish_003587095569_22984.png: 128x128 1 1, 7.5ms\n",
      "image 2089/4118 /home/anderste/ikt450-deep-neural-networks/DNN-prosjekt/segmentation_data_new/test/images/fish_003587135569_25933.png: 128x128 (no detections), 8.0ms\n",
      "image 2090/4118 /home/anderste/ikt450-deep-neural-networks/DNN-prosjekt/segmentation_data_new/test/images/fish_003587185569_22173.png: 128x128 1 1, 7.6ms\n",
      "image 2091/4118 /home/anderste/ikt450-deep-neural-networks/DNN-prosjekt/segmentation_data_new/test/images/fish_003587195569_14570.png: 128x128 1 1, 8.1ms\n",
      "image 2092/4118 /home/anderste/ikt450-deep-neural-networks/DNN-prosjekt/segmentation_data_new/test/images/fish_003588905576_13406.png: 128x128 1 5, 7.5ms\n",
      "image 2093/4118 /home/anderste/ikt450-deep-neural-networks/DNN-prosjekt/segmentation_data_new/test/images/fish_003588905576_15947.png: 128x128 1 5, 7.7ms\n",
      "image 2094/4118 /home/anderste/ikt450-deep-neural-networks/DNN-prosjekt/segmentation_data_new/test/images/fish_003588905576_19152.png: 128x128 1 5, 7.6ms\n",
      "image 2095/4118 /home/anderste/ikt450-deep-neural-networks/DNN-prosjekt/segmentation_data_new/test/images/fish_003588905576_21421.png: 128x128 1 5, 7.5ms\n",
      "image 2096/4118 /home/anderste/ikt450-deep-neural-networks/DNN-prosjekt/segmentation_data_new/test/images/fish_003588915576_20984.png: 128x128 1 5, 7.2ms\n",
      "image 2097/4118 /home/anderste/ikt450-deep-neural-networks/DNN-prosjekt/segmentation_data_new/test/images/fish_003588955576_11383.png: 128x128 1 5, 8.4ms\n",
      "image 2098/4118 /home/anderste/ikt450-deep-neural-networks/DNN-prosjekt/segmentation_data_new/test/images/fish_003588955576_11608.png: 128x128 1 5, 8.0ms\n",
      "image 2099/4118 /home/anderste/ikt450-deep-neural-networks/DNN-prosjekt/segmentation_data_new/test/images/fish_003588955576_13516.png: 128x128 1 5, 7.9ms\n",
      "image 2100/4118 /home/anderste/ikt450-deep-neural-networks/DNN-prosjekt/segmentation_data_new/test/images/fish_003588955576_13613.png: 128x128 1 5, 7.7ms\n",
      "image 2101/4118 /home/anderste/ikt450-deep-neural-networks/DNN-prosjekt/segmentation_data_new/test/images/fish_003588955576_19174.png: 128x128 1 5, 7.5ms\n",
      "image 2102/4118 /home/anderste/ikt450-deep-neural-networks/DNN-prosjekt/segmentation_data_new/test/images/fish_003588955576_19366.png: 128x128 1 5, 7.5ms\n",
      "image 2103/4118 /home/anderste/ikt450-deep-neural-networks/DNN-prosjekt/segmentation_data_new/test/images/fish_003588955576_19387.png: 128x128 1 5, 7.7ms\n",
      "image 2104/4118 /home/anderste/ikt450-deep-neural-networks/DNN-prosjekt/segmentation_data_new/test/images/fish_003588955576_23775.png: 128x128 1 5, 7.5ms\n",
      "image 2105/4118 /home/anderste/ikt450-deep-neural-networks/DNN-prosjekt/segmentation_data_new/test/images/fish_003588955576_25602.png: 128x128 1 5, 7.2ms\n",
      "image 2106/4118 /home/anderste/ikt450-deep-neural-networks/DNN-prosjekt/segmentation_data_new/test/images/fish_003588955576_25608.png: 128x128 1 5, 7.6ms\n",
      "image 2107/4118 /home/anderste/ikt450-deep-neural-networks/DNN-prosjekt/segmentation_data_new/test/images/fish_003588955576_25812.png: 128x128 1 5, 8.9ms\n",
      "image 2108/4118 /home/anderste/ikt450-deep-neural-networks/DNN-prosjekt/segmentation_data_new/test/images/fish_003588955576_25857.png: 128x128 1 5, 7.6ms\n",
      "image 2109/4118 /home/anderste/ikt450-deep-neural-networks/DNN-prosjekt/segmentation_data_new/test/images/fish_003588965576_27312.png: 128x128 1 5, 7.6ms\n",
      "image 2110/4118 /home/anderste/ikt450-deep-neural-networks/DNN-prosjekt/segmentation_data_new/test/images/fish_003589025576_11473.png: 128x128 1 5, 7.7ms\n",
      "image 2111/4118 /home/anderste/ikt450-deep-neural-networks/DNN-prosjekt/segmentation_data_new/test/images/fish_003589025576_19321.png: 128x128 1 5, 7.6ms\n",
      "image 2112/4118 /home/anderste/ikt450-deep-neural-networks/DNN-prosjekt/segmentation_data_new/test/images/fish_003589025576_25850.png: 128x128 1 5, 7.8ms\n",
      "image 2113/4118 /home/anderste/ikt450-deep-neural-networks/DNN-prosjekt/segmentation_data_new/test/images/fish_003589425583_25427.png: 128x128 1 0, 1 1, 7.6ms\n",
      "image 2114/4118 /home/anderste/ikt450-deep-neural-networks/DNN-prosjekt/segmentation_data_new/test/images/fish_003590185584_19456.png: 128x128 1 5, 8.2ms\n",
      "image 2115/4118 /home/anderste/ikt450-deep-neural-networks/DNN-prosjekt/segmentation_data_new/test/images/fish_003590215584_13520.png: 128x128 1 5, 7.6ms\n",
      "image 2116/4118 /home/anderste/ikt450-deep-neural-networks/DNN-prosjekt/segmentation_data_new/test/images/fish_003590215584_19161.png: 128x128 1 5, 7.8ms\n",
      "image 2117/4118 /home/anderste/ikt450-deep-neural-networks/DNN-prosjekt/segmentation_data_new/test/images/fish_003590215584_20939.png: 128x128 1 5, 7.7ms\n",
      "image 2118/4118 /home/anderste/ikt450-deep-neural-networks/DNN-prosjekt/segmentation_data_new/test/images/fish_003590225584_15749.png: 128x128 1 5, 7.7ms\n",
      "image 2119/4118 /home/anderste/ikt450-deep-neural-networks/DNN-prosjekt/segmentation_data_new/test/images/fish_003590245584_11404.png: 128x128 1 5, 7.6ms\n",
      "image 2120/4118 /home/anderste/ikt450-deep-neural-networks/DNN-prosjekt/segmentation_data_new/test/images/fish_003590245584_13477.png: 128x128 1 5, 7.5ms\n",
      "image 2121/4118 /home/anderste/ikt450-deep-neural-networks/DNN-prosjekt/segmentation_data_new/test/images/fish_003590245584_19555.png: 128x128 1 5, 7.6ms\n",
      "image 2122/4118 /home/anderste/ikt450-deep-neural-networks/DNN-prosjekt/segmentation_data_new/test/images/fish_003590245584_19571.png: 128x128 1 5, 7.5ms\n",
      "image 2123/4118 /home/anderste/ikt450-deep-neural-networks/DNN-prosjekt/segmentation_data_new/test/images/fish_003590275584_19377.png: 128x128 1 5, 7.6ms\n",
      "image 2124/4118 /home/anderste/ikt450-deep-neural-networks/DNN-prosjekt/segmentation_data_new/test/images/fish_003590285584_25359.png: 128x96 1 5, 8.4ms\n",
      "image 2125/4118 /home/anderste/ikt450-deep-neural-networks/DNN-prosjekt/segmentation_data_new/test/images/fish_003590295584_19220.png: 128x128 1 5, 8.1ms\n",
      "image 2126/4118 /home/anderste/ikt450-deep-neural-networks/DNN-prosjekt/segmentation_data_new/test/images/fish_003590305584_10391.png: 128x128 1 5, 7.8ms\n",
      "image 2127/4118 /home/anderste/ikt450-deep-neural-networks/DNN-prosjekt/segmentation_data_new/test/images/fish_003590305584_12535.png: 128x128 1 5, 7.8ms\n",
      "image 2128/4118 /home/anderste/ikt450-deep-neural-networks/DNN-prosjekt/segmentation_data_new/test/images/fish_003590305584_12558.png: 128x128 1 5, 7.6ms\n",
      "image 2129/4118 /home/anderste/ikt450-deep-neural-networks/DNN-prosjekt/segmentation_data_new/test/images/fish_003590305584_13405.png: 128x128 1 5, 7.6ms\n",
      "image 2130/4118 /home/anderste/ikt450-deep-neural-networks/DNN-prosjekt/segmentation_data_new/test/images/fish_003590305584_13519.png: 128x128 1 5, 7.6ms\n",
      "image 2131/4118 /home/anderste/ikt450-deep-neural-networks/DNN-prosjekt/segmentation_data_new/test/images/fish_003590305584_25061.png: 128x128 1 5, 7.6ms\n",
      "image 2132/4118 /home/anderste/ikt450-deep-neural-networks/DNN-prosjekt/segmentation_data_new/test/images/fish_003590305584_25092.png: 128x128 1 5, 7.7ms\n",
      "image 2133/4118 /home/anderste/ikt450-deep-neural-networks/DNN-prosjekt/segmentation_data_new/test/images/fish_003590315584_23224.png: 128x128 1 5, 7.6ms\n",
      "image 2134/4118 /home/anderste/ikt450-deep-neural-networks/DNN-prosjekt/segmentation_data_new/test/images/fish_003590415584_21540.png: 128x128 1 5, 7.6ms\n",
      "image 2135/4118 /home/anderste/ikt450-deep-neural-networks/DNN-prosjekt/segmentation_data_new/test/images/fish_003590585585_17392.png: 128x128 1 1, 8.0ms\n",
      "image 2136/4118 /home/anderste/ikt450-deep-neural-networks/DNN-prosjekt/segmentation_data_new/test/images/fish_003590685585_27027.png: 128x128 1 1, 7.7ms\n",
      "image 2137/4118 /home/anderste/ikt450-deep-neural-networks/DNN-prosjekt/segmentation_data_new/test/images/fish_003590865585_20847.png: 128x128 1 1, 7.6ms\n",
      "image 2138/4118 /home/anderste/ikt450-deep-neural-networks/DNN-prosjekt/segmentation_data_new/test/images/fish_003591005585_19728.png: 128x128 1 1, 7.6ms\n",
      "image 2139/4118 /home/anderste/ikt450-deep-neural-networks/DNN-prosjekt/segmentation_data_new/test/images/fish_003591165585_18227.png: 128x128 1 1, 7.6ms\n",
      "image 2140/4118 /home/anderste/ikt450-deep-neural-networks/DNN-prosjekt/segmentation_data_new/test/images/fish_003591195585_23960.png: 128x128 1 3, 1 4, 7.6ms\n",
      "image 2141/4118 /home/anderste/ikt450-deep-neural-networks/DNN-prosjekt/segmentation_data_new/test/images/fish_003591445585_21586.png: 128x128 1 0, 1 1, 9.9ms\n",
      "image 2142/4118 /home/anderste/ikt450-deep-neural-networks/DNN-prosjekt/segmentation_data_new/test/images/fish_003591765585_12866.png: 128x128 1 1, 7.6ms\n",
      "image 2143/4118 /home/anderste/ikt450-deep-neural-networks/DNN-prosjekt/segmentation_data_new/test/images/fish_003593195586_09482.png: 128x128 1 4, 7.6ms\n",
      "image 2144/4118 /home/anderste/ikt450-deep-neural-networks/DNN-prosjekt/segmentation_data_new/test/images/fish_003595745589_11526.png: 128x128 1 5, 7.7ms\n",
      "image 2145/4118 /home/anderste/ikt450-deep-neural-networks/DNN-prosjekt/segmentation_data_new/test/images/fish_003596735595_22498.png: 128x128 1 3, 7.8ms\n",
      "image 2146/4118 /home/anderste/ikt450-deep-neural-networks/DNN-prosjekt/segmentation_data_new/test/images/fish_003597115595_12431.png: 128x128 1 3, 7.7ms\n",
      "image 2147/4118 /home/anderste/ikt450-deep-neural-networks/DNN-prosjekt/segmentation_data_new/test/images/fish_003597365595_12223.png: 128x128 1 1, 7.7ms\n",
      "image 2148/4118 /home/anderste/ikt450-deep-neural-networks/DNN-prosjekt/segmentation_data_new/test/images/fish_003597685595_17912.png: 128x128 1 3, 7.5ms\n",
      "image 2149/4118 /home/anderste/ikt450-deep-neural-networks/DNN-prosjekt/segmentation_data_new/test/images/fish_003599995598_26523.png: 128x128 1 1, 7.6ms\n",
      "image 2150/4118 /home/anderste/ikt450-deep-neural-networks/DNN-prosjekt/segmentation_data_new/test/images/fish_003607175612_26295.png: 128x128 1 1, 7.7ms\n",
      "image 2151/4118 /home/anderste/ikt450-deep-neural-networks/DNN-prosjekt/segmentation_data_new/test/images/fish_003607235612_16513.png: 128x128 1 1, 7.6ms\n",
      "image 2152/4118 /home/anderste/ikt450-deep-neural-networks/DNN-prosjekt/segmentation_data_new/test/images/fish_003607285612_24416.png: 128x128 1 1, 7.7ms\n",
      "image 2153/4118 /home/anderste/ikt450-deep-neural-networks/DNN-prosjekt/segmentation_data_new/test/images/fish_003608575615_12311.png: 128x128 1 3, 7.5ms\n",
      "image 2154/4118 /home/anderste/ikt450-deep-neural-networks/DNN-prosjekt/segmentation_data_new/test/images/fish_003608715615_12411.png: 128x128 1 3, 7.6ms\n",
      "image 2155/4118 /home/anderste/ikt450-deep-neural-networks/DNN-prosjekt/segmentation_data_new/test/images/fish_003608855615_12213.png: 128x128 1 3, 7.5ms\n",
      "image 2156/4118 /home/anderste/ikt450-deep-neural-networks/DNN-prosjekt/segmentation_data_new/test/images/fish_003609045618_17759.png: 128x128 1 1, 7.5ms\n",
      "image 2157/4118 /home/anderste/ikt450-deep-neural-networks/DNN-prosjekt/segmentation_data_new/test/images/fish_003609075618_24417.png: 128x128 1 2, 7.5ms\n",
      "image 2158/4118 /home/anderste/ikt450-deep-neural-networks/DNN-prosjekt/segmentation_data_new/test/images/fish_003609085618_24435.png: 128x128 1 0, 1 1, 7.5ms\n",
      "image 2159/4118 /home/anderste/ikt450-deep-neural-networks/DNN-prosjekt/segmentation_data_new/test/images/fish_003612465621_26122.png: 128x128 1 2, 7.4ms\n",
      "image 2160/4118 /home/anderste/ikt450-deep-neural-networks/DNN-prosjekt/segmentation_data_new/test/images/fish_003615005628_21932.png: 128x128 1 0, 1 1, 7.5ms\n",
      "image 2161/4118 /home/anderste/ikt450-deep-neural-networks/DNN-prosjekt/segmentation_data_new/test/images/fish_003615025628_24799.png: 128x128 1 1, 8.4ms\n",
      "image 2162/4118 /home/anderste/ikt450-deep-neural-networks/DNN-prosjekt/segmentation_data_new/test/images/fish_003615035628_18587.png: 128x128 1 0, 1 1, 7.6ms\n",
      "image 2163/4118 /home/anderste/ikt450-deep-neural-networks/DNN-prosjekt/segmentation_data_new/test/images/fish_003615175628_21519.png: 128x128 1 1, 7.5ms\n",
      "image 2164/4118 /home/anderste/ikt450-deep-neural-networks/DNN-prosjekt/segmentation_data_new/test/images/fish_003616175630_15574.png: 128x128 1 1, 7.6ms\n",
      "image 2165/4118 /home/anderste/ikt450-deep-neural-networks/DNN-prosjekt/segmentation_data_new/test/images/fish_003617775632_26947.png: 128x128 1 2, 7.7ms\n",
      "image 2166/4118 /home/anderste/ikt450-deep-neural-networks/DNN-prosjekt/segmentation_data_new/test/images/fish_003617865632_10856.png: 128x128 1 2, 7.4ms\n",
      "image 2167/4118 /home/anderste/ikt450-deep-neural-networks/DNN-prosjekt/segmentation_data_new/test/images/fish_003618065632_13285.png: 128x128 1 2, 7.6ms\n",
      "image 2168/4118 /home/anderste/ikt450-deep-neural-networks/DNN-prosjekt/segmentation_data_new/test/images/fish_003618065632_26430.png: 128x128 1 2, 7.7ms\n",
      "image 2169/4118 /home/anderste/ikt450-deep-neural-networks/DNN-prosjekt/segmentation_data_new/test/images/fish_003618405632_22432.png: 128x128 1 0, 1 1, 7.7ms\n",
      "image 2170/4118 /home/anderste/ikt450-deep-neural-networks/DNN-prosjekt/segmentation_data_new/test/images/fish_003620705639_23402.png: 128x128 1 9, 7.7ms\n",
      "image 2171/4118 /home/anderste/ikt450-deep-neural-networks/DNN-prosjekt/segmentation_data_new/test/images/fish_003620785640_12838.png: 128x128 1 1, 7.6ms\n",
      "image 2172/4118 /home/anderste/ikt450-deep-neural-networks/DNN-prosjekt/segmentation_data_new/test/images/fish_003620915640_18275.png: 128x128 1 1, 7.7ms\n",
      "image 2173/4118 /home/anderste/ikt450-deep-neural-networks/DNN-prosjekt/segmentation_data_new/test/images/fish_003621165639_22899.png: 128x128 1 3, 7.6ms\n",
      "image 2174/4118 /home/anderste/ikt450-deep-neural-networks/DNN-prosjekt/segmentation_data_new/test/images/fish_003621195640_24044.png: 128x128 1 1, 7.6ms\n",
      "image 2175/4118 /home/anderste/ikt450-deep-neural-networks/DNN-prosjekt/segmentation_data_new/test/images/fish_003621275639_15054.png: 128x128 1 3, 7.6ms\n",
      "image 2176/4118 /home/anderste/ikt450-deep-neural-networks/DNN-prosjekt/segmentation_data_new/test/images/fish_003621305640_18683.png: 128x128 1 1, 7.6ms\n",
      "image 2177/4118 /home/anderste/ikt450-deep-neural-networks/DNN-prosjekt/segmentation_data_new/test/images/fish_003623955643_12465.png: 128x128 1 12, 7.7ms\n",
      "image 2178/4118 /home/anderste/ikt450-deep-neural-networks/DNN-prosjekt/segmentation_data_new/test/images/fish_003623955643_20763.png: 128x128 1 12, 7.6ms\n",
      "image 2179/4118 /home/anderste/ikt450-deep-neural-networks/DNN-prosjekt/segmentation_data_new/test/images/fish_003628065657_12146.png: 128x128 1 0, 1 1, 7.6ms\n",
      "image 2180/4118 /home/anderste/ikt450-deep-neural-networks/DNN-prosjekt/segmentation_data_new/test/images/fish_003628975658_14801.png: 128x128 1 0, 7.8ms\n",
      "image 2181/4118 /home/anderste/ikt450-deep-neural-networks/DNN-prosjekt/segmentation_data_new/test/images/fish_003629175658_11168.png: 128x128 1 1, 7.6ms\n",
      "image 2182/4118 /home/anderste/ikt450-deep-neural-networks/DNN-prosjekt/segmentation_data_new/test/images/fish_003629465658_16013.png: 128x128 1 1, 7.6ms\n",
      "image 2183/4118 /home/anderste/ikt450-deep-neural-networks/DNN-prosjekt/segmentation_data_new/test/images/fish_003629525658_22735.png: 128x128 1 1, 7.5ms\n",
      "image 2184/4118 /home/anderste/ikt450-deep-neural-networks/DNN-prosjekt/segmentation_data_new/test/images/fish_003631425663_13598.png: 128x128 1 5, 7.7ms\n",
      "image 2185/4118 /home/anderste/ikt450-deep-neural-networks/DNN-prosjekt/segmentation_data_new/test/images/fish_003631425663_15640.png: 128x128 1 5, 8.0ms\n",
      "image 2186/4118 /home/anderste/ikt450-deep-neural-networks/DNN-prosjekt/segmentation_data_new/test/images/fish_003631525663_12566.png: 128x128 1 5, 7.6ms\n",
      "image 2187/4118 /home/anderste/ikt450-deep-neural-networks/DNN-prosjekt/segmentation_data_new/test/images/fish_003631525663_12575.png: 128x128 1 5, 7.6ms\n",
      "image 2188/4118 /home/anderste/ikt450-deep-neural-networks/DNN-prosjekt/segmentation_data_new/test/images/fish_003631525663_13504.png: 128x128 1 5, 7.7ms\n",
      "image 2189/4118 /home/anderste/ikt450-deep-neural-networks/DNN-prosjekt/segmentation_data_new/test/images/fish_003631525663_15759.png: 128x128 1 5, 7.7ms\n",
      "image 2190/4118 /home/anderste/ikt450-deep-neural-networks/DNN-prosjekt/segmentation_data_new/test/images/fish_003631525663_17745.png: 128x128 1 5, 7.8ms\n",
      "image 2191/4118 /home/anderste/ikt450-deep-neural-networks/DNN-prosjekt/segmentation_data_new/test/images/fish_003631525663_17746.png: 128x128 1 5, 7.6ms\n",
      "image 2192/4118 /home/anderste/ikt450-deep-neural-networks/DNN-prosjekt/segmentation_data_new/test/images/fish_003631525663_18289.png: 128x128 1 5, 7.7ms\n",
      "image 2193/4118 /home/anderste/ikt450-deep-neural-networks/DNN-prosjekt/segmentation_data_new/test/images/fish_003631525663_19392.png: 128x128 1 5, 7.6ms\n",
      "image 2194/4118 /home/anderste/ikt450-deep-neural-networks/DNN-prosjekt/segmentation_data_new/test/images/fish_003631625663_11592.png: 128x128 1 5, 92.3ms\n",
      "image 2195/4118 /home/anderste/ikt450-deep-neural-networks/DNN-prosjekt/segmentation_data_new/test/images/fish_003631625663_13414.png: 128x128 1 5, 7.8ms\n",
      "image 2196/4118 /home/anderste/ikt450-deep-neural-networks/DNN-prosjekt/segmentation_data_new/test/images/fish_003631625663_19682.png: 128x128 1 5, 7.6ms\n",
      "image 2197/4118 /home/anderste/ikt450-deep-neural-networks/DNN-prosjekt/segmentation_data_new/test/images/fish_003631625663_21294.png: 128x128 1 5, 7.7ms\n",
      "image 2198/4118 /home/anderste/ikt450-deep-neural-networks/DNN-prosjekt/segmentation_data_new/test/images/fish_003631625663_25811.png: 128x128 1 5, 7.7ms\n",
      "image 2199/4118 /home/anderste/ikt450-deep-neural-networks/DNN-prosjekt/segmentation_data_new/test/images/fish_003631685663_10412.png: 128x128 1 5, 7.6ms\n",
      "image 2200/4118 /home/anderste/ikt450-deep-neural-networks/DNN-prosjekt/segmentation_data_new/test/images/fish_003631685663_21290.png: 128x128 1 5, 7.7ms\n",
      "image 2201/4118 /home/anderste/ikt450-deep-neural-networks/DNN-prosjekt/segmentation_data_new/test/images/fish_003631845663_21147.png: 128x128 1 5, 7.7ms\n",
      "image 2202/4118 /home/anderste/ikt450-deep-neural-networks/DNN-prosjekt/segmentation_data_new/test/images/fish_003631905663_13503.png: 128x128 1 5, 7.7ms\n",
      "image 2203/4118 /home/anderste/ikt450-deep-neural-networks/DNN-prosjekt/segmentation_data_new/test/images/fish_003631905663_14092.png: 128x128 1 5, 7.7ms\n",
      "image 2204/4118 /home/anderste/ikt450-deep-neural-networks/DNN-prosjekt/segmentation_data_new/test/images/fish_003631905663_15768.png: 128x128 1 5, 7.6ms\n",
      "image 2205/4118 /home/anderste/ikt450-deep-neural-networks/DNN-prosjekt/segmentation_data_new/test/images/fish_003631975663_12594.png: 128x128 1 5, 7.4ms\n",
      "image 2206/4118 /home/anderste/ikt450-deep-neural-networks/DNN-prosjekt/segmentation_data_new/test/images/fish_003631975663_19169.png: 128x128 1 5, 7.4ms\n",
      "image 2207/4118 /home/anderste/ikt450-deep-neural-networks/DNN-prosjekt/segmentation_data_new/test/images/fish_003632375665_25730.png: 128x128 1 5, 7.6ms\n",
      "image 2208/4118 /home/anderste/ikt450-deep-neural-networks/DNN-prosjekt/segmentation_data_new/test/images/fish_003633295671_11769.png: 128x128 1 1, 7.6ms\n",
      "image 2209/4118 /home/anderste/ikt450-deep-neural-networks/DNN-prosjekt/segmentation_data_new/test/images/fish_003633815671_10589.png: 128x128 1 1, 7.7ms\n",
      "image 2210/4118 /home/anderste/ikt450-deep-neural-networks/DNN-prosjekt/segmentation_data_new/test/images/fish_003633855671_18176.png: 128x128 1 6, 7.7ms\n",
      "image 2211/4118 /home/anderste/ikt450-deep-neural-networks/DNN-prosjekt/segmentation_data_new/test/images/fish_003636375685_20146.png: 128x128 1 3, 1 4, 7.7ms\n",
      "image 2212/4118 /home/anderste/ikt450-deep-neural-networks/DNN-prosjekt/segmentation_data_new/test/images/fish_003636375685_21277.png: 128x128 1 4, 7.5ms\n",
      "image 2213/4118 /home/anderste/ikt450-deep-neural-networks/DNN-prosjekt/segmentation_data_new/test/images/fish_003636495685_10230.png: 128x128 1 4, 7.6ms\n",
      "image 2214/4118 /home/anderste/ikt450-deep-neural-networks/DNN-prosjekt/segmentation_data_new/test/images/fish_003641815707_17838.png: 128x128 1 3, 7.6ms\n",
      "image 2215/4118 /home/anderste/ikt450-deep-neural-networks/DNN-prosjekt/segmentation_data_new/test/images/fish_003641825707_17680.png: 128x128 1 2, 7.7ms\n",
      "image 2216/4118 /home/anderste/ikt450-deep-neural-networks/DNN-prosjekt/segmentation_data_new/test/images/fish_003641835707_14671.png: 128x128 1 3, 7.7ms\n",
      "image 2217/4118 /home/anderste/ikt450-deep-neural-networks/DNN-prosjekt/segmentation_data_new/test/images/fish_003641845707_14727.png: 128x128 1 3, 7.7ms\n",
      "image 2218/4118 /home/anderste/ikt450-deep-neural-networks/DNN-prosjekt/segmentation_data_new/test/images/fish_003641905707_23411.png: 128x128 1 1, 1 2, 7.8ms\n",
      "image 2219/4118 /home/anderste/ikt450-deep-neural-networks/DNN-prosjekt/segmentation_data_new/test/images/fish_003642055707_12882.png: 128x128 1 1, 8.0ms\n",
      "image 2220/4118 /home/anderste/ikt450-deep-neural-networks/DNN-prosjekt/segmentation_data_new/test/images/fish_003642165707_15270.png: 128x128 1 6, 7.5ms\n",
      "image 2221/4118 /home/anderste/ikt450-deep-neural-networks/DNN-prosjekt/segmentation_data_new/test/images/fish_003645185716_13018.png: 128x128 1 1, 7.4ms\n",
      "image 2222/4118 /home/anderste/ikt450-deep-neural-networks/DNN-prosjekt/segmentation_data_new/test/images/fish_003645355716_17786.png: 128x128 1 3, 7.7ms\n",
      "image 2223/4118 /home/anderste/ikt450-deep-neural-networks/DNN-prosjekt/segmentation_data_new/test/images/fish_003645435716_15645.png: 128x128 1 1, 7.7ms\n",
      "image 2224/4118 /home/anderste/ikt450-deep-neural-networks/DNN-prosjekt/segmentation_data_new/test/images/fish_003645435716_22406.png: 128x128 1 1, 7.8ms\n",
      "image 2225/4118 /home/anderste/ikt450-deep-neural-networks/DNN-prosjekt/segmentation_data_new/test/images/fish_003645545716_22350.png: 128x128 1 1, 7.6ms\n",
      "image 2226/4118 /home/anderste/ikt450-deep-neural-networks/DNN-prosjekt/segmentation_data_new/test/images/fish_003645595716_12084.png: 128x128 1 1, 7.7ms\n",
      "image 2227/4118 /home/anderste/ikt450-deep-neural-networks/DNN-prosjekt/segmentation_data_new/test/images/fish_003645655716_22407.png: 128x128 1 3, 7.6ms\n",
      "image 2228/4118 /home/anderste/ikt450-deep-neural-networks/DNN-prosjekt/segmentation_data_new/test/images/fish_003645655716_22505.png: 128x128 1 3, 7.7ms\n",
      "image 2229/4118 /home/anderste/ikt450-deep-neural-networks/DNN-prosjekt/segmentation_data_new/test/images/fish_003645985716_15495.png: 128x128 1 3, 7.5ms\n",
      "image 2230/4118 /home/anderste/ikt450-deep-neural-networks/DNN-prosjekt/segmentation_data_new/test/images/fish_003645985716_17231.png: 128x128 1 3, 8.2ms\n",
      "image 2231/4118 /home/anderste/ikt450-deep-neural-networks/DNN-prosjekt/segmentation_data_new/test/images/fish_003645995716_14176.png: 128x128 1 3, 7.7ms\n",
      "image 2232/4118 /home/anderste/ikt450-deep-neural-networks/DNN-prosjekt/segmentation_data_new/test/images/fish_003646005716_14430.png: 128x128 1 3, 7.7ms\n",
      "image 2233/4118 /home/anderste/ikt450-deep-neural-networks/DNN-prosjekt/segmentation_data_new/test/images/fish_003646135716_22413.png: 128x128 1 1, 7.7ms\n",
      "image 2234/4118 /home/anderste/ikt450-deep-neural-networks/DNN-prosjekt/segmentation_data_new/test/images/fish_003646295718_18243.png: 128x128 1 0, 1 1, 7.6ms\n",
      "image 2235/4118 /home/anderste/ikt450-deep-neural-networks/DNN-prosjekt/segmentation_data_new/test/images/fish_003650205725_10351.png: 128x128 1 0, 1 1, 7.7ms\n",
      "image 2236/4118 /home/anderste/ikt450-deep-neural-networks/DNN-prosjekt/segmentation_data_new/test/images/fish_003651455728_20282.png: 128x128 1 3, 7.6ms\n",
      "image 2237/4118 /home/anderste/ikt450-deep-neural-networks/DNN-prosjekt/segmentation_data_new/test/images/fish_003651525728_12655.png: 128x128 1 2, 7.7ms\n",
      "image 2238/4118 /home/anderste/ikt450-deep-neural-networks/DNN-prosjekt/segmentation_data_new/test/images/fish_003651555728_12191.png: 128x128 1 2, 7.6ms\n",
      "image 2239/4118 /home/anderste/ikt450-deep-neural-networks/DNN-prosjekt/segmentation_data_new/test/images/fish_003651565728_23140.png: 128x128 1 1, 7.5ms\n",
      "image 2240/4118 /home/anderste/ikt450-deep-neural-networks/DNN-prosjekt/segmentation_data_new/test/images/fish_003651735728_13120.png: 128x128 1 2, 7.7ms\n",
      "image 2241/4118 /home/anderste/ikt450-deep-neural-networks/DNN-prosjekt/segmentation_data_new/test/images/fish_003651775728_14777.png: 128x128 1 3, 7.6ms\n",
      "image 2242/4118 /home/anderste/ikt450-deep-neural-networks/DNN-prosjekt/segmentation_data_new/test/images/fish_003651925728_14991.png: 128x128 1 3, 7.8ms\n",
      "image 2243/4118 /home/anderste/ikt450-deep-neural-networks/DNN-prosjekt/segmentation_data_new/test/images/fish_003651925728_15003.png: 128x128 1 3, 7.6ms\n",
      "image 2244/4118 /home/anderste/ikt450-deep-neural-networks/DNN-prosjekt/segmentation_data_new/test/images/fish_003653585736_24527.png: 128x128 1 0, 1 1, 7.4ms\n",
      "image 2245/4118 /home/anderste/ikt450-deep-neural-networks/DNN-prosjekt/segmentation_data_new/test/images/fish_003653665737_18800.png: 128x128 1 5, 8.2ms\n",
      "image 2246/4118 /home/anderste/ikt450-deep-neural-networks/DNN-prosjekt/segmentation_data_new/test/images/fish_003657255751_10649.png: 128x128 1 1, 7.6ms\n",
      "image 2247/4118 /home/anderste/ikt450-deep-neural-networks/DNN-prosjekt/segmentation_data_new/test/images/fish_003657375751_20915.png: 128x128 1 1, 7.6ms\n",
      "image 2248/4118 /home/anderste/ikt450-deep-neural-networks/DNN-prosjekt/segmentation_data_new/test/images/fish_003657845752_16438.png: 128x128 1 0, 1 1, 7.5ms\n",
      "image 2249/4118 /home/anderste/ikt450-deep-neural-networks/DNN-prosjekt/segmentation_data_new/test/images/fish_003657955752_20083.png: 128x128 1 0, 7.6ms\n",
      "image 2250/4118 /home/anderste/ikt450-deep-neural-networks/DNN-prosjekt/segmentation_data_new/test/images/fish_003657965752_26094.png: 128x128 1 0, 7.5ms\n",
      "image 2251/4118 /home/anderste/ikt450-deep-neural-networks/DNN-prosjekt/segmentation_data_new/test/images/fish_003658075752_20496.png: 128x128 1 0, 8.1ms\n",
      "image 2252/4118 /home/anderste/ikt450-deep-neural-networks/DNN-prosjekt/segmentation_data_new/test/images/fish_003658175752_17288.png: 128x128 1 0, 1 1, 7.7ms\n",
      "image 2253/4118 /home/anderste/ikt450-deep-neural-networks/DNN-prosjekt/segmentation_data_new/test/images/fish_003658175752_22533.png: 128x128 1 0, 1 1, 7.6ms\n",
      "image 2254/4118 /home/anderste/ikt450-deep-neural-networks/DNN-prosjekt/segmentation_data_new/test/images/fish_003658425752_20341.png: 128x128 1 0, 7.6ms\n",
      "image 2255/4118 /home/anderste/ikt450-deep-neural-networks/DNN-prosjekt/segmentation_data_new/test/images/fish_003658445752_19938.png: 128x128 1 1, 7.7ms\n",
      "image 2256/4118 /home/anderste/ikt450-deep-neural-networks/DNN-prosjekt/segmentation_data_new/test/images/fish_003658515752_25261.png: 128x128 1 1, 7.5ms\n",
      "image 2257/4118 /home/anderste/ikt450-deep-neural-networks/DNN-prosjekt/segmentation_data_new/test/images/fish_003658615752_25351.png: 128x128 1 1, 7.5ms\n",
      "image 2258/4118 /home/anderste/ikt450-deep-neural-networks/DNN-prosjekt/segmentation_data_new/test/images/fish_003658685754_09538.png: 128x128 1 1, 7.5ms\n",
      "image 2259/4118 /home/anderste/ikt450-deep-neural-networks/DNN-prosjekt/segmentation_data_new/test/images/fish_003658795754_11250.png: 128x128 1 1, 7.6ms\n",
      "image 2260/4118 /home/anderste/ikt450-deep-neural-networks/DNN-prosjekt/segmentation_data_new/test/images/fish_003658945754_10552.png: 128x128 1 1, 7.7ms\n",
      "image 2261/4118 /home/anderste/ikt450-deep-neural-networks/DNN-prosjekt/segmentation_data_new/test/images/fish_003663845762_24219.png: 128x128 1 4, 7.6ms\n",
      "image 2262/4118 /home/anderste/ikt450-deep-neural-networks/DNN-prosjekt/segmentation_data_new/test/images/fish_003664025763_18468.png: 128x128 1 0, 7.6ms\n",
      "image 2263/4118 /home/anderste/ikt450-deep-neural-networks/DNN-prosjekt/segmentation_data_new/test/images/fish_003665105765_27155.png: 128x128 1 1, 7.5ms\n",
      "image 2264/4118 /home/anderste/ikt450-deep-neural-networks/DNN-prosjekt/segmentation_data_new/test/images/fish_003665735765_23792.png: 128x128 1 1, 7.7ms\n",
      "image 2265/4118 /home/anderste/ikt450-deep-neural-networks/DNN-prosjekt/segmentation_data_new/test/images/fish_003666265765_17902.png: 128x128 1 3, 7.5ms\n",
      "image 2266/4118 /home/anderste/ikt450-deep-neural-networks/DNN-prosjekt/segmentation_data_new/test/images/fish_003666415765_27271.png: 128x128 1 1, 7.6ms\n",
      "image 2267/4118 /home/anderste/ikt450-deep-neural-networks/DNN-prosjekt/segmentation_data_new/test/images/fish_003666595765_14371.png: 128x128 1 2, 7.5ms\n",
      "image 2268/4118 /home/anderste/ikt450-deep-neural-networks/DNN-prosjekt/segmentation_data_new/test/images/fish_003666615765_13050.png: 128x128 1 3, 7.6ms\n",
      "image 2269/4118 /home/anderste/ikt450-deep-neural-networks/DNN-prosjekt/segmentation_data_new/test/images/fish_003666615765_17776.png: 128x128 1 3, 7.6ms\n",
      "image 2270/4118 /home/anderste/ikt450-deep-neural-networks/DNN-prosjekt/segmentation_data_new/test/images/fish_003669245772_09858.png: 128x128 1 0, 1 1, 7.5ms\n",
      "image 2271/4118 /home/anderste/ikt450-deep-neural-networks/DNN-prosjekt/segmentation_data_new/test/images/fish_003669755772_23254.png: 128x128 1 1, 8.2ms\n",
      "image 2272/4118 /home/anderste/ikt450-deep-neural-networks/DNN-prosjekt/segmentation_data_new/test/images/fish_003673715773_25950.png: 128x128 1 2, 7.4ms\n",
      "image 2273/4118 /home/anderste/ikt450-deep-neural-networks/DNN-prosjekt/segmentation_data_new/test/images/fish_003674495773_12704.png: 128x128 1 2, 7.4ms\n",
      "image 2274/4118 /home/anderste/ikt450-deep-neural-networks/DNN-prosjekt/segmentation_data_new/test/images/fish_003678285781_25451.png: 128x128 1 1, 7.6ms\n",
      "image 2275/4118 /home/anderste/ikt450-deep-neural-networks/DNN-prosjekt/segmentation_data_new/test/images/fish_003678335781_26067.png: 128x128 1 1, 7.5ms\n",
      "image 2276/4118 /home/anderste/ikt450-deep-neural-networks/DNN-prosjekt/segmentation_data_new/test/images/fish_003678515781_11327.png: 128x128 (no detections), 7.7ms\n",
      "image 2277/4118 /home/anderste/ikt450-deep-neural-networks/DNN-prosjekt/segmentation_data_new/test/images/fish_003678585781_14930.png: 128x128 1 0, 1 1, 8.1ms\n",
      "image 2278/4118 /home/anderste/ikt450-deep-neural-networks/DNN-prosjekt/segmentation_data_new/test/images/fish_003678685781_20070.png: 128x128 1 1, 7.6ms\n",
      "image 2279/4118 /home/anderste/ikt450-deep-neural-networks/DNN-prosjekt/segmentation_data_new/test/images/fish_003679515782_12753.png: 128x128 1 2, 1 3, 7.9ms\n",
      "image 2280/4118 /home/anderste/ikt450-deep-neural-networks/DNN-prosjekt/segmentation_data_new/test/images/fish_003679705782_25916.png: 128x128 1 1, 1 2, 7.6ms\n",
      "image 2281/4118 /home/anderste/ikt450-deep-neural-networks/DNN-prosjekt/segmentation_data_new/test/images/fish_003679825782_16763.png: 128x128 1 2, 7.9ms\n",
      "image 2282/4118 /home/anderste/ikt450-deep-neural-networks/DNN-prosjekt/segmentation_data_new/test/images/fish_003680755782_16775.png: 128x128 1 2, 7.7ms\n",
      "image 2283/4118 /home/anderste/ikt450-deep-neural-networks/DNN-prosjekt/segmentation_data_new/test/images/fish_003680765782_16758.png: 128x128 1 1, 1 2, 7.6ms\n",
      "image 2284/4118 /home/anderste/ikt450-deep-neural-networks/DNN-prosjekt/segmentation_data_new/test/images/fish_003681325782_09114.png: 128x128 1 2, 7.9ms\n",
      "image 2285/4118 /home/anderste/ikt450-deep-neural-networks/DNN-prosjekt/segmentation_data_new/test/images/fish_003683185784_16881.png: 128x128 1 1, 7.6ms\n",
      "image 2286/4118 /home/anderste/ikt450-deep-neural-networks/DNN-prosjekt/segmentation_data_new/test/images/fish_003689515794_21737.png: 128x128 1 0, 7.5ms\n",
      "image 2287/4118 /home/anderste/ikt450-deep-neural-networks/DNN-prosjekt/segmentation_data_new/test/images/fish_003689555794_14736.png: 128x128 1 0, 1 1, 7.5ms\n",
      "image 2288/4118 /home/anderste/ikt450-deep-neural-networks/DNN-prosjekt/segmentation_data_new/test/images/fish_003689785794_21762.png: 128x128 1 0, 7.6ms\n",
      "image 2289/4118 /home/anderste/ikt450-deep-neural-networks/DNN-prosjekt/segmentation_data_new/test/images/fish_003689815794_10505.png: 128x128 1 1, 7.6ms\n",
      "image 2290/4118 /home/anderste/ikt450-deep-neural-networks/DNN-prosjekt/segmentation_data_new/test/images/fish_003689815794_18976.png: 128x128 1 0, 1 1, 7.6ms\n",
      "image 2291/4118 /home/anderste/ikt450-deep-neural-networks/DNN-prosjekt/segmentation_data_new/test/images/fish_003690245794_21091.png: 128x128 1 3, 1 4, 7.6ms\n",
      "image 2292/4118 /home/anderste/ikt450-deep-neural-networks/DNN-prosjekt/segmentation_data_new/test/images/fish_003690385794_24337.png: 128x128 1 1, 8.2ms\n",
      "image 2293/4118 /home/anderste/ikt450-deep-neural-networks/DNN-prosjekt/segmentation_data_new/test/images/fish_003690435794_20090.png: 128x128 1 0, 7.7ms\n",
      "image 2294/4118 /home/anderste/ikt450-deep-neural-networks/DNN-prosjekt/segmentation_data_new/test/images/fish_003692095800_18868.png: 128x128 1 1, 7.5ms\n",
      "image 2295/4118 /home/anderste/ikt450-deep-neural-networks/DNN-prosjekt/segmentation_data_new/test/images/fish_003692285800_26679.png: 128x128 1 1, 7.7ms\n",
      "image 2296/4118 /home/anderste/ikt450-deep-neural-networks/DNN-prosjekt/segmentation_data_new/test/images/fish_003693565804_24059.png: 128x128 1 1, 7.8ms\n",
      "image 2297/4118 /home/anderste/ikt450-deep-neural-networks/DNN-prosjekt/segmentation_data_new/test/images/fish_003693915805_18913.png: 128x128 1 1, 7.6ms\n",
      "image 2298/4118 /home/anderste/ikt450-deep-neural-networks/DNN-prosjekt/segmentation_data_new/test/images/fish_003693985804_18525.png: 128x128 1 1, 7.5ms\n",
      "image 2299/4118 /home/anderste/ikt450-deep-neural-networks/DNN-prosjekt/segmentation_data_new/test/images/fish_003694275805_16344.png: 128x128 1 1, 7.6ms\n",
      "image 2300/4118 /home/anderste/ikt450-deep-neural-networks/DNN-prosjekt/segmentation_data_new/test/images/fish_003694385805_23329.png: 128x128 1 0, 1 1, 7.6ms\n",
      "image 2301/4118 /home/anderste/ikt450-deep-neural-networks/DNN-prosjekt/segmentation_data_new/test/images/fish_003695575806_13833.png: 128x128 1 1, 7.6ms\n",
      "image 2302/4118 /home/anderste/ikt450-deep-neural-networks/DNN-prosjekt/segmentation_data_new/test/images/fish_003695685806_26245.png: 128x128 1 0, 1 1, 7.7ms\n",
      "image 2303/4118 /home/anderste/ikt450-deep-neural-networks/DNN-prosjekt/segmentation_data_new/test/images/fish_003698295825_12947.png: 128x128 1 12, 7.8ms\n",
      "image 2304/4118 /home/anderste/ikt450-deep-neural-networks/DNN-prosjekt/segmentation_data_new/test/images/fish_003698315825_21729.png: 96x128 1 12, 8.3ms\n",
      "image 2305/4118 /home/anderste/ikt450-deep-neural-networks/DNN-prosjekt/segmentation_data_new/test/images/fish_003698325825_12946.png: 128x128 1 12, 8.2ms\n",
      "image 2306/4118 /home/anderste/ikt450-deep-neural-networks/DNN-prosjekt/segmentation_data_new/test/images/fish_003698325825_25033.png: 128x128 1 12, 7.6ms\n",
      "image 2307/4118 /home/anderste/ikt450-deep-neural-networks/DNN-prosjekt/segmentation_data_new/test/images/fish_003698345825_21670.png: 128x128 1 1, 7.4ms\n",
      "image 2308/4118 /home/anderste/ikt450-deep-neural-networks/DNN-prosjekt/segmentation_data_new/test/images/fish_003698665825_11558.png: 128x128 1 5, 7.6ms\n",
      "image 2309/4118 /home/anderste/ikt450-deep-neural-networks/DNN-prosjekt/segmentation_data_new/test/images/fish_003698725825_21991.png: 128x128 1 1, 7.6ms\n",
      "image 2310/4118 /home/anderste/ikt450-deep-neural-networks/DNN-prosjekt/segmentation_data_new/test/images/fish_003698725825_24319.png: 128x128 1 1, 7.9ms\n",
      "image 2311/4118 /home/anderste/ikt450-deep-neural-networks/DNN-prosjekt/segmentation_data_new/test/images/fish_003698775825_15879.png: 128x128 1 1, 7.6ms\n",
      "image 2312/4118 /home/anderste/ikt450-deep-neural-networks/DNN-prosjekt/segmentation_data_new/test/images/fish_003700455833_09192.png: 128x128 1 0, 7.6ms\n",
      "image 2313/4118 /home/anderste/ikt450-deep-neural-networks/DNN-prosjekt/segmentation_data_new/test/images/fish_003700455833_09195.png: 128x128 1 0, 7.6ms\n",
      "image 2314/4118 /home/anderste/ikt450-deep-neural-networks/DNN-prosjekt/segmentation_data_new/test/images/fish_003700895834_23338.png: 128x128 1 0, 1 1, 7.6ms\n",
      "image 2315/4118 /home/anderste/ikt450-deep-neural-networks/DNN-prosjekt/segmentation_data_new/test/images/fish_003701015833_09201.png: 128x128 1 1, 7.6ms\n",
      "image 2316/4118 /home/anderste/ikt450-deep-neural-networks/DNN-prosjekt/segmentation_data_new/test/images/fish_003701055834_17379.png: 128x128 1 1, 7.5ms\n",
      "image 2317/4118 /home/anderste/ikt450-deep-neural-networks/DNN-prosjekt/segmentation_data_new/test/images/fish_003701235834_20920.png: 128x128 1 1, 7.5ms\n",
      "image 2318/4118 /home/anderste/ikt450-deep-neural-networks/DNN-prosjekt/segmentation_data_new/test/images/fish_003701255834_24670.png: 128x128 1 1, 7.8ms\n",
      "image 2319/4118 /home/anderste/ikt450-deep-neural-networks/DNN-prosjekt/segmentation_data_new/test/images/fish_003701385834_23559.png: 128x128 1 1, 10.1ms\n",
      "image 2320/4118 /home/anderste/ikt450-deep-neural-networks/DNN-prosjekt/segmentation_data_new/test/images/fish_003701535833_25785.png: 128x128 1 5, 7.8ms\n",
      "image 2321/4118 /home/anderste/ikt450-deep-neural-networks/DNN-prosjekt/segmentation_data_new/test/images/fish_003701615833_12822.png: 128x128 1 0, 7.6ms\n",
      "image 2322/4118 /home/anderste/ikt450-deep-neural-networks/DNN-prosjekt/segmentation_data_new/test/images/fish_003701745833_09196.png: 128x128 1 0, 10.0ms\n",
      "image 2323/4118 /home/anderste/ikt450-deep-neural-networks/DNN-prosjekt/segmentation_data_new/test/images/fish_003702105833_10009.png: 128x128 1 1, 7.6ms\n",
      "image 2324/4118 /home/anderste/ikt450-deep-neural-networks/DNN-prosjekt/segmentation_data_new/test/images/fish_003705555838_25912.png: 128x128 1 2, 7.6ms\n",
      "image 2325/4118 /home/anderste/ikt450-deep-neural-networks/DNN-prosjekt/segmentation_data_new/test/images/fish_003705695838_15282.png: 128x128 1 2, 1 3, 7.5ms\n",
      "image 2326/4118 /home/anderste/ikt450-deep-neural-networks/DNN-prosjekt/segmentation_data_new/test/images/fish_003706045838_23727.png: 128x128 1 2, 8.1ms\n",
      "image 2327/4118 /home/anderste/ikt450-deep-neural-networks/DNN-prosjekt/segmentation_data_new/test/images/fish_003706085838_14786.png: 128x128 1 3, 7.6ms\n",
      "image 2328/4118 /home/anderste/ikt450-deep-neural-networks/DNN-prosjekt/segmentation_data_new/test/images/fish_003706175838_22599.png: 128x128 1 2, 7.5ms\n",
      "image 2329/4118 /home/anderste/ikt450-deep-neural-networks/DNN-prosjekt/segmentation_data_new/test/images/fish_003706235838_27362.png: 128x128 1 2, 7.7ms\n",
      "image 2330/4118 /home/anderste/ikt450-deep-neural-networks/DNN-prosjekt/segmentation_data_new/test/images/fish_003706365838_09146.png: 128x128 1 3, 7.5ms\n",
      "image 2331/4118 /home/anderste/ikt450-deep-neural-networks/DNN-prosjekt/segmentation_data_new/test/images/fish_003706365838_10135.png: 128x128 1 3, 7.6ms\n",
      "image 2332/4118 /home/anderste/ikt450-deep-neural-networks/DNN-prosjekt/segmentation_data_new/test/images/fish_003706365838_12384.png: 128x128 1 3, 7.5ms\n",
      "image 2333/4118 /home/anderste/ikt450-deep-neural-networks/DNN-prosjekt/segmentation_data_new/test/images/fish_003706365838_23689.png: 128x128 1 3, 7.6ms\n",
      "image 2334/4118 /home/anderste/ikt450-deep-neural-networks/DNN-prosjekt/segmentation_data_new/test/images/fish_003707155844_18487.png: 128x128 1 0, 7.6ms\n",
      "image 2335/4118 /home/anderste/ikt450-deep-neural-networks/DNN-prosjekt/segmentation_data_new/test/images/fish_003707215844_25285.png: 128x128 1 0, 1 1, 7.5ms\n",
      "image 2336/4118 /home/anderste/ikt450-deep-neural-networks/DNN-prosjekt/segmentation_data_new/test/images/fish_003708255845_17903.png: 128x128 1 3, 7.6ms\n",
      "image 2337/4118 /home/anderste/ikt450-deep-neural-networks/DNN-prosjekt/segmentation_data_new/test/images/fish_003708255845_22379.png: 128x128 1 3, 7.6ms\n",
      "image 2338/4118 /home/anderste/ikt450-deep-neural-networks/DNN-prosjekt/segmentation_data_new/test/images/fish_003708385845_11214.png: 128x128 1 2, 7.5ms\n",
      "image 2339/4118 /home/anderste/ikt450-deep-neural-networks/DNN-prosjekt/segmentation_data_new/test/images/fish_003708385845_12674.png: 128x128 1 2, 7.6ms\n",
      "image 2340/4118 /home/anderste/ikt450-deep-neural-networks/DNN-prosjekt/segmentation_data_new/test/images/fish_003708535845_22186.png: 128x128 1 3, 7.6ms\n",
      "image 2341/4118 /home/anderste/ikt450-deep-neural-networks/DNN-prosjekt/segmentation_data_new/test/images/fish_003708685845_22497.png: 128x128 1 1, 7.6ms\n",
      "image 2342/4118 /home/anderste/ikt450-deep-neural-networks/DNN-prosjekt/segmentation_data_new/test/images/fish_003708705845_22210.png: 128x128 1 3, 7.7ms\n",
      "image 2343/4118 /home/anderste/ikt450-deep-neural-networks/DNN-prosjekt/segmentation_data_new/test/images/fish_003708995845_23759.png: 128x128 1 2, 7.5ms\n",
      "image 2344/4118 /home/anderste/ikt450-deep-neural-networks/DNN-prosjekt/segmentation_data_new/test/images/fish_003709045845_24130.png: 128x128 1 2, 7.4ms\n",
      "image 2345/4118 /home/anderste/ikt450-deep-neural-networks/DNN-prosjekt/segmentation_data_new/test/images/fish_003709195845_23063.png: 128x128 1 2, 7.6ms\n",
      "image 2346/4118 /home/anderste/ikt450-deep-neural-networks/DNN-prosjekt/segmentation_data_new/test/images/fish_003709195845_23629.png: 128x128 1 2, 7.6ms\n",
      "image 2347/4118 /home/anderste/ikt450-deep-neural-networks/DNN-prosjekt/segmentation_data_new/test/images/fish_003709385845_17773.png: 128x128 1 2, 1 3, 7.6ms\n",
      "image 2348/4118 /home/anderste/ikt450-deep-neural-networks/DNN-prosjekt/segmentation_data_new/test/images/fish_003710185846_21790.png: 128x128 1 1, 8.1ms\n",
      "image 2349/4118 /home/anderste/ikt450-deep-neural-networks/DNN-prosjekt/segmentation_data_new/test/images/fish_003710245846_25023.png: 128x128 1 1, 7.6ms\n",
      "image 2350/4118 /home/anderste/ikt450-deep-neural-networks/DNN-prosjekt/segmentation_data_new/test/images/fish_003713225848_10626.png: 128x128 1 0, 7.5ms\n",
      "image 2351/4118 /home/anderste/ikt450-deep-neural-networks/DNN-prosjekt/segmentation_data_new/test/images/fish_003713415850_14565.png: 128x128 1 1, 1 2, 7.7ms\n",
      "image 2352/4118 /home/anderste/ikt450-deep-neural-networks/DNN-prosjekt/segmentation_data_new/test/images/fish_003713435850_25182.png: 128x128 1 1, 7.7ms\n",
      "image 2353/4118 /home/anderste/ikt450-deep-neural-networks/DNN-prosjekt/segmentation_data_new/test/images/fish_003713555850_18398.png: 128x128 1 1, 7.6ms\n",
      "image 2354/4118 /home/anderste/ikt450-deep-neural-networks/DNN-prosjekt/segmentation_data_new/test/images/fish_003714515855_26870.png: 128x128 1 2, 7.6ms\n",
      "image 2355/4118 /home/anderste/ikt450-deep-neural-networks/DNN-prosjekt/segmentation_data_new/test/images/fish_003714665855_16808.png: 128x128 1 1, 7.6ms\n",
      "image 2356/4118 /home/anderste/ikt450-deep-neural-networks/DNN-prosjekt/segmentation_data_new/test/images/fish_003714675855_17038.png: 128x128 1 2, 7.6ms\n",
      "image 2357/4118 /home/anderste/ikt450-deep-neural-networks/DNN-prosjekt/segmentation_data_new/test/images/fish_003714895855_10791.png: 128x128 1 0, 1 1, 7.6ms\n",
      "image 2358/4118 /home/anderste/ikt450-deep-neural-networks/DNN-prosjekt/segmentation_data_new/test/images/fish_003714975855_23041.png: 128x128 1 2, 7.8ms\n",
      "image 2359/4118 /home/anderste/ikt450-deep-neural-networks/DNN-prosjekt/segmentation_data_new/test/images/fish_003715345857_15662.png: 128x128 1 1, 7.6ms\n",
      "image 2360/4118 /home/anderste/ikt450-deep-neural-networks/DNN-prosjekt/segmentation_data_new/test/images/fish_003715375857_15634.png: 128x128 1 1, 7.5ms\n",
      "image 2361/4118 /home/anderste/ikt450-deep-neural-networks/DNN-prosjekt/segmentation_data_new/test/images/fish_003715375857_18417.png: 128x128 1 1, 7.8ms\n",
      "image 2362/4118 /home/anderste/ikt450-deep-neural-networks/DNN-prosjekt/segmentation_data_new/test/images/fish_003715395857_20493.png: 128x128 1 0, 1 1, 7.7ms\n",
      "image 2363/4118 /home/anderste/ikt450-deep-neural-networks/DNN-prosjekt/segmentation_data_new/test/images/fish_003717235859_17295.png: 128x128 1 1, 7.9ms\n",
      "image 2364/4118 /home/anderste/ikt450-deep-neural-networks/DNN-prosjekt/segmentation_data_new/test/images/fish_003717235859_20688.png: 128x128 1 0, 1 1, 7.7ms\n",
      "image 2365/4118 /home/anderste/ikt450-deep-neural-networks/DNN-prosjekt/segmentation_data_new/test/images/fish_003717265859_20903.png: 128x128 1 3, 7.7ms\n",
      "image 2366/4118 /home/anderste/ikt450-deep-neural-networks/DNN-prosjekt/segmentation_data_new/test/images/fish_003717345859_21030.png: 128x128 1 3, 9.0ms\n",
      "image 2367/4118 /home/anderste/ikt450-deep-neural-networks/DNN-prosjekt/segmentation_data_new/test/images/fish_003717435859_24976.png: 128x128 1 3, 7.6ms\n",
      "image 2368/4118 /home/anderste/ikt450-deep-neural-networks/DNN-prosjekt/segmentation_data_new/test/images/fish_003717485859_20182.png: 128x128 1 3, 7.6ms\n",
      "image 2369/4118 /home/anderste/ikt450-deep-neural-networks/DNN-prosjekt/segmentation_data_new/test/images/fish_003717975859_17261.png: 128x128 1 3, 7.8ms\n",
      "image 2370/4118 /home/anderste/ikt450-deep-neural-networks/DNN-prosjekt/segmentation_data_new/test/images/fish_003722615870_09035.png: 128x128 1 2, 7.6ms\n",
      "image 2371/4118 /home/anderste/ikt450-deep-neural-networks/DNN-prosjekt/segmentation_data_new/test/images/fish_003722895870_23156.png: 128x128 1 2, 7.7ms\n",
      "image 2372/4118 /home/anderste/ikt450-deep-neural-networks/DNN-prosjekt/segmentation_data_new/test/images/fish_003723355870_17102.png: 128x128 1 2, 7.7ms\n",
      "image 2373/4118 /home/anderste/ikt450-deep-neural-networks/DNN-prosjekt/segmentation_data_new/test/images/fish_003725005873_14818.png: 128x128 1 3, 7.7ms\n",
      "image 2374/4118 /home/anderste/ikt450-deep-neural-networks/DNN-prosjekt/segmentation_data_new/test/images/fish_003725025873_23102.png: 128x128 1 3, 7.6ms\n",
      "image 2375/4118 /home/anderste/ikt450-deep-neural-networks/DNN-prosjekt/segmentation_data_new/test/images/fish_003725035873_24546.png: 128x128 1 3, 7.6ms\n",
      "image 2376/4118 /home/anderste/ikt450-deep-neural-networks/DNN-prosjekt/segmentation_data_new/test/images/fish_003725105873_10811.png: 128x128 1 3, 7.7ms\n",
      "image 2377/4118 /home/anderste/ikt450-deep-neural-networks/DNN-prosjekt/segmentation_data_new/test/images/fish_003725295873_26196.png: 128x128 1 2, 7.7ms\n",
      "image 2378/4118 /home/anderste/ikt450-deep-neural-networks/DNN-prosjekt/segmentation_data_new/test/images/fish_003725505873_09780.png: 128x128 1 1, 8.3ms\n",
      "image 2379/4118 /home/anderste/ikt450-deep-neural-networks/DNN-prosjekt/segmentation_data_new/test/images/fish_003725615873_17699.png: 128x128 1 2, 7.7ms\n",
      "image 2380/4118 /home/anderste/ikt450-deep-neural-networks/DNN-prosjekt/segmentation_data_new/test/images/fish_003726235873_12793.png: 128x128 (no detections), 7.6ms\n",
      "image 2381/4118 /home/anderste/ikt450-deep-neural-networks/DNN-prosjekt/segmentation_data_new/test/images/fish_003726315873_10061.png: 128x128 1 2, 7.5ms\n",
      "image 2382/4118 /home/anderste/ikt450-deep-neural-networks/DNN-prosjekt/segmentation_data_new/test/images/fish_003726315873_14374.png: 128x128 1 2, 7.7ms\n",
      "image 2383/4118 /home/anderste/ikt450-deep-neural-networks/DNN-prosjekt/segmentation_data_new/test/images/fish_003726375873_23078.png: 128x128 1 2, 7.7ms\n",
      "image 2384/4118 /home/anderste/ikt450-deep-neural-networks/DNN-prosjekt/segmentation_data_new/test/images/fish_003730535880_23235.png: 128x128 1 1, 7.8ms\n",
      "image 2385/4118 /home/anderste/ikt450-deep-neural-networks/DNN-prosjekt/segmentation_data_new/test/images/fish_003730535880_25501.png: 128x128 1 1, 7.4ms\n",
      "image 2386/4118 /home/anderste/ikt450-deep-neural-networks/DNN-prosjekt/segmentation_data_new/test/images/fish_003730775880_25486.png: 128x128 1 1, 7.5ms\n",
      "image 2387/4118 /home/anderste/ikt450-deep-neural-networks/DNN-prosjekt/segmentation_data_new/test/images/fish_003732395882_26435.png: 128x128 1 2, 7.6ms\n",
      "image 2388/4118 /home/anderste/ikt450-deep-neural-networks/DNN-prosjekt/segmentation_data_new/test/images/fish_003735535894_16386.png: 128x128 1 1, 7.6ms\n",
      "image 2389/4118 /home/anderste/ikt450-deep-neural-networks/DNN-prosjekt/segmentation_data_new/test/images/fish_003735555894_18835.png: 128x128 1 1, 7.6ms\n",
      "image 2390/4118 /home/anderste/ikt450-deep-neural-networks/DNN-prosjekt/segmentation_data_new/test/images/fish_003735605895_22320.png: 128x128 1 5, 7.7ms\n",
      "image 2391/4118 /home/anderste/ikt450-deep-neural-networks/DNN-prosjekt/segmentation_data_new/test/images/fish_003735735894_25142.png: 128x128 1 1, 7.7ms\n",
      "image 2392/4118 /home/anderste/ikt450-deep-neural-networks/DNN-prosjekt/segmentation_data_new/test/images/fish_003736075894_18820.png: 128x128 1 0, 1 1, 7.6ms\n",
      "image 2393/4118 /home/anderste/ikt450-deep-neural-networks/DNN-prosjekt/segmentation_data_new/test/images/fish_003738725907_18942.png: 128x128 1 1, 7.6ms\n",
      "image 2394/4118 /home/anderste/ikt450-deep-neural-networks/DNN-prosjekt/segmentation_data_new/test/images/fish_003738745907_14249.png: 128x128 1 6, 7.6ms\n",
      "image 2395/4118 /home/anderste/ikt450-deep-neural-networks/DNN-prosjekt/segmentation_data_new/test/images/fish_003739325908_17131.png: 128x128 1 2, 7.5ms\n",
      "image 2396/4118 /home/anderste/ikt450-deep-neural-networks/DNN-prosjekt/segmentation_data_new/test/images/fish_003739375908_26635.png: 128x128 1 2, 7.5ms\n",
      "image 2397/4118 /home/anderste/ikt450-deep-neural-networks/DNN-prosjekt/segmentation_data_new/test/images/fish_003741475916_09360.png: 128x128 1 3, 1 4, 7.5ms\n",
      "image 2398/4118 /home/anderste/ikt450-deep-neural-networks/DNN-prosjekt/segmentation_data_new/test/images/fish_003742335918_25808.png: 128x128 1 5, 7.6ms\n",
      "image 2399/4118 /home/anderste/ikt450-deep-neural-networks/DNN-prosjekt/segmentation_data_new/test/images/fish_003742885920_09823.png: 128x128 1 4, 7.9ms\n",
      "image 2400/4118 /home/anderste/ikt450-deep-neural-networks/DNN-prosjekt/segmentation_data_new/test/images/fish_003747405940_11792.png: 128x128 1 1, 7.7ms\n",
      "image 2401/4118 /home/anderste/ikt450-deep-neural-networks/DNN-prosjekt/segmentation_data_new/test/images/fish_003751645959_24898.png: 128x128 1 1, 7.5ms\n",
      "image 2402/4118 /home/anderste/ikt450-deep-neural-networks/DNN-prosjekt/segmentation_data_new/test/images/fish_003751665959_23085.png: 128x128 1 1, 7.7ms\n",
      "image 2403/4118 /home/anderste/ikt450-deep-neural-networks/DNN-prosjekt/segmentation_data_new/test/images/fish_003752035959_22453.png: 128x128 1 1, 1 2, 7.5ms\n",
      "image 2404/4118 /home/anderste/ikt450-deep-neural-networks/DNN-prosjekt/segmentation_data_new/test/images/fish_003752815961_15831.png: 128x128 1 5, 8.2ms\n",
      "image 2405/4118 /home/anderste/ikt450-deep-neural-networks/DNN-prosjekt/segmentation_data_new/test/images/fish_003752815961_19363.png: 128x128 1 5, 7.6ms\n",
      "image 2406/4118 /home/anderste/ikt450-deep-neural-networks/DNN-prosjekt/segmentation_data_new/test/images/fish_003752825961_11507.png: 128x128 1 5, 7.6ms\n",
      "image 2407/4118 /home/anderste/ikt450-deep-neural-networks/DNN-prosjekt/segmentation_data_new/test/images/fish_003752925961_13369.png: 128x128 1 5, 7.5ms\n",
      "image 2408/4118 /home/anderste/ikt450-deep-neural-networks/DNN-prosjekt/segmentation_data_new/test/images/fish_003752925961_19395.png: 128x128 1 5, 7.5ms\n",
      "image 2409/4118 /home/anderste/ikt450-deep-neural-networks/DNN-prosjekt/segmentation_data_new/test/images/fish_003752925961_19560.png: 128x128 1 5, 7.6ms\n",
      "image 2410/4118 /home/anderste/ikt450-deep-neural-networks/DNN-prosjekt/segmentation_data_new/test/images/fish_003752955961_19209.png: 128x128 1 5, 7.5ms\n",
      "image 2411/4118 /home/anderste/ikt450-deep-neural-networks/DNN-prosjekt/segmentation_data_new/test/images/fish_003752955961_19609.png: 128x128 1 5, 9.2ms\n",
      "image 2412/4118 /home/anderste/ikt450-deep-neural-networks/DNN-prosjekt/segmentation_data_new/test/images/fish_003752955961_19683.png: 128x128 1 5, 7.6ms\n",
      "image 2413/4118 /home/anderste/ikt450-deep-neural-networks/DNN-prosjekt/segmentation_data_new/test/images/fish_003753075961_19664.png: 128x128 1 5, 7.7ms\n",
      "image 2414/4118 /home/anderste/ikt450-deep-neural-networks/DNN-prosjekt/segmentation_data_new/test/images/fish_003753075961_24229.png: 128x128 1 5, 7.7ms\n",
      "image 2415/4118 /home/anderste/ikt450-deep-neural-networks/DNN-prosjekt/segmentation_data_new/test/images/fish_003753095961_19373.png: 128x128 1 5, 7.6ms\n",
      "image 2416/4118 /home/anderste/ikt450-deep-neural-networks/DNN-prosjekt/segmentation_data_new/test/images/fish_003753125961_13341.png: 128x128 1 5, 7.5ms\n",
      "image 2417/4118 /home/anderste/ikt450-deep-neural-networks/DNN-prosjekt/segmentation_data_new/test/images/fish_003753135961_11603.png: 128x128 1 5, 7.5ms\n",
      "image 2418/4118 /home/anderste/ikt450-deep-neural-networks/DNN-prosjekt/segmentation_data_new/test/images/fish_003753135961_20992.png: 128x128 1 5, 7.6ms\n",
      "image 2419/4118 /home/anderste/ikt450-deep-neural-networks/DNN-prosjekt/segmentation_data_new/test/images/fish_003753155961_21465.png: 128x128 1 5, 7.5ms\n",
      "image 2420/4118 /home/anderste/ikt450-deep-neural-networks/DNN-prosjekt/segmentation_data_new/test/images/fish_003753155961_21983.png: 128x128 1 5, 7.6ms\n",
      "image 2421/4118 /home/anderste/ikt450-deep-neural-networks/DNN-prosjekt/segmentation_data_new/test/images/fish_003754265970_09497.png: 128x128 1 3, 7.6ms\n",
      "image 2422/4118 /home/anderste/ikt450-deep-neural-networks/DNN-prosjekt/segmentation_data_new/test/images/fish_003755315976_13290.png: 128x128 1 2, 7.4ms\n",
      "image 2423/4118 /home/anderste/ikt450-deep-neural-networks/DNN-prosjekt/segmentation_data_new/test/images/fish_003755315976_26120.png: 128x128 1 2, 7.5ms\n",
      "image 2424/4118 /home/anderste/ikt450-deep-neural-networks/DNN-prosjekt/segmentation_data_new/test/images/fish_003755375976_26445.png: 128x128 1 2, 7.6ms\n",
      "image 2425/4118 /home/anderste/ikt450-deep-neural-networks/DNN-prosjekt/segmentation_data_new/test/images/fish_003755475976_15880.png: 128x128 1 2, 7.6ms\n",
      "image 2426/4118 /home/anderste/ikt450-deep-neural-networks/DNN-prosjekt/segmentation_data_new/test/images/fish_003755575976_17098.png: 128x128 1 2, 7.8ms\n",
      "image 2427/4118 /home/anderste/ikt450-deep-neural-networks/DNN-prosjekt/segmentation_data_new/test/images/fish_003755635976_13212.png: 128x128 1 2, 7.6ms\n",
      "image 2428/4118 /home/anderste/ikt450-deep-neural-networks/DNN-prosjekt/segmentation_data_new/test/images/fish_003755865976_12222.png: 128x128 1 1, 7.6ms\n",
      "image 2429/4118 /home/anderste/ikt450-deep-neural-networks/DNN-prosjekt/segmentation_data_new/test/images/fish_003755875976_26841.png: 128x128 1 2, 7.6ms\n",
      "image 2430/4118 /home/anderste/ikt450-deep-neural-networks/DNN-prosjekt/segmentation_data_new/test/images/fish_003755955977_15614.png: 128x128 1 1, 7.5ms\n",
      "image 2431/4118 /home/anderste/ikt450-deep-neural-networks/DNN-prosjekt/segmentation_data_new/test/images/fish_003756035976_13709.png: 128x128 1 2, 7.5ms\n",
      "image 2432/4118 /home/anderste/ikt450-deep-neural-networks/DNN-prosjekt/segmentation_data_new/test/images/fish_003756505977_23406.png: 128x128 1 3, 8.0ms\n",
      "image 2433/4118 /home/anderste/ikt450-deep-neural-networks/DNN-prosjekt/segmentation_data_new/test/images/fish_003759175985_08996.png: 128x128 1 3, 1 4, 7.6ms\n",
      "image 2434/4118 /home/anderste/ikt450-deep-neural-networks/DNN-prosjekt/segmentation_data_new/test/images/fish_003759175985_10407.png: 128x128 1 4, 8.3ms\n",
      "image 2435/4118 /home/anderste/ikt450-deep-neural-networks/DNN-prosjekt/segmentation_data_new/test/images/fish_003759175985_11285.png: 128x128 1 4, 7.9ms\n",
      "image 2436/4118 /home/anderste/ikt450-deep-neural-networks/DNN-prosjekt/segmentation_data_new/test/images/fish_003759175985_21212.png: 128x128 1 4, 7.6ms\n",
      "image 2437/4118 /home/anderste/ikt450-deep-neural-networks/DNN-prosjekt/segmentation_data_new/test/images/fish_003759295985_21484.png: 128x128 1 4, 1 5, 7.7ms\n",
      "image 2438/4118 /home/anderste/ikt450-deep-neural-networks/DNN-prosjekt/segmentation_data_new/test/images/fish_003759375985_21140.png: 128x128 1 4, 7.7ms\n",
      "image 2439/4118 /home/anderste/ikt450-deep-neural-networks/DNN-prosjekt/segmentation_data_new/test/images/fish_003759515985_21106.png: 128x128 1 4, 7.8ms\n",
      "image 2440/4118 /home/anderste/ikt450-deep-neural-networks/DNN-prosjekt/segmentation_data_new/test/images/fish_003759525985_25684.png: 128x128 1 4, 7.5ms\n",
      "image 2441/4118 /home/anderste/ikt450-deep-neural-networks/DNN-prosjekt/segmentation_data_new/test/images/fish_003759575985_09356.png: 128x128 1 3, 1 4, 7.6ms\n",
      "image 2442/4118 /home/anderste/ikt450-deep-neural-networks/DNN-prosjekt/segmentation_data_new/test/images/fish_003759725985_21129.png: 128x128 1 4, 7.7ms\n",
      "image 2443/4118 /home/anderste/ikt450-deep-neural-networks/DNN-prosjekt/segmentation_data_new/test/images/fish_003759835985_09335.png: 128x128 1 4, 7.7ms\n",
      "image 2444/4118 /home/anderste/ikt450-deep-neural-networks/DNN-prosjekt/segmentation_data_new/test/images/fish_003759875985_09364.png: 128x128 1 4, 7.6ms\n",
      "image 2445/4118 /home/anderste/ikt450-deep-neural-networks/DNN-prosjekt/segmentation_data_new/test/images/fish_003759885985_18133.png: 128x128 1 4, 7.7ms\n",
      "image 2446/4118 /home/anderste/ikt450-deep-neural-networks/DNN-prosjekt/segmentation_data_new/test/images/fish_003759895985_20517.png: 128x128 1 4, 7.5ms\n",
      "image 2447/4118 /home/anderste/ikt450-deep-neural-networks/DNN-prosjekt/segmentation_data_new/test/images/fish_003760125985_15633.png: 128x128 1 4, 7.6ms\n",
      "image 2448/4118 /home/anderste/ikt450-deep-neural-networks/DNN-prosjekt/segmentation_data_new/test/images/fish_003760125985_20207.png: 128x128 1 4, 7.7ms\n",
      "image 2449/4118 /home/anderste/ikt450-deep-neural-networks/DNN-prosjekt/segmentation_data_new/test/images/fish_003762045989_23240.png: 128x128 1 1, 7.6ms\n",
      "image 2450/4118 /home/anderste/ikt450-deep-neural-networks/DNN-prosjekt/segmentation_data_new/test/images/fish_003763915996_14926.png: 128x128 1 1, 7.7ms\n",
      "image 2451/4118 /home/anderste/ikt450-deep-neural-networks/DNN-prosjekt/segmentation_data_new/test/images/fish_003768016001_17399.png: 128x128 1 1, 7.6ms\n",
      "image 2452/4118 /home/anderste/ikt450-deep-neural-networks/DNN-prosjekt/segmentation_data_new/test/images/fish_003768446002_15594.png: 128x128 1 0, 1 1, 7.6ms\n",
      "image 2453/4118 /home/anderste/ikt450-deep-neural-networks/DNN-prosjekt/segmentation_data_new/test/images/fish_003771406010_17638.png: 128x128 1 3, 8.2ms\n",
      "image 2454/4118 /home/anderste/ikt450-deep-neural-networks/DNN-prosjekt/segmentation_data_new/test/images/fish_003771546010_19881.png: 128x128 1 4, 7.7ms\n",
      "image 2455/4118 /home/anderste/ikt450-deep-neural-networks/DNN-prosjekt/segmentation_data_new/test/images/fish_003771946012_13689.png: 128x128 1 2, 7.7ms\n",
      "image 2456/4118 /home/anderste/ikt450-deep-neural-networks/DNN-prosjekt/segmentation_data_new/test/images/fish_003772096012_11780.png: 128x128 1 3, 7.7ms\n",
      "image 2457/4118 /home/anderste/ikt450-deep-neural-networks/DNN-prosjekt/segmentation_data_new/test/images/fish_003773356014_20429.png: 128x128 1 0, 1 1, 7.5ms\n",
      "image 2458/4118 /home/anderste/ikt450-deep-neural-networks/DNN-prosjekt/segmentation_data_new/test/images/fish_003773356014_25300.png: 128x128 1 0, 1 1, 7.6ms\n",
      "image 2459/4118 /home/anderste/ikt450-deep-neural-networks/DNN-prosjekt/segmentation_data_new/test/images/fish_003773796016_20226.png: 128x128 1 4, 7.8ms\n",
      "image 2460/4118 /home/anderste/ikt450-deep-neural-networks/DNN-prosjekt/segmentation_data_new/test/images/fish_003773806016_09285.png: 128x128 1 4, 7.8ms\n",
      "image 2461/4118 /home/anderste/ikt450-deep-neural-networks/DNN-prosjekt/segmentation_data_new/test/images/fish_003773886016_11734.png: 128x128 1 4, 8.0ms\n",
      "image 2462/4118 /home/anderste/ikt450-deep-neural-networks/DNN-prosjekt/segmentation_data_new/test/images/fish_003773986016_23957.png: 128x128 1 4, 7.5ms\n",
      "image 2463/4118 /home/anderste/ikt450-deep-neural-networks/DNN-prosjekt/segmentation_data_new/test/images/fish_003774376021_24242.png: 128x128 1 5, 7.6ms\n",
      "image 2464/4118 /home/anderste/ikt450-deep-neural-networks/DNN-prosjekt/segmentation_data_new/test/images/fish_003775716025_15158.png: 128x128 1 2, 7.7ms\n",
      "image 2465/4118 /home/anderste/ikt450-deep-neural-networks/DNN-prosjekt/segmentation_data_new/test/images/fish_003775716025_22335.png: 128x128 1 2, 7.8ms\n",
      "image 2466/4118 /home/anderste/ikt450-deep-neural-networks/DNN-prosjekt/segmentation_data_new/test/images/fish_003775876025_14734.png: 128x128 1 3, 7.6ms\n",
      "image 2467/4118 /home/anderste/ikt450-deep-neural-networks/DNN-prosjekt/segmentation_data_new/test/images/fish_003775986025_14901.png: 128x128 1 3, 7.6ms\n",
      "image 2468/4118 /home/anderste/ikt450-deep-neural-networks/DNN-prosjekt/segmentation_data_new/test/images/fish_003776116025_14245.png: 128x128 1 3, 7.5ms\n",
      "image 2469/4118 /home/anderste/ikt450-deep-neural-networks/DNN-prosjekt/segmentation_data_new/test/images/fish_003776166025_09994.png: 128x128 1 3, 7.6ms\n",
      "image 2470/4118 /home/anderste/ikt450-deep-neural-networks/DNN-prosjekt/segmentation_data_new/test/images/fish_003776166025_12980.png: 128x128 1 3, 7.7ms\n",
      "image 2471/4118 /home/anderste/ikt450-deep-neural-networks/DNN-prosjekt/segmentation_data_new/test/images/fish_003776166025_15457.png: 128x128 1 3, 7.6ms\n",
      "image 2472/4118 /home/anderste/ikt450-deep-neural-networks/DNN-prosjekt/segmentation_data_new/test/images/fish_003776166025_25390.png: 128x128 1 3, 7.7ms\n",
      "image 2473/4118 /home/anderste/ikt450-deep-neural-networks/DNN-prosjekt/segmentation_data_new/test/images/fish_003776236025_15982.png: 128x128 1 3, 7.7ms\n",
      "image 2474/4118 /home/anderste/ikt450-deep-neural-networks/DNN-prosjekt/segmentation_data_new/test/images/fish_003776246025_11228.png: 128x128 1 2, 7.7ms\n",
      "image 2475/4118 /home/anderste/ikt450-deep-neural-networks/DNN-prosjekt/segmentation_data_new/test/images/fish_003776526025_25384.png: 128x128 1 3, 7.7ms\n",
      "image 2476/4118 /home/anderste/ikt450-deep-neural-networks/DNN-prosjekt/segmentation_data_new/test/images/fish_003776526025_26397.png: 128x128 1 3, 7.7ms\n",
      "image 2477/4118 /home/anderste/ikt450-deep-neural-networks/DNN-prosjekt/segmentation_data_new/test/images/fish_003776586025_24926.png: 128x128 1 1, 7.6ms\n",
      "image 2478/4118 /home/anderste/ikt450-deep-neural-networks/DNN-prosjekt/segmentation_data_new/test/images/fish_003776726026_09091.png: 128x128 1 6, 7.6ms\n",
      "image 2479/4118 /home/anderste/ikt450-deep-neural-networks/DNN-prosjekt/segmentation_data_new/test/images/fish_003778946033_25500.png: 128x128 1 0, 1 1, 7.7ms\n",
      "image 2480/4118 /home/anderste/ikt450-deep-neural-networks/DNN-prosjekt/segmentation_data_new/test/images/fish_003778946033_25510.png: 128x128 1 0, 7.7ms\n",
      "image 2481/4118 /home/anderste/ikt450-deep-neural-networks/DNN-prosjekt/segmentation_data_new/test/images/fish_003780566038_18690.png: 128x128 1 1, 7.7ms\n",
      "image 2482/4118 /home/anderste/ikt450-deep-neural-networks/DNN-prosjekt/segmentation_data_new/test/images/fish_003780586038_18496.png: 128x128 1 1, 7.7ms\n",
      "image 2483/4118 /home/anderste/ikt450-deep-neural-networks/DNN-prosjekt/segmentation_data_new/test/images/fish_003780616038_22030.png: 128x128 1 1, 7.6ms\n",
      "image 2484/4118 /home/anderste/ikt450-deep-neural-networks/DNN-prosjekt/segmentation_data_new/test/images/fish_003780736038_18386.png: 128x128 1 1, 7.7ms\n",
      "image 2485/4118 /home/anderste/ikt450-deep-neural-networks/DNN-prosjekt/segmentation_data_new/test/images/fish_003780766038_16278.png: 128x128 1 1, 9.1ms\n",
      "image 2486/4118 /home/anderste/ikt450-deep-neural-networks/DNN-prosjekt/segmentation_data_new/test/images/fish_003780776038_24110.png: 128x128 1 1, 7.6ms\n",
      "image 2487/4118 /home/anderste/ikt450-deep-neural-networks/DNN-prosjekt/segmentation_data_new/test/images/fish_003780776038_24112.png: 128x128 1 1, 8.1ms\n",
      "image 2488/4118 /home/anderste/ikt450-deep-neural-networks/DNN-prosjekt/segmentation_data_new/test/images/fish_003780796038_14419.png: 128x128 1 1, 7.7ms\n",
      "image 2489/4118 /home/anderste/ikt450-deep-neural-networks/DNN-prosjekt/segmentation_data_new/test/images/fish_003780826038_25526.png: 128x128 1 1, 7.7ms\n",
      "image 2490/4118 /home/anderste/ikt450-deep-neural-networks/DNN-prosjekt/segmentation_data_new/test/images/fish_003780876038_20571.png: 128x128 1 1, 8.1ms\n",
      "image 2491/4118 /home/anderste/ikt450-deep-neural-networks/DNN-prosjekt/segmentation_data_new/test/images/fish_003780956038_25554.png: 128x128 1 0, 1 1, 7.7ms\n",
      "image 2492/4118 /home/anderste/ikt450-deep-neural-networks/DNN-prosjekt/segmentation_data_new/test/images/fish_003782606044_09344.png: 128x128 1 4, 7.7ms\n",
      "image 2493/4118 /home/anderste/ikt450-deep-neural-networks/DNN-prosjekt/segmentation_data_new/test/images/fish_003782636044_10951.png: 128x128 1 4, 7.6ms\n",
      "image 2494/4118 /home/anderste/ikt450-deep-neural-networks/DNN-prosjekt/segmentation_data_new/test/images/fish_003783866047_19238.png: 128x128 1 5, 7.7ms\n",
      "image 2495/4118 /home/anderste/ikt450-deep-neural-networks/DNN-prosjekt/segmentation_data_new/test/images/fish_003784006047_15928.png: 128x128 1 5, 7.7ms\n",
      "image 2496/4118 /home/anderste/ikt450-deep-neural-networks/DNN-prosjekt/segmentation_data_new/test/images/fish_003784006047_18570.png: 128x128 1 5, 7.6ms\n",
      "image 2497/4118 /home/anderste/ikt450-deep-neural-networks/DNN-prosjekt/segmentation_data_new/test/images/fish_003784246052_25986.png: 128x128 1 2, 7.7ms\n",
      "image 2498/4118 /home/anderste/ikt450-deep-neural-networks/DNN-prosjekt/segmentation_data_new/test/images/fish_003784416052_15413.png: 128x128 1 2, 7.6ms\n",
      "image 2499/4118 /home/anderste/ikt450-deep-neural-networks/DNN-prosjekt/segmentation_data_new/test/images/fish_003784526052_12187.png: 128x128 1 2, 7.7ms\n",
      "image 2500/4118 /home/anderste/ikt450-deep-neural-networks/DNN-prosjekt/segmentation_data_new/test/images/fish_003784986052_25962.png: 128x128 1 2, 7.6ms\n",
      "image 2501/4118 /home/anderste/ikt450-deep-neural-networks/DNN-prosjekt/segmentation_data_new/test/images/fish_003788956066_12662.png: 128x128 1 2, 8.4ms\n",
      "image 2502/4118 /home/anderste/ikt450-deep-neural-networks/DNN-prosjekt/segmentation_data_new/test/images/fish_003789506070_23311.png: 128x128 1 1, 7.7ms\n",
      "image 2503/4118 /home/anderste/ikt450-deep-neural-networks/DNN-prosjekt/segmentation_data_new/test/images/fish_003790676075_12856.png: 128x128 1 1, 7.6ms\n",
      "image 2504/4118 /home/anderste/ikt450-deep-neural-networks/DNN-prosjekt/segmentation_data_new/test/images/fish_003790676075_14520.png: 128x128 1 1, 7.7ms\n",
      "image 2505/4118 /home/anderste/ikt450-deep-neural-networks/DNN-prosjekt/segmentation_data_new/test/images/fish_003790726075_24360.png: 128x128 1 2, 7.9ms\n",
      "image 2506/4118 /home/anderste/ikt450-deep-neural-networks/DNN-prosjekt/segmentation_data_new/test/images/fish_003790936075_09686.png: 128x128 1 9, 8.1ms\n",
      "image 2507/4118 /home/anderste/ikt450-deep-neural-networks/DNN-prosjekt/segmentation_data_new/test/images/fish_003790936075_14335.png: 128x128 1 9, 7.6ms\n",
      "image 2508/4118 /home/anderste/ikt450-deep-neural-networks/DNN-prosjekt/segmentation_data_new/test/images/fish_003790936075_14719.png: 128x128 1 9, 7.7ms\n",
      "image 2509/4118 /home/anderste/ikt450-deep-neural-networks/DNN-prosjekt/segmentation_data_new/test/images/fish_003791166075_09839.png: 128x128 1 2, 7.7ms\n",
      "image 2510/4118 /home/anderste/ikt450-deep-neural-networks/DNN-prosjekt/segmentation_data_new/test/images/fish_003791186075_12901.png: 128x128 1 1, 7.6ms\n",
      "image 2511/4118 /home/anderste/ikt450-deep-neural-networks/DNN-prosjekt/segmentation_data_new/test/images/fish_003791186075_22929.png: 128x128 1 1, 7.8ms\n",
      "image 2512/4118 /home/anderste/ikt450-deep-neural-networks/DNN-prosjekt/segmentation_data_new/test/images/fish_003791206075_27082.png: 128x128 1 1, 7.7ms\n",
      "image 2513/4118 /home/anderste/ikt450-deep-neural-networks/DNN-prosjekt/segmentation_data_new/test/images/fish_003791266075_12760.png: 128x128 1 1, 7.8ms\n",
      "image 2514/4118 /home/anderste/ikt450-deep-neural-networks/DNN-prosjekt/segmentation_data_new/test/images/fish_003791336075_22586.png: 128x128 1 1, 7.4ms\n",
      "image 2515/4118 /home/anderste/ikt450-deep-neural-networks/DNN-prosjekt/segmentation_data_new/test/images/fish_003791606075_09955.png: 128x128 1 1, 7.6ms\n",
      "image 2516/4118 /home/anderste/ikt450-deep-neural-networks/DNN-prosjekt/segmentation_data_new/test/images/fish_003791846075_22155.png: 128x128 1 1, 8.3ms\n",
      "image 2517/4118 /home/anderste/ikt450-deep-neural-networks/DNN-prosjekt/segmentation_data_new/test/images/fish_003791866075_12123.png: 128x128 1 1, 7.6ms\n",
      "image 2518/4118 /home/anderste/ikt450-deep-neural-networks/DNN-prosjekt/segmentation_data_new/test/images/fish_003791896075_23454.png: 128x128 1 1, 7.5ms\n",
      "image 2519/4118 /home/anderste/ikt450-deep-neural-networks/DNN-prosjekt/segmentation_data_new/test/images/fish_003796336083_11604.png: 128x128 1 5, 7.6ms\n",
      "image 2520/4118 /home/anderste/ikt450-deep-neural-networks/DNN-prosjekt/segmentation_data_new/test/images/fish_003796336083_13638.png: 128x128 1 5, 7.6ms\n",
      "image 2521/4118 /home/anderste/ikt450-deep-neural-networks/DNN-prosjekt/segmentation_data_new/test/images/fish_003796336083_19537.png: 128x128 1 5, 9.2ms\n",
      "image 2522/4118 /home/anderste/ikt450-deep-neural-networks/DNN-prosjekt/segmentation_data_new/test/images/fish_003796336083_25816.png: 128x128 1 5, 8.1ms\n",
      "image 2523/4118 /home/anderste/ikt450-deep-neural-networks/DNN-prosjekt/segmentation_data_new/test/images/fish_003796346083_19499.png: 128x128 1 5, 8.4ms\n",
      "image 2524/4118 /home/anderste/ikt450-deep-neural-networks/DNN-prosjekt/segmentation_data_new/test/images/fish_003796366083_25662.png: 128x128 1 5, 7.6ms\n",
      "image 2525/4118 /home/anderste/ikt450-deep-neural-networks/DNN-prosjekt/segmentation_data_new/test/images/fish_003796396083_09860.png: 128x128 1 5, 8.1ms\n",
      "image 2526/4118 /home/anderste/ikt450-deep-neural-networks/DNN-prosjekt/segmentation_data_new/test/images/fish_003796486083_19672.png: 128x128 1 5, 7.5ms\n",
      "image 2527/4118 /home/anderste/ikt450-deep-neural-networks/DNN-prosjekt/segmentation_data_new/test/images/fish_003796506083_19448.png: 128x128 1 5, 7.7ms\n",
      "image 2528/4118 /home/anderste/ikt450-deep-neural-networks/DNN-prosjekt/segmentation_data_new/test/images/fish_003796506083_19649.png: 128x128 1 5, 7.6ms\n",
      "image 2529/4118 /home/anderste/ikt450-deep-neural-networks/DNN-prosjekt/segmentation_data_new/test/images/fish_003796536083_13464.png: 128x128 1 5, 7.7ms\n",
      "image 2530/4118 /home/anderste/ikt450-deep-neural-networks/DNN-prosjekt/segmentation_data_new/test/images/fish_003796626085_17452.png: 128x128 1 1, 7.5ms\n",
      "image 2531/4118 /home/anderste/ikt450-deep-neural-networks/DNN-prosjekt/segmentation_data_new/test/images/fish_003796636085_24514.png: 128x128 1 0, 7.2ms\n",
      "image 2532/4118 /home/anderste/ikt450-deep-neural-networks/DNN-prosjekt/segmentation_data_new/test/images/fish_003796696085_17556.png: 128x128 1 1, 7.5ms\n",
      "image 2533/4118 /home/anderste/ikt450-deep-neural-networks/DNN-prosjekt/segmentation_data_new/test/images/fish_003796736085_18927.png: 128x128 1 1, 7.7ms\n",
      "image 2534/4118 /home/anderste/ikt450-deep-neural-networks/DNN-prosjekt/segmentation_data_new/test/images/fish_003796816085_24404.png: 128x128 1 0, 1 1, 7.5ms\n",
      "image 2535/4118 /home/anderste/ikt450-deep-neural-networks/DNN-prosjekt/segmentation_data_new/test/images/fish_003796956085_24791.png: 128x128 1 1, 7.6ms\n",
      "image 2536/4118 /home/anderste/ikt450-deep-neural-networks/DNN-prosjekt/segmentation_data_new/test/images/fish_003798166092_09787.png: 128x128 1 1, 7.9ms\n",
      "image 2537/4118 /home/anderste/ikt450-deep-neural-networks/DNN-prosjekt/segmentation_data_new/test/images/fish_003799126094_09231.png: 128x128 1 0, 1 1, 7.6ms\n",
      "image 2538/4118 /home/anderste/ikt450-deep-neural-networks/DNN-prosjekt/segmentation_data_new/test/images/fish_003800476101_16175.png: 128x128 1 5, 8.3ms\n",
      "image 2539/4118 /home/anderste/ikt450-deep-neural-networks/DNN-prosjekt/segmentation_data_new/test/images/fish_003800676101_16085.png: 128x128 2 5s, 7.6ms\n",
      "image 2540/4118 /home/anderste/ikt450-deep-neural-networks/DNN-prosjekt/segmentation_data_new/test/images/fish_003800786102_15112.png: 128x128 1 1, 7.6ms\n",
      "image 2541/4118 /home/anderste/ikt450-deep-neural-networks/DNN-prosjekt/segmentation_data_new/test/images/fish_003800856101_20726.png: 128x128 1 5, 7.6ms\n",
      "image 2542/4118 /home/anderste/ikt450-deep-neural-networks/DNN-prosjekt/segmentation_data_new/test/images/fish_003800916101_16177.png: 128x128 1 5, 7.5ms\n",
      "image 2543/4118 /home/anderste/ikt450-deep-neural-networks/DNN-prosjekt/segmentation_data_new/test/images/fish_003800916101_20719.png: 128x128 1 5, 7.5ms\n",
      "image 2544/4118 /home/anderste/ikt450-deep-neural-networks/DNN-prosjekt/segmentation_data_new/test/images/fish_003800916101_23535.png: 128x128 1 5, 7.6ms\n",
      "image 2545/4118 /home/anderste/ikt450-deep-neural-networks/DNN-prosjekt/segmentation_data_new/test/images/fish_003801086101_16111.png: 128x128 1 5, 7.7ms\n",
      "image 2546/4118 /home/anderste/ikt450-deep-neural-networks/DNN-prosjekt/segmentation_data_new/test/images/fish_003801296101_27148.png: 128x128 1 1, 7.6ms\n",
      "image 2547/4118 /home/anderste/ikt450-deep-neural-networks/DNN-prosjekt/segmentation_data_new/test/images/fish_003801596101_23495.png: 128x128 1 5, 7.7ms\n",
      "image 2548/4118 /home/anderste/ikt450-deep-neural-networks/DNN-prosjekt/segmentation_data_new/test/images/fish_003801616101_16190.png: 128x128 1 5, 7.6ms\n",
      "image 2549/4118 /home/anderste/ikt450-deep-neural-networks/DNN-prosjekt/segmentation_data_new/test/images/fish_003801676101_16210.png: 128x128 1 5, 7.7ms\n",
      "image 2550/4118 /home/anderste/ikt450-deep-neural-networks/DNN-prosjekt/segmentation_data_new/test/images/fish_003801676101_16240.png: 128x128 1 5, 7.6ms\n",
      "image 2551/4118 /home/anderste/ikt450-deep-neural-networks/DNN-prosjekt/segmentation_data_new/test/images/fish_003801686101_10477.png: 128x128 1 1, 7.7ms\n",
      "image 2552/4118 /home/anderste/ikt450-deep-neural-networks/DNN-prosjekt/segmentation_data_new/test/images/fish_003803936104_21293.png: 128x128 1 1, 7.6ms\n",
      "image 2553/4118 /home/anderste/ikt450-deep-neural-networks/DNN-prosjekt/segmentation_data_new/test/images/fish_003804686105_22142.png: 128x128 1 1, 7.7ms\n",
      "image 2554/4118 /home/anderste/ikt450-deep-neural-networks/DNN-prosjekt/segmentation_data_new/test/images/fish_003804876105_11171.png: 128x128 1 1, 7.6ms\n",
      "image 2555/4118 /home/anderste/ikt450-deep-neural-networks/DNN-prosjekt/segmentation_data_new/test/images/fish_003805266105_13957.png: 128x128 1 1, 7.6ms\n",
      "image 2556/4118 /home/anderste/ikt450-deep-neural-networks/DNN-prosjekt/segmentation_data_new/test/images/fish_003805376105_22412.png: 128x128 1 3, 7.8ms\n",
      "image 2557/4118 /home/anderste/ikt450-deep-neural-networks/DNN-prosjekt/segmentation_data_new/test/images/fish_003805496105_23052.png: 128x128 1 2, 8.0ms\n",
      "image 2558/4118 /home/anderste/ikt450-deep-neural-networks/DNN-prosjekt/segmentation_data_new/test/images/fish_003805526105_18013.png: 128x128 1 1, 7.7ms\n",
      "image 2559/4118 /home/anderste/ikt450-deep-neural-networks/DNN-prosjekt/segmentation_data_new/test/images/fish_003805666105_15689.png: 128x128 1 3, 7.7ms\n",
      "image 2560/4118 /home/anderste/ikt450-deep-neural-networks/DNN-prosjekt/segmentation_data_new/test/images/fish_003805746105_22151.png: 128x128 1 3, 7.5ms\n",
      "image 2561/4118 /home/anderste/ikt450-deep-neural-networks/DNN-prosjekt/segmentation_data_new/test/images/fish_003805916105_14224.png: 128x128 1 1, 7.6ms\n",
      "image 2562/4118 /home/anderste/ikt450-deep-neural-networks/DNN-prosjekt/segmentation_data_new/test/images/fish_003805946105_17677.png: 128x128 1 2, 7.8ms\n",
      "image 2563/4118 /home/anderste/ikt450-deep-neural-networks/DNN-prosjekt/segmentation_data_new/test/images/fish_003809246114_22149.png: 128x128 1 3, 7.6ms\n",
      "image 2564/4118 /home/anderste/ikt450-deep-neural-networks/DNN-prosjekt/segmentation_data_new/test/images/fish_003809336114_14170.png: 128x128 1 3, 7.6ms\n",
      "image 2565/4118 /home/anderste/ikt450-deep-neural-networks/DNN-prosjekt/segmentation_data_new/test/images/fish_003809406114_15439.png: 128x128 1 2, 7.3ms\n",
      "image 2566/4118 /home/anderste/ikt450-deep-neural-networks/DNN-prosjekt/segmentation_data_new/test/images/fish_003809426114_15355.png: 128x128 1 3, 7.8ms\n",
      "image 2567/4118 /home/anderste/ikt450-deep-neural-networks/DNN-prosjekt/segmentation_data_new/test/images/fish_003809556114_11207.png: 128x128 1 2, 7.6ms\n",
      "image 2568/4118 /home/anderste/ikt450-deep-neural-networks/DNN-prosjekt/segmentation_data_new/test/images/fish_003809566114_22506.png: 128x128 1 3, 7.7ms\n",
      "image 2569/4118 /home/anderste/ikt450-deep-neural-networks/DNN-prosjekt/segmentation_data_new/test/images/fish_003809766114_22753.png: 128x128 1 1, 8.4ms\n",
      "image 2570/4118 /home/anderste/ikt450-deep-neural-networks/DNN-prosjekt/segmentation_data_new/test/images/fish_003811586116_18837.png: 128x128 1 1, 7.6ms\n",
      "image 2571/4118 /home/anderste/ikt450-deep-neural-networks/DNN-prosjekt/segmentation_data_new/test/images/fish_003813616123_24686.png: 128x128 1 1, 7.6ms\n",
      "image 2572/4118 /home/anderste/ikt450-deep-neural-networks/DNN-prosjekt/segmentation_data_new/test/images/fish_003814436124_16414.png: 128x128 1 1, 7.6ms\n",
      "image 2573/4118 /home/anderste/ikt450-deep-neural-networks/DNN-prosjekt/segmentation_data_new/test/images/fish_003814736124_13998.png: 128x128 1 1, 7.7ms\n",
      "image 2574/4118 /home/anderste/ikt450-deep-neural-networks/DNN-prosjekt/segmentation_data_new/test/images/fish_003814766124_10729.png: 128x128 1 1, 7.6ms\n",
      "image 2575/4118 /home/anderste/ikt450-deep-neural-networks/DNN-prosjekt/segmentation_data_new/test/images/fish_003814986124_14029.png: 128x128 1 1, 7.7ms\n",
      "image 2576/4118 /home/anderste/ikt450-deep-neural-networks/DNN-prosjekt/segmentation_data_new/test/images/fish_003815026124_21935.png: 128x128 1 1, 7.6ms\n",
      "image 2577/4118 /home/anderste/ikt450-deep-neural-networks/DNN-prosjekt/segmentation_data_new/test/images/fish_003815036124_26340.png: 128x128 1 1, 7.5ms\n",
      "image 2578/4118 /home/anderste/ikt450-deep-neural-networks/DNN-prosjekt/segmentation_data_new/test/images/fish_003815366124_09063.png: 128x128 1 1, 7.6ms\n",
      "image 2579/4118 /home/anderste/ikt450-deep-neural-networks/DNN-prosjekt/segmentation_data_new/test/images/fish_003816976126_21915.png: 128x128 1 0, 1 1, 7.7ms\n",
      "image 2580/4118 /home/anderste/ikt450-deep-neural-networks/DNN-prosjekt/segmentation_data_new/test/images/fish_003817046126_24343.png: 128x128 1 1, 7.8ms\n",
      "image 2581/4118 /home/anderste/ikt450-deep-neural-networks/DNN-prosjekt/segmentation_data_new/test/images/fish_003817186126_13041.png: 128x128 1 1, 7.7ms\n",
      "image 2582/4118 /home/anderste/ikt450-deep-neural-networks/DNN-prosjekt/segmentation_data_new/test/images/fish_003817426126_24801.png: 128x128 1 1, 7.6ms\n",
      "image 2583/4118 /home/anderste/ikt450-deep-neural-networks/DNN-prosjekt/segmentation_data_new/test/images/fish_003817616126_21526.png: 128x128 1 1, 7.6ms\n",
      "image 2584/4118 /home/anderste/ikt450-deep-neural-networks/DNN-prosjekt/segmentation_data_new/test/images/fish_003819406128_13282.png: 128x128 1 2, 1 3, 7.7ms\n",
      "image 2585/4118 /home/anderste/ikt450-deep-neural-networks/DNN-prosjekt/segmentation_data_new/test/images/fish_003819426127_18987.png: 128x128 1 1, 7.5ms\n",
      "image 2586/4118 /home/anderste/ikt450-deep-neural-networks/DNN-prosjekt/segmentation_data_new/test/images/fish_003819426127_20690.png: 128x128 1 1, 7.5ms\n",
      "image 2587/4118 /home/anderste/ikt450-deep-neural-networks/DNN-prosjekt/segmentation_data_new/test/images/fish_003819426127_24994.png: 128x128 1 1, 7.6ms\n",
      "image 2588/4118 /home/anderste/ikt450-deep-neural-networks/DNN-prosjekt/segmentation_data_new/test/images/fish_003819496128_26856.png: 128x128 1 2, 7.6ms\n",
      "image 2589/4118 /home/anderste/ikt450-deep-neural-networks/DNN-prosjekt/segmentation_data_new/test/images/fish_003819526127_25393.png: 128x128 1 1, 7.6ms\n",
      "image 2590/4118 /home/anderste/ikt450-deep-neural-networks/DNN-prosjekt/segmentation_data_new/test/images/fish_003819576127_10501.png: 128x128 1 1, 7.5ms\n",
      "image 2591/4118 /home/anderste/ikt450-deep-neural-networks/DNN-prosjekt/segmentation_data_new/test/images/fish_003819616127_27150.png: 128x128 1 1, 7.9ms\n",
      "image 2592/4118 /home/anderste/ikt450-deep-neural-networks/DNN-prosjekt/segmentation_data_new/test/images/fish_003819826127_11771.png: 128x128 1 1, 7.6ms\n",
      "image 2593/4118 /home/anderste/ikt450-deep-neural-networks/DNN-prosjekt/segmentation_data_new/test/images/fish_003819856127_26174.png: 128x128 1 1, 1 2, 7.4ms\n",
      "image 2594/4118 /home/anderste/ikt450-deep-neural-networks/DNN-prosjekt/segmentation_data_new/test/images/fish_003819896127_10603.png: 128x128 1 1, 8.3ms\n",
      "image 2595/4118 /home/anderste/ikt450-deep-neural-networks/DNN-prosjekt/segmentation_data_new/test/images/fish_003819946127_21782.png: 128x128 1 1, 7.5ms\n",
      "image 2596/4118 /home/anderste/ikt450-deep-neural-networks/DNN-prosjekt/segmentation_data_new/test/images/fish_003820006127_16546.png: 128x128 1 1, 7.6ms\n",
      "image 2597/4118 /home/anderste/ikt450-deep-neural-networks/DNN-prosjekt/segmentation_data_new/test/images/fish_003821126134_10600.png: 128x128 1 0, 1 1, 7.6ms\n",
      "image 2598/4118 /home/anderste/ikt450-deep-neural-networks/DNN-prosjekt/segmentation_data_new/test/images/fish_003821456134_22960.png: 128x128 1 1, 7.7ms\n",
      "image 2599/4118 /home/anderste/ikt450-deep-neural-networks/DNN-prosjekt/segmentation_data_new/test/images/fish_003821566135_12934.png: 128x128 1 1, 7.7ms\n",
      "image 2600/4118 /home/anderste/ikt450-deep-neural-networks/DNN-prosjekt/segmentation_data_new/test/images/fish_003823746136_09076.png: 128x128 1 4, 7.7ms\n",
      "image 2601/4118 /home/anderste/ikt450-deep-neural-networks/DNN-prosjekt/segmentation_data_new/test/images/fish_003825916156_17583.png: 128x128 1 1, 7.4ms\n",
      "image 2602/4118 /home/anderste/ikt450-deep-neural-networks/DNN-prosjekt/segmentation_data_new/test/images/fish_003825936156_13848.png: 128x128 1 1, 7.6ms\n",
      "image 2603/4118 /home/anderste/ikt450-deep-neural-networks/DNN-prosjekt/segmentation_data_new/test/images/fish_003826236157_17272.png: 128x128 1 2, 7.6ms\n",
      "image 2604/4118 /home/anderste/ikt450-deep-neural-networks/DNN-prosjekt/segmentation_data_new/test/images/fish_003826446157_14604.png: 128x128 1 2, 7.8ms\n",
      "image 2605/4118 /home/anderste/ikt450-deep-neural-networks/DNN-prosjekt/segmentation_data_new/test/images/fish_003826526157_22072.png: 128x128 1 3, 7.6ms\n",
      "image 2606/4118 /home/anderste/ikt450-deep-neural-networks/DNN-prosjekt/segmentation_data_new/test/images/fish_003826526157_25042.png: 128x128 1 3, 7.5ms\n",
      "image 2607/4118 /home/anderste/ikt450-deep-neural-networks/DNN-prosjekt/segmentation_data_new/test/images/fish_003826526157_27046.png: 128x128 1 3, 7.5ms\n",
      "image 2608/4118 /home/anderste/ikt450-deep-neural-networks/DNN-prosjekt/segmentation_data_new/test/images/fish_003826566157_13130.png: 128x128 1 2, 7.6ms\n",
      "image 2609/4118 /home/anderste/ikt450-deep-neural-networks/DNN-prosjekt/segmentation_data_new/test/images/fish_003826756157_17226.png: 128x128 1 3, 7.4ms\n",
      "image 2610/4118 /home/anderste/ikt450-deep-neural-networks/DNN-prosjekt/segmentation_data_new/test/images/fish_003827676157_14253.png: 128x128 1 3, 8.1ms\n",
      "image 2611/4118 /home/anderste/ikt450-deep-neural-networks/DNN-prosjekt/segmentation_data_new/test/images/fish_003832576168_25135.png: 128x128 1 0, 1 1, 7.7ms\n",
      "image 2612/4118 /home/anderste/ikt450-deep-neural-networks/DNN-prosjekt/segmentation_data_new/test/images/fish_003832586168_10987.png: 128x128 1 1, 9.3ms\n",
      "image 2613/4118 /home/anderste/ikt450-deep-neural-networks/DNN-prosjekt/segmentation_data_new/test/images/fish_003833056168_24671.png: 128x128 1 1, 7.6ms\n",
      "image 2614/4118 /home/anderste/ikt450-deep-neural-networks/DNN-prosjekt/segmentation_data_new/test/images/fish_003833216168_21998.png: 128x128 1 1, 7.4ms\n",
      "image 2615/4118 /home/anderste/ikt450-deep-neural-networks/DNN-prosjekt/segmentation_data_new/test/images/fish_003833406168_11094.png: 128x128 1 1, 7.7ms\n",
      "image 2616/4118 /home/anderste/ikt450-deep-neural-networks/DNN-prosjekt/segmentation_data_new/test/images/fish_003836876177_24690.png: 128x128 1 1, 7.7ms\n",
      "image 2617/4118 /home/anderste/ikt450-deep-neural-networks/DNN-prosjekt/segmentation_data_new/test/images/fish_003837096178_24731.png: 128x128 1 1, 7.6ms\n",
      "image 2618/4118 /home/anderste/ikt450-deep-neural-networks/DNN-prosjekt/segmentation_data_new/test/images/fish_003837156178_25421.png: 128x128 1 1, 7.6ms\n",
      "image 2619/4118 /home/anderste/ikt450-deep-neural-networks/DNN-prosjekt/segmentation_data_new/test/images/fish_003837186178_24786.png: 128x128 1 1, 8.4ms\n",
      "image 2620/4118 /home/anderste/ikt450-deep-neural-networks/DNN-prosjekt/segmentation_data_new/test/images/fish_003837386178_09877.png: 128x128 1 1, 9.5ms\n",
      "image 2621/4118 /home/anderste/ikt450-deep-neural-networks/DNN-prosjekt/segmentation_data_new/test/images/fish_003838066180_18601.png: 128x128 1 1, 7.6ms\n",
      "image 2622/4118 /home/anderste/ikt450-deep-neural-networks/DNN-prosjekt/segmentation_data_new/test/images/fish_003838116180_13019.png: 128x128 1 1, 7.6ms\n",
      "image 2623/4118 /home/anderste/ikt450-deep-neural-networks/DNN-prosjekt/segmentation_data_new/test/images/fish_003838186180_16644.png: 128x128 1 1, 7.6ms\n",
      "image 2624/4118 /home/anderste/ikt450-deep-neural-networks/DNN-prosjekt/segmentation_data_new/test/images/fish_003838236180_24654.png: 128x128 1 1, 7.6ms\n",
      "image 2625/4118 /home/anderste/ikt450-deep-neural-networks/DNN-prosjekt/segmentation_data_new/test/images/fish_003838396180_15884.png: 128x128 1 1, 7.8ms\n",
      "image 2626/4118 /home/anderste/ikt450-deep-neural-networks/DNN-prosjekt/segmentation_data_new/test/images/fish_003838396180_20527.png: 128x128 1 1, 7.7ms\n",
      "image 2627/4118 /home/anderste/ikt450-deep-neural-networks/DNN-prosjekt/segmentation_data_new/test/images/fish_003838516180_10574.png: 128x128 1 1, 7.4ms\n",
      "image 2628/4118 /home/anderste/ikt450-deep-neural-networks/DNN-prosjekt/segmentation_data_new/test/images/fish_003839346184_12779.png: 128x128 1 2, 9.8ms\n",
      "image 2629/4118 /home/anderste/ikt450-deep-neural-networks/DNN-prosjekt/segmentation_data_new/test/images/fish_003839466184_10078.png: 128x128 1 3, 8.0ms\n",
      "image 2630/4118 /home/anderste/ikt450-deep-neural-networks/DNN-prosjekt/segmentation_data_new/test/images/fish_003839556184_10092.png: 128x128 1 3, 7.6ms\n",
      "image 2631/4118 /home/anderste/ikt450-deep-neural-networks/DNN-prosjekt/segmentation_data_new/test/images/fish_003839656184_21606.png: 128x128 1 3, 7.9ms\n",
      "image 2632/4118 /home/anderste/ikt450-deep-neural-networks/DNN-prosjekt/segmentation_data_new/test/images/fish_003839686184_14910.png: 128x128 1 3, 7.8ms\n",
      "image 2633/4118 /home/anderste/ikt450-deep-neural-networks/DNN-prosjekt/segmentation_data_new/test/images/fish_003839776184_23396.png: 128x128 1 2, 7.7ms\n",
      "image 2634/4118 /home/anderste/ikt450-deep-neural-networks/DNN-prosjekt/segmentation_data_new/test/images/fish_003839836184_14538.png: 128x128 1 2, 1 3, 8.0ms\n",
      "image 2635/4118 /home/anderste/ikt450-deep-neural-networks/DNN-prosjekt/segmentation_data_new/test/images/fish_003839956184_23152.png: 128x128 1 3, 7.7ms\n",
      "image 2636/4118 /home/anderste/ikt450-deep-neural-networks/DNN-prosjekt/segmentation_data_new/test/images/fish_003840896187_10366.png: 128x128 1 1, 7.6ms\n",
      "image 2637/4118 /home/anderste/ikt450-deep-neural-networks/DNN-prosjekt/segmentation_data_new/test/images/fish_003841106187_24571.png: 128x128 1 1, 7.6ms\n",
      "image 2638/4118 /home/anderste/ikt450-deep-neural-networks/DNN-prosjekt/segmentation_data_new/test/images/fish_003843336191_14000.png: 128x128 1 1, 7.6ms\n",
      "image 2639/4118 /home/anderste/ikt450-deep-neural-networks/DNN-prosjekt/segmentation_data_new/test/images/fish_003843386191_18409.png: 128x128 1 1, 7.6ms\n",
      "image 2640/4118 /home/anderste/ikt450-deep-neural-networks/DNN-prosjekt/segmentation_data_new/test/images/fish_003843596191_25888.png: 128x128 1 1, 7.6ms\n",
      "image 2641/4118 /home/anderste/ikt450-deep-neural-networks/DNN-prosjekt/segmentation_data_new/test/images/fish_003843656191_16724.png: 128x128 1 1, 7.6ms\n",
      "image 2642/4118 /home/anderste/ikt450-deep-neural-networks/DNN-prosjekt/segmentation_data_new/test/images/fish_003843686191_16613.png: 128x128 1 1, 7.6ms\n",
      "image 2643/4118 /home/anderste/ikt450-deep-neural-networks/DNN-prosjekt/segmentation_data_new/test/images/fish_003845316197_16832.png: 128x128 1 2, 7.6ms\n",
      "image 2644/4118 /home/anderste/ikt450-deep-neural-networks/DNN-prosjekt/segmentation_data_new/test/images/fish_003846586198_18891.png: 128x128 1 1, 8.1ms\n",
      "image 2645/4118 /home/anderste/ikt450-deep-neural-networks/DNN-prosjekt/segmentation_data_new/test/images/fish_003849016201_10527.png: 128x128 1 1, 7.5ms\n",
      "image 2646/4118 /home/anderste/ikt450-deep-neural-networks/DNN-prosjekt/segmentation_data_new/test/images/fish_003849146201_08921.png: 128x128 1 1, 7.6ms\n",
      "image 2647/4118 /home/anderste/ikt450-deep-neural-networks/DNN-prosjekt/segmentation_data_new/test/images/fish_003854026218_23819.png: 128x128 1 3, 1 4, 7.6ms\n",
      "image 2648/4118 /home/anderste/ikt450-deep-neural-networks/DNN-prosjekt/segmentation_data_new/test/images/fish_003856296226_24626.png: 128x128 1 1, 7.7ms\n",
      "image 2649/4118 /home/anderste/ikt450-deep-neural-networks/DNN-prosjekt/segmentation_data_new/test/images/fish_003856736226_18893.png: 128x128 1 1, 46.7ms\n",
      "image 2650/4118 /home/anderste/ikt450-deep-neural-networks/DNN-prosjekt/segmentation_data_new/test/images/fish_003856796226_18248.png: 128x128 1 0, 1 1, 7.6ms\n",
      "image 2651/4118 /home/anderste/ikt450-deep-neural-networks/DNN-prosjekt/segmentation_data_new/test/images/fish_003856976226_20860.png: 128x128 1 4, 7.6ms\n",
      "image 2652/4118 /home/anderste/ikt450-deep-neural-networks/DNN-prosjekt/segmentation_data_new/test/images/fish_003857026226_23906.png: 96x128 1 4, 8.5ms\n",
      "image 2653/4118 /home/anderste/ikt450-deep-neural-networks/DNN-prosjekt/segmentation_data_new/test/images/fish_003868226240_09238.png: 128x128 1 0, 8.1ms\n",
      "image 2654/4118 /home/anderste/ikt450-deep-neural-networks/DNN-prosjekt/segmentation_data_new/test/images/fish_003869376241_19538.png: 128x128 1 5, 7.6ms\n",
      "image 2655/4118 /home/anderste/ikt450-deep-neural-networks/DNN-prosjekt/segmentation_data_new/test/images/fish_003869526241_11611.png: 128x128 1 5, 7.7ms\n",
      "image 2656/4118 /home/anderste/ikt450-deep-neural-networks/DNN-prosjekt/segmentation_data_new/test/images/fish_003869526241_12517.png: 128x128 1 5, 7.6ms\n",
      "image 2657/4118 /home/anderste/ikt450-deep-neural-networks/DNN-prosjekt/segmentation_data_new/test/images/fish_003869526241_19726.png: 128x128 1 5, 7.6ms\n",
      "image 2658/4118 /home/anderste/ikt450-deep-neural-networks/DNN-prosjekt/segmentation_data_new/test/images/fish_003869546241_19295.png: 128x128 1 5, 7.6ms\n",
      "image 2659/4118 /home/anderste/ikt450-deep-neural-networks/DNN-prosjekt/segmentation_data_new/test/images/fish_003869696241_18127.png: 128x128 1 5, 7.5ms\n",
      "image 2660/4118 /home/anderste/ikt450-deep-neural-networks/DNN-prosjekt/segmentation_data_new/test/images/fish_003869696241_21068.png: 128x128 1 5, 7.5ms\n",
      "image 2661/4118 /home/anderste/ikt450-deep-neural-networks/DNN-prosjekt/segmentation_data_new/test/images/fish_003871206248_14426.png: 128x128 1 1, 7.7ms\n",
      "image 2662/4118 /home/anderste/ikt450-deep-neural-networks/DNN-prosjekt/segmentation_data_new/test/images/fish_003871206248_22670.png: 128x128 1 0, 7.9ms\n",
      "image 2663/4118 /home/anderste/ikt450-deep-neural-networks/DNN-prosjekt/segmentation_data_new/test/images/fish_003871286248_22471.png: 128x128 1 3, 7.8ms\n",
      "image 2664/4118 /home/anderste/ikt450-deep-neural-networks/DNN-prosjekt/segmentation_data_new/test/images/fish_003871336248_15244.png: 128x128 1 3, 8.7ms\n",
      "image 2665/4118 /home/anderste/ikt450-deep-neural-networks/DNN-prosjekt/segmentation_data_new/test/images/fish_003871396248_14879.png: 128x128 1 3, 7.7ms\n",
      "image 2666/4118 /home/anderste/ikt450-deep-neural-networks/DNN-prosjekt/segmentation_data_new/test/images/fish_003871596248_14849.png: 128x128 1 3, 7.6ms\n",
      "image 2667/4118 /home/anderste/ikt450-deep-neural-networks/DNN-prosjekt/segmentation_data_new/test/images/fish_003871596248_14853.png: 128x128 1 3, 7.6ms\n",
      "image 2668/4118 /home/anderste/ikt450-deep-neural-networks/DNN-prosjekt/segmentation_data_new/test/images/fish_003871596248_15184.png: 128x128 1 3, 7.6ms\n",
      "image 2669/4118 /home/anderste/ikt450-deep-neural-networks/DNN-prosjekt/segmentation_data_new/test/images/fish_003871606248_11163.png: 128x128 1 1, 8.0ms\n",
      "image 2670/4118 /home/anderste/ikt450-deep-neural-networks/DNN-prosjekt/segmentation_data_new/test/images/fish_003871646248_22851.png: 128x128 1 1, 8.3ms\n",
      "image 2671/4118 /home/anderste/ikt450-deep-neural-networks/DNN-prosjekt/segmentation_data_new/test/images/fish_003871856248_14972.png: 128x128 1 3, 7.5ms\n",
      "image 2672/4118 /home/anderste/ikt450-deep-neural-networks/DNN-prosjekt/segmentation_data_new/test/images/fish_003873726251_25313.png: 128x128 1 1, 7.5ms\n",
      "image 2673/4118 /home/anderste/ikt450-deep-neural-networks/DNN-prosjekt/segmentation_data_new/test/images/fish_003874396255_24692.png: 128x128 1 1, 7.5ms\n",
      "image 2674/4118 /home/anderste/ikt450-deep-neural-networks/DNN-prosjekt/segmentation_data_new/test/images/fish_003875926262_23914.png: 128x128 1 4, 7.6ms\n",
      "image 2675/4118 /home/anderste/ikt450-deep-neural-networks/DNN-prosjekt/segmentation_data_new/test/images/fish_003876006262_11007.png: 128x128 1 4, 7.6ms\n",
      "image 2676/4118 /home/anderste/ikt450-deep-neural-networks/DNN-prosjekt/segmentation_data_new/test/images/fish_003876026262_27134.png: 128x128 1 4, 7.5ms\n",
      "image 2677/4118 /home/anderste/ikt450-deep-neural-networks/DNN-prosjekt/segmentation_data_new/test/images/fish_003876456270_14340.png: 128x128 1 3, 7.6ms\n",
      "image 2678/4118 /home/anderste/ikt450-deep-neural-networks/DNN-prosjekt/segmentation_data_new/test/images/fish_003876486270_14550.png: 128x128 1 3, 7.6ms\n",
      "image 2679/4118 /home/anderste/ikt450-deep-neural-networks/DNN-prosjekt/segmentation_data_new/test/images/fish_003876736270_15197.png: 128x128 1 3, 7.6ms\n",
      "image 2680/4118 /home/anderste/ikt450-deep-neural-networks/DNN-prosjekt/segmentation_data_new/test/images/fish_003876776270_22120.png: 128x128 1 3, 7.6ms\n",
      "image 2681/4118 /home/anderste/ikt450-deep-neural-networks/DNN-prosjekt/segmentation_data_new/test/images/fish_003878696276_09801.png: 128x128 1 1, 7.7ms\n",
      "image 2682/4118 /home/anderste/ikt450-deep-neural-networks/DNN-prosjekt/segmentation_data_new/test/images/fish_003878776276_17090.png: 128x128 1 2, 8.4ms\n",
      "image 2683/4118 /home/anderste/ikt450-deep-neural-networks/DNN-prosjekt/segmentation_data_new/test/images/fish_003878776276_17099.png: 128x128 1 2, 7.7ms\n",
      "image 2684/4118 /home/anderste/ikt450-deep-neural-networks/DNN-prosjekt/segmentation_data_new/test/images/fish_003879116276_12994.png: 128x128 1 1, 7.7ms\n",
      "image 2685/4118 /home/anderste/ikt450-deep-neural-networks/DNN-prosjekt/segmentation_data_new/test/images/fish_003879116276_19793.png: 128x128 1 1, 7.5ms\n",
      "image 2686/4118 /home/anderste/ikt450-deep-neural-networks/DNN-prosjekt/segmentation_data_new/test/images/fish_003881596285_15111.png: 128x128 1 1, 7.5ms\n",
      "image 2687/4118 /home/anderste/ikt450-deep-neural-networks/DNN-prosjekt/segmentation_data_new/test/images/fish_003882876287_22755.png: 128x128 1 1, 7.5ms\n",
      "image 2688/4118 /home/anderste/ikt450-deep-neural-networks/DNN-prosjekt/segmentation_data_new/test/images/fish_003882946287_14434.png: 128x128 1 1, 7.6ms\n",
      "image 2689/4118 /home/anderste/ikt450-deep-neural-networks/DNN-prosjekt/segmentation_data_new/test/images/fish_003888196299_09810.png: 128x128 1 1, 7.7ms\n",
      "image 2690/4118 /home/anderste/ikt450-deep-neural-networks/DNN-prosjekt/segmentation_data_new/test/images/fish_003888256299_10204.png: 128x128 1 1, 7.6ms\n",
      "image 2691/4118 /home/anderste/ikt450-deep-neural-networks/DNN-prosjekt/segmentation_data_new/test/images/fish_003888526299_16493.png: 128x128 1 1, 7.6ms\n",
      "image 2692/4118 /home/anderste/ikt450-deep-neural-networks/DNN-prosjekt/segmentation_data_new/test/images/fish_003888666299_17121.png: 128x128 1 2, 7.6ms\n",
      "image 2693/4118 /home/anderste/ikt450-deep-neural-networks/DNN-prosjekt/segmentation_data_new/test/images/fish_003889006300_16312.png: 128x128 1 2, 8.0ms\n",
      "image 2694/4118 /home/anderste/ikt450-deep-neural-networks/DNN-prosjekt/segmentation_data_new/test/images/fish_003889396299_17055.png: 96x128 1 2, 8.2ms\n",
      "image 2695/4118 /home/anderste/ikt450-deep-neural-networks/DNN-prosjekt/segmentation_data_new/test/images/fish_003891706306_18372.png: 128x128 1 0, 1 1, 8.3ms\n",
      "image 2696/4118 /home/anderste/ikt450-deep-neural-networks/DNN-prosjekt/segmentation_data_new/test/images/fish_003891776306_24952.png: 128x128 1 0, 7.5ms\n",
      "image 2697/4118 /home/anderste/ikt450-deep-neural-networks/DNN-prosjekt/segmentation_data_new/test/images/fish_003891906306_16619.png: 128x128 1 1, 12.4ms\n",
      "image 2698/4118 /home/anderste/ikt450-deep-neural-networks/DNN-prosjekt/segmentation_data_new/test/images/fish_003891906306_16655.png: 128x128 1 1, 13.0ms\n",
      "image 2699/4118 /home/anderste/ikt450-deep-neural-networks/DNN-prosjekt/segmentation_data_new/test/images/fish_003891906306_17495.png: 128x128 1 1, 13.2ms\n",
      "image 2700/4118 /home/anderste/ikt450-deep-neural-networks/DNN-prosjekt/segmentation_data_new/test/images/fish_003891906306_20812.png: 128x128 1 1, 13.6ms\n",
      "image 2701/4118 /home/anderste/ikt450-deep-neural-networks/DNN-prosjekt/segmentation_data_new/test/images/fish_003891906306_21818.png: 128x128 1 1, 14.4ms\n",
      "image 2702/4118 /home/anderste/ikt450-deep-neural-networks/DNN-prosjekt/segmentation_data_new/test/images/fish_003891906306_21824.png: 128x128 1 1, 14.9ms\n",
      "image 2703/4118 /home/anderste/ikt450-deep-neural-networks/DNN-prosjekt/segmentation_data_new/test/images/fish_003891906306_22039.png: 128x128 1 1, 9.3ms\n",
      "image 2704/4118 /home/anderste/ikt450-deep-neural-networks/DNN-prosjekt/segmentation_data_new/test/images/fish_003892026306_18385.png: 128x128 1 1, 7.7ms\n",
      "image 2705/4118 /home/anderste/ikt450-deep-neural-networks/DNN-prosjekt/segmentation_data_new/test/images/fish_003892086306_16623.png: 128x128 1 1, 7.7ms\n",
      "image 2706/4118 /home/anderste/ikt450-deep-neural-networks/DNN-prosjekt/segmentation_data_new/test/images/fish_003892146306_23302.png: 128x128 1 1, 7.6ms\n",
      "image 2707/4118 /home/anderste/ikt450-deep-neural-networks/DNN-prosjekt/segmentation_data_new/test/images/fish_003892476306_25205.png: 128x128 1 1, 7.7ms\n",
      "image 2708/4118 /home/anderste/ikt450-deep-neural-networks/DNN-prosjekt/segmentation_data_new/test/images/fish_003895096309_25601.png: 128x128 1 2, 7.6ms\n",
      "image 2709/4118 /home/anderste/ikt450-deep-neural-networks/DNN-prosjekt/segmentation_data_new/test/images/fish_003895176309_16883.png: 128x128 1 3, 7.5ms\n",
      "image 2710/4118 /home/anderste/ikt450-deep-neural-networks/DNN-prosjekt/segmentation_data_new/test/images/fish_003898646320_26452.png: 128x128 1 2, 7.6ms\n",
      "image 2711/4118 /home/anderste/ikt450-deep-neural-networks/DNN-prosjekt/segmentation_data_new/test/images/fish_003898836320_10846.png: 128x128 1 2, 7.6ms\n",
      "image 2712/4118 /home/anderste/ikt450-deep-neural-networks/DNN-prosjekt/segmentation_data_new/test/images/fish_003899326320_23191.png: 128x128 1 2, 7.6ms\n",
      "image 2713/4118 /home/anderste/ikt450-deep-neural-networks/DNN-prosjekt/segmentation_data_new/test/images/fish_003902996328_25099.png: 128x128 1 5, 8.2ms\n",
      "image 2714/4118 /home/anderste/ikt450-deep-neural-networks/DNN-prosjekt/segmentation_data_new/test/images/fish_003903036328_13409.png: 128x128 1 5, 7.7ms\n",
      "image 2715/4118 /home/anderste/ikt450-deep-neural-networks/DNN-prosjekt/segmentation_data_new/test/images/fish_003903036328_13488.png: 128x128 1 5, 7.6ms\n",
      "image 2716/4118 /home/anderste/ikt450-deep-neural-networks/DNN-prosjekt/segmentation_data_new/test/images/fish_003903036328_25689.png: 128x128 1 5, 7.6ms\n",
      "image 2717/4118 /home/anderste/ikt450-deep-neural-networks/DNN-prosjekt/segmentation_data_new/test/images/fish_003903076328_19633.png: 128x128 1 5, 7.6ms\n",
      "image 2718/4118 /home/anderste/ikt450-deep-neural-networks/DNN-prosjekt/segmentation_data_new/test/images/fish_003903076328_25702.png: 128x128 1 5, 8.4ms\n",
      "image 2719/4118 /home/anderste/ikt450-deep-neural-networks/DNN-prosjekt/segmentation_data_new/test/images/fish_003903206328_09689.png: 128x128 1 5, 7.9ms\n",
      "image 2720/4118 /home/anderste/ikt450-deep-neural-networks/DNN-prosjekt/segmentation_data_new/test/images/fish_003903226329_10945.png: 128x128 1 3, 1 4, 7.9ms\n",
      "image 2721/4118 /home/anderste/ikt450-deep-neural-networks/DNN-prosjekt/segmentation_data_new/test/images/fish_003903226329_17309.png: 128x128 1 3, 1 4, 7.9ms\n",
      "image 2722/4118 /home/anderste/ikt450-deep-neural-networks/DNN-prosjekt/segmentation_data_new/test/images/fish_003903416329_21081.png: 128x128 1 4, 7.6ms\n",
      "image 2723/4118 /home/anderste/ikt450-deep-neural-networks/DNN-prosjekt/segmentation_data_new/test/images/fish_003903446328_11625.png: 128x128 1 5, 7.6ms\n",
      "image 2724/4118 /home/anderste/ikt450-deep-neural-networks/DNN-prosjekt/segmentation_data_new/test/images/fish_003903446328_13610.png: 128x128 1 5, 7.7ms\n",
      "image 2725/4118 /home/anderste/ikt450-deep-neural-networks/DNN-prosjekt/segmentation_data_new/test/images/fish_003903446328_13619.png: 128x128 1 5, 7.7ms\n",
      "image 2726/4118 /home/anderste/ikt450-deep-neural-networks/DNN-prosjekt/segmentation_data_new/test/images/fish_003903446328_19368.png: 128x128 1 5, 7.6ms\n",
      "image 2727/4118 /home/anderste/ikt450-deep-neural-networks/DNN-prosjekt/segmentation_data_new/test/images/fish_003903446328_21440.png: 128x128 1 5, 7.5ms\n",
      "image 2728/4118 /home/anderste/ikt450-deep-neural-networks/DNN-prosjekt/segmentation_data_new/test/images/fish_003903446328_25794.png: 128x128 1 5, 7.6ms\n",
      "image 2729/4118 /home/anderste/ikt450-deep-neural-networks/DNN-prosjekt/segmentation_data_new/test/images/fish_003903666329_21276.png: 128x128 1 4, 7.7ms\n",
      "image 2730/4118 /home/anderste/ikt450-deep-neural-networks/DNN-prosjekt/segmentation_data_new/test/images/fish_003903736329_09346.png: 128x128 1 4, 7.7ms\n",
      "image 2731/4118 /home/anderste/ikt450-deep-neural-networks/DNN-prosjekt/segmentation_data_new/test/images/fish_003903856329_17585.png: 128x128 1 4, 7.6ms\n",
      "image 2732/4118 /home/anderste/ikt450-deep-neural-networks/DNN-prosjekt/segmentation_data_new/test/images/fish_003908876342_23339.png: 128x128 1 1, 7.6ms\n",
      "image 2733/4118 /home/anderste/ikt450-deep-neural-networks/DNN-prosjekt/segmentation_data_new/test/images/fish_003909016342_20524.png: 128x128 1 1, 10.0ms\n",
      "image 2734/4118 /home/anderste/ikt450-deep-neural-networks/DNN-prosjekt/segmentation_data_new/test/images/fish_003909746343_14757.png: 128x128 1 1, 7.6ms\n",
      "image 2735/4118 /home/anderste/ikt450-deep-neural-networks/DNN-prosjekt/segmentation_data_new/test/images/fish_003910376343_18872.png: 128x128 1 1, 7.6ms\n",
      "image 2736/4118 /home/anderste/ikt450-deep-neural-networks/DNN-prosjekt/segmentation_data_new/test/images/fish_003910386343_27074.png: 128x128 1 1, 7.7ms\n",
      "image 2737/4118 /home/anderste/ikt450-deep-neural-networks/DNN-prosjekt/segmentation_data_new/test/images/fish_003910396343_21917.png: 128x128 1 1, 7.6ms\n",
      "image 2738/4118 /home/anderste/ikt450-deep-neural-networks/DNN-prosjekt/segmentation_data_new/test/images/fish_003910606343_12107.png: 128x128 1 1, 9.4ms\n",
      "image 2739/4118 /home/anderste/ikt450-deep-neural-networks/DNN-prosjekt/segmentation_data_new/test/images/fish_003910786343_20370.png: 128x128 1 1, 7.8ms\n",
      "image 2740/4118 /home/anderste/ikt450-deep-neural-networks/DNN-prosjekt/segmentation_data_new/test/images/fish_003910926343_26994.png: 128x128 1 1, 7.9ms\n",
      "image 2741/4118 /home/anderste/ikt450-deep-neural-networks/DNN-prosjekt/segmentation_data_new/test/images/fish_003911166343_19984.png: 128x128 1 3, 7.7ms\n",
      "image 2742/4118 /home/anderste/ikt450-deep-neural-networks/DNN-prosjekt/segmentation_data_new/test/images/fish_003911206343_14753.png: 128x128 1 1, 7.6ms\n",
      "image 2743/4118 /home/anderste/ikt450-deep-neural-networks/DNN-prosjekt/segmentation_data_new/test/images/fish_003915716351_09096.png: 128x128 1 5, 1 6, 7.6ms\n",
      "image 2744/4118 /home/anderste/ikt450-deep-neural-networks/DNN-prosjekt/segmentation_data_new/test/images/fish_003915966353_24929.png: 128x128 1 1, 7.7ms\n",
      "image 2745/4118 /home/anderste/ikt450-deep-neural-networks/DNN-prosjekt/segmentation_data_new/test/images/fish_003915986353_20713.png: 128x128 1 1, 7.6ms\n",
      "image 2746/4118 /home/anderste/ikt450-deep-neural-networks/DNN-prosjekt/segmentation_data_new/test/images/fish_003915996353_22468.png: 128x128 1 0, 1 1, 7.6ms\n",
      "image 2747/4118 /home/anderste/ikt450-deep-neural-networks/DNN-prosjekt/segmentation_data_new/test/images/fish_003916066354_26228.png: 128x128 1 1, 7.7ms\n",
      "image 2748/4118 /home/anderste/ikt450-deep-neural-networks/DNN-prosjekt/segmentation_data_new/test/images/fish_003916996355_18967.png: 128x128 1 1, 7.7ms\n",
      "image 2749/4118 /home/anderste/ikt450-deep-neural-networks/DNN-prosjekt/segmentation_data_new/test/images/fish_003919356360_14916.png: 128x128 1 1, 8.8ms\n",
      "image 2750/4118 /home/anderste/ikt450-deep-neural-networks/DNN-prosjekt/segmentation_data_new/test/images/fish_003919466360_15020.png: 128x128 1 2, 7.7ms\n",
      "image 2751/4118 /home/anderste/ikt450-deep-neural-networks/DNN-prosjekt/segmentation_data_new/test/images/fish_003920756366_14905.png: 128x128 1 3, 7.7ms\n",
      "image 2752/4118 /home/anderste/ikt450-deep-neural-networks/DNN-prosjekt/segmentation_data_new/test/images/fish_003920966366_09712.png: 128x128 1 2, 7.6ms\n",
      "image 2753/4118 /home/anderste/ikt450-deep-neural-networks/DNN-prosjekt/segmentation_data_new/test/images/fish_003921046366_22124.png: 128x128 1 3, 7.6ms\n",
      "image 2754/4118 /home/anderste/ikt450-deep-neural-networks/DNN-prosjekt/segmentation_data_new/test/images/fish_003921366366_11239.png: 96x128 1 3, 8.3ms\n",
      "image 2755/4118 /home/anderste/ikt450-deep-neural-networks/DNN-prosjekt/segmentation_data_new/test/images/fish_003921386366_15002.png: 128x128 1 3, 8.2ms\n",
      "image 2756/4118 /home/anderste/ikt450-deep-neural-networks/DNN-prosjekt/segmentation_data_new/test/images/fish_003921476366_23846.png: 128x128 1 1, 7.7ms\n",
      "image 2757/4118 /home/anderste/ikt450-deep-neural-networks/DNN-prosjekt/segmentation_data_new/test/images/fish_003921666366_22660.png: 128x128 1 1, 7.6ms\n",
      "image 2758/4118 /home/anderste/ikt450-deep-neural-networks/DNN-prosjekt/segmentation_data_new/test/images/fish_003921666366_23392.png: 128x128 1 1, 7.6ms\n",
      "image 2759/4118 /home/anderste/ikt450-deep-neural-networks/DNN-prosjekt/segmentation_data_new/test/images/fish_003921686366_15444.png: 128x128 1 2, 7.7ms\n",
      "image 2760/4118 /home/anderste/ikt450-deep-neural-networks/DNN-prosjekt/segmentation_data_new/test/images/fish_003924026368_15978.png: 128x128 1 5, 7.6ms\n",
      "image 2761/4118 /home/anderste/ikt450-deep-neural-networks/DNN-prosjekt/segmentation_data_new/test/images/fish_003924026368_21071.png: 128x128 1 5, 7.6ms\n",
      "image 2762/4118 /home/anderste/ikt450-deep-neural-networks/DNN-prosjekt/segmentation_data_new/test/images/fish_003924076368_15914.png: 128x128 1 5, 7.9ms\n",
      "image 2763/4118 /home/anderste/ikt450-deep-neural-networks/DNN-prosjekt/segmentation_data_new/test/images/fish_003924116368_16041.png: 128x128 1 5, 7.8ms\n",
      "image 2764/4118 /home/anderste/ikt450-deep-neural-networks/DNN-prosjekt/segmentation_data_new/test/images/fish_003924126368_22456.png: 128x128 1 5, 7.7ms\n",
      "image 2765/4118 /home/anderste/ikt450-deep-neural-networks/DNN-prosjekt/segmentation_data_new/test/images/fish_003924196368_23210.png: 128x128 1 5, 7.9ms\n",
      "image 2766/4118 /home/anderste/ikt450-deep-neural-networks/DNN-prosjekt/segmentation_data_new/test/images/fish_003924226368_26201.png: 128x128 1 5, 7.6ms\n",
      "image 2767/4118 /home/anderste/ikt450-deep-neural-networks/DNN-prosjekt/segmentation_data_new/test/images/fish_003924266369_21351.png: 128x128 1 5, 7.8ms\n",
      "image 2768/4118 /home/anderste/ikt450-deep-neural-networks/DNN-prosjekt/segmentation_data_new/test/images/fish_003924286368_26191.png: 128x128 1 5, 7.7ms\n",
      "image 2769/4118 /home/anderste/ikt450-deep-neural-networks/DNN-prosjekt/segmentation_data_new/test/images/fish_003924336368_17757.png: 128x128 1 5, 8.3ms\n",
      "image 2770/4118 /home/anderste/ikt450-deep-neural-networks/DNN-prosjekt/segmentation_data_new/test/images/fish_003924446368_15975.png: 128x128 1 5, 7.6ms\n",
      "image 2771/4118 /home/anderste/ikt450-deep-neural-networks/DNN-prosjekt/segmentation_data_new/test/images/fish_003924446368_16081.png: 128x128 1 5, 7.7ms\n",
      "image 2772/4118 /home/anderste/ikt450-deep-neural-networks/DNN-prosjekt/segmentation_data_new/test/images/fish_003925796380_24957.png: 128x128 1 6, 7.7ms\n",
      "image 2773/4118 /home/anderste/ikt450-deep-neural-networks/DNN-prosjekt/segmentation_data_new/test/images/fish_003926076379_12475.png: 128x128 1 3, 7.6ms\n",
      "image 2774/4118 /home/anderste/ikt450-deep-neural-networks/DNN-prosjekt/segmentation_data_new/test/images/fish_003926356379_09887.png: 128x128 1 3, 7.8ms\n",
      "image 2775/4118 /home/anderste/ikt450-deep-neural-networks/DNN-prosjekt/segmentation_data_new/test/images/fish_003926446379_16024.png: 128x128 1 3, 7.7ms\n",
      "image 2776/4118 /home/anderste/ikt450-deep-neural-networks/DNN-prosjekt/segmentation_data_new/test/images/fish_003926536379_22184.png: 128x128 1 3, 7.6ms\n",
      "image 2777/4118 /home/anderste/ikt450-deep-neural-networks/DNN-prosjekt/segmentation_data_new/test/images/fish_003929756388_26637.png: 128x128 1 2, 7.7ms\n",
      "image 2778/4118 /home/anderste/ikt450-deep-neural-networks/DNN-prosjekt/segmentation_data_new/test/images/fish_003929796388_25148.png: 128x128 1 2, 7.6ms\n",
      "image 2779/4118 /home/anderste/ikt450-deep-neural-networks/DNN-prosjekt/segmentation_data_new/test/images/fish_003929826388_13171.png: 128x128 1 2, 7.8ms\n",
      "image 2780/4118 /home/anderste/ikt450-deep-neural-networks/DNN-prosjekt/segmentation_data_new/test/images/fish_003929856388_17143.png: 128x128 1 2, 7.6ms\n",
      "image 2781/4118 /home/anderste/ikt450-deep-neural-networks/DNN-prosjekt/segmentation_data_new/test/images/fish_003929916389_24782.png: 128x128 1 0, 7.9ms\n",
      "image 2782/4118 /home/anderste/ikt450-deep-neural-networks/DNN-prosjekt/segmentation_data_new/test/images/fish_003930076389_24714.png: 128x128 1 0, 1 1, 8.2ms\n",
      "image 2783/4118 /home/anderste/ikt450-deep-neural-networks/DNN-prosjekt/segmentation_data_new/test/images/fish_003930856390_09323.png: 128x128 1 4, 7.5ms\n",
      "image 2784/4118 /home/anderste/ikt450-deep-neural-networks/DNN-prosjekt/segmentation_data_new/test/images/fish_003933436402_11068.png: 128x128 1 1, 7.5ms\n",
      "image 2785/4118 /home/anderste/ikt450-deep-neural-networks/DNN-prosjekt/segmentation_data_new/test/images/fish_003933836405_26209.png: 128x128 1 1, 7.6ms\n",
      "image 2786/4118 /home/anderste/ikt450-deep-neural-networks/DNN-prosjekt/segmentation_data_new/test/images/fish_003935196408_23295.png: 128x128 1 0, 7.7ms\n",
      "image 2787/4118 /home/anderste/ikt450-deep-neural-networks/DNN-prosjekt/segmentation_data_new/test/images/fish_003935286408_24069.png: 128x128 1 1, 7.6ms\n",
      "image 2788/4118 /home/anderste/ikt450-deep-neural-networks/DNN-prosjekt/segmentation_data_new/test/images/fish_003935286408_25420.png: 128x128 1 1, 7.6ms\n",
      "image 2789/4118 /home/anderste/ikt450-deep-neural-networks/DNN-prosjekt/segmentation_data_new/test/images/fish_003935306408_21501.png: 128x128 1 1, 7.7ms\n",
      "image 2790/4118 /home/anderste/ikt450-deep-neural-networks/DNN-prosjekt/segmentation_data_new/test/images/fish_003935326408_17489.png: 128x128 1 1, 7.7ms\n",
      "image 2791/4118 /home/anderste/ikt450-deep-neural-networks/DNN-prosjekt/segmentation_data_new/test/images/fish_003935326408_18191.png: 128x128 1 1, 7.7ms\n",
      "image 2792/4118 /home/anderste/ikt450-deep-neural-networks/DNN-prosjekt/segmentation_data_new/test/images/fish_003935436408_18605.png: 128x128 1 1, 7.6ms\n",
      "image 2793/4118 /home/anderste/ikt450-deep-neural-networks/DNN-prosjekt/segmentation_data_new/test/images/fish_003935486408_25193.png: 128x128 1 1, 7.6ms\n",
      "image 2794/4118 /home/anderste/ikt450-deep-neural-networks/DNN-prosjekt/segmentation_data_new/test/images/fish_003935666408_16486.png: 128x128 1 1, 7.7ms\n",
      "image 2795/4118 /home/anderste/ikt450-deep-neural-networks/DNN-prosjekt/segmentation_data_new/test/images/fish_003937736411_12746.png: 128x128 1 0, 1 1, 8.3ms\n",
      "image 2796/4118 /home/anderste/ikt450-deep-neural-networks/DNN-prosjekt/segmentation_data_new/test/images/fish_003937916411_10003.png: 128x128 1 1, 7.6ms\n",
      "image 2797/4118 /home/anderste/ikt450-deep-neural-networks/DNN-prosjekt/segmentation_data_new/test/images/fish_003939816416_16700.png: 128x128 1 1, 7.6ms\n",
      "image 2798/4118 /home/anderste/ikt450-deep-neural-networks/DNN-prosjekt/segmentation_data_new/test/images/fish_003939836416_24879.png: 128x128 1 1, 7.7ms\n",
      "image 2799/4118 /home/anderste/ikt450-deep-neural-networks/DNN-prosjekt/segmentation_data_new/test/images/fish_003939866416_16322.png: 128x128 1 1, 8.2ms\n",
      "image 2800/4118 /home/anderste/ikt450-deep-neural-networks/DNN-prosjekt/segmentation_data_new/test/images/fish_003939876416_20576.png: 128x128 1 1, 7.6ms\n",
      "image 2801/4118 /home/anderste/ikt450-deep-neural-networks/DNN-prosjekt/segmentation_data_new/test/images/fish_003939876416_24856.png: 128x128 1 1, 7.6ms\n",
      "image 2802/4118 /home/anderste/ikt450-deep-neural-networks/DNN-prosjekt/segmentation_data_new/test/images/fish_003939916416_16548.png: 128x128 1 1, 7.7ms\n",
      "image 2803/4118 /home/anderste/ikt450-deep-neural-networks/DNN-prosjekt/segmentation_data_new/test/images/fish_003940016416_24836.png: 128x128 1 1, 7.7ms\n",
      "image 2804/4118 /home/anderste/ikt450-deep-neural-networks/DNN-prosjekt/segmentation_data_new/test/images/fish_003940096416_17550.png: 128x128 1 1, 7.7ms\n",
      "image 2805/4118 /home/anderste/ikt450-deep-neural-networks/DNN-prosjekt/segmentation_data_new/test/images/fish_003940096416_18420.png: 128x128 1 0, 1 1, 7.6ms\n",
      "image 2806/4118 /home/anderste/ikt450-deep-neural-networks/DNN-prosjekt/segmentation_data_new/test/images/fish_003940106416_16554.png: 128x128 1 1, 7.6ms\n",
      "image 2807/4118 /home/anderste/ikt450-deep-neural-networks/DNN-prosjekt/segmentation_data_new/test/images/fish_003940136416_16441.png: 128x128 1 1, 7.8ms\n",
      "image 2808/4118 /home/anderste/ikt450-deep-neural-networks/DNN-prosjekt/segmentation_data_new/test/images/fish_003940136416_26140.png: 128x128 1 1, 7.5ms\n",
      "image 2809/4118 /home/anderste/ikt450-deep-neural-networks/DNN-prosjekt/segmentation_data_new/test/images/fish_003940196416_13015.png: 128x128 1 1, 7.6ms\n",
      "image 2810/4118 /home/anderste/ikt450-deep-neural-networks/DNN-prosjekt/segmentation_data_new/test/images/fish_003940336416_17505.png: 128x128 1 1, 7.7ms\n",
      "image 2811/4118 /home/anderste/ikt450-deep-neural-networks/DNN-prosjekt/segmentation_data_new/test/images/fish_003940486416_21923.png: 128x128 1 1, 7.7ms\n",
      "image 2812/4118 /home/anderste/ikt450-deep-neural-networks/DNN-prosjekt/segmentation_data_new/test/images/fish_003940486416_25010.png: 128x128 1 1, 7.6ms\n",
      "image 2813/4118 /home/anderste/ikt450-deep-neural-networks/DNN-prosjekt/segmentation_data_new/test/images/fish_003941926420_22199.png: 128x128 1 5, 7.7ms\n",
      "image 2814/4118 /home/anderste/ikt450-deep-neural-networks/DNN-prosjekt/segmentation_data_new/test/images/fish_003942006420_24468.png: 128x128 1 1, 7.8ms\n",
      "image 2815/4118 /home/anderste/ikt450-deep-neural-networks/DNN-prosjekt/segmentation_data_new/test/images/fish_003943566429_24117.png: 128x128 1 1, 7.6ms\n",
      "image 2816/4118 /home/anderste/ikt450-deep-neural-networks/DNN-prosjekt/segmentation_data_new/test/images/fish_003943566429_24334.png: 128x128 1 1, 7.6ms\n",
      "image 2817/4118 /home/anderste/ikt450-deep-neural-networks/DNN-prosjekt/segmentation_data_new/test/images/fish_003943656429_25443.png: 128x128 1 1, 7.5ms\n",
      "image 2818/4118 /home/anderste/ikt450-deep-neural-networks/DNN-prosjekt/segmentation_data_new/test/images/fish_003943776429_22481.png: 128x128 1 1, 7.7ms\n",
      "image 2819/4118 /home/anderste/ikt450-deep-neural-networks/DNN-prosjekt/segmentation_data_new/test/images/fish_003944136429_25508.png: 128x128 1 1, 7.7ms\n",
      "image 2820/4118 /home/anderste/ikt450-deep-neural-networks/DNN-prosjekt/segmentation_data_new/test/images/fish_003944146429_09825.png: 128x128 1 0, 7.7ms\n",
      "image 2821/4118 /home/anderste/ikt450-deep-neural-networks/DNN-prosjekt/segmentation_data_new/test/images/fish_003946476435_11334.png: 128x128 (no detections), 7.6ms\n",
      "image 2822/4118 /home/anderste/ikt450-deep-neural-networks/DNN-prosjekt/segmentation_data_new/test/images/fish_003946596435_24739.png: 128x128 1 0, 1 1, 7.7ms\n",
      "image 2823/4118 /home/anderste/ikt450-deep-neural-networks/DNN-prosjekt/segmentation_data_new/test/images/fish_003948446438_21553.png: 128x128 1 1, 7.6ms\n",
      "image 2824/4118 /home/anderste/ikt450-deep-neural-networks/DNN-prosjekt/segmentation_data_new/test/images/fish_003948526438_13027.png: 128x128 1 1, 7.6ms\n",
      "image 2825/4118 /home/anderste/ikt450-deep-neural-networks/DNN-prosjekt/segmentation_data_new/test/images/fish_003949556446_25832.png: 128x128 1 5, 8.2ms\n",
      "image 2826/4118 /home/anderste/ikt450-deep-neural-networks/DNN-prosjekt/segmentation_data_new/test/images/fish_003953206451_13031.png: 128x128 1 10, 7.7ms\n",
      "image 2827/4118 /home/anderste/ikt450-deep-neural-networks/DNN-prosjekt/segmentation_data_new/test/images/fish_003953236451_11832.png: 96x128 1 15, 8.3ms\n",
      "image 2828/4118 /home/anderste/ikt450-deep-neural-networks/DNN-prosjekt/segmentation_data_new/test/images/fish_003953246451_21509.png: 128x128 1 10, 8.4ms\n",
      "image 2829/4118 /home/anderste/ikt450-deep-neural-networks/DNN-prosjekt/segmentation_data_new/test/images/fish_003953266451_11813.png: 128x128 1 10, 7.7ms\n",
      "image 2830/4118 /home/anderste/ikt450-deep-neural-networks/DNN-prosjekt/segmentation_data_new/test/images/fish_003953266451_11819.png: 128x128 1 10, 7.6ms\n",
      "image 2831/4118 /home/anderste/ikt450-deep-neural-networks/DNN-prosjekt/segmentation_data_new/test/images/fish_003953266451_11886.png: 128x128 1 10, 8.0ms\n",
      "image 2832/4118 /home/anderste/ikt450-deep-neural-networks/DNN-prosjekt/segmentation_data_new/test/images/fish_003953286451_11846.png: 128x128 1 10, 7.7ms\n",
      "image 2833/4118 /home/anderste/ikt450-deep-neural-networks/DNN-prosjekt/segmentation_data_new/test/images/fish_003953286451_11958.png: 128x128 1 10, 7.7ms\n",
      "image 2834/4118 /home/anderste/ikt450-deep-neural-networks/DNN-prosjekt/segmentation_data_new/test/images/fish_003953316451_13037.png: 128x128 1 10, 7.7ms\n",
      "image 2835/4118 /home/anderste/ikt450-deep-neural-networks/DNN-prosjekt/segmentation_data_new/test/images/fish_003953366451_12911.png: 128x128 1 10, 7.6ms\n",
      "image 2836/4118 /home/anderste/ikt450-deep-neural-networks/DNN-prosjekt/segmentation_data_new/test/images/fish_003953556452_11644.png: 128x128 1 1, 7.5ms\n",
      "image 2837/4118 /home/anderste/ikt450-deep-neural-networks/DNN-prosjekt/segmentation_data_new/test/images/fish_003955736462_13751.png: 128x128 1 1, 7.5ms\n",
      "image 2838/4118 /home/anderste/ikt450-deep-neural-networks/DNN-prosjekt/segmentation_data_new/test/images/fish_003955756462_10472.png: 128x128 1 1, 7.7ms\n",
      "image 2839/4118 /home/anderste/ikt450-deep-neural-networks/DNN-prosjekt/segmentation_data_new/test/images/fish_003955766462_09057.png: 128x128 1 1, 7.7ms\n",
      "image 2840/4118 /home/anderste/ikt450-deep-neural-networks/DNN-prosjekt/segmentation_data_new/test/images/fish_003956416464_11150.png: 128x128 1 1, 7.7ms\n",
      "image 2841/4118 /home/anderste/ikt450-deep-neural-networks/DNN-prosjekt/segmentation_data_new/test/images/fish_003956426464_17679.png: 128x128 1 5, 7.6ms\n",
      "image 2842/4118 /home/anderste/ikt450-deep-neural-networks/DNN-prosjekt/segmentation_data_new/test/images/fish_003958286470_25533.png: 128x128 1 1, 7.7ms\n",
      "image 2843/4118 /home/anderste/ikt450-deep-neural-networks/DNN-prosjekt/segmentation_data_new/test/images/fish_003961116475_13939.png: 128x128 1 1, 7.5ms\n",
      "image 2844/4118 /home/anderste/ikt450-deep-neural-networks/DNN-prosjekt/segmentation_data_new/test/images/fish_003961116475_26732.png: 128x128 1 1, 7.6ms\n",
      "image 2845/4118 /home/anderste/ikt450-deep-neural-networks/DNN-prosjekt/segmentation_data_new/test/images/fish_003961566475_14984.png: 128x128 1 1, 7.7ms\n",
      "image 2846/4118 /home/anderste/ikt450-deep-neural-networks/DNN-prosjekt/segmentation_data_new/test/images/fish_003961936475_22466.png: 128x128 1 1, 7.6ms\n",
      "image 2847/4118 /home/anderste/ikt450-deep-neural-networks/DNN-prosjekt/segmentation_data_new/test/images/fish_003962076475_10678.png: 128x128 1 1, 7.5ms\n",
      "image 2848/4118 /home/anderste/ikt450-deep-neural-networks/DNN-prosjekt/segmentation_data_new/test/images/fish_003966196489_26328.png: 128x128 1 2, 7.6ms\n",
      "image 2849/4118 /home/anderste/ikt450-deep-neural-networks/DNN-prosjekt/segmentation_data_new/test/images/fish_003966226489_26381.png: 128x128 1 2, 7.6ms\n",
      "image 2850/4118 /home/anderste/ikt450-deep-neural-networks/DNN-prosjekt/segmentation_data_new/test/images/fish_003966486489_14416.png: 128x128 1 2, 7.7ms\n",
      "image 2851/4118 /home/anderste/ikt450-deep-neural-networks/DNN-prosjekt/segmentation_data_new/test/images/fish_003966636489_13270.png: 128x128 1 2, 7.7ms\n",
      "image 2852/4118 /home/anderste/ikt450-deep-neural-networks/DNN-prosjekt/segmentation_data_new/test/images/fish_003967986494_23691.png: 128x128 1 2, 7.7ms\n",
      "image 2853/4118 /home/anderste/ikt450-deep-neural-networks/DNN-prosjekt/segmentation_data_new/test/images/fish_003967996494_09734.png: 128x128 1 2, 7.7ms\n",
      "image 2854/4118 /home/anderste/ikt450-deep-neural-networks/DNN-prosjekt/segmentation_data_new/test/images/fish_003968546494_23050.png: 128x128 1 2, 7.6ms\n",
      "image 2855/4118 /home/anderste/ikt450-deep-neural-networks/DNN-prosjekt/segmentation_data_new/test/images/fish_003969506494_15153.png: 128x128 1 1, 8.4ms\n",
      "image 2856/4118 /home/anderste/ikt450-deep-neural-networks/DNN-prosjekt/segmentation_data_new/test/images/fish_003976646511_13887.png: 128x128 1 3, 7.7ms\n",
      "image 2857/4118 /home/anderste/ikt450-deep-neural-networks/DNN-prosjekt/segmentation_data_new/test/images/fish_003976986512_19060.png: 128x128 1 1, 7.7ms\n",
      "image 2858/4118 /home/anderste/ikt450-deep-neural-networks/DNN-prosjekt/segmentation_data_new/test/images/fish_003977286512_16620.png: 128x128 1 1, 7.7ms\n",
      "image 2859/4118 /home/anderste/ikt450-deep-neural-networks/DNN-prosjekt/segmentation_data_new/test/images/fish_003977286512_23324.png: 128x128 1 1, 7.7ms\n",
      "image 2860/4118 /home/anderste/ikt450-deep-neural-networks/DNN-prosjekt/segmentation_data_new/test/images/fish_004078966695_20336.png: 128x128 1 1, 7.6ms\n",
      "image 2861/4118 /home/anderste/ikt450-deep-neural-networks/DNN-prosjekt/segmentation_data_new/test/images/fish_004078986695_15577.png: 128x128 1 0, 1 1, 7.6ms\n",
      "image 2862/4118 /home/anderste/ikt450-deep-neural-networks/DNN-prosjekt/segmentation_data_new/test/images/fish_004079006695_18134.png: 128x128 2 1s, 7.6ms\n",
      "image 2863/4118 /home/anderste/ikt450-deep-neural-networks/DNN-prosjekt/segmentation_data_new/test/images/fish_004079996696_11779.png: 128x128 1 0, 7.7ms\n",
      "image 2864/4118 /home/anderste/ikt450-deep-neural-networks/DNN-prosjekt/segmentation_data_new/test/images/fish_004085726713_24305.png: 128x128 1 1, 7.7ms\n",
      "image 2865/4118 /home/anderste/ikt450-deep-neural-networks/DNN-prosjekt/segmentation_data_new/test/images/fish_004086006713_27221.png: 128x128 1 1, 7.7ms\n",
      "image 2866/4118 /home/anderste/ikt450-deep-neural-networks/DNN-prosjekt/segmentation_data_new/test/images/fish_004086076713_19855.png: 128x128 1 3, 1 4, 7.8ms\n",
      "image 2867/4118 /home/anderste/ikt450-deep-neural-networks/DNN-prosjekt/segmentation_data_new/test/images/fish_004086076713_21216.png: 128x128 1 3, 7.6ms\n",
      "image 2868/4118 /home/anderste/ikt450-deep-neural-networks/DNN-prosjekt/segmentation_data_new/test/images/fish_004086076713_23894.png: 128x128 1 3, 7.8ms\n",
      "image 2869/4118 /home/anderste/ikt450-deep-neural-networks/DNN-prosjekt/segmentation_data_new/test/images/fish_004086076713_23909.png: 128x128 1 3, 7.7ms\n",
      "image 2870/4118 /home/anderste/ikt450-deep-neural-networks/DNN-prosjekt/segmentation_data_new/test/images/fish_004086126713_20109.png: 128x128 1 1, 7.6ms\n",
      "image 2871/4118 /home/anderste/ikt450-deep-neural-networks/DNN-prosjekt/segmentation_data_new/test/images/fish_004086186713_19837.png: 128x128 1 3, 7.7ms\n",
      "image 2872/4118 /home/anderste/ikt450-deep-neural-networks/DNN-prosjekt/segmentation_data_new/test/images/fish_004086216713_23560.png: 128x128 1 1, 7.7ms\n",
      "image 2873/4118 /home/anderste/ikt450-deep-neural-networks/DNN-prosjekt/segmentation_data_new/test/images/fish_004086336713_23945.png: 128x128 1 3, 7.7ms\n",
      "image 2874/4118 /home/anderste/ikt450-deep-neural-networks/DNN-prosjekt/segmentation_data_new/test/images/fish_004086346713_24298.png: 128x128 1 1, 7.7ms\n",
      "image 2875/4118 /home/anderste/ikt450-deep-neural-networks/DNN-prosjekt/segmentation_data_new/test/images/fish_004086396713_19981.png: 128x128 1 3, 1 4, 7.7ms\n",
      "image 2876/4118 /home/anderste/ikt450-deep-neural-networks/DNN-prosjekt/segmentation_data_new/test/images/fish_004086496713_24558.png: 128x128 1 3, 8.3ms\n",
      "image 2877/4118 /home/anderste/ikt450-deep-neural-networks/DNN-prosjekt/segmentation_data_new/test/images/fish_004089206715_20345.png: 128x128 1 0, 1 1, 7.7ms\n",
      "image 2878/4118 /home/anderste/ikt450-deep-neural-networks/DNN-prosjekt/segmentation_data_new/test/images/fish_004089466717_24718.png: 128x128 1 1, 7.6ms\n",
      "image 2879/4118 /home/anderste/ikt450-deep-neural-networks/DNN-prosjekt/segmentation_data_new/test/images/fish_004093036722_23117.png: 128x128 1 2, 7.6ms\n",
      "image 2880/4118 /home/anderste/ikt450-deep-neural-networks/DNN-prosjekt/segmentation_data_new/test/images/fish_004093036722_23647.png: 128x128 1 2, 7.7ms\n",
      "image 2881/4118 /home/anderste/ikt450-deep-neural-networks/DNN-prosjekt/segmentation_data_new/test/images/fish_004093036722_23800.png: 128x128 1 2, 7.4ms\n",
      "image 2882/4118 /home/anderste/ikt450-deep-neural-networks/DNN-prosjekt/segmentation_data_new/test/images/fish_004093056722_12804.png: 128x128 1 2, 7.6ms\n",
      "image 2883/4118 /home/anderste/ikt450-deep-neural-networks/DNN-prosjekt/segmentation_data_new/test/images/fish_004093496722_14772.png: 128x128 1 1, 7.6ms\n",
      "image 2884/4118 /home/anderste/ikt450-deep-neural-networks/DNN-prosjekt/segmentation_data_new/test/images/fish_004093696723_09683.png: 128x128 1 9, 7.6ms\n",
      "image 2885/4118 /home/anderste/ikt450-deep-neural-networks/DNN-prosjekt/segmentation_data_new/test/images/fish_004093966722_23731.png: 128x128 1 2, 7.8ms\n",
      "image 2886/4118 /home/anderste/ikt450-deep-neural-networks/DNN-prosjekt/segmentation_data_new/test/images/fish_004094026722_09657.png: 128x128 1 9, 7.5ms\n",
      "image 2887/4118 /home/anderste/ikt450-deep-neural-networks/DNN-prosjekt/segmentation_data_new/test/images/fish_004094026722_20587.png: 128x128 1 9, 7.8ms\n",
      "image 2888/4118 /home/anderste/ikt450-deep-neural-networks/DNN-prosjekt/segmentation_data_new/test/images/fish_004094286723_24387.png: 128x128 1 2, 7.6ms\n",
      "image 2889/4118 /home/anderste/ikt450-deep-neural-networks/DNN-prosjekt/segmentation_data_new/test/images/fish_004094286723_26001.png: 128x128 1 2, 7.6ms\n",
      "image 2890/4118 /home/anderste/ikt450-deep-neural-networks/DNN-prosjekt/segmentation_data_new/test/images/fish_004094466724_18655.png: 128x128 1 1, 7.7ms\n",
      "image 2891/4118 /home/anderste/ikt450-deep-neural-networks/DNN-prosjekt/segmentation_data_new/test/images/fish_004094576724_18882.png: 128x128 1 1, 7.7ms\n",
      "image 2892/4118 /home/anderste/ikt450-deep-neural-networks/DNN-prosjekt/segmentation_data_new/test/images/fish_004094666724_14106.png: 128x128 1 1, 7.6ms\n",
      "image 2893/4118 /home/anderste/ikt450-deep-neural-networks/DNN-prosjekt/segmentation_data_new/test/images/fish_004094746724_09060.png: 128x128 1 1, 7.9ms\n",
      "image 2894/4118 /home/anderste/ikt450-deep-neural-networks/DNN-prosjekt/segmentation_data_new/test/images/fish_004094756723_09681.png: 96x128 1 9, 9.8ms\n",
      "image 2895/4118 /home/anderste/ikt450-deep-neural-networks/DNN-prosjekt/segmentation_data_new/test/images/fish_004094756723_09696.png: 96x128 1 9, 7.7ms\n",
      "image 2896/4118 /home/anderste/ikt450-deep-neural-networks/DNN-prosjekt/segmentation_data_new/test/images/fish_004094756723_23401.png: 96x128 1 9, 8.0ms\n",
      "image 2897/4118 /home/anderste/ikt450-deep-neural-networks/DNN-prosjekt/segmentation_data_new/test/images/fish_004094816724_10718.png: 128x128 1 1, 8.3ms\n",
      "image 2898/4118 /home/anderste/ikt450-deep-neural-networks/DNN-prosjekt/segmentation_data_new/test/images/fish_004094896724_14102.png: 128x128 1 1, 7.5ms\n",
      "image 2899/4118 /home/anderste/ikt450-deep-neural-networks/DNN-prosjekt/segmentation_data_new/test/images/fish_004094946724_11154.png: 128x128 1 1, 7.7ms\n",
      "image 2900/4118 /home/anderste/ikt450-deep-neural-networks/DNN-prosjekt/segmentation_data_new/test/images/fish_004095106724_08939.png: 128x128 1 1, 7.5ms\n",
      "image 2901/4118 /home/anderste/ikt450-deep-neural-networks/DNN-prosjekt/segmentation_data_new/test/images/fish_004095106724_18068.png: 128x128 1 1, 7.5ms\n",
      "image 2902/4118 /home/anderste/ikt450-deep-neural-networks/DNN-prosjekt/segmentation_data_new/test/images/fish_004095456724_16006.png: 128x128 1 1, 7.6ms\n",
      "image 2903/4118 /home/anderste/ikt450-deep-neural-networks/DNN-prosjekt/segmentation_data_new/test/images/fish_004095546724_18295.png: 128x128 1 1, 7.6ms\n",
      "image 2904/4118 /home/anderste/ikt450-deep-neural-networks/DNN-prosjekt/segmentation_data_new/test/images/fish_004095656724_18823.png: 128x128 1 1, 7.7ms\n",
      "image 2905/4118 /home/anderste/ikt450-deep-neural-networks/DNN-prosjekt/segmentation_data_new/test/images/fish_004095936724_20325.png: 128x128 1 1, 7.6ms\n",
      "image 2906/4118 /home/anderste/ikt450-deep-neural-networks/DNN-prosjekt/segmentation_data_new/test/images/fish_004096006724_18161.png: 128x128 1 1, 7.6ms\n",
      "image 2907/4118 /home/anderste/ikt450-deep-neural-networks/DNN-prosjekt/segmentation_data_new/test/images/fish_004096046724_13976.png: 128x128 1 1, 7.6ms\n",
      "image 2908/4118 /home/anderste/ikt450-deep-neural-networks/DNN-prosjekt/segmentation_data_new/test/images/fish_004096116724_11389.png: 128x128 1 1, 7.6ms\n",
      "image 2909/4118 /home/anderste/ikt450-deep-neural-networks/DNN-prosjekt/segmentation_data_new/test/images/fish_004096166724_18267.png: 128x128 1 1, 7.5ms\n",
      "image 2910/4118 /home/anderste/ikt450-deep-neural-networks/DNN-prosjekt/segmentation_data_new/test/images/fish_004096676724_20947.png: 128x128 1 1, 7.8ms\n",
      "image 2911/4118 /home/anderste/ikt450-deep-neural-networks/DNN-prosjekt/segmentation_data_new/test/images/fish_004096816724_13000.png: 128x128 1 1, 12.3ms\n",
      "image 2912/4118 /home/anderste/ikt450-deep-neural-networks/DNN-prosjekt/segmentation_data_new/test/images/fish_004096846724_16468.png: 128x128 1 1, 9.3ms\n",
      "image 2913/4118 /home/anderste/ikt450-deep-neural-networks/DNN-prosjekt/segmentation_data_new/test/images/fish_004096896724_13973.png: 128x128 1 1, 8.5ms\n",
      "image 2914/4118 /home/anderste/ikt450-deep-neural-networks/DNN-prosjekt/segmentation_data_new/test/images/fish_004099076725_18754.png: 128x128 1 1, 7.6ms\n",
      "image 2915/4118 /home/anderste/ikt450-deep-neural-networks/DNN-prosjekt/segmentation_data_new/test/images/fish_004099316725_24564.png: 128x128 1 1, 8.5ms\n",
      "image 2916/4118 /home/anderste/ikt450-deep-neural-networks/DNN-prosjekt/segmentation_data_new/test/images/fish_004099386725_18843.png: 128x128 1 1, 7.7ms\n",
      "image 2917/4118 /home/anderste/ikt450-deep-neural-networks/DNN-prosjekt/segmentation_data_new/test/images/fish_004099446726_16348.png: 128x128 1 1, 9.3ms\n",
      "image 2918/4118 /home/anderste/ikt450-deep-neural-networks/DNN-prosjekt/segmentation_data_new/test/images/fish_004099606726_09544.png: 128x128 1 1, 8.9ms\n",
      "image 2919/4118 /home/anderste/ikt450-deep-neural-networks/DNN-prosjekt/segmentation_data_new/test/images/fish_004099646725_10448.png: 128x128 1 1, 7.5ms\n",
      "image 2920/4118 /home/anderste/ikt450-deep-neural-networks/DNN-prosjekt/segmentation_data_new/test/images/fish_004099646725_16340.png: 128x128 1 1, 10.1ms\n",
      "image 2921/4118 /home/anderste/ikt450-deep-neural-networks/DNN-prosjekt/segmentation_data_new/test/images/fish_004100066726_10934.png: 128x128 1 1, 8.7ms\n",
      "image 2922/4118 /home/anderste/ikt450-deep-neural-networks/DNN-prosjekt/segmentation_data_new/test/images/fish_004100166725_15875.png: 128x128 1 1, 7.6ms\n",
      "image 2923/4118 /home/anderste/ikt450-deep-neural-networks/DNN-prosjekt/segmentation_data_new/test/images/fish_004100166725_17221.png: 128x128 1 1, 10.9ms\n",
      "image 2924/4118 /home/anderste/ikt450-deep-neural-networks/DNN-prosjekt/segmentation_data_new/test/images/fish_004100486725_11105.png: 128x128 1 1, 12.1ms\n",
      "image 2925/4118 /home/anderste/ikt450-deep-neural-networks/DNN-prosjekt/segmentation_data_new/test/images/fish_004100616726_21714.png: 128x128 1 1, 8.6ms\n",
      "image 2926/4118 /home/anderste/ikt450-deep-neural-networks/DNN-prosjekt/segmentation_data_new/test/images/fish_004100626726_24595.png: 128x128 1 1, 7.8ms\n",
      "image 2927/4118 /home/anderste/ikt450-deep-neural-networks/DNN-prosjekt/segmentation_data_new/test/images/fish_004100836726_10364.png: 128x128 1 1, 8.7ms\n",
      "image 2928/4118 /home/anderste/ikt450-deep-neural-networks/DNN-prosjekt/segmentation_data_new/test/images/fish_004100836726_10369.png: 128x128 1 1, 7.7ms\n",
      "image 2929/4118 /home/anderste/ikt450-deep-neural-networks/DNN-prosjekt/segmentation_data_new/test/images/fish_004100966726_24744.png: 128x128 1 0, 1 1, 8.7ms\n",
      "image 2930/4118 /home/anderste/ikt450-deep-neural-networks/DNN-prosjekt/segmentation_data_new/test/images/fish_004101066725_14012.png: 128x128 1 1, 7.9ms\n",
      "image 2931/4118 /home/anderste/ikt450-deep-neural-networks/DNN-prosjekt/segmentation_data_new/test/images/fish_004101106726_24472.png: 128x128 1 0, 1 1, 7.8ms\n",
      "image 2932/4118 /home/anderste/ikt450-deep-neural-networks/DNN-prosjekt/segmentation_data_new/test/images/fish_004101286725_15459.png: 128x128 1 1, 9.2ms\n",
      "image 2933/4118 /home/anderste/ikt450-deep-neural-networks/DNN-prosjekt/segmentation_data_new/test/images/fish_004101326728_11447.png: 128x128 1 4, 7.9ms\n",
      "image 2934/4118 /home/anderste/ikt450-deep-neural-networks/DNN-prosjekt/segmentation_data_new/test/images/fish_004101326728_19083.png: 128x128 1 4, 10.4ms\n",
      "image 2935/4118 /home/anderste/ikt450-deep-neural-networks/DNN-prosjekt/segmentation_data_new/test/images/fish_004101326728_20683.png: 128x128 1 4, 9.0ms\n",
      "image 2936/4118 /home/anderste/ikt450-deep-neural-networks/DNN-prosjekt/segmentation_data_new/test/images/fish_004101876728_16266.png: 128x128 1 4, 10.0ms\n",
      "image 2937/4118 /home/anderste/ikt450-deep-neural-networks/DNN-prosjekt/segmentation_data_new/test/images/fish_004101896728_24205.png: 128x128 1 4, 7.7ms\n",
      "image 2938/4118 /home/anderste/ikt450-deep-neural-networks/DNN-prosjekt/segmentation_data_new/test/images/fish_004105606731_08932.png: 128x128 1 1, 8.5ms\n",
      "image 2939/4118 /home/anderste/ikt450-deep-neural-networks/DNN-prosjekt/segmentation_data_new/test/images/fish_004105786731_24536.png: 128x128 1 1, 7.7ms\n",
      "image 2940/4118 /home/anderste/ikt450-deep-neural-networks/DNN-prosjekt/segmentation_data_new/test/images/fish_004105866731_08933.png: 128x128 1 1, 8.6ms\n",
      "image 2941/4118 /home/anderste/ikt450-deep-neural-networks/DNN-prosjekt/segmentation_data_new/test/images/fish_004105996731_16305.png: 128x128 1 1, 7.6ms\n",
      "image 2942/4118 /home/anderste/ikt450-deep-neural-networks/DNN-prosjekt/segmentation_data_new/test/images/fish_004106216731_18813.png: 128x128 1 1, 9.3ms\n",
      "image 2943/4118 /home/anderste/ikt450-deep-neural-networks/DNN-prosjekt/segmentation_data_new/test/images/fish_004106216731_20546.png: 128x128 1 1, 9.1ms\n",
      "image 2944/4118 /home/anderste/ikt450-deep-neural-networks/DNN-prosjekt/segmentation_data_new/test/images/fish_004106216731_21710.png: 128x128 1 1, 7.6ms\n",
      "image 2945/4118 /home/anderste/ikt450-deep-neural-networks/DNN-prosjekt/segmentation_data_new/test/images/fish_004110536741_09794.png: 128x128 1 0, 1 1, 8.0ms\n",
      "image 2946/4118 /home/anderste/ikt450-deep-neural-networks/DNN-prosjekt/segmentation_data_new/test/images/fish_004110536741_22177.png: 128x128 1 0, 7.4ms\n",
      "image 2947/4118 /home/anderste/ikt450-deep-neural-networks/DNN-prosjekt/segmentation_data_new/test/images/fish_004110586741_09798.png: 128x128 1 0, 7.7ms\n",
      "image 2948/4118 /home/anderste/ikt450-deep-neural-networks/DNN-prosjekt/segmentation_data_new/test/images/fish_004115226747_25447.png: 128x128 1 0, 8.7ms\n",
      "image 2949/4118 /home/anderste/ikt450-deep-neural-networks/DNN-prosjekt/segmentation_data_new/test/images/fish_004115256747_25326.png: 128x128 1 1, 7.3ms\n",
      "image 2950/4118 /home/anderste/ikt450-deep-neural-networks/DNN-prosjekt/segmentation_data_new/test/images/fish_004116236748_27048.png: 128x128 1 1, 9.9ms\n",
      "image 2951/4118 /home/anderste/ikt450-deep-neural-networks/DNN-prosjekt/segmentation_data_new/test/images/fish_004116246748_15317.png: 128x128 1 1, 8.0ms\n",
      "image 2952/4118 /home/anderste/ikt450-deep-neural-networks/DNN-prosjekt/segmentation_data_new/test/images/fish_004116306748_26493.png: 128x128 1 1, 7.8ms\n",
      "image 2953/4118 /home/anderste/ikt450-deep-neural-networks/DNN-prosjekt/segmentation_data_new/test/images/fish_004116726748_11016.png: 128x128 1 1, 8.9ms\n",
      "image 2954/4118 /home/anderste/ikt450-deep-neural-networks/DNN-prosjekt/segmentation_data_new/test/images/fish_004116756748_11647.png: 128x128 1 1, 7.7ms\n",
      "image 2955/4118 /home/anderste/ikt450-deep-neural-networks/DNN-prosjekt/segmentation_data_new/test/images/fish_004120166751_25127.png: 128x128 1 0, 1 1, 7.7ms\n",
      "image 2956/4118 /home/anderste/ikt450-deep-neural-networks/DNN-prosjekt/segmentation_data_new/test/images/fish_004120266751_25038.png: 128x128 1 1, 12.1ms\n",
      "image 2957/4118 /home/anderste/ikt450-deep-neural-networks/DNN-prosjekt/segmentation_data_new/test/images/fish_004120696751_20533.png: 128x128 1 1, 7.7ms\n",
      "image 2958/4118 /home/anderste/ikt450-deep-neural-networks/DNN-prosjekt/segmentation_data_new/test/images/fish_004121016751_24873.png: 128x128 1 1, 8.0ms\n",
      "image 2959/4118 /home/anderste/ikt450-deep-neural-networks/DNN-prosjekt/segmentation_data_new/test/images/fish_004121126751_24868.png: 128x128 1 1, 7.6ms\n",
      "image 2960/4118 /home/anderste/ikt450-deep-neural-networks/DNN-prosjekt/segmentation_data_new/test/images/fish_004124506755_23206.png: 128x128 1 12, 7.8ms\n",
      "image 2961/4118 /home/anderste/ikt450-deep-neural-networks/DNN-prosjekt/segmentation_data_new/test/images/fish_004125886756_15738.png: 128x128 1 1, 8.6ms\n",
      "image 2962/4118 /home/anderste/ikt450-deep-neural-networks/DNN-prosjekt/segmentation_data_new/test/images/fish_004125986756_25228.png: 128x128 1 1, 7.9ms\n",
      "image 2963/4118 /home/anderste/ikt450-deep-neural-networks/DNN-prosjekt/segmentation_data_new/test/images/fish_004125986756_25582.png: 128x128 1 1, 10.5ms\n",
      "image 2964/4118 /home/anderste/ikt450-deep-neural-networks/DNN-prosjekt/segmentation_data_new/test/images/fish_004126056756_24892.png: 128x128 1 1, 8.5ms\n",
      "image 2965/4118 /home/anderste/ikt450-deep-neural-networks/DNN-prosjekt/segmentation_data_new/test/images/fish_004126146756_21959.png: 128x128 1 1, 7.8ms\n",
      "image 2966/4118 /home/anderste/ikt450-deep-neural-networks/DNN-prosjekt/segmentation_data_new/test/images/fish_004126176756_15746.png: 128x128 1 1, 9.4ms\n",
      "image 2967/4118 /home/anderste/ikt450-deep-neural-networks/DNN-prosjekt/segmentation_data_new/test/images/fish_004126176756_18989.png: 128x128 1 1, 8.2ms\n",
      "image 2968/4118 /home/anderste/ikt450-deep-neural-networks/DNN-prosjekt/segmentation_data_new/test/images/fish_004126176756_19013.png: 128x128 1 1, 7.5ms\n",
      "image 2969/4118 /home/anderste/ikt450-deep-neural-networks/DNN-prosjekt/segmentation_data_new/test/images/fish_004126176756_21789.png: 128x128 1 1, 8.8ms\n",
      "image 2970/4118 /home/anderste/ikt450-deep-neural-networks/DNN-prosjekt/segmentation_data_new/test/images/fish_004126176756_22636.png: 128x128 1 1, 8.0ms\n",
      "image 2971/4118 /home/anderste/ikt450-deep-neural-networks/DNN-prosjekt/segmentation_data_new/test/images/fish_004126176756_25350.png: 128x128 1 1, 7.7ms\n",
      "image 2972/4118 /home/anderste/ikt450-deep-neural-networks/DNN-prosjekt/segmentation_data_new/test/images/fish_004126186756_10660.png: 128x128 1 1, 8.5ms\n",
      "image 2973/4118 /home/anderste/ikt450-deep-neural-networks/DNN-prosjekt/segmentation_data_new/test/images/fish_004126256756_18892.png: 128x128 1 1, 7.6ms\n",
      "image 2974/4118 /home/anderste/ikt450-deep-neural-networks/DNN-prosjekt/segmentation_data_new/test/images/fish_004126256756_25198.png: 128x128 1 0, 8.6ms\n",
      "image 2975/4118 /home/anderste/ikt450-deep-neural-networks/DNN-prosjekt/segmentation_data_new/test/images/fish_004126286756_21978.png: 128x128 1 1, 7.6ms\n",
      "image 2976/4118 /home/anderste/ikt450-deep-neural-networks/DNN-prosjekt/segmentation_data_new/test/images/fish_004126306756_25029.png: 128x128 1 1, 7.6ms\n",
      "image 2977/4118 /home/anderste/ikt450-deep-neural-networks/DNN-prosjekt/segmentation_data_new/test/images/fish_004126656756_20389.png: 128x128 1 1, 8.6ms\n",
      "image 2978/4118 /home/anderste/ikt450-deep-neural-networks/DNN-prosjekt/segmentation_data_new/test/images/fish_004126676756_11085.png: 128x128 1 1, 7.7ms\n",
      "image 2979/4118 /home/anderste/ikt450-deep-neural-networks/DNN-prosjekt/segmentation_data_new/test/images/fish_004126676756_18478.png: 128x128 1 1, 9.0ms\n",
      "image 2980/4118 /home/anderste/ikt450-deep-neural-networks/DNN-prosjekt/segmentation_data_new/test/images/fish_004126676756_21612.png: 128x128 1 0, 1 1, 9.1ms\n",
      "image 2981/4118 /home/anderste/ikt450-deep-neural-networks/DNN-prosjekt/segmentation_data_new/test/images/fish_004126906756_27149.png: 128x128 1 1, 7.6ms\n",
      "image 2982/4118 /home/anderste/ikt450-deep-neural-networks/DNN-prosjekt/segmentation_data_new/test/images/fish_004127206756_15696.png: 128x128 1 1, 10.0ms\n",
      "image 2983/4118 /home/anderste/ikt450-deep-neural-networks/DNN-prosjekt/segmentation_data_new/test/images/fish_004127206756_20617.png: 128x128 1 1, 9.0ms\n",
      "image 2984/4118 /home/anderste/ikt450-deep-neural-networks/DNN-prosjekt/segmentation_data_new/test/images/fish_004127206756_23196.png: 128x128 1 1, 7.6ms\n",
      "image 2985/4118 /home/anderste/ikt450-deep-neural-networks/DNN-prosjekt/segmentation_data_new/test/images/fish_004127306756_24822.png: 128x128 1 1, 8.7ms\n",
      "image 2986/4118 /home/anderste/ikt450-deep-neural-networks/DNN-prosjekt/segmentation_data_new/test/images/fish_004127316756_25467.png: 128x128 1 1, 7.9ms\n",
      "image 2987/4118 /home/anderste/ikt450-deep-neural-networks/DNN-prosjekt/segmentation_data_new/test/images/fish_004127356756_24079.png: 128x128 1 1, 7.7ms\n",
      "image 2988/4118 /home/anderste/ikt450-deep-neural-networks/DNN-prosjekt/segmentation_data_new/test/images/fish_004127386756_20536.png: 128x128 1 1, 8.7ms\n",
      "image 2989/4118 /home/anderste/ikt450-deep-neural-networks/DNN-prosjekt/segmentation_data_new/test/images/fish_004131856766_26720.png: 128x128 1 0, 7.6ms\n",
      "image 2990/4118 /home/anderste/ikt450-deep-neural-networks/DNN-prosjekt/segmentation_data_new/test/images/fish_004131906766_19903.png: 128x128 1 3, 9.7ms\n",
      "image 2991/4118 /home/anderste/ikt450-deep-neural-networks/DNN-prosjekt/segmentation_data_new/test/images/fish_004132046766_15779.png: 128x128 1 1, 8.7ms\n",
      "image 2992/4118 /home/anderste/ikt450-deep-neural-networks/DNN-prosjekt/segmentation_data_new/test/images/fish_004132126766_22110.png: 128x128 1 1, 8.2ms\n",
      "image 2993/4118 /home/anderste/ikt450-deep-neural-networks/DNN-prosjekt/segmentation_data_new/test/images/fish_004133356769_27183.png: 128x128 1 4, 8.3ms\n",
      "image 2994/4118 /home/anderste/ikt450-deep-neural-networks/DNN-prosjekt/segmentation_data_new/test/images/fish_004133386769_14065.png: 128x128 1 4, 7.7ms\n",
      "image 2995/4118 /home/anderste/ikt450-deep-neural-networks/DNN-prosjekt/segmentation_data_new/test/images/fish_004133516771_16547.png: 128x128 1 1, 7.6ms\n",
      "image 2996/4118 /home/anderste/ikt450-deep-neural-networks/DNN-prosjekt/segmentation_data_new/test/images/fish_004133516771_20708.png: 128x128 1 1, 9.9ms\n",
      "image 2997/4118 /home/anderste/ikt450-deep-neural-networks/DNN-prosjekt/segmentation_data_new/test/images/fish_004133516771_20822.png: 128x128 1 1, 7.7ms\n",
      "image 2998/4118 /home/anderste/ikt450-deep-neural-networks/DNN-prosjekt/segmentation_data_new/test/images/fish_004133526771_17580.png: 128x128 1 1, 8.6ms\n",
      "image 2999/4118 /home/anderste/ikt450-deep-neural-networks/DNN-prosjekt/segmentation_data_new/test/images/fish_004133536771_12264.png: 128x128 1 1, 7.6ms\n",
      "image 3000/4118 /home/anderste/ikt450-deep-neural-networks/DNN-prosjekt/segmentation_data_new/test/images/fish_004133536771_14006.png: 128x128 1 1, 7.6ms\n",
      "image 3001/4118 /home/anderste/ikt450-deep-neural-networks/DNN-prosjekt/segmentation_data_new/test/images/fish_004133536771_17527.png: 128x128 1 1, 8.6ms\n",
      "image 3002/4118 /home/anderste/ikt450-deep-neural-networks/DNN-prosjekt/segmentation_data_new/test/images/fish_004133536771_18384.png: 128x128 1 1, 7.8ms\n",
      "image 3003/4118 /home/anderste/ikt450-deep-neural-networks/DNN-prosjekt/segmentation_data_new/test/images/fish_004133636772_10469.png: 128x128 1 0, 1 1, 10.8ms\n",
      "image 3004/4118 /home/anderste/ikt450-deep-neural-networks/DNN-prosjekt/segmentation_data_new/test/images/fish_004133636772_24541.png: 128x128 1 0, 8.1ms\n",
      "image 3005/4118 /home/anderste/ikt450-deep-neural-networks/DNN-prosjekt/segmentation_data_new/test/images/fish_004133706771_10538.png: 128x128 1 1, 7.7ms\n",
      "image 3006/4118 /home/anderste/ikt450-deep-neural-networks/DNN-prosjekt/segmentation_data_new/test/images/fish_004133766771_18503.png: 128x128 1 1, 9.1ms\n",
      "image 3007/4118 /home/anderste/ikt450-deep-neural-networks/DNN-prosjekt/segmentation_data_new/test/images/fish_004133796771_16410.png: 128x128 1 1, 7.7ms\n",
      "image 3008/4118 /home/anderste/ikt450-deep-neural-networks/DNN-prosjekt/segmentation_data_new/test/images/fish_004133846771_17485.png: 128x128 1 1, 7.7ms\n",
      "image 3009/4118 /home/anderste/ikt450-deep-neural-networks/DNN-prosjekt/segmentation_data_new/test/images/fish_004133876771_21778.png: 128x128 1 1, 8.6ms\n",
      "image 3010/4118 /home/anderste/ikt450-deep-neural-networks/DNN-prosjekt/segmentation_data_new/test/images/fish_004133876771_25542.png: 128x128 1 1, 7.6ms\n",
      "image 3011/4118 /home/anderste/ikt450-deep-neural-networks/DNN-prosjekt/segmentation_data_new/test/images/fish_004133886771_20767.png: 128x128 1 1, 8.7ms\n",
      "image 3012/4118 /home/anderste/ikt450-deep-neural-networks/DNN-prosjekt/segmentation_data_new/test/images/fish_004133936771_16817.png: 128x128 1 1, 7.6ms\n",
      "image 3013/4118 /home/anderste/ikt450-deep-neural-networks/DNN-prosjekt/segmentation_data_new/test/images/fish_004133936771_20766.png: 128x128 1 1, 7.6ms\n",
      "image 3014/4118 /home/anderste/ikt450-deep-neural-networks/DNN-prosjekt/segmentation_data_new/test/images/fish_004134116771_25302.png: 128x128 1 1, 8.7ms\n",
      "image 3015/4118 /home/anderste/ikt450-deep-neural-networks/DNN-prosjekt/segmentation_data_new/test/images/fish_004134196771_16461.png: 128x128 1 1, 7.6ms\n",
      "image 3016/4118 /home/anderste/ikt450-deep-neural-networks/DNN-prosjekt/segmentation_data_new/test/images/fish_004135716774_10890.png: 128x128 1 1, 8.6ms\n",
      "image 3017/4118 /home/anderste/ikt450-deep-neural-networks/DNN-prosjekt/segmentation_data_new/test/images/fish_004135716774_15186.png: 128x128 1 1, 10.2ms\n",
      "image 3018/4118 /home/anderste/ikt450-deep-neural-networks/DNN-prosjekt/segmentation_data_new/test/images/fish_004136326774_24531.png: 128x128 1 1, 7.7ms\n",
      "image 3019/4118 /home/anderste/ikt450-deep-neural-networks/DNN-prosjekt/segmentation_data_new/test/images/fish_004136336775_24425.png: 128x128 1 1, 10.6ms\n",
      "image 3020/4118 /home/anderste/ikt450-deep-neural-networks/DNN-prosjekt/segmentation_data_new/test/images/fish_004137456776_15250.png: 96x128 1 10, 8.8ms\n",
      "image 3021/4118 /home/anderste/ikt450-deep-neural-networks/DNN-prosjekt/segmentation_data_new/test/images/fish_004138246778_15605.png: 128x128 1 1, 7.9ms\n",
      "image 3022/4118 /home/anderste/ikt450-deep-neural-networks/DNN-prosjekt/segmentation_data_new/test/images/fish_004138276778_09585.png: 128x128 1 1, 10.0ms\n",
      "image 3023/4118 /home/anderste/ikt450-deep-neural-networks/DNN-prosjekt/segmentation_data_new/test/images/fish_004138396778_17400.png: 128x128 1 1, 7.7ms\n",
      "image 3024/4118 /home/anderste/ikt450-deep-neural-networks/DNN-prosjekt/segmentation_data_new/test/images/fish_004138606778_22178.png: 128x128 1 1, 8.3ms\n",
      "image 3025/4118 /home/anderste/ikt450-deep-neural-networks/DNN-prosjekt/segmentation_data_new/test/images/fish_004141936790_18574.png: 128x128 1 3, 8.8ms\n",
      "image 3026/4118 /home/anderste/ikt450-deep-neural-networks/DNN-prosjekt/segmentation_data_new/test/images/fish_004142066790_11024.png: 128x128 1 4, 7.5ms\n",
      "image 3027/4118 /home/anderste/ikt450-deep-neural-networks/DNN-prosjekt/segmentation_data_new/test/images/fish_004142086790_10913.png: 128x128 1 4, 9.6ms\n",
      "image 3028/4118 /home/anderste/ikt450-deep-neural-networks/DNN-prosjekt/segmentation_data_new/test/images/fish_004144256793_10926.png: 128x128 1 4, 7.7ms\n",
      "image 3029/4118 /home/anderste/ikt450-deep-neural-networks/DNN-prosjekt/segmentation_data_new/test/images/fish_004144256793_20759.png: 128x128 1 3, 1 4, 7.6ms\n",
      "image 3030/4118 /home/anderste/ikt450-deep-neural-networks/DNN-prosjekt/segmentation_data_new/test/images/fish_004146456796_11313.png: 128x128 1 2, 10.4ms\n",
      "image 3031/4118 /home/anderste/ikt450-deep-neural-networks/DNN-prosjekt/segmentation_data_new/test/images/fish_004146456796_23080.png: 128x128 1 2, 7.6ms\n",
      "image 3032/4118 /home/anderste/ikt450-deep-neural-networks/DNN-prosjekt/segmentation_data_new/test/images/fish_004146536796_22403.png: 128x128 1 3, 8.6ms\n",
      "image 3033/4118 /home/anderste/ikt450-deep-neural-networks/DNN-prosjekt/segmentation_data_new/test/images/fish_004147006796_22805.png: 128x128 1 2, 7.5ms\n",
      "image 3034/4118 /home/anderste/ikt450-deep-neural-networks/DNN-prosjekt/segmentation_data_new/test/images/fish_004147006796_24135.png: 128x128 1 2, 7.7ms\n",
      "image 3035/4118 /home/anderste/ikt450-deep-neural-networks/DNN-prosjekt/segmentation_data_new/test/images/fish_004147346798_26955.png: 128x128 1 2, 8.6ms\n",
      "image 3036/4118 /home/anderste/ikt450-deep-neural-networks/DNN-prosjekt/segmentation_data_new/test/images/fish_004147646796_14341.png: 128x128 1 1, 7.6ms\n",
      "image 3037/4118 /home/anderste/ikt450-deep-neural-networks/DNN-prosjekt/segmentation_data_new/test/images/fish_004147766798_15099.png: 128x128 1 0, 9.9ms\n",
      "image 3038/4118 /home/anderste/ikt450-deep-neural-networks/DNN-prosjekt/segmentation_data_new/test/images/fish_004147816796_17653.png: 128x128 1 2, 9.0ms\n",
      "image 3039/4118 /home/anderste/ikt450-deep-neural-networks/DNN-prosjekt/segmentation_data_new/test/images/fish_004147816796_24126.png: 128x128 1 2, 7.6ms\n",
      "image 3040/4118 /home/anderste/ikt450-deep-neural-networks/DNN-prosjekt/segmentation_data_new/test/images/fish_004147816796_24136.png: 128x128 1 2, 8.6ms\n",
      "image 3041/4118 /home/anderste/ikt450-deep-neural-networks/DNN-prosjekt/segmentation_data_new/test/images/fish_004148356798_26625.png: 128x128 1 2, 7.7ms\n",
      "image 3042/4118 /home/anderste/ikt450-deep-neural-networks/DNN-prosjekt/segmentation_data_new/test/images/fish_004148366796_09733.png: 128x128 1 2, 7.6ms\n",
      "image 3043/4118 /home/anderste/ikt450-deep-neural-networks/DNN-prosjekt/segmentation_data_new/test/images/fish_004154116805_15156.png: 128x128 1 2, 7.7ms\n",
      "image 3044/4118 /home/anderste/ikt450-deep-neural-networks/DNN-prosjekt/segmentation_data_new/test/images/fish_004154126805_09725.png: 128x128 1 2, 9.9ms\n",
      "image 3045/4118 /home/anderste/ikt450-deep-neural-networks/DNN-prosjekt/segmentation_data_new/test/images/fish_004154156805_09729.png: 128x128 1 2, 10.2ms\n",
      "image 3046/4118 /home/anderste/ikt450-deep-neural-networks/DNN-prosjekt/segmentation_data_new/test/images/fish_004154676805_14830.png: 128x128 1 2, 1 3, 7.9ms\n",
      "image 3047/4118 /home/anderste/ikt450-deep-neural-networks/DNN-prosjekt/segmentation_data_new/test/images/fish_004154756805_09207.png: 128x128 1 1, 7.6ms\n",
      "image 3048/4118 /home/anderste/ikt450-deep-neural-networks/DNN-prosjekt/segmentation_data_new/test/images/fish_004154806805_10174.png: 128x128 1 3, 8.6ms\n",
      "image 3049/4118 /home/anderste/ikt450-deep-neural-networks/DNN-prosjekt/segmentation_data_new/test/images/fish_004154856805_15381.png: 128x128 1 3, 7.7ms\n",
      "image 3050/4118 /home/anderste/ikt450-deep-neural-networks/DNN-prosjekt/segmentation_data_new/test/images/fish_004154926805_26024.png: 128x128 1 3, 8.8ms\n",
      "image 3051/4118 /home/anderste/ikt450-deep-neural-networks/DNN-prosjekt/segmentation_data_new/test/images/fish_004156436808_25539.png: 128x128 1 1, 8.6ms\n",
      "image 3052/4118 /home/anderste/ikt450-deep-neural-networks/DNN-prosjekt/segmentation_data_new/test/images/fish_004156506808_20923.png: 128x128 1 1, 7.7ms\n",
      "image 3053/4118 /home/anderste/ikt450-deep-neural-networks/DNN-prosjekt/segmentation_data_new/test/images/fish_004156676808_20112.png: 128x128 1 0, 1 1, 8.6ms\n",
      "image 3054/4118 /home/anderste/ikt450-deep-neural-networks/DNN-prosjekt/segmentation_data_new/test/images/fish_004160386811_23475.png: 128x128 1 0, 7.7ms\n",
      "image 3055/4118 /home/anderste/ikt450-deep-neural-networks/DNN-prosjekt/segmentation_data_new/test/images/fish_004160476811_23642.png: 128x128 1 2, 7.9ms\n",
      "image 3056/4118 /home/anderste/ikt450-deep-neural-networks/DNN-prosjekt/segmentation_data_new/test/images/fish_004160516811_22826.png: 128x128 1 0, 8.8ms\n",
      "image 3057/4118 /home/anderste/ikt450-deep-neural-networks/DNN-prosjekt/segmentation_data_new/test/images/fish_004160706812_16850.png: 128x128 1 3, 7.8ms\n",
      "image 3058/4118 /home/anderste/ikt450-deep-neural-networks/DNN-prosjekt/segmentation_data_new/test/images/fish_004160926812_13219.png: 128x128 1 3, 8.5ms\n",
      "image 3059/4118 /home/anderste/ikt450-deep-neural-networks/DNN-prosjekt/segmentation_data_new/test/images/fish_004161036811_09716.png: 128x128 1 2, 7.6ms\n",
      "image 3060/4118 /home/anderste/ikt450-deep-neural-networks/DNN-prosjekt/segmentation_data_new/test/images/fish_004161036811_09720.png: 128x128 1 2, 8.3ms\n",
      "image 3061/4118 /home/anderste/ikt450-deep-neural-networks/DNN-prosjekt/segmentation_data_new/test/images/fish_004161156811_23668.png: 128x128 1 2, 9.0ms\n",
      "image 3062/4118 /home/anderste/ikt450-deep-neural-networks/DNN-prosjekt/segmentation_data_new/test/images/fish_004161236811_09719.png: 128x128 1 2, 7.5ms\n",
      "image 3063/4118 /home/anderste/ikt450-deep-neural-networks/DNN-prosjekt/segmentation_data_new/test/images/fish_004161666811_12883.png: 128x128 1 0, 1 1, 8.5ms\n",
      "image 3064/4118 /home/anderste/ikt450-deep-neural-networks/DNN-prosjekt/segmentation_data_new/test/images/fish_004165006815_14375.png: 128x128 1 1, 7.7ms\n",
      "image 3065/4118 /home/anderste/ikt450-deep-neural-networks/DNN-prosjekt/segmentation_data_new/test/images/fish_004165026815_09752.png: 128x128 1 2, 7.7ms\n",
      "image 3066/4118 /home/anderste/ikt450-deep-neural-networks/DNN-prosjekt/segmentation_data_new/test/images/fish_004165226815_14895.png: 128x128 1 2, 8.6ms\n",
      "image 3067/4118 /home/anderste/ikt450-deep-neural-networks/DNN-prosjekt/segmentation_data_new/test/images/fish_004165226815_22417.png: 128x128 1 2, 7.7ms\n",
      "image 3068/4118 /home/anderste/ikt450-deep-neural-networks/DNN-prosjekt/segmentation_data_new/test/images/fish_004165336815_22863.png: 128x128 1 1, 10.2ms\n",
      "image 3069/4118 /home/anderste/ikt450-deep-neural-networks/DNN-prosjekt/segmentation_data_new/test/images/fish_004165366815_23451.png: 128x128 1 1, 7.5ms\n",
      "image 3070/4118 /home/anderste/ikt450-deep-neural-networks/DNN-prosjekt/segmentation_data_new/test/images/fish_004168526821_09488.png: 128x128 1 3, 1 4, 8.4ms\n",
      "image 3071/4118 /home/anderste/ikt450-deep-neural-networks/DNN-prosjekt/segmentation_data_new/test/images/fish_004169016823_10761.png: 128x128 1 2, 14.4ms\n",
      "image 3072/4118 /home/anderste/ikt450-deep-neural-networks/DNN-prosjekt/segmentation_data_new/test/images/fish_004172616828_25534.png: 128x128 1 0, 7.6ms\n",
      "image 3073/4118 /home/anderste/ikt450-deep-neural-networks/DNN-prosjekt/segmentation_data_new/test/images/fish_004172826828_19845.png: 128x128 1 3, 7.6ms\n",
      "image 3074/4118 /home/anderste/ikt450-deep-neural-networks/DNN-prosjekt/segmentation_data_new/test/images/fish_004172866828_20883.png: 128x128 1 1, 7.6ms\n",
      "image 3075/4118 /home/anderste/ikt450-deep-neural-networks/DNN-prosjekt/segmentation_data_new/test/images/fish_004173046828_21773.png: 128x128 1 3, 7.6ms\n",
      "image 3076/4118 /home/anderste/ikt450-deep-neural-networks/DNN-prosjekt/segmentation_data_new/test/images/fish_004173216828_22478.png: 128x128 1 1, 7.6ms\n",
      "image 3077/4118 /home/anderste/ikt450-deep-neural-networks/DNN-prosjekt/segmentation_data_new/test/images/fish_004176216832_20830.png: 128x128 1 1, 7.6ms\n",
      "image 3078/4118 /home/anderste/ikt450-deep-neural-networks/DNN-prosjekt/segmentation_data_new/test/images/fish_004176216832_22732.png: 128x128 1 1, 7.7ms\n",
      "image 3079/4118 /home/anderste/ikt450-deep-neural-networks/DNN-prosjekt/segmentation_data_new/test/images/fish_004176266832_22007.png: 128x128 1 1, 14.6ms\n",
      "image 3080/4118 /home/anderste/ikt450-deep-neural-networks/DNN-prosjekt/segmentation_data_new/test/images/fish_004176356832_24913.png: 128x128 1 1, 7.7ms\n",
      "image 3081/4118 /home/anderste/ikt450-deep-neural-networks/DNN-prosjekt/segmentation_data_new/test/images/fish_004176456832_20138.png: 128x128 1 0, 7.6ms\n",
      "image 3082/4118 /home/anderste/ikt450-deep-neural-networks/DNN-prosjekt/segmentation_data_new/test/images/fish_004176796832_14794.png: 128x128 1 0, 1 1, 7.6ms\n",
      "image 3083/4118 /home/anderste/ikt450-deep-neural-networks/DNN-prosjekt/segmentation_data_new/test/images/fish_004176836832_16443.png: 128x128 1 1, 7.7ms\n",
      "image 3084/4118 /home/anderste/ikt450-deep-neural-networks/DNN-prosjekt/segmentation_data_new/test/images/fish_004176836832_21813.png: 128x128 1 0, 1 1, 7.6ms\n",
      "image 3085/4118 /home/anderste/ikt450-deep-neural-networks/DNN-prosjekt/segmentation_data_new/test/images/fish_004176966832_24271.png: 128x128 1 1, 7.6ms\n",
      "image 3086/4118 /home/anderste/ikt450-deep-neural-networks/DNN-prosjekt/segmentation_data_new/test/images/fish_004179866835_13134.png: 128x128 1 2, 7.6ms\n",
      "image 3087/4118 /home/anderste/ikt450-deep-neural-networks/DNN-prosjekt/segmentation_data_new/test/images/fish_004180186835_13862.png: 128x128 1 1, 10.3ms\n",
      "image 3088/4118 /home/anderste/ikt450-deep-neural-networks/DNN-prosjekt/segmentation_data_new/test/images/fish_004180386835_26103.png: 128x128 1 1, 7.6ms\n",
      "image 3089/4118 /home/anderste/ikt450-deep-neural-networks/DNN-prosjekt/segmentation_data_new/test/images/fish_004182406838_17597.png: 128x128 1 4, 8.6ms\n",
      "image 3090/4118 /home/anderste/ikt450-deep-neural-networks/DNN-prosjekt/segmentation_data_new/test/images/fish_004182506838_11046.png: 128x128 1 4, 7.8ms\n",
      "image 3091/4118 /home/anderste/ikt450-deep-neural-networks/DNN-prosjekt/segmentation_data_new/test/images/fish_004182716838_21211.png: 128x128 1 4, 8.6ms\n",
      "image 3092/4118 /home/anderste/ikt450-deep-neural-networks/DNN-prosjekt/segmentation_data_new/test/images/fish_004182796838_21452.png: 128x128 1 4, 8.5ms\n",
      "image 3093/4118 /home/anderste/ikt450-deep-neural-networks/DNN-prosjekt/segmentation_data_new/test/images/fish_004182806838_21186.png: 128x128 1 3, 1 4, 7.6ms\n",
      "image 3094/4118 /home/anderste/ikt450-deep-neural-networks/DNN-prosjekt/segmentation_data_new/test/images/fish_004182876838_22268.png: 128x128 1 3, 9.2ms\n",
      "image 3095/4118 /home/anderste/ikt450-deep-neural-networks/DNN-prosjekt/segmentation_data_new/test/images/fish_004182876838_26145.png: 128x128 1 4, 7.7ms\n",
      "image 3096/4118 /home/anderste/ikt450-deep-neural-networks/DNN-prosjekt/segmentation_data_new/test/images/fish_004182926838_09475.png: 128x128 1 3, 1 4, 8.1ms\n",
      "image 3097/4118 /home/anderste/ikt450-deep-neural-networks/DNN-prosjekt/segmentation_data_new/test/images/fish_004182926838_20113.png: 128x128 1 3, 8.6ms\n",
      "image 3098/4118 /home/anderste/ikt450-deep-neural-networks/DNN-prosjekt/segmentation_data_new/test/images/fish_004182936838_10701.png: 128x128 1 3, 1 4, 7.7ms\n",
      "image 3099/4118 /home/anderste/ikt450-deep-neural-networks/DNN-prosjekt/segmentation_data_new/test/images/fish_004182966838_18531.png: 128x128 1 4, 13.1ms\n",
      "image 3100/4118 /home/anderste/ikt450-deep-neural-networks/DNN-prosjekt/segmentation_data_new/test/images/fish_004183016838_09415.png: 128x128 1 4, 8.2ms\n",
      "image 3101/4118 /home/anderste/ikt450-deep-neural-networks/DNN-prosjekt/segmentation_data_new/test/images/fish_004183066838_09279.png: 128x128 1 4, 7.6ms\n",
      "image 3102/4118 /home/anderste/ikt450-deep-neural-networks/DNN-prosjekt/segmentation_data_new/test/images/fish_004183706840_23274.png: 128x128 1 1, 8.5ms\n",
      "image 3103/4118 /home/anderste/ikt450-deep-neural-networks/DNN-prosjekt/segmentation_data_new/test/images/fish_004185526842_17469.png: 128x128 1 1, 7.8ms\n",
      "image 3104/4118 /home/anderste/ikt450-deep-neural-networks/DNN-prosjekt/segmentation_data_new/test/images/fish_004185616842_24908.png: 128x128 1 1, 9.7ms\n",
      "image 3105/4118 /home/anderste/ikt450-deep-neural-networks/DNN-prosjekt/segmentation_data_new/test/images/fish_004185716842_27125.png: 128x128 1 1, 9.0ms\n",
      "image 3106/4118 /home/anderste/ikt450-deep-neural-networks/DNN-prosjekt/segmentation_data_new/test/images/fish_004185896842_10985.png: 128x128 1 1, 7.7ms\n",
      "image 3107/4118 /home/anderste/ikt450-deep-neural-networks/DNN-prosjekt/segmentation_data_new/test/images/fish_004185996842_10585.png: 128x128 1 1, 8.4ms\n",
      "image 3108/4118 /home/anderste/ikt450-deep-neural-networks/DNN-prosjekt/segmentation_data_new/test/images/fish_004186456843_13774.png: 128x128 1 4, 7.7ms\n",
      "image 3109/4118 /home/anderste/ikt450-deep-neural-networks/DNN-prosjekt/segmentation_data_new/test/images/fish_004186456843_26243.png: 128x128 1 4, 7.7ms\n",
      "image 3110/4118 /home/anderste/ikt450-deep-neural-networks/DNN-prosjekt/segmentation_data_new/test/images/fish_004188846845_24602.png: 128x128 1 3, 1 4, 8.6ms\n",
      "image 3111/4118 /home/anderste/ikt450-deep-neural-networks/DNN-prosjekt/segmentation_data_new/test/images/fish_004191516853_11634.png: 128x128 1 5, 7.6ms\n",
      "image 3112/4118 /home/anderste/ikt450-deep-neural-networks/DNN-prosjekt/segmentation_data_new/test/images/fish_004191516853_13334.png: 128x128 1 5, 10.8ms\n",
      "image 3113/4118 /home/anderste/ikt450-deep-neural-networks/DNN-prosjekt/segmentation_data_new/test/images/fish_004191516853_13558.png: 128x128 1 5, 8.8ms\n",
      "image 3114/4118 /home/anderste/ikt450-deep-neural-networks/DNN-prosjekt/segmentation_data_new/test/images/fish_004191516853_25605.png: 128x128 1 5, 7.6ms\n",
      "image 3115/4118 /home/anderste/ikt450-deep-neural-networks/DNN-prosjekt/segmentation_data_new/test/images/fish_004191516853_25795.png: 128x128 1 5, 8.4ms\n",
      "image 3116/4118 /home/anderste/ikt450-deep-neural-networks/DNN-prosjekt/segmentation_data_new/test/images/fish_004191576853_18624.png: 128x128 1 5, 7.7ms\n",
      "image 3117/4118 /home/anderste/ikt450-deep-neural-networks/DNN-prosjekt/segmentation_data_new/test/images/fish_004191576853_25740.png: 128x128 1 5, 7.7ms\n",
      "image 3118/4118 /home/anderste/ikt450-deep-neural-networks/DNN-prosjekt/segmentation_data_new/test/images/fish_004191606853_12531.png: 128x128 1 5, 8.5ms\n",
      "image 3119/4118 /home/anderste/ikt450-deep-neural-networks/DNN-prosjekt/segmentation_data_new/test/images/fish_004191606853_13587.png: 128x128 1 5, 7.6ms\n",
      "image 3120/4118 /home/anderste/ikt450-deep-neural-networks/DNN-prosjekt/segmentation_data_new/test/images/fish_004191606853_15832.png: 128x128 1 5, 9.0ms\n",
      "image 3121/4118 /home/anderste/ikt450-deep-neural-networks/DNN-prosjekt/segmentation_data_new/test/images/fish_004191606853_19302.png: 128x128 1 5, 7.6ms\n",
      "image 3122/4118 /home/anderste/ikt450-deep-neural-networks/DNN-prosjekt/segmentation_data_new/test/images/fish_004191606853_21369.png: 128x128 1 5, 8.9ms\n",
      "image 3123/4118 /home/anderste/ikt450-deep-neural-networks/DNN-prosjekt/segmentation_data_new/test/images/fish_004191606853_21423.png: 128x128 1 5, 9.1ms\n",
      "image 3124/4118 /home/anderste/ikt450-deep-neural-networks/DNN-prosjekt/segmentation_data_new/test/images/fish_004191606853_21439.png: 128x128 1 5, 7.6ms\n",
      "image 3125/4118 /home/anderste/ikt450-deep-neural-networks/DNN-prosjekt/segmentation_data_new/test/images/fish_004193206854_19875.png: 128x128 1 4, 8.6ms\n",
      "image 3126/4118 /home/anderste/ikt450-deep-neural-networks/DNN-prosjekt/segmentation_data_new/test/images/fish_004193286854_23892.png: 128x128 1 4, 9.0ms\n",
      "image 3127/4118 /home/anderste/ikt450-deep-neural-networks/DNN-prosjekt/segmentation_data_new/test/images/fish_004193556855_20761.png: 128x128 1 12, 7.6ms\n",
      "image 3128/4118 /home/anderste/ikt450-deep-neural-networks/DNN-prosjekt/segmentation_data_new/test/images/fish_004194546858_24275.png: 128x128 1 1, 9.0ms\n",
      "image 3129/4118 /home/anderste/ikt450-deep-neural-networks/DNN-prosjekt/segmentation_data_new/test/images/fish_004194546858_24284.png: 128x128 1 1, 9.3ms\n",
      "image 3130/4118 /home/anderste/ikt450-deep-neural-networks/DNN-prosjekt/segmentation_data_new/test/images/fish_004194616858_14075.png: 128x128 1 1, 7.6ms\n",
      "image 3131/4118 /home/anderste/ikt450-deep-neural-networks/DNN-prosjekt/segmentation_data_new/test/images/fish_004195616859_09176.png: 128x128 1 1, 8.7ms\n",
      "image 3132/4118 /home/anderste/ikt450-deep-neural-networks/DNN-prosjekt/segmentation_data_new/test/images/fish_004195776859_11316.png: 128x128 1 2, 7.6ms\n",
      "image 3133/4118 /home/anderste/ikt450-deep-neural-networks/DNN-prosjekt/segmentation_data_new/test/images/fish_004195776859_26622.png: 128x128 1 2, 8.0ms\n",
      "image 3134/4118 /home/anderste/ikt450-deep-neural-networks/DNN-prosjekt/segmentation_data_new/test/images/fish_004195826859_14766.png: 128x128 1 0, 8.0ms\n",
      "image 3135/4118 /home/anderste/ikt450-deep-neural-networks/DNN-prosjekt/segmentation_data_new/test/images/fish_004196006859_12886.png: 128x128 1 0, 7.6ms\n",
      "image 3136/4118 /home/anderste/ikt450-deep-neural-networks/DNN-prosjekt/segmentation_data_new/test/images/fish_004196066859_17714.png: 128x128 1 0, 9.9ms\n",
      "image 3137/4118 /home/anderste/ikt450-deep-neural-networks/DNN-prosjekt/segmentation_data_new/test/images/fish_004196096859_17716.png: 128x128 1 0, 1 1, 7.6ms\n",
      "image 3138/4118 /home/anderste/ikt450-deep-neural-networks/DNN-prosjekt/segmentation_data_new/test/images/fish_004196966862_17028.png: 128x128 1 3, 8.4ms\n",
      "image 3139/4118 /home/anderste/ikt450-deep-neural-networks/DNN-prosjekt/segmentation_data_new/test/images/fish_004198846864_13064.png: 128x128 1 4, 13.1ms\n",
      "image 3140/4118 /home/anderste/ikt450-deep-neural-networks/DNN-prosjekt/segmentation_data_new/test/images/fish_004198926864_21164.png: 128x128 1 3, 9.5ms\n",
      "image 3141/4118 /home/anderste/ikt450-deep-neural-networks/DNN-prosjekt/segmentation_data_new/test/images/fish_004199236865_12631.png: 128x128 1 2, 7.6ms\n",
      "image 3142/4118 /home/anderste/ikt450-deep-neural-networks/DNN-prosjekt/segmentation_data_new/test/images/fish_004199376865_17293.png: 128x128 1 3, 8.6ms\n",
      "image 3143/4118 /home/anderste/ikt450-deep-neural-networks/DNN-prosjekt/segmentation_data_new/test/images/fish_004199646865_11009.png: 128x128 (no detections), 7.5ms\n",
      "image 3144/4118 /home/anderste/ikt450-deep-neural-networks/DNN-prosjekt/segmentation_data_new/test/images/fish_004200316867_14548.png: 128x128 1 3, 9.1ms\n",
      "image 3145/4118 /home/anderste/ikt450-deep-neural-networks/DNN-prosjekt/segmentation_data_new/test/images/fish_004200316867_22103.png: 128x128 1 3, 7.6ms\n",
      "image 3146/4118 /home/anderste/ikt450-deep-neural-networks/DNN-prosjekt/segmentation_data_new/test/images/fish_004200726867_15216.png: 128x128 1 3, 8.5ms\n",
      "image 3147/4118 /home/anderste/ikt450-deep-neural-networks/DNN-prosjekt/segmentation_data_new/test/images/fish_004200726867_15491.png: 128x128 1 3, 8.3ms\n",
      "image 3148/4118 /home/anderste/ikt450-deep-neural-networks/DNN-prosjekt/segmentation_data_new/test/images/fish_004201216866_15291.png: 128x128 1 3, 7.6ms\n",
      "image 3149/4118 /home/anderste/ikt450-deep-neural-networks/DNN-prosjekt/segmentation_data_new/test/images/fish_004203426872_11917.png: 128x128 1 10, 8.6ms\n",
      "image 3150/4118 /home/anderste/ikt450-deep-neural-networks/DNN-prosjekt/segmentation_data_new/test/images/fish_004203496872_11916.png: 128x128 1 10, 7.6ms\n",
      "image 3151/4118 /home/anderste/ikt450-deep-neural-networks/DNN-prosjekt/segmentation_data_new/test/images/fish_004203526872_11842.png: 128x128 1 10, 8.4ms\n",
      "image 3152/4118 /home/anderste/ikt450-deep-neural-networks/DNN-prosjekt/segmentation_data_new/test/images/fish_004203526872_11845.png: 128x128 1 10, 8.1ms\n",
      "image 3153/4118 /home/anderste/ikt450-deep-neural-networks/DNN-prosjekt/segmentation_data_new/test/images/fish_004204236874_14574.png: 128x128 1 3, 7.7ms\n",
      "image 3154/4118 /home/anderste/ikt450-deep-neural-networks/DNN-prosjekt/segmentation_data_new/test/images/fish_004204256874_13877.png: 128x128 1 1, 9.9ms\n",
      "image 3155/4118 /home/anderste/ikt450-deep-neural-networks/DNN-prosjekt/segmentation_data_new/test/images/fish_004204566876_11113.png: 128x128 1 4, 7.7ms\n",
      "image 3156/4118 /home/anderste/ikt450-deep-neural-networks/DNN-prosjekt/segmentation_data_new/test/images/fish_004204586876_19951.png: 128x128 1 4, 7.7ms\n",
      "image 3157/4118 /home/anderste/ikt450-deep-neural-networks/DNN-prosjekt/segmentation_data_new/test/images/fish_004204586876_22237.png: 128x128 1 4, 9.2ms\n",
      "image 3158/4118 /home/anderste/ikt450-deep-neural-networks/DNN-prosjekt/segmentation_data_new/test/images/fish_004204606876_20236.png: 128x128 1 4, 7.8ms\n",
      "image 3159/4118 /home/anderste/ikt450-deep-neural-networks/DNN-prosjekt/segmentation_data_new/test/images/fish_004204646876_19852.png: 128x128 1 4, 8.6ms\n",
      "image 3160/4118 /home/anderste/ikt450-deep-neural-networks/DNN-prosjekt/segmentation_data_new/test/images/fish_004204646876_21776.png: 128x128 1 4, 7.5ms\n",
      "image 3161/4118 /home/anderste/ikt450-deep-neural-networks/DNN-prosjekt/segmentation_data_new/test/images/fish_004204696876_20706.png: 128x128 1 3, 1 4, 7.7ms\n",
      "image 3162/4118 /home/anderste/ikt450-deep-neural-networks/DNN-prosjekt/segmentation_data_new/test/images/fish_004204796876_19828.png: 128x128 1 3, 1 4, 9.4ms\n",
      "image 3163/4118 /home/anderste/ikt450-deep-neural-networks/DNN-prosjekt/segmentation_data_new/test/images/fish_004204796876_21446.png: 128x128 1 3, 7.5ms\n",
      "image 3164/4118 /home/anderste/ikt450-deep-neural-networks/DNN-prosjekt/segmentation_data_new/test/images/fish_004204886877_20359.png: 128x128 1 0, 8.4ms\n",
      "image 3165/4118 /home/anderste/ikt450-deep-neural-networks/DNN-prosjekt/segmentation_data_new/test/images/fish_004205206876_18234.png: 128x128 1 4, 8.2ms\n",
      "image 3166/4118 /home/anderste/ikt450-deep-neural-networks/DNN-prosjekt/segmentation_data_new/test/images/fish_004205266876_21468.png: 128x128 1 4, 11.0ms\n",
      "image 3167/4118 /home/anderste/ikt450-deep-neural-networks/DNN-prosjekt/segmentation_data_new/test/images/fish_004205336876_18556.png: 128x128 1 4, 7.6ms\n",
      "image 3168/4118 /home/anderste/ikt450-deep-neural-networks/DNN-prosjekt/segmentation_data_new/test/images/fish_004205436876_19826.png: 128x128 1 4, 7.6ms\n",
      "image 3169/4118 /home/anderste/ikt450-deep-neural-networks/DNN-prosjekt/segmentation_data_new/test/images/fish_004205436876_24934.png: 128x128 1 4, 7.6ms\n",
      "image 3170/4118 /home/anderste/ikt450-deep-neural-networks/DNN-prosjekt/segmentation_data_new/test/images/fish_004205456877_18259.png: 128x128 1 0, 8.6ms\n",
      "image 3171/4118 /home/anderste/ikt450-deep-neural-networks/DNN-prosjekt/segmentation_data_new/test/images/fish_004205486876_20200.png: 128x128 1 4, 7.6ms\n",
      "image 3172/4118 /home/anderste/ikt450-deep-neural-networks/DNN-prosjekt/segmentation_data_new/test/images/fish_004205546876_16355.png: 128x128 1 4, 10.0ms\n",
      "image 3173/4118 /home/anderste/ikt450-deep-neural-networks/DNN-prosjekt/segmentation_data_new/test/images/fish_004205656876_20913.png: 128x128 1 4, 8.6ms\n",
      "image 3174/4118 /home/anderste/ikt450-deep-neural-networks/DNN-prosjekt/segmentation_data_new/test/images/fish_004206356878_09431.png: 128x128 1 4, 7.6ms\n",
      "image 3175/4118 /home/anderste/ikt450-deep-neural-networks/DNN-prosjekt/segmentation_data_new/test/images/fish_004206816879_15771.png: 128x128 1 4, 8.5ms\n",
      "image 3176/4118 /home/anderste/ikt450-deep-neural-networks/DNN-prosjekt/segmentation_data_new/test/images/fish_004206956879_20219.png: 128x128 1 4, 7.4ms\n",
      "image 3177/4118 /home/anderste/ikt450-deep-neural-networks/DNN-prosjekt/segmentation_data_new/test/images/fish_004208706881_11380.png: 128x128 1 4, 10.0ms\n",
      "image 3178/4118 /home/anderste/ikt450-deep-neural-networks/DNN-prosjekt/segmentation_data_new/test/images/fish_004208706881_19112.png: 128x128 1 4, 9.0ms\n",
      "image 3179/4118 /home/anderste/ikt450-deep-neural-networks/DNN-prosjekt/segmentation_data_new/test/images/fish_004208706881_21222.png: 128x128 1 4, 7.6ms\n",
      "image 3180/4118 /home/anderste/ikt450-deep-neural-networks/DNN-prosjekt/segmentation_data_new/test/images/fish_004208706881_26990.png: 128x128 1 4, 13.0ms\n",
      "image 3181/4118 /home/anderste/ikt450-deep-neural-networks/DNN-prosjekt/segmentation_data_new/test/images/fish_004208716881_09851.png: 128x128 1 4, 9.0ms\n",
      "image 3182/4118 /home/anderste/ikt450-deep-neural-networks/DNN-prosjekt/segmentation_data_new/test/images/fish_004208716881_10228.png: 128x128 1 4, 7.7ms\n",
      "image 3183/4118 /home/anderste/ikt450-deep-neural-networks/DNN-prosjekt/segmentation_data_new/test/images/fish_004208766881_15817.png: 128x128 1 3, 1 4, 8.6ms\n",
      "image 3184/4118 /home/anderste/ikt450-deep-neural-networks/DNN-prosjekt/segmentation_data_new/test/images/fish_004208776881_16323.png: 128x128 1 4, 8.3ms\n",
      "image 3185/4118 /home/anderste/ikt450-deep-neural-networks/DNN-prosjekt/segmentation_data_new/test/images/fish_004208826881_24313.png: 128x128 1 4, 7.6ms\n",
      "image 3186/4118 /home/anderste/ikt450-deep-neural-networks/DNN-prosjekt/segmentation_data_new/test/images/fish_004208846881_16407.png: 128x128 1 4, 8.5ms\n",
      "image 3187/4118 /home/anderste/ikt450-deep-neural-networks/DNN-prosjekt/segmentation_data_new/test/images/fish_004208846881_19963.png: 128x128 1 4, 7.6ms\n",
      "image 3188/4118 /home/anderste/ikt450-deep-neural-networks/DNN-prosjekt/segmentation_data_new/test/images/fish_004208886881_20380.png: 128x128 1 4, 8.1ms\n",
      "image 3189/4118 /home/anderste/ikt450-deep-neural-networks/DNN-prosjekt/segmentation_data_new/test/images/fish_004209276885_17727.png: 128x128 1 5, 7.6ms\n",
      "image 3190/4118 /home/anderste/ikt450-deep-neural-networks/DNN-prosjekt/segmentation_data_new/test/images/fish_004209356885_25845.png: 128x128 1 5, 7.6ms\n",
      "image 3191/4118 /home/anderste/ikt450-deep-neural-networks/DNN-prosjekt/segmentation_data_new/test/images/fish_004210566888_23852.png: 128x128 1 1, 8.6ms\n",
      "image 3192/4118 /home/anderste/ikt450-deep-neural-networks/DNN-prosjekt/segmentation_data_new/test/images/fish_004210826888_10348.png: 128x128 1 1, 7.7ms\n",
      "image 3193/4118 /home/anderste/ikt450-deep-neural-networks/DNN-prosjekt/segmentation_data_new/test/images/fish_004210856888_09504.png: 128x128 1 1, 1 2, 10.7ms\n",
      "image 3194/4118 /home/anderste/ikt450-deep-neural-networks/DNN-prosjekt/segmentation_data_new/test/images/fish_004210866888_23666.png: 128x128 1 2, 8.8ms\n",
      "image 3195/4118 /home/anderste/ikt450-deep-neural-networks/DNN-prosjekt/segmentation_data_new/test/images/fish_004210936888_23526.png: 128x128 1 1, 7.6ms\n",
      "image 3196/4118 /home/anderste/ikt450-deep-neural-networks/DNN-prosjekt/segmentation_data_new/test/images/fish_004210976888_12766.png: 128x128 1 0, 8.5ms\n",
      "image 3197/4118 /home/anderste/ikt450-deep-neural-networks/DNN-prosjekt/segmentation_data_new/test/images/fish_004211116888_22663.png: 128x128 1 1, 7.6ms\n",
      "image 3198/4118 /home/anderste/ikt450-deep-neural-networks/DNN-prosjekt/segmentation_data_new/test/images/fish_004211196888_12219.png: 128x128 1 0, 7.6ms\n",
      "image 3199/4118 /home/anderste/ikt450-deep-neural-networks/DNN-prosjekt/segmentation_data_new/test/images/fish_004211516888_23665.png: 128x128 1 1, 8.6ms\n",
      "image 3200/4118 /home/anderste/ikt450-deep-neural-networks/DNN-prosjekt/segmentation_data_new/test/images/fish_004213326890_17991.png: 128x128 1 3, 7.6ms\n",
      "image 3201/4118 /home/anderste/ikt450-deep-neural-networks/DNN-prosjekt/segmentation_data_new/test/images/fish_004213326890_23833.png: 128x128 1 3, 7.8ms\n",
      "image 3202/4118 /home/anderste/ikt450-deep-neural-networks/DNN-prosjekt/segmentation_data_new/test/images/fish_004213516890_14937.png: 128x128 1 3, 7.7ms\n",
      "image 3203/4118 /home/anderste/ikt450-deep-neural-networks/DNN-prosjekt/segmentation_data_new/test/images/fish_004213516890_15063.png: 128x128 1 3, 7.6ms\n",
      "image 3204/4118 /home/anderste/ikt450-deep-neural-networks/DNN-prosjekt/segmentation_data_new/test/images/fish_004213666890_15065.png: 128x128 1 3, 7.5ms\n",
      "image 3205/4118 /home/anderste/ikt450-deep-neural-networks/DNN-prosjekt/segmentation_data_new/test/images/fish_004213816890_14252.png: 128x128 1 3, 7.5ms\n",
      "image 3206/4118 /home/anderste/ikt450-deep-neural-networks/DNN-prosjekt/segmentation_data_new/test/images/fish_004213816890_18007.png: 128x128 1 3, 7.6ms\n",
      "image 3207/4118 /home/anderste/ikt450-deep-neural-networks/DNN-prosjekt/segmentation_data_new/test/images/fish_004213816890_23428.png: 128x128 1 3, 7.7ms\n",
      "image 3208/4118 /home/anderste/ikt450-deep-neural-networks/DNN-prosjekt/segmentation_data_new/test/images/fish_004213886890_23097.png: 128x128 1 3, 7.9ms\n",
      "image 3209/4118 /home/anderste/ikt450-deep-neural-networks/DNN-prosjekt/segmentation_data_new/test/images/fish_004213946890_26403.png: 128x128 1 3, 7.6ms\n",
      "image 3210/4118 /home/anderste/ikt450-deep-neural-networks/DNN-prosjekt/segmentation_data_new/test/images/fish_004214096890_15062.png: 128x128 1 3, 7.6ms\n",
      "image 3211/4118 /home/anderste/ikt450-deep-neural-networks/DNN-prosjekt/segmentation_data_new/test/images/fish_004214096890_27097.png: 128x128 1 3, 7.6ms\n",
      "image 3212/4118 /home/anderste/ikt450-deep-neural-networks/DNN-prosjekt/segmentation_data_new/test/images/fish_004214196890_14601.png: 128x128 1 2, 7.5ms\n",
      "image 3213/4118 /home/anderste/ikt450-deep-neural-networks/DNN-prosjekt/segmentation_data_new/test/images/fish_004214206890_22158.png: 128x128 1 3, 7.7ms\n",
      "image 3214/4118 /home/anderste/ikt450-deep-neural-networks/DNN-prosjekt/segmentation_data_new/test/images/fish_004214306890_14655.png: 128x128 1 3, 8.4ms\n",
      "image 3215/4118 /home/anderste/ikt450-deep-neural-networks/DNN-prosjekt/segmentation_data_new/test/images/fish_004214356890_14679.png: 128x128 1 3, 7.7ms\n",
      "image 3216/4118 /home/anderste/ikt450-deep-neural-networks/DNN-prosjekt/segmentation_data_new/test/images/fish_004214456890_17833.png: 128x128 1 3, 8.0ms\n",
      "image 3217/4118 /home/anderste/ikt450-deep-neural-networks/DNN-prosjekt/segmentation_data_new/test/images/fish_004214456890_20057.png: 128x128 1 3, 7.7ms\n",
      "image 3218/4118 /home/anderste/ikt450-deep-neural-networks/DNN-prosjekt/segmentation_data_new/test/images/fish_004214506890_10192.png: 128x128 1 3, 7.7ms\n",
      "image 3219/4118 /home/anderste/ikt450-deep-neural-networks/DNN-prosjekt/segmentation_data_new/test/images/fish_004214566890_16023.png: 128x128 1 3, 7.6ms\n",
      "image 3220/4118 /home/anderste/ikt450-deep-neural-networks/DNN-prosjekt/segmentation_data_new/test/images/fish_004214566890_17217.png: 128x128 1 3, 7.9ms\n",
      "image 3221/4118 /home/anderste/ikt450-deep-neural-networks/DNN-prosjekt/segmentation_data_new/test/images/fish_004214566890_22105.png: 128x128 1 3, 7.7ms\n",
      "image 3222/4118 /home/anderste/ikt450-deep-neural-networks/DNN-prosjekt/segmentation_data_new/test/images/fish_004214586890_16919.png: 128x128 1 3, 7.7ms\n",
      "image 3223/4118 /home/anderste/ikt450-deep-neural-networks/DNN-prosjekt/segmentation_data_new/test/images/fish_004214626890_15042.png: 128x128 1 3, 7.9ms\n",
      "image 3224/4118 /home/anderste/ikt450-deep-neural-networks/DNN-prosjekt/segmentation_data_new/test/images/fish_004214646890_14686.png: 128x128 1 3, 7.7ms\n",
      "image 3225/4118 /home/anderste/ikt450-deep-neural-networks/DNN-prosjekt/segmentation_data_new/test/images/fish_004214656890_14657.png: 128x128 1 3, 8.1ms\n",
      "image 3226/4118 /home/anderste/ikt450-deep-neural-networks/DNN-prosjekt/segmentation_data_new/test/images/fish_004214666890_26389.png: 128x128 1 3, 7.7ms\n",
      "image 3227/4118 /home/anderste/ikt450-deep-neural-networks/DNN-prosjekt/segmentation_data_new/test/images/fish_004216486893_26626.png: 128x128 1 2, 8.1ms\n",
      "image 3228/4118 /home/anderste/ikt450-deep-neural-networks/DNN-prosjekt/segmentation_data_new/test/images/fish_004218006897_15579.png: 128x128 1 1, 7.6ms\n",
      "image 3229/4118 /home/anderste/ikt450-deep-neural-networks/DNN-prosjekt/segmentation_data_new/test/images/fish_004218696898_09320.png: 128x128 1 3, 1 4, 7.7ms\n",
      "image 3230/4118 /home/anderste/ikt450-deep-neural-networks/DNN-prosjekt/segmentation_data_new/test/images/fish_004220196901_22295.png: 128x128 1 1, 7.7ms\n",
      "image 3231/4118 /home/anderste/ikt450-deep-neural-networks/DNN-prosjekt/segmentation_data_new/test/images/fish_004220726902_20879.png: 128x128 1 3, 7.9ms\n",
      "image 3232/4118 /home/anderste/ikt450-deep-neural-networks/DNN-prosjekt/segmentation_data_new/test/images/fish_004220766902_11357.png: 128x128 (no detections), 9.3ms\n",
      "image 3233/4118 /home/anderste/ikt450-deep-neural-networks/DNN-prosjekt/segmentation_data_new/test/images/fish_004221136904_26752.png: 128x128 1 1, 8.4ms\n",
      "image 3234/4118 /home/anderste/ikt450-deep-neural-networks/DNN-prosjekt/segmentation_data_new/test/images/fish_004222866906_14150.png: 128x128 1 3, 7.9ms\n",
      "image 3235/4118 /home/anderste/ikt450-deep-neural-networks/DNN-prosjekt/segmentation_data_new/test/images/fish_004222946906_15352.png: 128x128 1 3, 7.7ms\n",
      "image 3236/4118 /home/anderste/ikt450-deep-neural-networks/DNN-prosjekt/segmentation_data_new/test/images/fish_004223076906_14468.png: 128x128 1 2, 9.3ms\n",
      "image 3237/4118 /home/anderste/ikt450-deep-neural-networks/DNN-prosjekt/segmentation_data_new/test/images/fish_004223926906_26543.png: 128x128 1 1, 7.7ms\n",
      "image 3238/4118 /home/anderste/ikt450-deep-neural-networks/DNN-prosjekt/segmentation_data_new/test/images/fish_004223926906_26676.png: 128x128 1 0, 1 1, 7.8ms\n",
      "image 3239/4118 /home/anderste/ikt450-deep-neural-networks/DNN-prosjekt/segmentation_data_new/test/images/fish_004226656913_16436.png: 128x128 1 3, 8.5ms\n",
      "image 3240/4118 /home/anderste/ikt450-deep-neural-networks/DNN-prosjekt/segmentation_data_new/test/images/fish_004226656913_20646.png: 128x128 1 3, 7.7ms\n",
      "image 3241/4118 /home/anderste/ikt450-deep-neural-networks/DNN-prosjekt/segmentation_data_new/test/images/fish_004227116913_14135.png: 128x128 1 1, 7.6ms\n",
      "image 3242/4118 /home/anderste/ikt450-deep-neural-networks/DNN-prosjekt/segmentation_data_new/test/images/fish_004227376913_26698.png: 128x128 1 1, 7.7ms\n",
      "image 3243/4118 /home/anderste/ikt450-deep-neural-networks/DNN-prosjekt/segmentation_data_new/test/images/fish_004227516914_26640.png: 128x128 1 2, 7.8ms\n",
      "image 3244/4118 /home/anderste/ikt450-deep-neural-networks/DNN-prosjekt/segmentation_data_new/test/images/fish_004227536913_12616.png: 128x128 1 1, 7.6ms\n",
      "image 3245/4118 /home/anderste/ikt450-deep-neural-networks/DNN-prosjekt/segmentation_data_new/test/images/fish_004227916913_16982.png: 128x128 1 3, 7.7ms\n",
      "image 3246/4118 /home/anderste/ikt450-deep-neural-networks/DNN-prosjekt/segmentation_data_new/test/images/fish_004230716916_12364.png: 128x128 1 2, 7.7ms\n",
      "image 3247/4118 /home/anderste/ikt450-deep-neural-networks/DNN-prosjekt/segmentation_data_new/test/images/fish_004230936916_23281.png: 128x128 1 1, 7.6ms\n",
      "image 3248/4118 /home/anderste/ikt450-deep-neural-networks/DNN-prosjekt/segmentation_data_new/test/images/fish_004230946916_12617.png: 128x128 1 0, 1 1, 7.6ms\n",
      "image 3249/4118 /home/anderste/ikt450-deep-neural-networks/DNN-prosjekt/segmentation_data_new/test/images/fish_004230986916_13885.png: 128x128 1 1, 7.6ms\n",
      "image 3250/4118 /home/anderste/ikt450-deep-neural-networks/DNN-prosjekt/segmentation_data_new/test/images/fish_004231936918_14403.png: 128x128 1 2, 7.7ms\n",
      "image 3251/4118 /home/anderste/ikt450-deep-neural-networks/DNN-prosjekt/segmentation_data_new/test/images/fish_004231956918_14898.png: 128x128 1 1, 7.8ms\n",
      "image 3252/4118 /home/anderste/ikt450-deep-neural-networks/DNN-prosjekt/segmentation_data_new/test/images/fish_004232486919_23671.png: 128x128 1 1, 7.6ms\n",
      "image 3253/4118 /home/anderste/ikt450-deep-neural-networks/DNN-prosjekt/segmentation_data_new/test/images/fish_004235566929_10454.png: 128x128 1 1, 7.8ms\n",
      "image 3254/4118 /home/anderste/ikt450-deep-neural-networks/DNN-prosjekt/segmentation_data_new/test/images/fish_004235636929_23571.png: 128x128 1 1, 7.7ms\n",
      "image 3255/4118 /home/anderste/ikt450-deep-neural-networks/DNN-prosjekt/segmentation_data_new/test/images/fish_004236826932_13556.png: 128x128 1 4, 9.7ms\n",
      "image 3256/4118 /home/anderste/ikt450-deep-neural-networks/DNN-prosjekt/segmentation_data_new/test/images/fish_004236876932_10225.png: 128x128 1 4, 8.0ms\n",
      "image 3257/4118 /home/anderste/ikt450-deep-neural-networks/DNN-prosjekt/segmentation_data_new/test/images/fish_004236896932_12991.png: 128x128 1 4, 7.8ms\n",
      "image 3258/4118 /home/anderste/ikt450-deep-neural-networks/DNN-prosjekt/segmentation_data_new/test/images/fish_004236896932_14718.png: 128x128 1 4, 7.8ms\n",
      "image 3259/4118 /home/anderste/ikt450-deep-neural-networks/DNN-prosjekt/segmentation_data_new/test/images/fish_004236896932_19043.png: 128x128 1 4, 7.6ms\n",
      "image 3260/4118 /home/anderste/ikt450-deep-neural-networks/DNN-prosjekt/segmentation_data_new/test/images/fish_004236896932_22283.png: 128x128 1 4, 7.7ms\n",
      "image 3261/4118 /home/anderste/ikt450-deep-neural-networks/DNN-prosjekt/segmentation_data_new/test/images/fish_004236896932_24885.png: 128x128 1 4, 7.9ms\n",
      "image 3262/4118 /home/anderste/ikt450-deep-neural-networks/DNN-prosjekt/segmentation_data_new/test/images/fish_004236906932_22511.png: 128x128 1 4, 7.8ms\n",
      "image 3263/4118 /home/anderste/ikt450-deep-neural-networks/DNN-prosjekt/segmentation_data_new/test/images/fish_004236916932_09317.png: 128x128 1 4, 7.5ms\n",
      "image 3264/4118 /home/anderste/ikt450-deep-neural-networks/DNN-prosjekt/segmentation_data_new/test/images/fish_004236916932_11435.png: 128x128 1 4, 7.9ms\n",
      "image 3265/4118 /home/anderste/ikt450-deep-neural-networks/DNN-prosjekt/segmentation_data_new/test/images/fish_004236916932_11441.png: 128x128 1 4, 7.9ms\n",
      "image 3266/4118 /home/anderste/ikt450-deep-neural-networks/DNN-prosjekt/segmentation_data_new/test/images/fish_004236946932_27127.png: 128x128 1 4, 8.3ms\n",
      "image 3267/4118 /home/anderste/ikt450-deep-neural-networks/DNN-prosjekt/segmentation_data_new/test/images/fish_004236956932_26978.png: 128x128 1 4, 7.7ms\n",
      "image 3268/4118 /home/anderste/ikt450-deep-neural-networks/DNN-prosjekt/segmentation_data_new/test/images/fish_004236966932_09304.png: 128x128 1 4, 7.5ms\n",
      "image 3269/4118 /home/anderste/ikt450-deep-neural-networks/DNN-prosjekt/segmentation_data_new/test/images/fish_004237016932_09438.png: 128x128 1 4, 7.6ms\n",
      "image 3270/4118 /home/anderste/ikt450-deep-neural-networks/DNN-prosjekt/segmentation_data_new/test/images/fish_004237016932_20212.png: 128x128 1 4, 7.7ms\n",
      "image 3271/4118 /home/anderste/ikt450-deep-neural-networks/DNN-prosjekt/segmentation_data_new/test/images/fish_004237016932_20245.png: 128x128 1 4, 7.5ms\n",
      "image 3272/4118 /home/anderste/ikt450-deep-neural-networks/DNN-prosjekt/segmentation_data_new/test/images/fish_004237026932_09392.png: 128x128 1 4, 10.5ms\n",
      "image 3273/4118 /home/anderste/ikt450-deep-neural-networks/DNN-prosjekt/segmentation_data_new/test/images/fish_004237056932_20197.png: 128x128 1 3, 1 4, 7.9ms\n",
      "image 3274/4118 /home/anderste/ikt450-deep-neural-networks/DNN-prosjekt/segmentation_data_new/test/images/fish_004237086932_19719.png: 128x128 1 4, 7.6ms\n",
      "image 3275/4118 /home/anderste/ikt450-deep-neural-networks/DNN-prosjekt/segmentation_data_new/test/images/fish_004237086932_24614.png: 128x128 1 4, 7.5ms\n",
      "image 3276/4118 /home/anderste/ikt450-deep-neural-networks/DNN-prosjekt/segmentation_data_new/test/images/fish_004237226932_12554.png: 128x128 1 4, 7.8ms\n",
      "image 3277/4118 /home/anderste/ikt450-deep-neural-networks/DNN-prosjekt/segmentation_data_new/test/images/fish_004237226932_17595.png: 128x128 1 3, 1 4, 7.7ms\n",
      "image 3278/4118 /home/anderste/ikt450-deep-neural-networks/DNN-prosjekt/segmentation_data_new/test/images/fish_004237226932_18173.png: 128x128 1 4, 11.0ms\n",
      "image 3279/4118 /home/anderste/ikt450-deep-neural-networks/DNN-prosjekt/segmentation_data_new/test/images/fish_004237226932_20856.png: 128x128 1 4, 9.5ms\n",
      "image 3280/4118 /home/anderste/ikt450-deep-neural-networks/DNN-prosjekt/segmentation_data_new/test/images/fish_004237256933_26989.png: 128x128 1 4, 7.8ms\n",
      "image 3281/4118 /home/anderste/ikt450-deep-neural-networks/DNN-prosjekt/segmentation_data_new/test/images/fish_004237276932_11668.png: 128x128 1 4, 7.8ms\n",
      "image 3282/4118 /home/anderste/ikt450-deep-neural-networks/DNN-prosjekt/segmentation_data_new/test/images/fish_004237276932_18079.png: 128x128 1 4, 7.7ms\n",
      "image 3283/4118 /home/anderste/ikt450-deep-neural-networks/DNN-prosjekt/segmentation_data_new/test/images/fish_004237306932_15765.png: 128x128 1 4, 7.7ms\n",
      "image 3284/4118 /home/anderste/ikt450-deep-neural-networks/DNN-prosjekt/segmentation_data_new/test/images/fish_004237366932_24026.png: 128x128 1 4, 7.7ms\n",
      "image 3285/4118 /home/anderste/ikt450-deep-neural-networks/DNN-prosjekt/segmentation_data_new/test/images/fish_004237516932_22275.png: 128x128 1 4, 7.7ms\n",
      "image 3286/4118 /home/anderste/ikt450-deep-neural-networks/DNN-prosjekt/segmentation_data_new/test/images/fish_004237536932_10904.png: 128x128 1 4, 7.5ms\n",
      "image 3287/4118 /home/anderste/ikt450-deep-neural-networks/DNN-prosjekt/segmentation_data_new/test/images/fish_004237636932_18857.png: 128x128 1 4, 7.8ms\n",
      "image 3288/4118 /home/anderste/ikt450-deep-neural-networks/DNN-prosjekt/segmentation_data_new/test/images/fish_004237636932_20399.png: 128x128 1 4, 7.7ms\n",
      "image 3289/4118 /home/anderste/ikt450-deep-neural-networks/DNN-prosjekt/segmentation_data_new/test/images/fish_004237636932_20692.png: 128x128 1 4, 7.6ms\n",
      "image 3290/4118 /home/anderste/ikt450-deep-neural-networks/DNN-prosjekt/segmentation_data_new/test/images/fish_004237656932_19039.png: 128x128 1 3, 1 4, 7.7ms\n",
      "image 3291/4118 /home/anderste/ikt450-deep-neural-networks/DNN-prosjekt/segmentation_data_new/test/images/fish_004237676932_09268.png: 128x128 1 4, 8.2ms\n",
      "image 3292/4118 /home/anderste/ikt450-deep-neural-networks/DNN-prosjekt/segmentation_data_new/test/images/fish_004237716932_11448.png: 128x128 1 4, 8.1ms\n",
      "image 3293/4118 /home/anderste/ikt450-deep-neural-networks/DNN-prosjekt/segmentation_data_new/test/images/fish_004237716932_19214.png: 128x128 1 4, 7.7ms\n",
      "image 3294/4118 /home/anderste/ikt450-deep-neural-networks/DNN-prosjekt/segmentation_data_new/test/images/fish_004237746932_20374.png: 128x128 1 4, 7.5ms\n",
      "image 3295/4118 /home/anderste/ikt450-deep-neural-networks/DNN-prosjekt/segmentation_data_new/test/images/fish_004237746932_22240.png: 128x128 1 4, 7.7ms\n",
      "image 3296/4118 /home/anderste/ikt450-deep-neural-networks/DNN-prosjekt/segmentation_data_new/test/images/fish_004237786934_13771.png: 128x128 1 4, 7.7ms\n",
      "image 3297/4118 /home/anderste/ikt450-deep-neural-networks/DNN-prosjekt/segmentation_data_new/test/images/fish_004237826932_17627.png: 128x128 1 4, 7.6ms\n",
      "image 3298/4118 /home/anderste/ikt450-deep-neural-networks/DNN-prosjekt/segmentation_data_new/test/images/fish_004237856932_09016.png: 128x128 1 4, 7.8ms\n",
      "image 3299/4118 /home/anderste/ikt450-deep-neural-networks/DNN-prosjekt/segmentation_data_new/test/images/fish_004237986932_10677.png: 128x128 1 4, 7.8ms\n",
      "image 3300/4118 /home/anderste/ikt450-deep-neural-networks/DNN-prosjekt/segmentation_data_new/test/images/fish_004237986932_21530.png: 128x128 1 4, 7.7ms\n",
      "image 3301/4118 /home/anderste/ikt450-deep-neural-networks/DNN-prosjekt/segmentation_data_new/test/images/fish_004237996932_09400.png: 128x128 1 4, 7.8ms\n",
      "image 3302/4118 /home/anderste/ikt450-deep-neural-networks/DNN-prosjekt/segmentation_data_new/test/images/fish_004238016932_11793.png: 128x128 1 4, 7.6ms\n",
      "image 3303/4118 /home/anderste/ikt450-deep-neural-networks/DNN-prosjekt/segmentation_data_new/test/images/fish_004238016932_25032.png: 128x128 1 4, 7.7ms\n",
      "image 3304/4118 /home/anderste/ikt450-deep-neural-networks/DNN-prosjekt/segmentation_data_new/test/images/fish_004238106932_22441.png: 128x128 1 3, 1 4, 7.6ms\n",
      "image 3305/4118 /home/anderste/ikt450-deep-neural-networks/DNN-prosjekt/segmentation_data_new/test/images/fish_004240336936_09322.png: 128x128 1 4, 7.8ms\n",
      "image 3306/4118 /home/anderste/ikt450-deep-neural-networks/DNN-prosjekt/segmentation_data_new/test/images/fish_004240556937_20999.png: 128x128 1 4, 7.6ms\n",
      "image 3307/4118 /home/anderste/ikt450-deep-neural-networks/DNN-prosjekt/segmentation_data_new/test/images/fish_004240716937_09321.png: 128x128 1 4, 7.7ms\n",
      "image 3308/4118 /home/anderste/ikt450-deep-neural-networks/DNN-prosjekt/segmentation_data_new/test/images/fish_004241526938_20229.png: 128x128 1 4, 8.0ms\n",
      "image 3309/4118 /home/anderste/ikt450-deep-neural-networks/DNN-prosjekt/segmentation_data_new/test/images/fish_004241536938_20986.png: 128x128 1 4, 7.6ms\n",
      "image 3310/4118 /home/anderste/ikt450-deep-neural-networks/DNN-prosjekt/segmentation_data_new/test/images/fish_004241546938_24961.png: 128x128 1 4, 7.7ms\n",
      "image 3311/4118 /home/anderste/ikt450-deep-neural-networks/DNN-prosjekt/segmentation_data_new/test/images/fish_004241576938_09448.png: 128x128 1 3, 1 4, 7.5ms\n",
      "image 3312/4118 /home/anderste/ikt450-deep-neural-networks/DNN-prosjekt/segmentation_data_new/test/images/fish_004244556944_23356.png: 128x128 1 0, 1 1, 8.7ms\n",
      "image 3313/4118 /home/anderste/ikt450-deep-neural-networks/DNN-prosjekt/segmentation_data_new/test/images/fish_004247136949_18242.png: 128x128 1 1, 7.8ms\n",
      "image 3314/4118 /home/anderste/ikt450-deep-neural-networks/DNN-prosjekt/segmentation_data_new/test/images/fish_004247166949_19819.png: 128x128 1 4, 7.7ms\n",
      "image 3315/4118 /home/anderste/ikt450-deep-neural-networks/DNN-prosjekt/segmentation_data_new/test/images/fish_004247196949_21335.png: 128x128 1 4, 7.9ms\n",
      "image 3316/4118 /home/anderste/ikt450-deep-neural-networks/DNN-prosjekt/segmentation_data_new/test/images/fish_004247196949_23971.png: 128x128 1 3, 1 4, 7.8ms\n",
      "image 3317/4118 /home/anderste/ikt450-deep-neural-networks/DNN-prosjekt/segmentation_data_new/test/images/fish_004247386949_20015.png: 128x128 1 3, 1 4, 8.1ms\n",
      "image 3318/4118 /home/anderste/ikt450-deep-neural-networks/DNN-prosjekt/segmentation_data_new/test/images/fish_004247386949_20173.png: 128x128 1 4, 7.6ms\n",
      "image 3319/4118 /home/anderste/ikt450-deep-neural-networks/DNN-prosjekt/segmentation_data_new/test/images/fish_004247456949_24114.png: 128x128 1 1, 7.7ms\n",
      "image 3320/4118 /home/anderste/ikt450-deep-neural-networks/DNN-prosjekt/segmentation_data_new/test/images/fish_004258186957_25449.png: 128x128 1 0, 7.6ms\n",
      "image 3321/4118 /home/anderste/ikt450-deep-neural-networks/DNN-prosjekt/segmentation_data_new/test/images/fish_004259746960_20459.png: 128x128 1 1, 7.6ms\n",
      "image 3322/4118 /home/anderste/ikt450-deep-neural-networks/DNN-prosjekt/segmentation_data_new/test/images/fish_004259746960_24344.png: 128x128 1 1, 8.3ms\n",
      "image 3323/4118 /home/anderste/ikt450-deep-neural-networks/DNN-prosjekt/segmentation_data_new/test/images/fish_004260016960_10620.png: 128x128 2 1s, 7.8ms\n",
      "image 3324/4118 /home/anderste/ikt450-deep-neural-networks/DNN-prosjekt/segmentation_data_new/test/images/fish_004260246960_10511.png: 128x128 1 1, 7.6ms\n",
      "image 3325/4118 /home/anderste/ikt450-deep-neural-networks/DNN-prosjekt/segmentation_data_new/test/images/fish_004260246960_14527.png: 128x128 1 1, 7.8ms\n",
      "image 3326/4118 /home/anderste/ikt450-deep-neural-networks/DNN-prosjekt/segmentation_data_new/test/images/fish_004260256960_26682.png: 128x128 1 1, 7.7ms\n",
      "image 3327/4118 /home/anderste/ikt450-deep-neural-networks/DNN-prosjekt/segmentation_data_new/test/images/fish_004260296960_18948.png: 128x128 1 1, 7.6ms\n",
      "image 3328/4118 /home/anderste/ikt450-deep-neural-networks/DNN-prosjekt/segmentation_data_new/test/images/fish_004260346960_17302.png: 128x128 1 1, 7.7ms\n",
      "image 3329/4118 /home/anderste/ikt450-deep-neural-networks/DNN-prosjekt/segmentation_data_new/test/images/fish_004260346960_26663.png: 128x128 1 1, 7.6ms\n",
      "image 3330/4118 /home/anderste/ikt450-deep-neural-networks/DNN-prosjekt/segmentation_data_new/test/images/fish_004260616960_19100.png: 128x128 1 1, 7.7ms\n",
      "image 3331/4118 /home/anderste/ikt450-deep-neural-networks/DNN-prosjekt/segmentation_data_new/test/images/fish_004260706960_21634.png: 128x128 1 1, 7.6ms\n",
      "image 3332/4118 /home/anderste/ikt450-deep-neural-networks/DNN-prosjekt/segmentation_data_new/test/images/fish_004260786960_18971.png: 128x128 1 1, 7.7ms\n",
      "image 3333/4118 /home/anderste/ikt450-deep-neural-networks/DNN-prosjekt/segmentation_data_new/test/images/fish_004260786960_19042.png: 128x128 1 1, 7.6ms\n",
      "image 3334/4118 /home/anderste/ikt450-deep-neural-networks/DNN-prosjekt/segmentation_data_new/test/images/fish_004261196960_24303.png: 128x128 1 1, 7.6ms\n",
      "image 3335/4118 /home/anderste/ikt450-deep-neural-networks/DNN-prosjekt/segmentation_data_new/test/images/fish_004262556961_19523.png: 128x128 1 5, 7.9ms\n",
      "image 3336/4118 /home/anderste/ikt450-deep-neural-networks/DNN-prosjekt/segmentation_data_new/test/images/fish_004262566961_11541.png: 128x128 1 5, 7.6ms\n",
      "image 3337/4118 /home/anderste/ikt450-deep-neural-networks/DNN-prosjekt/segmentation_data_new/test/images/fish_004262566961_13603.png: 128x128 1 5, 7.6ms\n",
      "image 3338/4118 /home/anderste/ikt450-deep-neural-networks/DNN-prosjekt/segmentation_data_new/test/images/fish_004262566961_19330.png: 128x128 1 5, 7.6ms\n",
      "image 3339/4118 /home/anderste/ikt450-deep-neural-networks/DNN-prosjekt/segmentation_data_new/test/images/fish_004262566961_19485.png: 128x128 1 5, 7.4ms\n",
      "image 3340/4118 /home/anderste/ikt450-deep-neural-networks/DNN-prosjekt/segmentation_data_new/test/images/fish_004262666961_12162.png: 128x128 1 5, 7.7ms\n",
      "image 3341/4118 /home/anderste/ikt450-deep-neural-networks/DNN-prosjekt/segmentation_data_new/test/images/fish_004262666961_23767.png: 128x128 1 5, 7.7ms\n",
      "image 3342/4118 /home/anderste/ikt450-deep-neural-networks/DNN-prosjekt/segmentation_data_new/test/images/fish_004262666961_25093.png: 128x128 2 5s, 7.7ms\n",
      "image 3343/4118 /home/anderste/ikt450-deep-neural-networks/DNN-prosjekt/segmentation_data_new/test/images/fish_004262686961_11612.png: 128x128 1 5, 8.3ms\n",
      "image 3344/4118 /home/anderste/ikt450-deep-neural-networks/DNN-prosjekt/segmentation_data_new/test/images/fish_004262686961_11619.png: 128x128 1 5, 7.7ms\n",
      "image 3345/4118 /home/anderste/ikt450-deep-neural-networks/DNN-prosjekt/segmentation_data_new/test/images/fish_004262686961_19314.png: 128x128 1 5, 7.7ms\n",
      "image 3346/4118 /home/anderste/ikt450-deep-neural-networks/DNN-prosjekt/segmentation_data_new/test/images/fish_004262686961_20995.png: 128x128 1 5, 8.3ms\n",
      "image 3347/4118 /home/anderste/ikt450-deep-neural-networks/DNN-prosjekt/segmentation_data_new/test/images/fish_004262706961_19554.png: 128x128 1 5, 7.6ms\n",
      "image 3348/4118 /home/anderste/ikt450-deep-neural-networks/DNN-prosjekt/segmentation_data_new/test/images/fish_004262726961_13411.png: 128x128 1 5, 7.6ms\n",
      "image 3349/4118 /home/anderste/ikt450-deep-neural-networks/DNN-prosjekt/segmentation_data_new/test/images/fish_004262726961_15958.png: 128x128 1 5, 7.6ms\n",
      "image 3350/4118 /home/anderste/ikt450-deep-neural-networks/DNN-prosjekt/segmentation_data_new/test/images/fish_004262836961_17651.png: 128x128 1 5, 7.7ms\n",
      "image 3351/4118 /home/anderste/ikt450-deep-neural-networks/DNN-prosjekt/segmentation_data_new/test/images/fish_004262886961_11253.png: 128x128 1 12, 7.6ms\n",
      "image 3352/4118 /home/anderste/ikt450-deep-neural-networks/DNN-prosjekt/segmentation_data_new/test/images/fish_004262886961_12945.png: 128x128 1 12, 7.8ms\n",
      "image 3353/4118 /home/anderste/ikt450-deep-neural-networks/DNN-prosjekt/segmentation_data_new/test/images/fish_004262886961_23234.png: 128x128 1 12, 7.6ms\n",
      "image 3354/4118 /home/anderste/ikt450-deep-neural-networks/DNN-prosjekt/segmentation_data_new/test/images/fish_004262916961_13370.png: 128x128 1 5, 7.7ms\n",
      "image 3355/4118 /home/anderste/ikt450-deep-neural-networks/DNN-prosjekt/segmentation_data_new/test/images/fish_004262916961_13579.png: 128x128 1 5, 7.7ms\n",
      "image 3356/4118 /home/anderste/ikt450-deep-neural-networks/DNN-prosjekt/segmentation_data_new/test/images/fish_004262916961_21428.png: 128x128 1 5, 7.7ms\n",
      "image 3357/4118 /home/anderste/ikt450-deep-neural-networks/DNN-prosjekt/segmentation_data_new/test/images/fish_004262976961_19646.png: 128x128 1 5, 7.7ms\n",
      "image 3358/4118 /home/anderste/ikt450-deep-neural-networks/DNN-prosjekt/segmentation_data_new/test/images/fish_004262976961_19698.png: 128x96 1 5, 9.3ms\n",
      "image 3359/4118 /home/anderste/ikt450-deep-neural-networks/DNN-prosjekt/segmentation_data_new/test/images/fish_004262996961_19489.png: 128x128 1 5, 8.4ms\n",
      "image 3360/4118 /home/anderste/ikt450-deep-neural-networks/DNN-prosjekt/segmentation_data_new/test/images/fish_004263066961_19769.png: 128x128 1 5, 8.5ms\n",
      "image 3361/4118 /home/anderste/ikt450-deep-neural-networks/DNN-prosjekt/segmentation_data_new/test/images/fish_004263216961_12581.png: 128x128 1 5, 7.9ms\n",
      "image 3362/4118 /home/anderste/ikt450-deep-neural-networks/DNN-prosjekt/segmentation_data_new/test/images/fish_004263236961_19721.png: 128x128 1 5, 7.5ms\n",
      "image 3363/4118 /home/anderste/ikt450-deep-neural-networks/DNN-prosjekt/segmentation_data_new/test/images/fish_004263286961_21450.png: 128x128 1 5, 7.7ms\n",
      "image 3364/4118 /home/anderste/ikt450-deep-neural-networks/DNN-prosjekt/segmentation_data_new/test/images/fish_004263366961_19774.png: 128x128 1 5, 7.7ms\n",
      "image 3365/4118 /home/anderste/ikt450-deep-neural-networks/DNN-prosjekt/segmentation_data_new/test/images/fish_004263366961_21442.png: 128x128 1 5, 7.5ms\n",
      "image 3366/4118 /home/anderste/ikt450-deep-neural-networks/DNN-prosjekt/segmentation_data_new/test/images/fish_004263386961_19547.png: 128x128 1 5, 7.4ms\n",
      "image 3367/4118 /home/anderste/ikt450-deep-neural-networks/DNN-prosjekt/segmentation_data_new/test/images/fish_004263386961_22344.png: 128x128 1 5, 7.6ms\n",
      "image 3368/4118 /home/anderste/ikt450-deep-neural-networks/DNN-prosjekt/segmentation_data_new/test/images/fish_004263426961_13335.png: 128x128 1 5, 9.8ms\n",
      "image 3369/4118 /home/anderste/ikt450-deep-neural-networks/DNN-prosjekt/segmentation_data_new/test/images/fish_004263426961_21387.png: 128x128 1 5, 8.2ms\n",
      "image 3370/4118 /home/anderste/ikt450-deep-neural-networks/DNN-prosjekt/segmentation_data_new/test/images/fish_004263466961_12577.png: 128x128 1 5, 8.3ms\n",
      "image 3371/4118 /home/anderste/ikt450-deep-neural-networks/DNN-prosjekt/segmentation_data_new/test/images/fish_004263496961_19488.png: 128x128 1 5, 7.6ms\n",
      "image 3372/4118 /home/anderste/ikt450-deep-neural-networks/DNN-prosjekt/segmentation_data_new/test/images/fish_004264286965_26599.png: 128x128 1 9, 7.6ms\n",
      "image 3373/4118 /home/anderste/ikt450-deep-neural-networks/DNN-prosjekt/segmentation_data_new/test/images/fish_004264316965_09391.png: 128x128 1 3, 1 4, 7.9ms\n",
      "image 3374/4118 /home/anderste/ikt450-deep-neural-networks/DNN-prosjekt/segmentation_data_new/test/images/fish_004264706967_26530.png: 128x128 1 2, 8.3ms\n",
      "image 3375/4118 /home/anderste/ikt450-deep-neural-networks/DNN-prosjekt/segmentation_data_new/test/images/fish_004264726967_13283.png: 128x128 1 2, 7.6ms\n",
      "image 3376/4118 /home/anderste/ikt450-deep-neural-networks/DNN-prosjekt/segmentation_data_new/test/images/fish_004264896967_13189.png: 128x128 1 2, 7.7ms\n",
      "image 3377/4118 /home/anderste/ikt450-deep-neural-networks/DNN-prosjekt/segmentation_data_new/test/images/fish_004265136967_13712.png: 128x128 1 1, 7.6ms\n",
      "image 3378/4118 /home/anderste/ikt450-deep-neural-networks/DNN-prosjekt/segmentation_data_new/test/images/fish_004265296967_13262.png: 128x128 1 1, 7.7ms\n",
      "image 3379/4118 /home/anderste/ikt450-deep-neural-networks/DNN-prosjekt/segmentation_data_new/test/images/fish_004265316967_17093.png: 128x128 1 2, 7.7ms\n",
      "image 3380/4118 /home/anderste/ikt450-deep-neural-networks/DNN-prosjekt/segmentation_data_new/test/images/fish_004269486972_12604.png: 128x128 1 2, 7.6ms\n",
      "image 3381/4118 /home/anderste/ikt450-deep-neural-networks/DNN-prosjekt/segmentation_data_new/test/images/fish_004269506972_26819.png: 128x128 1 2, 7.6ms\n",
      "image 3382/4118 /home/anderste/ikt450-deep-neural-networks/DNN-prosjekt/segmentation_data_new/test/images/fish_004269976972_09888.png: 128x128 1 3, 7.6ms\n",
      "image 3383/4118 /home/anderste/ikt450-deep-neural-networks/DNN-prosjekt/segmentation_data_new/test/images/fish_004270066972_17015.png: 128x128 1 3, 7.7ms\n",
      "image 3384/4118 /home/anderste/ikt450-deep-neural-networks/DNN-prosjekt/segmentation_data_new/test/images/fish_004270066972_23547.png: 128x128 1 3, 7.6ms\n",
      "image 3385/4118 /home/anderste/ikt450-deep-neural-networks/DNN-prosjekt/segmentation_data_new/test/images/fish_004270376972_13217.png: 128x128 1 3, 7.6ms\n",
      "image 3386/4118 /home/anderste/ikt450-deep-neural-networks/DNN-prosjekt/segmentation_data_new/test/images/fish_004270486972_12127.png: 128x128 1 3, 7.7ms\n",
      "image 3387/4118 /home/anderste/ikt450-deep-neural-networks/DNN-prosjekt/segmentation_data_new/test/images/fish_004270486972_13005.png: 128x128 1 3, 7.7ms\n",
      "image 3388/4118 /home/anderste/ikt450-deep-neural-networks/DNN-prosjekt/segmentation_data_new/test/images/fish_004270536972_15260.png: 96x128 1 7, 8.7ms\n",
      "image 3389/4118 /home/anderste/ikt450-deep-neural-networks/DNN-prosjekt/segmentation_data_new/test/images/fish_004270536972_15269.png: 96x128 1 7, 7.9ms\n",
      "image 3390/4118 /home/anderste/ikt450-deep-neural-networks/DNN-prosjekt/segmentation_data_new/test/images/fish_004270746972_13145.png: 128x128 1 3, 8.3ms\n",
      "image 3391/4118 /home/anderste/ikt450-deep-neural-networks/DNN-prosjekt/segmentation_data_new/test/images/fish_004270746972_13472.png: 128x128 1 3, 7.8ms\n",
      "image 3392/4118 /home/anderste/ikt450-deep-neural-networks/DNN-prosjekt/segmentation_data_new/test/images/fish_004270746972_14167.png: 128x128 1 3, 7.7ms\n",
      "image 3393/4118 /home/anderste/ikt450-deep-neural-networks/DNN-prosjekt/segmentation_data_new/test/images/fish_004270746972_24839.png: 128x128 1 3, 7.5ms\n",
      "image 3394/4118 /home/anderste/ikt450-deep-neural-networks/DNN-prosjekt/segmentation_data_new/test/images/fish_004270796972_14182.png: 128x128 1 3, 8.0ms\n",
      "image 3395/4118 /home/anderste/ikt450-deep-neural-networks/DNN-prosjekt/segmentation_data_new/test/images/fish_004272406975_24693.png: 128x128 1 3, 8.8ms\n",
      "image 3396/4118 /home/anderste/ikt450-deep-neural-networks/DNN-prosjekt/segmentation_data_new/test/images/fish_004272406975_26743.png: 128x128 1 3, 7.7ms\n",
      "image 3397/4118 /home/anderste/ikt450-deep-neural-networks/DNN-prosjekt/segmentation_data_new/test/images/fish_004272726975_26888.png: 128x128 1 2, 7.6ms\n",
      "image 3398/4118 /home/anderste/ikt450-deep-neural-networks/DNN-prosjekt/segmentation_data_new/test/images/fish_004272846975_18928.png: 128x128 1 3, 7.8ms\n",
      "image 3399/4118 /home/anderste/ikt450-deep-neural-networks/DNN-prosjekt/segmentation_data_new/test/images/fish_004272876975_24639.png: 128x128 1 3, 7.7ms\n",
      "image 3400/4118 /home/anderste/ikt450-deep-neural-networks/DNN-prosjekt/segmentation_data_new/test/images/fish_004272926975_19102.png: 128x128 1 3, 7.8ms\n",
      "image 3401/4118 /home/anderste/ikt450-deep-neural-networks/DNN-prosjekt/segmentation_data_new/test/images/fish_004272966975_10776.png: 128x128 1 3, 7.8ms\n",
      "image 3402/4118 /home/anderste/ikt450-deep-neural-networks/DNN-prosjekt/segmentation_data_new/test/images/fish_004273376975_26102.png: 128x128 1 1, 7.6ms\n",
      "image 3403/4118 /home/anderste/ikt450-deep-neural-networks/DNN-prosjekt/segmentation_data_new/test/images/fish_004273556975_25013.png: 128x128 1 3, 7.6ms\n",
      "image 3404/4118 /home/anderste/ikt450-deep-neural-networks/DNN-prosjekt/segmentation_data_new/test/images/fish_004273616975_10833.png: 128x128 1 3, 7.9ms\n",
      "image 3405/4118 /home/anderste/ikt450-deep-neural-networks/DNN-prosjekt/segmentation_data_new/test/images/fish_004273946975_17020.png: 128x128 1 3, 7.4ms\n",
      "image 3406/4118 /home/anderste/ikt450-deep-neural-networks/DNN-prosjekt/segmentation_data_new/test/images/fish_004275256976_26354.png: 128x128 1 0, 1 1, 7.7ms\n",
      "image 3407/4118 /home/anderste/ikt450-deep-neural-networks/DNN-prosjekt/segmentation_data_new/test/images/fish_004275476976_27307.png: 128x128 1 2, 7.7ms\n",
      "image 3408/4118 /home/anderste/ikt450-deep-neural-networks/DNN-prosjekt/segmentation_data_new/test/images/fish_004276096976_10768.png: 128x128 1 0, 1 1, 8.8ms\n",
      "image 3409/4118 /home/anderste/ikt450-deep-neural-networks/DNN-prosjekt/segmentation_data_new/test/images/fish_004276096976_12953.png: 128x128 1 1, 7.6ms\n",
      "image 3410/4118 /home/anderste/ikt450-deep-neural-networks/DNN-prosjekt/segmentation_data_new/test/images/fish_004276786978_23104.png: 128x128 1 3, 7.7ms\n",
      "image 3411/4118 /home/anderste/ikt450-deep-neural-networks/DNN-prosjekt/segmentation_data_new/test/images/fish_004277116978_12488.png: 128x128 1 3, 7.9ms\n",
      "image 3412/4118 /home/anderste/ikt450-deep-neural-networks/DNN-prosjekt/segmentation_data_new/test/images/fish_004280216983_26693.png: 128x128 1 1, 8.0ms\n",
      "image 3413/4118 /home/anderste/ikt450-deep-neural-networks/DNN-prosjekt/segmentation_data_new/test/images/fish_004282046988_21835.png: 128x128 1 3, 7.7ms\n",
      "image 3414/4118 /home/anderste/ikt450-deep-neural-networks/DNN-prosjekt/segmentation_data_new/test/images/fish_004282166989_11367.png: 128x128 1 3, 7.6ms\n",
      "image 3415/4118 /home/anderste/ikt450-deep-neural-networks/DNN-prosjekt/segmentation_data_new/test/images/fish_004283156992_16269.png: 128x128 1 4, 7.6ms\n",
      "image 3416/4118 /home/anderste/ikt450-deep-neural-networks/DNN-prosjekt/segmentation_data_new/test/images/fish_004283156992_16383.png: 128x128 1 4, 7.5ms\n",
      "image 3417/4118 /home/anderste/ikt450-deep-neural-networks/DNN-prosjekt/segmentation_data_new/test/images/fish_004283206991_12564.png: 128x128 1 5, 7.5ms\n",
      "image 3418/4118 /home/anderste/ikt450-deep-neural-networks/DNN-prosjekt/segmentation_data_new/test/images/fish_004283276991_24378.png: 128x128 1 5, 8.0ms\n",
      "image 3419/4118 /home/anderste/ikt450-deep-neural-networks/DNN-prosjekt/segmentation_data_new/test/images/fish_004283296992_24896.png: 128x128 1 4, 7.4ms\n",
      "image 3420/4118 /home/anderste/ikt450-deep-neural-networks/DNN-prosjekt/segmentation_data_new/test/images/fish_004283316991_14230.png: 128x128 1 5, 7.5ms\n",
      "image 3421/4118 /home/anderste/ikt450-deep-neural-networks/DNN-prosjekt/segmentation_data_new/test/images/fish_004283316991_19674.png: 128x128 1 5, 7.7ms\n",
      "image 3422/4118 /home/anderste/ikt450-deep-neural-networks/DNN-prosjekt/segmentation_data_new/test/images/fish_004283316991_19678.png: 128x128 1 5, 7.6ms\n",
      "image 3423/4118 /home/anderste/ikt450-deep-neural-networks/DNN-prosjekt/segmentation_data_new/test/images/fish_004283386992_21191.png: 128x128 1 4, 10.3ms\n",
      "image 3424/4118 /home/anderste/ikt450-deep-neural-networks/DNN-prosjekt/segmentation_data_new/test/images/fish_004283406991_19215.png: 128x128 1 5, 7.6ms\n",
      "image 3425/4118 /home/anderste/ikt450-deep-neural-networks/DNN-prosjekt/segmentation_data_new/test/images/fish_004283406991_23423.png: 128x128 1 5, 7.5ms\n",
      "image 3426/4118 /home/anderste/ikt450-deep-neural-networks/DNN-prosjekt/segmentation_data_new/test/images/fish_004283406991_23820.png: 128x128 1 5, 7.7ms\n",
      "image 3427/4118 /home/anderste/ikt450-deep-neural-networks/DNN-prosjekt/segmentation_data_new/test/images/fish_004283466992_23753.png: 128x128 1 4, 7.9ms\n",
      "image 3428/4118 /home/anderste/ikt450-deep-neural-networks/DNN-prosjekt/segmentation_data_new/test/images/fish_004283476992_14121.png: 128x128 1 4, 8.3ms\n",
      "image 3429/4118 /home/anderste/ikt450-deep-neural-networks/DNN-prosjekt/segmentation_data_new/test/images/fish_004283476992_21172.png: 128x128 1 3, 7.9ms\n",
      "image 3430/4118 /home/anderste/ikt450-deep-neural-networks/DNN-prosjekt/segmentation_data_new/test/images/fish_004283556991_27311.png: 128x128 1 5, 7.7ms\n",
      "image 3431/4118 /home/anderste/ikt450-deep-neural-networks/DNN-prosjekt/segmentation_data_new/test/images/fish_004283576992_20966.png: 128x128 1 4, 7.7ms\n",
      "image 3432/4118 /home/anderste/ikt450-deep-neural-networks/DNN-prosjekt/segmentation_data_new/test/images/fish_004283596992_18448.png: 128x128 1 3, 1 4, 7.7ms\n",
      "image 3433/4118 /home/anderste/ikt450-deep-neural-networks/DNN-prosjekt/segmentation_data_new/test/images/fish_004283656992_18445.png: 128x128 1 4, 7.7ms\n",
      "image 3434/4118 /home/anderste/ikt450-deep-neural-networks/DNN-prosjekt/segmentation_data_new/test/images/fish_004283656992_21167.png: 128x128 1 4, 7.7ms\n",
      "image 3435/4118 /home/anderste/ikt450-deep-neural-networks/DNN-prosjekt/segmentation_data_new/test/images/fish_004283766992_14123.png: 128x128 1 3, 1 4, 7.7ms\n",
      "image 3436/4118 /home/anderste/ikt450-deep-neural-networks/DNN-prosjekt/segmentation_data_new/test/images/fish_004283806992_15514.png: 128x128 1 4, 7.5ms\n",
      "image 3437/4118 /home/anderste/ikt450-deep-neural-networks/DNN-prosjekt/segmentation_data_new/test/images/fish_004283806992_18705.png: 128x128 1 4, 7.6ms\n",
      "image 3438/4118 /home/anderste/ikt450-deep-neural-networks/DNN-prosjekt/segmentation_data_new/test/images/fish_004283806992_18862.png: 128x128 1 4, 8.4ms\n",
      "image 3439/4118 /home/anderste/ikt450-deep-neural-networks/DNN-prosjekt/segmentation_data_new/test/images/fish_004283816992_09425.png: 128x128 1 4, 7.5ms\n",
      "image 3440/4118 /home/anderste/ikt450-deep-neural-networks/DNN-prosjekt/segmentation_data_new/test/images/fish_004283836992_09494.png: 128x128 1 4, 7.5ms\n",
      "image 3441/4118 /home/anderste/ikt450-deep-neural-networks/DNN-prosjekt/segmentation_data_new/test/images/fish_004283836992_11048.png: 128x128 1 4, 7.6ms\n",
      "image 3442/4118 /home/anderste/ikt450-deep-neural-networks/DNN-prosjekt/segmentation_data_new/test/images/fish_004283896992_17562.png: 128x128 1 4, 7.5ms\n",
      "image 3443/4118 /home/anderste/ikt450-deep-neural-networks/DNN-prosjekt/segmentation_data_new/test/images/fish_004284026992_21114.png: 128x128 1 3, 7.4ms\n",
      "image 3444/4118 /home/anderste/ikt450-deep-neural-networks/DNN-prosjekt/segmentation_data_new/test/images/fish_004284816994_17631.png: 128x128 1 4, 7.5ms\n",
      "image 3445/4118 /home/anderste/ikt450-deep-neural-networks/DNN-prosjekt/segmentation_data_new/test/images/fish_004285897001_10292.png: 128x128 1 3, 7.7ms\n",
      "image 3446/4118 /home/anderste/ikt450-deep-neural-networks/DNN-prosjekt/segmentation_data_new/test/images/fish_004285927001_22226.png: 128x128 1 4, 7.7ms\n",
      "image 3447/4118 /home/anderste/ikt450-deep-neural-networks/DNN-prosjekt/segmentation_data_new/test/images/fish_004285927001_22526.png: 128x128 1 4, 7.6ms\n",
      "image 3448/4118 /home/anderste/ikt450-deep-neural-networks/DNN-prosjekt/segmentation_data_new/test/images/fish_004285937001_14128.png: 128x128 1 4, 7.5ms\n",
      "image 3449/4118 /home/anderste/ikt450-deep-neural-networks/DNN-prosjekt/segmentation_data_new/test/images/fish_004285957001_10709.png: 128x128 1 4, 8.0ms\n",
      "image 3450/4118 /home/anderste/ikt450-deep-neural-networks/DNN-prosjekt/segmentation_data_new/test/images/fish_004285967001_15143.png: 128x128 1 4, 7.7ms\n",
      "image 3451/4118 /home/anderste/ikt450-deep-neural-networks/DNN-prosjekt/segmentation_data_new/test/images/fish_004286227001_18620.png: 128x128 1 4, 7.6ms\n",
      "image 3452/4118 /home/anderste/ikt450-deep-neural-networks/DNN-prosjekt/segmentation_data_new/test/images/fish_004286237003_20472.png: 128x128 1 0, 1 1, 7.6ms\n",
      "image 3453/4118 /home/anderste/ikt450-deep-neural-networks/DNN-prosjekt/segmentation_data_new/test/images/fish_004286487003_23570.png: 128x128 1 1, 7.6ms\n",
      "image 3454/4118 /home/anderste/ikt450-deep-neural-networks/DNN-prosjekt/segmentation_data_new/test/images/fish_004286627004_20661.png: 128x128 1 2, 7.8ms\n",
      "image 3455/4118 /home/anderste/ikt450-deep-neural-networks/DNN-prosjekt/segmentation_data_new/test/images/fish_004286787004_16012.png: 128x128 1 3, 7.8ms\n",
      "image 3456/4118 /home/anderste/ikt450-deep-neural-networks/DNN-prosjekt/segmentation_data_new/test/images/fish_004286837004_12278.png: 128x128 1 3, 8.4ms\n",
      "image 3457/4118 /home/anderste/ikt450-deep-neural-networks/DNN-prosjekt/segmentation_data_new/test/images/fish_004287067003_16534.png: 128x128 1 0, 1 1, 7.9ms\n",
      "image 3458/4118 /home/anderste/ikt450-deep-neural-networks/DNN-prosjekt/segmentation_data_new/test/images/fish_004287087004_14805.png: 128x128 1 1, 8.3ms\n",
      "image 3459/4118 /home/anderste/ikt450-deep-neural-networks/DNN-prosjekt/segmentation_data_new/test/images/fish_004287557004_14603.png: 128x128 1 2, 7.6ms\n",
      "image 3460/4118 /home/anderste/ikt450-deep-neural-networks/DNN-prosjekt/segmentation_data_new/test/images/fish_004287557004_22440.png: 128x128 1 2, 7.6ms\n",
      "image 3461/4118 /home/anderste/ikt450-deep-neural-networks/DNN-prosjekt/segmentation_data_new/test/images/fish_004287617004_15396.png: 128x128 1 3, 7.6ms\n",
      "image 3462/4118 /home/anderste/ikt450-deep-neural-networks/DNN-prosjekt/segmentation_data_new/test/images/fish_004287667004_14897.png: 128x128 1 1, 7.7ms\n",
      "image 3463/4118 /home/anderste/ikt450-deep-neural-networks/DNN-prosjekt/segmentation_data_new/test/images/fish_004287877004_10024.png: 128x128 1 3, 7.6ms\n",
      "image 3464/4118 /home/anderste/ikt450-deep-neural-networks/DNN-prosjekt/segmentation_data_new/test/images/fish_004288517004_23045.png: 128x128 1 3, 7.6ms\n",
      "image 3465/4118 /home/anderste/ikt450-deep-neural-networks/DNN-prosjekt/segmentation_data_new/test/images/fish_004288637004_14512.png: 128x128 1 3, 8.4ms\n",
      "image 3466/4118 /home/anderste/ikt450-deep-neural-networks/DNN-prosjekt/segmentation_data_new/test/images/fish_004295687022_09688.png: 128x128 1 1, 7.9ms\n",
      "image 3467/4118 /home/anderste/ikt450-deep-neural-networks/DNN-prosjekt/segmentation_data_new/test/images/fish_004295867022_21577.png: 128x128 1 1, 7.7ms\n",
      "image 3468/4118 /home/anderste/ikt450-deep-neural-networks/DNN-prosjekt/segmentation_data_new/test/images/fish_004296227022_25246.png: 128x128 1 1, 7.7ms\n",
      "image 3469/4118 /home/anderste/ikt450-deep-neural-networks/DNN-prosjekt/segmentation_data_new/test/images/fish_004296357022_18961.png: 128x128 1 1, 7.3ms\n",
      "image 3470/4118 /home/anderste/ikt450-deep-neural-networks/DNN-prosjekt/segmentation_data_new/test/images/fish_004296467022_23567.png: 128x128 1 1, 7.7ms\n",
      "image 3471/4118 /home/anderste/ikt450-deep-neural-networks/DNN-prosjekt/segmentation_data_new/test/images/fish_004298397025_12253.png: 96x128 (no detections), 8.4ms\n",
      "image 3472/4118 /home/anderste/ikt450-deep-neural-networks/DNN-prosjekt/segmentation_data_new/test/images/fish_004299957030_17411.png: 128x128 1 1, 8.3ms\n",
      "image 3473/4118 /home/anderste/ikt450-deep-neural-networks/DNN-prosjekt/segmentation_data_new/test/images/fish_004299977030_24038.png: 128x128 1 4, 8.1ms\n",
      "image 3474/4118 /home/anderste/ikt450-deep-neural-networks/DNN-prosjekt/segmentation_data_new/test/images/fish_004302367031_24529.png: 128x128 1 1, 7.7ms\n",
      "image 3475/4118 /home/anderste/ikt450-deep-neural-networks/DNN-prosjekt/segmentation_data_new/test/images/fish_004306757033_11484.png: 128x128 1 1, 7.7ms\n",
      "image 3476/4118 /home/anderste/ikt450-deep-neural-networks/DNN-prosjekt/segmentation_data_new/test/images/fish_004307137033_25219.png: 128x128 1 0, 1 1, 7.7ms\n",
      "image 3477/4118 /home/anderste/ikt450-deep-neural-networks/DNN-prosjekt/segmentation_data_new/test/images/fish_004309507035_21667.png: 128x128 1 3, 7.6ms\n",
      "image 3478/4118 /home/anderste/ikt450-deep-neural-networks/DNN-prosjekt/segmentation_data_new/test/images/fish_004309577035_18463.png: 128x128 1 0, 1 1, 7.7ms\n",
      "image 3479/4118 /home/anderste/ikt450-deep-neural-networks/DNN-prosjekt/segmentation_data_new/test/images/fish_004310527035_20434.png: 128x128 1 1, 7.7ms\n",
      "image 3480/4118 /home/anderste/ikt450-deep-neural-networks/DNN-prosjekt/segmentation_data_new/test/images/fish_004310577035_12367.png: 128x128 1 1, 7.7ms\n",
      "image 3481/4118 /home/anderste/ikt450-deep-neural-networks/DNN-prosjekt/segmentation_data_new/test/images/fish_004310937036_17771.png: 128x128 1 5, 7.8ms\n",
      "image 3482/4118 /home/anderste/ikt450-deep-neural-networks/DNN-prosjekt/segmentation_data_new/test/images/fish_004310987036_19451.png: 128x128 1 5, 8.2ms\n",
      "image 3483/4118 /home/anderste/ikt450-deep-neural-networks/DNN-prosjekt/segmentation_data_new/test/images/fish_004311157036_11535.png: 128x128 1 5, 7.7ms\n",
      "image 3484/4118 /home/anderste/ikt450-deep-neural-networks/DNN-prosjekt/segmentation_data_new/test/images/fish_004312057037_11761.png: 128x128 1 1, 8.2ms\n",
      "image 3485/4118 /home/anderste/ikt450-deep-neural-networks/DNN-prosjekt/segmentation_data_new/test/images/fish_004312657037_23966.png: 128x128 1 3, 1 4, 7.7ms\n",
      "image 3486/4118 /home/anderste/ikt450-deep-neural-networks/DNN-prosjekt/segmentation_data_new/test/images/fish_004312697037_24031.png: 128x128 1 3, 9.0ms\n",
      "image 3487/4118 /home/anderste/ikt450-deep-neural-networks/DNN-prosjekt/segmentation_data_new/test/images/fish_004312827037_19896.png: 128x128 1 4, 7.7ms\n",
      "image 3488/4118 /home/anderste/ikt450-deep-neural-networks/DNN-prosjekt/segmentation_data_new/test/images/fish_004312957037_24230.png: 128x128 1 3, 7.4ms\n",
      "image 3489/4118 /home/anderste/ikt450-deep-neural-networks/DNN-prosjekt/segmentation_data_new/test/images/fish_004313047037_23974.png: 128x128 1 3, 8.0ms\n",
      "image 3490/4118 /home/anderste/ikt450-deep-neural-networks/DNN-prosjekt/segmentation_data_new/test/images/fish_004313087038_17029.png: 128x128 1 0, 1 1, 7.6ms\n",
      "image 3491/4118 /home/anderste/ikt450-deep-neural-networks/DNN-prosjekt/segmentation_data_new/test/images/fish_004313097038_10301.png: 128x128 1 1, 7.7ms\n",
      "image 3492/4118 /home/anderste/ikt450-deep-neural-networks/DNN-prosjekt/segmentation_data_new/test/images/fish_004313357038_20936.png: 128x128 1 3, 7.7ms\n",
      "image 3493/4118 /home/anderste/ikt450-deep-neural-networks/DNN-prosjekt/segmentation_data_new/test/images/fish_004313427038_13722.png: 128x128 1 3, 7.7ms\n",
      "image 3494/4118 /home/anderste/ikt450-deep-neural-networks/DNN-prosjekt/segmentation_data_new/test/images/fish_004313477038_11073.png: 128x128 1 1, 7.9ms\n",
      "image 3495/4118 /home/anderste/ikt450-deep-neural-networks/DNN-prosjekt/segmentation_data_new/test/images/fish_004313497037_20008.png: 128x128 1 3, 7.8ms\n",
      "image 3496/4118 /home/anderste/ikt450-deep-neural-networks/DNN-prosjekt/segmentation_data_new/test/images/fish_004313577038_10298.png: 128x128 1 1, 7.9ms\n",
      "image 3497/4118 /home/anderste/ikt450-deep-neural-networks/DNN-prosjekt/segmentation_data_new/test/images/fish_004313577038_24607.png: 128x128 1 1, 7.6ms\n",
      "image 3498/4118 /home/anderste/ikt450-deep-neural-networks/DNN-prosjekt/segmentation_data_new/test/images/fish_004313597037_20016.png: 128x128 1 3, 7.9ms\n",
      "image 3499/4118 /home/anderste/ikt450-deep-neural-networks/DNN-prosjekt/segmentation_data_new/test/images/fish_004313597037_21830.png: 128x128 1 4, 7.7ms\n",
      "image 3500/4118 /home/anderste/ikt450-deep-neural-networks/DNN-prosjekt/segmentation_data_new/test/images/fish_004313597037_24013.png: 128x128 1 4, 7.8ms\n",
      "image 3501/4118 /home/anderste/ikt450-deep-neural-networks/DNN-prosjekt/segmentation_data_new/test/images/fish_004314327038_26300.png: 128x128 1 2, 8.0ms\n",
      "image 3502/4118 /home/anderste/ikt450-deep-neural-networks/DNN-prosjekt/segmentation_data_new/test/images/fish_004328047042_10008.png: 128x128 1 1, 7.6ms\n",
      "image 3503/4118 /home/anderste/ikt450-deep-neural-networks/DNN-prosjekt/segmentation_data_new/test/images/fish_004328047042_14762.png: 128x128 1 1, 7.7ms\n",
      "image 3504/4118 /home/anderste/ikt450-deep-neural-networks/DNN-prosjekt/segmentation_data_new/test/images/fish_004328417042_21841.png: 128x128 1 1, 9.2ms\n",
      "image 3505/4118 /home/anderste/ikt450-deep-neural-networks/DNN-prosjekt/segmentation_data_new/test/images/fish_004328427042_24763.png: 128x128 1 1, 7.8ms\n",
      "image 3506/4118 /home/anderste/ikt450-deep-neural-networks/DNN-prosjekt/segmentation_data_new/test/images/fish_004328447042_09832.png: 128x128 1 1, 8.0ms\n",
      "image 3507/4118 /home/anderste/ikt450-deep-neural-networks/DNN-prosjekt/segmentation_data_new/test/images/fish_004328907042_11356.png: 96x128 1 9, 8.9ms\n",
      "image 3508/4118 /home/anderste/ikt450-deep-neural-networks/DNN-prosjekt/segmentation_data_new/test/images/fish_004332757046_25379.png: 128x128 1 1, 8.3ms\n",
      "image 3509/4118 /home/anderste/ikt450-deep-neural-networks/DNN-prosjekt/segmentation_data_new/test/images/fish_004334147049_24291.png: 128x128 1 1, 8.1ms\n",
      "image 3510/4118 /home/anderste/ikt450-deep-neural-networks/DNN-prosjekt/segmentation_data_new/test/images/fish_004334227049_09824.png: 128x128 1 1, 7.7ms\n",
      "image 3511/4118 /home/anderste/ikt450-deep-neural-networks/DNN-prosjekt/segmentation_data_new/test/images/fish_004334447049_10679.png: 128x128 1 0, 1 1, 8.1ms\n",
      "image 3512/4118 /home/anderste/ikt450-deep-neural-networks/DNN-prosjekt/segmentation_data_new/test/images/fish_004334537049_21919.png: 128x128 1 1, 7.8ms\n",
      "image 3513/4118 /home/anderste/ikt450-deep-neural-networks/DNN-prosjekt/segmentation_data_new/test/images/fish_004334897049_19943.png: 128x128 1 1, 7.6ms\n",
      "image 3514/4118 /home/anderste/ikt450-deep-neural-networks/DNN-prosjekt/segmentation_data_new/test/images/fish_004335727052_21325.png: 128x128 1 1, 7.7ms\n",
      "image 3515/4118 /home/anderste/ikt450-deep-neural-networks/DNN-prosjekt/segmentation_data_new/test/images/fish_004335727052_24788.png: 128x128 1 0, 1 1, 7.7ms\n",
      "image 3516/4118 /home/anderste/ikt450-deep-neural-networks/DNN-prosjekt/segmentation_data_new/test/images/fish_004337107054_21146.png: 128x128 1 4, 8.5ms\n",
      "image 3517/4118 /home/anderste/ikt450-deep-neural-networks/DNN-prosjekt/segmentation_data_new/test/images/fish_004337117054_21100.png: 128x128 1 4, 7.7ms\n",
      "image 3518/4118 /home/anderste/ikt450-deep-neural-networks/DNN-prosjekt/segmentation_data_new/test/images/fish_004337247054_10483.png: 128x128 1 3, 1 4, 7.6ms\n",
      "image 3519/4118 /home/anderste/ikt450-deep-neural-networks/DNN-prosjekt/segmentation_data_new/test/images/fish_004337317054_19137.png: 128x128 1 4, 7.7ms\n",
      "image 3520/4118 /home/anderste/ikt450-deep-neural-networks/DNN-prosjekt/segmentation_data_new/test/images/fish_004339007060_17186.png: 128x128 1 2, 7.7ms\n",
      "image 3521/4118 /home/anderste/ikt450-deep-neural-networks/DNN-prosjekt/segmentation_data_new/test/images/fish_004339007060_27263.png: 128x128 1 2, 8.0ms\n",
      "image 3522/4118 /home/anderste/ikt450-deep-neural-networks/DNN-prosjekt/segmentation_data_new/test/images/fish_004339597061_26583.png: 128x128 1 3, 1 4, 7.8ms\n",
      "image 3523/4118 /home/anderste/ikt450-deep-neural-networks/DNN-prosjekt/segmentation_data_new/test/images/fish_004339717061_15124.png: 128x128 1 4, 7.8ms\n",
      "image 3524/4118 /home/anderste/ikt450-deep-neural-networks/DNN-prosjekt/segmentation_data_new/test/images/fish_004339727061_12036.png: 128x128 1 4, 7.8ms\n",
      "image 3525/4118 /home/anderste/ikt450-deep-neural-networks/DNN-prosjekt/segmentation_data_new/test/images/fish_004339767061_09286.png: 128x128 1 4, 7.6ms\n",
      "image 3526/4118 /home/anderste/ikt450-deep-neural-networks/DNN-prosjekt/segmentation_data_new/test/images/fish_004339767061_18758.png: 128x128 1 4, 8.0ms\n",
      "image 3527/4118 /home/anderste/ikt450-deep-neural-networks/DNN-prosjekt/segmentation_data_new/test/images/fish_004340777063_21955.png: 128x128 1 4, 7.7ms\n",
      "image 3528/4118 /home/anderste/ikt450-deep-neural-networks/DNN-prosjekt/segmentation_data_new/test/images/fish_004340797063_09453.png: 128x128 1 4, 7.7ms\n",
      "image 3529/4118 /home/anderste/ikt450-deep-neural-networks/DNN-prosjekt/segmentation_data_new/test/images/fish_004340797063_18450.png: 128x128 1 4, 7.6ms\n",
      "image 3530/4118 /home/anderste/ikt450-deep-neural-networks/DNN-prosjekt/segmentation_data_new/test/images/fish_004340857063_11300.png: 128x128 1 4, 7.6ms\n",
      "image 3531/4118 /home/anderste/ikt450-deep-neural-networks/DNN-prosjekt/segmentation_data_new/test/images/fish_004340857063_21233.png: 128x128 1 4, 7.8ms\n",
      "image 3532/4118 /home/anderste/ikt450-deep-neural-networks/DNN-prosjekt/segmentation_data_new/test/images/fish_004340907063_09327.png: 128x128 1 4, 7.9ms\n",
      "image 3533/4118 /home/anderste/ikt450-deep-neural-networks/DNN-prosjekt/segmentation_data_new/test/images/fish_004340927063_21194.png: 128x128 1 4, 7.6ms\n",
      "image 3534/4118 /home/anderste/ikt450-deep-neural-networks/DNN-prosjekt/segmentation_data_new/test/images/fish_004340927063_21235.png: 128x128 1 4, 7.6ms\n",
      "image 3535/4118 /home/anderste/ikt450-deep-neural-networks/DNN-prosjekt/segmentation_data_new/test/images/fish_004341027063_27123.png: 128x128 1 4, 7.8ms\n",
      "image 3536/4118 /home/anderste/ikt450-deep-neural-networks/DNN-prosjekt/segmentation_data_new/test/images/fish_004341257063_12035.png: 128x128 1 4, 7.6ms\n",
      "image 3537/4118 /home/anderste/ikt450-deep-neural-networks/DNN-prosjekt/segmentation_data_new/test/images/fish_004341547063_13379.png: 128x128 1 4, 7.7ms\n",
      "image 3538/4118 /home/anderste/ikt450-deep-neural-networks/DNN-prosjekt/segmentation_data_new/test/images/fish_004341677064_10059.png: 128x128 1 2, 7.6ms\n",
      "image 3539/4118 /home/anderste/ikt450-deep-neural-networks/DNN-prosjekt/segmentation_data_new/test/images/fish_004341817064_23032.png: 128x128 1 3, 7.7ms\n",
      "image 3540/4118 /home/anderste/ikt450-deep-neural-networks/DNN-prosjekt/segmentation_data_new/test/images/fish_004341967064_23458.png: 128x128 1 3, 7.9ms\n",
      "image 3541/4118 /home/anderste/ikt450-deep-neural-networks/DNN-prosjekt/segmentation_data_new/test/images/fish_004341987064_09173.png: 128x128 1 3, 7.8ms\n",
      "image 3542/4118 /home/anderste/ikt450-deep-neural-networks/DNN-prosjekt/segmentation_data_new/test/images/fish_004342127064_17935.png: 128x128 1 3, 7.7ms\n",
      "image 3543/4118 /home/anderste/ikt450-deep-neural-networks/DNN-prosjekt/segmentation_data_new/test/images/fish_004342437065_16050.png: 128x128 1 5, 7.6ms\n",
      "image 3544/4118 /home/anderste/ikt450-deep-neural-networks/DNN-prosjekt/segmentation_data_new/test/images/fish_004342437065_16064.png: 128x128 1 5, 7.9ms\n",
      "image 3545/4118 /home/anderste/ikt450-deep-neural-networks/DNN-prosjekt/segmentation_data_new/test/images/fish_004342487065_16254.png: 128x128 1 5, 7.7ms\n",
      "image 3546/4118 /home/anderste/ikt450-deep-neural-networks/DNN-prosjekt/segmentation_data_new/test/images/fish_004342857065_13949.png: 128x128 1 1, 7.6ms\n",
      "image 3547/4118 /home/anderste/ikt450-deep-neural-networks/DNN-prosjekt/segmentation_data_new/test/images/fish_004343007065_16331.png: 128x128 1 1, 8.3ms\n",
      "image 3548/4118 /home/anderste/ikt450-deep-neural-networks/DNN-prosjekt/segmentation_data_new/test/images/fish_004343267065_11783.png: 128x128 1 1, 7.7ms\n",
      "image 3549/4118 /home/anderste/ikt450-deep-neural-networks/DNN-prosjekt/segmentation_data_new/test/images/fish_004345537073_21074.png: 128x128 1 5, 7.9ms\n",
      "image 3550/4118 /home/anderste/ikt450-deep-neural-networks/DNN-prosjekt/segmentation_data_new/test/images/fish_004345607073_11511.png: 128x128 1 5, 8.0ms\n",
      "image 3551/4118 /home/anderste/ikt450-deep-neural-networks/DNN-prosjekt/segmentation_data_new/test/images/fish_004345607073_25786.png: 128x128 1 5, 7.7ms\n",
      "image 3552/4118 /home/anderste/ikt450-deep-neural-networks/DNN-prosjekt/segmentation_data_new/test/images/fish_004345777073_25822.png: 128x128 1 5, 7.7ms\n",
      "image 3553/4118 /home/anderste/ikt450-deep-neural-networks/DNN-prosjekt/segmentation_data_new/test/images/fish_004347227078_09975.png: 128x128 1 1, 7.6ms\n",
      "image 3554/4118 /home/anderste/ikt450-deep-neural-networks/DNN-prosjekt/segmentation_data_new/test/images/fish_004347407076_21591.png: 128x128 1 1, 7.9ms\n",
      "image 3555/4118 /home/anderste/ikt450-deep-neural-networks/DNN-prosjekt/segmentation_data_new/test/images/fish_004348217078_12956.png: 128x128 1 1, 7.7ms\n",
      "image 3556/4118 /home/anderste/ikt450-deep-neural-networks/DNN-prosjekt/segmentation_data_new/test/images/fish_004348217078_22893.png: 128x128 1 1, 7.7ms\n",
      "image 3557/4118 /home/anderste/ikt450-deep-neural-networks/DNN-prosjekt/segmentation_data_new/test/images/fish_004348757078_15087.png: 128x128 1 1, 7.9ms\n",
      "image 3558/4118 /home/anderste/ikt450-deep-neural-networks/DNN-prosjekt/segmentation_data_new/test/images/fish_004349157078_14433.png: 128x128 1 1, 7.9ms\n",
      "image 3559/4118 /home/anderste/ikt450-deep-neural-networks/DNN-prosjekt/segmentation_data_new/test/images/fish_004351077079_13172.png: 128x128 1 2, 7.7ms\n",
      "image 3560/4118 /home/anderste/ikt450-deep-neural-networks/DNN-prosjekt/segmentation_data_new/test/images/fish_004353737082_19288.png: 128x128 1 5, 7.8ms\n",
      "image 3561/4118 /home/anderste/ikt450-deep-neural-networks/DNN-prosjekt/segmentation_data_new/test/images/fish_004353737082_19629.png: 128x128 1 5, 7.8ms\n",
      "image 3562/4118 /home/anderste/ikt450-deep-neural-networks/DNN-prosjekt/segmentation_data_new/test/images/fish_004353737082_23618.png: 128x128 1 5, 10.2ms\n",
      "image 3563/4118 /home/anderste/ikt450-deep-neural-networks/DNN-prosjekt/segmentation_data_new/test/images/fish_004353747082_19640.png: 128x128 1 5, 8.2ms\n",
      "image 3564/4118 /home/anderste/ikt450-deep-neural-networks/DNN-prosjekt/segmentation_data_new/test/images/fish_004353767082_19619.png: 128x128 1 5, 7.7ms\n",
      "image 3565/4118 /home/anderste/ikt450-deep-neural-networks/DNN-prosjekt/segmentation_data_new/test/images/fish_004353787082_19412.png: 128x128 1 5, 7.8ms\n",
      "image 3566/4118 /home/anderste/ikt450-deep-neural-networks/DNN-prosjekt/segmentation_data_new/test/images/fish_004353787082_19426.png: 128x128 1 5, 7.8ms\n",
      "image 3567/4118 /home/anderste/ikt450-deep-neural-networks/DNN-prosjekt/segmentation_data_new/test/images/fish_004353857082_19222.png: 128x128 1 5, 7.7ms\n",
      "image 3568/4118 /home/anderste/ikt450-deep-neural-networks/DNN-prosjekt/segmentation_data_new/test/images/fish_004353867082_20961.png: 128x128 1 5, 7.8ms\n",
      "image 3569/4118 /home/anderste/ikt450-deep-neural-networks/DNN-prosjekt/segmentation_data_new/test/images/fish_004353887082_19621.png: 128x128 1 5, 8.1ms\n",
      "image 3570/4118 /home/anderste/ikt450-deep-neural-networks/DNN-prosjekt/segmentation_data_new/test/images/fish_004353887082_20982.png: 128x128 1 5, 7.6ms\n",
      "image 3571/4118 /home/anderste/ikt450-deep-neural-networks/DNN-prosjekt/segmentation_data_new/test/images/fish_004353917082_19309.png: 128x128 1 5, 7.4ms\n",
      "image 3572/4118 /home/anderste/ikt450-deep-neural-networks/DNN-prosjekt/segmentation_data_new/test/images/fish_004353947082_25800.png: 128x128 1 5, 7.7ms\n",
      "image 3573/4118 /home/anderste/ikt450-deep-neural-networks/DNN-prosjekt/segmentation_data_new/test/images/fish_004354557087_19188.png: 128x128 1 5, 7.7ms\n",
      "image 3574/4118 /home/anderste/ikt450-deep-neural-networks/DNN-prosjekt/segmentation_data_new/test/images/fish_004354567087_21985.png: 128x128 1 5, 7.5ms\n",
      "image 3575/4118 /home/anderste/ikt450-deep-neural-networks/DNN-prosjekt/segmentation_data_new/test/images/fish_004355067091_17260.png: 128x128 1 3, 7.6ms\n",
      "image 3576/4118 /home/anderste/ikt450-deep-neural-networks/DNN-prosjekt/segmentation_data_new/test/images/fish_004355187091_10213.png: 128x128 1 1, 8.4ms\n",
      "image 3577/4118 /home/anderste/ikt450-deep-neural-networks/DNN-prosjekt/segmentation_data_new/test/images/fish_004355267091_17194.png: 128x128 1 2, 7.6ms\n",
      "image 3578/4118 /home/anderste/ikt450-deep-neural-networks/DNN-prosjekt/segmentation_data_new/test/images/fish_004358727102_18964.png: 128x128 1 1, 7.7ms\n",
      "image 3579/4118 /home/anderste/ikt450-deep-neural-networks/DNN-prosjekt/segmentation_data_new/test/images/fish_004358907102_17969.png: 128x128 1 1, 7.6ms\n",
      "image 3580/4118 /home/anderste/ikt450-deep-neural-networks/DNN-prosjekt/segmentation_data_new/test/images/fish_004359067102_21559.png: 128x128 1 1, 7.6ms\n",
      "image 3581/4118 /home/anderste/ikt450-deep-neural-networks/DNN-prosjekt/segmentation_data_new/test/images/fish_004359087102_15219.png: 128x128 1 1, 7.7ms\n",
      "image 3582/4118 /home/anderste/ikt450-deep-neural-networks/DNN-prosjekt/segmentation_data_new/test/images/fish_004359087102_21649.png: 128x128 1 0, 1 1, 7.7ms\n",
      "image 3583/4118 /home/anderste/ikt450-deep-neural-networks/DNN-prosjekt/segmentation_data_new/test/images/fish_004359087102_21652.png: 128x128 1 0, 1 1, 7.8ms\n",
      "image 3584/4118 /home/anderste/ikt450-deep-neural-networks/DNN-prosjekt/segmentation_data_new/test/images/fish_004359207102_16433.png: 128x128 1 1, 8.0ms\n",
      "image 3585/4118 /home/anderste/ikt450-deep-neural-networks/DNN-prosjekt/segmentation_data_new/test/images/fish_004360077105_12865.png: 128x128 1 1, 7.6ms\n",
      "image 3586/4118 /home/anderste/ikt450-deep-neural-networks/DNN-prosjekt/segmentation_data_new/test/images/fish_004360257105_23093.png: 128x128 1 3, 7.7ms\n",
      "image 3587/4118 /home/anderste/ikt450-deep-neural-networks/DNN-prosjekt/segmentation_data_new/test/images/fish_004360357105_25959.png: 128x128 1 2, 7.8ms\n",
      "image 3588/4118 /home/anderste/ikt450-deep-neural-networks/DNN-prosjekt/segmentation_data_new/test/images/fish_004360997106_18877.png: 128x128 1 1, 7.7ms\n",
      "image 3589/4118 /home/anderste/ikt450-deep-neural-networks/DNN-prosjekt/segmentation_data_new/test/images/fish_004360997106_22525.png: 128x128 1 1, 7.6ms\n",
      "image 3590/4118 /home/anderste/ikt450-deep-neural-networks/DNN-prosjekt/segmentation_data_new/test/images/fish_004361107106_10604.png: 128x128 1 1, 7.6ms\n",
      "image 3591/4118 /home/anderste/ikt450-deep-neural-networks/DNN-prosjekt/segmentation_data_new/test/images/fish_004361107106_18518.png: 128x96 (no detections), 8.6ms\n",
      "image 3592/4118 /home/anderste/ikt450-deep-neural-networks/DNN-prosjekt/segmentation_data_new/test/images/fish_004361267106_21636.png: 128x128 1 3, 1 4, 8.2ms\n",
      "image 3593/4118 /home/anderste/ikt450-deep-neural-networks/DNN-prosjekt/segmentation_data_new/test/images/fish_004361387106_19036.png: 128x128 1 1, 7.7ms\n",
      "image 3594/4118 /home/anderste/ikt450-deep-neural-networks/DNN-prosjekt/segmentation_data_new/test/images/fish_004361387106_20640.png: 128x128 1 1, 7.9ms\n",
      "image 3595/4118 /home/anderste/ikt450-deep-neural-networks/DNN-prosjekt/segmentation_data_new/test/images/fish_004361467106_25391.png: 128x128 1 1, 7.8ms\n",
      "image 3596/4118 /home/anderste/ikt450-deep-neural-networks/DNN-prosjekt/segmentation_data_new/test/images/fish_004361777106_18881.png: 128x128 1 1, 7.7ms\n",
      "image 3597/4118 /home/anderste/ikt450-deep-neural-networks/DNN-prosjekt/segmentation_data_new/test/images/fish_004370147107_20361.png: 128x128 1 1, 7.7ms\n",
      "image 3598/4118 /home/anderste/ikt450-deep-neural-networks/DNN-prosjekt/segmentation_data_new/test/images/fish_004370147107_20669.png: 128x128 1 1, 7.9ms\n",
      "image 3599/4118 /home/anderste/ikt450-deep-neural-networks/DNN-prosjekt/segmentation_data_new/test/images/fish_004370347107_22304.png: 128x128 1 1, 7.7ms\n",
      "image 3600/4118 /home/anderste/ikt450-deep-neural-networks/DNN-prosjekt/segmentation_data_new/test/images/fish_004370347107_23563.png: 128x128 1 1, 7.8ms\n",
      "image 3601/4118 /home/anderste/ikt450-deep-neural-networks/DNN-prosjekt/segmentation_data_new/test/images/fish_004372057107_20689.png: 128x128 1 1, 8.0ms\n",
      "image 3602/4118 /home/anderste/ikt450-deep-neural-networks/DNN-prosjekt/segmentation_data_new/test/images/fish_004372057107_24214.png: 128x128 1 1, 8.0ms\n",
      "image 3603/4118 /home/anderste/ikt450-deep-neural-networks/DNN-prosjekt/segmentation_data_new/test/images/fish_004372567107_20956.png: 128x128 1 1, 8.3ms\n",
      "image 3604/4118 /home/anderste/ikt450-deep-neural-networks/DNN-prosjekt/segmentation_data_new/test/images/fish_004372977108_16095.png: 128x128 1 5, 7.7ms\n",
      "image 3605/4118 /home/anderste/ikt450-deep-neural-networks/DNN-prosjekt/segmentation_data_new/test/images/fish_004372977108_23534.png: 128x128 1 5, 7.6ms\n",
      "image 3606/4118 /home/anderste/ikt450-deep-neural-networks/DNN-prosjekt/segmentation_data_new/test/images/fish_004373257108_16216.png: 128x128 1 5, 7.6ms\n",
      "image 3607/4118 /home/anderste/ikt450-deep-neural-networks/DNN-prosjekt/segmentation_data_new/test/images/fish_004373327108_16220.png: 128x128 1 5, 7.8ms\n",
      "image 3608/4118 /home/anderste/ikt450-deep-neural-networks/DNN-prosjekt/segmentation_data_new/test/images/fish_004373377109_27342.png: 128x128 1 4, 7.7ms\n",
      "image 3609/4118 /home/anderste/ikt450-deep-neural-networks/DNN-prosjekt/segmentation_data_new/test/images/fish_004374387108_16202.png: 128x128 1 5, 7.7ms\n",
      "image 3610/4118 /home/anderste/ikt450-deep-neural-networks/DNN-prosjekt/segmentation_data_new/test/images/fish_004374527108_21063.png: 128x128 1 5, 7.6ms\n",
      "image 3611/4118 /home/anderste/ikt450-deep-neural-networks/DNN-prosjekt/segmentation_data_new/test/images/fish_004374527108_25736.png: 128x128 1 5, 7.7ms\n",
      "image 3612/4118 /home/anderste/ikt450-deep-neural-networks/DNN-prosjekt/segmentation_data_new/test/images/fish_004374667108_16153.png: 128x128 1 5, 7.7ms\n",
      "image 3613/4118 /home/anderste/ikt450-deep-neural-networks/DNN-prosjekt/segmentation_data_new/test/images/fish_004374667108_16250.png: 128x128 1 5, 7.6ms\n",
      "image 3614/4118 /home/anderste/ikt450-deep-neural-networks/DNN-prosjekt/segmentation_data_new/test/images/fish_004375257108_15921.png: 128x128 1 5, 7.7ms\n",
      "image 3615/4118 /home/anderste/ikt450-deep-neural-networks/DNN-prosjekt/segmentation_data_new/test/images/fish_004375257108_16103.png: 128x128 1 5, 8.0ms\n",
      "image 3616/4118 /home/anderste/ikt450-deep-neural-networks/DNN-prosjekt/segmentation_data_new/test/images/fish_004375447108_16187.png: 128x128 1 5, 7.7ms\n",
      "image 3617/4118 /home/anderste/ikt450-deep-neural-networks/DNN-prosjekt/segmentation_data_new/test/images/fish_004376347108_16214.png: 128x128 1 5, 7.8ms\n",
      "image 3618/4118 /home/anderste/ikt450-deep-neural-networks/DNN-prosjekt/segmentation_data_new/test/images/fish_004376457108_16242.png: 128x128 1 5, 7.8ms\n",
      "image 3619/4118 /home/anderste/ikt450-deep-neural-networks/DNN-prosjekt/segmentation_data_new/test/images/fish_004376497108_14081.png: 128x128 1 1, 7.7ms\n",
      "image 3620/4118 /home/anderste/ikt450-deep-neural-networks/DNN-prosjekt/segmentation_data_new/test/images/fish_004376527108_16139.png: 128x128 1 5, 7.6ms\n",
      "image 3621/4118 /home/anderste/ikt450-deep-neural-networks/DNN-prosjekt/segmentation_data_new/test/images/fish_004376587108_25710.png: 128x128 1 5, 7.7ms\n",
      "image 3622/4118 /home/anderste/ikt450-deep-neural-networks/DNN-prosjekt/segmentation_data_new/test/images/fish_004379817113_22518.png: 128x128 1 1, 7.8ms\n",
      "image 3623/4118 /home/anderste/ikt450-deep-neural-networks/DNN-prosjekt/segmentation_data_new/test/images/fish_004379947113_18337.png: 128x128 1 1, 7.7ms\n",
      "image 3624/4118 /home/anderste/ikt450-deep-neural-networks/DNN-prosjekt/segmentation_data_new/test/images/fish_004379947113_18338.png: 128x128 1 0, 1 1, 7.7ms\n",
      "image 3625/4118 /home/anderste/ikt450-deep-neural-networks/DNN-prosjekt/segmentation_data_new/test/images/fish_004379947113_18870.png: 128x128 1 1, 7.9ms\n",
      "image 3626/4118 /home/anderste/ikt450-deep-neural-networks/DNN-prosjekt/segmentation_data_new/test/images/fish_004379947113_19077.png: 128x128 1 1, 7.7ms\n",
      "image 3627/4118 /home/anderste/ikt450-deep-neural-networks/DNN-prosjekt/segmentation_data_new/test/images/fish_004382157116_14542.png: 128x128 1 3, 9.0ms\n",
      "image 3628/4118 /home/anderste/ikt450-deep-neural-networks/DNN-prosjekt/segmentation_data_new/test/images/fish_004382227116_12088.png: 128x128 1 1, 7.8ms\n",
      "image 3629/4118 /home/anderste/ikt450-deep-neural-networks/DNN-prosjekt/segmentation_data_new/test/images/fish_004387067118_21326.png: 128x128 1 1, 7.6ms\n",
      "image 3630/4118 /home/anderste/ikt450-deep-neural-networks/DNN-prosjekt/segmentation_data_new/test/images/fish_004388657119_12498.png: 128x128 1 3, 7.7ms\n",
      "image 3631/4118 /home/anderste/ikt450-deep-neural-networks/DNN-prosjekt/segmentation_data_new/test/images/fish_004388657119_14174.png: 128x128 1 3, 7.7ms\n",
      "image 3632/4118 /home/anderste/ikt450-deep-neural-networks/DNN-prosjekt/segmentation_data_new/test/images/fish_004388657119_15220.png: 128x128 1 3, 8.0ms\n",
      "image 3633/4118 /home/anderste/ikt450-deep-neural-networks/DNN-prosjekt/segmentation_data_new/test/images/fish_004388657119_16960.png: 128x128 1 3, 8.5ms\n",
      "image 3634/4118 /home/anderste/ikt450-deep-neural-networks/DNN-prosjekt/segmentation_data_new/test/images/fish_004388657119_22908.png: 128x128 1 3, 7.8ms\n",
      "image 3635/4118 /home/anderste/ikt450-deep-neural-networks/DNN-prosjekt/segmentation_data_new/test/images/fish_004388677119_25284.png: 128x128 1 3, 7.6ms\n",
      "image 3636/4118 /home/anderste/ikt450-deep-neural-networks/DNN-prosjekt/segmentation_data_new/test/images/fish_004388737119_21600.png: 128x128 1 3, 7.8ms\n",
      "image 3637/4118 /home/anderste/ikt450-deep-neural-networks/DNN-prosjekt/segmentation_data_new/test/images/fish_004388817119_22345.png: 128x128 1 3, 7.8ms\n",
      "image 3638/4118 /home/anderste/ikt450-deep-neural-networks/DNN-prosjekt/segmentation_data_new/test/images/fish_004388867119_10806.png: 128x128 1 3, 7.8ms\n",
      "image 3639/4118 /home/anderste/ikt450-deep-neural-networks/DNN-prosjekt/segmentation_data_new/test/images/fish_004389147119_23538.png: 128x128 1 3, 7.6ms\n",
      "image 3640/4118 /home/anderste/ikt450-deep-neural-networks/DNN-prosjekt/segmentation_data_new/test/images/fish_004389287119_09446.png: 128x128 1 3, 7.7ms\n",
      "image 3641/4118 /home/anderste/ikt450-deep-neural-networks/DNN-prosjekt/segmentation_data_new/test/images/fish_004398307127_19244.png: 128x128 1 12, 7.7ms\n",
      "image 3642/4118 /home/anderste/ikt450-deep-neural-networks/DNN-prosjekt/segmentation_data_new/test/images/fish_004401677134_13662.png: 128x128 1 4, 8.1ms\n",
      "image 3643/4118 /home/anderste/ikt450-deep-neural-networks/DNN-prosjekt/segmentation_data_new/test/images/fish_004401917134_09055.png: 128x128 1 4, 7.5ms\n",
      "image 3644/4118 /home/anderste/ikt450-deep-neural-networks/DNN-prosjekt/segmentation_data_new/test/images/fish_004401937134_09451.png: 128x128 1 4, 7.6ms\n",
      "image 3645/4118 /home/anderste/ikt450-deep-neural-networks/DNN-prosjekt/segmentation_data_new/test/images/fish_004401977134_10968.png: 128x128 1 4, 7.6ms\n",
      "image 3646/4118 /home/anderste/ikt450-deep-neural-networks/DNN-prosjekt/segmentation_data_new/test/images/fish_004402137135_11923.png: 128x128 1 10, 8.1ms\n",
      "image 3647/4118 /home/anderste/ikt450-deep-neural-networks/DNN-prosjekt/segmentation_data_new/test/images/fish_004402137135_11992.png: 128x128 1 10, 7.6ms\n",
      "image 3648/4118 /home/anderste/ikt450-deep-neural-networks/DNN-prosjekt/segmentation_data_new/test/images/fish_004402137135_13569.png: 128x128 1 10, 7.6ms\n",
      "image 3649/4118 /home/anderste/ikt450-deep-neural-networks/DNN-prosjekt/segmentation_data_new/test/images/fish_004402177135_11868.png: 128x128 1 10, 8.1ms\n",
      "image 3650/4118 /home/anderste/ikt450-deep-neural-networks/DNN-prosjekt/segmentation_data_new/test/images/fish_004402197135_16027.png: 128x128 1 10, 7.7ms\n",
      "image 3651/4118 /home/anderste/ikt450-deep-neural-networks/DNN-prosjekt/segmentation_data_new/test/images/fish_004402237134_09468.png: 128x128 1 4, 7.6ms\n",
      "image 3652/4118 /home/anderste/ikt450-deep-neural-networks/DNN-prosjekt/segmentation_data_new/test/images/fish_004402237134_09472.png: 128x128 1 4, 8.2ms\n",
      "image 3653/4118 /home/anderste/ikt450-deep-neural-networks/DNN-prosjekt/segmentation_data_new/test/images/fish_004402247135_11989.png: 128x128 1 10, 7.7ms\n",
      "image 3654/4118 /home/anderste/ikt450-deep-neural-networks/DNN-prosjekt/segmentation_data_new/test/images/fish_004402267134_18464.png: 128x128 1 4, 7.7ms\n",
      "image 3655/4118 /home/anderste/ikt450-deep-neural-networks/DNN-prosjekt/segmentation_data_new/test/images/fish_004402287134_11688.png: 128x128 1 4, 7.7ms\n",
      "image 3656/4118 /home/anderste/ikt450-deep-neural-networks/DNN-prosjekt/segmentation_data_new/test/images/fish_004402327135_11967.png: 128x128 1 10, 7.9ms\n",
      "image 3657/4118 /home/anderste/ikt450-deep-neural-networks/DNN-prosjekt/segmentation_data_new/test/images/fish_004402337135_19250.png: 128x128 1 10, 7.7ms\n",
      "image 3658/4118 /home/anderste/ikt450-deep-neural-networks/DNN-prosjekt/segmentation_data_new/test/images/fish_004402377135_11930.png: 128x128 1 10, 8.3ms\n",
      "image 3659/4118 /home/anderste/ikt450-deep-neural-networks/DNN-prosjekt/segmentation_data_new/test/images/fish_004402397135_11979.png: 128x128 1 10, 7.7ms\n",
      "image 3660/4118 /home/anderste/ikt450-deep-neural-networks/DNN-prosjekt/segmentation_data_new/test/images/fish_004402397135_11995.png: 128x128 1 10, 9.1ms\n",
      "image 3661/4118 /home/anderste/ikt450-deep-neural-networks/DNN-prosjekt/segmentation_data_new/test/images/fish_004402397135_13441.png: 128x128 1 10, 7.7ms\n",
      "image 3662/4118 /home/anderste/ikt450-deep-neural-networks/DNN-prosjekt/segmentation_data_new/test/images/fish_004402397135_21647.png: 128x128 1 10, 8.2ms\n",
      "image 3663/4118 /home/anderste/ikt450-deep-neural-networks/DNN-prosjekt/segmentation_data_new/test/images/fish_004402407135_14119.png: 128x128 1 10, 7.6ms\n",
      "image 3664/4118 /home/anderste/ikt450-deep-neural-networks/DNN-prosjekt/segmentation_data_new/test/images/fish_004403047137_09424.png: 128x128 1 4, 7.8ms\n",
      "image 3665/4118 /home/anderste/ikt450-deep-neural-networks/DNN-prosjekt/segmentation_data_new/test/images/fish_004403057137_15510.png: 128x128 1 4, 7.6ms\n",
      "image 3666/4118 /home/anderste/ikt450-deep-neural-networks/DNN-prosjekt/segmentation_data_new/test/images/fish_004403087137_14069.png: 128x128 1 4, 7.6ms\n",
      "image 3667/4118 /home/anderste/ikt450-deep-neural-networks/DNN-prosjekt/segmentation_data_new/test/images/fish_004403087137_16295.png: 128x128 1 4, 7.7ms\n",
      "image 3668/4118 /home/anderste/ikt450-deep-neural-networks/DNN-prosjekt/segmentation_data_new/test/images/fish_004403087137_20214.png: 128x128 1 4, 7.6ms\n",
      "image 3669/4118 /home/anderste/ikt450-deep-neural-networks/DNN-prosjekt/segmentation_data_new/test/images/fish_004403087137_25115.png: 128x128 1 4, 10.6ms\n",
      "image 3670/4118 /home/anderste/ikt450-deep-neural-networks/DNN-prosjekt/segmentation_data_new/test/images/fish_004403337137_18452.png: 128x128 1 4, 7.7ms\n",
      "image 3671/4118 /home/anderste/ikt450-deep-neural-networks/DNN-prosjekt/segmentation_data_new/test/images/fish_004403337137_21239.png: 128x128 1 4, 7.8ms\n",
      "image 3672/4118 /home/anderste/ikt450-deep-neural-networks/DNN-prosjekt/segmentation_data_new/test/images/fish_004404217139_21218.png: 128x128 1 4, 8.0ms\n",
      "image 3673/4118 /home/anderste/ikt450-deep-neural-networks/DNN-prosjekt/segmentation_data_new/test/images/fish_004404217139_23716.png: 128x128 1 4, 7.7ms\n",
      "image 3674/4118 /home/anderste/ikt450-deep-neural-networks/DNN-prosjekt/segmentation_data_new/test/images/fish_004406547141_18745.png: 128x128 1 4, 7.7ms\n",
      "image 3675/4118 /home/anderste/ikt450-deep-neural-networks/DNN-prosjekt/segmentation_data_new/test/images/fish_004409307147_10012.png: 128x128 1 1, 7.6ms\n",
      "image 3676/4118 /home/anderste/ikt450-deep-neural-networks/DNN-prosjekt/segmentation_data_new/test/images/fish_004409617147_16781.png: 128x128 1 2, 1 3, 7.6ms\n",
      "image 3677/4118 /home/anderste/ikt450-deep-neural-networks/DNN-prosjekt/segmentation_data_new/test/images/fish_004409727147_15502.png: 128x128 1 2, 7.7ms\n",
      "image 3678/4118 /home/anderste/ikt450-deep-neural-networks/DNN-prosjekt/segmentation_data_new/test/images/fish_004410077147_09115.png: 128x128 1 3, 7.6ms\n",
      "image 3679/4118 /home/anderste/ikt450-deep-neural-networks/DNN-prosjekt/segmentation_data_new/test/images/fish_004410217147_26045.png: 128x128 1 3, 7.5ms\n",
      "image 3680/4118 /home/anderste/ikt450-deep-neural-networks/DNN-prosjekt/segmentation_data_new/test/images/fish_004410277147_22752.png: 128x128 1 3, 8.9ms\n",
      "image 3681/4118 /home/anderste/ikt450-deep-neural-networks/DNN-prosjekt/segmentation_data_new/test/images/fish_004413277149_11200.png: 128x128 1 9, 7.8ms\n",
      "image 3682/4118 /home/anderste/ikt450-deep-neural-networks/DNN-prosjekt/segmentation_data_new/test/images/fish_004413297149_17946.png: 96x128 1 9, 8.4ms\n",
      "image 3683/4118 /home/anderste/ikt450-deep-neural-networks/DNN-prosjekt/segmentation_data_new/test/images/fish_004413757149_23143.png: 128x128 1 2, 8.1ms\n",
      "image 3684/4118 /home/anderste/ikt450-deep-neural-networks/DNN-prosjekt/segmentation_data_new/test/images/fish_004413757149_23657.png: 128x128 1 2, 7.7ms\n",
      "image 3685/4118 /home/anderste/ikt450-deep-neural-networks/DNN-prosjekt/segmentation_data_new/test/images/fish_004413817149_16132.png: 128x128 1 2, 7.6ms\n",
      "image 3686/4118 /home/anderste/ikt450-deep-neural-networks/DNN-prosjekt/segmentation_data_new/test/images/fish_004414157149_22405.png: 128x128 1 1, 7.6ms\n",
      "image 3687/4118 /home/anderste/ikt450-deep-neural-networks/DNN-prosjekt/segmentation_data_new/test/images/fish_004414237149_23513.png: 128x128 1 2, 7.6ms\n",
      "image 3688/4118 /home/anderste/ikt450-deep-neural-networks/DNN-prosjekt/segmentation_data_new/test/images/fish_004414457149_09654.png: 128x128 1 1, 7.7ms\n",
      "image 3689/4118 /home/anderste/ikt450-deep-neural-networks/DNN-prosjekt/segmentation_data_new/test/images/fish_004414567149_10349.png: 128x128 1 1, 7.7ms\n",
      "image 3690/4118 /home/anderste/ikt450-deep-neural-networks/DNN-prosjekt/segmentation_data_new/test/images/fish_004415177150_26118.png: 128x128 1 2, 8.4ms\n",
      "image 3691/4118 /home/anderste/ikt450-deep-neural-networks/DNN-prosjekt/segmentation_data_new/test/images/fish_004415387150_13277.png: 128x128 1 2, 7.6ms\n",
      "image 3692/4118 /home/anderste/ikt450-deep-neural-networks/DNN-prosjekt/segmentation_data_new/test/images/fish_004415427150_15106.png: 128x128 1 3, 7.6ms\n",
      "image 3693/4118 /home/anderste/ikt450-deep-neural-networks/DNN-prosjekt/segmentation_data_new/test/images/fish_004415457150_26219.png: 128x128 1 2, 7.8ms\n",
      "image 3694/4118 /home/anderste/ikt450-deep-neural-networks/DNN-prosjekt/segmentation_data_new/test/images/fish_004418707161_24889.png: 128x128 1 1, 7.6ms\n",
      "image 3695/4118 /home/anderste/ikt450-deep-neural-networks/DNN-prosjekt/segmentation_data_new/test/images/fish_004418797161_21653.png: 128x128 1 1, 7.6ms\n",
      "image 3696/4118 /home/anderste/ikt450-deep-neural-networks/DNN-prosjekt/segmentation_data_new/test/images/fish_004419187161_17373.png: 128x128 1 1, 7.7ms\n",
      "image 3697/4118 /home/anderste/ikt450-deep-neural-networks/DNN-prosjekt/segmentation_data_new/test/images/fish_004421457170_11169.png: 128x128 1 1, 7.7ms\n",
      "image 3698/4118 /home/anderste/ikt450-deep-neural-networks/DNN-prosjekt/segmentation_data_new/test/images/fish_004421457170_24834.png: 128x128 1 1, 7.7ms\n",
      "image 3699/4118 /home/anderste/ikt450-deep-neural-networks/DNN-prosjekt/segmentation_data_new/test/images/fish_004421467170_14330.png: 128x128 1 1, 7.6ms\n",
      "image 3700/4118 /home/anderste/ikt450-deep-neural-networks/DNN-prosjekt/segmentation_data_new/test/images/fish_004426207184_27023.png: 128x128 1 1, 7.8ms\n",
      "image 3701/4118 /home/anderste/ikt450-deep-neural-networks/DNN-prosjekt/segmentation_data_new/test/images/fish_004426307184_18135.png: 128x128 1 1, 7.5ms\n",
      "image 3702/4118 /home/anderste/ikt450-deep-neural-networks/DNN-prosjekt/segmentation_data_new/test/images/fish_004426337184_15661.png: 128x128 1 1, 7.5ms\n",
      "image 3703/4118 /home/anderste/ikt450-deep-neural-networks/DNN-prosjekt/segmentation_data_new/test/images/fish_004426387184_10598.png: 128x128 1 1, 7.6ms\n",
      "image 3704/4118 /home/anderste/ikt450-deep-neural-networks/DNN-prosjekt/segmentation_data_new/test/images/fish_004427077186_10853.png: 128x128 1 2, 8.0ms\n",
      "image 3705/4118 /home/anderste/ikt450-deep-neural-networks/DNN-prosjekt/segmentation_data_new/test/images/fish_004427227186_13158.png: 128x128 1 2, 7.6ms\n",
      "image 3706/4118 /home/anderste/ikt450-deep-neural-networks/DNN-prosjekt/segmentation_data_new/test/images/fish_004427237186_27302.png: 128x128 1 2, 7.7ms\n",
      "image 3707/4118 /home/anderste/ikt450-deep-neural-networks/DNN-prosjekt/segmentation_data_new/test/images/fish_004427307186_10850.png: 128x128 1 2, 7.7ms\n",
      "image 3708/4118 /home/anderste/ikt450-deep-neural-networks/DNN-prosjekt/segmentation_data_new/test/images/fish_004427327186_26443.png: 128x128 1 2, 7.8ms\n",
      "image 3709/4118 /home/anderste/ikt450-deep-neural-networks/DNN-prosjekt/segmentation_data_new/test/images/fish_004427387187_13782.png: 128x128 1 3, 1 4, 7.8ms\n",
      "image 3710/4118 /home/anderste/ikt450-deep-neural-networks/DNN-prosjekt/segmentation_data_new/test/images/fish_004427407186_16861.png: 128x128 1 2, 7.7ms\n",
      "image 3711/4118 /home/anderste/ikt450-deep-neural-networks/DNN-prosjekt/segmentation_data_new/test/images/fish_004427407186_26956.png: 128x128 1 2, 7.7ms\n",
      "image 3712/4118 /home/anderste/ikt450-deep-neural-networks/DNN-prosjekt/segmentation_data_new/test/images/fish_004427457186_13717.png: 128x128 1 2, 7.7ms\n",
      "image 3713/4118 /home/anderste/ikt450-deep-neural-networks/DNN-prosjekt/segmentation_data_new/test/images/fish_004427457186_26343.png: 128x128 1 2, 7.8ms\n",
      "image 3714/4118 /home/anderste/ikt450-deep-neural-networks/DNN-prosjekt/segmentation_data_new/test/images/fish_004427637186_26787.png: 128x128 1 2, 7.8ms\n",
      "image 3715/4118 /home/anderste/ikt450-deep-neural-networks/DNN-prosjekt/segmentation_data_new/test/images/fish_004427667186_13133.png: 128x128 1 2, 7.7ms\n",
      "image 3716/4118 /home/anderste/ikt450-deep-neural-networks/DNN-prosjekt/segmentation_data_new/test/images/fish_004427667186_26890.png: 128x128 1 2, 7.7ms\n",
      "image 3717/4118 /home/anderste/ikt450-deep-neural-networks/DNN-prosjekt/segmentation_data_new/test/images/fish_004427677186_13205.png: 128x128 1 2, 7.7ms\n",
      "image 3718/4118 /home/anderste/ikt450-deep-neural-networks/DNN-prosjekt/segmentation_data_new/test/images/fish_004427737186_14044.png: 128x128 1 2, 7.7ms\n",
      "image 3719/4118 /home/anderste/ikt450-deep-neural-networks/DNN-prosjekt/segmentation_data_new/test/images/fish_004428667188_15540.png: 128x128 1 1, 7.7ms\n",
      "image 3720/4118 /home/anderste/ikt450-deep-neural-networks/DNN-prosjekt/segmentation_data_new/test/images/fish_004428667188_18319.png: 128x128 1 1, 7.7ms\n",
      "image 3721/4118 /home/anderste/ikt450-deep-neural-networks/DNN-prosjekt/segmentation_data_new/test/images/fish_004428667188_25259.png: 128x128 1 1, 7.9ms\n",
      "image 3722/4118 /home/anderste/ikt450-deep-neural-networks/DNN-prosjekt/segmentation_data_new/test/images/fish_004428687188_26997.png: 128x128 1 1, 7.6ms\n",
      "image 3723/4118 /home/anderste/ikt450-deep-neural-networks/DNN-prosjekt/segmentation_data_new/test/images/fish_004428697188_23312.png: 128x128 1 1, 8.4ms\n",
      "image 3724/4118 /home/anderste/ikt450-deep-neural-networks/DNN-prosjekt/segmentation_data_new/test/images/fish_004429037188_10475.png: 128x128 1 1, 7.7ms\n",
      "image 3725/4118 /home/anderste/ikt450-deep-neural-networks/DNN-prosjekt/segmentation_data_new/test/images/fish_004429177189_25387.png: 128x128 1 3, 7.9ms\n",
      "image 3726/4118 /home/anderste/ikt450-deep-neural-networks/DNN-prosjekt/segmentation_data_new/test/images/fish_004429187188_22361.png: 128x128 1 1, 7.6ms\n",
      "image 3727/4118 /home/anderste/ikt450-deep-neural-networks/DNN-prosjekt/segmentation_data_new/test/images/fish_004429237188_18739.png: 128x128 1 0, 1 1, 8.0ms\n",
      "image 3728/4118 /home/anderste/ikt450-deep-neural-networks/DNN-prosjekt/segmentation_data_new/test/images/fish_004429537189_21871.png: 128x128 1 3, 7.7ms\n",
      "image 3729/4118 /home/anderste/ikt450-deep-neural-networks/DNN-prosjekt/segmentation_data_new/test/images/fish_004430057190_22073.png: 128x128 1 1, 7.8ms\n",
      "image 3730/4118 /home/anderste/ikt450-deep-neural-networks/DNN-prosjekt/segmentation_data_new/test/images/fish_004430157190_15722.png: 128x128 1 1, 7.6ms\n",
      "image 3731/4118 /home/anderste/ikt450-deep-neural-networks/DNN-prosjekt/segmentation_data_new/test/images/fish_004430157190_27187.png: 128x128 1 1, 7.6ms\n",
      "image 3732/4118 /home/anderste/ikt450-deep-neural-networks/DNN-prosjekt/segmentation_data_new/test/images/fish_004430467189_24680.png: 128x128 1 2, 7.7ms\n",
      "image 3733/4118 /home/anderste/ikt450-deep-neural-networks/DNN-prosjekt/segmentation_data_new/test/images/fish_004430617189_09743.png: 128x128 1 2, 7.7ms\n",
      "image 3734/4118 /home/anderste/ikt450-deep-neural-networks/DNN-prosjekt/segmentation_data_new/test/images/fish_004431807191_26950.png: 128x128 1 2, 7.7ms\n",
      "image 3735/4118 /home/anderste/ikt450-deep-neural-networks/DNN-prosjekt/segmentation_data_new/test/images/fish_004432147191_26861.png: 128x128 1 2, 7.9ms\n",
      "image 3736/4118 /home/anderste/ikt450-deep-neural-networks/DNN-prosjekt/segmentation_data_new/test/images/fish_004432247191_27054.png: 128x128 1 2, 7.7ms\n",
      "image 3737/4118 /home/anderste/ikt450-deep-neural-networks/DNN-prosjekt/segmentation_data_new/test/images/fish_004432307191_26840.png: 128x128 1 2, 7.6ms\n",
      "image 3738/4118 /home/anderste/ikt450-deep-neural-networks/DNN-prosjekt/segmentation_data_new/test/images/fish_004432617191_26374.png: 128x128 1 2, 7.6ms\n",
      "image 3739/4118 /home/anderste/ikt450-deep-neural-networks/DNN-prosjekt/segmentation_data_new/test/images/fish_004432847191_13233.png: 128x128 1 2, 7.6ms\n",
      "image 3740/4118 /home/anderste/ikt450-deep-neural-networks/DNN-prosjekt/segmentation_data_new/test/images/fish_004433147191_26371.png: 128x128 1 2, 7.6ms\n",
      "image 3741/4118 /home/anderste/ikt450-deep-neural-networks/DNN-prosjekt/segmentation_data_new/test/images/fish_004433147191_26853.png: 128x128 1 2, 7.6ms\n",
      "image 3742/4118 /home/anderste/ikt450-deep-neural-networks/DNN-prosjekt/segmentation_data_new/test/images/fish_004433157191_12347.png: 128x128 1 1, 7.8ms\n",
      "image 3743/4118 /home/anderste/ikt450-deep-neural-networks/DNN-prosjekt/segmentation_data_new/test/images/fish_004433307191_26441.png: 128x128 1 2, 7.6ms\n",
      "image 3744/4118 /home/anderste/ikt450-deep-neural-networks/DNN-prosjekt/segmentation_data_new/test/images/fish_004433327191_26467.png: 128x128 1 2, 8.4ms\n",
      "image 3745/4118 /home/anderste/ikt450-deep-neural-networks/DNN-prosjekt/segmentation_data_new/test/images/fish_004433327191_26860.png: 128x128 1 2, 8.3ms\n",
      "image 3746/4118 /home/anderste/ikt450-deep-neural-networks/DNN-prosjekt/segmentation_data_new/test/images/fish_004435967192_24596.png: 128x128 1 0, 1 1, 7.8ms\n",
      "image 3747/4118 /home/anderste/ikt450-deep-neural-networks/DNN-prosjekt/segmentation_data_new/test/images/fish_004436577192_12973.png: 128x128 1 3, 7.7ms\n",
      "image 3748/4118 /home/anderste/ikt450-deep-neural-networks/DNN-prosjekt/segmentation_data_new/test/images/fish_004436577192_24920.png: 128x128 1 3, 8.7ms\n",
      "image 3749/4118 /home/anderste/ikt450-deep-neural-networks/DNN-prosjekt/segmentation_data_new/test/images/fish_004437347192_10378.png: 128x128 1 1, 7.7ms\n",
      "image 3750/4118 /home/anderste/ikt450-deep-neural-networks/DNN-prosjekt/segmentation_data_new/test/images/fish_004437347192_10451.png: 128x128 1 1, 7.7ms\n",
      "image 3751/4118 /home/anderste/ikt450-deep-neural-networks/DNN-prosjekt/segmentation_data_new/test/images/fish_004437347192_25220.png: 128x128 1 1, 7.7ms\n",
      "image 3752/4118 /home/anderste/ikt450-deep-neural-networks/DNN-prosjekt/segmentation_data_new/test/images/fish_004439857195_17010.png: 128x128 1 3, 7.7ms\n",
      "image 3753/4118 /home/anderste/ikt450-deep-neural-networks/DNN-prosjekt/segmentation_data_new/test/images/fish_004441467194_11483.png: 128x128 1 1, 1 2, 7.6ms\n",
      "image 3754/4118 /home/anderste/ikt450-deep-neural-networks/DNN-prosjekt/segmentation_data_new/test/images/fish_004442137196_13099.png: 128x128 1 2, 7.7ms\n",
      "image 3755/4118 /home/anderste/ikt450-deep-neural-networks/DNN-prosjekt/segmentation_data_new/test/images/fish_004443717197_15181.png: 128x128 1 3, 7.9ms\n",
      "image 3756/4118 /home/anderste/ikt450-deep-neural-networks/DNN-prosjekt/segmentation_data_new/test/images/fish_004443717197_20565.png: 128x128 1 3, 7.7ms\n",
      "image 3757/4118 /home/anderste/ikt450-deep-neural-networks/DNN-prosjekt/segmentation_data_new/test/images/fish_004444047197_10129.png: 128x128 1 3, 7.7ms\n",
      "image 3758/4118 /home/anderste/ikt450-deep-neural-networks/DNN-prosjekt/segmentation_data_new/test/images/fish_004444497197_10104.png: 128x128 1 3, 7.8ms\n",
      "image 3759/4118 /home/anderste/ikt450-deep-neural-networks/DNN-prosjekt/segmentation_data_new/test/images/fish_004448337200_11298.png: 128x128 1 4, 7.8ms\n",
      "image 3760/4118 /home/anderste/ikt450-deep-neural-networks/DNN-prosjekt/segmentation_data_new/test/images/fish_004448337200_20953.png: 128x128 1 3, 1 4, 7.7ms\n",
      "image 3761/4118 /home/anderste/ikt450-deep-neural-networks/DNN-prosjekt/segmentation_data_new/test/images/fish_004449647202_11505.png: 128x128 1 4, 7.6ms\n",
      "image 3762/4118 /home/anderste/ikt450-deep-neural-networks/DNN-prosjekt/segmentation_data_new/test/images/fish_004449647202_13641.png: 128x128 1 4, 7.6ms\n",
      "image 3763/4118 /home/anderste/ikt450-deep-neural-networks/DNN-prosjekt/segmentation_data_new/test/images/fish_004449647202_18050.png: 128x128 1 4, 7.6ms\n",
      "image 3764/4118 /home/anderste/ikt450-deep-neural-networks/DNN-prosjekt/segmentation_data_new/test/images/fish_004449657202_19084.png: 128x128 1 4, 7.6ms\n",
      "image 3765/4118 /home/anderste/ikt450-deep-neural-networks/DNN-prosjekt/segmentation_data_new/test/images/fish_004449677202_22517.png: 128x128 1 3, 7.6ms\n",
      "image 3766/4118 /home/anderste/ikt450-deep-neural-networks/DNN-prosjekt/segmentation_data_new/test/images/fish_004449717202_21237.png: 128x128 1 3, 1 4, 7.7ms\n",
      "image 3767/4118 /home/anderste/ikt450-deep-neural-networks/DNN-prosjekt/segmentation_data_new/test/images/fish_004449737202_13652.png: 128x128 1 4, 8.4ms\n",
      "image 3768/4118 /home/anderste/ikt450-deep-neural-networks/DNN-prosjekt/segmentation_data_new/test/images/fish_004449757202_08978.png: 128x128 1 3, 7.7ms\n",
      "image 3769/4118 /home/anderste/ikt450-deep-neural-networks/DNN-prosjekt/segmentation_data_new/test/images/fish_004449757202_08995.png: 128x128 1 3, 7.9ms\n",
      "image 3770/4118 /home/anderste/ikt450-deep-neural-networks/DNN-prosjekt/segmentation_data_new/test/images/fish_004449787202_21397.png: 128x128 1 3, 1 4, 7.7ms\n",
      "image 3771/4118 /home/anderste/ikt450-deep-neural-networks/DNN-prosjekt/segmentation_data_new/test/images/fish_004449907202_09006.png: 128x128 1 4, 7.7ms\n",
      "image 3772/4118 /home/anderste/ikt450-deep-neural-networks/DNN-prosjekt/segmentation_data_new/test/images/fish_004452067210_21177.png: 128x128 1 4, 8.1ms\n",
      "image 3773/4118 /home/anderste/ikt450-deep-neural-networks/DNN-prosjekt/segmentation_data_new/test/images/fish_004452547212_20795.png: 128x128 1 3, 7.8ms\n",
      "image 3774/4118 /home/anderste/ikt450-deep-neural-networks/DNN-prosjekt/segmentation_data_new/test/images/fish_004454407217_19994.png: 128x128 1 3, 8.1ms\n",
      "image 3775/4118 /home/anderste/ikt450-deep-neural-networks/DNN-prosjekt/segmentation_data_new/test/images/fish_004455597220_27315.png: 128x128 1 0, 10.2ms\n",
      "image 3776/4118 /home/anderste/ikt450-deep-neural-networks/DNN-prosjekt/segmentation_data_new/test/images/fish_004457977223_19064.png: 128x128 1 0, 7.8ms\n",
      "image 3777/4118 /home/anderste/ikt450-deep-neural-networks/DNN-prosjekt/segmentation_data_new/test/images/fish_004458057223_27154.png: 128x128 1 1, 7.6ms\n",
      "image 3778/4118 /home/anderste/ikt450-deep-neural-networks/DNN-prosjekt/segmentation_data_new/test/images/fish_004460297236_09376.png: 128x128 1 4, 8.5ms\n",
      "image 3779/4118 /home/anderste/ikt450-deep-neural-networks/DNN-prosjekt/segmentation_data_new/test/images/fish_004460907244_20808.png: 128x128 1 1, 7.8ms\n",
      "image 3780/4118 /home/anderste/ikt450-deep-neural-networks/DNN-prosjekt/segmentation_data_new/test/images/fish_004460907244_20813.png: 128x128 1 1, 7.4ms\n",
      "image 3781/4118 /home/anderste/ikt450-deep-neural-networks/DNN-prosjekt/segmentation_data_new/test/images/fish_004460917244_18082.png: 128x128 1 1, 7.6ms\n",
      "image 3782/4118 /home/anderste/ikt450-deep-neural-networks/DNN-prosjekt/segmentation_data_new/test/images/fish_004460917244_21599.png: 128x128 1 1, 7.8ms\n",
      "image 3783/4118 /home/anderste/ikt450-deep-neural-networks/DNN-prosjekt/segmentation_data_new/test/images/fish_004460917244_25164.png: 128x128 1 1, 7.6ms\n",
      "image 3784/4118 /home/anderste/ikt450-deep-neural-networks/DNN-prosjekt/segmentation_data_new/test/images/fish_004461147244_15891.png: 128x128 1 1, 7.6ms\n",
      "image 3785/4118 /home/anderste/ikt450-deep-neural-networks/DNN-prosjekt/segmentation_data_new/test/images/fish_004461217245_26815.png: 128x128 1 2, 7.7ms\n",
      "image 3786/4118 /home/anderste/ikt450-deep-neural-networks/DNN-prosjekt/segmentation_data_new/test/images/fish_004461227244_17600.png: 128x128 1 1, 7.7ms\n",
      "image 3787/4118 /home/anderste/ikt450-deep-neural-networks/DNN-prosjekt/segmentation_data_new/test/images/fish_004461227244_20818.png: 128x128 1 1, 7.6ms\n",
      "image 3788/4118 /home/anderste/ikt450-deep-neural-networks/DNN-prosjekt/segmentation_data_new/test/images/fish_004461337244_16448.png: 128x128 1 1, 7.7ms\n",
      "image 3789/4118 /home/anderste/ikt450-deep-neural-networks/DNN-prosjekt/segmentation_data_new/test/images/fish_004461707244_24566.png: 128x128 1 1, 7.6ms\n",
      "image 3790/4118 /home/anderste/ikt450-deep-neural-networks/DNN-prosjekt/segmentation_data_new/test/images/fish_004461757244_16485.png: 128x128 1 1, 7.7ms\n",
      "image 3791/4118 /home/anderste/ikt450-deep-neural-networks/DNN-prosjekt/segmentation_data_new/test/images/fish_004461777244_16460.png: 128x128 1 1, 7.7ms\n",
      "image 3792/4118 /home/anderste/ikt450-deep-neural-networks/DNN-prosjekt/segmentation_data_new/test/images/fish_004461777244_17551.png: 128x128 1 0, 1 1, 7.7ms\n",
      "image 3793/4118 /home/anderste/ikt450-deep-neural-networks/DNN-prosjekt/segmentation_data_new/test/images/fish_004461777244_18495.png: 128x128 1 1, 7.7ms\n",
      "image 3794/4118 /home/anderste/ikt450-deep-neural-networks/DNN-prosjekt/segmentation_data_new/test/images/fish_004461787244_20896.png: 128x128 1 1, 7.6ms\n",
      "image 3795/4118 /home/anderste/ikt450-deep-neural-networks/DNN-prosjekt/segmentation_data_new/test/images/fish_004461827244_19276.png: 128x128 1 1, 7.6ms\n",
      "image 3796/4118 /home/anderste/ikt450-deep-neural-networks/DNN-prosjekt/segmentation_data_new/test/images/fish_004461897244_13992.png: 128x128 1 1, 7.6ms\n",
      "image 3797/4118 /home/anderste/ikt450-deep-neural-networks/DNN-prosjekt/segmentation_data_new/test/images/fish_004461897244_14306.png: 128x128 1 1, 8.0ms\n",
      "image 3798/4118 /home/anderste/ikt450-deep-neural-networks/DNN-prosjekt/segmentation_data_new/test/images/fish_004461937244_10650.png: 128x128 1 1, 7.8ms\n",
      "image 3799/4118 /home/anderste/ikt450-deep-neural-networks/DNN-prosjekt/segmentation_data_new/test/images/fish_004461937244_24978.png: 128x128 1 1, 7.7ms\n",
      "image 3800/4118 /home/anderste/ikt450-deep-neural-networks/DNN-prosjekt/segmentation_data_new/test/images/fish_004461937244_25037.png: 128x128 1 1, 7.7ms\n",
      "image 3801/4118 /home/anderste/ikt450-deep-neural-networks/DNN-prosjekt/segmentation_data_new/test/images/fish_004465097252_12937.png: 128x128 1 1, 10.3ms\n",
      "image 3802/4118 /home/anderste/ikt450-deep-neural-networks/DNN-prosjekt/segmentation_data_new/test/images/fish_004465307252_17592.png: 128x128 1 1, 7.8ms\n",
      "image 3803/4118 /home/anderste/ikt450-deep-neural-networks/DNN-prosjekt/segmentation_data_new/test/images/fish_004465437252_14458.png: 128x128 1 1, 8.4ms\n",
      "image 3804/4118 /home/anderste/ikt450-deep-neural-networks/DNN-prosjekt/segmentation_data_new/test/images/fish_004470377254_22910.png: 128x128 1 3, 7.8ms\n",
      "image 3805/4118 /home/anderste/ikt450-deep-neural-networks/DNN-prosjekt/segmentation_data_new/test/images/fish_004474437254_15353.png: 128x128 1 3, 7.8ms\n",
      "image 3806/4118 /home/anderste/ikt450-deep-neural-networks/DNN-prosjekt/segmentation_data_new/test/images/fish_004474967255_20339.png: 128x128 1 0, 7.7ms\n",
      "image 3807/4118 /home/anderste/ikt450-deep-neural-networks/DNN-prosjekt/segmentation_data_new/test/images/fish_004474997254_10030.png: 128x128 1 3, 7.7ms\n",
      "image 3808/4118 /home/anderste/ikt450-deep-neural-networks/DNN-prosjekt/segmentation_data_new/test/images/fish_004474997254_12497.png: 128x128 1 3, 7.7ms\n",
      "image 3809/4118 /home/anderste/ikt450-deep-neural-networks/DNN-prosjekt/segmentation_data_new/test/images/fish_004475017254_23777.png: 128x128 1 0, 1 1, 7.7ms\n",
      "image 3810/4118 /home/anderste/ikt450-deep-neural-networks/DNN-prosjekt/segmentation_data_new/test/images/fish_004475057254_22677.png: 128x128 1 0, 1 1, 7.7ms\n",
      "image 3811/4118 /home/anderste/ikt450-deep-neural-networks/DNN-prosjekt/segmentation_data_new/test/images/fish_004475087254_15824.png: 128x128 1 9, 7.9ms\n",
      "image 3812/4118 /home/anderste/ikt450-deep-neural-networks/DNN-prosjekt/segmentation_data_new/test/images/fish_004475117254_14943.png: 128x128 1 3, 8.2ms\n",
      "image 3813/4118 /home/anderste/ikt450-deep-neural-networks/DNN-prosjekt/segmentation_data_new/test/images/fish_004476147256_16096.png: 128x128 1 5, 7.7ms\n",
      "image 3814/4118 /home/anderste/ikt450-deep-neural-networks/DNN-prosjekt/segmentation_data_new/test/images/fish_004476757256_15936.png: 128x128 1 5, 8.0ms\n",
      "image 3815/4118 /home/anderste/ikt450-deep-neural-networks/DNN-prosjekt/segmentation_data_new/test/images/fish_004476787256_16191.png: 128x128 1 5, 8.6ms\n",
      "image 3816/4118 /home/anderste/ikt450-deep-neural-networks/DNN-prosjekt/segmentation_data_new/test/images/fish_004476867256_16183.png: 128x128 1 5, 7.6ms\n",
      "image 3817/4118 /home/anderste/ikt450-deep-neural-networks/DNN-prosjekt/segmentation_data_new/test/images/fish_004479959607_04501.png: 128x128 1 6, 7.7ms\n",
      "image 3818/4118 /home/anderste/ikt450-deep-neural-networks/DNN-prosjekt/segmentation_data_new/test/images/fish_004480657258_11278.png: 128x128 1 1, 7.7ms\n",
      "image 3819/4118 /home/anderste/ikt450-deep-neural-networks/DNN-prosjekt/segmentation_data_new/test/images/fish_004480697258_09117.png: 128x128 1 2, 1 3, 7.7ms\n",
      "image 3820/4118 /home/anderste/ikt450-deep-neural-networks/DNN-prosjekt/segmentation_data_new/test/images/fish_004480727258_24633.png: 128x128 1 3, 8.9ms\n",
      "image 3821/4118 /home/anderste/ikt450-deep-neural-networks/DNN-prosjekt/segmentation_data_new/test/images/fish_004489337261_17162.png: 128x128 1 2, 7.9ms\n",
      "image 3822/4118 /home/anderste/ikt450-deep-neural-networks/DNN-prosjekt/segmentation_data_new/test/images/fish_004489337261_17164.png: 128x128 1 2, 7.8ms\n",
      "image 3823/4118 /home/anderste/ikt450-deep-neural-networks/DNN-prosjekt/segmentation_data_new/test/images/fish_004489337261_17172.png: 128x128 1 2, 7.7ms\n",
      "image 3824/4118 /home/anderste/ikt450-deep-neural-networks/DNN-prosjekt/segmentation_data_new/test/images/fish_004489337261_17283.png: 128x128 1 2, 7.5ms\n",
      "image 3825/4118 /home/anderste/ikt450-deep-neural-networks/DNN-prosjekt/segmentation_data_new/test/images/fish_004490627261_17247.png: 128x128 1 3, 8.2ms\n",
      "image 3826/4118 /home/anderste/ikt450-deep-neural-networks/DNN-prosjekt/segmentation_data_new/test/images/fish_004490657261_15464.png: 128x128 1 3, 8.0ms\n",
      "image 3827/4118 /home/anderste/ikt450-deep-neural-networks/DNN-prosjekt/segmentation_data_new/test/images/fish_004490657261_15700.png: 128x128 1 3, 7.8ms\n",
      "image 3828/4118 /home/anderste/ikt450-deep-neural-networks/DNN-prosjekt/segmentation_data_new/test/images/fish_004491057262_16470.png: 128x128 1 3, 7.7ms\n",
      "image 3829/4118 /home/anderste/ikt450-deep-neural-networks/DNN-prosjekt/segmentation_data_new/test/images/fish_004491267262_26274.png: 128x128 1 2, 7.7ms\n",
      "image 3830/4118 /home/anderste/ikt450-deep-neural-networks/DNN-prosjekt/segmentation_data_new/test/images/fish_004491267262_26825.png: 128x128 1 2, 7.7ms\n",
      "image 3831/4118 /home/anderste/ikt450-deep-neural-networks/DNN-prosjekt/segmentation_data_new/test/images/fish_004493047264_11823.png: 128x128 1 16, 7.7ms\n",
      "image 3832/4118 /home/anderste/ikt450-deep-neural-networks/DNN-prosjekt/segmentation_data_new/test/images/fish_004494387266_26742.png: 128x128 1 1, 7.9ms\n",
      "image 3833/4118 /home/anderste/ikt450-deep-neural-networks/DNN-prosjekt/segmentation_data_new/test/images/fish_004495287268_24625.png: 128x128 (no detections), 7.8ms\n",
      "image 3834/4118 /home/anderste/ikt450-deep-neural-networks/DNN-prosjekt/segmentation_data_new/test/images/fish_004496117271_12372.png: 128x128 1 3, 7.8ms\n",
      "image 3835/4118 /home/anderste/ikt450-deep-neural-networks/DNN-prosjekt/segmentation_data_new/test/images/fish_004496177271_09326.png: 128x128 1 4, 7.6ms\n",
      "image 3836/4118 /home/anderste/ikt450-deep-neural-networks/DNN-prosjekt/segmentation_data_new/test/images/fish_004496187271_09484.png: 128x128 1 4, 7.7ms\n",
      "image 3837/4118 /home/anderste/ikt450-deep-neural-networks/DNN-prosjekt/segmentation_data_new/test/images/fish_004496577272_18572.png: 128x128 1 5, 7.7ms\n",
      "image 3838/4118 /home/anderste/ikt450-deep-neural-networks/DNN-prosjekt/segmentation_data_new/test/images/fish_004496577272_19455.png: 128x128 1 5, 7.7ms\n",
      "image 3839/4118 /home/anderste/ikt450-deep-neural-networks/DNN-prosjekt/segmentation_data_new/test/images/fish_004496577272_19625.png: 128x128 1 5, 7.7ms\n",
      "image 3840/4118 /home/anderste/ikt450-deep-neural-networks/DNN-prosjekt/segmentation_data_new/test/images/fish_004496587272_11514.png: 128x128 1 5, 7.6ms\n",
      "image 3841/4118 /home/anderste/ikt450-deep-neural-networks/DNN-prosjekt/segmentation_data_new/test/images/fish_004496587272_12572.png: 128x128 1 5, 7.6ms\n",
      "image 3842/4118 /home/anderste/ikt450-deep-neural-networks/DNN-prosjekt/segmentation_data_new/test/images/fish_004496637272_11454.png: 128x128 1 5, 7.7ms\n",
      "image 3843/4118 /home/anderste/ikt450-deep-neural-networks/DNN-prosjekt/segmentation_data_new/test/images/fish_004496637272_19492.png: 128x128 1 5, 7.9ms\n",
      "image 3844/4118 /home/anderste/ikt450-deep-neural-networks/DNN-prosjekt/segmentation_data_new/test/images/fish_004497007273_25159.png: 128x128 1 1, 7.7ms\n",
      "image 3845/4118 /home/anderste/ikt450-deep-neural-networks/DNN-prosjekt/segmentation_data_new/test/images/fish_004497067273_25234.png: 128x128 1 1, 7.8ms\n",
      "image 3846/4118 /home/anderste/ikt450-deep-neural-networks/DNN-prosjekt/segmentation_data_new/test/images/fish_004497127273_19248.png: 128x128 1 0, 7.8ms\n",
      "image 3847/4118 /home/anderste/ikt450-deep-neural-networks/DNN-prosjekt/segmentation_data_new/test/images/fish_004497147273_15511.png: 128x128 1 1, 7.7ms\n",
      "image 3848/4118 /home/anderste/ikt450-deep-neural-networks/DNN-prosjekt/segmentation_data_new/test/images/fish_004497447274_19018.png: 128x128 1 3, 7.7ms\n",
      "image 3849/4118 /home/anderste/ikt450-deep-neural-networks/DNN-prosjekt/segmentation_data_new/test/images/fish_004497457273_22078.png: 128x128 1 1, 7.6ms\n",
      "image 3850/4118 /home/anderste/ikt450-deep-neural-networks/DNN-prosjekt/segmentation_data_new/test/images/fish_004497517273_24620.png: 128x128 1 1, 7.7ms\n",
      "image 3851/4118 /home/anderste/ikt450-deep-neural-networks/DNN-prosjekt/segmentation_data_new/test/images/fish_004497697273_20189.png: 128x128 1 1, 7.6ms\n",
      "image 3852/4118 /home/anderste/ikt450-deep-neural-networks/DNN-prosjekt/segmentation_data_new/test/images/fish_004497737273_20474.png: 128x128 1 1, 7.7ms\n",
      "image 3853/4118 /home/anderste/ikt450-deep-neural-networks/DNN-prosjekt/segmentation_data_new/test/images/fish_004497787273_27185.png: 128x128 1 1, 7.5ms\n",
      "image 3854/4118 /home/anderste/ikt450-deep-neural-networks/DNN-prosjekt/segmentation_data_new/test/images/fish_004497797273_27199.png: 128x128 1 1, 7.6ms\n",
      "image 3855/4118 /home/anderste/ikt450-deep-neural-networks/DNN-prosjekt/segmentation_data_new/test/images/fish_004498947275_21435.png: 128x128 1 3, 1 4, 7.7ms\n",
      "image 3856/4118 /home/anderste/ikt450-deep-neural-networks/DNN-prosjekt/segmentation_data_new/test/images/fish_004500087280_26550.png: 128x128 1 1, 8.4ms\n",
      "image 3857/4118 /home/anderste/ikt450-deep-neural-networks/DNN-prosjekt/segmentation_data_new/test/images/fish_004501857285_17938.png: 128x128 1 3, 7.7ms\n",
      "image 3858/4118 /home/anderste/ikt450-deep-neural-networks/DNN-prosjekt/segmentation_data_new/test/images/fish_004501897285_17871.png: 128x128 1 2, 7.6ms\n",
      "image 3859/4118 /home/anderste/ikt450-deep-neural-networks/DNN-prosjekt/segmentation_data_new/test/images/fish_004501937285_15360.png: 128x128 1 3, 7.8ms\n",
      "image 3860/4118 /home/anderste/ikt450-deep-neural-networks/DNN-prosjekt/segmentation_data_new/test/images/fish_004501977285_14844.png: 128x128 1 3, 7.7ms\n",
      "image 3861/4118 /home/anderste/ikt450-deep-neural-networks/DNN-prosjekt/segmentation_data_new/test/images/fish_004502247285_09764.png: 128x128 1 1, 7.6ms\n",
      "image 3862/4118 /home/anderste/ikt450-deep-neural-networks/DNN-prosjekt/segmentation_data_new/test/images/fish_004502257285_23768.png: 128x128 1 2, 7.8ms\n",
      "image 3863/4118 /home/anderste/ikt450-deep-neural-networks/DNN-prosjekt/segmentation_data_new/test/images/fish_004502407286_14503.png: 128x128 1 3, 7.7ms\n",
      "image 3864/4118 /home/anderste/ikt450-deep-neural-networks/DNN-prosjekt/segmentation_data_new/test/images/fish_004502407286_15522.png: 128x128 1 3, 7.7ms\n",
      "image 3865/4118 /home/anderste/ikt450-deep-neural-networks/DNN-prosjekt/segmentation_data_new/test/images/fish_004502467286_15199.png: 128x128 1 2, 1 3, 7.7ms\n",
      "image 3866/4118 /home/anderste/ikt450-deep-neural-networks/DNN-prosjekt/segmentation_data_new/test/images/fish_004502917286_15017.png: 128x128 1 1, 8.2ms\n",
      "image 3867/4118 /home/anderste/ikt450-deep-neural-networks/DNN-prosjekt/segmentation_data_new/test/images/fish_004502957286_14798.png: 128x128 1 1, 7.9ms\n",
      "image 3868/4118 /home/anderste/ikt450-deep-neural-networks/DNN-prosjekt/segmentation_data_new/test/images/fish_004503047286_09699.png: 128x128 1 9, 8.0ms\n",
      "image 3869/4118 /home/anderste/ikt450-deep-neural-networks/DNN-prosjekt/segmentation_data_new/test/images/fish_004503097286_24142.png: 128x128 1 2, 7.8ms\n",
      "image 3870/4118 /home/anderste/ikt450-deep-neural-networks/DNN-prosjekt/segmentation_data_new/test/images/fish_004503257286_12111.png: 128x128 1 1, 7.6ms\n",
      "image 3871/4118 /home/anderste/ikt450-deep-neural-networks/DNN-prosjekt/segmentation_data_new/test/images/fish_004503317286_09885.png: 128x128 1 3, 7.7ms\n",
      "image 3872/4118 /home/anderste/ikt450-deep-neural-networks/DNN-prosjekt/segmentation_data_new/test/images/fish_004503367286_09937.png: 128x128 1 3, 7.8ms\n",
      "image 3873/4118 /home/anderste/ikt450-deep-neural-networks/DNN-prosjekt/segmentation_data_new/test/images/fish_004503387286_23763.png: 128x128 1 2, 7.6ms\n",
      "image 3874/4118 /home/anderste/ikt450-deep-neural-networks/DNN-prosjekt/segmentation_data_new/test/images/fish_004506197288_17637.png: 128x128 1 1, 7.6ms\n",
      "image 3875/4118 /home/anderste/ikt450-deep-neural-networks/DNN-prosjekt/segmentation_data_new/test/images/fish_004506207288_16496.png: 128x128 1 1, 7.7ms\n",
      "image 3876/4118 /home/anderste/ikt450-deep-neural-networks/DNN-prosjekt/segmentation_data_new/test/images/fish_004506637290_21109.png: 128x128 1 4, 7.8ms\n",
      "image 3877/4118 /home/anderste/ikt450-deep-neural-networks/DNN-prosjekt/segmentation_data_new/test/images/fish_004506847290_08985.png: 128x128 1 3, 1 4, 7.8ms\n",
      "image 3878/4118 /home/anderste/ikt450-deep-neural-networks/DNN-prosjekt/segmentation_data_new/test/images/fish_004514037315_20089.png: 128x128 1 1, 8.6ms\n",
      "image 3879/4118 /home/anderste/ikt450-deep-neural-networks/DNN-prosjekt/segmentation_data_new/test/images/fish_004515297318_11577.png: 128x128 1 5, 7.6ms\n",
      "image 3880/4118 /home/anderste/ikt450-deep-neural-networks/DNN-prosjekt/segmentation_data_new/test/images/fish_004515317318_25844.png: 128x128 1 5, 7.7ms\n",
      "image 3881/4118 /home/anderste/ikt450-deep-neural-networks/DNN-prosjekt/segmentation_data_new/test/images/fish_004515367318_19362.png: 128x128 1 5, 7.7ms\n",
      "image 3882/4118 /home/anderste/ikt450-deep-neural-networks/DNN-prosjekt/segmentation_data_new/test/images/fish_004515397318_13467.png: 128x128 1 5, 9.5ms\n",
      "image 3883/4118 /home/anderste/ikt450-deep-neural-networks/DNN-prosjekt/segmentation_data_new/test/images/fish_004515417318_13573.png: 128x128 1 5, 7.7ms\n",
      "image 3884/4118 /home/anderste/ikt450-deep-neural-networks/DNN-prosjekt/segmentation_data_new/test/images/fish_004515507318_13469.png: 128x128 1 5, 7.7ms\n",
      "image 3885/4118 /home/anderste/ikt450-deep-neural-networks/DNN-prosjekt/segmentation_data_new/test/images/fish_004515567318_25852.png: 128x128 1 5, 7.9ms\n",
      "image 3886/4118 /home/anderste/ikt450-deep-neural-networks/DNN-prosjekt/segmentation_data_new/test/images/fish_004517957321_14293.png: 128x128 1 3, 7.9ms\n",
      "image 3887/4118 /home/anderste/ikt450-deep-neural-networks/DNN-prosjekt/segmentation_data_new/test/images/fish_004517957321_14687.png: 128x128 1 3, 7.8ms\n",
      "image 3888/4118 /home/anderste/ikt450-deep-neural-networks/DNN-prosjekt/segmentation_data_new/test/images/fish_004517957321_15067.png: 128x128 1 3, 7.8ms\n",
      "image 3889/4118 /home/anderste/ikt450-deep-neural-networks/DNN-prosjekt/segmentation_data_new/test/images/fish_004517957321_15985.png: 128x128 1 3, 7.7ms\n",
      "image 3890/4118 /home/anderste/ikt450-deep-neural-networks/DNN-prosjekt/segmentation_data_new/test/images/fish_004519067323_17137.png: 128x128 1 2, 7.7ms\n",
      "image 3891/4118 /home/anderste/ikt450-deep-neural-networks/DNN-prosjekt/segmentation_data_new/test/images/fish_004519117323_26767.png: 128x128 1 2, 7.7ms\n",
      "image 3892/4118 /home/anderste/ikt450-deep-neural-networks/DNN-prosjekt/segmentation_data_new/test/images/fish_004519467323_20452.png: 128x128 1 3, 7.7ms\n",
      "image 3893/4118 /home/anderste/ikt450-deep-neural-networks/DNN-prosjekt/segmentation_data_new/test/images/fish_004519557323_16876.png: 128x128 1 3, 7.7ms\n",
      "image 3894/4118 /home/anderste/ikt450-deep-neural-networks/DNN-prosjekt/segmentation_data_new/test/images/fish_004519577323_16810.png: 128x128 1 3, 7.7ms\n",
      "image 3895/4118 /home/anderste/ikt450-deep-neural-networks/DNN-prosjekt/segmentation_data_new/test/images/fish_004520987324_23296.png: 128x128 1 1, 7.6ms\n",
      "image 3896/4118 /home/anderste/ikt450-deep-neural-networks/DNN-prosjekt/segmentation_data_new/test/images/fish_004520997324_15217.png: 128x128 1 3, 7.9ms\n",
      "image 3897/4118 /home/anderste/ikt450-deep-neural-networks/DNN-prosjekt/segmentation_data_new/test/images/fish_004521457324_21605.png: 128x128 1 1, 7.6ms\n",
      "image 3898/4118 /home/anderste/ikt450-deep-neural-networks/DNN-prosjekt/segmentation_data_new/test/images/fish_004521457324_24636.png: 128x128 1 1, 7.6ms\n",
      "image 3899/4118 /home/anderste/ikt450-deep-neural-networks/DNN-prosjekt/segmentation_data_new/test/images/fish_004521527324_17558.png: 128x128 1 1, 7.7ms\n",
      "image 3900/4118 /home/anderste/ikt450-deep-neural-networks/DNN-prosjekt/segmentation_data_new/test/images/fish_004521607325_15415.png: 128x128 (no detections), 7.7ms\n",
      "image 3901/4118 /home/anderste/ikt450-deep-neural-networks/DNN-prosjekt/segmentation_data_new/test/images/fish_004521627324_14443.png: 128x128 1 1, 7.7ms\n",
      "image 3902/4118 /home/anderste/ikt450-deep-neural-networks/DNN-prosjekt/segmentation_data_new/test/images/fish_004521747325_26697.png: 128x128 1 3, 7.8ms\n",
      "image 3903/4118 /home/anderste/ikt450-deep-neural-networks/DNN-prosjekt/segmentation_data_new/test/images/fish_004521937325_14479.png: 128x128 1 1, 7.8ms\n",
      "image 3904/4118 /home/anderste/ikt450-deep-neural-networks/DNN-prosjekt/segmentation_data_new/test/images/fish_004524057333_10042.png: 128x128 1 2, 7.9ms\n",
      "image 3905/4118 /home/anderste/ikt450-deep-neural-networks/DNN-prosjekt/segmentation_data_new/test/images/fish_004524147333_14833.png: 128x128 1 3, 8.2ms\n",
      "image 3906/4118 /home/anderste/ikt450-deep-neural-networks/DNN-prosjekt/segmentation_data_new/test/images/fish_004525227335_09366.png: 128x128 1 4, 7.7ms\n",
      "image 3907/4118 /home/anderste/ikt450-deep-neural-networks/DNN-prosjekt/segmentation_data_new/test/images/fish_004525247335_19493.png: 128x128 1 4, 8.8ms\n",
      "image 3908/4118 /home/anderste/ikt450-deep-neural-networks/DNN-prosjekt/segmentation_data_new/test/images/fish_004525717335_09368.png: 128x128 1 4, 7.7ms\n",
      "image 3909/4118 /home/anderste/ikt450-deep-neural-networks/DNN-prosjekt/segmentation_data_new/test/images/fish_004526627339_09730.png: 128x128 1 2, 7.7ms\n",
      "image 3910/4118 /home/anderste/ikt450-deep-neural-networks/DNN-prosjekt/segmentation_data_new/test/images/fish_004527057339_22238.png: 128x128 1 2, 8.0ms\n",
      "image 3911/4118 /home/anderste/ikt450-deep-neural-networks/DNN-prosjekt/segmentation_data_new/test/images/fish_004527237339_09947.png: 128x128 1 2, 1 3, 7.7ms\n",
      "image 3912/4118 /home/anderste/ikt450-deep-neural-networks/DNN-prosjekt/segmentation_data_new/test/images/fish_004531217347_20741.png: 128x128 1 5, 8.3ms\n",
      "image 3913/4118 /home/anderste/ikt450-deep-neural-networks/DNN-prosjekt/segmentation_data_new/test/images/fish_004535917356_15636.png: 128x128 1 3, 10.1ms\n",
      "image 3914/4118 /home/anderste/ikt450-deep-neural-networks/DNN-prosjekt/segmentation_data_new/test/images/fish_004536087356_12446.png: 128x128 1 3, 7.9ms\n",
      "image 3915/4118 /home/anderste/ikt450-deep-neural-networks/DNN-prosjekt/segmentation_data_new/test/images/fish_004536097356_16543.png: 128x128 1 0, 1 1, 7.9ms\n",
      "image 3916/4118 /home/anderste/ikt450-deep-neural-networks/DNN-prosjekt/segmentation_data_new/test/images/fish_004536107356_10191.png: 128x128 1 1, 7.8ms\n",
      "image 3917/4118 /home/anderste/ikt450-deep-neural-networks/DNN-prosjekt/segmentation_data_new/test/images/fish_004536267356_12318.png: 128x128 1 7, 7.6ms\n",
      "image 3918/4118 /home/anderste/ikt450-deep-neural-networks/DNN-prosjekt/segmentation_data_new/test/images/fish_004536497356_12451.png: 128x128 1 1, 7.6ms\n",
      "image 3919/4118 /home/anderste/ikt450-deep-neural-networks/DNN-prosjekt/segmentation_data_new/test/images/fish_004539697360_12820.png: 128x128 1 1, 7.7ms\n",
      "image 3920/4118 /home/anderste/ikt450-deep-neural-networks/DNN-prosjekt/segmentation_data_new/test/images/fish_004539697360_13948.png: 128x128 1 0, 1 1, 7.7ms\n",
      "image 3921/4118 /home/anderste/ikt450-deep-neural-networks/DNN-prosjekt/segmentation_data_new/test/images/fish_004539897360_14672.png: 128x128 1 3, 7.6ms\n",
      "image 3922/4118 /home/anderste/ikt450-deep-neural-networks/DNN-prosjekt/segmentation_data_new/test/images/fish_004540647360_23417.png: 128x128 1 1, 7.6ms\n",
      "image 3923/4118 /home/anderste/ikt450-deep-neural-networks/DNN-prosjekt/segmentation_data_new/test/images/fish_004543267366_18121.png: 128x128 1 9, 7.7ms\n",
      "image 3924/4118 /home/anderste/ikt450-deep-neural-networks/DNN-prosjekt/segmentation_data_new/test/images/fish_004543277366_17931.png: 128x128 1 3, 7.7ms\n",
      "image 3925/4118 /home/anderste/ikt450-deep-neural-networks/DNN-prosjekt/segmentation_data_new/test/images/fish_004543387366_23421.png: 128x128 1 3, 7.5ms\n",
      "image 3926/4118 /home/anderste/ikt450-deep-neural-networks/DNN-prosjekt/segmentation_data_new/test/images/fish_004543457366_22571.png: 128x128 1 1, 7.9ms\n",
      "image 3927/4118 /home/anderste/ikt450-deep-neural-networks/DNN-prosjekt/segmentation_data_new/test/images/fish_004543587366_11179.png: 128x128 1 1, 7.6ms\n",
      "image 3928/4118 /home/anderste/ikt450-deep-neural-networks/DNN-prosjekt/segmentation_data_new/test/images/fish_004543637366_14248.png: 128x128 1 3, 7.8ms\n",
      "image 3929/4118 /home/anderste/ikt450-deep-neural-networks/DNN-prosjekt/segmentation_data_new/test/images/fish_004543807366_22764.png: 128x128 1 1, 7.7ms\n",
      "image 3930/4118 /home/anderste/ikt450-deep-neural-networks/DNN-prosjekt/segmentation_data_new/test/images/fish_004543847367_13703.png: 128x128 1 1, 8.1ms\n",
      "image 3931/4118 /home/anderste/ikt450-deep-neural-networks/DNN-prosjekt/segmentation_data_new/test/images/fish_004544027366_17956.png: 128x128 1 1, 7.7ms\n",
      "image 3932/4118 /home/anderste/ikt450-deep-neural-networks/DNN-prosjekt/segmentation_data_new/test/images/fish_004544027366_22114.png: 128x128 1 1, 7.8ms\n",
      "image 3933/4118 /home/anderste/ikt450-deep-neural-networks/DNN-prosjekt/segmentation_data_new/test/images/fish_004544157366_22153.png: 128x128 1 3, 7.6ms\n",
      "image 3934/4118 /home/anderste/ikt450-deep-neural-networks/DNN-prosjekt/segmentation_data_new/test/images/fish_004544477366_22576.png: 128x128 1 1, 7.7ms\n",
      "image 3935/4118 /home/anderste/ikt450-deep-neural-networks/DNN-prosjekt/segmentation_data_new/test/images/fish_004544557366_11212.png: 128x128 1 2, 7.7ms\n",
      "image 3936/4118 /home/anderste/ikt450-deep-neural-networks/DNN-prosjekt/segmentation_data_new/test/images/fish_004547477373_19522.png: 128x128 1 5, 7.7ms\n",
      "image 3937/4118 /home/anderste/ikt450-deep-neural-networks/DNN-prosjekt/segmentation_data_new/test/images/fish_004547847374_26845.png: 128x128 1 2, 7.7ms\n",
      "image 3938/4118 /home/anderste/ikt450-deep-neural-networks/DNN-prosjekt/segmentation_data_new/test/images/fish_004547857374_13690.png: 128x128 1 2, 7.7ms\n",
      "image 3939/4118 /home/anderste/ikt450-deep-neural-networks/DNN-prosjekt/segmentation_data_new/test/images/fish_004548117374_26930.png: 128x128 1 2, 7.7ms\n",
      "image 3940/4118 /home/anderste/ikt450-deep-neural-networks/DNN-prosjekt/segmentation_data_new/test/images/fish_004548177374_11490.png: 128x128 1 2, 8.1ms\n",
      "image 3941/4118 /home/anderste/ikt450-deep-neural-networks/DNN-prosjekt/segmentation_data_new/test/images/fish_004548407375_24252.png: 128x128 1 1, 7.7ms\n",
      "image 3942/4118 /home/anderste/ikt450-deep-neural-networks/DNN-prosjekt/segmentation_data_new/test/images/fish_004548507375_23670.png: 128x128 1 1, 7.6ms\n",
      "image 3943/4118 /home/anderste/ikt450-deep-neural-networks/DNN-prosjekt/segmentation_data_new/test/images/fish_004548597375_10488.png: 128x128 1 1, 7.8ms\n",
      "image 3944/4118 /home/anderste/ikt450-deep-neural-networks/DNN-prosjekt/segmentation_data_new/test/images/fish_004548967375_20358.png: 128x128 1 1, 7.8ms\n",
      "image 3945/4118 /home/anderste/ikt450-deep-neural-networks/DNN-prosjekt/segmentation_data_new/test/images/fish_004550587377_27137.png: 128x128 1 1, 7.6ms\n",
      "image 3946/4118 /home/anderste/ikt450-deep-neural-networks/DNN-prosjekt/segmentation_data_new/test/images/fish_004554497379_21323.png: 128x128 1 1, 7.7ms\n",
      "image 3947/4118 /home/anderste/ikt450-deep-neural-networks/DNN-prosjekt/segmentation_data_new/test/images/fish_004557137383_09969.png: 128x128 1 3, 7.7ms\n",
      "image 3948/4118 /home/anderste/ikt450-deep-neural-networks/DNN-prosjekt/segmentation_data_new/test/images/fish_004557167383_27201.png: 128x128 1 3, 7.6ms\n",
      "image 3949/4118 /home/anderste/ikt450-deep-neural-networks/DNN-prosjekt/segmentation_data_new/test/images/fish_004557287383_10818.png: 128x128 1 3, 7.7ms\n",
      "image 3950/4118 /home/anderste/ikt450-deep-neural-networks/DNN-prosjekt/segmentation_data_new/test/images/fish_004557407383_15387.png: 128x128 1 3, 7.7ms\n",
      "image 3951/4118 /home/anderste/ikt450-deep-neural-networks/DNN-prosjekt/segmentation_data_new/test/images/fish_004557497383_21984.png: 128x128 1 3, 7.7ms\n",
      "image 3952/4118 /home/anderste/ikt450-deep-neural-networks/DNN-prosjekt/segmentation_data_new/test/images/fish_004557607383_13079.png: 128x128 1 3, 7.7ms\n",
      "image 3953/4118 /home/anderste/ikt450-deep-neural-networks/DNN-prosjekt/segmentation_data_new/test/images/fish_004557667383_14370.png: 128x128 1 2, 7.9ms\n",
      "image 3954/4118 /home/anderste/ikt450-deep-neural-networks/DNN-prosjekt/segmentation_data_new/test/images/fish_004557887383_15683.png: 128x128 1 3, 7.7ms\n",
      "image 3955/4118 /home/anderste/ikt450-deep-neural-networks/DNN-prosjekt/segmentation_data_new/test/images/fish_004557987383_22352.png: 128x128 1 3, 7.7ms\n",
      "image 3956/4118 /home/anderste/ikt450-deep-neural-networks/DNN-prosjekt/segmentation_data_new/test/images/fish_004558067383_12288.png: 128x128 1 3, 7.8ms\n",
      "image 3957/4118 /home/anderste/ikt450-deep-neural-networks/DNN-prosjekt/segmentation_data_new/test/images/fish_004559317385_11194.png: 128x128 1 5, 7.9ms\n",
      "image 3958/4118 /home/anderste/ikt450-deep-neural-networks/DNN-prosjekt/segmentation_data_new/test/images/fish_004559387385_13529.png: 128x128 1 5, 7.6ms\n",
      "image 3959/4118 /home/anderste/ikt450-deep-neural-networks/DNN-prosjekt/segmentation_data_new/test/images/fish_004559447386_14664.png: 128x128 1 3, 7.7ms\n",
      "image 3960/4118 /home/anderste/ikt450-deep-neural-networks/DNN-prosjekt/segmentation_data_new/test/images/fish_004559497386_16963.png: 128x128 1 3, 7.6ms\n",
      "image 3961/4118 /home/anderste/ikt450-deep-neural-networks/DNN-prosjekt/segmentation_data_new/test/images/fish_004559547386_16997.png: 128x128 1 3, 8.1ms\n",
      "image 3962/4118 /home/anderste/ikt450-deep-neural-networks/DNN-prosjekt/segmentation_data_new/test/images/fish_004559557385_19765.png: 128x128 1 5, 7.6ms\n",
      "image 3963/4118 /home/anderste/ikt450-deep-neural-networks/DNN-prosjekt/segmentation_data_new/test/images/fish_004559587385_12511.png: 128x128 1 5, 7.7ms\n",
      "image 3964/4118 /home/anderste/ikt450-deep-neural-networks/DNN-prosjekt/segmentation_data_new/test/images/fish_004559997386_13218.png: 128x128 1 2, 7.8ms\n",
      "image 3965/4118 /home/anderste/ikt450-deep-neural-networks/DNN-prosjekt/segmentation_data_new/test/images/fish_004561917388_26774.png: 128x128 1 2, 7.7ms\n",
      "image 3966/4118 /home/anderste/ikt450-deep-neural-networks/DNN-prosjekt/segmentation_data_new/test/images/fish_004562177388_10819.png: 128x128 1 3, 7.7ms\n",
      "image 3967/4118 /home/anderste/ikt450-deep-neural-networks/DNN-prosjekt/segmentation_data_new/test/images/fish_004563277390_16488.png: 128x128 1 3, 7.8ms\n",
      "image 3968/4118 /home/anderste/ikt450-deep-neural-networks/DNN-prosjekt/segmentation_data_new/test/images/fish_004563447390_27305.png: 128x128 1 2, 7.7ms\n",
      "image 3969/4118 /home/anderste/ikt450-deep-neural-networks/DNN-prosjekt/segmentation_data_new/test/images/fish_004563517390_27304.png: 128x128 1 2, 7.7ms\n",
      "image 3970/4118 /home/anderste/ikt450-deep-neural-networks/DNN-prosjekt/segmentation_data_new/test/images/fish_004563637390_12295.png: 128x128 1 3, 179.9ms\n",
      "image 3971/4118 /home/anderste/ikt450-deep-neural-networks/DNN-prosjekt/segmentation_data_new/test/images/fish_004563757390_17049.png: 128x128 1 2, 8.0ms\n",
      "image 3972/4118 /home/anderste/ikt450-deep-neural-networks/DNN-prosjekt/segmentation_data_new/test/images/fish_004564447391_09643.png: 128x128 1 1, 7.8ms\n",
      "image 3973/4118 /home/anderste/ikt450-deep-neural-networks/DNN-prosjekt/segmentation_data_new/test/images/fish_004566767394_19247.png: 128x128 1 12, 7.7ms\n",
      "image 3974/4118 /home/anderste/ikt450-deep-neural-networks/DNN-prosjekt/segmentation_data_new/test/images/fish_004567877400_19849.png: 128x128 1 4, 7.6ms\n",
      "image 3975/4118 /home/anderste/ikt450-deep-neural-networks/DNN-prosjekt/segmentation_data_new/test/images/fish_004567907400_19809.png: 128x128 1 4, 7.7ms\n",
      "image 3976/4118 /home/anderste/ikt450-deep-neural-networks/DNN-prosjekt/segmentation_data_new/test/images/fish_004567957400_15134.png: 128x128 1 4, 7.4ms\n",
      "image 3977/4118 /home/anderste/ikt450-deep-neural-networks/DNN-prosjekt/segmentation_data_new/test/images/fish_004567977400_22262.png: 128x128 1 4, 7.7ms\n",
      "image 3978/4118 /home/anderste/ikt450-deep-neural-networks/DNN-prosjekt/segmentation_data_new/test/images/fish_004568167401_20453.png: 128x128 1 1, 7.6ms\n",
      "image 3979/4118 /home/anderste/ikt450-deep-neural-networks/DNN-prosjekt/segmentation_data_new/test/images/fish_004568277401_18759.png: 128x128 1 1, 7.6ms\n",
      "image 3980/4118 /home/anderste/ikt450-deep-neural-networks/DNN-prosjekt/segmentation_data_new/test/images/fish_004568657401_10984.png: 128x128 1 1, 8.7ms\n",
      "image 3981/4118 /home/anderste/ikt450-deep-neural-networks/DNN-prosjekt/segmentation_data_new/test/images/fish_004568807401_15166.png: 128x128 1 1, 7.6ms\n",
      "image 3982/4118 /home/anderste/ikt450-deep-neural-networks/DNN-prosjekt/segmentation_data_new/test/images/fish_004568897401_17320.png: 128x128 1 1, 7.7ms\n",
      "image 3983/4118 /home/anderste/ikt450-deep-neural-networks/DNN-prosjekt/segmentation_data_new/test/images/fish_004568897401_27222.png: 128x128 1 1, 7.6ms\n",
      "image 3984/4118 /home/anderste/ikt450-deep-neural-networks/DNN-prosjekt/segmentation_data_new/test/images/fish_004568917401_10991.png: 128x128 1 1, 7.6ms\n",
      "image 3985/4118 /home/anderste/ikt450-deep-neural-networks/DNN-prosjekt/segmentation_data_new/test/images/fish_004568927401_16431.png: 128x128 1 1, 7.6ms\n",
      "image 3986/4118 /home/anderste/ikt450-deep-neural-networks/DNN-prosjekt/segmentation_data_new/test/images/fish_004569047401_18113.png: 128x128 1 1, 7.9ms\n",
      "image 3987/4118 /home/anderste/ikt450-deep-neural-networks/DNN-prosjekt/segmentation_data_new/test/images/fish_004569167401_10658.png: 128x128 1 1, 7.7ms\n",
      "image 3988/4118 /home/anderste/ikt450-deep-neural-networks/DNN-prosjekt/segmentation_data_new/test/images/fish_004569957403_11044.png: 128x128 1 4, 7.9ms\n",
      "image 3989/4118 /home/anderste/ikt450-deep-neural-networks/DNN-prosjekt/segmentation_data_new/test/images/fish_004570727405_11554.png: 128x128 1 5, 7.7ms\n",
      "image 3990/4118 /home/anderste/ikt450-deep-neural-networks/DNN-prosjekt/segmentation_data_new/test/images/fish_004570747405_10236.png: 128x128 1 5, 7.7ms\n",
      "image 3991/4118 /home/anderste/ikt450-deep-neural-networks/DNN-prosjekt/segmentation_data_new/test/images/fish_004570877405_11570.png: 128x128 1 5, 8.0ms\n",
      "image 3992/4118 /home/anderste/ikt450-deep-neural-networks/DNN-prosjekt/segmentation_data_new/test/images/fish_004570877405_11575.png: 128x128 1 5, 8.0ms\n",
      "image 3993/4118 /home/anderste/ikt450-deep-neural-networks/DNN-prosjekt/segmentation_data_new/test/images/fish_004570877405_11633.png: 128x128 1 5, 8.3ms\n",
      "image 3994/4118 /home/anderste/ikt450-deep-neural-networks/DNN-prosjekt/segmentation_data_new/test/images/fish_004570877405_15963.png: 128x128 1 5, 7.9ms\n",
      "image 3995/4118 /home/anderste/ikt450-deep-neural-networks/DNN-prosjekt/segmentation_data_new/test/images/fish_004570877405_18680.png: 128x128 1 5, 7.6ms\n",
      "image 3996/4118 /home/anderste/ikt450-deep-neural-networks/DNN-prosjekt/segmentation_data_new/test/images/fish_004570877405_19293.png: 128x128 1 5, 7.7ms\n",
      "image 3997/4118 /home/anderste/ikt450-deep-neural-networks/DNN-prosjekt/segmentation_data_new/test/images/fish_004570877405_20945.png: 128x128 1 5, 7.6ms\n",
      "image 3998/4118 /home/anderste/ikt450-deep-neural-networks/DNN-prosjekt/segmentation_data_new/test/images/fish_004570877405_23261.png: 128x128 1 5, 8.2ms\n",
      "image 3999/4118 /home/anderste/ikt450-deep-neural-networks/DNN-prosjekt/segmentation_data_new/test/images/fish_004570877405_25634.png: 128x128 1 5, 7.7ms\n",
      "image 4000/4118 /home/anderste/ikt450-deep-neural-networks/DNN-prosjekt/segmentation_data_new/test/images/fish_004571187405_11203.png: 128x128 1 5, 7.6ms\n",
      "image 4001/4118 /home/anderste/ikt450-deep-neural-networks/DNN-prosjekt/segmentation_data_new/test/images/fish_004571187405_12177.png: 128x128 1 5, 7.6ms\n",
      "image 4002/4118 /home/anderste/ikt450-deep-neural-networks/DNN-prosjekt/segmentation_data_new/test/images/fish_004571187405_12542.png: 128x128 1 5, 7.5ms\n",
      "image 4003/4118 /home/anderste/ikt450-deep-neural-networks/DNN-prosjekt/segmentation_data_new/test/images/fish_004571187405_19200.png: 128x128 1 5, 7.9ms\n",
      "image 4004/4118 /home/anderste/ikt450-deep-neural-networks/DNN-prosjekt/segmentation_data_new/test/images/fish_004571237405_25863.png: 128x128 1 5, 7.7ms\n",
      "image 4005/4118 /home/anderste/ikt450-deep-neural-networks/DNN-prosjekt/segmentation_data_new/test/images/fish_004571277405_11591.png: 128x128 1 5, 7.7ms\n",
      "image 4006/4118 /home/anderste/ikt450-deep-neural-networks/DNN-prosjekt/segmentation_data_new/test/images/fish_004571377405_10250.png: 128x128 1 5, 7.9ms\n",
      "image 4007/4118 /home/anderste/ikt450-deep-neural-networks/DNN-prosjekt/segmentation_data_new/test/images/fish_004571627407_14959.png: 128x128 1 1, 8.4ms\n",
      "image 4008/4118 /home/anderste/ikt450-deep-neural-networks/DNN-prosjekt/segmentation_data_new/test/images/fish_004571747407_17612.png: 128x128 1 1, 7.7ms\n",
      "image 4009/4118 /home/anderste/ikt450-deep-neural-networks/DNN-prosjekt/segmentation_data_new/test/images/fish_004571767407_16657.png: 128x128 1 0, 1 1, 7.9ms\n",
      "image 4010/4118 /home/anderste/ikt450-deep-neural-networks/DNN-prosjekt/segmentation_data_new/test/images/fish_004574827412_10790.png: 128x128 1 1, 7.6ms\n",
      "image 4011/4118 /home/anderste/ikt450-deep-neural-networks/DNN-prosjekt/segmentation_data_new/test/images/fish_004575127412_17057.png: 128x128 1 2, 7.7ms\n",
      "image 4012/4118 /home/anderste/ikt450-deep-neural-networks/DNN-prosjekt/segmentation_data_new/test/images/fish_004577437417_21132.png: 128x128 1 3, 1 4, 7.7ms\n",
      "image 4013/4118 /home/anderste/ikt450-deep-neural-networks/DNN-prosjekt/segmentation_data_new/test/images/fish_004577507417_16449.png: 128x128 1 1, 7.7ms\n",
      "image 4014/4118 /home/anderste/ikt450-deep-neural-networks/DNN-prosjekt/segmentation_data_new/test/images/fish_004578097417_24755.png: 128x128 1 0, 1 1, 7.6ms\n",
      "image 4015/4118 /home/anderste/ikt450-deep-neural-networks/DNN-prosjekt/segmentation_data_new/test/images/fish_004583697425_26451.png: 128x128 1 2, 8.3ms\n",
      "image 4016/4118 /home/anderste/ikt450-deep-neural-networks/DNN-prosjekt/segmentation_data_new/test/images/fish_004583837425_26125.png: 128x128 1 3, 7.7ms\n",
      "image 4017/4118 /home/anderste/ikt450-deep-neural-networks/DNN-prosjekt/segmentation_data_new/test/images/fish_004584127425_23290.png: 128x128 1 1, 8.0ms\n",
      "image 4018/4118 /home/anderste/ikt450-deep-neural-networks/DNN-prosjekt/segmentation_data_new/test/images/fish_004584137425_13871.png: 128x128 1 0, 1 1, 7.7ms\n",
      "image 4019/4118 /home/anderste/ikt450-deep-neural-networks/DNN-prosjekt/segmentation_data_new/test/images/fish_004584177425_11499.png: 128x128 1 2, 7.7ms\n",
      "image 4020/4118 /home/anderste/ikt450-deep-neural-networks/DNN-prosjekt/segmentation_data_new/test/images/fish_004585287429_13590.png: 128x128 1 5, 7.9ms\n",
      "image 4021/4118 /home/anderste/ikt450-deep-neural-networks/DNN-prosjekt/segmentation_data_new/test/images/fish_004585287429_23222.png: 128x128 1 5, 7.7ms\n",
      "image 4022/4118 /home/anderste/ikt450-deep-neural-networks/DNN-prosjekt/segmentation_data_new/test/images/fish_004585317429_17971.png: 128x128 1 5, 7.4ms\n",
      "image 4023/4118 /home/anderste/ikt450-deep-neural-networks/DNN-prosjekt/segmentation_data_new/test/images/fish_004585317429_25877.png: 128x128 1 5, 7.8ms\n",
      "image 4024/4118 /home/anderste/ikt450-deep-neural-networks/DNN-prosjekt/segmentation_data_new/test/images/fish_004589047441_21112.png: 128x128 1 4, 7.5ms\n",
      "image 4025/4118 /home/anderste/ikt450-deep-neural-networks/DNN-prosjekt/segmentation_data_new/test/images/fish_004589187441_21098.png: 128x128 1 4, 7.6ms\n",
      "image 4026/4118 /home/anderste/ikt450-deep-neural-networks/DNN-prosjekt/segmentation_data_new/test/images/fish_004589457441_15618.png: 128x128 1 4, 7.7ms\n",
      "image 4027/4118 /home/anderste/ikt450-deep-neural-networks/DNN-prosjekt/segmentation_data_new/test/images/fish_004591637447_26036.png: 128x128 1 3, 7.7ms\n",
      "image 4028/4118 /home/anderste/ikt450-deep-neural-networks/DNN-prosjekt/segmentation_data_new/test/images/fish_004591637447_26040.png: 128x128 1 3, 7.4ms\n",
      "image 4029/4118 /home/anderste/ikt450-deep-neural-networks/DNN-prosjekt/segmentation_data_new/test/images/fish_004591897447_25991.png: 128x128 1 2, 7.6ms\n",
      "image 4030/4118 /home/anderste/ikt450-deep-neural-networks/DNN-prosjekt/segmentation_data_new/test/images/fish_004591997447_26037.png: 128x128 1 3, 7.7ms\n",
      "image 4031/4118 /home/anderste/ikt450-deep-neural-networks/DNN-prosjekt/segmentation_data_new/test/images/fish_004592387447_12736.png: 128x128 1 2, 7.5ms\n",
      "image 4032/4118 /home/anderste/ikt450-deep-neural-networks/DNN-prosjekt/segmentation_data_new/test/images/fish_004592547447_14357.png: 128x128 1 2, 7.9ms\n",
      "image 4033/4118 /home/anderste/ikt450-deep-neural-networks/DNN-prosjekt/segmentation_data_new/test/images/fish_004592687447_26887.png: 128x128 1 2, 7.7ms\n",
      "image 4034/4118 /home/anderste/ikt450-deep-neural-networks/DNN-prosjekt/segmentation_data_new/test/images/fish_004594127451_13792.png: 128x128 1 3, 7.8ms\n",
      "image 4035/4118 /home/anderste/ikt450-deep-neural-networks/DNN-prosjekt/segmentation_data_new/test/images/fish_004594167451_18523.png: 128x128 1 0, 1 1, 7.7ms\n",
      "image 4036/4118 /home/anderste/ikt450-deep-neural-networks/DNN-prosjekt/segmentation_data_new/test/images/fish_004594677451_10506.png: 128x128 1 1, 7.6ms\n",
      "image 4037/4118 /home/anderste/ikt450-deep-neural-networks/DNN-prosjekt/segmentation_data_new/test/images/fish_004594697450_13788.png: 128x128 1 3, 1 4, 8.1ms\n",
      "image 4038/4118 /home/anderste/ikt450-deep-neural-networks/DNN-prosjekt/segmentation_data_new/test/images/fish_004598247455_15236.png: 128x128 1 3, 8.3ms\n",
      "image 4039/4118 /home/anderste/ikt450-deep-neural-networks/DNN-prosjekt/segmentation_data_new/test/images/fish_004598287455_12232.png: 128x128 1 1, 7.7ms\n",
      "image 4040/4118 /home/anderste/ikt450-deep-neural-networks/DNN-prosjekt/segmentation_data_new/test/images/fish_004598327455_10205.png: 128x128 1 1, 7.7ms\n",
      "image 4041/4118 /home/anderste/ikt450-deep-neural-networks/DNN-prosjekt/segmentation_data_new/test/images/fish_004598327455_10798.png: 128x128 1 1, 1 3, 7.7ms\n",
      "image 4042/4118 /home/anderste/ikt450-deep-neural-networks/DNN-prosjekt/segmentation_data_new/test/images/fish_004598847455_12281.png: 128x128 1 1, 8.8ms\n",
      "image 4043/4118 /home/anderste/ikt450-deep-neural-networks/DNN-prosjekt/segmentation_data_new/test/images/fish_004599077455_18010.png: 128x128 1 1, 7.6ms\n",
      "image 4044/4118 /home/anderste/ikt450-deep-neural-networks/DNN-prosjekt/segmentation_data_new/test/images/fish_004599227455_20676.png: 128x128 1 1, 12.2ms\n",
      "image 4045/4118 /home/anderste/ikt450-deep-neural-networks/DNN-prosjekt/segmentation_data_new/test/images/fish_004599447454_12051.png: 128x128 1 3, 8.7ms\n",
      "image 4046/4118 /home/anderste/ikt450-deep-neural-networks/DNN-prosjekt/segmentation_data_new/test/images/fish_004599497455_15998.png: 128x128 1 1, 7.7ms\n",
      "image 4047/4118 /home/anderste/ikt450-deep-neural-networks/DNN-prosjekt/segmentation_data_new/test/images/fish_004599547454_15496.png: 128x128 1 3, 8.6ms\n",
      "image 4048/4118 /home/anderste/ikt450-deep-neural-networks/DNN-prosjekt/segmentation_data_new/test/images/fish_004599647454_22006.png: 128x128 1 3, 7.6ms\n",
      "image 4049/4118 /home/anderste/ikt450-deep-neural-networks/DNN-prosjekt/segmentation_data_new/test/images/fish_004599867455_12241.png: 128x128 1 1, 9.3ms\n",
      "image 4050/4118 /home/anderste/ikt450-deep-neural-networks/DNN-prosjekt/segmentation_data_new/test/images/fish_004600207455_12234.png: 128x128 1 1, 8.9ms\n",
      "image 4051/4118 /home/anderste/ikt450-deep-neural-networks/DNN-prosjekt/segmentation_data_new/test/images/fish_004600207455_12237.png: 128x128 1 1, 7.7ms\n",
      "image 4052/4118 /home/anderste/ikt450-deep-neural-networks/DNN-prosjekt/segmentation_data_new/test/images/fish_004600737455_15752.png: 128x128 1 3, 8.7ms\n",
      "image 4053/4118 /home/anderste/ikt450-deep-neural-networks/DNN-prosjekt/segmentation_data_new/test/images/fish_004600837455_15750.png: 128x128 1 3, 7.6ms\n",
      "image 4054/4118 /home/anderste/ikt450-deep-neural-networks/DNN-prosjekt/segmentation_data_new/test/images/fish_004600837455_16959.png: 128x128 1 3, 7.5ms\n",
      "image 4055/4118 /home/anderste/ikt450-deep-neural-networks/DNN-prosjekt/segmentation_data_new/test/images/fish_004601127455_15638.png: 128x128 1 3, 8.8ms\n",
      "image 4056/4118 /home/anderste/ikt450-deep-neural-networks/DNN-prosjekt/segmentation_data_new/test/images/fish_004604407458_09466.png: 128x128 1 4, 7.7ms\n",
      "image 4057/4118 /home/anderste/ikt450-deep-neural-networks/DNN-prosjekt/segmentation_data_new/test/images/fish_004604677458_10629.png: 128x128 1 3, 9.9ms\n",
      "image 4058/4118 /home/anderste/ikt450-deep-neural-networks/DNN-prosjekt/segmentation_data_new/test/images/fish_004604677458_25630.png: 128x128 1 4, 8.6ms\n",
      "image 4059/4118 /home/anderste/ikt450-deep-neural-networks/DNN-prosjekt/segmentation_data_new/test/images/fish_004604697458_09644.png: 128x128 1 4, 7.7ms\n",
      "image 4060/4118 /home/anderste/ikt450-deep-neural-networks/DNN-prosjekt/segmentation_data_new/test/images/fish_004604757458_08968.png: 128x128 1 4, 8.6ms\n",
      "image 4061/4118 /home/anderste/ikt450-deep-neural-networks/DNN-prosjekt/segmentation_data_new/test/images/fish_004604857458_17760.png: 128x128 1 4, 7.6ms\n",
      "image 4062/4118 /home/anderste/ikt450-deep-neural-networks/DNN-prosjekt/segmentation_data_new/test/images/fish_004604887458_11726.png: 128x128 1 4, 8.4ms\n",
      "image 4063/4118 /home/anderste/ikt450-deep-neural-networks/DNN-prosjekt/segmentation_data_new/test/images/fish_004604957458_13532.png: 128x128 1 4, 8.6ms\n",
      "image 4064/4118 /home/anderste/ikt450-deep-neural-networks/DNN-prosjekt/segmentation_data_new/test/images/fish_004604977458_09619.png: 128x128 1 4, 7.7ms\n",
      "image 4065/4118 /home/anderste/ikt450-deep-neural-networks/DNN-prosjekt/segmentation_data_new/test/images/fish_004605127458_15433.png: 128x128 1 4, 8.5ms\n",
      "image 4066/4118 /home/anderste/ikt450-deep-neural-networks/DNN-prosjekt/segmentation_data_new/test/images/fish_004605497458_08979.png: 128x128 1 4, 7.7ms\n",
      "image 4067/4118 /home/anderste/ikt450-deep-neural-networks/DNN-prosjekt/segmentation_data_new/test/images/fish_004605497458_13649.png: 128x128 1 4, 8.3ms\n",
      "image 4068/4118 /home/anderste/ikt450-deep-neural-networks/DNN-prosjekt/segmentation_data_new/test/images/fish_004653273557_16891.png: 128x128 1 2, 1 3, 8.0ms\n",
      "image 4069/4118 /home/anderste/ikt450-deep-neural-networks/DNN-prosjekt/segmentation_data_new/test/images/fish_004653333557_16806.png: 128x128 1 3, 8.2ms\n",
      "image 4070/4118 /home/anderste/ikt450-deep-neural-networks/DNN-prosjekt/segmentation_data_new/test/images/fish_004654053557_17160.png: 128x128 1 2, 8.7ms\n",
      "image 4071/4118 /home/anderste/ikt450-deep-neural-networks/DNN-prosjekt/segmentation_data_new/test/images/fish_004654123557_14244.png: 128x128 1 3, 9.9ms\n",
      "image 4072/4118 /home/anderste/ikt450-deep-neural-networks/DNN-prosjekt/segmentation_data_new/test/images/fish_004654173557_16888.png: 128x128 1 3, 7.7ms\n",
      "image 4073/4118 /home/anderste/ikt450-deep-neural-networks/DNN-prosjekt/segmentation_data_new/test/images/fish_004656833558_09704.png: 128x128 1 2, 8.6ms\n",
      "image 4074/4118 /home/anderste/ikt450-deep-neural-networks/DNN-prosjekt/segmentation_data_new/test/images/fish_004656983558_22915.png: 128x128 1 3, 7.9ms\n",
      "image 4075/4118 /home/anderste/ikt450-deep-neural-networks/DNN-prosjekt/segmentation_data_new/test/images/fish_004657603558_10134.png: 128x128 1 3, 10.3ms\n",
      "image 4076/4118 /home/anderste/ikt450-deep-neural-networks/DNN-prosjekt/segmentation_data_new/test/images/fish_004657813558_10164.png: 128x128 1 3, 7.8ms\n",
      "image 4077/4118 /home/anderste/ikt450-deep-neural-networks/DNN-prosjekt/segmentation_data_new/test/images/fish_004658283558_09786.png: 128x128 1 2, 1 3, 7.7ms\n",
      "image 4078/4118 /home/anderste/ikt450-deep-neural-networks/DNN-prosjekt/segmentation_data_new/test/images/fish_004661483561_17062.png: 128x128 1 2, 9.2ms\n",
      "image 4079/4118 /home/anderste/ikt450-deep-neural-networks/DNN-prosjekt/segmentation_data_new/test/images/fish_004664303562_16829.png: 128x128 1 3, 7.6ms\n",
      "image 4080/4118 /home/anderste/ikt450-deep-neural-networks/DNN-prosjekt/segmentation_data_new/test/images/fish_004665453562_17711.png: 128x128 1 3, 8.2ms\n",
      "image 4081/4118 /home/anderste/ikt450-deep-neural-networks/DNN-prosjekt/segmentation_data_new/test/images/fish_004707263564_17156.png: 128x128 1 2, 9.0ms\n",
      "image 4082/4118 /home/anderste/ikt450-deep-neural-networks/DNN-prosjekt/segmentation_data_new/test/images/fish_004713953565_10385.png: 128x128 1 3, 7.6ms\n",
      "image 4083/4118 /home/anderste/ikt450-deep-neural-networks/DNN-prosjekt/segmentation_data_new/test/images/fish_004714483565_10882.png: 128x128 1 1, 8.2ms\n",
      "image 4084/4118 /home/anderste/ikt450-deep-neural-networks/DNN-prosjekt/segmentation_data_new/test/images/fish_342161527701_11670.png: 128x128 1 1, 8.5ms\n",
      "image 4085/4118 /home/anderste/ikt450-deep-neural-networks/DNN-prosjekt/segmentation_data_new/test/images/fish_342161527704_20026.png: 128x128 1 3, 8.0ms\n",
      "image 4086/4118 /home/anderste/ikt450-deep-neural-networks/DNN-prosjekt/segmentation_data_new/test/images/fish_342789528803_22135.png: 128x128 1 3, 9.1ms\n",
      "image 4087/4118 /home/anderste/ikt450-deep-neural-networks/DNN-prosjekt/segmentation_data_new/test/images/fish_342789528803_23843.png: 128x128 1 3, 7.7ms\n",
      "image 4088/4118 /home/anderste/ikt450-deep-neural-networks/DNN-prosjekt/segmentation_data_new/test/images/fish_343119529103_16936.png: 128x128 1 3, 7.6ms\n",
      "image 4089/4118 /home/anderste/ikt450-deep-neural-networks/DNN-prosjekt/segmentation_data_new/test/images/fish_343119529103_16937.png: 128x128 1 3, 8.7ms\n",
      "image 4090/4118 /home/anderste/ikt450-deep-neural-networks/DNN-prosjekt/segmentation_data_new/test/images/fish_344736530501_26968.png: 128x128 1 1, 7.7ms\n",
      "image 4091/4118 /home/anderste/ikt450-deep-neural-networks/DNN-prosjekt/segmentation_data_new/test/images/fish_344736530503_22372.png: 128x128 1 3, 8.6ms\n",
      "image 4092/4118 /home/anderste/ikt450-deep-neural-networks/DNN-prosjekt/segmentation_data_new/test/images/fish_348420535905_22192.png: 128x128 1 5, 7.6ms\n",
      "image 4093/4118 /home/anderste/ikt450-deep-neural-networks/DNN-prosjekt/segmentation_data_new/test/images/fish_357683553403_12404.png: 128x128 1 3, 7.7ms\n",
      "image 4094/4118 /home/anderste/ikt450-deep-neural-networks/DNN-prosjekt/segmentation_data_new/test/images/fish_365159572803_18004.png: 128x128 1 3, 9.9ms\n",
      "image 4095/4118 /home/anderste/ikt450-deep-neural-networks/DNN-prosjekt/segmentation_data_new/test/images/fish_365159572803_22778.png: 128x128 1 3, 7.8ms\n",
      "image 4096/4118 /home/anderste/ikt450-deep-neural-networks/DNN-prosjekt/segmentation_data_new/test/images/fish_376462599703_09509.png: 128x128 1 2, 8.0ms\n",
      "image 4097/4118 /home/anderste/ikt450-deep-neural-networks/DNN-prosjekt/segmentation_data_new/test/images/fish_376462599703_23664.png: 128x128 1 2, 8.3ms\n",
      "image 4098/4118 /home/anderste/ikt450-deep-neural-networks/DNN-prosjekt/segmentation_data_new/test/images/fish_379176607509_09658.png: 96x128 (no detections), 10.6ms\n",
      "image 4099/4118 /home/anderste/ikt450-deep-neural-networks/DNN-prosjekt/segmentation_data_new/test/images/fish_380939611403_15481.png: 128x128 1 3, 9.1ms\n",
      "image 4100/4118 /home/anderste/ikt450-deep-neural-networks/DNN-prosjekt/segmentation_data_new/test/images/fish_380939611403_21951.png: 128x128 1 3, 8.5ms\n",
      "image 4101/4118 /home/anderste/ikt450-deep-neural-networks/DNN-prosjekt/segmentation_data_new/test/images/fish_380939611403_27228.png: 128x128 1 3, 7.7ms\n",
      "image 4102/4118 /home/anderste/ikt450-deep-neural-networks/DNN-prosjekt/segmentation_data_new/test/images/fish_408616671301_18936.png: 128x128 1 0, 1 1, 9.4ms\n",
      "image 4103/4118 /home/anderste/ikt450-deep-neural-networks/DNN-prosjekt/segmentation_data_new/test/images/fish_408616671304_19883.png: 128x128 1 3, 7.6ms\n",
      "image 4104/4118 /home/anderste/ikt450-deep-neural-networks/DNN-prosjekt/segmentation_data_new/test/images/fish_421392689003_27117.png: 128x128 1 3, 8.2ms\n",
      "image 4105/4118 /home/anderste/ikt450-deep-neural-networks/DNN-prosjekt/segmentation_data_new/test/images/fish_421423689003_22812.png: 128x128 1 3, 8.8ms\n",
      "image 4106/4118 /home/anderste/ikt450-deep-neural-networks/DNN-prosjekt/segmentation_data_new/test/images/fish_421467689003_22450.png: 128x128 1 3, 7.7ms\n",
      "image 4107/4118 /home/anderste/ikt450-deep-neural-networks/DNN-prosjekt/segmentation_data_new/test/images/fish_422383690603_15224.png: 128x128 1 3, 10.0ms\n",
      "image 4108/4118 /home/anderste/ikt450-deep-neural-networks/DNN-prosjekt/segmentation_data_new/test/images/fish_422661691301_14456.png: 128x128 1 1, 8.3ms\n",
      "image 4109/4118 /home/anderste/ikt450-deep-neural-networks/DNN-prosjekt/segmentation_data_new/test/images/fish_422676691303_27286.png: 128x128 1 3, 7.8ms\n",
      "image 4110/4118 /home/anderste/ikt450-deep-neural-networks/DNN-prosjekt/segmentation_data_new/test/images/fish_423260691803_15391.png: 128x128 1 3, 7.7ms\n",
      "image 4111/4118 /home/anderste/ikt450-deep-neural-networks/DNN-prosjekt/segmentation_data_new/test/images/fish_435464708705_12975.png: 128x128 1 5, 7.7ms\n",
      "image 4112/4118 /home/anderste/ikt450-deep-neural-networks/DNN-prosjekt/segmentation_data_new/test/images/fish_435464708705_25944.png: 128x128 1 5, 7.6ms\n",
      "image 4113/4118 /home/anderste/ikt450-deep-neural-networks/DNN-prosjekt/segmentation_data_new/test/images/fish_435464708706_24971.png: 128x128 1 5, 1 6, 7.7ms\n",
      "image 4114/4118 /home/anderste/ikt450-deep-neural-networks/DNN-prosjekt/segmentation_data_new/test/images/fish_443757719203_09970.png: 128x128 1 3, 7.6ms\n",
      "image 4115/4118 /home/anderste/ikt450-deep-neural-networks/DNN-prosjekt/segmentation_data_new/test/images/fish_450284728603_15206.png: 128x128 1 3, 7.7ms\n",
      "image 4116/4118 /home/anderste/ikt450-deep-neural-networks/DNN-prosjekt/segmentation_data_new/test/images/fish_453570735603_19794.png: 128x128 1 3, 7.8ms\n",
      "image 4117/4118 /home/anderste/ikt450-deep-neural-networks/DNN-prosjekt/segmentation_data_new/test/images/fish_455992738602_12203.png: 128x128 1 2, 7.6ms\n",
      "image 4118/4118 /home/anderste/ikt450-deep-neural-networks/DNN-prosjekt/segmentation_data_new/test/images/fish_465338355703_20714.png: 128x128 1 3, 7.8ms\n",
      "Speed: 0.3ms preprocess, 7.9ms inference, 2.1ms postprocess per image at shape (1, 3, 128, 128)\n"
     ]
    }
   ],
   "source": [
    "%matplotlib inline\n",
    "\n",
    "import os\n",
    "import cv2\n",
    "import numpy as np\n",
    "from ultralytics import YOLO\n",
    "import matplotlib.pyplot as plt\n",
    "import matplotlib.cm as cm\n",
    "import json\n",
    "import urllib.request\n",
    "import yaml\n",
    "\n",
    "# File paths for training, validation, and test images\n",
    "test_images_path = \"./yolov8_data/test/images\"\n",
    "\n",
    "segmentation_yaml = \"./segmentation.yaml\"\n",
    "\n",
    "# Load YOLO models with pretrained weights\n",
    "segmentation_model_path = \"weights/yolov8n-seg.pt\"\n",
    "\n",
    "segmentation = YOLO(segmentation_model_path)\n",
    "\n",
    "# Train the YOLO model\n",
    "epochs = 100\n",
    "learning_rate = 0.0001\n",
    "\n",
    "print(f\"Starting training with YAML: {segmentation_yaml}\")\n",
    "segmentation_results = segmentation.train(data=segmentation_yaml, epochs=epochs, lr0=learning_rate, batch=120, imgsz=128)\n",
    "\n",
    "# Perform predictions on the test images\n",
    "segmentation_prediction_results = segmentation.predict(test_images_path, imgsz=128)"
   ]
  }
 ],
 "metadata": {
  "kernelspec": {
   "display_name": "Python 3 (ipykernel)",
   "language": "python",
   "name": "python3"
  },
  "language_info": {
   "codemirror_mode": {
    "name": "ipython",
    "version": 3
   },
   "file_extension": ".py",
   "mimetype": "text/x-python",
   "name": "python",
   "nbconvert_exporter": "python",
   "pygments_lexer": "ipython3",
   "version": "3.10.12"
  }
 },
 "nbformat": 4,
 "nbformat_minor": 5
}
