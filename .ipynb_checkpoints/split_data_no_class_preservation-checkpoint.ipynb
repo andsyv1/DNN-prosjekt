{
 "cells": [
  {
   "cell_type": "code",
   "execution_count": 1,
   "id": "ae757468-97a0-4a83-b013-fc61487548c4",
   "metadata": {},
   "outputs": [
    {
     "name": "stdout",
     "output_type": "stream",
     "text": [
      "Data successfully split into training, validation, and testing sets.\n"
     ]
    }
   ],
   "source": [
    "import os\n",
    "import shutil\n",
    "from sklearn.model_selection import train_test_split\n",
    "\n",
    "def split_data_no_classes(original_folder, output_folder, train_size=0.7, val_size=0.15, test_size=0.15):\n",
    "    \"\"\"\n",
    "    Splits data into training, validation, and testing sets when there are no class subfolders.\n",
    "\n",
    "    Parameters:\n",
    "    - original_folder: Path to the original dataset folder.\n",
    "    - output_folder: Path to the output folder where the splits will be stored.\n",
    "    - train_size: Proportion of data to include in the training set.\n",
    "    - val_size: Proportion of data to include in the validation set.\n",
    "    - test_size: Proportion of data to include in the testing set.\n",
    "\n",
    "    The sum of train_size, val_size, and test_size must equal 1.0.\n",
    "    \"\"\"\n",
    "    # Ensure the split sizes sum to 1.0\n",
    "    assert abs(train_size + val_size + test_size - 1.0) < 1e-6, \"Split sizes must sum to 1.0\"\n",
    "\n",
    "    # Create directories for splits\n",
    "    for split in ['train', 'val', 'test']:\n",
    "        split_path = os.path.join(output_folder, split)\n",
    "        os.makedirs(split_path, exist_ok=True)\n",
    "\n",
    "    # Get list of all files in the original folder\n",
    "    files = [f for f in os.listdir(original_folder) if os.path.isfile(os.path.join(original_folder, f))]\n",
    "    file_paths = [os.path.join(original_folder, f) for f in files]\n",
    "\n",
    "    # Split files for test set\n",
    "    train_val_files, test_files = train_test_split(\n",
    "        file_paths, test_size=test_size, random_state=42\n",
    "    )\n",
    "    # Further split for validation set\n",
    "    train_files, val_files = train_test_split(\n",
    "        train_val_files, test_size=val_size / (train_size + val_size), random_state=42\n",
    "    )\n",
    "\n",
    "    # Copy files to respective folders\n",
    "    for src in train_files:\n",
    "        dst = os.path.join(output_folder, 'train', 'labels', os.path.basename(src))\n",
    "        shutil.copyfile(src, dst)\n",
    "    for src in val_files:\n",
    "        dst = os.path.join(output_folder, 'val', 'labels', os.path.basename(src))\n",
    "        shutil.copyfile(src, dst)\n",
    "    for src in test_files:\n",
    "        dst = os.path.join(output_folder, 'test', 'labels', os.path.basename(src))\n",
    "        shutil.copyfile(src, dst)\n",
    "\n",
    "    print(\"Data successfully split into training, validation, and testing sets.\")\n",
    "\n",
    "# Replace these paths with your actual paths\n",
    "original_folder = './fish4knowledge_copy/labels'      # Path to your original dataset folder\n",
    "output_folder = './fish4knowledge_copy/'   # Path where you want the splits to be stored\n",
    "\n",
    "# Call the function with default split sizes (70% train, 15% val, 15% test)\n",
    "split_data_no_classes(original_folder, output_folder)"
   ]
  },
  {
   "cell_type": "code",
   "execution_count": null,
   "id": "5e1cce40-c4f8-4763-84de-57a58f13a9f7",
   "metadata": {},
   "outputs": [],
   "source": []
  }
 ],
 "metadata": {
  "kernelspec": {
   "display_name": "Python 3 (ipykernel)",
   "language": "python",
   "name": "python3"
  },
  "language_info": {
   "codemirror_mode": {
    "name": "ipython",
    "version": 3
   },
   "file_extension": ".py",
   "mimetype": "text/x-python",
   "name": "python",
   "nbconvert_exporter": "python",
   "pygments_lexer": "ipython3",
   "version": "3.10.12"
  }
 },
 "nbformat": 4,
 "nbformat_minor": 5
}
