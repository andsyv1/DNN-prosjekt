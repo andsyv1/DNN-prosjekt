{
 "cells": [
  {
   "cell_type": "code",
   "execution_count": 1,
   "id": "17584f2a-8e8a-4f3a-9cb0-fbd49c78f9dc",
   "metadata": {},
   "outputs": [
    {
     "ename": "FileNotFoundError",
     "evalue": "[Errno 2] No such file or directory: './mask_image/mask_01/'",
     "output_type": "error",
     "traceback": [
      "\u001b[0;31m---------------------------------------------------------------------------\u001b[0m",
      "\u001b[0;31mFileNotFoundError\u001b[0m                         Traceback (most recent call last)",
      "Cell \u001b[0;32mIn[1], line 70\u001b[0m\n\u001b[1;32m     67\u001b[0m \u001b[38;5;66;03m# Class index for the object\u001b[39;00m\n\u001b[1;32m     68\u001b[0m class_index \u001b[38;5;241m=\u001b[39m i  \u001b[38;5;66;03m# Adjust according to your class indexing\u001b[39;00m\n\u001b[0;32m---> 70\u001b[0m \u001b[43mprocess_mask_images\u001b[49m\u001b[43m(\u001b[49m\u001b[43mmask_images_dir\u001b[49m\u001b[43m,\u001b[49m\u001b[43m \u001b[49m\u001b[43moutput_dir\u001b[49m\u001b[43m,\u001b[49m\u001b[43m \u001b[49m\u001b[43mclass_index\u001b[49m\u001b[43m)\u001b[49m\n",
      "Cell \u001b[0;32mIn[1], line 52\u001b[0m, in \u001b[0;36mprocess_mask_images\u001b[0;34m(mask_images_dir, output_dir, class_index)\u001b[0m\n\u001b[1;32m     50\u001b[0m \u001b[38;5;28;01mif\u001b[39;00m \u001b[38;5;129;01mnot\u001b[39;00m os\u001b[38;5;241m.\u001b[39mpath\u001b[38;5;241m.\u001b[39mexists(output_dir):\n\u001b[1;32m     51\u001b[0m     os\u001b[38;5;241m.\u001b[39mmakedirs(output_dir)\n\u001b[0;32m---> 52\u001b[0m mask_images \u001b[38;5;241m=\u001b[39m [f \u001b[38;5;28;01mfor\u001b[39;00m f \u001b[38;5;129;01min\u001b[39;00m \u001b[43mos\u001b[49m\u001b[38;5;241;43m.\u001b[39;49m\u001b[43mlistdir\u001b[49m\u001b[43m(\u001b[49m\u001b[43mmask_images_dir\u001b[49m\u001b[43m)\u001b[49m \u001b[38;5;28;01mif\u001b[39;00m f\u001b[38;5;241m.\u001b[39mendswith(\u001b[38;5;124m'\u001b[39m\u001b[38;5;124m.png\u001b[39m\u001b[38;5;124m'\u001b[39m) \u001b[38;5;129;01mor\u001b[39;00m f\u001b[38;5;241m.\u001b[39mendswith(\u001b[38;5;124m'\u001b[39m\u001b[38;5;124m.jpg\u001b[39m\u001b[38;5;124m'\u001b[39m)]\n\u001b[1;32m     53\u001b[0m \u001b[38;5;28;01mfor\u001b[39;00m mask_image_name \u001b[38;5;129;01min\u001b[39;00m mask_images:\n\u001b[1;32m     54\u001b[0m     mask_image_path \u001b[38;5;241m=\u001b[39m os\u001b[38;5;241m.\u001b[39mpath\u001b[38;5;241m.\u001b[39mjoin(mask_images_dir, mask_image_name)\n",
      "\u001b[0;31mFileNotFoundError\u001b[0m: [Errno 2] No such file or directory: './mask_image/mask_01/'"
     ]
    }
   ],
   "source": [
    "import os\n",
    "from PIL import Image\n",
    "import numpy as np\n",
    "from skimage import measure\n",
    "\n",
    "def process_mask_image(mask_image_path, output_txt_path, class_index):\n",
    "    # Open the mask image and convert to grayscale\n",
    "    mask_image = Image.open(mask_image_path).convert('L')\n",
    "    width, height = mask_image.size\n",
    "\n",
    "    # Convert the mask to a binary array\n",
    "    mask_array = np.array(mask_image)\n",
    "\n",
    "    # Threshold the mask to binary\n",
    "    mask_array = (mask_array > 128).astype(np.uint8)\n",
    "\n",
    "    # Find contours\n",
    "    contours = measure.find_contours(mask_array, 0.5)\n",
    "\n",
    "    with open(output_txt_path, 'w') as f:\n",
    "        for contour in contours:\n",
    "            if len(contour) < 6:\n",
    "                # Ignore small contours that can't form a polygon\n",
    "                continue\n",
    "\n",
    "            # Flip (row, col) to (x, y)\n",
    "            contour = np.flip(contour, axis=1)\n",
    "\n",
    "            # Simplify the contour if necessary (optional)\n",
    "            # Uncomment the following lines to simplify the contour\n",
    "            # from shapely.geometry import Polygon\n",
    "            # polygon = Polygon(contour)\n",
    "            # polygon = polygon.simplify(0.005, preserve_topology=False)\n",
    "            # xs, ys = polygon.exterior.coords.xy\n",
    "            # contour = np.column_stack((xs, ys))\n",
    "\n",
    "            # Normalize contour coordinates\n",
    "            xs = contour[:, 0] / width\n",
    "            ys = contour[:, 1] / height\n",
    "\n",
    "            # Flatten the normalized coordinates\n",
    "            contour_coords = np.column_stack((xs, ys)).ravel().tolist()\n",
    "\n",
    "            # Build the line to write in the format:\n",
    "            # <class-index> <x1> <y1> <x2> <y2> ... <xn> <yn>\n",
    "            line = f\"{class_index} \" + ' '.join(map(str, contour_coords))\n",
    "            f.write(line + '\\n')\n",
    "\n",
    "def process_mask_images(mask_images_dir, output_dir, class_index=0):\n",
    "    if not os.path.exists(output_dir):\n",
    "        os.makedirs(output_dir)\n",
    "    mask_images = [f for f in os.listdir(mask_images_dir) if f.endswith('.png') or f.endswith('.jpg')]\n",
    "    for mask_image_name in mask_images:\n",
    "        mask_image_path = os.path.join(mask_images_dir, mask_image_name)\n",
    "        output_txt_name = os.path.splitext(mask_image_name)[0] + '.txt'\n",
    "        output_txt_path = os.path.join(output_dir, output_txt_name)\n",
    "        process_mask_image(mask_image_path, output_txt_path, class_index)\n",
    "\n",
    "\n",
    "for i in range(1, 24):\n",
    "    # Directory containing the mask images\n",
    "    mask_images_dir = f'./fish4knowledge/labels/mask_{f\"0{i}\" if i < 10 else i}/'\n",
    "    \n",
    "    # Directory where the annotation .txt files will be saved\n",
    "    output_dir = './fish4knowledge_copy/labels/'\n",
    "    \n",
    "    # Class index for the object\n",
    "    class_index = i  # Adjust according to your class indexing\n",
    "    \n",
    "    process_mask_images(mask_images_dir, output_dir, class_index)\n"
   ]
  },
  {
   "cell_type": "code",
   "execution_count": null,
   "id": "dc35170c-bce8-4bca-b247-78fa68a3f5e5",
   "metadata": {},
   "outputs": [],
   "source": []
  }
 ],
 "metadata": {
  "kernelspec": {
   "display_name": "Python 3 (ipykernel)",
   "language": "python",
   "name": "python3"
  },
  "language_info": {
   "codemirror_mode": {
    "name": "ipython",
    "version": 3
   },
   "file_extension": ".py",
   "mimetype": "text/x-python",
   "name": "python",
   "nbconvert_exporter": "python",
   "pygments_lexer": "ipython3",
   "version": "3.10.12"
  }
 },
 "nbformat": 4,
 "nbformat_minor": 5
}
